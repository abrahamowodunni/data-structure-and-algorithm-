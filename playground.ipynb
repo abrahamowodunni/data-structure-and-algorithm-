{
 "cells": [
  {
   "cell_type": "code",
   "execution_count": 1,
   "id": "eaa7859d-4e67-4faa-a8a0-a2b04afb2be4",
   "metadata": {},
   "outputs": [
    {
     "name": "stdin",
     "output_type": "stream",
     "text": [
      " 3\n",
      " 4\n"
     ]
    },
    {
     "name": "stdout",
     "output_type": "stream",
     "text": [
      "7\n"
     ]
    }
   ],
   "source": [
    "a = int(input())\n",
    "b = int(input())\n",
    "\n",
    "print(a+b)"
   ]
  },
  {
   "cell_type": "code",
   "execution_count": 2,
   "id": "d1380f16-b486-4e01-91a8-1f3fc7cf6b56",
   "metadata": {},
   "outputs": [
    {
     "name": "stdin",
     "output_type": "stream",
     "text": [
      " 2 4\n"
     ]
    },
    {
     "name": "stdout",
     "output_type": "stream",
     "text": [
      "6\n"
     ]
    }
   ],
   "source": [
    "def sumofnum(a,b):\n",
    "    return a + b\n",
    "\n",
    "if __name__ == '__main__':\n",
    "    a, b = map(int, input().split())\n",
    "    print(sumofnum(a, b))"
   ]
  },
  {
   "cell_type": "code",
   "execution_count": 7,
   "id": "f5688fd2-5a0e-45d1-b85b-048d9226dbe7",
   "metadata": {},
   "outputs": [
    {
     "name": "stdin",
     "output_type": "stream",
     "text": [
      " 10\n",
      " 3 4 5 \n"
     ]
    },
    {
     "name": "stdout",
     "output_type": "stream",
     "text": [
      "20\n"
     ]
    }
   ],
   "source": [
    "def max_pairwise_product(numbers):\n",
    "    n = len(numbers)\n",
    "    max_product = 0\n",
    "    for first in range(n):\n",
    "        for second in range(first + 1, n):\n",
    "            max_product = max(max_product,\n",
    "                numbers[first] * numbers[second])\n",
    "\n",
    "    return max_product\n",
    "\n",
    "\n",
    "if __name__ == '__main__':\n",
    "    _ = int(input())\n",
    "    input_numbers = list(map(int, input().split()))\n",
    "    print(max_pairwise_product(input_numbers))\n"
   ]
  },
  {
   "cell_type": "code",
   "execution_count": 12,
   "id": "8642d65f-a475-4219-a71e-0f43a642ac01",
   "metadata": {},
   "outputs": [
    {
     "name": "stdin",
     "output_type": "stream",
     "text": [
      "Number in seq:  4\n",
      " 1\n",
      " 2\n",
      " 3\n",
      " 4\n"
     ]
    },
    {
     "data": {
      "text/plain": [
       "12"
      ]
     },
     "execution_count": 12,
     "metadata": {},
     "output_type": "execute_result"
    }
   ],
   "source": [
    "def maxpairwiseproduct(n = int(input('Number in seq: '))):\n",
    "    data = []\n",
    "\n",
    "    for i in range(0,n):\n",
    "        num = int(input())\n",
    "        data.append(num)\n",
    "        \n",
    "    max_product = float('-inf')\n",
    "    for element in data:\n",
    "        for j in data:\n",
    "            if element != j:\n",
    "                current_product = element*j\n",
    "    return max(max_product, current_product)\n",
    "\n",
    "\n",
    "maxpairwiseproduct()    "
   ]
  },
  {
   "cell_type": "code",
   "execution_count": 17,
   "id": "c5aaef71-c4a5-4d02-b992-b56b3bf8ef94",
   "metadata": {},
   "outputs": [
    {
     "data": {
      "text/plain": [
       "10000000000000000000000000000000000000000000000000000"
      ]
     },
     "execution_count": 17,
     "metadata": {},
     "output_type": "execute_result"
    }
   ],
   "source": [
    "def pairwise(arr):\n",
    "    max1, max2 = float('-inf'),float('-inf')\n",
    "\n",
    "    for num in arr:\n",
    "        if num > max1:\n",
    "            max2 = max1\n",
    "            max1 = num\n",
    "        elif num > max2:\n",
    "            max2 = num\n",
    "\n",
    "    return max1*max2\n",
    "\n",
    "dt = [100000000000000000000000000,100000000000000000000000000]\n",
    "pairwise(dt)"
   ]
  },
  {
   "cell_type": "code",
   "execution_count": 2,
   "id": "3e130191-0481-44ef-a777-952b2b40f061",
   "metadata": {},
   "outputs": [
    {
     "data": {
      "text/plain": [
       "-inf"
      ]
     },
     "execution_count": 2,
     "metadata": {},
     "output_type": "execute_result"
    }
   ],
   "source": [
    "m = float('-inf')\n",
    "m"
   ]
  },
  {
   "cell_type": "code",
   "execution_count": 11,
   "id": "80e35158-ee5d-4ff4-9cc6-255668ec4c0f",
   "metadata": {},
   "outputs": [
    {
     "data": {
      "text/plain": [
       "30"
      ]
     },
     "execution_count": 11,
     "metadata": {},
     "output_type": "execute_result"
    }
   ],
   "source": [
    "a = [1,3,5,6,4,3]\n",
    "\n",
    "max_1 = 0\n",
    "max_2 = 0\n",
    "for i in a:\n",
    "    if i > max_1:\n",
    "        max_1 = i\n",
    "for j in a:\n",
    "    if max_2 < j < max_1:\n",
    "        max_2 = j\n",
    "        \n",
    "max_1*max_2\n",
    "    "
   ]
  },
  {
   "cell_type": "code",
   "execution_count": 32,
   "id": "c1857560-b7c2-4a61-a7d2-82cbb49db7a2",
   "metadata": {},
   "outputs": [
    {
     "data": {
      "text/plain": [
       "30"
      ]
     },
     "execution_count": 32,
     "metadata": {},
     "output_type": "execute_result"
    }
   ],
   "source": [
    "def pairwisefast(arr):\n",
    "    max_1,max_2 = 0, 0\n",
    "\n",
    "    for i in arr:\n",
    "        if i > max_1:\n",
    "            max_1 = i\n",
    "    for j in arr:\n",
    "        if max_2 < j < max_1:\n",
    "            max_2 = j\n",
    "    return max_1*max_2\n",
    "\n",
    "pairwisefast(a)"
   ]
  },
  {
   "cell_type": "code",
   "execution_count": 18,
   "id": "25bfc630-d075-4a68-a91f-aabc6e312510",
   "metadata": {},
   "outputs": [
    {
     "name": "stdin",
     "output_type": "stream",
     "text": [
      " 4\n",
      " 1\n"
     ]
    },
    {
     "name": "stdout",
     "output_type": "stream",
     "text": [
      "0\n"
     ]
    }
   ],
   "source": [
    "def pairwisefast(number):\n",
    "    \n",
    "    max_1,max_2 = 0, 0\n",
    "    for i in number:\n",
    "        if i > max_1:\n",
    "            max_1 = i\n",
    "    for j in number:\n",
    "        if max_2 < j < max_1:\n",
    "            max_2 = j\n",
    "    return max_1*max_2\n",
    "\n",
    "\n",
    "if __name__ == '__main__':\n",
    "    _ = int(input())\n",
    "    input_numbers = list(map(int, input().split()))\n",
    "    result = pairwisefast(input_numbers)\n",
    "    print(result)"
   ]
  },
  {
   "cell_type": "code",
   "execution_count": 19,
   "id": "ed70ba89-25f3-469c-a3d0-c05e8d24a416",
   "metadata": {},
   "outputs": [
    {
     "name": "stdin",
     "output_type": "stream",
     "text": [
      " 4\n",
      " 1\n"
     ]
    },
    {
     "name": "stdout",
     "output_type": "stream",
     "text": [
      "0\n"
     ]
    }
   ],
   "source": [
    "def max_pairwise_product(numbers):\n",
    "    max_1, max_2 = 0, 0\n",
    "\n",
    "    for i in numbers:\n",
    "        if i > max_1:\n",
    "            max_1 = i\n",
    "    for j in numbers:\n",
    "        if max_2 < j < max_1:\n",
    "            max_2 = j\n",
    "    return max_1 * max_2\n",
    "\n",
    "if __name__ == '__main__':\n",
    "    _ = int(input())\n",
    "    input_numbers = list(map(int, input().split()))\n",
    "    result = max_pairwise_product(input_numbers)\n",
    "    print(result)\n"
   ]
  },
  {
   "cell_type": "code",
   "execution_count": 36,
   "id": "a3dd13e5-8891-414f-be22-3787c4d5f6a2",
   "metadata": {},
   "outputs": [
    {
     "name": "stdin",
     "output_type": "stream",
     "text": [
      " 2\n",
      " 100000 90000\n"
     ]
    },
    {
     "name": "stdout",
     "output_type": "stream",
     "text": [
      "9000000000\n"
     ]
    }
   ],
   "source": [
    "def pairwisefast(arr):\n",
    "    max_1, max_2 = 0, 0\n",
    "\n",
    "    for i in arr:\n",
    "        if i > max_1:\n",
    "            max_2 = max_1\n",
    "            max_1 = i\n",
    "        elif i > max_2:\n",
    "            max_2 = i\n",
    "\n",
    "    return max_1 * max_2\n",
    "\n",
    "if __name__ == '__main__':\n",
    "    _ = int(input())\n",
    "    arr = list(map(int, input().split()))\n",
    "    result = pairwisefast(arr)\n",
    "    print(result)"
   ]
  },
  {
   "cell_type": "code",
   "execution_count": 40,
   "id": "e56e7c33-b370-4231-8c15-d093f87c59f0",
   "metadata": {},
   "outputs": [
    {
     "name": "stdout",
     "output_type": "stream",
     "text": [
      "[46336, 99460, 85194, 34478]\n",
      "OK\n",
      "[81134, 5736, 94952]\n",
      "OK\n",
      "[22647, 84016, 23854]\n",
      "OK\n",
      "[95422, 19166, 43755, 37195, 32983, 55511]\n",
      "OK\n",
      "[42852, 92183, 71897, 24943, 29187, 76913]\n",
      "OK\n",
      "[78529, 57347]\n",
      "OK\n",
      "[11445, 1562, 84468, 78872, 39459]\n",
      "OK\n",
      "[82145, 19364, 95543]\n",
      "OK\n",
      "[82296, 25314, 7556, 11205]\n",
      "OK\n",
      "[47874, 30532, 56109, 81127, 94199, 31254, 12649, 26276, 84293]\n",
      "OK\n",
      "[9395, 30665, 86033, 79142, 83622, 85011]\n",
      "OK\n",
      "[99540, 20155, 6691, 70183, 13656, 83703, 29055, 71524, 6460]\n",
      "OK\n",
      "[66781, 39780, 77675, 54144, 26580, 38522, 44607]\n",
      "OK\n",
      "[6929, 53383, 88905, 11820, 96448, 15911, 15432, 51587]\n",
      "OK\n",
      "[15989, 41342, 36142, 9553, 94125, 4644, 41401, 80834, 96618]\n",
      "OK\n",
      "[63207, 43388, 87143]\n",
      "OK\n",
      "[7316, 33470, 64638, 25142, 38011, 43337, 81174, 6159]\n",
      "OK\n",
      "[56759, 62212, 45192, 87995, 48272, 52968, 60746]\n",
      "OK\n",
      "[57533, 52635, 92487]\n",
      "OK\n",
      "[80991, 49784]\n",
      "OK\n",
      "[84952, 94870, 16802, 59280, 46049, 78564, 37774]\n",
      "OK\n",
      "[49426, 35210, 97120, 40181, 92866, 92701, 11277]\n",
      "OK\n",
      "[11403, 77444, 56274, 7166, 72981]\n",
      "OK\n",
      "[73348, 14417]\n",
      "OK\n",
      "[98536, 38243, 59861, 33618]\n",
      "OK\n",
      "[8777, 3029, 92659, 71094, 44882, 100, 86742, 65395, 25243, 42346]\n",
      "OK\n",
      "[92308, 57533, 93450, 60919, 55678, 52840, 66406, 3288, 80421]\n",
      "OK\n",
      "[83537, 59372, 95337, 74543, 54355, 10095, 17062]\n",
      "OK\n",
      "[87596, 10935]\n",
      "OK\n",
      "[2626, 4003, 31749, 54505, 6519, 51729, 49510]\n",
      "OK\n",
      "[66059, 11726, 45592, 87740, 91365, 84515, 57176, 46246]\n",
      "OK\n",
      "[15734, 55741, 22914, 66774, 49233, 31832, 79764, 5474]\n",
      "OK\n",
      "[75586, 2398, 16342, 39635]\n",
      "OK\n",
      "[29661, 33145, 85893, 45377, 26837, 21000, 34256, 33908, 36580]\n",
      "OK\n",
      "[76853, 75482, 17738, 67454, 41311, 63063, 66213, 66690, 20946, 46232]\n",
      "OK\n",
      "[2189, 56519, 92432, 32445, 83079]\n",
      "OK\n",
      "[20088, 92373, 94882]\n",
      "OK\n",
      "[60584, 65337, 77253, 38871, 98362, 86630, 44306, 63382]\n",
      "OK\n",
      "[33458, 81608, 92630]\n",
      "OK\n",
      "[52169, 54038, 38871, 61721, 27503, 97730, 39623, 6221, 88932, 65374]\n",
      "OK\n",
      "[90921, 38580, 57563]\n",
      "OK\n",
      "[80470, 90485, 41175, 41596]\n",
      "OK\n",
      "[5998, 33556, 35463, 82778, 37726, 83749, 44104]\n",
      "OK\n",
      "[74015, 26360, 46872, 98469, 15605]\n",
      "OK\n",
      "[82741, 40458, 3854, 55674]\n",
      "OK\n",
      "[81366, 18488, 20639, 93554, 9088, 24875, 89704]\n",
      "OK\n",
      "[99289, 83168, 87842, 23553, 27480, 751, 95476, 92483]\n",
      "OK\n",
      "[31815, 55037]\n",
      "OK\n",
      "[99485, 70831, 35766, 92824, 87254, 39802, 36781, 50593, 19423, 51569]\n",
      "OK\n",
      "[69798, 79430, 98861, 51444, 34848, 29352]\n",
      "OK\n",
      "[74361, 92752, 90229, 88353, 55758, 63949, 85688]\n",
      "OK\n",
      "[12349, 70386, 46885, 83096]\n",
      "OK\n",
      "[8831, 26830, 48827, 87004, 57208]\n",
      "OK\n",
      "[98292, 9640, 92546, 9248, 28867, 87582, 77308, 87476, 1684, 75767]\n",
      "OK\n",
      "[99867, 67116, 85032, 39199, 62933, 68534]\n",
      "OK\n",
      "[97068, 30773, 75129, 92897, 65289, 30235, 96773, 6234, 52443]\n",
      "OK\n",
      "[15605, 40626, 86564, 29361, 38343, 83239, 18517, 62690]\n",
      "OK\n",
      "[88552, 65444, 32525, 49954, 66569, 67416, 95006, 16348, 28043]\n",
      "OK\n",
      "[43216, 55035, 2672, 97867, 81760, 19619, 12725, 89188]\n",
      "OK\n",
      "[4437, 71900, 3689, 2245, 4529, 22067, 4762, 74668]\n",
      "OK\n",
      "[93770, 68692, 4794, 75103, 39270, 25073, 47090, 63256, 5251, 19883]\n",
      "OK\n",
      "[55753, 34144, 79827]\n",
      "OK\n",
      "[5341, 50353]\n",
      "OK\n",
      "[60117, 96282, 34852, 36299, 74404, 66747, 1418]\n",
      "OK\n",
      "[68368, 73624, 52053, 64855, 3678]\n",
      "OK\n",
      "[18904, 49739, 91179]\n",
      "OK\n",
      "[69399, 30940, 90599]\n",
      "OK\n",
      "[56807, 22674, 74121, 17523, 85914, 27537, 26573, 48254, 25422]\n",
      "OK\n",
      "[2239, 72408, 55250]\n",
      "OK\n",
      "[12963, 1972, 73825]\n",
      "OK\n",
      "[40460, 99633]\n",
      "OK\n",
      "[65701, 25631, 79612, 21220]\n",
      "OK\n",
      "[51504, 82557, 70114, 38256, 84677, 9101, 71659, 41978, 40505, 8453]\n",
      "OK\n",
      "[44927, 41367, 41395]\n",
      "OK\n",
      "[36936, 77750, 41503, 13956, 4843, 61594, 42381, 14712, 32351, 52723]\n",
      "OK\n",
      "[2506, 51537, 17436, 81338, 25144, 7917, 21507, 12464]\n",
      "OK\n",
      "[83268, 88747, 85933, 36027, 20151, 59676, 23536]\n",
      "OK\n",
      "[35605, 24043]\n",
      "OK\n",
      "[69573, 13256, 66970]\n",
      "OK\n",
      "[99449, 58539, 21829, 76587]\n",
      "OK\n",
      "[68299, 51210, 34021, 79733, 79158, 80023, 26356, 82094, 13557, 18590]\n",
      "OK\n",
      "[85752, 60858, 68456, 43292, 20471, 22687, 69769, 96504, 85960]\n",
      "OK\n",
      "[51207, 37244, 9422, 77950, 63388, 39629, 28692]\n",
      "OK\n",
      "[37789, 51971, 19926, 38866, 17630, 37226, 88691, 24177, 93442]\n",
      "OK\n",
      "[53835, 421, 31719, 55267, 2919, 85960, 51304, 66583, 87756]\n",
      "OK\n",
      "[20177, 52778, 82151, 15649, 49507]\n",
      "OK\n",
      "[21995, 51797, 73349, 2592, 28994]\n",
      "OK\n",
      "[65133, 77254, 47738]\n",
      "OK\n",
      "[96752, 32803, 96213, 72024, 61476]\n",
      "OK\n",
      "[46682, 98835, 29161, 29002, 39852, 57782, 99780, 16455, 93625]\n",
      "OK\n",
      "[14328, 589, 4626, 64019, 54231, 42906, 95444, 76432, 4248]\n",
      "OK\n",
      "[52420, 56136, 64113, 2097, 17467, 24234]\n",
      "OK\n",
      "[85126, 37669, 84821, 15515]\n",
      "OK\n",
      "[65892, 35728, 66048, 98215]\n",
      "OK\n",
      "[1463, 51320, 51896]\n",
      "OK\n",
      "[55752, 67693, 56227, 9501, 80980]\n",
      "OK\n",
      "[30494, 89331, 28043, 74459, 6688, 80295, 19589]\n",
      "OK\n",
      "[62451, 63793, 48040, 98907, 90319, 53276, 80291]\n",
      "OK\n",
      "[97451, 57069, 32966]\n",
      "OK\n",
      "[23267, 62955, 3815]\n",
      "OK\n"
     ]
    }
   ],
   "source": [
    "import random\n",
    "\n",
    "def pairwise(arr):\n",
    "    max1, max2 = float('-inf'), float('-inf')\n",
    "\n",
    "    for num in arr:\n",
    "        if num > max1:\n",
    "            max2 = max1\n",
    "            max1 = num\n",
    "        elif num > max2:\n",
    "            max2 = num\n",
    "\n",
    "    return max1 * max2\n",
    "\n",
    "def pairwisefast(arr):\n",
    "    max_1, max_2 = float('-inf'), float('-inf')\n",
    "\n",
    "    for i in arr:\n",
    "        if i > max_1:\n",
    "            max_2 = max_1\n",
    "            max_1 = i\n",
    "        elif i > max_2:\n",
    "            max_2 = i\n",
    "\n",
    "    return max_1 * max_2\n",
    "\n",
    "def stress_test(N, M, iterations):\n",
    "    for _ in range(iterations):\n",
    "        n = random.randint(2, N)\n",
    "        A = [random.randint(0, M) for _ in range(n)]\n",
    "\n",
    "        print(A)\n",
    "\n",
    "        result1 = pairwise(A)\n",
    "        result2 = pairwisefast(A)\n",
    "\n",
    "        if result1 == result2:\n",
    "            print(\"OK\")\n",
    "        else:\n",
    "            print(\"Error\")\n",
    "            break  # Stop the loop if an error is found\n",
    "\n",
    "if __name__ == '__main__':\n",
    "    stress_test(10, 100000, 100)  # Run for 10 iterations, you can adjust the number of iterations as needed"
   ]
  },
  {
   "cell_type": "code",
   "execution_count": null,
   "id": "f8002d58-99e3-4451-bac9-09883392a182",
   "metadata": {},
   "outputs": [],
   "source": [
    "def pairwisefast(arr):\n",
    "    max_1, max_2 = float('-inf'), float('-inf')\n",
    "\n",
    "    for i in arr:\n",
    "        if i > max_1:\n",
    "            max_2 = max_1\n",
    "            max_1 = i\n",
    "        elif i > max_2:\n",
    "            max_2 = i\n",
    "\n",
    "    return max_1 * max_2"
   ]
  },
  {
   "cell_type": "markdown",
   "id": "40270b15-8a55-4588-8a04-1c090197b063",
   "metadata": {},
   "source": [
    "## Fibonacci Number"
   ]
  },
  {
   "cell_type": "code",
   "execution_count": 43,
   "id": "f9145ff0-bbba-42de-ac4b-63c3c7999aa4",
   "metadata": {},
   "outputs": [
    {
     "data": {
      "text/plain": [
       "55"
      ]
     },
     "execution_count": 43,
     "metadata": {},
     "output_type": "execute_result"
    }
   ],
   "source": [
    "def fibonacci(n):\n",
    "    if n <= 1:\n",
    "        return n\n",
    "    else:\n",
    "        return fibonacci(n-2) + fibonacci(n-1)\n",
    "\n",
    "fibonacci(10)"
   ]
  },
  {
   "cell_type": "code",
   "execution_count": 50,
   "id": "3a6a50fb-b405-4c3b-8918-db2367ba9e26",
   "metadata": {},
   "outputs": [
    {
     "name": "stdin",
     "output_type": "stream",
     "text": [
      " 0\n"
     ]
    },
    {
     "data": {
      "text/plain": [
       "0"
      ]
     },
     "execution_count": 50,
     "metadata": {},
     "output_type": "execute_result"
    }
   ],
   "source": [
    "def f():\n",
    "    n = int(input())\n",
    "    if n <= 1:\n",
    "        return n\n",
    "\n",
    "f()"
   ]
  },
  {
   "cell_type": "code",
   "execution_count": 52,
   "id": "2f589810-48b7-45d1-bba6-c0b69f98241d",
   "metadata": {},
   "outputs": [
    {
     "name": "stdout",
     "output_type": "stream",
     "text": [
      "n=3, sum=4\n",
      "n=2, sum=3\n",
      "n=1, sum=2\n",
      "Final result: 9\n"
     ]
    }
   ],
   "source": [
    "def fun(n):\n",
    "    if n == 0:\n",
    "        return 0\n",
    "    sum = n + 1\n",
    "    print(f\"n={n}, sum={sum}\")\n",
    "    return sum + fun(n - 1)\n",
    "    \n",
    "\n",
    "result = fun(3)\n",
    "print(f\"Final result: {result}\")"
   ]
  },
  {
   "cell_type": "code",
   "execution_count": 54,
   "id": "c01e0af1-2b25-419a-8a0a-cef3cf37620f",
   "metadata": {},
   "outputs": [
    {
     "name": "stdout",
     "output_type": "stream",
     "text": [
      "n=3\n",
      "n=2\n",
      "n=1\n"
     ]
    }
   ],
   "source": [
    "def fun(n):\n",
    "    if n < 1:\n",
    "        return 0\n",
    "    print(f\"n={n}\")\n",
    "    return fun(n - 1)\n",
    "    \n",
    "\n",
    "result = fun(3)"
   ]
  },
  {
   "cell_type": "code",
   "execution_count": 58,
   "id": "84766170-6ab5-4eff-8f73-0a2a082e039f",
   "metadata": {},
   "outputs": [
    {
     "ename": "SyntaxError",
     "evalue": "invalid syntax (1202800358.py, line 6)",
     "output_type": "error",
     "traceback": [
      "\u001b[1;36m  Cell \u001b[1;32mIn[58], line 6\u001b[1;36m\u001b[0m\n\u001b[1;33m    return value += 1\u001b[0m\n\u001b[1;37m                 ^\u001b[0m\n\u001b[1;31mSyntaxError\u001b[0m\u001b[1;31m:\u001b[0m invalid syntax\n"
     ]
    }
   ],
   "source": [
    "def funn(n):\n",
    "    value = 0\n",
    "    if value == n:\n",
    "        return n\n",
    "    print(f'n = {value}')\n",
    "    return value += funn(n-1)\n",
    "\n",
    "funn(10)"
   ]
  },
  {
   "cell_type": "code",
   "execution_count": 65,
   "id": "4208d74c-ec60-4848-aa4d-2c2e46a4fccc",
   "metadata": {},
   "outputs": [
    {
     "name": "stdout",
     "output_type": "stream",
     "text": [
      "n = 5\n",
      "n = 4\n",
      "n = 3\n",
      "n = 2\n",
      "n = 1\n"
     ]
    }
   ],
   "source": [
    "def lo(n):\n",
    "    if n == 0:\n",
    "        return \n",
    "    print(f'n = {n}')\n",
    "    lo(n - 1)\n",
    "\n",
    "lo(5)"
   ]
  },
  {
   "cell_type": "code",
   "execution_count": 61,
   "id": "2f3bc045-3540-443a-9257-ae45a7906f5b",
   "metadata": {},
   "outputs": [
    {
     "name": "stdout",
     "output_type": "stream",
     "text": [
      "n = 0\n",
      "n = 1\n",
      "n = 2\n",
      "n = 3\n",
      "n = 4\n",
      "n = 5\n",
      "n = 6\n",
      "n = 7\n",
      "n = 8\n",
      "n = 9\n",
      "n = 10\n"
     ]
    },
    {
     "data": {
      "text/plain": [
       "10"
      ]
     },
     "execution_count": 61,
     "metadata": {},
     "output_type": "execute_result"
    }
   ],
   "source": [
    "def funn(n, value=0):\n",
    "    if value == n:\n",
    "        print(f'n = {value}')\n",
    "        return n\n",
    "    else:\n",
    "        print(f'n = {value}')\n",
    "        return funn(n, value + 1)\n",
    "\n",
    "funn(10)\n"
   ]
  },
  {
   "cell_type": "code",
   "execution_count": 75,
   "id": "742fc70a-dce8-4909-889b-a4f106beef78",
   "metadata": {},
   "outputs": [
    {
     "data": {
      "text/plain": [
       "(1, 0)"
      ]
     },
     "execution_count": 75,
     "metadata": {},
     "output_type": "execute_result"
    }
   ],
   "source": [
    "def fib(n):\n",
    "    if n <= 1:\n",
    "        return (n,0)\n",
    "    else:\n",
    "        (a,b) = fib(n-1)\n",
    "        return(a+b,a)\n",
    "\n",
    "fib(2)"
   ]
  },
  {
   "cell_type": "code",
   "execution_count": 76,
   "id": "8282883b-a478-44e7-976b-91d6f25a4aac",
   "metadata": {},
   "outputs": [
    {
     "name": "stdout",
     "output_type": "stream",
     "text": [
      "Calculating fib(2): a=1, b=0\n",
      "Calculating fib(3): a=1, b=1\n",
      "Calculating fib(4): a=2, b=1\n",
      "Calculating fib(5): a=3, b=2\n",
      "Calculating fib(6): a=5, b=3\n",
      "Calculating fib(7): a=8, b=5\n",
      "Calculating fib(8): a=13, b=8\n",
      "Calculating fib(9): a=21, b=13\n",
      "Calculating fib(10): a=34, b=21\n",
      "Result: (55, 34)\n"
     ]
    }
   ],
   "source": [
    "def fib(n):\n",
    "    if n <= 1:\n",
    "        return (n, 0)\n",
    "    else:\n",
    "        (a, b) = fib(n - 1)\n",
    "        print(f\"Calculating fib({n}): a={a}, b={b}\")\n",
    "        return (a + b, a)\n",
    "\n",
    "# Example usage\n",
    "result = fib(10)\n",
    "print(\"Result:\", result)\n"
   ]
  },
  {
   "cell_type": "code",
   "execution_count": null,
   "id": "da60e2ad-6773-4e5b-9074-907e7b7d03b7",
   "metadata": {},
   "outputs": [],
   "source": [
    "def pairwisefast(number):\n",
    "    \n",
    "    max_1,max_2 = 0, 0\n",
    "    for i in number:\n",
    "        if i > max_1:\n",
    "            max_1 = i\n",
    "    for j in number:\n",
    "        if max_2 < j < max_1:\n",
    "            max_2 = j\n",
    "    return max_1*max_2\n",
    "\n",
    "\n",
    "if __name__ == '__main__':\n",
    "    _ = int(input())\n",
    "    input_numbers = list(map(int, input().split()))\n",
    "    result = pairwisefast(input_numbers)\n",
    "    print(result)"
   ]
  },
  {
   "cell_type": "code",
   "execution_count": 106,
   "id": "00471b66-cd9d-4f7f-b15e-b8d3eafb4141",
   "metadata": {},
   "outputs": [
    {
     "name": "stdin",
     "output_type": "stream",
     "text": [
      " 0\n"
     ]
    },
    {
     "name": "stdout",
     "output_type": "stream",
     "text": [
      "1\n"
     ]
    }
   ],
   "source": [
    "def fibonacci(n):\n",
    "    if n <= 1:\n",
    "        return 1\n",
    "    else:\n",
    "        a = fibonacci(n-2) + fibonacci(n - 1)\n",
    "        return a\n",
    "        \n",
    "if __name__ == '__main__':\n",
    "    input_number = int(input())\n",
    "    print(fibonacci(input_number))"
   ]
  },
  {
   "cell_type": "code",
   "execution_count": 103,
   "id": "2cddd123-3c44-4007-98b1-cc5cb69aca8f",
   "metadata": {},
   "outputs": [
    {
     "data": {
      "text/plain": [
       "1"
      ]
     },
     "execution_count": 103,
     "metadata": {},
     "output_type": "execute_result"
    }
   ],
   "source": [
    "fibonacci(2)"
   ]
  },
  {
   "cell_type": "code",
   "execution_count": 112,
   "id": "35161897-eed2-440a-9f94-7f58629add50",
   "metadata": {},
   "outputs": [
    {
     "data": {
      "text/plain": [
       "93326215443944152681699238856266700490715968264381621468592963895217599993229915608941463976156518286253697920827223758251185210916864000000000000000000000000"
      ]
     },
     "execution_count": 112,
     "metadata": {},
     "output_type": "execute_result"
    }
   ],
   "source": [
    "def factorial(n):\n",
    "    if n == 0:\n",
    "        return 1\n",
    "    return n* factorial(n-1)\n",
    "\n",
    "factorial(100)"
   ]
  },
  {
   "cell_type": "markdown",
   "id": "0b24da6d-84b9-4e8b-a036-dbc995069364",
   "metadata": {},
   "source": []
  },
  {
   "cell_type": "code",
   "execution_count": null,
   "id": "c7f194b4-f7ee-4e02-8ed7-7d11d5da430e",
   "metadata": {},
   "outputs": [],
   "source": [
    "def fib(n):\n",
    "    if n <= 1 :\n",
    "        return n \n",
    "    print(f\"Calculating fib({n})\")\n",
    "    return fib(n-1) + fib(n-2)\n",
    "\n",
    "fib(10)"
   ]
  },
  {
   "cell_type": "code",
   "execution_count": 144,
   "id": "b79987e9-4dc5-418c-ada6-40deb4ebc977",
   "metadata": {},
   "outputs": [
    {
     "data": {
      "text/plain": [
       "70330367711422815821835254877183549770181269836358732742604905087154537118196933579742249494562611733487750449241765991088186363265450223647106012053374121273867339111198139373125598767690091902245245323403501"
      ]
     },
     "execution_count": 144,
     "metadata": {},
     "output_type": "execute_result"
    }
   ],
   "source": [
    "def fib(n, memo={}):\n",
    "    if n <= 1:\n",
    "        return n\n",
    "    \n",
    "    if n not in memo:\n",
    "        memo[n] = fib(n - 1, memo) + fib(n - 2, memo)\n",
    "    \n",
    "    return memo[n]\n",
    "\n",
    "fib(1001)"
   ]
  },
  {
   "cell_type": "code",
   "execution_count": 131,
   "id": "62376e31-b5cb-4cf1-bfb3-40c7660b5fa7",
   "metadata": {},
   "outputs": [
    {
     "ename": "TypeError",
     "evalue": "fib() missing 1 required positional argument: 'n'",
     "output_type": "error",
     "traceback": [
      "\u001b[1;31m---------------------------------------------------------------------------\u001b[0m",
      "\u001b[1;31mTypeError\u001b[0m                                 Traceback (most recent call last)",
      "Cell \u001b[1;32mIn[131], line 11\u001b[0m\n\u001b[0;32m      8\u001b[0m     \u001b[38;5;28;01mreturn\u001b[39;00m result\n\u001b[0;32m     10\u001b[0m \u001b[38;5;66;03m# Example usage\u001b[39;00m\n\u001b[1;32m---> 11\u001b[0m result \u001b[38;5;241m=\u001b[39m fib()\n\u001b[0;32m     12\u001b[0m \u001b[38;5;28mprint\u001b[39m(\u001b[38;5;124mf\u001b[39m\u001b[38;5;124m\"\u001b[39m\u001b[38;5;124mFinal result: \u001b[39m\u001b[38;5;132;01m{\u001b[39;00mresult\u001b[38;5;132;01m}\u001b[39;00m\u001b[38;5;124m\"\u001b[39m)\n",
      "\u001b[1;31mTypeError\u001b[0m: fib() missing 1 required positional argument: 'n'"
     ]
    }
   ],
   "source": [
    "def fib(n):\n",
    "    if n <= 1:\n",
    "        print(f\"Base case reached for n={n}. Returning {n}\")\n",
    "        return n\n",
    "    \n",
    "    result = (n-1) + fib(n - 2)\n",
    "    print(f\"Calculating fib({n}): {n-1} + fib({n - 1}) = {result}\")\n",
    "    return result\n",
    "\n",
    "# Example usage\n",
    "result = fib(5)\n",
    "print(f\"Final result: {result}\")"
   ]
  },
  {
   "cell_type": "code",
   "execution_count": 151,
   "id": "33f5f454-254d-498e-9539-0963c6824fa7",
   "metadata": {},
   "outputs": [
    {
     "data": {
      "text/plain": [
       "3"
      ]
     },
     "execution_count": 151,
     "metadata": {},
     "output_type": "execute_result"
    }
   ],
   "source": [
    "def last_digit_of_fibonacci(n):\n",
    "    \"\"\"Finds the last digit of the nth Fibonacci number efficiently.\"\"\"\n",
    "\n",
    "    # Precompute the last digits of the first 60 Fibonacci numbers\n",
    "    fib_last_digits = [0, 1] + [0] * 58\n",
    "    for i in range(2, 60):\n",
    "        fib_last_digits[i] = (fib_last_digits[i - 1] + fib_last_digits[i - 2]) % 10\n",
    "\n",
    "    # Use the Pisano period to efficiently find the last digit\n",
    "    return fib_last_digits[n % 60]\n",
    "last_digit_of_fibonacci(4)"
   ]
  },
  {
   "cell_type": "markdown",
   "id": "5d259ca0-3c59-4119-8c41-3d227409c1f1",
   "metadata": {},
   "source": [
    "## Solution"
   ]
  },
  {
   "cell_type": "code",
   "execution_count": null,
   "id": "de2e4144-6892-4792-a056-fbbceaa83be5",
   "metadata": {},
   "outputs": [],
   "source": [
    "def smallest_positive(in_list):\n",
    "    smallest_pos = None\n",
    "    for num in in_list:\n",
    "        if num > 0:\n",
    "            if smallest_pos == None or num < smallest_pos:\n",
    "                smallest_pos = num\n",
    "    return smallest_pos"
   ]
  },
  {
   "cell_type": "code",
   "execution_count": null,
   "id": "8d2a3ecc-f8ac-46fc-aca0-0d7a1016551e",
   "metadata": {},
   "outputs": [],
   "source": [
    "def when_offered(courses, course):.\n",
    "    semesters = []\n",
    "    for semester in courses:\n",
    "        if course in courses[semester]:\n",
    "            semesters.append(semester)\n",
    "    return semesters"
   ]
  },
  {
   "cell_type": "code",
   "execution_count": null,
   "id": "5cc17681-8190-45b8-9656-90cd25da7aa3",
   "metadata": {},
   "outputs": [],
   "source": []
  },
  {
   "cell_type": "code",
   "execution_count": 3,
   "id": "5e08e214-de4d-4bbb-ad41-2fa5b302c85c",
   "metadata": {},
   "outputs": [
    {
     "name": "stdout",
     "output_type": "stream",
     "text": [
      "1\n",
      "3\n",
      "5\n",
      "7\n",
      "9\n"
     ]
    }
   ],
   "source": [
    "def all_odd():\n",
    "    n = 1\n",
    "    while True:\n",
    "        yield n\n",
    "        n += 2\n",
    "        \n",
    "gen = all_odd()\n",
    "\n",
    "for i in range(5):\n",
    "    print(next(gen))"
   ]
  },
  {
   "cell_type": "code",
   "execution_count": 4,
   "id": "f99020f8-d409-478a-9342-ff328353611e",
   "metadata": {},
   "outputs": [
    {
     "data": {
      "text/plain": [
       "7"
      ]
     },
     "execution_count": 4,
     "metadata": {},
     "output_type": "execute_result"
    }
   ],
   "source": [
    "do_some = 4\n",
    "do_some += 3\n",
    "do_some"
   ]
  },
  {
   "cell_type": "code",
   "execution_count": 5,
   "id": "c8bab1e1-d91e-4735-833b-446e8a1c8166",
   "metadata": {
    "scrolled": true
   },
   "outputs": [
    {
     "name": "stdout",
     "output_type": "stream",
     "text": [
      "11\n",
      "13\n",
      "15\n",
      "17\n",
      "19\n",
      "21\n",
      "23\n",
      "25\n",
      "27\n",
      "29\n",
      "31\n",
      "33\n",
      "35\n",
      "37\n",
      "39\n",
      "41\n",
      "43\n",
      "45\n",
      "47\n",
      "49\n",
      "51\n",
      "53\n",
      "55\n",
      "57\n",
      "59\n",
      "61\n",
      "63\n",
      "65\n",
      "67\n",
      "69\n",
      "71\n",
      "73\n",
      "75\n",
      "77\n",
      "79\n",
      "81\n",
      "83\n",
      "85\n",
      "87\n",
      "89\n",
      "91\n",
      "93\n",
      "95\n",
      "97\n",
      "99\n",
      "101\n",
      "103\n",
      "105\n",
      "107\n",
      "109\n",
      "111\n",
      "113\n",
      "115\n",
      "117\n",
      "119\n",
      "121\n",
      "123\n",
      "125\n",
      "127\n",
      "129\n",
      "131\n",
      "133\n",
      "135\n",
      "137\n",
      "139\n",
      "141\n",
      "143\n",
      "145\n",
      "147\n",
      "149\n",
      "151\n",
      "153\n",
      "155\n",
      "157\n",
      "159\n",
      "161\n",
      "163\n",
      "165\n",
      "167\n",
      "169\n",
      "171\n",
      "173\n",
      "175\n",
      "177\n",
      "179\n",
      "181\n",
      "183\n",
      "185\n",
      "187\n",
      "189\n",
      "191\n",
      "193\n",
      "195\n",
      "197\n",
      "199\n",
      "201\n",
      "203\n",
      "205\n",
      "207\n",
      "209\n"
     ]
    }
   ],
   "source": [
    "for i in range(100):\n",
    "    print(next(gen))"
   ]
  },
  {
   "cell_type": "code",
   "execution_count": 6,
   "id": "9ff92119-1a2b-4b7f-a1a0-31be3cd31852",
   "metadata": {},
   "outputs": [
    {
     "data": {
      "text/plain": [
       "6"
      ]
     },
     "execution_count": 6,
     "metadata": {},
     "output_type": "execute_result"
    }
   ],
   "source": [
    "def proud(a,b):\n",
    "    return a *b\n",
    "\n",
    "proud(2,3)"
   ]
  },
  {
   "cell_type": "code",
   "execution_count": 11,
   "id": "c6538f79-ae71-4b03-96fc-b9be713b2a7e",
   "metadata": {},
   "outputs": [
    {
     "name": "stdin",
     "output_type": "stream",
     "text": [
      " 4\n"
     ]
    },
    {
     "name": "stdout",
     "output_type": "stream",
     "text": [
      "12\n",
      "6\n",
      "2\n",
      "0\n"
     ]
    }
   ],
   "source": [
    "def fac_gen(n):\n",
    "    if n <= 1:\n",
    "        yield 1\n",
    "    while True:\n",
    "        yield n*(n-1)\n",
    "        n -= 1\n",
    "n = int(input())\n",
    "gen = fac_gen(n)\n",
    "\n",
    "for i in range(n):\n",
    "    print(next(gen))"
   ]
  },
  {
   "cell_type": "code",
   "execution_count": 12,
   "id": "ff7fa173-eacb-4ee1-a9dc-b14c68e28a81",
   "metadata": {},
   "outputs": [
    {
     "data": {
      "text/plain": [
       "3"
      ]
     },
     "execution_count": 12,
     "metadata": {},
     "output_type": "execute_result"
    }
   ],
   "source": [
    "correct = [[1,2,3],\n",
    "           [2,3,1],\n",
    "           [3,1,2]]\n",
    "\n",
    "len(correct)"
   ]
  },
  {
   "cell_type": "code",
   "execution_count": null,
   "id": "7b63bba7-91c5-44ce-b427-af44e4253d00",
   "metadata": {},
   "outputs": [],
   "source": [
    "def check_sudoku(square):\n",
    "    for row in square:\n",
    "        # Create a list with the integers 1, 2, ..., n.\n",
    "        # We will check that each number in the row is in the list\n",
    "        # and remove the numbers from the list once they are verified\n",
    "        # to ensure that each number only occurs once in the row.\n",
    "        check_list = list(range(1, len(square[0]) + 1))\n",
    "        for i in row:\n",
    "            if i not in check_list:\n",
    "                return False\n",
    "            check_list.remove(i)\n",
    "    for n in range(len(square[0])):\n",
    "        # We do the same here for each column in the square.\n",
    "        check_list = list(range(1, len(square[0]) + 1))\n",
    "        for row in square:\n",
    "            if row[n] not in check_list:\n",
    "                return False\n",
    "            check_list.remove(row[n])\n",
    "    return True"
   ]
  },
  {
   "cell_type": "code",
   "execution_count": 43,
   "id": "0e1138d8-55bc-4131-852a-01dad4730da6",
   "metadata": {},
   "outputs": [],
   "source": [
    "# Define a simple nextDay procedure, that assumes every month has 30 days.\n",
    "def nextDay(year, month, day):\n",
    "    \"\"\"\n",
    "    Returns the year, month, day of the next day.\n",
    "    Simple version: assume every month has 30 days.\n",
    "    \"\"\"\n",
    "    # YOUR CODE HERE\n",
    "    day += 1\n",
    "    if day >30:\n",
    "        day = 1\n",
    "        month += 1\n",
    "    if month >12:\n",
    "        month =1\n",
    "        year += 1\n",
    "    return (year, month, day)\n",
    "\n",
    "\n",
    "def daysBetweenDates(year1, month1, day1, year2, month2, day2):\n",
    "    \"\"\"Returns the number of days between year1/month1/day1\n",
    "       and year2/month2/day2. Assumes inputs are valid dates\n",
    "       in Gregorian calendar, and the first date is not after\n",
    "       the second.\"\"\"\n",
    "        \n",
    "    # YOUR CODE HERE!\n",
    "    days = 0\n",
    "    while (year1, month1, day1) != (year2, month2, day2):\n",
    "        year1, month1, day1 = nextDay(year1, month1, day1)\n",
    "        days += 1\n",
    "    return days"
   ]
  },
  {
   "cell_type": "code",
   "execution_count": 44,
   "id": "3d649746-b808-45f2-a932-7dda662a58c4",
   "metadata": {},
   "outputs": [],
   "source": [
    "test_1 = daysBetweenDates(2012,9,30,2012,10,30)"
   ]
  },
  {
   "cell_type": "code",
   "execution_count": 45,
   "id": "26dba57e-1f26-4e25-a56b-e17d4291f66d",
   "metadata": {},
   "outputs": [],
   "source": [
    "test_2 = daysBetweenDates(2012,1,1,2013,1,1)"
   ]
  },
  {
   "cell_type": "code",
   "execution_count": 46,
   "id": "3354b76d-b9ec-4f91-bac7-d6c1eb2f26d0",
   "metadata": {},
   "outputs": [
    {
     "data": {
      "text/plain": [
       "(30, 360, 3)"
      ]
     },
     "execution_count": 46,
     "metadata": {},
     "output_type": "execute_result"
    }
   ],
   "source": [
    "test_3 = daysBetweenDates(2012,9,1,2012,9,4)\n",
    "test_1,test_2, test_3"
   ]
  },
  {
   "cell_type": "code",
   "execution_count": 49,
   "id": "7444c7ae-2493-4432-9940-9ba5fa13dec3",
   "metadata": {},
   "outputs": [
    {
     "data": {
      "text/plain": [
       "True"
      ]
     },
     "execution_count": 49,
     "metadata": {},
     "output_type": "execute_result"
    }
   ],
   "source": [
    "def dateIsBefore(year1, month1, day1, year2, month2, day2):\n",
    "    while year2 >= year1:\n",
    "        if (month1 <= month2) and (day1 <= day2):\n",
    "            return True\n",
    "        return False\n",
    "            \n",
    "\n",
    "dateIsBefore(2013,1,24,2013,6,29)"
   ]
  },
  {
   "cell_type": "code",
   "execution_count": 54,
   "id": "d1b46ac1-9528-405f-b0e6-4e50801d5a5a",
   "metadata": {},
   "outputs": [
    {
     "data": {
      "text/plain": [
       "6"
      ]
     },
     "execution_count": 54,
     "metadata": {},
     "output_type": "execute_result"
    }
   ],
   "source": [
    "def daysBetweenDates(year1, month1, day1, year2, month2, day2):\n",
    "    days = 0\n",
    "    while dateIsBefore(year1, month1, day1, year2, month2, day2):\n",
    "        year1, month1, day1 = nextDay(year1, month1, day1)\n",
    "        days += 1\n",
    "    return days\n",
    "    \n",
    "daysBetweenDates(2013,1,24,2013,6,29)"
   ]
  },
  {
   "cell_type": "code",
   "execution_count": 50,
   "id": "d1482f37-d7a5-489f-9659-bd204f95244f",
   "metadata": {},
   "outputs": [
    {
     "data": {
      "text/plain": [
       "6"
      ]
     },
     "execution_count": 50,
     "metadata": {},
     "output_type": "execute_result"
    }
   ],
   "source": [
    "daysBetweenDates(2013,1,24,2013,6,29)"
   ]
  },
  {
   "cell_type": "code",
   "execution_count": 57,
   "id": "d152121c-19bd-43d5-97ed-efb572c41e31",
   "metadata": {},
   "outputs": [
    {
     "data": {
      "text/plain": [
       "155"
      ]
     },
     "execution_count": 57,
     "metadata": {},
     "output_type": "execute_result"
    }
   ],
   "source": [
    "def nextDay(year, month, day):\n",
    "    \"\"\"Simple version: assume every month has 30 days\"\"\"\n",
    "    if day < 30:\n",
    "        return year, month, day + 1\n",
    "    else:\n",
    "        if month == 12:\n",
    "            return year + 1, 1, 1\n",
    "        else:\n",
    "            return year, month + 1, 1\n",
    "\n",
    "def daysBetweenDates(year1, month1, day1, year2, month2, day2):\n",
    "    \"\"\"Returns the number of days between year1/month1/day1\n",
    "       and year2/month2/day2. Assumes inputs are valid dates\n",
    "       in Gregorian calendar, and the first date is not after\n",
    "       the second.\"\"\"\n",
    "        \n",
    "    # YOUR CODE HERE!\n",
    "    days = 0\n",
    "    while (year1, month1, day1) != (year2, month2, day2):\n",
    "        year1, month1, day1 = nextDay(year1, month1, day1)\n",
    "        days += 1\n",
    "    return days\n",
    "\n",
    "daysBetweenDates(2013,1,24,2013,6,29)"
   ]
  },
  {
   "cell_type": "code",
   "execution_count": 60,
   "id": "73855f50-d2c3-48e2-91bf-88ed7dc5e793",
   "metadata": {},
   "outputs": [],
   "source": [
    "def dateIsBefore(year1, month1, day1, year2, month2, day2):\n",
    "    \"\"\"Returns True if year1-month1-day1 is before year2-month2-day2. Otherwise, returns False.\"\"\"\n",
    "    if year1 < year2:\n",
    "        return True\n",
    "    if year1 == year2:\n",
    "        if month1 < month2:\n",
    "            return True\n",
    "        if month1 == month2:\n",
    "            return day1 < day2\n",
    "    return False \n",
    "def daysBetweenDates(year1, month1, day1, year2, month2, day2):\n",
    "    days = 0\n",
    "    while dateIsBefore(year1, month1, day1, year2, month2, day2):\n",
    "        year1, month1, day1 = nextDay(year1, month1, day1)\n",
    "        days += 1\n",
    "    return days"
   ]
  },
  {
   "cell_type": "code",
   "execution_count": 62,
   "id": "5f820104-a87a-4b44-ac07-4e8d65aab866",
   "metadata": {},
   "outputs": [
    {
     "data": {
      "text/plain": [
       "0"
      ]
     },
     "execution_count": 62,
     "metadata": {},
     "output_type": "execute_result"
    }
   ],
   "source": [
    "daysBetweenDates(2014,1,24,2013,6,29)"
   ]
  },
  {
   "cell_type": "markdown",
   "id": "742e8487-e67f-4e2f-87eb-8d704aa4eb4a",
   "metadata": {},
   "source": [
    "## Problem solving\n",
    "1. Always think about the possible input.\n",
    "2. Think about the possible output.\n",
    "3. work with some example by hand.\n",
    "4. Then think about small procedure (simple mechanical solutions).\n",
    "5. Test Test Test!!!!!!!"
   ]
  },
  {
   "cell_type": "code",
   "execution_count": null,
   "id": "d822dc61-690f-4634-bec7-d02814128751",
   "metadata": {},
   "outputs": [],
   "source": [
    "\"\"\"\n",
    "Read file into texts and calls.\n",
    "It's ok if you don't understand how to read files.\n",
    "\"\"\"\n",
    "import csv\n",
    "with open('texts.csv', 'r') as f:\n",
    "    reader = csv.reader(f)\n",
    "    texts = list(reader)\n",
    "\n",
    "with open('calls.csv', 'r') as f:\n",
    "    reader = csv.reader(f)\n",
    "    calls = list(reader)\n",
    "\n",
    "\n",
    "\"\"\"\n",
    "TASK 0:\n",
    "What is the first record of texts and what is the last record of calls?\n",
    "Print messages:\n",
    "\"First record of texts, <incoming number> texts <answering number> at time <time>\"\n",
    "\"Last record of calls, <incoming number> calls <answering number> at time <time>, lasting <during> seconds\"\n",
    "\"\"\""
   ]
  },
  {
   "cell_type": "code",
   "execution_count": null,
   "id": "a70c9eb3-bcca-44d0-afb8-f45f53311381",
   "metadata": {},
   "outputs": [],
   "source": []
  },
  {
   "cell_type": "code",
   "execution_count": null,
   "id": "1d3a7794-30a3-4a43-9724-0ddc35573155",
   "metadata": {},
   "outputs": [],
   "source": []
  },
  {
   "cell_type": "code",
   "execution_count": null,
   "id": "b540b3c1-5b14-4b4b-8a83-78974cd6480a",
   "metadata": {},
   "outputs": [],
   "source": []
  },
  {
   "cell_type": "code",
   "execution_count": null,
   "id": "8bd1689d-d063-48fd-b501-85b34cedeca8",
   "metadata": {},
   "outputs": [],
   "source": []
  },
  {
   "cell_type": "code",
   "execution_count": null,
   "id": "0db92d42-d9f2-4f10-b782-d9706b3dfebe",
   "metadata": {},
   "outputs": [],
   "source": []
  },
  {
   "cell_type": "code",
   "execution_count": null,
   "id": "02c568c0-cb6a-4d3f-9837-6a370ca1e429",
   "metadata": {},
   "outputs": [],
   "source": []
  },
  {
   "cell_type": "code",
   "execution_count": null,
   "id": "f6120dbc-872d-4c5a-b2e7-152de201149b",
   "metadata": {},
   "outputs": [],
   "source": []
  },
  {
   "cell_type": "code",
   "execution_count": null,
   "id": "c093cd1c-61e2-4899-94a1-3c2d464804ff",
   "metadata": {},
   "outputs": [],
   "source": []
  },
  {
   "cell_type": "code",
   "execution_count": null,
   "id": "de47c48d-3ac9-4d98-9b83-eae6af4f04fb",
   "metadata": {},
   "outputs": [],
   "source": []
  },
  {
   "cell_type": "code",
   "execution_count": null,
   "id": "b223a5d6-ac6a-49f6-8497-ebd6e964a6c4",
   "metadata": {},
   "outputs": [],
   "source": []
  },
  {
   "cell_type": "code",
   "execution_count": null,
   "id": "49feae0e-1f4b-474d-afde-bb917e68cc7e",
   "metadata": {},
   "outputs": [],
   "source": []
  },
  {
   "cell_type": "code",
   "execution_count": null,
   "id": "7495775c-c922-4015-8de5-4428fd71d947",
   "metadata": {},
   "outputs": [],
   "source": []
  },
  {
   "cell_type": "code",
   "execution_count": null,
   "id": "9325d37f-1b08-416f-aa3e-5e1c7e13a66f",
   "metadata": {},
   "outputs": [],
   "source": []
  },
  {
   "cell_type": "code",
   "execution_count": null,
   "id": "3ef8a8e9-64e4-41b6-8577-1aba91f1f281",
   "metadata": {},
   "outputs": [],
   "source": []
  },
  {
   "cell_type": "code",
   "execution_count": null,
   "id": "a7d27181-f728-433e-bd0e-b8a69b30f348",
   "metadata": {},
   "outputs": [],
   "source": []
  }
 ],
 "metadata": {
  "kernelspec": {
   "display_name": "Python 3 (ipykernel)",
   "language": "python",
   "name": "python3"
  },
  "language_info": {
   "codemirror_mode": {
    "name": "ipython",
    "version": 3
   },
   "file_extension": ".py",
   "mimetype": "text/x-python",
   "name": "python",
   "nbconvert_exporter": "python",
   "pygments_lexer": "ipython3",
   "version": "3.11.5"
  }
 },
 "nbformat": 4,
 "nbformat_minor": 5
}
