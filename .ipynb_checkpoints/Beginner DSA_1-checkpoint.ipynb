{
 "cells": [
  {
   "cell_type": "code",
   "execution_count": 1,
   "id": "62cf8301-12c8-425f-b095-5beec0d49ca4",
   "metadata": {},
   "outputs": [],
   "source": [
    "expenses = [2200,2350,2600,2130,2190]\n",
    "\n",
    "###########  Jan   Feb  Mar  Apr  May\n",
    "\n",
    "###########  0     1    2    3    4"
   ]
  },
  {
   "cell_type": "markdown",
   "id": "deb7b5ee-2a37-4dc2-b5bd-c3737acdb8b9",
   "metadata": {},
   "source": [
    "In Feb, how many dollars you spent extra compare to January?"
   ]
  },
  {
   "cell_type": "code",
   "execution_count": 2,
   "id": "417c2d5d-664d-489a-9acd-691f6b5efd6b",
   "metadata": {},
   "outputs": [
    {
     "data": {
      "text/plain": [
       "150"
      ]
     },
     "execution_count": 2,
     "metadata": {},
     "output_type": "execute_result"
    }
   ],
   "source": [
    "expenses[1] - expenses[0]"
   ]
  },
  {
   "cell_type": "markdown",
   "id": "1a850248-93de-480e-a540-0c019777f409",
   "metadata": {},
   "source": [
    "Find out your total expense in first quarter (first three months) of the year."
   ]
  },
  {
   "cell_type": "code",
   "execution_count": 3,
   "id": "f87e799e-1535-44cd-8ec9-ae1d0352af2c",
   "metadata": {},
   "outputs": [
    {
     "data": {
      "text/plain": [
       "7150"
      ]
     },
     "execution_count": 3,
     "metadata": {},
     "output_type": "execute_result"
    }
   ],
   "source": [
    "expenses[0]+expenses[1]+expenses[2]"
   ]
  },
  {
   "cell_type": "markdown",
   "id": "300f281b-c6ba-4b18-8317-4cd70c739c02",
   "metadata": {},
   "source": [
    "Find out if you spent exactly 2000 dollars in any month"
   ]
  },
  {
   "cell_type": "code",
   "execution_count": 10,
   "id": "85650fe4-9014-408f-821e-329bc0e24405",
   "metadata": {},
   "outputs": [],
   "source": [
    "for i in expenses:\n",
    "    if i == 2000:\n",
    "        print(i)\n",
    "    else:\n",
    "        break"
   ]
  },
  {
   "cell_type": "code",
   "execution_count": 16,
   "id": "8e7ec8d2-94f8-445f-833b-a049708eb947",
   "metadata": {},
   "outputs": [
    {
     "data": {
      "text/plain": [
       "False"
      ]
     },
     "execution_count": 16,
     "metadata": {},
     "output_type": "execute_result"
    }
   ],
   "source": [
    "### Corection:\n",
    "2000 in expenses\n"
   ]
  },
  {
   "cell_type": "markdown",
   "id": "fc047eb6-aff6-4d42-b213-a9e8cecc9076",
   "metadata": {},
   "source": [
    "June month just finished and your expense is 1980 dollar. Add this item to our monthly expense list"
   ]
  },
  {
   "cell_type": "code",
   "execution_count": 12,
   "id": "621bf677-44cc-42f6-bfca-60b6e8af899f",
   "metadata": {},
   "outputs": [
    {
     "data": {
      "text/plain": [
       "[2200, 2350, 2600, 2130, 2190, 1980]"
      ]
     },
     "execution_count": 12,
     "metadata": {},
     "output_type": "execute_result"
    }
   ],
   "source": [
    "expenses.append(1980)\n",
    "expenses"
   ]
  },
  {
   "cell_type": "markdown",
   "id": "07032bd1-5128-47e1-99e3-cfc27a15bff1",
   "metadata": {},
   "source": [
    "You returned an item that you bought in a month of April and\r\n",
    "got a refund of 200$. Make a correction to your monthly expense list\r\n",
    "based on this"
   ]
  },
  {
   "cell_type": "code",
   "execution_count": 13,
   "id": "97a16586-de02-4282-bb9a-36d4d014e9c2",
   "metadata": {},
   "outputs": [
    {
     "data": {
      "text/plain": [
       "[2200, 2350, 2600, 1930, 2190, 1980]"
      ]
     },
     "execution_count": 13,
     "metadata": {},
     "output_type": "execute_result"
    }
   ],
   "source": [
    "expenses[3] = expenses[3] - 200\n",
    "expenses"
   ]
  },
  {
   "cell_type": "markdown",
   "id": "b50144b1-b6db-465d-af55-401459f0e834",
   "metadata": {},
   "source": [
    "# Solutions"
   ]
  },
  {
   "cell_type": "code",
   "execution_count": 14,
   "id": "3822af80-9bce-42bb-9635-ee08fb51a561",
   "metadata": {},
   "outputs": [
    {
     "name": "stdout",
     "output_type": "stream",
     "text": [
      "In feb this much extra was spent compared to jan: 150\n",
      "Expense for first quarter: 7150\n",
      "Did I spent 2000$ in any month?  False\n",
      "Expenses at the end of June: [2200, 2350, 2600, 2130, 2190, 1980]\n",
      "Expenses after 200$ return in April: [2200, 2350, 2600, 1930, 2190, 1980]\n"
     ]
    }
   ],
   "source": [
    "exp = [2200,2350,2600,2130,2190]\n",
    "\n",
    "# 1. In Feb, how many dollars you spent extra compare to January?\n",
    "print(\"In feb this much extra was spent compared to jan:\",exp[1]-exp[0]) # 150\n",
    "\n",
    "# 2. Find out your total expense in first quarter (first three months) of the year\n",
    "print(\"Expense for first quarter:\",exp[0]+exp[1]+exp[2]) # 7150\n",
    "\n",
    "# 3. Find out if you spent exactly 2000 dollars in any month\n",
    "print(\"Did I spent 2000$ in any month? \", 2000 in exp) # False\n",
    "\n",
    "# 4. June month just finished and your expense is 1980 dollar. Add this item to our monthly expense list\n",
    "exp.append(1980)\n",
    "print(\"Expenses at the end of June:\",exp) # [2200, 2350, 2600, 2130, 2190, 1980]\n",
    "\n",
    "# 5. You returned an item that you bought in a month of April and\n",
    "# got a refund of 200$. Make a correction to your monthly expense list\n",
    "# based on this\n",
    "exp[3] = exp[3] - 200\n",
    "print(\"Expenses after 200$ return in April:\",exp) # [2200, 2350, 2600, 1930, 2190, 1980]"
   ]
  },
  {
   "cell_type": "code",
   "execution_count": 17,
   "id": "56f774a9-90f9-4e0e-9a5b-94994018001d",
   "metadata": {},
   "outputs": [],
   "source": [
    "heros=['spider man','thor','hulk','iron man','captain america']"
   ]
  },
  {
   "cell_type": "markdown",
   "id": "c7bdfb54-5902-43ed-a06a-7a273d93c003",
   "metadata": {},
   "source": [
    "Length of the list"
   ]
  },
  {
   "cell_type": "code",
   "execution_count": 18,
   "id": "eaad2062-1185-4d0b-be76-7eedde1b1713",
   "metadata": {},
   "outputs": [
    {
     "data": {
      "text/plain": [
       "5"
      ]
     },
     "execution_count": 18,
     "metadata": {},
     "output_type": "execute_result"
    }
   ],
   "source": [
    "len(heros)"
   ]
  },
  {
   "cell_type": "markdown",
   "id": "8578879f-8630-4017-afdb-a86f0d140e2e",
   "metadata": {},
   "source": [
    "Add 'black panther' at the end of this list"
   ]
  },
  {
   "cell_type": "code",
   "execution_count": 24,
   "id": "a9ab309a-7fb5-4f6f-8483-c58a79dc0e5d",
   "metadata": {},
   "outputs": [
    {
     "data": {
      "text/plain": [
       "['spider man', 'thor', 'hulk', 'iron man', 'captain america', 'black panther']"
      ]
     },
     "execution_count": 24,
     "metadata": {},
     "output_type": "execute_result"
    }
   ],
   "source": [
    "heros.append('black panther')\n",
    "heros"
   ]
  },
  {
   "cell_type": "markdown",
   "id": "5bce51ce-86a1-4896-8704-d74c48b3bb01",
   "metadata": {},
   "source": [
    "You realize that you need to add 'black panther' after 'hulk',  so remove it from the list first and then add it after 'hulk'"
   ]
  },
  {
   "cell_type": "code",
   "execution_count": 25,
   "id": "176c3343-0726-4d2c-965e-5923cb5dfd3d",
   "metadata": {},
   "outputs": [
    {
     "data": {
      "text/plain": [
       "['spider man', 'thor', 'hulk', 'black panther', 'captain america']"
      ]
     },
     "execution_count": 25,
     "metadata": {},
     "output_type": "execute_result"
    }
   ],
   "source": [
    "heros.remove('black panther')\n",
    "heros[3] = 'black panther'\n",
    "\n",
    "heros"
   ]
  },
  {
   "cell_type": "code",
   "execution_count": 44,
   "id": "711dadbc-b950-40ae-bf9d-57a242a013eb",
   "metadata": {},
   "outputs": [],
   "source": [
    "# so this was going to change what index 3 was you shoulf have used:\n",
    "\n",
    "hero.insert(3,'black panther')"
   ]
  },
  {
   "cell_type": "markdown",
   "id": "88c0bc25-7800-4351-8dda-a0bb7df77ff2",
   "metadata": {},
   "source": [
    "Now you don't like thor and hulk because they get angry easily :)  So you want to remove thor and hulk from list and replace them with doctor strange (because he is cool)   Do that with one line of code."
   ]
  },
  {
   "cell_type": "code",
   "execution_count": 30,
   "id": "d4b380de-6ff5-4ea1-9e6d-7088e91ab6c6",
   "metadata": {},
   "outputs": [
    {
     "ename": "TypeError",
     "evalue": "pop expected at most 1 argument, got 2",
     "output_type": "error",
     "traceback": [
      "\u001b[1;31m---------------------------------------------------------------------------\u001b[0m",
      "\u001b[1;31mTypeError\u001b[0m                                 Traceback (most recent call last)",
      "Cell \u001b[1;32mIn[30], line 3\u001b[0m\n\u001b[0;32m      1\u001b[0m \u001b[38;5;66;03m## I could create a new list but thats the easy way. Think boy\u001b[39;00m\n\u001b[1;32m----> 3\u001b[0m heros\u001b[38;5;241m.\u001b[39mpop(\u001b[38;5;124m'\u001b[39m\u001b[38;5;124mthor\u001b[39m\u001b[38;5;124m'\u001b[39m, \u001b[38;5;124m'\u001b[39m\u001b[38;5;124mhulk\u001b[39m\u001b[38;5;124m'\u001b[39m)\n\u001b[0;32m      4\u001b[0m heros\n",
      "\u001b[1;31mTypeError\u001b[0m: pop expected at most 1 argument, got 2"
     ]
    }
   ],
   "source": [
    "## I could create a new list but thats the easy way. Think boy\n",
    "\n",
    "heros.remove('thor', 'hulk')\n",
    "heros"
   ]
  },
  {
   "cell_type": "code",
   "execution_count": null,
   "id": "f5fb190f-9afe-45e1-8fa9-fb7b74fef693",
   "metadata": {},
   "outputs": [],
   "source": [
    "# correct way\n",
    "heros[1:3] = 'doctor strange'"
   ]
  },
  {
   "cell_type": "markdown",
   "id": "8b061c2e-7d4f-4ffa-a248-da09915bf4f3",
   "metadata": {},
   "source": [
    "Sort the heros list in alphabetical order (Hint. Use dir() functions to list down all functions available in list)\n"
   ]
  },
  {
   "cell_type": "code",
   "execution_count": 41,
   "id": "af43013e-22cf-4a5f-97eb-33fd2ea16c3d",
   "metadata": {},
   "outputs": [],
   "source": [
    "## I have no clue\n",
    "heros.sort()"
   ]
  },
  {
   "cell_type": "code",
   "execution_count": 42,
   "id": "bc991de0-e981-40ff-8723-07fd32e08ca0",
   "metadata": {},
   "outputs": [
    {
     "data": {
      "text/plain": [
       "['black panther', 'captain america', 'hulk', 'spider man', 'thor']"
      ]
     },
     "execution_count": 42,
     "metadata": {},
     "output_type": "execute_result"
    }
   ],
   "source": [
    "heros\n",
    "\n",
    "## so using the function helps here"
   ]
  },
  {
   "cell_type": "markdown",
   "id": "40707d74-da7c-4676-b753-c73f05f8d5e7",
   "metadata": {},
   "source": [
    "# Solutions"
   ]
  },
  {
   "cell_type": "code",
   "execution_count": 43,
   "id": "83eeee7e-f531-4bad-a541-77f2b1e4980e",
   "metadata": {},
   "outputs": [
    {
     "name": "stdout",
     "output_type": "stream",
     "text": [
      "5\n",
      "['spider man', 'thor', 'hulk', 'iron man', 'captain america', 'black panther']\n",
      "['spider man', 'thor', 'hulk', 'black panther', 'iron man', 'captain america']\n",
      "['spider man', 'doctor strange', 'black panther', 'iron man', 'captain america']\n",
      "['black panther', 'captain america', 'doctor strange', 'iron man', 'spider man']\n"
     ]
    }
   ],
   "source": [
    "hero=['spider man','thor','hulk','iron man','captain america']\n",
    "# 1. Length of the list\n",
    "print(len(hero))\n",
    "# 2. Add 'black panther' at the end of this list\n",
    "hero.append('black panther')\n",
    "print(hero)\n",
    "# 3. You realize that you need to add 'black panther' after 'hulk',\n",
    "# so remove it from the list first and then add it after 'hulk'\n",
    "hero.remove('black panther')\n",
    "hero.insert(3,'black panther')\n",
    "print(hero)\n",
    "# 4. Now you don't like thor and hulk because they get angry easily :)\n",
    "#    So you want to remove thor and hulk from list and replace them with doctor strange (because he is cool).\n",
    "#    Do that with one line of code.\n",
    "hero[1:3]=['doctor strange']\n",
    "print(hero)\n",
    "# 5. Sort the list in alphabetical order\n",
    "hero.sort()\n",
    "print(hero)"
   ]
  },
  {
   "cell_type": "markdown",
   "id": "5b0a454c-e0c8-4764-b0bb-53c877555dbb",
   "metadata": {},
   "source": [
    "Create a list of all odd numbers between 1 and a max number. Max number is something you need to take from a user using input() function"
   ]
  },
  {
   "cell_type": "code",
   "execution_count": 47,
   "id": "bc20bf7a-f71f-4f66-9f66-fa0e5ec01945",
   "metadata": {},
   "outputs": [
    {
     "name": "stdin",
     "output_type": "stream",
     "text": [
      "Please imput max number:  10\n"
     ]
    },
    {
     "data": {
      "text/plain": [
       "[1, 3, 5, 7, 9]"
      ]
     },
     "execution_count": 47,
     "metadata": {},
     "output_type": "execute_result"
    }
   ],
   "source": [
    "max_number = int(input('Please imput max number: '))\n",
    "odd_number = []\n",
    "\n",
    "for i in range(0,max_number):\n",
    "    if i%2 == 1:\n",
    "        odd_number.append(i)\n",
    "\n",
    "odd_number"
   ]
  }
 ],
 "metadata": {
  "kernelspec": {
   "display_name": "Python 3 (ipykernel)",
   "language": "python",
   "name": "python3"
  },
  "language_info": {
   "codemirror_mode": {
    "name": "ipython",
    "version": 3
   },
   "file_extension": ".py",
   "mimetype": "text/x-python",
   "name": "python",
   "nbconvert_exporter": "python",
   "pygments_lexer": "ipython3",
   "version": "3.11.5"
  }
 },
 "nbformat": 4,
 "nbformat_minor": 5
}
