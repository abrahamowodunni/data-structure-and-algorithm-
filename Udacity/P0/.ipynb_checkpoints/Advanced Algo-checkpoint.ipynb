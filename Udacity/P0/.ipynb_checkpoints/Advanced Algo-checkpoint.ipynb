{
 "cells": [
  {
   "cell_type": "code",
   "execution_count": null,
   "id": "29ef89b2-e96b-4c1c-b6e3-7565bd648cc7",
   "metadata": {},
   "outputs": [],
   "source": [
    "# Helper Code\n",
    "from collections import defaultdict\n",
    "class Graph:\n",
    "    def __init__(self):\n",
    "        self.nodes = set()                   # A set cannot contain duplicate nodes\n",
    "        self.neighbours = defaultdict(list)  # Defaultdict is a child class of Dictionary that provides a default value for a key that does not exists.\n",
    "        self.distances = {}                  # Dictionary. An example record as ('A', 'B'): 6 shows the distance between 'A' to 'B' is 6 units\n",
    "\n",
    "    def add_node(self, value):\n",
    "        self.nodes.add(value)\n",
    "\n",
    "    def add_edge(self, from_node, to_node, distance):\n",
    "        self.neighbours[from_node].append(to_node)\n",
    "        self.neighbours[to_node].append(from_node)\n",
    "        self.distances[(from_node, to_node)] = distance\n",
    "        self.distances[(to_node, from_node)] = distance    # lets make the graph undirected / bidirectional \n",
    "        \n",
    "    def print_graph(self):\n",
    "        print(\"Set of Nodes are: \", self.nodes)\n",
    "        print(\"Neighbours are: \", self.neighbours)\n",
    "        print(\"Distances are: \", self.distances)"
   ]
  },
  {
   "cell_type": "code",
   "execution_count": null,
   "id": "5f0b22f9-925b-4d27-9767-0c028f9c753f",
   "metadata": {},
   "outputs": [],
   "source": [
    "''' TO DO: Find the shortest path from the source node to every other node in the given graph '''\n",
    "def dijkstra(graph, source):\n",
    "    # Declare and initialize result, unvisited, and path\n",
    "    result = {}\n",
    "    unvisited = set(graph.nodes)\n",
    "    path = {}\n",
    "    for node in graph.nodes:\n",
    "        result[node] = float('inf')\n",
    "    result[source] = 0\n",
    "    \n",
    "\n",
    "    # As long as unvisited is non-empty\n",
    "    while unvisited: \n",
    "        \n",
    "        # 1. Find the unvisited node having smallest known distance from the source node.\n",
    "        \n",
    "        \n",
    "        # 2. For the current node, find all the unvisited neighbours. For this, you have calculate the distance of each unvisited neighbour.\n",
    "        \n",
    "        # 3. If the calculated distance of the unvisited neighbour is less than the already known distance in result dictionary, update the shortest distance in the result dictionary.        \n",
    "\n",
    "        # 4. If there is an update in the result dictionary, you need to update the path dictionary as well for the same key.\n",
    "                    \n",
    "        # 5. Remove the current node from the unvisited set.\n",
    "\n",
    "    return result"
   ]
  },
  {
   "cell_type": "code",
   "execution_count": null,
   "id": "216a754c-6e7f-47ac-b60d-e718fac70a54",
   "metadata": {},
   "outputs": [],
   "source": [
    "from collections import defaultdict\n",
    "\n",
    "def dijkstra(graph, source):\n",
    "    \"\"\"\n",
    "    Finds the shortest path from the source node to every other node in the given graph.\n",
    "\n",
    "    Args:\n",
    "        graph: A Graph object representing the graph.\n",
    "        source: The starting node for pathfinding.\n",
    "\n",
    "    Returns:\n",
    "        A dictionary containing the shortest distances from the source to all other nodes.\n",
    "    \"\"\"\n",
    "\n",
    "    result = {}  # Stores the shortest distances from source to all nodes\n",
    "    unvisited = set(graph.nodes)  # Set of unvisited nodes\n",
    "    path = {}  # Stores the previous node on the shortest path to each node\n",
    "\n",
    "    for node in graph.nodes:\n",
    "        result[node] = float('inf')  # Initialize distances to infinity\n",
    "    result[source] = 0  # Distance to source itself is 0\n",
    "\n",
    "    while unvisited:\n",
    "        current_node = min(unvisited, key=result.get)  # Find node with smallest known distance\n",
    "        unvisited.remove(current_node)\n",
    "\n",
    "        for neighbour in graph.neighbours[current_node]:\n",
    "            if neighbour in unvisited:\n",
    "                new_distance = result[current_node] + graph.distances[(current_node, neighbour)]\n",
    "                if new_distance < result[neighbour]:\n",
    "                    result[neighbour] = new_distance\n",
    "                    path[neighbour] = current_node  # Update path with current node as predecessor\n",
    "\n",
    "    return result\n"
   ]
  },
  {
   "cell_type": "code",
   "execution_count": 1,
   "id": "4ea30a90-df0f-43cd-bffc-b135ff54e173",
   "metadata": {},
   "outputs": [],
   "source": [
    "def min_platforms(arrival, departure):\n",
    "    arrival.sort()\n",
    "    departure.sort()\n",
    "    \n",
    "    i = j = 0\n",
    "    platform_required = 0\n",
    "    max_platforms = 0\n",
    "    \n",
    "    while i < len(arrival) and j < len(departure):\n",
    "        if arrival[i] <= departure[j]:\n",
    "            platform_required += 1\n",
    "            i += 1\n",
    "        else:\n",
    "            platform_required -= 1\n",
    "            j += 1\n",
    "        max_platforms = max(max_platforms, platform_required)\n",
    "    \n",
    "    return max_platforms"
   ]
  },
  {
   "cell_type": "code",
   "execution_count": 12,
   "id": "9a7e5274-ee9d-4fa9-9adc-b5b178369181",
   "metadata": {},
   "outputs": [],
   "source": [
    "def min_platforms(arrival, departure):\n",
    "    if len(arrival) != len(departure):\n",
    "        return None\n",
    "    arrival.sort()\n",
    "    departure.sort()\n",
    "\n",
    "    i = j = 0\n",
    "    required_platform = 0\n",
    "    max_plaform = 0\n",
    "    \n",
    "    while i < len(arrival) and j < len(departure):\n",
    "        if arrival[i] <= departure[j]: # meaning if a train is arriving before one is departing we need to add a platform\n",
    "            required_platform += 1\n",
    "            i += 1\n",
    "        else:\n",
    "            required_platform -= 1\n",
    "            j += 1\n",
    "        max_plaform = max(max_plaform,required_platform)\n",
    "    return max_plaform"
   ]
  },
  {
   "cell_type": "code",
   "execution_count": 2,
   "id": "a7cb5c62-cee4-4d8e-ab99-c54425fbd27f",
   "metadata": {},
   "outputs": [
    {
     "data": {
      "text/plain": [
       "3"
      ]
     },
     "execution_count": 2,
     "metadata": {},
     "output_type": "execute_result"
    }
   ],
   "source": [
    "arrival = [200, 210, 300, 320, 350, 500]\n",
    "departure = [230, 340, 320, 430, 400, 520]\n",
    "min_platforms(arrival, departure)"
   ]
  },
  {
   "cell_type": "code",
   "execution_count": 11,
   "id": "49b094c3-5bda-4439-8e6f-0e4205523bbc",
   "metadata": {},
   "outputs": [
    {
     "name": "stdout",
     "output_type": "stream",
     "text": [
      "Minimum number of platforms required: 2\n"
     ]
    }
   ],
   "source": [
    "def min_platforms(arrival, departure):\n",
    "    if len(arrival) != len(departure):  # Check for list length mismatch\n",
    "        return -1\n",
    "\n",
    "    # Sort both the lists\n",
    "    arrival.sort()\n",
    "    departure.sort()\n",
    "    \n",
    "    platform_required = 1              # Count of platforms required at the moment when comparing i^th arrival and j^th departure\n",
    "    max_platform_required = 1          # Keep track of the max value of platform_required\n",
    "\n",
    "    # Iterate such that (i-j) will represent platform_required at that moment\n",
    "    i = 1\n",
    "    j = 0\n",
    "\n",
    "    # Traverse the arrival list with iterator `i`, and departure with iterator `j`.\n",
    "    while i < len(arrival) and j < len(arrival):\n",
    "        \n",
    "        # if i^th arrival is scheduled before than j^th departure, \n",
    "        # increment platform_required and i as well.\n",
    "        if arrival[i] < departure[j]:\n",
    "            platform_required += 1\n",
    "            i += 1\n",
    "\n",
    "            # Update the max value of platform_required\n",
    "            max_platform_required = max(max_platform_required, platform_required)\n",
    "         \n",
    "        # Otherwise, decrement platform_required count, and increase j.\n",
    "        else:\n",
    "            platform_required -= 1\n",
    "            j += 1\n",
    "\n",
    "    return max_platform_required\n",
    "# Example usage:\n",
    "arrival = [200, 210, 300, 320, 350, 500]\n",
    "departure = [230, 340, 320, 430, 400, 520]\n",
    "print(\"Minimum number of platforms required:\", min_platforms(arrival, departure))"
   ]
  },
  {
   "cell_type": "code",
   "execution_count": null,
   "id": "e83439d2-aba9-4a0c-8013-28e7e1c0e2c3",
   "metadata": {},
   "outputs": [],
   "source": [
    "min_operations(69)"
   ]
  },
  {
   "cell_type": "code",
   "execution_count": 18,
   "id": "2913b293-e389-47ae-9249-3dac9520e36b",
   "metadata": {},
   "outputs": [
    {
     "name": "stdout",
     "output_type": "stream",
     "text": [
      "Minimum operations required to reach 69: 9\n"
     ]
    }
   ],
   "source": [
    "def min_operations(target):\n",
    "  \"\"\"\n",
    "  Finds the minimum number of operations to reach a target number.\n",
    "\n",
    "  Args:\n",
    "      target (int): The target number to reach.\n",
    "\n",
    "  Returns:\n",
    "      int: The minimum number of operations required.\n",
    "  \"\"\"\n",
    "\n",
    "  # Base case: No operations needed for target 0\n",
    "  if target == 0:\n",
    "    return 0\n",
    "\n",
    "  # Initialize queue with (number, steps) and a visited set\n",
    "  queue = [(0, 0)]  # (number, steps)\n",
    "  visited = set()\n",
    "\n",
    "  while queue:\n",
    "    # Dequeue the current number and steps\n",
    "    num, steps = queue.pop(0)\n",
    "\n",
    "    # Check if target is reached\n",
    "    if num == target:\n",
    "      return steps\n",
    "\n",
    "    # Explore possible next steps: Add 1 and Double\n",
    "    for next_num in [num + 1, num * 2]:\n",
    "      # Skip visited numbers and numbers exceeding the target\n",
    "      if next_num > target or next_num in visited:\n",
    "        continue\n",
    "\n",
    "      # Add (next_num, steps + 1) to the queue and mark as visited\n",
    "      queue.append((next_num, steps + 1))\n",
    "      visited.add(next_num)\n",
    "\n",
    "  # Target not reachable\n",
    "  return -1\n",
    "\n",
    "# Example usage\n",
    "target = 69\n",
    "min_operations_needed = min_operations(target)\n",
    "print(f\"Minimum operations required to reach {target}: {min_operations_needed}\")\n"
   ]
  },
  {
   "cell_type": "code",
   "execution_count": 3,
   "id": "789a4adf-f439-4490-ba6f-330901a81fdc",
   "metadata": {},
   "outputs": [
    {
     "data": {
      "text/plain": [
       "6"
      ]
     },
     "execution_count": 3,
     "metadata": {},
     "output_type": "execute_result"
    }
   ],
   "source": [
    "def min_operations(target):\n",
    "    if target == 0:\n",
    "        return 0\n",
    "    num_steps = 0\n",
    "    while target > 0:\n",
    "        if target % 2 == 0:\n",
    "            target = target // 2\n",
    "        else:\n",
    "            target -= 1\n",
    "        num_steps += 1\n",
    "    return num_steps\n",
    "\n",
    "min_operations(18)"
   ]
  },
  {
   "cell_type": "markdown",
   "id": "a88de9d7-61d7-4ec9-b075-6bf65bfe8488",
   "metadata": {},
   "source": [
    "#### Implement DFS — Iterative Solution GRAPH"
   ]
  },
  {
   "cell_type": "code",
   "execution_count": null,
   "id": "9a98f2ad-09b2-436f-ab61-d267a1dd7d01",
   "metadata": {},
   "outputs": [],
   "source": [
    "class GraphNode:\n",
    "    def __init__(self,val):\n",
    "        self.val = val\n",
    "        self.children = []\n",
    "\n",
    "    def add_child(self,new_node):\n",
    "        self.children.append(new_node)\n",
    "\n",
    "    def remove_child(self,del_node):\n",
    "        if del_node in self.children:\n",
    "            self.children.remove(del_node)\n",
    "\n",
    "class Graph:\n",
    "    def __init__(self,node_list):\n",
    "        self.node = node_list\n",
    "\n",
    "    def add_edge(self,node1,node2):\n",
    "        if node1 in self.node and node2 in self.node:\n",
    "            node1.add_child(node2)\n",
    "            node2.add_child(node1)\n",
    "\n",
    "    def remove_edge(self,node1,node2):\n",
    "        if node1 in self.node and node2 in self.node:\n",
    "            node1.remove_child(node2)\n",
    "            node2.remove_child(node1)"
   ]
  },
  {
   "cell_type": "code",
   "execution_count": 5,
   "id": "da00a99a-0e28-48e0-8d25-c65c352ed992",
   "metadata": {},
   "outputs": [],
   "source": [
    "class GraphNode:\n",
    "    def __init__(self,val):\n",
    "        self.val = val\n",
    "        self.children = []\n",
    "\n",
    "    def add_child(self,new_node):\n",
    "        self.children.append(new_node)\n",
    "\n",
    "    def remove_child(self,del_node):\n",
    "        if del_node in self.children:\n",
    "            self.children.remove(del_node)\n",
    "class Graph:\n",
    "    def __init__(self,node_list):\n",
    "        self.nodes = node_list\n",
    "\n",
    "    def add_edge(self,node1,node2):\n",
    "        if node1 in self.nodes and node2 in self.nodes:\n",
    "            node1.add_child(node2)\n",
    "            node2.add_child(node1)\n",
    "\n",
    "    def remove_edge(self,node1,node2):\n",
    "        if node1 in self.nodes and node2 in self.nodes:\n",
    "            node1.remove_child(node2)\n",
    "            node2.remove_child(node1)"
   ]
  },
  {
   "cell_type": "code",
   "execution_count": 6,
   "id": "b9d2a6a2-fb97-4d96-ab73-d10754c2997e",
   "metadata": {},
   "outputs": [],
   "source": [
    "nodeG = GraphNode('G')\n",
    "nodeR = GraphNode('R')\n",
    "nodeA = GraphNode('A')\n",
    "nodeP = GraphNode('P')\n",
    "nodeH = GraphNode('H')\n",
    "nodeS = GraphNode('S')\n",
    "\n",
    "graph1 = Graph([nodeS,nodeH,nodeG,nodeP,nodeR,nodeA] ) \n",
    "graph1.add_edge(nodeG,nodeR)\n",
    "graph1.add_edge(nodeA,nodeR)\n",
    "graph1.add_edge(nodeA,nodeG)\n",
    "graph1.add_edge(nodeR,nodeP)\n",
    "graph1.add_edge(nodeH,nodeG)\n",
    "graph1.add_edge(nodeH,nodeP)\n",
    "graph1.add_edge(nodeS,nodeR)"
   ]
  },
  {
   "cell_type": "code",
   "execution_count": null,
   "id": "7fef90c1-de4a-47c9-8ac1-879aab8daf14",
   "metadata": {},
   "outputs": [],
   "source": [
    "def dfs_search(root_node, search_value):\n",
    "    stack = [root_node]\n",
    "    visited = set()\n",
    "\n",
    "    while stack:\n",
    "        current_node = stack.pop()\n",
    "\n",
    "        if current_node in visited:\n",
    "            continue\n",
    "\n",
    "        visited.add(current_node)\n",
    "\n",
    "        if current_node.val == search_value:\n",
    "            return current_node\n",
    "\n",
    "        for child in current_node.children:\n",
    "            if child not in visited:\n",
    "                stack.append(child)\n",
    "\n",
    "    return None"
   ]
  },
  {
   "cell_type": "code",
   "execution_count": 8,
   "id": "64f4622f-9af2-40f4-aee9-eba73c1448a6",
   "metadata": {},
   "outputs": [],
   "source": [
    "assert nodeA == dfs_search(nodeS, 'A')\n",
    "assert nodeS == dfs_search(nodeP, 'S')\n",
    "assert nodeR == dfs_search(nodeH, 'R')"
   ]
  },
  {
   "cell_type": "markdown",
   "id": "89cb7a7b-be6b-48f0-a244-a6babf5ead57",
   "metadata": {},
   "source": [
    "###### Retry everthing on your own again!!!"
   ]
  },
  {
   "cell_type": "code",
   "execution_count": 1,
   "id": "3832214b-7cec-4e97-9f0a-f41bb1a9dd74",
   "metadata": {},
   "outputs": [],
   "source": [
    "class GraphNode:\n",
    "    def __init__(self,val):\n",
    "        self.value = val\n",
    "        self.children = []\n",
    "\n",
    "    def add_child(self,new_node):\n",
    "        self.children.append(new_node)\n",
    "\n",
    "    def remove_child(self,del_node):\n",
    "        if del_node in self.children:\n",
    "            self.children.remove(del_node)\n",
    "\n",
    "class Graph:\n",
    "    def __init__(self,node_list):\n",
    "        self.nodes = node_list\n",
    "\n",
    "    def add_edge(self,node1,node2):\n",
    "        if node1 in self.nodes and node2 in self.nodes:\n",
    "            node1.add_child(node2)\n",
    "            node2.add_child(node1)\n",
    "\n",
    "    def remove_edge(self,node1,node2):\n",
    "        if node1 in self.nodes and node2 in self.nodes:\n",
    "            node1.remove_child(node2)\n",
    "            node2.remove_child(node1)\n",
    "\n",
    "def dfs(root_node,search_node):\n",
    "    stack = [root_node]\n",
    "    visited = set()\n",
    "\n",
    "    while stack:\n",
    "        current_node = stack.pop()\n",
    "        if current_node in visited:\n",
    "            continue\n",
    "\n",
    "        visited.add(current_node)\n",
    "        if current_node.value == search_node:\n",
    "            return current_node\n",
    "\n",
    "        for child in current_node.children:\n",
    "            if child not in visited:\n",
    "                stack.append(child)\n",
    "\n",
    "    return None"
   ]
  },
  {
   "cell_type": "code",
   "execution_count": 2,
   "id": "110961e2-e953-4ad8-9903-bb96cae98b2f",
   "metadata": {},
   "outputs": [],
   "source": [
    "# Creating graph nodes\n",
    "node1 = GraphNode(1)\n",
    "node2 = GraphNode(2)\n",
    "node3 = GraphNode(3)\n",
    "node4 = GraphNode(4)\n",
    "\n",
    "# Creating a graph with these nodes\n",
    "graph = Graph([node1, node2, node3, node4])\n",
    "\n",
    "# Adding edges between nodes\n",
    "graph.add_edge(node1, node2)\n",
    "graph.add_edge(node1, node3)\n",
    "graph.add_edge(node2, node4)\n",
    "graph.add_edge(node3, node4)"
   ]
  },
  {
   "cell_type": "code",
   "execution_count": 5,
   "id": "a971595f-dd3d-49af-a7c4-11a3c00328f1",
   "metadata": {},
   "outputs": [
    {
     "data": {
      "text/plain": [
       "<__main__.GraphNode at 0x25711511610>"
      ]
     },
     "execution_count": 5,
     "metadata": {},
     "output_type": "execute_result"
    }
   ],
   "source": [
    "dfs(node2, 1)"
   ]
  },
  {
   "cell_type": "code",
   "execution_count": null,
   "id": "f3ce8d3f-0e19-4f95-8d78-40c851a0fcab",
   "metadata": {},
   "outputs": [],
   "source": [
    "def dfs_recursion_start(start_node, search_value):\n",
    "    visited = set()\n",
    "    return recursive_search(start_node,visited,search_value)\n",
    "\n",
    "def recursive_search(node,visited,search_value):\n",
    "    if node.value == search_value:\n",
    "        found = True\n",
    "        retuen node\n",
    "\n",
    "    visited.add(node)\n",
    "    found = False\n",
    "    result = []\n",
    "\n",
    "    for child in node.children:\n",
    "        if child not in visited:\n",
    "            result = recursive_search(child,visited,search_value)\n",
    "\n",
    "            if found:\n",
    "                break\n",
    "    return result"
   ]
  },
  {
   "cell_type": "code",
   "execution_count": null,
   "id": "67417399-f4da-40c9-8a32-2c30d103cdab",
   "metadata": {},
   "outputs": [],
   "source": []
  },
  {
   "cell_type": "code",
   "execution_count": null,
   "id": "eca28f85-403e-4a9a-ba12-82c92f692c0a",
   "metadata": {},
   "outputs": [],
   "source": []
  },
  {
   "cell_type": "code",
   "execution_count": null,
   "id": "93de4871-e1c6-4c70-a5cb-72168c469f39",
   "metadata": {},
   "outputs": [],
   "source": []
  },
  {
   "cell_type": "code",
   "execution_count": null,
   "id": "80d063b6-49d8-4274-8b7c-65896fefcf72",
   "metadata": {},
   "outputs": [],
   "source": []
  },
  {
   "cell_type": "code",
   "execution_count": null,
   "id": "e59596c5-1a6f-4478-97cc-b858480166fa",
   "metadata": {},
   "outputs": [],
   "source": []
  },
  {
   "cell_type": "code",
   "execution_count": null,
   "id": "a6bb00ff-20f9-4687-aa51-7d3750409312",
   "metadata": {},
   "outputs": [],
   "source": []
  },
  {
   "cell_type": "code",
   "execution_count": null,
   "id": "564b2074-87ea-426c-afaa-341bbcac0e2d",
   "metadata": {},
   "outputs": [],
   "source": []
  },
  {
   "cell_type": "code",
   "execution_count": null,
   "id": "6526ea94-6c94-46ff-a8ba-54a307da48b0",
   "metadata": {},
   "outputs": [],
   "source": []
  },
  {
   "cell_type": "code",
   "execution_count": null,
   "id": "7100a47a-d157-4ac1-8bfc-62737ceaf38e",
   "metadata": {},
   "outputs": [],
   "source": []
  },
  {
   "cell_type": "code",
   "execution_count": null,
   "id": "4a738131-6a2c-43c6-ae3b-db88e03ec4a2",
   "metadata": {},
   "outputs": [],
   "source": []
  },
  {
   "cell_type": "code",
   "execution_count": null,
   "id": "a03241b9-c8ba-4b75-84c7-8c2ba52a896f",
   "metadata": {},
   "outputs": [],
   "source": []
  },
  {
   "cell_type": "code",
   "execution_count": null,
   "id": "e8f8350c-2c71-47da-9baa-22fe4f36e5fc",
   "metadata": {},
   "outputs": [],
   "source": []
  },
  {
   "cell_type": "code",
   "execution_count": null,
   "id": "282c6cf6-4af8-49e1-83a3-d49625f046ab",
   "metadata": {},
   "outputs": [],
   "source": []
  },
  {
   "cell_type": "code",
   "execution_count": null,
   "id": "23617706-2438-48a4-b0c5-073249e05088",
   "metadata": {},
   "outputs": [],
   "source": []
  },
  {
   "cell_type": "code",
   "execution_count": null,
   "id": "c7c6f327-b724-4f44-a60b-c8f34057a47d",
   "metadata": {},
   "outputs": [],
   "source": []
  },
  {
   "cell_type": "code",
   "execution_count": null,
   "id": "1501a703-0489-44a9-877e-419b5ef91537",
   "metadata": {},
   "outputs": [],
   "source": []
  },
  {
   "cell_type": "code",
   "execution_count": null,
   "id": "0b99dd20-ec09-4457-8934-759d683d7d04",
   "metadata": {},
   "outputs": [],
   "source": []
  },
  {
   "cell_type": "code",
   "execution_count": null,
   "id": "1d9ba8ec-d88c-461c-b17a-f4cf76e05964",
   "metadata": {},
   "outputs": [],
   "source": []
  },
  {
   "cell_type": "code",
   "execution_count": null,
   "id": "d297b06b-d3e9-49b8-9321-d88c8764441f",
   "metadata": {},
   "outputs": [],
   "source": []
  },
  {
   "cell_type": "code",
   "execution_count": null,
   "id": "de208983-4930-4617-8529-d8943200315f",
   "metadata": {},
   "outputs": [],
   "source": []
  },
  {
   "cell_type": "code",
   "execution_count": null,
   "id": "5c6af67f-2637-4b95-8110-388612b13389",
   "metadata": {},
   "outputs": [],
   "source": []
  },
  {
   "cell_type": "code",
   "execution_count": null,
   "id": "8f587dfc-c1c4-4534-9afb-4be77d51170a",
   "metadata": {},
   "outputs": [],
   "source": []
  },
  {
   "cell_type": "code",
   "execution_count": null,
   "id": "22b65aa5-4f0f-4763-813b-bd6a3a0e5a6d",
   "metadata": {},
   "outputs": [],
   "source": []
  },
  {
   "cell_type": "code",
   "execution_count": null,
   "id": "3a3272bc-be17-42cb-af1c-f8fe452a3517",
   "metadata": {},
   "outputs": [],
   "source": []
  },
  {
   "cell_type": "code",
   "execution_count": null,
   "id": "2d9521ca-a34e-4495-be63-2cec8880f349",
   "metadata": {},
   "outputs": [],
   "source": []
  },
  {
   "cell_type": "code",
   "execution_count": null,
   "id": "d0afb00b-3b0a-4768-a410-9ea09e4fba8e",
   "metadata": {},
   "outputs": [],
   "source": []
  },
  {
   "cell_type": "code",
   "execution_count": null,
   "id": "5bb296e1-1a56-4e45-863f-85c97b973117",
   "metadata": {},
   "outputs": [],
   "source": []
  },
  {
   "cell_type": "code",
   "execution_count": null,
   "id": "cb579820-c6c5-48b5-95d1-7d6742df00a4",
   "metadata": {},
   "outputs": [],
   "source": []
  },
  {
   "cell_type": "code",
   "execution_count": null,
   "id": "7b67ba9b-d1c9-44ff-ba0e-2c2e9f371b61",
   "metadata": {},
   "outputs": [],
   "source": []
  },
  {
   "cell_type": "code",
   "execution_count": null,
   "id": "36a30101-1809-4db9-a73c-fb9d900d2da4",
   "metadata": {},
   "outputs": [],
   "source": []
  },
  {
   "cell_type": "code",
   "execution_count": null,
   "id": "c1e0597d-1480-40c5-9218-297b297e3348",
   "metadata": {},
   "outputs": [],
   "source": []
  },
  {
   "cell_type": "code",
   "execution_count": null,
   "id": "d92ad95e-cca5-4a15-9bb6-58319d736c52",
   "metadata": {},
   "outputs": [],
   "source": []
  },
  {
   "cell_type": "code",
   "execution_count": null,
   "id": "aedcf3c3-47d8-48fa-8b0a-45fa5f9fede8",
   "metadata": {},
   "outputs": [],
   "source": []
  },
  {
   "cell_type": "code",
   "execution_count": null,
   "id": "a01a6649-aaae-4902-8d0d-5bbdb7e990b4",
   "metadata": {},
   "outputs": [],
   "source": []
  },
  {
   "cell_type": "code",
   "execution_count": null,
   "id": "7b6efeab-b143-4a31-ba7f-9649fe29c623",
   "metadata": {},
   "outputs": [],
   "source": []
  },
  {
   "cell_type": "code",
   "execution_count": null,
   "id": "c4b5bef1-f40d-46a8-8359-fadab0c741b0",
   "metadata": {},
   "outputs": [],
   "source": []
  },
  {
   "cell_type": "code",
   "execution_count": null,
   "id": "5d18e0b9-9bb7-4dd8-9438-16df3d827a93",
   "metadata": {},
   "outputs": [],
   "source": []
  },
  {
   "cell_type": "code",
   "execution_count": null,
   "id": "36c31667-768b-429c-99c8-17c432dd771e",
   "metadata": {},
   "outputs": [],
   "source": []
  },
  {
   "cell_type": "code",
   "execution_count": null,
   "id": "6e7c8990-b2cb-4763-be6c-0b33246a945a",
   "metadata": {},
   "outputs": [],
   "source": []
  },
  {
   "cell_type": "code",
   "execution_count": null,
   "id": "6fbec7a3-a55b-49bd-b4e3-a1749a83bdb3",
   "metadata": {},
   "outputs": [],
   "source": []
  },
  {
   "cell_type": "code",
   "execution_count": null,
   "id": "118f824d-e773-43c5-959f-e1bd939c6481",
   "metadata": {},
   "outputs": [],
   "source": []
  },
  {
   "cell_type": "code",
   "execution_count": null,
   "id": "1dd19bd2-a26d-42d3-a574-d8e1ec5ad574",
   "metadata": {},
   "outputs": [],
   "source": []
  },
  {
   "cell_type": "code",
   "execution_count": null,
   "id": "f97ba478-322f-4398-8cc8-726e581b11ff",
   "metadata": {},
   "outputs": [],
   "source": []
  },
  {
   "cell_type": "code",
   "execution_count": null,
   "id": "cccd030e-cb63-4666-b183-34e3469a59ab",
   "metadata": {},
   "outputs": [],
   "source": []
  },
  {
   "cell_type": "code",
   "execution_count": null,
   "id": "d5c82b3b-e52a-4e1c-a8d9-2e5683b38277",
   "metadata": {},
   "outputs": [],
   "source": []
  },
  {
   "cell_type": "code",
   "execution_count": null,
   "id": "29f60eeb-7498-4582-9afb-82f56b6f83c8",
   "metadata": {},
   "outputs": [],
   "source": []
  },
  {
   "cell_type": "code",
   "execution_count": null,
   "id": "01024c8d-47cf-4d24-be55-42681c62f0b0",
   "metadata": {},
   "outputs": [],
   "source": []
  },
  {
   "cell_type": "code",
   "execution_count": null,
   "id": "5c8d1aa2-cf75-4a56-bca3-d130acf4c404",
   "metadata": {},
   "outputs": [],
   "source": []
  },
  {
   "cell_type": "code",
   "execution_count": null,
   "id": "e06843e2-cd8a-49c5-99a3-d95f5b4fb61f",
   "metadata": {},
   "outputs": [],
   "source": []
  },
  {
   "cell_type": "code",
   "execution_count": null,
   "id": "a4eebebe-973e-4e99-9b7e-f6195df5e306",
   "metadata": {},
   "outputs": [],
   "source": []
  },
  {
   "cell_type": "code",
   "execution_count": null,
   "id": "56d4e023-0fa4-4417-95a5-12ba5423e9d8",
   "metadata": {},
   "outputs": [],
   "source": []
  },
  {
   "cell_type": "code",
   "execution_count": null,
   "id": "47f413bf-cd98-4844-a73b-3c6a63f0e9c9",
   "metadata": {},
   "outputs": [],
   "source": []
  },
  {
   "cell_type": "code",
   "execution_count": null,
   "id": "c05d3d5b-df72-4549-983b-7f79a06b7544",
   "metadata": {},
   "outputs": [],
   "source": []
  },
  {
   "cell_type": "code",
   "execution_count": null,
   "id": "74b9a8f8-f41e-419e-8dac-a6c628876b92",
   "metadata": {},
   "outputs": [],
   "source": []
  },
  {
   "cell_type": "code",
   "execution_count": null,
   "id": "e220dc88-b7cd-43dd-975b-bc7042373d1a",
   "metadata": {},
   "outputs": [],
   "source": []
  },
  {
   "cell_type": "code",
   "execution_count": null,
   "id": "dbe5ee02-bd0c-43b2-95e7-00611df724d5",
   "metadata": {},
   "outputs": [],
   "source": []
  },
  {
   "cell_type": "code",
   "execution_count": null,
   "id": "9114db5e-91f1-44bb-b1a0-6c7cae104d99",
   "metadata": {},
   "outputs": [],
   "source": []
  },
  {
   "cell_type": "code",
   "execution_count": null,
   "id": "1a0cbae1-8eb6-4659-a95a-d6ede5cc87cf",
   "metadata": {},
   "outputs": [],
   "source": []
  },
  {
   "cell_type": "code",
   "execution_count": null,
   "id": "2d69df17-aaf3-463b-9b54-f35aa1aa8c55",
   "metadata": {},
   "outputs": [],
   "source": []
  },
  {
   "cell_type": "code",
   "execution_count": null,
   "id": "fb30520a-a99c-421d-a1b6-9815bf2bd9f2",
   "metadata": {},
   "outputs": [],
   "source": []
  },
  {
   "cell_type": "code",
   "execution_count": null,
   "id": "d9ce50be-1312-43e5-8dc1-b8fbadc4f545",
   "metadata": {},
   "outputs": [],
   "source": []
  }
 ],
 "metadata": {
  "kernelspec": {
   "display_name": "Python 3 (ipykernel)",
   "language": "python",
   "name": "python3"
  },
  "language_info": {
   "codemirror_mode": {
    "name": "ipython",
    "version": 3
   },
   "file_extension": ".py",
   "mimetype": "text/x-python",
   "name": "python",
   "nbconvert_exporter": "python",
   "pygments_lexer": "ipython3",
   "version": "3.11.5"
  }
 },
 "nbformat": 4,
 "nbformat_minor": 5
}
