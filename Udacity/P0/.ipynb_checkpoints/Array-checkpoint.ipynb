{
 "cells": [
  {
   "cell_type": "markdown",
   "id": "ad38aa7b-83ce-4039-a8a5-e662903eaf62",
   "metadata": {},
   "source": [
    "### Problem Statement\r\n",
    "\r\n",
    "You are given a non-negative number in the form of list elements. For example, the number `123` would be provided as `arr = [1, 2, 3]`. Add one to the number and return the output in the form of a new list. \r\n",
    "\r\n",
    "**Example 1:**\r\n",
    "* `input = [1, 2, 3]`\r\n",
    "* `output = [1, 2, 4]`\r\n",
    "\r\n",
    "\r\n",
    "**Example 2:**\r\n",
    "* `input = [1, 2, 9]`\r\n",
    "* `output = [1, 3, 0]`\r\n",
    "\r\n",
    "**Example 3:**\r\n",
    "* `input = [9, 9, 9]`\r\n",
    "* `output = [1, 0, 0, 0]`\r\n",
    "\r\n",
    "\r\n",
    "**Challenge:**\r\n",
    "One way to solve this problem is to convert the input array into a number and then add one to it. For example, if we have `input = [1, 2, 3]`, you could solve this problem by creating the number `123` and then separating the digits of the output number `124`.\r\n",
    "\r\n",
    "But can you solve it in some other way?\r\n",
    "\r\n",
    "### Exercise - Write your function definition here. \r\n",
    "**Note** - Try proposing a non-recursive solution. We will see a recursive solution in the next lesson \"Recursion\". "
   ]
  },
  {
   "cell_type": "markdown",
   "id": "efe61184-26ca-4218-9dab-b916e9efaeda",
   "metadata": {},
   "source": [
    "- Techniques i want to learnt with arrays\n",
    "- to go backward _for i in range(len(arr)-1.-1,-1)_"
   ]
  },
  {
   "cell_type": "code",
   "execution_count": 1,
   "id": "da2574b6-0d10-47cb-92cd-aec3905fac9c",
   "metadata": {},
   "outputs": [],
   "source": [
    "# Test case:\n",
    "arr1 = [1,2,4]\n",
    "arr2 = [1,4,9]\n",
    "arr3 = [9,9,9]"
   ]
  },
  {
   "cell_type": "code",
   "execution_count": 2,
   "id": "0fc4fa38-6d03-476a-8a40-16e8cda92166",
   "metadata": {},
   "outputs": [],
   "source": [
    "def add_one(arr):\n",
    "    carrier = 1\n",
    "\n",
    "    for i in range(len(arr)-1, -1,-1):\n",
    "        sum = carrier + arr[i]\n",
    "        carrier = sum // 10\n",
    "        arr[i] = sum % 10 \n",
    "\n",
    "        if carrier == 0:\n",
    "            break \n",
    "    arr = [carrier] + arr\n",
    "    if arr[0] == 0:\n",
    "        return arr[1:]\n",
    "    else:\n",
    "        return arr"
   ]
  },
  {
   "cell_type": "code",
   "execution_count": 3,
   "id": "c98231c6-f2ba-4773-ac46-c058a151b5ad",
   "metadata": {},
   "outputs": [
    {
     "data": {
      "text/plain": [
       "([1, 2, 5], [1, 5, 0], [1, 0, 0, 0])"
      ]
     },
     "execution_count": 3,
     "metadata": {},
     "output_type": "execute_result"
    }
   ],
   "source": [
    "add_one(arr1), add_one(arr2), add_one(arr3)"
   ]
  },
  {
   "cell_type": "markdown",
   "id": "38bcfcd2-f14b-4067-874a-00bb431d01f5",
   "metadata": {},
   "source": [
    "On my own finding the max or min or the 2 largest etc..."
   ]
  },
  {
   "cell_type": "code",
   "execution_count": 1,
   "id": "7f4a01aa-239d-4f52-a87c-fb99003745b1",
   "metadata": {},
   "outputs": [],
   "source": [
    "arr = [1,5,7,3,6,8,3,5]"
   ]
  },
  {
   "cell_type": "code",
   "execution_count": 4,
   "id": "0cf7ab25-be86-40d8-ab36-c4f9b7ae1cba",
   "metadata": {},
   "outputs": [],
   "source": [
    "def max(arr):\n",
    "\n",
    "    max = arr[0]\n",
    "    for i in arr[1:]:\n",
    "        if i > max:\n",
    "            max = arr[i]\n",
    "\n",
    "    return max"
   ]
  },
  {
   "cell_type": "code",
   "execution_count": 5,
   "id": "3ee46205-2f03-470b-a664-fd279ff9af5f",
   "metadata": {},
   "outputs": [
    {
     "data": {
      "text/plain": [
       "8"
      ]
     },
     "execution_count": 5,
     "metadata": {},
     "output_type": "execute_result"
    }
   ],
   "source": [
    "max(arr)"
   ]
  },
  {
   "cell_type": "code",
   "execution_count": 2,
   "id": "39f59fe5-d1f8-48db-9374-d6810883ea67",
   "metadata": {},
   "outputs": [],
   "source": [
    "def top_2(arr):\n",
    "    \n",
    "    firstmax = arr[0]\n",
    "    max_index = 0\n",
    "    for i in range(1, len(arr)):\n",
    "        if arr[i] > firstmax:\n",
    "            firstmax = arr[i]\n",
    "            max_index = i\n",
    "\n",
    "    arr = arr[:max_index] + arr[max_index + 1: ]\n",
    "    secondmax = arr[0]\n",
    "    for i in range(1, len(arr)):\n",
    "        if arr[i] > secondmax:\n",
    "            secondmax = arr[i]\n",
    "\n",
    "    return firstmax, secondmax"
   ]
  },
  {
   "cell_type": "code",
   "execution_count": 3,
   "id": "0a5ba033-d576-4c77-87e4-489ac43b8fd2",
   "metadata": {},
   "outputs": [
    {
     "data": {
      "text/plain": [
       "(8, 7)"
      ]
     },
     "execution_count": 3,
     "metadata": {},
     "output_type": "execute_result"
    }
   ],
   "source": [
    "top_2(arr)"
   ]
  },
  {
   "cell_type": "markdown",
   "id": "8f3d22c2-6f66-4036-8471-3dd57714eeb0",
   "metadata": {},
   "source": [
    "### Problem Statement\r\n",
    "\r\n",
    "You have been given an array of `length = n`. The array contains integers from `0` to `n - 2`. Each number in the array is present exactly once except for one number which is present twice. Find and return this duplicate number present in the array\r\n",
    "\r\n",
    "**Example:**\r\n",
    "* `arr = [0, 2, 3, 1, 4, 5, 3]`\r\n",
    "* `output = 3` (because `3` is present twice)\r\n",
    "\r\n",
    "The expected time complexity for this problem is `O(n)` and the expected space-complexity is `O(1)`."
   ]
  },
  {
   "cell_type": "code",
   "execution_count": 4,
   "id": "6196ca44-7f5f-4ff8-8743-847dacb99b29",
   "metadata": {},
   "outputs": [],
   "source": [
    "def duplicate(arr):\n",
    "\n",
    "    n = len(arr)\n",
    "    original = 0\n",
    "    expected = 0\n",
    "    for i in arr:\n",
    "        original += i\n",
    "\n",
    "    for i in range(0,n-1):\n",
    "        expected += i\n",
    "\n",
    "    return original - expected\n"
   ]
  },
  {
   "cell_type": "code",
   "execution_count": 5,
   "id": "85bcb16c-7d9b-447e-9c11-36752d743b26",
   "metadata": {},
   "outputs": [],
   "source": [
    "arr = [0, 2, 3, 1, 4, 5, 3]"
   ]
  },
  {
   "cell_type": "code",
   "execution_count": 6,
   "id": "b14c98af-3e01-4f2e-b5a8-bbc6fd4587a7",
   "metadata": {},
   "outputs": [
    {
     "data": {
      "text/plain": [
       "3"
      ]
     },
     "execution_count": 6,
     "metadata": {},
     "output_type": "execute_result"
    }
   ],
   "source": [
    "duplicate(arr)"
   ]
  },
  {
   "cell_type": "code",
   "execution_count": 15,
   "id": "b896c9fb-4649-4788-85cf-d7f04f558589",
   "metadata": {},
   "outputs": [],
   "source": [
    "arr = [0,1,2,7,3,4,5,6,5]"
   ]
  },
  {
   "cell_type": "code",
   "execution_count": 16,
   "id": "daafaf36-302b-4e2a-b105-13fc919e0c7c",
   "metadata": {},
   "outputs": [
    {
     "data": {
      "text/plain": [
       "5"
      ]
     },
     "execution_count": 16,
     "metadata": {},
     "output_type": "execute_result"
    }
   ],
   "source": [
    "duplicate(arr)"
   ]
  },
  {
   "cell_type": "markdown",
   "id": "89019b63-8755-42b8-9b4e-8cdd6db06468",
   "metadata": {},
   "source": [
    "#### Note\n",
    "\n",
    "- So i am learning that i need to figure out a way to solve the problem then implement.\n",
    "- "
   ]
  },
  {
   "cell_type": "markdown",
   "id": "5a5e16ab-52b6-467e-a540-9df0348e83ea",
   "metadata": {},
   "source": [
    "### Subarray\n",
    "\n",
    "lesson learnt\n",
    "\n",
    "- The importance of using the index in array will help alot "
   ]
  },
  {
   "cell_type": "code",
   "execution_count": 5,
   "id": "674f1e60-534b-42fc-a0e4-e77a53d1ce6d",
   "metadata": {},
   "outputs": [
    {
     "name": "stdout",
     "output_type": "stream",
     "text": [
      "[1, 2, 3]\n",
      "[2, 3, 4]\n",
      "[3, 4, 5]\n"
     ]
    }
   ],
   "source": [
    "arr = [1, 2, 3, 4, 5]\n",
    "for i in range(len(arr)):\n",
    "    for j in range(i + 1, len(arr) + 1):\n",
    "        subarray = arr[i:j]\n",
    "        if len(subarray) == 3:\n",
    "            print(subarray)"
   ]
  },
  {
   "cell_type": "markdown",
   "id": "63fb7392-9ca3-4ac6-9666-a2183856609c",
   "metadata": {},
   "source": [
    "##### Kadane's Algorithm"
   ]
  },
  {
   "cell_type": "code",
   "execution_count": 3,
   "id": "7dc18f2a-e57c-409d-9986-ba66fb64436f",
   "metadata": {},
   "outputs": [],
   "source": [
    "arr = [-3,5,6,2,5,-3,5,-1]\n",
    "def max_subarray_sum(arr):\n",
    "    max_sum = float('-inf')\n",
    "    current_sum = 0\n",
    "    for num in arr:\n",
    "        current_sum = max(num, current_sum + num)\n",
    "        max_sum = max(max_sum, current_sum)\n",
    "    return max_sum"
   ]
  },
  {
   "cell_type": "code",
   "execution_count": 7,
   "id": "30fdc965-f6a4-4855-86a8-8dea3e47e955",
   "metadata": {},
   "outputs": [
    {
     "data": {
      "text/plain": [
       "20"
      ]
     },
     "execution_count": 7,
     "metadata": {},
     "output_type": "execute_result"
    }
   ],
   "source": [
    "max_subarray_sum(arr)"
   ]
  },
  {
   "cell_type": "code",
   "execution_count": 4,
   "id": "8beb9b6b-61f1-4bd6-bb67-638791b3f13e",
   "metadata": {},
   "outputs": [
    {
     "name": "stdout",
     "output_type": "stream",
     "text": [
      "Current Element: -3, Current Sum Before Update: 0\n",
      "Updated Current Sum: -3, Updated Max Sum: -3\n",
      "--------------------\n",
      "Current Element: 5, Current Sum Before Update: -3\n",
      "Updated Current Sum: 5, Updated Max Sum: 5\n",
      "--------------------\n",
      "Current Element: 6, Current Sum Before Update: 5\n",
      "Updated Current Sum: 11, Updated Max Sum: 11\n",
      "--------------------\n",
      "Current Element: 2, Current Sum Before Update: 11\n",
      "Updated Current Sum: 13, Updated Max Sum: 13\n",
      "--------------------\n",
      "Current Element: 5, Current Sum Before Update: 13\n",
      "Updated Current Sum: 18, Updated Max Sum: 18\n",
      "--------------------\n",
      "Current Element: -3, Current Sum Before Update: 18\n",
      "Updated Current Sum: 15, Updated Max Sum: 18\n",
      "--------------------\n",
      "Current Element: 5, Current Sum Before Update: 15\n",
      "Updated Current Sum: 20, Updated Max Sum: 20\n",
      "--------------------\n",
      "Current Element: -1, Current Sum Before Update: 20\n",
      "Updated Current Sum: 19, Updated Max Sum: 20\n",
      "--------------------\n",
      "Final Maximum Subarray Sum: 20\n"
     ]
    }
   ],
   "source": [
    "def max_subarray_sum(arr):\n",
    "    max_sum = float('-inf')\n",
    "    current_sum = 0\n",
    "\n",
    "    for num in arr:\n",
    "        # Print current element and current subarray sum before updating\n",
    "        print(f\"Current Element: {num}, Current Sum Before Update: {current_sum}\")\n",
    "\n",
    "        current_sum = max(num, current_sum + num)\n",
    "        max_sum = max(max_sum, current_sum)\n",
    "\n",
    "        # Print current subarray sum and maximum subarray sum after updating\n",
    "        print(f\"Updated Current Sum: {current_sum}, Updated Max Sum: {max_sum}\")\n",
    "        print(\"-\" * 20)  # Separator for better visibility\n",
    "\n",
    "    return max_sum\n",
    "\n",
    "# Example usage\n",
    "#arr = [1, -2, 3, -4, 5, -6, 7]\n",
    "result = max_subarray_sum(arr)\n",
    "print(f\"Final Maximum Subarray Sum: {result}\")\n"
   ]
  },
  {
   "cell_type": "markdown",
   "id": "904f6165-0c72-4c01-a534-53d4217c75e5",
   "metadata": {},
   "source": [
    "### Pascal's Triangle\n",
    "\n",
    "lesson learnt\n",
    "\n",
    "- how to use nested for loops \n"
   ]
  },
  {
   "cell_type": "code",
   "execution_count": 18,
   "id": "16c34b59-1a95-46f1-8260-bf04d1649de7",
   "metadata": {},
   "outputs": [
    {
     "name": "stdout",
     "output_type": "stream",
     "text": [
      "[1, 1]\n"
     ]
    }
   ],
   "source": [
    "def nth_row_pascal(n):\n",
    "    if n == 0:\n",
    "        return [1]\n",
    "\n",
    "    current_row = [1]\n",
    "\n",
    "    for i in range(1, n + 1):\n",
    "        previous_row = current_row\n",
    "        current_row = [1]\n",
    "\n",
    "        for j in range(1, i):\n",
    "            next_number = previous_row[j] + previous_row[j - 1]\n",
    "            current_row = current_row + [next_number]\n",
    "\n",
    "        current_row = current_row + [1]\n",
    "\n",
    "    return current_row\n",
    "\n",
    "# Example usage:\n",
    "n = 1\n",
    "result = nth_row_pascal(n)\n",
    "print(result)\n"
   ]
  },
  {
   "cell_type": "code",
   "execution_count": 25,
   "id": "9387a5f2-e80c-4489-b1fb-3d303a96eba6",
   "metadata": {},
   "outputs": [
    {
     "name": "stdout",
     "output_type": "stream",
     "text": [
      "p =  [1]\n",
      "curr [1]\n",
      "p =  [1]\n",
      "curr [1]\n",
      "p =  [1]\n",
      "curr [1]\n",
      "p =  [1]\n",
      "curr [1]\n",
      "p =  [1]\n",
      "curr [1]\n"
     ]
    }
   ],
   "source": [
    "current = [1]\n",
    "\n",
    "for i in range(1, 6):\n",
    "    p = current\n",
    "    print('p = ',p)\n",
    "    current = [1] \n",
    "    print ('curr', current)\n",
    "\n",
    "    "
   ]
  },
  {
   "cell_type": "markdown",
   "id": "ec40a6e3-1090-4192-ba48-1dd05fb7dcb8",
   "metadata": {},
   "source": [
    "### Patterns in python "
   ]
  },
  {
   "cell_type": "code",
   "execution_count": 43,
   "id": "e94e4a3b-cc7e-466f-809f-2db38a49ecda",
   "metadata": {},
   "outputs": [
    {
     "name": "stdout",
     "output_type": "stream",
     "text": [
      "\n",
      "* * * \n",
      "* * * \n",
      "* * * "
     ]
    }
   ],
   "source": [
    "def square(num):\n",
    "    for row in range(0,num):\n",
    "        print()\n",
    "        for col in range(0,num):\n",
    "            print('*', end = ' ')\n",
    "\n",
    "square(3)"
   ]
  },
  {
   "cell_type": "code",
   "execution_count": 89,
   "id": "96d4b828-25ce-4caf-b941-ddb2669bf60a",
   "metadata": {},
   "outputs": [
    {
     "name": "stdout",
     "output_type": "stream",
     "text": [
      "* * * * * \n",
      "* * * * \n",
      "* * * \n",
      "* * \n",
      "* \n",
      "\n",
      "* \n",
      "* * \n",
      "* * * \n",
      "* * * * \n",
      "* * * * * "
     ]
    },
    {
     "data": {
      "text/plain": [
       "(None, None)"
      ]
     },
     "execution_count": 89,
     "metadata": {},
     "output_type": "execute_result"
    }
   ],
   "source": [
    "def right_tri(num):\n",
    "    for row in range(0,num):\n",
    "        print()\n",
    "        for col in range(0, row + 1):\n",
    "            print('*', end= ' ')\n",
    "\n",
    "def inverted_tri(num):\n",
    "    for row in range(num,0, -1):\n",
    "        for col in range(1, row+1):\n",
    "            print('*', end = ' ')\n",
    "        print()\n",
    "inverted_tri(5), right_tri(5)"
   ]
  },
  {
   "cell_type": "code",
   "execution_count": 106,
   "id": "9baef809-31da-4c90-ab61-aba5d2e719d4",
   "metadata": {},
   "outputs": [
    {
     "name": "stdout",
     "output_type": "stream",
     "text": [
      "    * \n",
      "   * * \n",
      "  * * * \n",
      " * * * * \n",
      "* * * * * \n"
     ]
    }
   ],
   "source": [
    "def equ_tri(num):\n",
    "    for row in range(1,num+1):\n",
    "        for col in range(1, num - row +1):\n",
    "            print(end = \" \")\n",
    "        for col in range(1, row + 1):\n",
    "            print(\"*\", end = \" \")\n",
    "        print()\n",
    "\n",
    "equ_tri(5)"
   ]
  },
  {
   "cell_type": "code",
   "execution_count": 107,
   "id": "ae7e9849-8802-4359-8561-41a4eecebd2a",
   "metadata": {},
   "outputs": [
    {
     "name": "stdout",
     "output_type": "stream",
     "text": [
      "* * * * * \n",
      " * * * * \n",
      "  * * * \n",
      "   * * \n",
      "    * \n"
     ]
    }
   ],
   "source": [
    "def inv_equ_tri(num):\n",
    "    for row in range(num,0,-1):\n",
    "        for col in range(1, num - row +1):\n",
    "            print(end = \" \")\n",
    "        for col in range(1, row + 1):\n",
    "            print(\"*\", end = \" \")\n",
    "        print()\n",
    "\n",
    "inv_equ_tri(5)"
   ]
  },
  {
   "cell_type": "markdown",
   "id": "0ee6b45c-8022-4e07-b167-2278e73c4e9d",
   "metadata": {},
   "source": [
    "Building a pyramid"
   ]
  },
  {
   "cell_type": "code",
   "execution_count": 123,
   "id": "f8e82aac-80ef-4187-ad40-ab4568e3919d",
   "metadata": {},
   "outputs": [
    {
     "name": "stdout",
     "output_type": "stream",
     "text": [
      "1 12 12 23 13 23 34 14 24 34 45 15 25 35 45 56 16 26 36 46 56 6"
     ]
    }
   ],
   "source": [
    "def pyramid():\n",
    "    for row in range(1,7):\n",
    "        for col in range(1,row+1):\n",
    "            print(row,col , end = \"\")\n",
    "    \n",
    "\n",
    "pyramid()"
   ]
  },
  {
   "cell_type": "code",
   "execution_count": 9,
   "id": "388056ab-1aaf-4cd7-a4e0-c86b9dbaf1c5",
   "metadata": {},
   "outputs": [
    {
     "name": "stdout",
     "output_type": "stream",
     "text": [
      "1 1\n",
      "1 22 23 2\n",
      "1 32 33 34 35 3\n",
      "1 42 43 44 45 46 47 4\n"
     ]
    }
   ],
   "source": [
    "odd = 1\n",
    "for col in range(1,5): # how deep you want your structure to go \n",
    "    for row in range(1,odd + 1): # how wide you want your structure to expand by \n",
    "        print(row,col, end =\"\")\n",
    "    print()\n",
    "    odd += 2"
   ]
  },
  {
   "cell_type": "markdown",
   "id": "229d1a81-b106-4d48-a840-4c26bf7b31cb",
   "metadata": {},
   "source": [
    "Back to the pascal's triangle"
   ]
  },
  {
   "cell_type": "code",
   "execution_count": 20,
   "id": "5027971b-e5cb-4d53-9572-d7cb8479e9fc",
   "metadata": {},
   "outputs": [
    {
     "name": "stdout",
     "output_type": "stream",
     "text": [
      "Initial current_row: [1]\n",
      "\n",
      "Processing row 1\n",
      "Previous row: [1]\n",
      "Finalizing row 1, current_row: [1, 1]\n",
      "\n",
      "Processing row 2\n",
      "Previous row: [1, 1]\n",
      "  Adding 2 to current_row: [1, 2]\n",
      "Finalizing row 2, current_row: [1, 2, 1]\n",
      "\n",
      "Processing row 3\n",
      "Previous row: [1, 2, 1]\n",
      "  Adding 3 to current_row: [1, 3]\n",
      "  Adding 3 to current_row: [1, 3, 3]\n",
      "Finalizing row 3, current_row: [1, 3, 3, 1]\n",
      "\n",
      "Processing row 4\n",
      "Previous row: [1, 3, 3, 1]\n",
      "  Adding 4 to current_row: [1, 4]\n",
      "  Adding 6 to current_row: [1, 4, 6]\n",
      "  Adding 4 to current_row: [1, 4, 6, 4]\n",
      "Finalizing row 4, current_row: [1, 4, 6, 4, 1]\n",
      "\n",
      "Processing row 5\n",
      "Previous row: [1, 4, 6, 4, 1]\n",
      "  Adding 5 to current_row: [1, 5]\n",
      "  Adding 10 to current_row: [1, 5, 10]\n",
      "  Adding 10 to current_row: [1, 5, 10, 10]\n",
      "  Adding 5 to current_row: [1, 5, 10, 10, 5]\n",
      "Finalizing row 5, current_row: [1, 5, 10, 10, 5, 1]\n",
      "\n",
      "Result for row 5: [1, 5, 10, 10, 5, 1]\n"
     ]
    }
   ],
   "source": [
    "def nth_row_pascal(n):\n",
    "    if n == 0:\n",
    "        return [1]\n",
    "\n",
    "    current_row = [1]\n",
    "    print(f\"Initial current_row: {current_row}\")\n",
    "\n",
    "    for i in range(1, n + 1):\n",
    "        previous_row = current_row\n",
    "        current_row = [1]\n",
    "        print(f\"\\nProcessing row {i}\")\n",
    "        print(f\"Previous row: {previous_row}\")\n",
    "\n",
    "        for j in range(1, i):\n",
    "            next_number = previous_row[j] + previous_row[j - 1]\n",
    "            current_row.append(next_number)\n",
    "            print(f\"  Adding {next_number} to current_row: {current_row}\")\n",
    "\n",
    "        current_row.append(1)\n",
    "        print(f\"Finalizing row {i}, current_row: {current_row}\")\n",
    "\n",
    "    return current_row\n",
    "\n",
    "# Example usage:\n",
    "n = 5\n",
    "result = nth_row_pascal(n)\n",
    "print(f\"\\nResult for row {n}: {result}\")\n"
   ]
  },
  {
   "cell_type": "code",
   "execution_count": null,
   "id": "d80fbbb5-78f5-44b0-a491-b73e2c562fec",
   "metadata": {},
   "outputs": [],
   "source": []
  },
  {
   "cell_type": "code",
   "execution_count": null,
   "id": "8c5ded9f-486a-4111-90c8-42e63b211cda",
   "metadata": {},
   "outputs": [],
   "source": []
  },
  {
   "cell_type": "code",
   "execution_count": null,
   "id": "bfe81a68-eeb2-484f-84ec-0f7f529ca953",
   "metadata": {},
   "outputs": [],
   "source": []
  },
  {
   "cell_type": "code",
   "execution_count": null,
   "id": "8cc0866a-1c13-41a3-ba91-a917dd69790e",
   "metadata": {},
   "outputs": [],
   "source": []
  },
  {
   "cell_type": "code",
   "execution_count": null,
   "id": "f70c53ed-607f-4778-9369-050f57c50856",
   "metadata": {},
   "outputs": [],
   "source": []
  },
  {
   "cell_type": "code",
   "execution_count": null,
   "id": "0a6a6471-8eaa-4714-a5aa-a9feb1cd4df7",
   "metadata": {},
   "outputs": [],
   "source": []
  },
  {
   "cell_type": "code",
   "execution_count": null,
   "id": "191613f4-6d4e-4858-98ae-026e4f65fbe2",
   "metadata": {},
   "outputs": [],
   "source": []
  },
  {
   "cell_type": "code",
   "execution_count": null,
   "id": "b9965c3a-cb0a-4b92-9d3e-099df2c771c5",
   "metadata": {},
   "outputs": [],
   "source": []
  },
  {
   "cell_type": "code",
   "execution_count": null,
   "id": "ae7b918a-faf6-473f-89eb-5c7d1402232e",
   "metadata": {},
   "outputs": [],
   "source": []
  },
  {
   "cell_type": "code",
   "execution_count": null,
   "id": "2c6ab1b5-9d95-4b24-84b6-c07a6775bfa1",
   "metadata": {},
   "outputs": [],
   "source": []
  },
  {
   "cell_type": "code",
   "execution_count": null,
   "id": "67c51b44-0eba-4233-ab32-031b668b4254",
   "metadata": {},
   "outputs": [],
   "source": []
  },
  {
   "cell_type": "code",
   "execution_count": null,
   "id": "c402f18a-27f4-4796-b03a-d4ae717ab717",
   "metadata": {},
   "outputs": [],
   "source": []
  },
  {
   "cell_type": "code",
   "execution_count": null,
   "id": "cb51039d-9b81-4602-acb3-ee25e1ad78e8",
   "metadata": {},
   "outputs": [],
   "source": []
  },
  {
   "cell_type": "code",
   "execution_count": null,
   "id": "2dfe19ed-4022-44e1-b9b1-04d1e6c7aa8e",
   "metadata": {},
   "outputs": [],
   "source": []
  },
  {
   "cell_type": "code",
   "execution_count": null,
   "id": "ed09380d-fedb-4e51-8553-59ce43b8815e",
   "metadata": {},
   "outputs": [],
   "source": []
  },
  {
   "cell_type": "code",
   "execution_count": null,
   "id": "6318dc22-ba3e-4cc5-b503-4d34855ae036",
   "metadata": {},
   "outputs": [],
   "source": []
  },
  {
   "cell_type": "code",
   "execution_count": null,
   "id": "471af7e2-445b-46cd-bf2a-a6fa59dfac7c",
   "metadata": {},
   "outputs": [],
   "source": []
  },
  {
   "cell_type": "code",
   "execution_count": null,
   "id": "6734f30b-5301-4f6e-a21f-2569128ae087",
   "metadata": {},
   "outputs": [],
   "source": []
  },
  {
   "cell_type": "code",
   "execution_count": null,
   "id": "4af7d27e-fe98-4749-99f2-25b0f8f5d147",
   "metadata": {},
   "outputs": [],
   "source": []
  },
  {
   "cell_type": "code",
   "execution_count": null,
   "id": "2d68eefd-6803-42c7-ad63-3080bdd35d40",
   "metadata": {},
   "outputs": [],
   "source": []
  },
  {
   "cell_type": "code",
   "execution_count": null,
   "id": "bd6366d7-eab2-4650-b4f8-4adc25d25bf9",
   "metadata": {},
   "outputs": [],
   "source": []
  },
  {
   "cell_type": "code",
   "execution_count": null,
   "id": "20ef9fed-cdaa-4d64-ba00-0d7ed7c6b283",
   "metadata": {},
   "outputs": [],
   "source": []
  },
  {
   "cell_type": "code",
   "execution_count": null,
   "id": "e1646613-62bc-4c63-a20b-0aa71a0b7734",
   "metadata": {},
   "outputs": [],
   "source": []
  },
  {
   "cell_type": "code",
   "execution_count": null,
   "id": "aa3c0868-8bfb-4845-a1be-66db343d703f",
   "metadata": {},
   "outputs": [],
   "source": []
  },
  {
   "cell_type": "code",
   "execution_count": null,
   "id": "8dd14396-db28-4e42-adaa-0f306b842af0",
   "metadata": {},
   "outputs": [],
   "source": []
  },
  {
   "cell_type": "code",
   "execution_count": null,
   "id": "dcb9249e-a2e2-4fac-8e3e-d690b79f696a",
   "metadata": {},
   "outputs": [],
   "source": []
  },
  {
   "cell_type": "code",
   "execution_count": null,
   "id": "e5e82c73-d584-4cc0-b632-ec60d29814a6",
   "metadata": {},
   "outputs": [],
   "source": []
  },
  {
   "cell_type": "code",
   "execution_count": null,
   "id": "1e7f5539-483a-42e6-987e-e0e33288e58b",
   "metadata": {},
   "outputs": [],
   "source": []
  },
  {
   "cell_type": "code",
   "execution_count": null,
   "id": "b1862a6b-4698-4453-aeda-a452e7b6fa1a",
   "metadata": {},
   "outputs": [],
   "source": []
  }
 ],
 "metadata": {
  "kernelspec": {
   "display_name": "Python 3 (ipykernel)",
   "language": "python",
   "name": "python3"
  },
  "language_info": {
   "codemirror_mode": {
    "name": "ipython",
    "version": 3
   },
   "file_extension": ".py",
   "mimetype": "text/x-python",
   "name": "python",
   "nbconvert_exporter": "python",
   "pygments_lexer": "ipython3",
   "version": "3.11.5"
  }
 },
 "nbformat": 4,
 "nbformat_minor": 5
}
