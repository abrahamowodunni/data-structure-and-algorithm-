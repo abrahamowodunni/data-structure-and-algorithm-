{
 "cells": [
  {
   "cell_type": "markdown",
   "id": "9233f0be-3141-4e2f-a097-5703523f9758",
   "metadata": {},
   "source": [
    "### Creating a Tree from scratch \n",
    "\n",
    "lesson learnt\n",
    "\n",
    "-\n"
   ]
  },
  {
   "cell_type": "code",
   "execution_count": 7,
   "id": "93886ea6-31dc-49c5-b034-c31c94dfc9dc",
   "metadata": {},
   "outputs": [],
   "source": [
    "class Node:\n",
    "    def __init__(self,value):\n",
    "        self.value = value\n",
    "        self.left = None\n",
    "        self.right = None\n",
    "\n",
    "    def set_value(self,value):\n",
    "        self.value = value\n",
    "\n",
    "    def get_value(self):\n",
    "        return self.value\n",
    "\n",
    "    def set_left_child(self,node):\n",
    "        self.left = node\n",
    "\n",
    "    def set_right_child(self,node):\n",
    "        self.right = node\n",
    "\n",
    "    def has_left_child(self):\n",
    "        return self.left != None\n",
    "\n",
    "    def has_right_child(self):\n",
    "        return self.right != None \n",
    "\n",
    "    def get_left_child(self):\n",
    "        return self.left\n",
    "\n",
    "    def get_right_child(self):\n",
    "        return self.right"
   ]
  },
  {
   "cell_type": "code",
   "execution_count": 8,
   "id": "f1d120ee-62ac-4b67-9a8d-322cf0421b89",
   "metadata": {},
   "outputs": [],
   "source": [
    "node = Node('fruit')"
   ]
  },
  {
   "cell_type": "code",
   "execution_count": 9,
   "id": "c5379a43-3fe8-4d64-9eb6-16a77f9f0e0c",
   "metadata": {},
   "outputs": [
    {
     "data": {
      "text/plain": [
       "'fruit'"
      ]
     },
     "execution_count": 9,
     "metadata": {},
     "output_type": "execute_result"
    }
   ],
   "source": [
    "node.get_value()"
   ]
  },
  {
   "cell_type": "code",
   "execution_count": 10,
   "id": "2eb5ac64-795e-4daa-aebd-bb4c5aa02307",
   "metadata": {},
   "outputs": [],
   "source": [
    "node.set_left_child('apple')"
   ]
  },
  {
   "cell_type": "code",
   "execution_count": 11,
   "id": "77f92299-395f-4dad-9973-1b77a2f09d2f",
   "metadata": {},
   "outputs": [
    {
     "data": {
      "text/plain": [
       "'apple'"
      ]
     },
     "execution_count": 11,
     "metadata": {},
     "output_type": "execute_result"
    }
   ],
   "source": [
    "node.get_left_child()"
   ]
  },
  {
   "cell_type": "code",
   "execution_count": 15,
   "id": "61781b39-5fbd-4f8d-b663-6a0d7d2d4322",
   "metadata": {},
   "outputs": [
    {
     "data": {
      "text/plain": [
       "False"
      ]
     },
     "execution_count": 15,
     "metadata": {},
     "output_type": "execute_result"
    }
   ],
   "source": [
    "node.has_right_child()"
   ]
  },
  {
   "cell_type": "code",
   "execution_count": 18,
   "id": "c7f115c2-de89-4cba-b4ce-c7a037e8e54f",
   "metadata": {},
   "outputs": [
    {
     "data": {
      "text/plain": [
       "True"
      ]
     },
     "execution_count": 18,
     "metadata": {},
     "output_type": "execute_result"
    }
   ],
   "source": [
    "node.set_right_child('banana')\n",
    "node.has_right_child()\n",
    "#node.get_right_child().set_right_child('fugi banana')"
   ]
  },
  {
   "cell_type": "markdown",
   "id": "6c4b6120-82a3-4828-90d7-b9779c8f7fbc",
   "metadata": {},
   "source": [
    "Actual tree"
   ]
  },
  {
   "cell_type": "code",
   "execution_count": 19,
   "id": "c33dacc2-e3f7-4fd7-9786-32ba9cf15f9c",
   "metadata": {},
   "outputs": [],
   "source": [
    "class Tree:\n",
    "    def __init__(self,value):\n",
    "        self.root = Node(value)\n",
    "\n",
    "    def get_root(self):\n",
    "        return self.root"
   ]
  },
  {
   "cell_type": "markdown",
   "id": "389294bd-6184-481d-9f54-de33719b6819",
   "metadata": {},
   "source": [
    "Depth first Search (pre-order traversal)"
   ]
  },
  {
   "cell_type": "code",
   "execution_count": 1,
   "id": "84b0069b-7380-40fc-a132-97f723239cfd",
   "metadata": {},
   "outputs": [],
   "source": [
    "class Node:\n",
    "    def __init__(self,value):\n",
    "        self.value = value\n",
    "        self.left = None\n",
    "        self.right = None\n",
    "\n",
    "    def set_value(self,value):\n",
    "        self.value = value\n",
    "\n",
    "    def get_value(self):\n",
    "        return self.value\n",
    "\n",
    "    def set_left_child(self,node):\n",
    "        self.left = node\n",
    "\n",
    "    def set_right_child(self,node):\n",
    "        self.right = node\n",
    "\n",
    "    def has_left_child(self):\n",
    "        return self.left != None\n",
    "\n",
    "    def has_right_child(self):\n",
    "        return self.right != None \n",
    "\n",
    "    def get_left_child(self):\n",
    "        return self.left\n",
    "\n",
    "    def get_right_child(self):\n",
    "        return self.right\n",
    "\n",
    "class Tree:\n",
    "    def __init__(self,value):\n",
    "        self.root = Node(value)\n",
    "\n",
    "    def get_root(self):\n",
    "        return self.root"
   ]
  },
  {
   "cell_type": "code",
   "execution_count": 2,
   "id": "79bf74e0-4393-4cbe-a6fb-92f9ed17e72c",
   "metadata": {},
   "outputs": [],
   "source": [
    "tree = Tree('fruit')"
   ]
  },
  {
   "cell_type": "code",
   "execution_count": 3,
   "id": "89148821-ba78-4aae-90c3-c01ddcc044bb",
   "metadata": {},
   "outputs": [],
   "source": [
    "tree.get_root().set_left_child(Node('apple'))\n",
    "tree.get_root().set_right_child(Node('banana'))\n",
    "\n",
    "tree.get_root().get_left_child().set_left_child(Node('green apple'))\n",
    "tree.get_root().get_left_child().set_right_child(Node('red apple'))"
   ]
  },
  {
   "attachments": {
    "a843ff17-aec3-4186-acfc-f7795a0e3222.png": {
     "image/png": "[encoded data removed]"
    }
   },
   "cell_type": "markdown",
   "id": "d77eaf30-c79e-4eb2-8de8-d414e28bd194",
   "metadata": {},
   "source": [
    "### Depth first, pre-order traversal with a stack\n",
    "\n",
    "![image.png](attachment:a843ff17-aec3-4186-acfc-f7795a0e3222.png)"
   ]
  },
  {
   "cell_type": "code",
   "execution_count": 4,
   "id": "696b68ef-6a90-4050-9504-18dbf9b4dc47",
   "metadata": {},
   "outputs": [],
   "source": [
    "class Stack:\n",
    "    def __init__(self):\n",
    "        self.items =[]\n",
    "\n",
    "    def push(self,value):\n",
    "        self.items.append(value)\n",
    "\n",
    "    def pop(self):\n",
    "        self.items.pop()\n",
    "\n",
    "    def top(self):\n",
    "        if len(self.items) >= 1:\n",
    "            return self.items[-1]\n",
    "        else:\n",
    "            return None\n",
    "    def is_empty(self):\n",
    "        return len(self.items) == 0\n",
    "    "
   ]
  },
  {
   "cell_type": "markdown",
   "id": "45f4436c-c90b-4ea0-9705-0b5e1d725555",
   "metadata": {},
   "source": [
    "### pre-order traversal using a stack"
   ]
  },
  {
   "cell_type": "code",
   "execution_count": 10,
   "id": "20968ef9-7599-44c5-8d50-6510e444f646",
   "metadata": {},
   "outputs": [],
   "source": [
    "## solution -> fruit, apple, green, red, banana\n",
    "\n",
    "def pre_order_with_stack_buggy(tree):\n",
    "    visit_order = []\n",
    "    stack = Stack()\n",
    "    node = tree.get_root()\n",
    "    stack.push(node)\n",
    "    visit_order.append(node.get_value())\n",
    "\n",
    "    count = 0\n",
    "    limit = 9\n",
    "\n",
    "    while node and count < limit:\n",
    "        if node.has_left_child():\n",
    "            node = node.get_left_child()\n",
    "            stack.push(node)\n",
    "            visit_order.append(node.get_value())\n",
    "            \n",
    "\n",
    "        elif node.has_right_child():\n",
    "            node = node.get_right_child()\n",
    "            stack.push(node)\n",
    "            visit_order.append(node.get_value())\n",
    "            \n",
    "\n",
    "        else:\n",
    "            stack.pop()\n",
    "            if not stack.is_empty():\n",
    "                node = stack.top()\n",
    "            else:\n",
    "                node = None\n",
    "        count += 1\n",
    "\n",
    "    return visit_order\n",
    "    "
   ]
  },
  {
   "cell_type": "code",
   "execution_count": 11,
   "id": "e0656a14-02b7-403a-84ea-2307162c6599",
   "metadata": {},
   "outputs": [
    {
     "data": {
      "text/plain": [
       "['fruit', 'apple', 'green apple', 'green apple', 'green apple', 'green apple']"
      ]
     },
     "execution_count": 11,
     "metadata": {},
     "output_type": "execute_result"
    }
   ],
   "source": [
    "pre_order_with_stack_buggy(tree)"
   ]
  },
  {
   "cell_type": "markdown",
   "id": "fce5b259-2b51-4a7e-aae4-2814fbb909e7",
   "metadata": {},
   "source": [
    "try again on your own"
   ]
  },
  {
   "cell_type": "code",
   "execution_count": 9,
   "id": "13c9a489-c92a-48d2-8547-c8e82e77c657",
   "metadata": {},
   "outputs": [],
   "source": [
    "def pre_order_with_stack_buggy(tree):\n",
    "    visit_order = []\n",
    "    stack = Stack()\n",
    "    node = tree.get_root()\n",
    "    stack.push(node)\n",
    "    visit_order.append(node.get_value())\n",
    "\n",
    "    count = 0\n",
    "    limit = 9\n",
    "\n",
    "    while node and count < limit:\n",
    "        if node.has_left_child():\n",
    "            node = node.get_left_child()\n",
    "            stack.push(node)\n",
    "            visit_order.append(node.get_value())\n",
    "\n",
    "        elif node.has_right_child():\n",
    "            node = node.get_right_child()\n",
    "            stack.push(node)\n",
    "            visit_order.append(node.get_value())\n",
    "\n",
    "        else:\n",
    "            stack.pop()\n",
    "            if not stack.is_empty():\n",
    "                node = stack.top()\n",
    "            else:\n",
    "                node = None\n",
    "        count += 1\n",
    "\n",
    "    return visit_order\n",
    "            "
   ]
  },
  {
   "cell_type": "code",
   "execution_count": 10,
   "id": "af504756-e6b8-4e63-8f79-27f97329bcdd",
   "metadata": {},
   "outputs": [
    {
     "data": {
      "text/plain": [
       "['fruit', 'apple', 'green apple', 'green apple', 'green apple', 'green apple']"
      ]
     },
     "execution_count": 10,
     "metadata": {},
     "output_type": "execute_result"
    }
   ],
   "source": [
    "pre_order_with_stack_buggy(tree)"
   ]
  },
  {
   "cell_type": "markdown",
   "id": "f6eee6b0-f1b0-4477-9d32-4e56fba640df",
   "metadata": {},
   "source": [
    "### pre-order traversal using a stack, tracking state"
   ]
  },
  {
   "cell_type": "code",
   "execution_count": 11,
   "id": "26052100-b5ac-45c7-a6b3-0b15a47364d1",
   "metadata": {},
   "outputs": [],
   "source": [
    "class State:\n",
    "    def __init__(self,node):\n",
    "        self.node = node\n",
    "        self.visited_left = False\n",
    "        self.visited_right = False\n",
    "\n",
    "    def get_node(self):\n",
    "        return self.node\n",
    "\n",
    "    def has_visited_left(self):\n",
    "        return self.visited_left\n",
    "\n",
    "    def has_visited_right(self):\n",
    "        return self.visited_right\n",
    "\n",
    "    def set_visited_left(self):\n",
    "        self.visited_left = True\n",
    "\n",
    "    def set_visited_right(self):\n",
    "        self.visited_right = True\n",
    "\n"
   ]
  },
  {
   "cell_type": "code",
   "execution_count": 23,
   "id": "ead05353-d326-406e-b6dc-9f9ca0645012",
   "metadata": {},
   "outputs": [
    {
     "data": {
      "text/plain": [
       "['fruit', 'apple', 'green apple', 'red apple', 'banana']"
      ]
     },
     "execution_count": 23,
     "metadata": {},
     "output_type": "execute_result"
    }
   ],
   "source": [
    "def pre_order_with_stack(tree):\n",
    "    visited_order = []\n",
    "    stack = Stack()\n",
    "    node = tree.get_root()\n",
    "    state = State(node)\n",
    "    visited_order.append(node.get_value())\n",
    "    stack.push(state)\n",
    "\n",
    "    count = 0\n",
    "\n",
    "    while node:\n",
    "        if node.has_left_child() and not state.has_visited_left():\n",
    "            state.set_visited_left()\n",
    "            node = node.get_left_child()\n",
    "            visited_order.append(node.get_value())\n",
    "            state = State(node)\n",
    "            stack.push(state)\n",
    "            \n",
    "\n",
    "        elif node.has_right_child() and not state.has_visited_right():\n",
    "            state.set_visited_right()\n",
    "            node = node.get_right_child()\n",
    "            visited_order.append(node.get_value())\n",
    "            state = State(node)\n",
    "            \n",
    "\n",
    "        else:\n",
    "            stack.pop()\n",
    "            if not stack.is_empty():\n",
    "                state = stack.top()\n",
    "                node = state.get_node()\n",
    "            else:\n",
    "                node = None\n",
    "\n",
    "        count += 1\n",
    "    return visited_order\n",
    "\n",
    "pre_order_with_stack(tree)"
   ]
  },
  {
   "cell_type": "code",
   "execution_count": 29,
   "id": "fbe588ec-83c4-47df-a001-6d351f5ec603",
   "metadata": {},
   "outputs": [
    {
     "data": {
      "text/plain": [
       "['fruit', 'apple', 'red apple']"
      ]
     },
     "execution_count": 29,
     "metadata": {},
     "output_type": "execute_result"
    }
   ],
   "source": [
    "def pre_order_with_stack(tree):\n",
    "    visited_order = []\n",
    "    stack = Stack()\n",
    "    node = tree.get_root()\n",
    "    state = State(node)\n",
    "    visited_order.append(node.get_value())\n",
    "    stack.push(node)\n",
    "\n",
    "    count = 0\n",
    "\n",
    "    while node:\n",
    "        if node.has_left_child() and not state.has_visited_left():\n",
    "            state.set_visited_left()\n",
    "            node = node.get_left_child()\n",
    "            visited_order.append(node.get_value())\n",
    "            stack.push(node)\n",
    "            \n",
    "\n",
    "        elif node.has_right_child() and not state.has_visited_right():\n",
    "            state.set_visited_right()\n",
    "            node = node.get_right_child()\n",
    "            visited_order.append(node.get_value())\n",
    "            stack.push(node)\n",
    "            \n",
    "\n",
    "        else:\n",
    "            stack.pop()\n",
    "            if not stack.is_empty():\n",
    "                node = stack.top()\n",
    "            else:\n",
    "                node = None\n",
    "\n",
    "        count += 1\n",
    "    return visited_order\n",
    "\n",
    "pre_order_with_stack(tree)"
   ]
  },
  {
   "cell_type": "markdown",
   "id": "9308858b-6a63-4f2e-98b9-739edaf9a02d",
   "metadata": {},
   "source": [
    "### pre-order traversal with recursion"
   ]
  },
  {
   "cell_type": "code",
   "execution_count": 30,
   "id": "c764761c-89f3-4538-aa61-371105daaf89",
   "metadata": {},
   "outputs": [
    {
     "ename": "SyntaxError",
     "evalue": "unterminated string literal (detected at line 6) (2777215918.py, line 6)",
     "output_type": "error",
     "traceback": [
      "\u001b[1;36m  Cell \u001b[1;32mIn[30], line 6\u001b[1;36m\u001b[0m\n\u001b[1;33m    def traverse(node)\"\u001b[0m\n\u001b[1;37m                      ^\u001b[0m\n\u001b[1;31mSyntaxError\u001b[0m\u001b[1;31m:\u001b[0m unterminated string literal (detected at line 6)\n"
     ]
    }
   ],
   "source": [
    "def pre_oder(tree):\n",
    "    visit_order = []\n",
    "    root = tree.get_root()\n",
    "    traverse(root)\n",
    "\n",
    "    def traverse(node)"
   ]
  },
  {
   "cell_type": "code",
   "execution_count": 1,
   "id": "6b21f301-d318-45da-a8f9-2e151c6aef2d",
   "metadata": {},
   "outputs": [],
   "source": [
    "class Node:\n",
    "    def __init__(self,value):\n",
    "        self.value = value\n",
    "        self.left = None\n",
    "        self.right = None\n",
    "\n",
    "    def set_value(self,value):\n",
    "        self.value = value\n",
    "\n",
    "    def get_value(self):\n",
    "        return self.value\n",
    "\n",
    "    def set_left_child(self,node):\n",
    "        self.left = node\n",
    "\n",
    "    def set_right_child(self,node):\n",
    "        self.right = node\n",
    "\n",
    "    def has_left_child(self):\n",
    "        return self.left != None\n",
    "\n",
    "    def has_right_child(self):\n",
    "        return self.right != None\n",
    "\n",
    "    def get_left_child(self):\n",
    "        return self.left\n",
    "\n",
    "    def get_right_child(self):\n",
    "        return self.right\n",
    "\n",
    "\n",
    "class Tree:\n",
    "    def __init__(self,value):\n",
    "        self.root = Node(value)\n",
    "\n",
    "    def get_root(self):\n",
    "        return self.root"
   ]
  },
  {
   "cell_type": "code",
   "execution_count": 2,
   "id": "42e0e936-ae6e-4a36-9bb4-381d60efb3fd",
   "metadata": {},
   "outputs": [],
   "source": [
    "class Stack:\n",
    "    def __init__(self):\n",
    "        self.list = []\n",
    "\n",
    "    def push(self,value):\n",
    "        self.list.append(value)\n",
    "\n",
    "    def pop(self):\n",
    "        self.list.pop()\n",
    "\n",
    "    def top(self):\n",
    "        if not self.is_empty():\n",
    "            return self.list[-1]\n",
    "        else:\n",
    "            return None\n",
    "            \n",
    "    def is_empty(self):\n",
    "        return len(self.list) == 0"
   ]
  },
  {
   "cell_type": "code",
   "execution_count": 3,
   "id": "b92fe89c-b0ff-4fe6-9aa6-2b22b415d7e3",
   "metadata": {},
   "outputs": [],
   "source": [
    "class State:\n",
    "    def __init__(self,node):\n",
    "        self.node = node\n",
    "        self.visited_left = False\n",
    "        self.visited_right = False\n",
    "\n",
    "    def get_node(self):\n",
    "        return self.node\n",
    "\n",
    "    def visited_left_child(self):\n",
    "        return self.visited_left\n",
    "\n",
    "    def visited_right_child(self):\n",
    "        return self.visited_right\n",
    "\n",
    "    def set_left_child(self):\n",
    "        self.visited_left = True\n",
    "\n",
    "    def set_right_child(self):\n",
    "        self.visited_right = True\n",
    "    "
   ]
  },
  {
   "cell_type": "code",
   "execution_count": 42,
   "id": "435b92ae-ba2c-4fdd-84ca-64168d704dd6",
   "metadata": {},
   "outputs": [],
   "source": [
    "tree = Tree('cars')\n",
    "\n",
    "tree.get_root().set_left_child(Node('mercerdes-benz'))\n",
    "tree.get_root().set_right_child(Node('toyota'))\n",
    "\n",
    "tree.get_root().get_left_child().set_left_child(Node('E-class'))\n",
    "tree.get_root().get_left_child().set_right_child(Node('C-class'))"
   ]
  },
  {
   "cell_type": "code",
   "execution_count": 7,
   "id": "63aeb552-921f-4e2c-abef-83ac8a15b774",
   "metadata": {},
   "outputs": [
    {
     "data": {
      "text/plain": [
       "['cars', 'mercerdes-benz', 'E-class', 'C-class', 'toyota']"
      ]
     },
     "execution_count": 7,
     "metadata": {},
     "output_type": "execute_result"
    }
   ],
   "source": [
    "def pre_order_DFS(tree):\n",
    "    visit_order = []\n",
    "    stack = Stack()\n",
    "    node = tree.get_root()\n",
    "    visit_order.append(node.get_value())\n",
    "    state = State(node)\n",
    "    stack.push(state)\n",
    "\n",
    "    count = 0\n",
    "    while node:\n",
    "        if node.has_left_child() and not state.visited_left_child():\n",
    "            state.set_left_child()\n",
    "            node = node.get_left_child()\n",
    "            visit_order.append(node.get_value())\n",
    "            state = State(node)\n",
    "            stack.push(state)\n",
    "\n",
    "        elif node.has_right_child() and not state.visited_right_child():\n",
    "            state.set_right_child()\n",
    "            node = node.get_right_child()\n",
    "            visit_order.append(node.get_value())\n",
    "            state = State(node)\n",
    "            stack.push(state)\n",
    "\n",
    "        else:\n",
    "            stack.pop()\n",
    "            if not stack.is_empty():\n",
    "                state = stack.top()\n",
    "                node = state.get_node()\n",
    "            else:\n",
    "                node = None\n",
    "\n",
    "        count += 1\n",
    "    return visit_order\n",
    "\n",
    "pre_order_DFS(tree)"
   ]
  },
  {
   "cell_type": "code",
   "execution_count": 8,
   "id": "98096d0f-8b67-4a9f-ad4d-394fe3ed4774",
   "metadata": {},
   "outputs": [
    {
     "data": {
      "text/plain": [
       "['cars', 'mercerdes-benz', 'E-class', 'C-class', 'toyota']"
      ]
     },
     "execution_count": 8,
     "metadata": {},
     "output_type": "execute_result"
    }
   ],
   "source": [
    "def pre_order(tree):\n",
    "    visited_order = []\n",
    "    root = tree.get_root()\n",
    "\n",
    "    def traverse(node):\n",
    "        if node:\n",
    "            visited_order.append(node.get_value())\n",
    "            # left\n",
    "            traverse(node.get_left_child())\n",
    "            # right\n",
    "            traverse(node.get_right_child())\n",
    "    traverse(root)\n",
    "\n",
    "    return visited_order\n",
    "\n",
    "pre_order(tree)"
   ]
  },
  {
   "cell_type": "markdown",
   "id": "53a7e9b6-0bad-4a48-a062-fc76040027d9",
   "metadata": {},
   "source": [
    "In-order traversal"
   ]
  },
  {
   "cell_type": "code",
   "execution_count": 12,
   "id": "3dbb0810-c5c5-473e-9233-32b484ec5c58",
   "metadata": {},
   "outputs": [
    {
     "data": {
      "text/plain": [
       "['E-class', 'mercerdes-benz', 'C-class', 'cars', 'toyota']"
      ]
     },
     "execution_count": 12,
     "metadata": {},
     "output_type": "execute_result"
    }
   ],
   "source": [
    "def in_order(tree):\n",
    "    visit_order = []\n",
    "    root = tree.get_root()\n",
    "\n",
    "    def traverse(node):\n",
    "        if node:\n",
    "            traverse(node.get_left_child())\n",
    "            visit_order.append(node.get_value())\n",
    "            traverse(node.get_right_child())\n",
    "    traverse(root)\n",
    "    return visit_order\n",
    "\n",
    "in_order(tree)"
   ]
  },
  {
   "cell_type": "markdown",
   "id": "8a998647-f2e3-407d-9990-5c00c435e63b",
   "metadata": {},
   "source": [
    "Post-order traversal"
   ]
  },
  {
   "cell_type": "code",
   "execution_count": 15,
   "id": "1b081db4-ddf2-4222-b3cb-5fb71a7e4f5d",
   "metadata": {},
   "outputs": [
    {
     "data": {
      "text/plain": [
       "['E-class', 'C-class', 'mercerdes-benz', 'toyota', 'cars']"
      ]
     },
     "execution_count": 15,
     "metadata": {},
     "output_type": "execute_result"
    }
   ],
   "source": [
    "def post_order(tree):\n",
    "    visit_order = []\n",
    "    root = tree.get_root()\n",
    "    \n",
    "\n",
    "    def traverse(node):\n",
    "        if node:\n",
    "            traverse(node.get_left_child())\n",
    "            traverse(node.get_right_child())\n",
    "            visit_order.append(node.get_value())\n",
    "           \n",
    "            \n",
    "    traverse(root)\n",
    "    return visit_order\n",
    "\n",
    "post_order(tree)"
   ]
  },
  {
   "cell_type": "markdown",
   "id": "16b378ed-8506-4f1b-94ab-1e63574af5de",
   "metadata": {},
   "source": [
    "Breath first search"
   ]
  },
  {
   "cell_type": "code",
   "execution_count": 20,
   "id": "41542a67-9d35-43f5-9380-31dcc8a61338",
   "metadata": {},
   "outputs": [
    {
     "data": {
      "text/plain": [
       "deque(['Banana', 'Apple'])"
      ]
     },
     "execution_count": 20,
     "metadata": {},
     "output_type": "execute_result"
    }
   ],
   "source": [
    "from collections import deque\n",
    "\n",
    "q = deque()\n",
    "q.append('Apple')\n",
    "q.appendleft('Banana')\n",
    "\n",
    "q"
   ]
  },
  {
   "cell_type": "code",
   "execution_count": 19,
   "id": "a74b50da-390c-4db1-a392-593f2e6a424e",
   "metadata": {},
   "outputs": [
    {
     "data": {
      "text/plain": [
       "deque(['Banana'])"
      ]
     },
     "execution_count": 19,
     "metadata": {},
     "output_type": "execute_result"
    }
   ],
   "source": [
    "q.pop()\n",
    "q"
   ]
  },
  {
   "cell_type": "code",
   "execution_count": 21,
   "id": "875893a3-835e-4959-a5c9-cec1895d8b78",
   "metadata": {},
   "outputs": [
    {
     "data": {
      "text/plain": [
       "deque(['Apple'])"
      ]
     },
     "execution_count": 21,
     "metadata": {},
     "output_type": "execute_result"
    }
   ],
   "source": [
    "q.popleft()\n",
    "q"
   ]
  },
  {
   "cell_type": "code",
   "execution_count": 34,
   "id": "5c670434-2691-450c-8fba-8f9d7406576a",
   "metadata": {},
   "outputs": [],
   "source": [
    "class Queue():\n",
    "    def __init__(self):\n",
    "        self.q = deque()\n",
    "\n",
    "    def enq(self,value):\n",
    "        self.q.append(value)\n",
    "\n",
    "    def deq(self):\n",
    "        if len(self.q) > 0:\n",
    "            return self.q.popleft()\n",
    "        else:\n",
    "            return None\n",
    "\n",
    "    def __repr__(self):\n",
    "        if len(self.q) > 0:\n",
    "            s = \"<dequeue here>\\n_________________\\n\"\n",
    "            s += \"\\n_________________\\n\".join([str(item) for item in self.q])\n",
    "            s += \"\\n_________________\\n<enqueue here>\" \n",
    "            return s\n",
    "        else:\n",
    "            return \"<queue is empty>\""
   ]
  },
  {
   "cell_type": "code",
   "execution_count": 35,
   "id": "b063f4d2-ae9c-48f9-b9f7-a60202219729",
   "metadata": {},
   "outputs": [
    {
     "data": {
      "text/plain": [
       "<dequeue here>\n",
       "_________________\n",
       "apple\n",
       "_________________\n",
       "banana\n",
       "_________________\n",
       "cherry\n",
       "_________________\n",
       "<enqueue here>"
      ]
     },
     "execution_count": 35,
     "metadata": {},
     "output_type": "execute_result"
    }
   ],
   "source": [
    "q = Queue()\n",
    "q.enq(\"apple\")\n",
    "q.enq('banana')\n",
    "q.enq('cherry')\n",
    "q"
   ]
  },
  {
   "cell_type": "code",
   "execution_count": 36,
   "id": "b71d9e6f-0b89-4641-9dea-0b9b86fce47b",
   "metadata": {},
   "outputs": [
    {
     "data": {
      "text/plain": [
       "'apple'"
      ]
     },
     "execution_count": 36,
     "metadata": {},
     "output_type": "execute_result"
    }
   ],
   "source": [
    "q.deq()"
   ]
  },
  {
   "cell_type": "code",
   "execution_count": 37,
   "id": "134f2c88-640f-4c27-a8d2-65c3e2f24a42",
   "metadata": {},
   "outputs": [
    {
     "data": {
      "text/plain": [
       "<dequeue here>\n",
       "_________________\n",
       "banana\n",
       "_________________\n",
       "cherry\n",
       "_________________\n",
       "<enqueue here>"
      ]
     },
     "execution_count": 37,
     "metadata": {},
     "output_type": "execute_result"
    }
   ],
   "source": [
    "q"
   ]
  },
  {
   "cell_type": "code",
   "execution_count": 38,
   "id": "d61337f5-6599-4beb-9d23-7f932fb1a6fa",
   "metadata": {},
   "outputs": [],
   "source": [
    "from collections import deque\n",
    "class Queue():\n",
    "    def __init__(self):\n",
    "        self.q = deque()\n",
    "        \n",
    "    def enq(self,value):\n",
    "        self.q.appendleft(value)\n",
    "        \n",
    "    def deq(self):\n",
    "        if len(self.q) > 0:\n",
    "            return self.q.pop()\n",
    "        else:\n",
    "            return None\n",
    "    \n",
    "    def __len__(self):\n",
    "        return len(self.q)\n",
    "    \n",
    "    def __repr__(self):\n",
    "        if len(self.q) > 0:\n",
    "            s = \"<enqueue here>\\n_________________\\n\" \n",
    "            s += \"\\n_________________\\n\".join([str(item) for item in self.q])\n",
    "            s += \"\\n_________________\\n<dequeue here>\"\n",
    "            return s\n",
    "        else:\n",
    "            return \"<queue is empty>\""
   ]
  },
  {
   "cell_type": "code",
   "execution_count": 39,
   "id": "b4bc447f-c514-469c-930c-611a9a36346f",
   "metadata": {},
   "outputs": [
    {
     "data": {
      "text/plain": [
       "<enqueue here>\n",
       "_________________\n",
       "cherry\n",
       "_________________\n",
       "banana\n",
       "_________________\n",
       "apple\n",
       "_________________\n",
       "<dequeue here>"
      ]
     },
     "execution_count": 39,
     "metadata": {},
     "output_type": "execute_result"
    }
   ],
   "source": [
    "q = Queue()\n",
    "q.enq(\"apple\")\n",
    "q.enq('banana')\n",
    "q.enq('cherry')\n",
    "q"
   ]
  },
  {
   "cell_type": "code",
   "execution_count": 44,
   "id": "deab3d8c-bf74-4580-8912-c6fc1a2084d4",
   "metadata": {},
   "outputs": [
    {
     "data": {
      "text/plain": [
       "['cars', 'mercerdes-benz', 'toyota', 'E-class', 'C-class']"
      ]
     },
     "execution_count": 44,
     "metadata": {},
     "output_type": "execute_result"
    }
   ],
   "source": [
    "def bfs(tree):\n",
    "    visit_order = []\n",
    "    q = Queue()\n",
    "    node = tree.get_root()\n",
    "    q.enq(node)\n",
    "    \n",
    "    while len(q) > 0:\n",
    "        node = q.deq()\n",
    "        visit_order.append(node.get_value())\n",
    "        if node.has_left_child():\n",
    "            q.enq(node.get_left_child())\n",
    "        if node.has_right_child():\n",
    "            q.enq(node.get_right_child())\n",
    "    return visit_order\n",
    "\n",
    "bfs(tree)"
   ]
  },
  {
   "cell_type": "markdown",
   "id": "23c99c2a-c004-47f2-a4f0-2e075470049e",
   "metadata": {},
   "source": [
    "Binary search tree"
   ]
  },
  {
   "cell_type": "code",
   "execution_count": 4,
   "id": "99103b5b-e70e-4316-89e7-e203c2bbbe26",
   "metadata": {},
   "outputs": [],
   "source": [
    "class Node:\n",
    "    def __init__(self,value):\n",
    "        self.value = value\n",
    "        self.left = None\n",
    "        self.right = None\n",
    "\n",
    "    def set_value(self,value):\n",
    "        self.value = value\n",
    "\n",
    "    def get_value(self):\n",
    "        return self.value\n",
    "\n",
    "    def set_left_child(self,node):\n",
    "        self.left = node\n",
    "\n",
    "    def set_right_child(self,node):\n",
    "        self.right = node\n",
    "\n",
    "    def has_left_child(self):\n",
    "        return self.left != None\n",
    "\n",
    "    def has_right_child(self):\n",
    "        return self.right != None\n",
    "\n",
    "    def get_left_child(self):\n",
    "        return self.left\n",
    "\n",
    "    def get_right_child(self):\n",
    "        return self.right\n",
    "\n",
    "from collections import deque\n",
    "class Queue():\n",
    "    def __init__(self):\n",
    "        self.q = deque()\n",
    "        \n",
    "    def enq(self,value):\n",
    "        self.q.appendleft(value)\n",
    "        \n",
    "    def deq(self):\n",
    "        if len(self.q) > 0:\n",
    "            return self.q.pop()\n",
    "        else:\n",
    "            return None\n",
    "    \n",
    "    def __len__(self):\n",
    "        return len(self.q)\n",
    "    \n",
    "    def __repr__(self):\n",
    "        if len(self.q) > 0:\n",
    "            s = \"<enqueue here>\\n_________________\\n\" \n",
    "            s += \"\\n_________________\\n\".join([str(item) for item in self.q])\n",
    "            s += \"\\n_________________\\n<dequeue here>\"\n",
    "            return s\n",
    "        else:\n",
    "            return \"<queue is empty>\""
   ]
  },
  {
   "cell_type": "code",
   "execution_count": 8,
   "id": "4c4e1e40-6237-4ef1-8059-0961a86b7f95",
   "metadata": {},
   "outputs": [],
   "source": [
    "class Tree():\n",
    "    def __init__(self):\n",
    "        self.root = None\n",
    "\n",
    "    def set_root(self,value):\n",
    "        self.root = Node(value)\n",
    "\n",
    "    def get_root(self):\n",
    "        return self.root\n",
    "\n",
    "    def compare(self, node, new_node):\n",
    "        if new_node.get_value() == node.get_value():\n",
    "            return 0\n",
    "        elif new_node.get_value() < node.get_value():\n",
    "            return -1\n",
    "        else:\n",
    "            return 1\n",
    "\n",
    "    # inserting with loop:\n",
    "    def insert_with_loop(self,new_value):\n",
    "        if self.root is None:\n",
    "            self.set_root(Node(new_value))\n",
    "            return\n",
    "        node = self.get_root()\n",
    "        new_node = Node(new_value)\n",
    "        while True:\n",
    "            comparison = self.compare(node,new_node)\n",
    "            if comparison == 0:\n",
    "                node.set_value(new_node.get_value())\n",
    "                break\n",
    "            elif comparison == -1:\n",
    "                if node.has_left_child():\n",
    "                    node = node.get_left_child()\n",
    "                else:\n",
    "                    node.set_left_child(new_node)\n",
    "                    break\n",
    "            else:\n",
    "                if node.has_right_child():\n",
    "                    node = node.get_right_child()\n",
    "                else:\n",
    "                    node.set_right_child(new_node)\n",
    "                    break\n",
    "        \n",
    "\n",
    "    def insert_with_recursion(self,value):\n",
    "        if self.get_root() == None:\n",
    "            self.set_root(value)\n",
    "            return\n",
    "\n",
    "        self.insert_resursively(self.get_root(),Node(value))\n",
    "\n",
    "    def insert_resursively(self,node,new_node):\n",
    "        comparision = self.compare(node, new_node)\n",
    "        if comparision == 0:\n",
    "            node.set_value(new_node.get_value())\n",
    "        elif comparision == -1:\n",
    "            if node.has_left_child():\n",
    "                self.insert_resursively(node.get_left_child(),new_node)\n",
    "            else:\n",
    "                node.set_left_child(new_node)\n",
    "\n",
    "        else:\n",
    "            if node.has_right_child():\n",
    "                self.insert_resursively(node.get_right_child(), new_node)\n",
    "            else:\n",
    "                node.set_right_child(new_node)\n",
    "\n",
    "    # def search(self,value):\n",
    "    #     node = self.get_root()\n",
    "    #     while node:\n",
    "    #         comparision = compare\n",
    "    #         if \n",
    "    def __repr__(self):\n",
    "        level = 0\n",
    "        q = Queue()\n",
    "        visit_order = list()\n",
    "        node = self.get_root()\n",
    "        q.enq( (node,level) )\n",
    "        while(len(q) > 0):\n",
    "            node, level = q.deq()\n",
    "            if node == None:\n",
    "                visit_order.append( (\"<empty>\", level))\n",
    "                continue\n",
    "            visit_order.append( (node, level) )\n",
    "            if node.has_left_child():\n",
    "                q.enq( (node.get_left_child(), level +1 ))\n",
    "            else:\n",
    "                q.enq( (None, level +1) )\n",
    "\n",
    "            if node.has_right_child():\n",
    "                q.enq( (node.get_right_child(), level +1 ))\n",
    "            else:\n",
    "                q.enq( (None, level +1) )\n",
    "\n",
    "        s = \"Tree\\n\"\n",
    "        previous_level = -1\n",
    "        for i in range(len(visit_order)):\n",
    "            node, level = visit_order[i]\n",
    "            if level == previous_level:\n",
    "                s += \" | \" + str(node) \n",
    "            else:\n",
    "                s += \"\\n\" + str(node)\n",
    "                previous_level = level\n",
    "\n",
    "                \n",
    "        return s\n",
    "        \n",
    "        "
   ]
  },
  {
   "cell_type": "code",
   "execution_count": 9,
   "id": "96d6a9d4-bd89-4df9-9b3b-957f987879db",
   "metadata": {},
   "outputs": [
    {
     "ename": "TypeError",
     "evalue": "'<' not supported between instances of 'int' and 'Node'",
     "output_type": "error",
     "traceback": [
      "\u001b[1;31m---------------------------------------------------------------------------\u001b[0m",
      "\u001b[1;31mTypeError\u001b[0m                                 Traceback (most recent call last)",
      "Cell \u001b[1;32mIn[9], line 3\u001b[0m\n\u001b[0;32m      1\u001b[0m tree \u001b[38;5;241m=\u001b[39m Tree()\n\u001b[0;32m      2\u001b[0m tree\u001b[38;5;241m.\u001b[39minsert_with_loop(\u001b[38;5;241m5\u001b[39m)\n\u001b[1;32m----> 3\u001b[0m tree\u001b[38;5;241m.\u001b[39minsert_with_loop(\u001b[38;5;241m6\u001b[39m)\n\u001b[0;32m      4\u001b[0m tree\u001b[38;5;241m.\u001b[39minsert_with_loop(\u001b[38;5;241m4\u001b[39m)\n\u001b[0;32m      5\u001b[0m tree\u001b[38;5;241m.\u001b[39minsert_with_loop(\u001b[38;5;241m2\u001b[39m)\n",
      "Cell \u001b[1;32mIn[8], line 27\u001b[0m, in \u001b[0;36mTree.insert_with_loop\u001b[1;34m(self, new_value)\u001b[0m\n\u001b[0;32m     25\u001b[0m new_node \u001b[38;5;241m=\u001b[39m Node(new_value)\n\u001b[0;32m     26\u001b[0m \u001b[38;5;28;01mwhile\u001b[39;00m \u001b[38;5;28;01mTrue\u001b[39;00m:\n\u001b[1;32m---> 27\u001b[0m     comparison \u001b[38;5;241m=\u001b[39m \u001b[38;5;28mself\u001b[39m\u001b[38;5;241m.\u001b[39mcompare(node,new_node)\n\u001b[0;32m     28\u001b[0m     \u001b[38;5;28;01mif\u001b[39;00m comparison \u001b[38;5;241m==\u001b[39m \u001b[38;5;241m0\u001b[39m:\n\u001b[0;32m     29\u001b[0m         node\u001b[38;5;241m.\u001b[39mset_value(new_node\u001b[38;5;241m.\u001b[39mget_value())\n",
      "Cell \u001b[1;32mIn[8], line 14\u001b[0m, in \u001b[0;36mTree.compare\u001b[1;34m(self, node, new_node)\u001b[0m\n\u001b[0;32m     12\u001b[0m \u001b[38;5;28;01mif\u001b[39;00m new_node\u001b[38;5;241m.\u001b[39mget_value() \u001b[38;5;241m==\u001b[39m node\u001b[38;5;241m.\u001b[39mget_value():\n\u001b[0;32m     13\u001b[0m     \u001b[38;5;28;01mreturn\u001b[39;00m \u001b[38;5;241m0\u001b[39m\n\u001b[1;32m---> 14\u001b[0m \u001b[38;5;28;01melif\u001b[39;00m new_node\u001b[38;5;241m.\u001b[39mget_value() \u001b[38;5;241m<\u001b[39m node\u001b[38;5;241m.\u001b[39mget_value():\n\u001b[0;32m     15\u001b[0m     \u001b[38;5;28;01mreturn\u001b[39;00m \u001b[38;5;241m-\u001b[39m\u001b[38;5;241m1\u001b[39m\n\u001b[0;32m     16\u001b[0m \u001b[38;5;28;01melse\u001b[39;00m:\n",
      "\u001b[1;31mTypeError\u001b[0m: '<' not supported between instances of 'int' and 'Node'"
     ]
    }
   ],
   "source": [
    "tree = Tree()\n",
    "tree.insert_with_loop(5)\n",
    "tree.insert_with_loop(6)\n",
    "tree.insert_with_loop(4)\n",
    "tree.insert_with_loop(2)\n",
    "tree.insert_with_loop(5) # insert duplicate\n",
    "print(tree)"
   ]
  },
  {
   "cell_type": "code",
   "execution_count": 10,
   "id": "121f65f2-82b5-4f6f-b558-921e78a4272d",
   "metadata": {},
   "outputs": [
    {
     "name": "stdout",
     "output_type": "stream",
     "text": [
      "Tree\n",
      "\n",
      "<__main__.Node object at 0x000002F4E2219850>\n",
      "<__main__.Node object at 0x000002F4E39CBD50> | <__main__.Node object at 0x000002F4E39C9910>\n",
      "<__main__.Node object at 0x000002F4E39CB850> | <empty> | <empty> | <empty>\n",
      "<empty> | <empty>\n"
     ]
    }
   ],
   "source": [
    "tree = Tree()\n",
    "tree.insert_with_recursion(5)\n",
    "tree.insert_with_recursion(6)\n",
    "tree.insert_with_recursion(4)\n",
    "tree.insert_with_recursion(2)\n",
    "tree.insert_with_recursion(5) # insert duplicate\n",
    "print(tree)"
   ]
  },
  {
   "cell_type": "code",
   "execution_count": null,
   "id": "7d5021a1-62cb-4f34-a8e3-05c6f901bef6",
   "metadata": {},
   "outputs": [],
   "source": [
    "class Tree():\n",
    "    def __init__(self):\n",
    "        self.root = None\n",
    "        \n",
    "    def set_root(self,value):\n",
    "        self.root = Node(value)\n",
    "        \n",
    "    def get_root(self):\n",
    "        return self.root\n",
    "    \n",
    "    def compare(self,node, new_node):\n",
    "        \"\"\"\n",
    "        0 means new_node equals node\n",
    "        -1 means new node less than existing node\n",
    "        1 means new node greater than existing node \n",
    "        \"\"\"\n",
    "        if new_node.get_value() == node.get_value():\n",
    "            return 0\n",
    "        elif new_node.get_value() < node.get_value():\n",
    "            return -1\n",
    "        else:\n",
    "            return 1\n",
    "    \n",
    "    def insert(self,new_value):\n",
    "        new_node = Node(new_value)\n",
    "        node = self.get_root()\n",
    "        if node == None:\n",
    "            self.root = new_node\n",
    "            return\n",
    "        \n",
    "        while(True):\n",
    "            comparison = self.compare(node, new_node)\n",
    "            if comparison == 0:\n",
    "                # override with new node\n",
    "                node = new_node\n",
    "                break # override node, and stop looping\n",
    "            elif comparison == -1:\n",
    "                # go left\n",
    "                if node.has_left_child():\n",
    "                    node = node.get_left_child()\n",
    "                else:\n",
    "                    node.set_left_child(new_node)\n",
    "                    break #inserted node, so stop looping\n",
    "            else: #comparison == 1\n",
    "                # go right\n",
    "                if node.has_right_child():\n",
    "                    node = node.get_right_child()\n",
    "                else:\n",
    "                    node.set_right_child(new_node)\n",
    "                    break # inserted node, so stop looping\n",
    "                    \n",
    "    \"\"\"\n",
    "    implement search\n",
    "    \"\"\"\n",
    "    def search(self,value):\n",
    "        node = self.get_root()\n",
    "        while node:\n",
    "            comparision = compare\n",
    "            if \n",
    "                    \n",
    "    def __repr__(self):\n",
    "        level = 0\n",
    "        q = Queue()\n",
    "        visit_order = list()\n",
    "        node = self.get_root()\n",
    "        q.enq( (node,level) )\n",
    "        while(len(q) > 0):\n",
    "            node, level = q.deq()\n",
    "            if node == None:\n",
    "                visit_order.append( (\"<empty>\", level))\n",
    "                continue\n",
    "            visit_order.append( (node, level) )\n",
    "            if node.has_left_child():\n",
    "                q.enq( (node.get_left_child(), level +1 ))\n",
    "            else:\n",
    "                q.enq( (None, level +1) )\n",
    "\n",
    "            if node.has_right_child():\n",
    "                q.enq( (node.get_right_child(), level +1 ))\n",
    "            else:\n",
    "                q.enq( (None, level +1) )\n",
    "\n",
    "        s = \"Tree\\n\"\n",
    "        previous_level = -1\n",
    "        for i in range(len(visit_order)):\n",
    "            node, level = visit_order[i]\n",
    "            if level == previous_level:\n",
    "                s += \" | \" + str(node) \n",
    "            else:\n",
    "                s += \"\\n\" + str(node)\n",
    "                previous_level = level\n",
    "\n",
    "                \n",
    "        return s\n"
   ]
  },
  {
   "cell_type": "markdown",
   "id": "00bb1307-f7e9-4c98-8637-6e37126400d6",
   "metadata": {},
   "source": [
    "#### Binary search tree  *(on my own)*"
   ]
  },
  {
   "cell_type": "code",
   "execution_count": 1,
   "id": "ffa5dacf-ab76-4b4c-acb2-26c0ce9ca19c",
   "metadata": {},
   "outputs": [],
   "source": [
    "class Node:\n",
    "    def __init__(self,value):\n",
    "        self.value = value\n",
    "        self.left = None\n",
    "        self.right = None\n",
    "\n",
    "    def set_value(self,value):\n",
    "        self.value = value\n",
    "\n",
    "    def get_value(self):\n",
    "        return self.value\n",
    "\n",
    "    def set_left_child(self,value):\n",
    "        self.left = value\n",
    "\n",
    "    def set_right_child(self,value):\n",
    "        self.right = value\n",
    "\n",
    "    def get_left_child(self):\n",
    "        return self.left\n",
    "\n",
    "    def get_right_child(self):\n",
    "        return self.right\n",
    "\n",
    "    def has_left_child(self):\n",
    "        return self.left != None\n",
    "\n",
    "    def has_right_child(self):\n",
    "        return self.right != None\n",
    "\n",
    "    def __repr__(self):\n",
    "        return f\"Node({self.get_value()})\"\n",
    "    \n",
    "    def __str__(self):\n",
    "        return f\"Node({self.get_value()})\"\n"
   ]
  },
  {
   "cell_type": "code",
   "execution_count": 2,
   "id": "0b2e785e-aacb-4bf0-985a-d403589b1952",
   "metadata": {},
   "outputs": [],
   "source": [
    "from collections import deque\n",
    "\n",
    "class Queue:\n",
    "    def __init__(self):\n",
    "        self.q = deque()\n",
    "        \n",
    "    def enq(self,value):\n",
    "        self.q.appendleft(value)\n",
    "\n",
    "    def deq(self):\n",
    "        if len(self.q) > 0:\n",
    "            return self.q.pop()\n",
    "        else:\n",
    "            return None\n",
    "\n",
    "    \n",
    "    def __len__(self):\n",
    "        return len(self.q)\n",
    "    \n",
    "    def __repr__(self):\n",
    "        if len(self.q) > 0:\n",
    "            s = \"<enqueue here>\\n_________________\\n\" \n",
    "            s += \"\\n_________________\\n\".join([str(item) for item in self.q])\n",
    "            s += \"\\n_________________\\n<dequeue here>\"\n",
    "            return s\n",
    "        else:\n",
    "            return \"<queue is empty>\"\n",
    "    \n",
    "    "
   ]
  },
  {
   "cell_type": "code",
   "execution_count": 23,
   "id": "d30464e5-6af5-433c-8d56-278a0fcd13a4",
   "metadata": {},
   "outputs": [],
   "source": [
    "class Tree:\n",
    "    def __init__(self):\n",
    "        self.root = None\n",
    "\n",
    "    def set_root(self,value):\n",
    "        self.root = Node(value)\n",
    "\n",
    "    def get_root(self):\n",
    "        return self.root\n",
    "\n",
    "    def compare(self,node,new_node):\n",
    "        if new_node.get_value() == node.get_value():\n",
    "            return 0\n",
    "        elif new_node.get_value() < node.get_value():\n",
    "            return -1\n",
    "        else:\n",
    "            return 1\n",
    "\n",
    "    def insert_with_loop(self,value):\n",
    "        new_node = Node(value)\n",
    "        if not self.root:\n",
    "            self.root = new_node\n",
    "            return\n",
    "        node = self.root\n",
    "        while node:\n",
    "            comparison = self.compare(node,new_node)\n",
    "            if comparison == 0:\n",
    "                node.set_value(new_node.get_value())\n",
    "                break\n",
    "            elif comparison == -1:\n",
    "                if node.has_left_child():\n",
    "                    node = node.get_left_child()\n",
    "                else:\n",
    "                    node.set_left_child(new_node)\n",
    "                    break\n",
    "            else:\n",
    "                if node.has_left_child():\n",
    "                    node = node.get_right_child()\n",
    "\n",
    "                else:\n",
    "                    node.set_right_child(new_node)\n",
    "                    break\n",
    "    def insert_with_recursion(self,value):\n",
    "        new_node = Node(value)\n",
    "        if not self.root:\n",
    "            self.root = new_node\n",
    "            return\n",
    "        self.solution(self.root,new_node)\n",
    "        \n",
    "    def solution(self,node,new_node):\n",
    "        comparison = self.compare(node,new_node)\n",
    "        if comparison == 0:\n",
    "            node.set_value(new_node.get_value())\n",
    "        elif comparison == -1:\n",
    "            if node.has_left_child():\n",
    "                self.solution(node.get_left_child(),new_node)\n",
    "            else:\n",
    "                node.set_left_child(new_node)\n",
    "        else:\n",
    "            if node.has_right_child():\n",
    "                self.solution(node.get_right_child(),new_node)\n",
    "            else:\n",
    "                node.set_right_child(new_node)\n",
    "            \n",
    "\n",
    "    def __repr__(self):\n",
    "        level = 0\n",
    "        q = Queue()\n",
    "        visit_order = list()\n",
    "        node = self.get_root()\n",
    "        q.enq( (node,level) )\n",
    "        while(len(q) > 0):\n",
    "            node, level = q.deq()\n",
    "            if node == None:\n",
    "                visit_order.append( (\"<empty>\", level))\n",
    "                continue\n",
    "            visit_order.append( (node, level) )\n",
    "            if node.has_left_child():\n",
    "                q.enq( (node.get_left_child(), level +1 ))\n",
    "            else:\n",
    "                q.enq( (None, level +1) )\n",
    "\n",
    "            if node.has_right_child():\n",
    "                q.enq( (node.get_right_child(), level +1 ))\n",
    "            else:\n",
    "                q.enq( (None, level +1) )\n",
    "\n",
    "        s = \"Tree\\n\"\n",
    "        previous_level = -1\n",
    "        for i in range(len(visit_order)):\n",
    "            node, level = visit_order[i]\n",
    "            if level == previous_level:\n",
    "                s += \" | \" + str(node) \n",
    "            else:\n",
    "                s += \"\\n\" + str(node)\n",
    "                previous_level = level\n",
    "\n",
    "                \n",
    "        return s\n",
    "\n"
   ]
  },
  {
   "cell_type": "code",
   "execution_count": 24,
   "id": "0a227ae8-1945-4c09-ad56-5ea2cf5565ac",
   "metadata": {},
   "outputs": [],
   "source": [
    "tree = Tree()\n",
    "tree.insert_with_loop(5)\n",
    "tree.insert_with_loop(6)\n",
    "tree.insert_with_loop(4)\n",
    "tree.insert_with_loop(2)\n",
    "#tree.insert_with_loop(5) # insert duplicate\n",
    "#print(tree)"
   ]
  },
  {
   "cell_type": "code",
   "execution_count": 25,
   "id": "833a60f8-a445-4d8e-962e-6ebb1147a366",
   "metadata": {},
   "outputs": [
    {
     "data": {
      "text/plain": [
       "Tree\n",
       "\n",
       "Node(5)\n",
       "Node(4) | Node(6)\n",
       "Node(2) | <empty> | <empty> | <empty>\n",
       "<empty> | <empty>"
      ]
     },
     "execution_count": 25,
     "metadata": {},
     "output_type": "execute_result"
    }
   ],
   "source": [
    "tree"
   ]
  },
  {
   "cell_type": "code",
   "execution_count": 26,
   "id": "8eebe2fb-8f63-4002-a4d2-a9abeac9c74a",
   "metadata": {},
   "outputs": [],
   "source": [
    "tree.insert_with_loop(5)"
   ]
  },
  {
   "cell_type": "code",
   "execution_count": 27,
   "id": "8a78fe5b-ca5c-4c4e-bec4-5feed3819d2e",
   "metadata": {},
   "outputs": [
    {
     "data": {
      "text/plain": [
       "Tree\n",
       "\n",
       "Node(5)\n",
       "Node(4) | Node(6)\n",
       "Node(2) | <empty> | <empty> | <empty>\n",
       "<empty> | <empty>"
      ]
     },
     "execution_count": 27,
     "metadata": {},
     "output_type": "execute_result"
    }
   ],
   "source": [
    "tree"
   ]
  },
  {
   "cell_type": "code",
   "execution_count": null,
   "id": "a819ee32-4986-4c31-b214-2454978a43ce",
   "metadata": {},
   "outputs": [],
   "source": []
  },
  {
   "cell_type": "code",
   "execution_count": null,
   "id": "1aa13dda-0615-4b82-95db-3ba0538f1d37",
   "metadata": {},
   "outputs": [],
   "source": []
  },
  {
   "cell_type": "code",
   "execution_count": null,
   "id": "26fc7aef-0e02-4f13-9010-e994f2a1872d",
   "metadata": {},
   "outputs": [],
   "source": []
  },
  {
   "cell_type": "code",
   "execution_count": null,
   "id": "7e23faed-9f1e-413d-b51c-077b1b6a5fb2",
   "metadata": {},
   "outputs": [],
   "source": []
  },
  {
   "cell_type": "code",
   "execution_count": null,
   "id": "06bf46f6-8e48-4830-bdc2-3aa0b44b0bac",
   "metadata": {},
   "outputs": [],
   "source": []
  }
 ],
 "metadata": {
  "kernelspec": {
   "display_name": "Python 3 (ipykernel)",
   "language": "python",
   "name": "python3"
  },
  "language_info": {
   "codemirror_mode": {
    "name": "ipython",
    "version": 3
   },
   "file_extension": ".py",
   "mimetype": "text/x-python",
   "name": "python",
   "nbconvert_exporter": "python",
   "pygments_lexer": "ipython3",
   "version": "3.11.5"
  }
 },
 "nbformat": 4,
 "nbformat_minor": 5
}
