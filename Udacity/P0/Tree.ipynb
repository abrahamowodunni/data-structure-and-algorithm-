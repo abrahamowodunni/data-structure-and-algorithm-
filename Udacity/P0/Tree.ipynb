{
 "cells": [
  {
   "cell_type": "code",
   "execution_count": 1,
   "id": "8b0791d0-7037-408b-bb8d-6501f0fe28d7",
   "metadata": {},
   "outputs": [],
   "source": [
    "class Node:\n",
    "    def __init__(self):\n",
    "        self.value = None\n",
    "        self.left = None\n",
    "        self.right = None\n",
    "node0 = Node()\n"
   ]
  },
  {
   "cell_type": "code",
   "execution_count": 3,
   "id": "c4a1a482-210e-4221-b1a4-d67b9846a931",
   "metadata": {},
   "outputs": [
    {
     "name": "stdout",
     "output_type": "stream",
     "text": [
      "None\n"
     ]
    }
   ],
   "source": [
    "print(node0.value)"
   ]
  },
  {
   "cell_type": "markdown",
   "id": "d54903bc-8116-4a0e-a205-b71267f1f9a8",
   "metadata": {},
   "source": [
    "More on trees"
   ]
  },
  {
   "cell_type": "code",
   "execution_count": 5,
   "id": "991fce32-c04d-4776-83de-8dee1f8e46a4",
   "metadata": {},
   "outputs": [],
   "source": [
    "class Node:\n",
    "    def __init__(self, value = None):\n",
    "        self.value = value\n",
    "        self.left = None\n",
    "        self.right = None\n"
   ]
  },
  {
   "cell_type": "code",
   "execution_count": 6,
   "id": "2c4fc098-3b53-49ca-8ed0-73c346cdcc87",
   "metadata": {},
   "outputs": [
    {
     "name": "stdout",
     "output_type": "stream",
     "text": [
      "\n",
      "value: None\n",
      "left: None\n",
      "right: None\n",
      "\n",
      "\n",
      "value: apple\n",
      "left: None\n",
      "right: None\n",
      "\n"
     ]
    }
   ],
   "source": [
    "node0 = Node()\n",
    "print(f\"\"\"\n",
    "value: {node0.value}\n",
    "left: {node0.left}\n",
    "right: {node0.right}\n",
    "\"\"\")\n",
    "\n",
    "node0 = Node(\"apple\")\n",
    "print(f\"\"\"\n",
    "value: {node0.value}\n",
    "left: {node0.left}\n",
    "right: {node0.right}\n",
    "\"\"\")"
   ]
  },
  {
   "cell_type": "code",
   "execution_count": 77,
   "id": "1cb80ee0-a6f2-459d-b3f6-8192ee756fee",
   "metadata": {},
   "outputs": [],
   "source": [
    "# add set_value and get_value functions\n",
    "class Node:\n",
    "    def __init__(self, value=None):\n",
    "        self.value = value\n",
    "        self.left = None\n",
    "        self.right = None\n",
    "\n",
    "    def get_value(self):\n",
    "        return self.value\n",
    "\n",
    "    def set_value(self,value):\n",
    "        self.value =value\n",
    "\n",
    "    def set_left_child(self,value):\n",
    "        self.left = value\n",
    "        \n",
    "    def set_right_child(self,value):\n",
    "        self.right = value\n",
    "        \n",
    "    def get_left_child(self):\n",
    "        return self.left\n",
    "\n",
    "    def get_right_child(self):\n",
    "        return self.right\n",
    "\n",
    "    def has_left_child(self):\n",
    "        return self.left != None\n",
    "\n",
    "    def has_right_child(self):\n",
    "        return self.right != None        "
   ]
  },
  {
   "cell_type": "code",
   "execution_count": 78,
   "id": "49a34797-da65-4588-a116-4c252d5caec3",
   "metadata": {},
   "outputs": [],
   "source": [
    "node = Node()"
   ]
  },
  {
   "cell_type": "code",
   "execution_count": 79,
   "id": "c4db4698-adf8-4425-aff1-2f8485ecf390",
   "metadata": {},
   "outputs": [],
   "source": [
    "node.set_value(5)\n",
    "#node.set_left_child(1)\n",
    "# node.set_right_child(7)"
   ]
  },
  {
   "cell_type": "code",
   "execution_count": 80,
   "id": "d815d035-49b7-4546-87da-41199be63c12",
   "metadata": {},
   "outputs": [
    {
     "data": {
      "text/plain": [
       "False"
      ]
     },
     "execution_count": 80,
     "metadata": {},
     "output_type": "execute_result"
    }
   ],
   "source": [
    "node.has_right_child()"
   ]
  },
  {
   "cell_type": "code",
   "execution_count": 81,
   "id": "a5a96e8b-f701-4e64-a09c-d94f158228f4",
   "metadata": {},
   "outputs": [],
   "source": [
    "node.set_right_child(2)"
   ]
  },
  {
   "cell_type": "code",
   "execution_count": 82,
   "id": "cada8b96-e3dc-4da6-81ac-e7dda1c31239",
   "metadata": {},
   "outputs": [
    {
     "data": {
      "text/plain": [
       "2"
      ]
     },
     "execution_count": 82,
     "metadata": {},
     "output_type": "execute_result"
    }
   ],
   "source": [
    "node.get_right_child()"
   ]
  },
  {
   "cell_type": "code",
   "execution_count": 83,
   "id": "70c7f4f3-3971-4347-bca5-ace4eb3f40df",
   "metadata": {},
   "outputs": [],
   "source": [
    "class Tree:\n",
    "    def __init__(self):\n",
    "        self.root = None\n",
    "\n",
    "    def get_root(self):\n",
    "        return self.root "
   ]
  },
  {
   "cell_type": "markdown",
   "id": "81e2aded-5050-46c0-8501-b0c657ee9bcc",
   "metadata": {},
   "source": [
    "Modified"
   ]
  },
  {
   "cell_type": "code",
   "execution_count": null,
   "id": "1c637252-4f6e-4643-bbaf-fe24a90f8bda",
   "metadata": {},
   "outputs": [],
   "source": [
    "class Tree:\n",
    "    def __init__(self, value = None):\n",
    "        self.root = Node.set_value(value)\n",
    "\n",
    "    def get_root(self):\n",
    "        return self.root"
   ]
  },
  {
   "cell_type": "code",
   "execution_count": null,
   "id": "a55e3ead-fb82-4165-b5dd-ddb337216561",
   "metadata": {},
   "outputs": [],
   "source": [
    "class TreeV1:\n",
    "    def __init__(self,node):\n",
    "        self.root = node"
   ]
  },
  {
   "cell_type": "code",
   "execution_count": null,
   "id": "857e049c-e0c1-4094-b26f-fe21d6ddac00",
   "metadata": {},
   "outputs": [],
   "source": [
    "class TreeV2:\n",
    "    def __init__(self,vlaue):\n",
    "        self.root = Node(value)"
   ]
  },
  {
   "cell_type": "markdown",
   "id": "6a92483a-a300-47df-a1a1-1166780b4069",
   "metadata": {},
   "source": [
    "Let's Play around"
   ]
  },
  {
   "cell_type": "code",
   "execution_count": 1,
   "id": "b3d846c6-4426-487a-b1a5-0c1a5a20399c",
   "metadata": {},
   "outputs": [],
   "source": [
    "# add set_value and get_value functions\n",
    "class Node:\n",
    "    def __init__(self, value=None):\n",
    "        self.value = value\n",
    "        self.left = None\n",
    "        self.right = None\n",
    "\n",
    "    def get_value(self):\n",
    "        return self.value\n",
    "\n",
    "    def set_value(self,value):\n",
    "        self.value =value\n",
    "\n",
    "    def set_left_child(self,value):\n",
    "        self.left = value\n",
    "        \n",
    "    def set_right_child(self,value):\n",
    "        self.right = value\n",
    "        \n",
    "    def get_left_child(self):\n",
    "        return self.left\n",
    "\n",
    "    def get_right_child(self):\n",
    "        return self.right\n",
    "\n",
    "    def has_left_child(self):\n",
    "        return self.left != None\n",
    "\n",
    "    def has_right_child(self):\n",
    "        return self.right != None        "
   ]
  },
  {
   "cell_type": "code",
   "execution_count": 2,
   "id": "ab42bd43-bfa9-4cd3-9922-1abe51660b80",
   "metadata": {},
   "outputs": [],
   "source": [
    "class Tree:\n",
    "    def __init__(self,value):\n",
    "        self.root = Node(value)\n",
    "        \n",
    "    def get_root(self):\n",
    "        return self.root"
   ]
  },
  {
   "cell_type": "code",
   "execution_count": 5,
   "id": "cfe18173-a5ea-481c-86f9-f6a98cd76b2b",
   "metadata": {},
   "outputs": [],
   "source": [
    "tree = Tree('fruit')"
   ]
  },
  {
   "cell_type": "code",
   "execution_count": 6,
   "id": "643ad3ae-9bf2-478c-b022-685f1ad9e58d",
   "metadata": {},
   "outputs": [],
   "source": [
    "tree.get_root().set_left_child(Node('apple'))\n",
    "tree.get_root().set_right_child(Node('banana'))\n",
    "\n",
    "tree.get_root().get_left_child().set_left_child(Node('fugi Apple'))\n",
    "tree.get_root().get_left_child().set_right_child(Node('green Apple'))"
   ]
  },
  {
   "cell_type": "markdown",
   "id": "2732743b-bce6-4e90-b54b-af89a636bd61",
   "metadata": {},
   "source": [
    "DFS uses a stack "
   ]
  },
  {
   "cell_type": "code",
   "execution_count": 5,
   "id": "5aa79207-82fd-41cf-8112-f145469fb89e",
   "metadata": {},
   "outputs": [],
   "source": [
    "# this code makes the tree that we'll traverse\n",
    "class Node(object):\n",
    "        \n",
    "    def __init__(self,value = None):\n",
    "        self.value = value\n",
    "        self.left = None\n",
    "        self.right = None\n",
    "    \n",
    "    # set value of the node\n",
    "    def set_value(self,value):\n",
    "        self.value = value\n",
    "    \n",
    "    # get value of the node\n",
    "    def get_value(self):\n",
    "        return self.value\n",
    "    \n",
    "    # set a node for the left child\n",
    "    def set_left_child(self,left):\n",
    "        self.left = left\n",
    "    \n",
    "    # set a node for the right child\n",
    "    def set_right_child(self, right):\n",
    "        self.right = right\n",
    "    \n",
    "    # get the node of left child\n",
    "    def get_left_child(self):\n",
    "        return self.left\n",
    "    \n",
    "    # get the node of right child\n",
    "    def get_right_child(self):\n",
    "        return self.right\n",
    "\n",
    "    # check if node has left child -> return boolean\n",
    "    def has_left_child(self):\n",
    "        return self.left != None\n",
    "    \n",
    "    # check if node has right child -> return boolean\n",
    "    def has_right_child(self):\n",
    "        return self.right != None\n",
    "    \n",
    "    # define __repr_ to decide what a print statement displays for a Node object\n",
    "    def __repr__(self):\n",
    "        return f\"Node({self.get_value()})\"\n",
    "    \n",
    "    def __str__(self):\n",
    "        return f\"Node({self.get_value()})\"\n",
    "    \n",
    "    \n",
    "class Tree():\n",
    "    def __init__(self, value=None):\n",
    "        self.root = Node(value)\n",
    "        \n",
    "    def get_root(self):\n",
    "        return self.root"
   ]
  },
  {
   "cell_type": "code",
   "execution_count": 6,
   "id": "a69c146a-308f-4860-b9a7-29bfe2427b04",
   "metadata": {},
   "outputs": [],
   "source": [
    "# Let's define a stack to help keep track of the tree nodes\n",
    "class Stack():\n",
    "    def __init__(self):\n",
    "        self.list = list()\n",
    "    \n",
    "    # add an element to the list\n",
    "    def push(self,value):\n",
    "        self.list.append(value)\n",
    "        \n",
    "    # remove the last element from the list\n",
    "    def pop(self):\n",
    "        return self.list.pop()\n",
    "        \n",
    "    # get the value of the last element in the list\n",
    "    def top(self):\n",
    "        if len(self.list) > 0:\n",
    "            return self.list[-1]\n",
    "        else:\n",
    "            return None\n",
    "    \n",
    "    # check if the list empty\n",
    "    def is_empty(self):\n",
    "        return len(self.list) == 0\n",
    "    \n",
    "    # \n",
    "    def __repr__(self):\n",
    "        if len(self.list) > 0:\n",
    "            s = \"<top of stack>\\n_________________\\n\"\n",
    "            s += \"\\n_________________\\n\".join([str(item) for item in self.list[::-1]])\n",
    "            s += \"\\n_________________\\n<bottom of stack>\"\n",
    "            return s\n",
    "        \n",
    "        else:\n",
    "            return \"<stack is empty>\""
   ]
  },
  {
   "cell_type": "code",
   "execution_count": 8,
   "id": "3440128c-cf15-4d7c-82b1-e13fd330a263",
   "metadata": {},
   "outputs": [],
   "source": [
    "# create a tree and add some nodes\n",
    "tree = Tree(\"apple\")  # root node\n",
    "\n",
    "# set first level's left child\n",
    "tree.get_root().set_left_child(Node(\"banana\"))  \n",
    "\n",
    "# set first level's right child\n",
    "tree.get_root().set_right_child(Node(\"cherry\"))  \n",
    "\n",
    "# set second level's left child \n",
    "# by getting the first level's left child first\n",
    "tree.get_root().get_left_child().set_left_child(Node(\"dates\"))"
   ]
  },
  {
   "cell_type": "code",
   "execution_count": 10,
   "id": "1a735cd3-bb6f-4e9c-b947-c9377ddc5c2e",
   "metadata": {},
   "outputs": [
    {
     "data": {
      "text/plain": [
       "['apple', 'banana']"
      ]
     },
     "execution_count": 10,
     "metadata": {},
     "output_type": "execute_result"
    }
   ],
   "source": [
    "def pre_order_with_stack_buggy(tree):\n",
    "    ## how i creat the root\n",
    "    order_list = []\n",
    "    stack = Stack()\n",
    "    node = tree.get_root()\n",
    "    stack.push(node)\n",
    "    order_list.append(node.get_value())\n",
    "    \n",
    "    count = 0\n",
    "    limit = 7\n",
    "    \n",
    "    while (node and count < limit):\n",
    "        \n",
    "        # checking for all left side\n",
    "        if node.has_left_child():\n",
    "            node = node.get_left_child()\n",
    "            stack.push(node)\n",
    "            order_list.append(node.get_value())\n",
    "\n",
    "        elif node.has_right_child():\n",
    "            node = node.get_right_child()\n",
    "            stack.push(node)\n",
    "            order_list.append(node.get_value())\n",
    "\n",
    "        else:\n",
    "            stack.pop()\n",
    "            if not stack.is_empty():\n",
    "                 node = stack.top()\n",
    "            else:\n",
    "                node = None\n",
    "        count += 1\n",
    "        return order_list\n",
    "\n",
    "pre_order_with_stack_buggy(tree)"
   ]
  },
  {
   "cell_type": "code",
   "execution_count": null,
   "id": "b186d064-8350-4110-aaae-1a8f44c9842f",
   "metadata": {},
   "outputs": [],
   "source": [
    "tree.get_root"
   ]
  },
  {
   "cell_type": "code",
   "execution_count": 18,
   "id": "9d434319-b5bf-46ba-86ab-675c1953880d",
   "metadata": {},
   "outputs": [],
   "source": [
    "class State:\n",
    "    def __init__(self,node):\n",
    "        self.node = node\n",
    "        self.left_visited = False\n",
    "        self.right_visited = False\n",
    "\n",
    "    def get_node(self):\n",
    "        return self.node\n",
    "\n",
    "    def get_left_state(self):\n",
    "        return self.left_visited\n",
    "\n",
    "    def get_right_state(self):\n",
    "        return self.right_visited\n",
    "\n",
    "    def set_left_state(self):\n",
    "        self.left_visited = True\n",
    "\n",
    "    def set_right_state(self):\n",
    "        self.right_visited = True\n",
    "        "
   ]
  },
  {
   "cell_type": "code",
   "execution_count": 19,
   "id": "843e4e35-896f-4faf-98bd-a12c4017a6d6",
   "metadata": {},
   "outputs": [
    {
     "data": {
      "text/plain": [
       "['apple', 'banana', 'dates', 'cherry']"
      ]
     },
     "execution_count": 19,
     "metadata": {},
     "output_type": "execute_result"
    }
   ],
   "source": [
    "def pre_order_with_stack_buggy(tree):\n",
    "    visited = []\n",
    "    stack = Stack()\n",
    "    node = tree.get_root()\n",
    "    state = State(node)\n",
    "    stack.push(state)\n",
    "    visited.append(node.get_value())\n",
    "\n",
    "    count = 0\n",
    "    while (node):\n",
    "        if node.has_left_child() and not state.get_left_state():\n",
    "            state.set_left_state()\n",
    "            node = node.get_left_child()\n",
    "            visited.append(node.get_value())\n",
    "            state = State(node)\n",
    "            stack.push(state)\n",
    "            \n",
    "            \n",
    "        elif node.has_right_child() and not state.get_right_state():\n",
    "            state.set_right_state()\n",
    "            node = node.get_right_child()\n",
    "            visited.append(node.get_value())\n",
    "            state = State(node)\n",
    "\n",
    "        else:\n",
    "            stack.pop()\n",
    "            if not stack.is_empty():\n",
    "                state = stack.top()\n",
    "                node = state.get_node()\n",
    "            else:\n",
    "                node =None\n",
    "        count += 1\n",
    "    return visited\n",
    "\n",
    "pre_order_with_stack_buggy(tree)"
   ]
  },
  {
   "cell_type": "markdown",
   "id": "7de1bafe-ec07-413e-9bbe-57ed03a458c3",
   "metadata": {},
   "source": [
    "Using recursion "
   ]
  },
  {
   "cell_type": "code",
   "execution_count": null,
   "id": "8300a977-2085-4dc0-905b-30cd7874cfb7",
   "metadata": {},
   "outputs": [],
   "source": [
    "def pre_order(tree):\n",
    "    \n",
    "    "
   ]
  },
  {
   "cell_type": "code",
   "execution_count": 20,
   "id": "93dd3657-e9fc-4264-8dce-2d6aca4afd60",
   "metadata": {},
   "outputs": [
    {
     "name": "stdout",
     "output_type": "stream",
     "text": [
      "['apple', 'banana', 'dates', 'cherry']\n"
     ]
    }
   ],
   "source": [
    "\n",
    "def pre_order(node, visited=[]):\n",
    "    if node is not None:\n",
    "        # Visit the current node\n",
    "        visited.append(node.get_value())\n",
    "\n",
    "        # Recursively traverse the left subtree\n",
    "        pre_order(node.get_left_child(), visited)\n",
    "\n",
    "        # Recursively traverse the right subtree\n",
    "        pre_order(node.get_right_child(), visited)\n",
    "\n",
    "    return visited\n",
    "\n",
    "# Example usage:\n",
    "result = pre_order(tree.get_root())\n",
    "print(result)"
   ]
  },
  {
   "cell_type": "code",
   "execution_count": null,
   "id": "0757a4a0-902e-4faa-9073-9892c5453ca9",
   "metadata": {},
   "outputs": [],
   "source": []
  },
  {
   "cell_type": "code",
   "execution_count": null,
   "id": "cb2cbed1-6af2-47fd-b344-aa01b790c47b",
   "metadata": {},
   "outputs": [],
   "source": []
  },
  {
   "cell_type": "code",
   "execution_count": null,
   "id": "ee3bf604-024d-4ed0-9a33-0b50fb14c1f5",
   "metadata": {},
   "outputs": [],
   "source": []
  },
  {
   "cell_type": "code",
   "execution_count": null,
   "id": "9947ed15-689f-4a72-a1c3-900e2e73b02e",
   "metadata": {},
   "outputs": [],
   "source": []
  },
  {
   "cell_type": "code",
   "execution_count": null,
   "id": "5dd32ad3-6078-492f-bac0-558a80ab5813",
   "metadata": {},
   "outputs": [],
   "source": []
  },
  {
   "cell_type": "code",
   "execution_count": null,
   "id": "5a4dcc27-67f3-4812-b2a5-7652d844a2e9",
   "metadata": {},
   "outputs": [],
   "source": []
  },
  {
   "cell_type": "code",
   "execution_count": null,
   "id": "b439ca3a-196b-4048-8cd2-52b4123bf36a",
   "metadata": {},
   "outputs": [],
   "source": []
  },
  {
   "cell_type": "code",
   "execution_count": null,
   "id": "85fde71c-524b-4d3f-a885-7b881d742b7b",
   "metadata": {},
   "outputs": [],
   "source": []
  },
  {
   "cell_type": "code",
   "execution_count": null,
   "id": "006add40-ae98-4675-b5d3-193d5966ae2d",
   "metadata": {},
   "outputs": [],
   "source": []
  }
 ],
 "metadata": {
  "kernelspec": {
   "display_name": "Python 3 (ipykernel)",
   "language": "python",
   "name": "python3"
  },
  "language_info": {
   "codemirror_mode": {
    "name": "ipython",
    "version": 3
   },
   "file_extension": ".py",
   "mimetype": "text/x-python",
   "name": "python",
   "nbconvert_exporter": "python",
   "pygments_lexer": "ipython3",
   "version": "3.11.5"
  }
 },
 "nbformat": 4,
 "nbformat_minor": 5
}
