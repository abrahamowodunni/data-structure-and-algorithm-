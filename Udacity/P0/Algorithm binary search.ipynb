{
 "cells": [
  {
   "cell_type": "code",
   "execution_count": 1,
   "id": "0a21ad13-0a94-4184-964d-d7c200176037",
   "metadata": {},
   "outputs": [],
   "source": [
    "def recursive_binary_search(target, source, left=0):\n",
    "    if len(source) == 0:\n",
    "        return None\n",
    "    center = (len(source)-1) // 2\n",
    "    if source[center] == target:\n",
    "        return center + left\n",
    "    elif source[center] < target:\n",
    "        return recursive_binary_search(target, source[center+1:], left+center+1)\n",
    "    else:\n",
    "        return recursive_binary_search(target, source[:center], left)"
   ]
  },
  {
   "cell_type": "code",
   "execution_count": 2,
   "id": "c2ab6484-32f2-41b4-bfbd-ad56e07c3221",
   "metadata": {},
   "outputs": [
    {
     "data": {
      "text/plain": [
       "4"
      ]
     },
     "execution_count": 2,
     "metadata": {},
     "output_type": "execute_result"
    }
   ],
   "source": [
    "multiple = [1, 3, 5, 7, 7, 7, 8, 11, 12]\n",
    "recursive_binary_search(7, multiple)"
   ]
  },
  {
   "cell_type": "code",
   "execution_count": 7,
   "id": "cafd8b54-585a-4fa4-a89e-1aa3f313786d",
   "metadata": {},
   "outputs": [
    {
     "name": "stdout",
     "output_type": "stream",
     "text": [
      "3\n",
      "None\n"
     ]
    }
   ],
   "source": [
    "def find_first(target, source):\n",
    "    index = recursive_binary_search(target, source)\n",
    "    \n",
    "    if index is None:\n",
    "        return None\n",
    "    \n",
    "    while index > 0 and source[index - 1] == target:\n",
    "        index -= 1\n",
    "    \n",
    "    return index\n",
    "\n",
    "multiple = [1, 3, 5, 7, 7, 7, 8, 11, 12, 13, 14, 15]\n",
    "print(find_first(7, multiple)) # Should return 3\n",
    "print(find_first(9, multiple)) # Should return None\n",
    "\n",
    "\n",
    "## Add your own tests to verify that your code works!"
   ]
  },
  {
   "cell_type": "code",
   "execution_count": 4,
   "id": "375e21dc-300f-4bea-a3fa-74f601d7f24c",
   "metadata": {},
   "outputs": [
    {
     "data": {
      "text/plain": [
       "12"
      ]
     },
     "execution_count": 4,
     "metadata": {},
     "output_type": "execute_result"
    }
   ],
   "source": [
    "len(multiple)"
   ]
  },
  {
   "cell_type": "code",
   "execution_count": null,
   "id": "e999299b-cf29-4454-a16a-00ca734093c1",
   "metadata": {},
   "outputs": [],
   "source": []
  },
  {
   "cell_type": "code",
   "execution_count": 27,
   "id": "1d41e4bc-dd05-4901-8710-e52a9d70a579",
   "metadata": {},
   "outputs": [],
   "source": [
    "def binary_search(target,source):\n",
    "    if len(source) == 0:\n",
    "        return False\n",
    "    mid = (len(source))//2\n",
    "    if source[mid]==target:\n",
    "        return True\n",
    "    elif target>source[mid]:\n",
    "        return binary_search(target,source[mid+1:])\n",
    "    else:\n",
    "        return binary_search(target,source[:mid])"
   ]
  },
  {
   "cell_type": "code",
   "execution_count": 28,
   "id": "257b486a-8d93-4fc0-9b2c-ec509abf6b08",
   "metadata": {},
   "outputs": [
    {
     "data": {
      "text/plain": [
       "True"
      ]
     },
     "execution_count": 28,
     "metadata": {},
     "output_type": "execute_result"
    }
   ],
   "source": [
    "source = [1,2,3,4,5,6,7,8,9,10,11]\n",
    "\n",
    "binary_search(5,source)"
   ]
  },
  {
   "cell_type": "markdown",
   "id": "e04c53ae-6b9a-42c6-af72-ad053d5db2f4",
   "metadata": {},
   "source": [
    "## Problem statement\r\n",
    "\r\n",
    "Given a sorted array that may have duplicate values, use *binary search* to find the **first** and **last** indexes of a given value.\r\n",
    "\r\n",
    "For example, if you have the array `[0, 1, 2, 2, 3, 3, 3, 4, 5, 6]` and the given value is `3`, the answer will be `[4, 6]` (because the value `3` occurs first at index `4` and last at index `6` in the array).\r\n",
    "\r\n",
    "The expected complexity of the problem is $O(log(n))$."
   ]
  },
  {
   "cell_type": "code",
   "execution_count": 33,
   "id": "0b865418-0ee5-4707-b169-70d9aba90511",
   "metadata": {},
   "outputs": [],
   "source": [
    "def first_and_last_index(arr, number):\n",
    "    \"\"\"\n",
    "    Given a sorted array that may have duplicate values, use binary \n",
    "    search to find the first and last indexes of a given value.\n",
    "\n",
    "    Args:\n",
    "        arr(list): Sorted array (or Python list) that may have duplicate values\n",
    "        number(int): Value to search for in the array\n",
    "    Returns:\n",
    "        a list containing the first and last indexes of the given value\n",
    "    \"\"\"\n",
    "        \n",
    "    # TODO: Write your first_and_last function here\n",
    "    # Note that you may want to write helper functions to find the start \n",
    "    # index and the end index\n",
    "       \n",
    "    result = []\n",
    "    def binary_search(number,arr):\n",
    "        if len(arr) == 0:\n",
    "            return None\n",
    "        mid = (len(arr))//2\n",
    "        if arr[mid]==number:\n",
    "            return mid\n",
    "        elif number>arr[mid]:\n",
    "            binary_search(number,arr[mid+1:])\n",
    "        else:\n",
    "            binary_search(number,arr[:mid])\n",
    "\n",
    "    index = binary_search(number,arr)\n",
    "    if index is None:\n",
    "        return None\n",
    "    \n",
    "    while index > 0 and arr[index - 1] == number:\n",
    "        index -= 1\n",
    "    result.append(index)\n",
    "    index = binary_search(number,arr)\n",
    "    if index is None:\n",
    "        return None\n",
    "    \n",
    "    while index > 0 and arr[index + 1] == number:\n",
    "        index += 1\n",
    "    result.append(index)\n",
    "    return result"
   ]
  },
  {
   "cell_type": "code",
   "execution_count": 34,
   "id": "22ef4ec7-2df0-4f76-997a-a18875b55801",
   "metadata": {},
   "outputs": [
    {
     "data": {
      "text/plain": [
       "[3, 6]"
      ]
     },
     "execution_count": 34,
     "metadata": {},
     "output_type": "execute_result"
    }
   ],
   "source": [
    "input_list = [0, 1, 2, 3, 3, 3, 3, 4, 5, 6]\n",
    "number = 3\n",
    "first_and_last_index(input_list,number)"
   ]
  },
  {
   "cell_type": "code",
   "execution_count": null,
   "id": "37f0f602-1b17-4ab4-909b-acc85613b869",
   "metadata": {},
   "outputs": [],
   "source": []
  },
  {
   "cell_type": "code",
   "execution_count": null,
   "id": "fab91b38-280d-4dd2-86f6-fe924d4a3e6f",
   "metadata": {},
   "outputs": [],
   "source": []
  },
  {
   "cell_type": "code",
   "execution_count": null,
   "id": "dbd77d1a-d8fa-4c6c-bca6-eea4c25e5527",
   "metadata": {},
   "outputs": [],
   "source": []
  },
  {
   "cell_type": "code",
   "execution_count": null,
   "id": "af658436-0ba8-409d-ac09-785cd60dfd45",
   "metadata": {},
   "outputs": [],
   "source": []
  },
  {
   "cell_type": "code",
   "execution_count": null,
   "id": "df4b7d4c-ef81-46f6-8490-7cd04dbf0951",
   "metadata": {},
   "outputs": [],
   "source": []
  },
  {
   "cell_type": "code",
   "execution_count": null,
   "id": "49c6f4e6-0256-472e-aa13-5f1c09589dcb",
   "metadata": {},
   "outputs": [],
   "source": []
  },
  {
   "cell_type": "code",
   "execution_count": null,
   "id": "31bbc7e7-aaff-44fd-82d3-bd6ba3627d19",
   "metadata": {},
   "outputs": [],
   "source": []
  },
  {
   "cell_type": "code",
   "execution_count": null,
   "id": "1ace5111-2d1e-4a1d-a30a-7f83dbdc694d",
   "metadata": {},
   "outputs": [],
   "source": []
  },
  {
   "cell_type": "code",
   "execution_count": null,
   "id": "c53c1220-13cb-450c-8ea2-d3b11213e4ca",
   "metadata": {},
   "outputs": [],
   "source": []
  },
  {
   "cell_type": "code",
   "execution_count": null,
   "id": "6de609fa-3636-4f2d-a0b0-e9b3e615905e",
   "metadata": {},
   "outputs": [],
   "source": []
  },
  {
   "cell_type": "code",
   "execution_count": null,
   "id": "11593b81-980a-4e5e-ada9-4e5b2b56b628",
   "metadata": {},
   "outputs": [],
   "source": []
  },
  {
   "cell_type": "code",
   "execution_count": null,
   "id": "6c66e760-e2d2-488a-9305-3a227d1f81ac",
   "metadata": {},
   "outputs": [],
   "source": []
  },
  {
   "cell_type": "code",
   "execution_count": null,
   "id": "82dedb43-828e-4568-8087-535d464ebe41",
   "metadata": {},
   "outputs": [],
   "source": []
  },
  {
   "cell_type": "code",
   "execution_count": null,
   "id": "0e52e4ec-96ce-484e-9443-81c7578bee22",
   "metadata": {},
   "outputs": [],
   "source": []
  }
 ],
 "metadata": {
  "kernelspec": {
   "display_name": "Python 3 (ipykernel)",
   "language": "python",
   "name": "python3"
  },
  "language_info": {
   "codemirror_mode": {
    "name": "ipython",
    "version": 3
   },
   "file_extension": ".py",
   "mimetype": "text/x-python",
   "name": "python",
   "nbconvert_exporter": "python",
   "pygments_lexer": "ipython3",
   "version": "3.11.5"
  }
 },
 "nbformat": 4,
 "nbformat_minor": 5
}
