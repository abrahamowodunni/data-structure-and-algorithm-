{
 "cells": [
  {
   "cell_type": "markdown",
   "id": "0e05b1be-1baa-436a-a0ce-a9772ffaceba",
   "metadata": {},
   "source": [
    "### LinkedList\n",
    "\n",
    "- You got this, learn all the tricks for linked lists."
   ]
  },
  {
   "cell_type": "markdown",
   "id": "34b131e5-5b35-47c3-9ab4-8f7cd4e0f004",
   "metadata": {},
   "source": [
    "## Append\n",
    "lesson learnt:\n",
    "\n",
    "- so to begin with while X: chech for is X is none then we end it.\n",
    "- Also .next at the end is always None don't confuse that with value.\n",
    "- to traverse current = current.next. "
   ]
  },
  {
   "cell_type": "code",
   "execution_count": 1,
   "id": "bffc3dc6-24d8-4a5f-a53c-1707696883de",
   "metadata": {},
   "outputs": [],
   "source": [
    "class Node:\n",
    "    def __init__(self, value):\n",
    "        self.value = value\n",
    "        self.next = None"
   ]
  },
  {
   "cell_type": "code",
   "execution_count": 6,
   "id": "22de3df5-c24f-41f9-b3b4-7fe26959e951",
   "metadata": {},
   "outputs": [],
   "source": [
    "class LinkedList:\n",
    "    def __init__(self):\n",
    "        self.head = None\n",
    "\n",
    "    def append(self,value):\n",
    "        \n",
    "        if self.head is None:\n",
    "            self.head = Node(value)\n",
    "            return\n",
    "\n",
    "        current = self.head\n",
    "        while current.next:\n",
    "            current = current.next\n",
    "\n",
    "        current.next = Node(value)\n",
    "linklist = LinkedList()"
   ]
  },
  {
   "cell_type": "code",
   "execution_count": 7,
   "id": "9f4a6b3b-124b-4cbd-ad60-c0fba704ec0e",
   "metadata": {},
   "outputs": [],
   "source": [
    "linklist.append(4)"
   ]
  },
  {
   "cell_type": "code",
   "execution_count": 8,
   "id": "a2ebe2f9-c476-45b2-ad5d-d1b55c30bfc1",
   "metadata": {},
   "outputs": [],
   "source": [
    "linklist.append(6)\n",
    "linklist.append(5)\n",
    "linklist.append(10)"
   ]
  },
  {
   "cell_type": "code",
   "execution_count": 10,
   "id": "b23b1a12-d372-4807-9c23-dd9174d5c2c5",
   "metadata": {},
   "outputs": [
    {
     "name": "stdout",
     "output_type": "stream",
     "text": [
      "4\n",
      "6\n",
      "5\n"
     ]
    }
   ],
   "source": [
    "current = linklist.head\n",
    "\n",
    "while current.next:\n",
    "    print(current.value)\n",
    "    current = current.next"
   ]
  },
  {
   "cell_type": "markdown",
   "id": "070ad17e-1862-4153-ac2c-d3e7cf572252",
   "metadata": {},
   "source": [
    "Code it on your own now."
   ]
  },
  {
   "cell_type": "code",
   "execution_count": 1,
   "id": "d9093b0c-12e0-426f-8a72-b0b839eb4dc6",
   "metadata": {},
   "outputs": [],
   "source": [
    "class Node:\n",
    "    def __init__(self,value):\n",
    "        self.value = value\n",
    "        self.next = None\n",
    "\n",
    "class LinkList:\n",
    "    def __init__(self):\n",
    "        self.head =None\n",
    "\n",
    "    def append(self,value):\n",
    "        if self.head is None:\n",
    "            self.head = Node(value)\n",
    "            return\n",
    "\n",
    "        current = self.head\n",
    "        while current.next:\n",
    "            current = current.next\n",
    "\n",
    "        current.next = Node(value)\n",
    "\n",
    "linklist = LinkList()"
   ]
  },
  {
   "cell_type": "code",
   "execution_count": 2,
   "id": "abd125b1-f5f3-4645-b460-23492667adfc",
   "metadata": {},
   "outputs": [],
   "source": [
    "linklist.append(5)\n",
    "linklist.append(4)\n",
    "linklist.append(10)\n",
    "linklist.append(2)"
   ]
  },
  {
   "cell_type": "code",
   "execution_count": 3,
   "id": "46e9a4b9-34b0-4a4d-99d2-92967b270369",
   "metadata": {},
   "outputs": [
    {
     "name": "stdout",
     "output_type": "stream",
     "text": [
      "5\n",
      "4\n",
      "10\n",
      "2\n"
     ]
    }
   ],
   "source": [
    "current = linklist.head\n",
    "\n",
    "while current:\n",
    "    print(current.value)\n",
    "    current = current.next"
   ]
  },
  {
   "cell_type": "markdown",
   "id": "46914525-a12f-48e2-93e3-44332eea3a6c",
   "metadata": {},
   "source": [
    "### Prepend\n",
    "lesson learnt\n",
    "\n",
    "-  So to get to the end of a linked list you need to start from the head\n",
    "-  to prepend you do not need to loop. "
   ]
  },
  {
   "cell_type": "code",
   "execution_count": 10,
   "id": "032447bc-b165-477c-870f-f6c4ff8c946a",
   "metadata": {},
   "outputs": [],
   "source": [
    "class Node:\n",
    "    def __init__(self,value):\n",
    "        self.value = value\n",
    "        self.next = None\n",
    "\n",
    "class LinkList:\n",
    "    def __init__(self):\n",
    "        self.head = None\n",
    "\n",
    "    def append(self,value):\n",
    "        if self.head is None:\n",
    "            self.head = Node(value)\n",
    "            return\n",
    "\n",
    "        current = self.head\n",
    "        while current.next:\n",
    "            current = current.next\n",
    "\n",
    "        current.next = Node(value)\n",
    "\n",
    "    def prepend(self,value):\n",
    "        if self.head is None:\n",
    "            self.head = Node(value)\n",
    "            return\n",
    "\n",
    "        new_node = Node(value)\n",
    "        new_node.next = self.head\n",
    "        self.head = new_node\n",
    "linklist = LinkList()"
   ]
  },
  {
   "cell_type": "code",
   "execution_count": 11,
   "id": "4a06649d-d6e2-4b15-b441-6c9f3bc1f7ed",
   "metadata": {},
   "outputs": [],
   "source": [
    "linklist.append(2)\n",
    "linklist.prepend(8)\n",
    "linklist.append(7)\n",
    "linklist.append(3)\n",
    "linklist.append(9)\n",
    "linklist.prepend(1)\n",
    "linklist.append(4)"
   ]
  },
  {
   "cell_type": "code",
   "execution_count": 12,
   "id": "0632f023-23da-4926-bb73-f009dccec3c0",
   "metadata": {},
   "outputs": [
    {
     "name": "stdout",
     "output_type": "stream",
     "text": [
      "1\n",
      "8\n",
      "2\n",
      "7\n",
      "3\n",
      "9\n",
      "4\n"
     ]
    }
   ],
   "source": [
    "current = linklist.head\n",
    "\n",
    "while current:\n",
    "    print(current.value)\n",
    "    current = current.next"
   ]
  },
  {
   "cell_type": "markdown",
   "id": "03923459-015f-47c9-bfff-76fac8c000b8",
   "metadata": {},
   "source": [
    "### Introducing previous\n",
    "\n",
    "lesson learnt\n",
    "\n",
    "- Not everything in a linklist requires a loop\n",
    "- for a linklist i can see drawing helps me alot "
   ]
  },
  {
   "cell_type": "code",
   "execution_count": 16,
   "id": "61106d00-9d84-46b2-b388-8b0d8a91aeb0",
   "metadata": {},
   "outputs": [],
   "source": [
    "# my attempt\n",
    "class Node:\n",
    "    def __init__(self,value):\n",
    "        self.value = value\n",
    "        self.next = None\n",
    "        self.previous = None\n",
    "\n",
    "head = Node(3)\n",
    "head.next = Node(0)\n",
    "head.next.next = Node(4)\n",
    "head.next.previous = head\n",
    "head.next.next.previous = head.next\n"
   ]
  },
  {
   "cell_type": "code",
   "execution_count": 17,
   "id": "a536501a-d042-4d07-8b47-0b0b9e53d4d6",
   "metadata": {},
   "outputs": [
    {
     "name": "stdout",
     "output_type": "stream",
     "text": [
      "3\n",
      "0\n",
      "4\n"
     ]
    }
   ],
   "source": [
    "current = head\n",
    "\n",
    "while current:\n",
    "    print(current.value)\n",
    "    current = current.next"
   ]
  },
  {
   "cell_type": "code",
   "execution_count": 22,
   "id": "f2107634-12b6-4844-9522-4339dd4998aa",
   "metadata": {},
   "outputs": [
    {
     "name": "stdout",
     "output_type": "stream",
     "text": [
      "4\n",
      "0\n",
      "3\n"
     ]
    }
   ],
   "source": [
    "tail = head.next.next\n",
    "\n",
    "while tail:\n",
    "    print(tail.value)\n",
    "    tail = tail.previous"
   ]
  },
  {
   "cell_type": "code",
   "execution_count": 21,
   "id": "64cc4dc6-9d63-42f0-9dfa-1afe033a2637",
   "metadata": {},
   "outputs": [
    {
     "data": {
      "text/plain": [
       "4"
      ]
     },
     "execution_count": 21,
     "metadata": {},
     "output_type": "execute_result"
    }
   ],
   "source": [
    "head.next.next.value"
   ]
  },
  {
   "cell_type": "code",
   "execution_count": 30,
   "id": "235bebe6-8488-47dd-ac1c-2b5467174a12",
   "metadata": {},
   "outputs": [],
   "source": [
    "class Node:\n",
    "    def __init__(self,value):\n",
    "        self.value = value\n",
    "        self.next = None\n",
    "        self.previous = None\n",
    "\n",
    "class DoubleLinkList:\n",
    "    def __init__(self):\n",
    "        self.head = None\n",
    "        self.tail = None\n",
    "\n",
    "    def append(self,value):\n",
    "        if self.head is None:\n",
    "            self.head = Node(value)\n",
    "            self.tail = self.head\n",
    "            return\n",
    "\n",
    "        new_node = Node(value)\n",
    "        new_node.previous = self.tail\n",
    "        self.tail.next = new_node #we can interchange for head and tail because they are equal to each other. \n",
    "        self.tail = new_node\n",
    "\n",
    "    def prepend(self,value):\n",
    "        if self.head is None:\n",
    "            self.head = Node(value)\n",
    "            self.tail = self.head\n",
    "            return \n",
    "\n",
    "        new_node = Node(value)\n",
    "        new_node.next = self.head\n",
    "        self.head.previous = new_node\n",
    "        self.head = new_node\n",
    "\n",
    "    \n",
    "doublelinked = DoubleLinkList()"
   ]
  },
  {
   "cell_type": "code",
   "execution_count": 31,
   "id": "bc963e55-5b9e-40d7-8885-b9ab6b2119ad",
   "metadata": {},
   "outputs": [],
   "source": [
    "doublelinked.append(1)\n",
    "doublelinked.prepend(2)\n",
    "doublelinked.append(3)\n",
    "doublelinked.prepend(4)\n",
    "doublelinked.append(9)\n",
    "doublelinked.append(10)\n",
    "doublelinked.prepend(0)"
   ]
  },
  {
   "cell_type": "code",
   "execution_count": 32,
   "id": "1e8b7b53-fde8-41e3-8db8-d731171b3581",
   "metadata": {},
   "outputs": [
    {
     "name": "stdout",
     "output_type": "stream",
     "text": [
      "10\n",
      "9\n",
      "3\n",
      "1\n",
      "2\n",
      "4\n",
      "0\n"
     ]
    }
   ],
   "source": [
    "tail = doublelinked.tail\n",
    "\n",
    "while tail:\n",
    "    print(tail.value)\n",
    "    tail = tail.previous"
   ]
  },
  {
   "cell_type": "markdown",
   "id": "6c057d4e-61ff-430a-9685-4932632def2b",
   "metadata": {},
   "source": [
    "### Converting to list \n",
    "\n",
    "lesson learnt\n",
    "\n",
    "-  I did this pretty well but i was not able to make it fo from reverse"
   ]
  },
  {
   "cell_type": "code",
   "execution_count": 51,
   "id": "fe381b5e-2033-422a-a40e-a08ebddab970",
   "metadata": {},
   "outputs": [],
   "source": [
    "class Node:\n",
    "    def __init__(self,value):\n",
    "        self.value = value\n",
    "        self.next = None\n",
    "        self.previous = None\n",
    "\n",
    "class DoubleLinkList:\n",
    "    def __init__(self):\n",
    "        self.head = None\n",
    "        self.tail = None\n",
    "\n",
    "    def append(self,value):\n",
    "        if self.head is None:\n",
    "            self.head = Node(value)\n",
    "            self.tail = self.head\n",
    "            return\n",
    "\n",
    "        new_node = Node(value)\n",
    "        new_node.previous = self.tail\n",
    "        self.tail.next = new_node\n",
    "        self.tail = new_node\n",
    "\n",
    "    def prepend(self,value):\n",
    "        if self.head is None:\n",
    "            self.head = Node(value)\n",
    "            self.tail = self.head\n",
    "            return\n",
    "\n",
    "        new_node = Node(value)\n",
    "        new_node.next = self.head\n",
    "        self.head.previous = new_node\n",
    "        self.head = new_node\n",
    "\n",
    "    def from_listM1(self, arr):\n",
    "        if len(arr) == 0:\n",
    "            return None\n",
    "\n",
    "        self.head = Node(arr[0])\n",
    "        self.tail = self.head\n",
    "\n",
    "        current = self.head\n",
    "        tail = current\n",
    "\n",
    "        for value in arr[1:]:\n",
    "            new_node = Node(value)\n",
    "            new_node.previous = tail\n",
    "            tail.next = new_node\n",
    "            tail = new_node\n",
    "\n",
    "        return self.head, self.tail\n",
    "doublelinked = DoubleLinkList()   "
   ]
  },
  {
   "cell_type": "code",
   "execution_count": 52,
   "id": "88eb3be1-7c9c-4f62-adaa-bfbe8e601e4d",
   "metadata": {},
   "outputs": [],
   "source": [
    "arr = [2,4,2,6,8]\n",
    "_, from_tail = doublelinked.from_listM1(arr)"
   ]
  },
  {
   "cell_type": "code",
   "execution_count": 53,
   "id": "744a5f8c-7168-4c65-99ed-fba93429c7f5",
   "metadata": {},
   "outputs": [
    {
     "name": "stdout",
     "output_type": "stream",
     "text": [
      "2\n"
     ]
    }
   ],
   "source": [
    "while from_tail:\n",
    "    print(from_tail.value)\n",
    "    from_tail = from_tail.previous\n",
    "    "
   ]
  },
  {
   "cell_type": "markdown",
   "id": "8cab062f-ab7c-4794-9c44-d4de552cb939",
   "metadata": {},
   "source": [
    "### Search Linked List\n",
    "\n",
    "lesson learnt\n",
    "\n",
    "- So i remembered that to go through the whole linklist then i have to use \"while current\"\n"
   ]
  },
  {
   "cell_type": "code",
   "execution_count": 6,
   "id": "9b17836a-b3c2-4a6c-8314-3a54f67f8cd1",
   "metadata": {},
   "outputs": [],
   "source": [
    "class Node:\n",
    "    def __init__(self,value):\n",
    "        self.value = value\n",
    "        self.next = None\n",
    "\n",
    "class LinkList:\n",
    "    def __init__(self):\n",
    "        self.head = None\n",
    "\n",
    "    def append(self,value):\n",
    "        if self.head is None:\n",
    "            self.head = Node(value)\n",
    "            return\n",
    "        \n",
    "        current = self.head\n",
    "        \n",
    "        while current.next:\n",
    "            current = current.next\n",
    "\n",
    "        current.next = Node(value)\n",
    "\n",
    "    def search(self,value):\n",
    "        if self.head is None:\n",
    "            return \"No LinkList\"\n",
    "\n",
    "        current = self.head\n",
    "        while current:\n",
    "            if current.value == value:\n",
    "                return True\n",
    "            current = current.next\n",
    "        return \"value not found\"\n",
    "        \n",
    "\n",
    "linklist = LinkList()"
   ]
  },
  {
   "cell_type": "code",
   "execution_count": 7,
   "id": "c23a56f4-11f0-41c4-811b-1023bdab8176",
   "metadata": {},
   "outputs": [],
   "source": [
    "linklist.append(1)\n",
    "linklist.append(3)\n",
    "linklist.append(4)\n",
    "linklist.append(5)"
   ]
  },
  {
   "cell_type": "code",
   "execution_count": 8,
   "id": "fd313d1d-2f02-4d10-a1d7-4259db950c97",
   "metadata": {},
   "outputs": [
    {
     "data": {
      "text/plain": [
       "'value not found'"
      ]
     },
     "execution_count": 8,
     "metadata": {},
     "output_type": "execute_result"
    }
   ],
   "source": [
    "linklist.search(10)"
   ]
  },
  {
   "cell_type": "markdown",
   "id": "f1c3d5f0-02f6-41b3-9983-75c4fc2f66b6",
   "metadata": {},
   "source": [
    "### Remove\n",
    "\n",
    "lesson learnt\n",
    "\n",
    "- Ok so you can make if statement and another one inside but the inner one will not execute bcause the first one is false and then goes to else then gets updated then does the inner if\n",
    "- remember than when we are looking at values in link list we execute code then.\n",
    "- or I learnt how to use pointers one that follows after another basically\n",
    "\n"
   ]
  },
  {
   "cell_type": "code",
   "execution_count": 19,
   "id": "f58802f9-973d-4bd9-9209-44e3c4279a2b",
   "metadata": {},
   "outputs": [],
   "source": [
    "class Node:\n",
    "    def __init__(self,value):\n",
    "        self.value = value\n",
    "        self.next = None\n",
    "\n",
    "class LinkedList:\n",
    "    def __init__(self):\n",
    "        self.head = None\n",
    "\n",
    "    def prepend(self,value):\n",
    "        if self.head is None:\n",
    "            self.head = Node(value)\n",
    "            return\n",
    "\n",
    "        new_node = Node(value)\n",
    "        new_node.next = self.head\n",
    "        self.head = new_node\n",
    "\n",
    "    def remove(self,value):\n",
    "        if self.head is None:\n",
    "            return \"No linkedlist\"\n",
    "\n",
    "        current = self.head\n",
    "        prev = None\n",
    "        while current:\n",
    "            if current.value == value:\n",
    "                if prev is None:\n",
    "                    self.head = current.next\n",
    "                else:\n",
    "                    prev.next = current.next\n",
    "                return True\n",
    "            else:\n",
    "                prev = current\n",
    "                current = current.next\n",
    "        return False\n",
    "            \n",
    "\n",
    "    def to_list(self):\n",
    "        converted = []\n",
    "        current = self.head\n",
    "        while current:\n",
    "            converted.append(current.value)\n",
    "            current = current.next\n",
    "\n",
    "        return converted\n",
    "\n",
    "linklist = LinkedList()"
   ]
  },
  {
   "cell_type": "code",
   "execution_count": 20,
   "id": "c32cc847-dd01-43bc-b421-64b2d1bd4422",
   "metadata": {},
   "outputs": [],
   "source": [
    "linklist.prepend(2)\n",
    "linklist.prepend(3)\n",
    "linklist.prepend(5)\n",
    "linklist.prepend(1)"
   ]
  },
  {
   "cell_type": "code",
   "execution_count": 21,
   "id": "8f9672ef-d50d-4d92-8280-674dea499f58",
   "metadata": {},
   "outputs": [
    {
     "data": {
      "text/plain": [
       "[1, 5, 3, 2]"
      ]
     },
     "execution_count": 21,
     "metadata": {},
     "output_type": "execute_result"
    }
   ],
   "source": [
    "linklist.to_list()"
   ]
  },
  {
   "cell_type": "code",
   "execution_count": 24,
   "id": "68feb7bd-0bcc-4b50-b927-888a271809a2",
   "metadata": {},
   "outputs": [
    {
     "data": {
      "text/plain": [
       "True"
      ]
     },
     "execution_count": 24,
     "metadata": {},
     "output_type": "execute_result"
    }
   ],
   "source": [
    "linklist.remove(1)"
   ]
  },
  {
   "cell_type": "code",
   "execution_count": 25,
   "id": "22d50434-6509-4a58-a524-22ee7e00800d",
   "metadata": {},
   "outputs": [
    {
     "data": {
      "text/plain": [
       "[5, 2]"
      ]
     },
     "execution_count": 25,
     "metadata": {},
     "output_type": "execute_result"
    }
   ],
   "source": [
    "linklist.to_list()"
   ]
  },
  {
   "cell_type": "code",
   "execution_count": 27,
   "id": "63a76921-08d0-4d34-a43b-5cc321c0bd15",
   "metadata": {},
   "outputs": [
    {
     "data": {
      "text/plain": [
       "5"
      ]
     },
     "execution_count": 27,
     "metadata": {},
     "output_type": "execute_result"
    }
   ],
   "source": [
    "linklist.head.value"
   ]
  },
  {
   "cell_type": "markdown",
   "id": "fb867697-5033-4db0-b3a2-0c28a5195278",
   "metadata": {},
   "source": [
    "Small lesson learnt"
   ]
  },
  {
   "cell_type": "code",
   "execution_count": 14,
   "id": "c3d0556b-19c6-42c2-9253-79b2890df3b2",
   "metadata": {},
   "outputs": [
    {
     "ename": "KeyboardInterrupt",
     "evalue": "",
     "output_type": "error",
     "traceback": [
      "\u001b[1;31m---------------------------------------------------------------------------\u001b[0m",
      "\u001b[1;31mKeyboardInterrupt\u001b[0m                         Traceback (most recent call last)",
      "Cell \u001b[1;32mIn[14], line 4\u001b[0m\n\u001b[0;32m      1\u001b[0m arr \u001b[38;5;241m=\u001b[39m [\u001b[38;5;241m1\u001b[39m,\u001b[38;5;241m2\u001b[39m,\u001b[38;5;241m4\u001b[39m,\u001b[38;5;241m5\u001b[39m]\n\u001b[0;32m      2\u001b[0m x \u001b[38;5;241m=\u001b[39m \u001b[38;5;28;01mNone\u001b[39;00m\n\u001b[1;32m----> 4\u001b[0m \u001b[38;5;28;01mwhile\u001b[39;00m \u001b[38;5;28;01mTrue\u001b[39;00m:\n\u001b[0;32m      5\u001b[0m     \u001b[38;5;28;01mif\u001b[39;00m value \u001b[38;5;241m==\u001b[39m \u001b[38;5;241m4\u001b[39m:\n\u001b[0;32m      6\u001b[0m         \u001b[38;5;28;01mif\u001b[39;00m x \u001b[38;5;129;01mis\u001b[39;00m \u001b[38;5;28;01mNone\u001b[39;00m:\n",
      "\u001b[1;31mKeyboardInterrupt\u001b[0m: "
     ]
    }
   ],
   "source": [
    "\n",
    "x = None\n",
    "\n",
    "while True:\n",
    "    if value == 4:\n",
    "        if x is None:\n",
    "            arr.append(x)\n",
    "        else:\n",
    "            arr.remove(2)\n",
    "    else:\n",
    "        x = 6\n",
    "arr    "
   ]
  },
  {
   "cell_type": "markdown",
   "id": "dcb91e58-af1e-44dd-b652-f112d877dadd",
   "metadata": {},
   "source": [
    "Try by yourself now "
   ]
  },
  {
   "cell_type": "code",
   "execution_count": 8,
   "id": "a65374bc-8d1c-449b-85d7-ae668e7b3112",
   "metadata": {},
   "outputs": [],
   "source": [
    "class Node:\n",
    "    def __init__(self,value):\n",
    "        self.value = value\n",
    "        self.next = None\n",
    "\n",
    "class LinkedList:\n",
    "    def __init__(self):\n",
    "        self.head = None\n",
    "\n",
    "    def prepend(self,value):\n",
    "        if self.head is None:\n",
    "            self.head = Node(value)\n",
    "            return\n",
    "\n",
    "        new_node = Node(value)\n",
    "        new_node.next = self.head\n",
    "        self.head = new_node\n",
    "\n",
    "    def remove(self,value):\n",
    "        if self.head is None:\n",
    "            return None\n",
    "\n",
    "        current = self.head\n",
    "        prev = None\n",
    "        while current:\n",
    "            if current.value == value:\n",
    "                if prev is None:\n",
    "                    self.head = current.next\n",
    "                else:\n",
    "                    prev.next = current.next\n",
    "                return 'Node has been removed'\n",
    "            else:\n",
    "                prev = current\n",
    "                current = current.next\n",
    "        return 'No value found'\n",
    "\n",
    "    def to_list(self):\n",
    "        converted = []\n",
    "        current = self.head\n",
    "        while current:\n",
    "            converted.append(current.value)\n",
    "            current = current.next\n",
    "\n",
    "        return converted\n",
    "\n",
    "linklist = LinkedList()"
   ]
  },
  {
   "cell_type": "code",
   "execution_count": 9,
   "id": "7d01151a-645e-4384-8475-35001bf9c124",
   "metadata": {},
   "outputs": [],
   "source": [
    "linklist.prepend(2)\n",
    "linklist.prepend(3)\n",
    "linklist.prepend(5)\n",
    "linklist.prepend(1)\n",
    "linklist.prepend(5)"
   ]
  },
  {
   "cell_type": "code",
   "execution_count": 10,
   "id": "51378423-069e-46bc-82da-7ebbd17d5425",
   "metadata": {},
   "outputs": [
    {
     "data": {
      "text/plain": [
       "[5, 1, 5, 3, 2]"
      ]
     },
     "execution_count": 10,
     "metadata": {},
     "output_type": "execute_result"
    }
   ],
   "source": [
    "linklist.to_list()"
   ]
  },
  {
   "cell_type": "code",
   "execution_count": 11,
   "id": "16a25a62-69f2-4958-aed2-55c30c2d62af",
   "metadata": {},
   "outputs": [
    {
     "data": {
      "text/plain": [
       "'Node has been removed'"
      ]
     },
     "execution_count": 11,
     "metadata": {},
     "output_type": "execute_result"
    }
   ],
   "source": [
    "linklist.remove(5)"
   ]
  },
  {
   "cell_type": "code",
   "execution_count": null,
   "id": "a342044f-c755-41c6-bd1e-8e7e234fa7fd",
   "metadata": {},
   "outputs": [],
   "source": [
    "linklist.to_list()"
   ]
  },
  {
   "cell_type": "markdown",
   "id": "b5cceca6-203c-4c18-836b-041d907bf855",
   "metadata": {},
   "source": [
    "#### Used to remove all values linked to the value"
   ]
  },
  {
   "cell_type": "code",
   "execution_count": null,
   "id": "8c43dacb-1422-49f5-9d38-03192dacaf1d",
   "metadata": {},
   "outputs": [],
   "source": [
    "class Node:\n",
    "    def __init__(self,value):\n",
    "        self.value = value\n",
    "        self.next = None\n",
    "\n",
    "class LinkedList:\n",
    "    def __init__(self):\n",
    "        self.head = None\n",
    "\n",
    "    def prepend(self,value):\n",
    "        if self.head is None:\n",
    "            self.head = Node(value)\n",
    "            return\n",
    "\n",
    "        new_node = Node(value)\n",
    "        new_node.next = self.head\n",
    "        self.head = new_node\n",
    "\n",
    "    def remove(self,value):\n",
    "        if self.head is None:\n",
    "            return None\n",
    "\n",
    "        current = self.head\n",
    "        prev = None\n",
    "        while current:\n",
    "            if current.value == value:\n",
    "                if prev is None:\n",
    "                    self.head = current.next\n",
    "                else:\n",
    "                    prev.next = current.next\n",
    "                #return 'Node has been removed'\n",
    "            else:\n",
    "                prev = current\n",
    "            current = current.next ## for all values\n",
    "        #return 'No value found'\n",
    "\n",
    "    def to_list(self):\n",
    "        converted = []\n",
    "        current = self.head\n",
    "        while current:\n",
    "            converted.append(current.value)\n",
    "            current = current.next\n",
    "\n",
    "        return converted\n",
    "\n",
    "linklist = LinkedList()"
   ]
  },
  {
   "cell_type": "markdown",
   "id": "3f404248-852f-4d03-9419-9543375ea8f6",
   "metadata": {},
   "source": [
    "### Pop "
   ]
  },
  {
   "cell_type": "code",
   "execution_count": 2,
   "id": "61e2c564-936c-458d-958a-86bc76f346e8",
   "metadata": {},
   "outputs": [],
   "source": [
    "class Node:\n",
    "    def __init__(self,value):\n",
    "        self.value = value\n",
    "        self.next = None\n",
    "\n",
    "class LinkList:\n",
    "    def __init__(self):\n",
    "        self.head = None\n",
    "\n",
    "    def append(self,value):\n",
    "        if self.head is None:\n",
    "            self.head = Node(value)\n",
    "            return\n",
    "\n",
    "        current = self.head\n",
    "        while current.next:\n",
    "            current =  current.next\n",
    "\n",
    "        current.next = Node(value)\n",
    "\n",
    "    def pop(self):\n",
    "        if self.head is None:\n",
    "            return None\n",
    "\n",
    "        current = self.head\n",
    "        self.head = current.next\n",
    "\n",
    "        return current.value\n",
    "\n",
    "linklist = LinkList()"
   ]
  },
  {
   "cell_type": "code",
   "execution_count": 3,
   "id": "3df82b93-68e9-4169-82c4-14fcaac05a7e",
   "metadata": {},
   "outputs": [],
   "source": [
    "linklist.append(5)\n",
    "linklist.append(4)\n",
    "linklist.append(10)\n",
    "linklist.append(2)"
   ]
  },
  {
   "cell_type": "code",
   "execution_count": 4,
   "id": "f857112d-094a-4196-9883-61bbd381a3b4",
   "metadata": {},
   "outputs": [
    {
     "data": {
      "text/plain": [
       "5"
      ]
     },
     "execution_count": 4,
     "metadata": {},
     "output_type": "execute_result"
    }
   ],
   "source": [
    "linklist.head.value"
   ]
  },
  {
   "cell_type": "code",
   "execution_count": 5,
   "id": "9e322701-4dfd-447e-9b6d-7e15d00ebcea",
   "metadata": {},
   "outputs": [
    {
     "data": {
      "text/plain": [
       "5"
      ]
     },
     "execution_count": 5,
     "metadata": {},
     "output_type": "execute_result"
    }
   ],
   "source": [
    "linklist.pop()"
   ]
  },
  {
   "cell_type": "code",
   "execution_count": 7,
   "id": "f31c5687-8541-48d4-8c35-2f215f6187c7",
   "metadata": {},
   "outputs": [
    {
     "data": {
      "text/plain": [
       "4"
      ]
     },
     "execution_count": 7,
     "metadata": {},
     "output_type": "execute_result"
    }
   ],
   "source": [
    "linklist.head.value"
   ]
  },
  {
   "cell_type": "markdown",
   "id": "13af9b5b-54c1-4f08-b624-2cc734feaafa",
   "metadata": {},
   "source": [
    "### Insert into a linkedList\n",
    "\n",
    "lesson learnt\n",
    "\n",
    "- appending and prepending is not done inside a loop\n",
    "- so one thing i need to solidify is the use to faster pointers and lagging pointers basically \n"
   ]
  },
  {
   "cell_type": "code",
   "execution_count": 13,
   "id": "9daa91c4-5e4e-44e7-b326-494b2c70a3d9",
   "metadata": {},
   "outputs": [],
   "source": [
    "class Node:\n",
    "    def __init__(self,value):\n",
    "        self.value = value\n",
    "        self.next = None\n",
    "\n",
    "class LinkList:\n",
    "    def __init__(self):\n",
    "        self.head = None\n",
    "\n",
    "    def append(self,value):\n",
    "        if self.head is None:\n",
    "            self.head = Node(value)\n",
    "            return\n",
    "\n",
    "        current = self.head\n",
    "        while current.next:\n",
    "            current = current.next\n",
    "\n",
    "        current.next = Node(value)\n",
    "        converted = []\n",
    "        current = self.head\n",
    "        while current:\n",
    "            converted.append(current.value)\n",
    "            current = current.next\n",
    "\n",
    "        return converted\n",
    "\n",
    "    def insert(self, value, pos):\n",
    "        if self.head is None:\n",
    "            self.head = Node(value)\n",
    "            return\n",
    "\n",
    "        new_node = Node(value)\n",
    "        if pos <= 0:\n",
    "            new_node.next = self.head\n",
    "            self.head = new_node\n",
    "            return\n",
    "\n",
    "        current = self.head\n",
    "        temp = None\n",
    "        count = 0\n",
    "        while current and count < pos:\n",
    "            temp = current\n",
    "            current = current.next\n",
    "            count += 1\n",
    "\n",
    "        temp.next = new_node\n",
    "        new_node.next = current\n",
    "\n",
    "linklist = LinkList()     "
   ]
  },
  {
   "cell_type": "code",
   "execution_count": 14,
   "id": "2f881a2b-9f7b-4be0-9d5d-35cb10c0b81f",
   "metadata": {},
   "outputs": [
    {
     "data": {
      "text/plain": [
       "[4, 0, 42, 2]"
      ]
     },
     "execution_count": 14,
     "metadata": {},
     "output_type": "execute_result"
    }
   ],
   "source": [
    "linklist.append(4)\n",
    "linklist.append(0)\n",
    "linklist.append(42)\n",
    "linklist.append(2)"
   ]
  },
  {
   "cell_type": "code",
   "execution_count": 15,
   "id": "3d8e5ffb-c93b-4085-afeb-79c67b053f76",
   "metadata": {},
   "outputs": [],
   "source": [
    "linklist.insert(20,0)"
   ]
  },
  {
   "cell_type": "code",
   "execution_count": 16,
   "id": "0783b053-47d7-4a11-95ab-c88d2213b88e",
   "metadata": {},
   "outputs": [
    {
     "name": "stdout",
     "output_type": "stream",
     "text": [
      "20\n",
      "4\n",
      "0\n",
      "42\n",
      "2\n"
     ]
    }
   ],
   "source": [
    "current = linklist.head\n",
    "\n",
    "while current:\n",
    "    print(current.value)\n",
    "    current = current.next "
   ]
  },
  {
   "cell_type": "markdown",
   "id": "70c5757b-3eba-4187-93a7-afdad0af259c",
   "metadata": {},
   "source": [
    "Implement it yourself"
   ]
  },
  {
   "cell_type": "code",
   "execution_count": 25,
   "id": "34769973-4830-491e-80c8-77204ea3e40f",
   "metadata": {},
   "outputs": [],
   "source": [
    "class Node:\n",
    "    def __init__(self,value):\n",
    "        self.value = value\n",
    "        self.next = None\n",
    "\n",
    "class LinkList:\n",
    "    def __init__(self):\n",
    "        self.head = None\n",
    "\n",
    "    def prepend(self,value):\n",
    "        if self.head is None:\n",
    "            self.head = Node(value)\n",
    "            return\n",
    "\n",
    "        new_node = Node(value)\n",
    "        new_node.next = self.head\n",
    "        self.head =  new_node\n",
    "\n",
    "    def insert(self, value, pos):\n",
    "        if self.head is None:\n",
    "            self.head = Node(value)\n",
    "            return\n",
    "\n",
    "        new_node = Node(value)\n",
    "        if pos <= 0:\n",
    "            new_node.next = self.head\n",
    "            self.head = new_node\n",
    "            return\n",
    "\n",
    "        \n",
    "        current = self.head\n",
    "        temp = None\n",
    "        count = 0\n",
    "\n",
    "        while current and count < pos:\n",
    "            temp = current\n",
    "            current = current.next\n",
    "            count += 1\n",
    "\n",
    "        temp.next = new_node\n",
    "        new_node.next = current\n",
    "\n",
    "linklist = LinkList()"
   ]
  },
  {
   "cell_type": "code",
   "execution_count": 26,
   "id": "211f9459-21f6-42ea-923d-b41d0aed472e",
   "metadata": {},
   "outputs": [],
   "source": [
    "linklist.prepend(9)\n",
    "linklist.prepend(2)\n",
    "linklist.prepend(5)"
   ]
  },
  {
   "cell_type": "code",
   "execution_count": 27,
   "id": "54dd27ef-b9e4-4954-96e4-d6af4599d037",
   "metadata": {},
   "outputs": [
    {
     "name": "stdout",
     "output_type": "stream",
     "text": [
      "5\n",
      "2\n",
      "9\n"
     ]
    }
   ],
   "source": [
    "current = linklist.head\n",
    "\n",
    "while current:\n",
    "    print(current.value)\n",
    "    current = current.next "
   ]
  },
  {
   "cell_type": "code",
   "execution_count": 28,
   "id": "ae7838c3-983b-405d-84a6-dd7af4188cac",
   "metadata": {},
   "outputs": [],
   "source": [
    "linklist.insert(8,0)\n",
    "linklist.insert(1,2)"
   ]
  },
  {
   "cell_type": "code",
   "execution_count": 29,
   "id": "ce477252-d02d-4348-8845-812672a77aa7",
   "metadata": {},
   "outputs": [
    {
     "name": "stdout",
     "output_type": "stream",
     "text": [
      "8\n",
      "5\n",
      "1\n",
      "2\n",
      "9\n"
     ]
    }
   ],
   "source": [
    "current = linklist.head\n",
    "\n",
    "while current:\n",
    "    print(current.value)\n",
    "    current = current.next "
   ]
  },
  {
   "cell_type": "markdown",
   "id": "fa58979b-a45f-4c78-ae64-a15998730a02",
   "metadata": {},
   "source": [
    "### Size \n",
    "\n",
    "lesson learnt\n",
    "\n",
    "-\n"
   ]
  },
  {
   "cell_type": "code",
   "execution_count": 1,
   "id": "b922f2cf-5835-4150-ae88-6fcd6c413e0c",
   "metadata": {},
   "outputs": [],
   "source": [
    "class Node:\n",
    "    def __init__(self,value):\n",
    "        self.value = value\n",
    "        self.next = None\n",
    "\n",
    "class LinkList:\n",
    "    def __init__(self):\n",
    "        self.head = None\n",
    "\n",
    "    def insert(self,value,pos):\n",
    "        new_node = Node(value)\n",
    "\n",
    "        if self.head is None:\n",
    "            self.head = new_node\n",
    "            return \n",
    "\n",
    "        current = self.head\n",
    "        temp = None\n",
    "        count = 0\n",
    "\n",
    "        while current and count < pos:\n",
    "            temp = current\n",
    "            current =current.next\n",
    "            count += 1\n",
    "\n",
    "        temp.next = new_node\n",
    "        new_node.next = current\n",
    "\n",
    "    def size(self):\n",
    "        if self.head is None:\n",
    "            return 0\n",
    "\n",
    "        count = 0\n",
    "        current = self.head\n",
    "        while current:\n",
    "            current = current.next\n",
    "            count += 1 \n",
    "        return count\n",
    "\n",
    "linklist = LinkList()"
   ]
  },
  {
   "cell_type": "code",
   "execution_count": 5,
   "id": "9d1c5217-cc40-40f1-b843-6b97766cb8bc",
   "metadata": {},
   "outputs": [],
   "source": [
    "linklist.insert(4,10)"
   ]
  },
  {
   "cell_type": "code",
   "execution_count": 7,
   "id": "6c284e37-fa4d-4c33-abf4-64f680a9083d",
   "metadata": {},
   "outputs": [],
   "source": [
    "linklist.insert(3,1)\n",
    "linklist.insert(6,1)\n",
    "linklist.insert(7,1)\n",
    "linklist.insert(5,1)"
   ]
  },
  {
   "cell_type": "code",
   "execution_count": 8,
   "id": "0353723c-b658-478a-8253-df86abdd0b5c",
   "metadata": {},
   "outputs": [
    {
     "data": {
      "text/plain": [
       "5"
      ]
     },
     "execution_count": 8,
     "metadata": {},
     "output_type": "execute_result"
    }
   ],
   "source": [
    "linklist.size()"
   ]
  },
  {
   "cell_type": "markdown",
   "id": "c33291a4-9022-43da-8002-915da699f388",
   "metadata": {},
   "source": [
    "### Reversing a linklist \n",
    "\n",
    "lesson learnt\n",
    "\n",
    "- Introduction to using 3 pointers\n",
    "- \n",
    "\n"
   ]
  },
  {
   "cell_type": "code",
   "execution_count": 24,
   "id": "d90dfc34-6661-40a9-95ea-d1b196a5b534",
   "metadata": {},
   "outputs": [],
   "source": [
    "class Node:\n",
    "    def __init__(self,value):\n",
    "        self.value = value\n",
    "        self.next = None\n",
    "\n",
    "class LinkList:\n",
    "    def __init__(self):\n",
    "        self.head = None\n",
    "\n",
    "    def append(self,value):\n",
    "        if self.head is None:\n",
    "            self.head = Node(value)\n",
    "            return\n",
    "\n",
    "        current = self.head\n",
    "        while current.next:\n",
    "            current = current.next\n",
    "\n",
    "        current.next = Node(value)\n",
    "\n",
    "linklist = LinkList()"
   ]
  },
  {
   "cell_type": "code",
   "execution_count": 25,
   "id": "f80fc07d-7a2c-4ef1-bc51-58fbca3eef55",
   "metadata": {},
   "outputs": [],
   "source": [
    "linklist.append(1)\n",
    "linklist.append(2)\n",
    "linklist.append(0)\n",
    "linklist.append(5)"
   ]
  },
  {
   "cell_type": "code",
   "execution_count": 26,
   "id": "99edaa20-d2f8-4ed0-a9de-1986ba387647",
   "metadata": {},
   "outputs": [],
   "source": [
    "def reverselinklist(linkedlist):\n",
    "    current = linkedlist.head\n",
    "    prev = None\n",
    "\n",
    "    while current:\n",
    "        next_node = current.next\n",
    "        current.next = prev\n",
    "        prev = current\n",
    "        current = next_node\n",
    "\n",
    "    linkedlist.head = prev\n",
    "    \n",
    "\n",
    "reverselinklist(linklist)"
   ]
  },
  {
   "cell_type": "code",
   "execution_count": 27,
   "id": "2660298d-974c-4712-aeba-0a9fd79c294d",
   "metadata": {},
   "outputs": [
    {
     "name": "stdout",
     "output_type": "stream",
     "text": [
      "5\n",
      "0\n",
      "2\n",
      "1\n"
     ]
    }
   ],
   "source": [
    "current = linklist.head\n",
    "\n",
    "while current:\n",
    "    print(current.value)\n",
    "    current = current.next"
   ]
  },
  {
   "cell_type": "markdown",
   "id": "38db9093-3ea8-461d-9704-be30ecc1bd61",
   "metadata": {},
   "source": [
    "Implement yourself"
   ]
  },
  {
   "cell_type": "code",
   "execution_count": 28,
   "id": "75924b52-7dd6-48bd-8587-4ff7ea761d11",
   "metadata": {},
   "outputs": [],
   "source": [
    "def reversed(link):\n",
    "    current = link.head\n",
    "    prev = None\n",
    "\n",
    "    while current:\n",
    "        new_node = current.next\n",
    "        current.next = prev\n",
    "        prev = current\n",
    "        current = new_node\n",
    "    link.head = prev\n",
    "\n",
    "reversed(linklist)"
   ]
  },
  {
   "cell_type": "code",
   "execution_count": 29,
   "id": "73cafbd6-f63d-4bb1-a0a5-cb52fa8359ed",
   "metadata": {},
   "outputs": [
    {
     "name": "stdout",
     "output_type": "stream",
     "text": [
      "1\n",
      "2\n",
      "0\n",
      "5\n"
     ]
    }
   ],
   "source": [
    "current = linklist.head\n",
    "\n",
    "while current:\n",
    "    print(current.value)\n",
    "    current = current.next"
   ]
  },
  {
   "cell_type": "markdown",
   "id": "ab6f4761-25e7-45b0-8996-5e22abf4a66c",
   "metadata": {},
   "source": [
    "### Sorting a linked list\n",
    "\n",
    "lesson learnt\n",
    "\n",
    "- so i want to be able to sort an already made linklist and when i am appending or prepending\n"
   ]
  },
  {
   "cell_type": "code",
   "execution_count": 1,
   "id": "78933168-e66c-4a44-898e-758fcca22346",
   "metadata": {},
   "outputs": [],
   "source": [
    "class Node:\n",
    "    def __init__(self,value):\n",
    "        self.value = value\n",
    "        self.next = next\n",
    "\n",
    "class LinkList:\n",
    "    def __init__(self):\n",
    "        self.head = None\n",
    "\n",
    "    def append(self,value):\n",
    "\n",
    "        new_node = Node(value)\n",
    "        if not self.head or new_node.value < self.head.value:\n",
    "            new_node.next = self.head\n",
    "            self.head = new_node\n",
    "            return \n",
    "\n",
    "        current = self.head\n",
    "        while current.next and current.next.value < value:\n",
    "            current = current.next\n",
    "\n",
    "        new_node.next = current.next\n",
    "        current.next = new_node\n",
    "linklist = LinkList()        "
   ]
  },
  {
   "cell_type": "code",
   "execution_count": 2,
   "id": "8a9ff767-a4c3-4d3c-8e31-9991217e69bd",
   "metadata": {},
   "outputs": [],
   "source": [
    "linklist.append(10)\n",
    "linklist.append(4)\n",
    "linklist.append(6)\n",
    "linklist.append(0)\n",
    "linklist.append(30)\n",
    "linklist.append(2)"
   ]
  },
  {
   "cell_type": "code",
   "execution_count": 3,
   "id": "642a7b3a-ce6c-4497-a9f4-f2858b554cfb",
   "metadata": {},
   "outputs": [
    {
     "name": "stdout",
     "output_type": "stream",
     "text": [
      "0\n",
      "2\n",
      "4\n",
      "6\n",
      "10\n",
      "30\n"
     ]
    }
   ],
   "source": [
    "current = linklist.head\n",
    "\n",
    "while current:\n",
    "    print(current.value)\n",
    "    current = current.next"
   ]
  },
  {
   "cell_type": "markdown",
   "id": "e6f3cc14-8362-4d6d-8cef-4f31b3c74b81",
   "metadata": {},
   "source": [
    "Do it yourself now "
   ]
  },
  {
   "cell_type": "code",
   "execution_count": 1,
   "id": "072aeb13-79ad-4d96-a6bb-ba5946d0dfa9",
   "metadata": {},
   "outputs": [],
   "source": [
    "class Node:\n",
    "    def __init__(self,value):\n",
    "        self.value = value\n",
    "        self.next = None\n",
    "\n",
    "class LinkList:\n",
    "    def __init__(self):\n",
    "        self.head = None\n",
    "\n",
    "    def append(self,value):\n",
    "        \n",
    "        new_node = Node(value)\n",
    "        if not self.head or new_node.value < self.head.value:\n",
    "            new_node.next = self.head\n",
    "            self.head = new_node\n",
    "            return\n",
    "\n",
    "        current = self.head\n",
    "        while current.next and current.next.value < value:\n",
    "            current = current.next\n",
    "\n",
    "        new_node.next = current.next\n",
    "        current.next = new_node\n",
    "\n",
    "linklist = LinkList()"
   ]
  },
  {
   "cell_type": "code",
   "execution_count": 2,
   "id": "0d1bfa96-5113-4ba0-8a40-759d4b9ecbd6",
   "metadata": {},
   "outputs": [
    {
     "name": "stdout",
     "output_type": "stream",
     "text": [
      "0\n",
      "2\n",
      "4\n",
      "6\n",
      "10\n",
      "30\n"
     ]
    }
   ],
   "source": [
    "linklist.append(10)\n",
    "linklist.append(4)\n",
    "linklist.append(6)\n",
    "linklist.append(0)\n",
    "linklist.append(30)\n",
    "linklist.append(2)\n",
    "current = linklist.head\n",
    "\n",
    "while current:\n",
    "    print(current.value)\n",
    "    current = current.next"
   ]
  },
  {
   "cell_type": "markdown",
   "id": "78e2c0e2-1f90-4e3a-a578-3ba8fa8dd45f",
   "metadata": {},
   "source": [
    "Let us try it for prepend"
   ]
  },
  {
   "cell_type": "code",
   "execution_count": 6,
   "id": "38f7ec8c-1d07-471d-804e-34ebe7b1a1c7",
   "metadata": {},
   "outputs": [],
   "source": [
    "class Node:\n",
    "    def __init__(self,value):\n",
    "        self.value = value\n",
    "        self.next = None\n",
    "\n",
    "class LinkList:\n",
    "    def __init__(self):\n",
    "        self.head = None\n",
    "\n",
    "    def prepend(self,value):\n",
    "        new_node = Node(value)\n",
    "\n",
    "        if not self.head or new_node.value < self.head.value:\n",
    "            new_node.next = self.head\n",
    "            self.head = new_node\n",
    "            return\n",
    "\n",
    "        current = self.head\n",
    "        if new_node.value > current.value:\n",
    "            while current.next and current.next.value < value:\n",
    "                current = current.next\n",
    "            new_node.next = current.next\n",
    "            current.next = new_node\n",
    "            return\n",
    "\n",
    "        new_node.next = self.head\n",
    "        self.head = new_node\n",
    "        \n",
    "linklist = LinkList()        "
   ]
  },
  {
   "cell_type": "code",
   "execution_count": 7,
   "id": "c2829596-3741-4f9e-b00a-2436e57d93ef",
   "metadata": {},
   "outputs": [],
   "source": [
    "linklist.prepend(30)\n",
    "linklist.prepend(5)\n",
    "linklist.prepend(40)"
   ]
  },
  {
   "cell_type": "code",
   "execution_count": 3,
   "id": "65e1f752-1311-4905-8a6f-1874bdbeba34",
   "metadata": {},
   "outputs": [
    {
     "name": "stdout",
     "output_type": "stream",
     "text": [
      "5\n",
      "30\n",
      "40\n"
     ]
    }
   ],
   "source": [
    "current = linklist.head\n",
    "\n",
    "while current:\n",
    "    print(current.value)\n",
    "    current = current.next"
   ]
  },
  {
   "cell_type": "markdown",
   "id": "7a810816-33c2-4aa7-a3dd-b5949824694c",
   "metadata": {},
   "source": [
    "### Loop detection\n",
    "\n",
    "lesson learnt\n",
    "\n",
    "- when checking for a loop you want the detection to be in looping stage "
   ]
  },
  {
   "cell_type": "code",
   "execution_count": 3,
   "id": "c62d0566-bdaf-4707-b92b-74c8903713c1",
   "metadata": {},
   "outputs": [],
   "source": [
    "class Node:\n",
    "    def __init__(self, value):\n",
    "        self.value = value\n",
    "        self.next = None\n",
    "\n",
    "class LoopedLinkList:\n",
    "    def __init__(self):\n",
    "        self.head = None\n",
    "        self.tail = None\n",
    "\n",
    "    def append(self, value):\n",
    "        if self.head is None:\n",
    "            self.head = Node(value)\n",
    "            self.tail = self.head\n",
    "            return \n",
    "\n",
    "        current = self.head \n",
    "        while current.next:\n",
    "            current = current.next\n",
    "\n",
    "        new_node = Node(value)\n",
    "        current.next = new_node\n",
    "        self.tail = new_node\n",
    "\n",
    "    def create_loop(self, value1, value2):\n",
    "        node1 = self.find_node(value1)\n",
    "        node2 = self.find_node(value2)\n",
    "\n",
    "        if node1 and node2:\n",
    "            node1.next = node2\n",
    "\n",
    "    def find_node(self, value):\n",
    "        current = self.head\n",
    "        while current:\n",
    "            if current.value == value:\n",
    "                return current\n",
    "            current = current.next\n",
    "        return None\n",
    "\n",
    "# Example usage:\n",
    "looped_linked_list = LoopedLinkList()\n",
    "looped_linked_list.append(1)\n",
    "looped_linked_list.append(3)\n",
    "looped_linked_list.append(6)\n",
    "looped_linked_list.append(8)\n",
    "\n",
    "# Create a loop between node with value 8 and node with value 3\n",
    "looped_linked_list.create_loop(8, 3)\n",
    "\n",
    "# Now, the linked list has a loop between 8 and 3\n"
   ]
  },
  {
   "cell_type": "code",
   "execution_count": 9,
   "id": "9f4fb1eb-f6f5-44b0-b602-ddd7a686efc4",
   "metadata": {},
   "outputs": [
    {
     "data": {
      "text/plain": [
       "True"
      ]
     },
     "execution_count": 9,
     "metadata": {},
     "output_type": "execute_result"
    }
   ],
   "source": [
    "def detectLoop(linkedlist):\n",
    "    fast_pointer = linkedlist.head\n",
    "    slower_pointer = linkedlist.head\n",
    "\n",
    "    while fast_pointer and fast_pointer.next:\n",
    "        slower_pointer = slower_pointer.next\n",
    "        fast_pointer = fast_pointer.next.next\n",
    "\n",
    "        if fast_pointer == slower_pointer:\n",
    "                return True\n",
    "\n",
    "    return False\n",
    "        \n",
    "detectLoop(looped_linked_list)"
   ]
  },
  {
   "cell_type": "markdown",
   "id": "c4ac2cf0-16a5-48fb-b4d3-4ea6492ca635",
   "metadata": {},
   "source": [
    "### Even After Odd\n",
    "\n",
    "lesson learnt\n",
    "\n",
    "- going back to the use of pointers\n"
   ]
  },
  {
   "cell_type": "code",
   "execution_count": 1,
   "id": "c6605f1e-ed53-4565-920f-2c8a77bc2b78",
   "metadata": {},
   "outputs": [],
   "source": [
    "class Node:\n",
    "    def __init__(self,value):\n",
    "        self.value = value\n",
    "        self.next = None\n",
    "\n",
    "class LinkList:\n",
    "    def __init__(self):\n",
    "        self.head = None\n",
    "\n",
    "    def append(self,value):\n",
    "        if self.head is None:\n",
    "            self.head = Node(value)\n",
    "            return\n",
    "\n",
    "        current = self.head\n",
    "        while current.next:\n",
    "            current = current.next\n",
    "        current.next = Node(value)\n",
    "\n",
    "linklist = LinkList()"
   ]
  },
  {
   "cell_type": "code",
   "execution_count": 2,
   "id": "2fdd8ded-8f25-44d6-8911-8d4e1748bd87",
   "metadata": {},
   "outputs": [],
   "source": [
    "linklist.append(1)\n",
    "linklist.append(2)\n",
    "linklist.append(3)\n",
    "linklist.append(4)\n",
    "linklist.append(5)\n",
    "linklist.append(6)"
   ]
  },
  {
   "cell_type": "code",
   "execution_count": 3,
   "id": "e12438d5-12b8-4cfa-a362-006998cbaac9",
   "metadata": {},
   "outputs": [],
   "source": [
    "def even_after_odd(head):\n",
    "    even_head, even_tail = None, None\n",
    "    odd_head, odd_tail = None, None\n",
    "\n",
    "    current = head \n",
    "    while current:\n",
    "        # odd\n",
    "        if current.value % 2 == 1:\n",
    "            if odd_head is None:\n",
    "                odd_head = current\n",
    "                odd_tail = odd_head\n",
    "            else:\n",
    "                odd_tail.next = current\n",
    "                odd_tail = odd_tail.next\n",
    "\n",
    "        else:\n",
    "            if even_head is None:\n",
    "                even_head = current\n",
    "                even_tail = even_head\n",
    "            else:\n",
    "                even_tail.next = current\n",
    "                even_tail = even_tail.next\n",
    "        current = current.next\n",
    "\n",
    "    if odd_tail:\n",
    "        odd_tail.next = even_head\n",
    "    if even_tail:\n",
    "        even_tail.next = None\n",
    "            \n",
    "    return odd_head\n",
    "head = linklist.head"
   ]
  },
  {
   "cell_type": "code",
   "execution_count": 4,
   "id": "79cbd091-dce9-4a2c-8c74-33e0a112d468",
   "metadata": {},
   "outputs": [
    {
     "name": "stdout",
     "output_type": "stream",
     "text": [
      "1\n",
      "3\n",
      "5\n",
      "2\n",
      "4\n",
      "6\n"
     ]
    }
   ],
   "source": [
    "current = even_after_odd(head)\n",
    "\n",
    "while current:\n",
    "    print(current.value)\n",
    "    current = current.next"
   ]
  },
  {
   "cell_type": "markdown",
   "id": "b93d2510-5b34-4ed3-ae9f-102cad4dc85e",
   "metadata": {},
   "source": [
    "Do it yourself now "
   ]
  },
  {
   "cell_type": "code",
   "execution_count": 1,
   "id": "da51423f-4c3f-405d-a1ae-6f0e959fa0d1",
   "metadata": {},
   "outputs": [],
   "source": [
    "class Node:\n",
    "    def __init__(self,value):\n",
    "        self.value = value\n",
    "        self.next = None\n",
    "\n",
    "class LinkList:\n",
    "    def __init__(self):\n",
    "        self.head = None\n",
    "\n",
    "    def append(self,value):\n",
    "        if self.head is None:\n",
    "            self.head = Node(value)\n",
    "            return\n",
    "\n",
    "        current = self.head\n",
    "        while current.next:\n",
    "            current = current.next\n",
    "        current.next = Node(value)\n",
    "\n",
    "linklist = LinkList()"
   ]
  },
  {
   "cell_type": "code",
   "execution_count": 2,
   "id": "1e8b79e7-35d0-4cb9-84a2-99f7805a550e",
   "metadata": {},
   "outputs": [],
   "source": [
    "linklist.append(1)\n",
    "linklist.append(6)\n",
    "linklist.append(5)\n",
    "linklist.append(7)\n",
    "linklist.append(8)\n",
    "linklist.append(17)"
   ]
  },
  {
   "cell_type": "code",
   "execution_count": 3,
   "id": "329abc0c-bfed-4013-8778-24aed6dc9f80",
   "metadata": {},
   "outputs": [],
   "source": [
    "def even_before_odd(head):\n",
    "    even_head, odd_head = None,None\n",
    "    even_tail, odd_tail = None,None\n",
    "\n",
    "    current = head\n",
    "    while current:\n",
    "        # even\n",
    "        if current.value % 2 == 0:\n",
    "            if even_head is None:\n",
    "                even_head = current\n",
    "                even_tail = even_head\n",
    "            else:\n",
    "                even_tail.next = current\n",
    "                even_tail = even_tail.next\n",
    "        else:\n",
    "            if odd_head is None:\n",
    "                odd_head = current\n",
    "                odd_tail = odd_head\n",
    "            else:\n",
    "                odd_tail.next = current\n",
    "                odd_tail = odd_tail.next\n",
    "                \n",
    "        current = current.next\n",
    "    if even_tail:\n",
    "        even_tail.next = odd_head\n",
    "    if odd_tail:\n",
    "        odd_tail.next = None\n",
    "\n",
    "    return even_head\n",
    "\n",
    "head = linklist.head"
   ]
  },
  {
   "cell_type": "code",
   "execution_count": 4,
   "id": "dc1e9c85-bc7f-40fb-b553-d6efb7b6486f",
   "metadata": {},
   "outputs": [
    {
     "name": "stdout",
     "output_type": "stream",
     "text": [
      "6\n",
      "8\n",
      "1\n",
      "5\n",
      "7\n",
      "17\n"
     ]
    }
   ],
   "source": [
    "current = even_before_odd(head)\n",
    "\n",
    "while current:\n",
    "    print(current.value)\n",
    "    current = current.next"
   ]
  },
  {
   "cell_type": "markdown",
   "id": "09fc6e5a-3451-4e00-a3e2-3e0901ef58bc",
   "metadata": {},
   "source": [
    "### Problem Statement\r\n",
    "\r\n",
    "You are given the head of a linked list and two integers, `i` and `j`.\r\n",
    "You have to retain the first `i` nodes and then delete the next `j` nodes. Continue doing so until the end of the linked list. \r\n",
    "\r\n",
    "**Example:**\r\n",
    "* `linked-list = 1 2 3 4 5 6 7 8 9 10 11 12`\r\n",
    "* `i = 2`\r\n",
    "* `j = 3` \r\n",
    "* `Output = 1 2 6 7 11 12` \r\n"
   ]
  },
  {
   "cell_type": "code",
   "execution_count": 38,
   "id": "7eb8e697-a917-4657-8199-f1ffeb7debdd",
   "metadata": {},
   "outputs": [],
   "source": [
    "class Node:\n",
    "    def __init__(self,value):\n",
    "        self.value = value\n",
    "        self.next = None\n",
    "\n",
    "class LinkList:\n",
    "    def __init__(self):\n",
    "        self.head = None\n",
    "\n",
    "    def append(self,value):\n",
    "        if self.head is None:\n",
    "            self.head = Node(value)\n",
    "            return\n",
    "\n",
    "        current = self.head\n",
    "        while current.next:\n",
    "            current = current.next\n",
    "        current.next = Node(value)\n",
    "\n",
    "linklist = LinkList()\n",
    "linklist.append(1)\n",
    "linklist.append(2)\n",
    "linklist.append(3)\n",
    "linklist.append(4)\n",
    "linklist.append(5)\n",
    "linklist.append(6)\n",
    "linklist.append(7)\n",
    "linklist.append(8)\n",
    "linklist.append(9)\n",
    "linklist.append(10)\n",
    "linklist.append(11)\n",
    "linklist.append(12)"
   ]
  },
  {
   "cell_type": "markdown",
   "id": "5ac6769d-a93a-4469-8c45-d6c190382223",
   "metadata": {},
   "source": [
    "Try again "
   ]
  },
  {
   "cell_type": "code",
   "execution_count": 39,
   "id": "2b67c843-2166-4b20-a808-655d97784f65",
   "metadata": {},
   "outputs": [],
   "source": [
    "def skip_i_delete_j(head, i, j):\n",
    "    if i == 0:\n",
    "        return None\n",
    "    if j == 0:\n",
    "        return head\n",
    "\n",
    "    if not head or i < 0 or j < 0:\n",
    "        return None\n",
    "\n",
    "    current = head\n",
    "    temp = None\n",
    "\n",
    "    while current:\n",
    "        for _ in range(i-1):\n",
    "            if current is None:\n",
    "                return head\n",
    "            current = current.next \n",
    "        temp = current\n",
    "        current = current.next\n",
    "        \n",
    "        for _ in range(j):\n",
    "            if current is None:\n",
    "                break\n",
    "            next_node = current.next\n",
    "            current = next_node\n",
    "        \n",
    "        temp.next = current\n",
    "        \n",
    "    return head\n",
    "\n",
    "head  = linklist.head"
   ]
  },
  {
   "cell_type": "code",
   "execution_count": 40,
   "id": "c78cc992-4f5d-42d4-9d37-db766012532b",
   "metadata": {},
   "outputs": [
    {
     "name": "stdout",
     "output_type": "stream",
     "text": [
      "1\n",
      "2\n",
      "3\n",
      "4\n",
      "5\n",
      "6\n",
      "7\n",
      "8\n",
      "9\n"
     ]
    }
   ],
   "source": [
    "current = skip_i_delete_j(head,2,5)\n",
    "\n",
    "while current:\n",
    "    print(current.value)\n",
    "    current =current.next"
   ]
  },
  {
   "cell_type": "code",
   "execution_count": 33,
   "id": "360537b6-3a6f-4a55-86c0-e99058bd732d",
   "metadata": {},
   "outputs": [],
   "source": [
    "def skip_i_delete_j(head, i, j):\n",
    "# Edge case - Skip 0 nodes (means Delete all nodes)\n",
    "    if i == 0:\n",
    "        return None\n",
    "    \n",
    "    # Edge case - Delete 0 nodes\n",
    "    if j == 0:\n",
    "        return head\n",
    "    \n",
    "    # Invalid input\n",
    "    if head is None or j < 0 or i < 0:\n",
    "        return head\n",
    "\n",
    "    # Helper references\n",
    "    current = head\n",
    "    previous = None\n",
    "    \n",
    "    # Traverse - Loop untill there are Nodes available in the LinkedList\n",
    "    while current:\n",
    "        \n",
    "        '''skip (i - 1) nodes'''\n",
    "        for _ in range(i - 1):\n",
    "            if current is None:\n",
    "                return head\n",
    "            current = current.next\n",
    "        previous = current\n",
    "        #current = current.next\n",
    "        \n",
    "        '''delete next j nodes'''\n",
    "        for _ in range(j):\n",
    "            if current is None:\n",
    "                break\n",
    "            next_node = current.next\n",
    "            current = next_node\n",
    "        \n",
    "        '''Connect the `previous.next` to the `current`''' \n",
    "        previous.next = current\n",
    "    \n",
    "    # Loop ends\n",
    "    \n",
    "    return head\n",
    "\n",
    "head  = linklist.head"
   ]
  },
  {
   "cell_type": "code",
   "execution_count": 34,
   "id": "7f9e6ea5-826d-43d1-b5ab-8619d060ebdc",
   "metadata": {},
   "outputs": [
    {
     "name": "stdout",
     "output_type": "stream",
     "text": [
      "1\n",
      "2\n",
      "5\n",
      "6\n",
      "9\n",
      "10\n"
     ]
    }
   ],
   "source": [
    "current = skip_i_delete_j(head,2,3)\n",
    "\n",
    "while current:\n",
    "    print(current.value)\n",
    "    current =current.next"
   ]
  },
  {
   "cell_type": "code",
   "execution_count": 1,
   "id": "8671ad66-b11a-4068-ba6d-014d6bbe2f59",
   "metadata": {},
   "outputs": [],
   "source": [
    "class Node:\n",
    "    def __init__(self,value):\n",
    "        self.value = value\n",
    "        self.next = None\n",
    "\n",
    "class LinkList:\n",
    "    def __init__(self):\n",
    "        self.head = None\n",
    "\n",
    "    def append(self,value):\n",
    "        if self.head is None:\n",
    "            self.head = Node(value)\n",
    "            return\n",
    "\n",
    "        current = self.head\n",
    "        while current.next:\n",
    "            current = current.next\n",
    "        current.next = Node(value)\n",
    "\n",
    "linklist = LinkList()\n",
    "linklist.append(1)\n",
    "linklist.append(2)\n",
    "linklist.append(3)\n",
    "linklist.append(4)\n",
    "linklist.append(5)\n",
    "linklist.append(6)\n",
    "linklist.append(7)\n",
    "linklist.append(8)\n",
    "linklist.append(9)\n",
    "linklist.append(10)\n",
    "linklist.append(11)\n",
    "linklist.append(12)"
   ]
  },
  {
   "cell_type": "code",
   "execution_count": 10,
   "id": "e9ace011-38ad-4f8a-bb1a-53c9daee88ee",
   "metadata": {},
   "outputs": [],
   "source": [
    "def skip_from_i_by_j(head, i, j):\n",
    "    if i == 0:\n",
    "        return head\n",
    "    if j == 0:\n",
    "        return head \n",
    "\n",
    "    if not head or i < 0 or j < 0:\n",
    "        return None\n",
    "\n",
    "    current = head\n",
    "    temp = None\n",
    "    while current:\n",
    "        for _ in range(i - 1):\n",
    "            if current is None:\n",
    "                return head\n",
    "            current = current.next\n",
    "        temp = current\n",
    "        current = current.next\n",
    "\n",
    "        for _ in range(j):\n",
    "            if current is None:\n",
    "                break\n",
    "            next_node = current.next\n",
    "            current = next_node\n",
    "\n",
    "        temp.next = current\n",
    "        #current = current.next\n",
    "    return head \n",
    "\n",
    "head = linklist.head"
   ]
  },
  {
   "cell_type": "code",
   "execution_count": 11,
   "id": "0d3e96ce-5ac3-4308-98f0-a21e3b3b2d9b",
   "metadata": {},
   "outputs": [
    {
     "name": "stdout",
     "output_type": "stream",
     "text": [
      "1\n",
      "2\n",
      "3\n",
      "4\n",
      "7\n",
      "8\n",
      "9\n",
      "10\n"
     ]
    }
   ],
   "source": [
    "current = skip_from_i_by_j(head, 4, 2)\n",
    "\n",
    "while current:\n",
    "    print(current.value)\n",
    "    current = current.next "
   ]
  },
  {
   "cell_type": "markdown",
   "id": "bd797c55-c6df-451e-83e9-80b58c5e3b4f",
   "metadata": {},
   "source": [
    "### Swap Node\n",
    "\n",
    "lesson learnt \n",
    "\n",
    "-\n"
   ]
  },
  {
   "cell_type": "markdown",
   "id": "c80e90fd-302b-4340-9bc8-03b757a7d975",
   "metadata": {},
   "source": [
    "## Problem Statement\r\n",
    "\r\n",
    "Given a linked list, swap the two nodes present at position `i` and `j`, assuming `0 <= i <= j`. The positions are based on 0-based indexing.\r\n",
    "\r\n",
    "**Note:** You have to swap the nodes and not just the values. \r\n",
    "\r\n",
    "**Example:**\r\n",
    "* `linked_list = 3 4 5 2 6 1 9`\r\n",
    "* `positions = 2 5`\r\n",
    "* `output = 3 4 1 2 6 5 9`\r\n",
    "\r\n",
    "**Explanation:** \r\n",
    "* The node at position 3 has the value `2`\r\n",
    "* The node at position 4 has the value `6`\r\n",
    "* Swapping these nodes will result in a final order of nodes of `3 4 5 6 2 1 9`"
   ]
  },
  {
   "cell_type": "code",
   "execution_count": null,
   "id": "e68f35b8-380f-459b-bceb-913bc5cb118f",
   "metadata": {},
   "outputs": [],
   "source": [
    "class ListNode:\n",
    "    def __init__(self, value=0, next=None):\n",
    "        self.value = value\n",
    "        self.next = next\n",
    "\n",
    "def swap_nodes(head, position_one, position_two):\n",
    "    # If both the indices are same\n",
    "    if position_one == position_two:\n",
    "        return head\n",
    "    \n",
    "    # Helper references\n",
    "    one_previous = None\n",
    "    one_current = None\n",
    "\n",
    "    two_previous = None\n",
    "    two_current = None\n",
    "\n",
    "    current_index = 0\n",
    "    current_node = head \n",
    "    new_head = None\n",
    "\n",
    "    # LOOP - find out previous and current node at both the positions (indices)\n",
    "    while current_node is not None:\n",
    "        # Position_one cannot be equal to position_two, \n",
    "        # so either one of them might be equal to the current_index\n",
    "        if current_index == position_one:\n",
    "            one_current = current_node\n",
    "        \n",
    "        elif current_index == position_two:\n",
    "            two_current = current_node\n",
    "            break\n",
    "\n",
    "        # If neither of the position_one or position_two are equal to the current_index\n",
    "        if one_current is None:\n",
    "            one_previous = current_node\n",
    "        \n",
    "        two_previous = current_node\n",
    "        \n",
    "        # increment both the current_index and current_node\n",
    "        current_node = current_node.next         \n",
    "        current_index += 1\n",
    "\n",
    "    # Loop ends\n",
    "    \n",
    "    '''SWAPPING LOGIC'''\n",
    "    # We have identified the two nodes: one_current & two_current to be swapped, \n",
    "    # Make use of a temporary reference to swap the references\n",
    "    two_previous.next = one_current\n",
    "    temp = one_current.next\n",
    "    one_current.next = two_current.next\n",
    "    two_current.next = temp\n",
    "    \n",
    "    # if the node at the first index is the head of the original linked list\n",
    "    if one_previous is None:\n",
    "        new_head = two_current\n",
    "    else:\n",
    "        one_previous.next = two_current\n",
    "        new_head = head\n",
    "    # Swapping logic ends\n",
    "    \n",
    "    return new_head\n",
    "\n",
    "# Example usage:\n",
    "linked_list = ListNode(3, ListNode(4, ListNode(5, ListNode(2, ListNode(6, ListNode(1, ListNode(9))))))))\n",
    "position_one = 2\n",
    "position_two = 5\n",
    "\n",
    "result = swap_nodes(linked_list, position_one, position_two)\n",
    "\n",
    "# Print the result\n",
    "while result:\n",
    "    print(result.value, end=' ')\n",
    "    result = result.next\n"
   ]
  },
  {
   "cell_type": "code",
   "execution_count": null,
   "id": "77628112-f52e-4f05-bd65-2dc29a1dbe21",
   "metadata": {},
   "outputs": [],
   "source": [
    "def swapNode(head, i, j):\n",
    "    if head is None:\n",
    "        return None\n",
    "\n",
    "    if i == j:\n",
    "        return head\n",
    "\n",
    "    if i > j:\n",
    "        return None\n",
    "\n",
    "    current = head\n",
    "    prev_i = None\n",
    "    prev_j = None\n",
    "\n",
    "    current_i = None\n",
    "    current_j = None\n",
    "\n",
    "    count = 0\n",
    "    new_head = None\n",
    "\n",
    "    while current:\n",
    "        if \n",
    "\n",
    "        curent = current.next\n",
    "        "
   ]
  },
  {
   "cell_type": "code",
   "execution_count": null,
   "id": "eab7f8a8-373c-409e-852b-1cf86ad67781",
   "metadata": {},
   "outputs": [],
   "source": []
  },
  {
   "cell_type": "code",
   "execution_count": null,
   "id": "f4f878d2-552b-4890-96eb-b8ae91435b73",
   "metadata": {},
   "outputs": [],
   "source": []
  },
  {
   "cell_type": "code",
   "execution_count": null,
   "id": "e7807b83-b646-496f-8b50-784a973f46d9",
   "metadata": {},
   "outputs": [],
   "source": []
  },
  {
   "cell_type": "code",
   "execution_count": null,
   "id": "3861db85-f0b2-4901-ae11-81a309303078",
   "metadata": {},
   "outputs": [],
   "source": []
  },
  {
   "cell_type": "code",
   "execution_count": null,
   "id": "b7bad2ab-ec14-46b7-80e6-7aeb78f2a137",
   "metadata": {},
   "outputs": [],
   "source": []
  },
  {
   "cell_type": "code",
   "execution_count": null,
   "id": "9b7a163f-60ce-43a7-a3e0-a0a6e8932c69",
   "metadata": {},
   "outputs": [],
   "source": []
  },
  {
   "cell_type": "code",
   "execution_count": null,
   "id": "a0191f2c-5f3d-44b2-a4fa-8372592c251c",
   "metadata": {},
   "outputs": [],
   "source": []
  },
  {
   "cell_type": "code",
   "execution_count": null,
   "id": "80b79db1-1bad-4dcb-8c27-066fecf3d2db",
   "metadata": {},
   "outputs": [],
   "source": []
  },
  {
   "cell_type": "code",
   "execution_count": null,
   "id": "7dbb52e3-0225-4902-bd6e-49bfc3481e0d",
   "metadata": {},
   "outputs": [],
   "source": []
  },
  {
   "cell_type": "code",
   "execution_count": null,
   "id": "e29ae65a-51dc-4ebf-8743-96eb812b1f98",
   "metadata": {},
   "outputs": [],
   "source": []
  },
  {
   "cell_type": "code",
   "execution_count": null,
   "id": "d434edfe-a93b-4fc3-86c4-b1b78d8191da",
   "metadata": {},
   "outputs": [],
   "source": []
  },
  {
   "cell_type": "code",
   "execution_count": null,
   "id": "dacf95b7-3966-459e-93fc-a11bdf4f2a34",
   "metadata": {},
   "outputs": [],
   "source": []
  },
  {
   "cell_type": "code",
   "execution_count": null,
   "id": "30f96a26-cd3b-4394-b1fc-4f1bff369041",
   "metadata": {},
   "outputs": [],
   "source": []
  },
  {
   "cell_type": "code",
   "execution_count": null,
   "id": "c52b1b5f-9dfa-4501-ae8c-2dd477bc69b8",
   "metadata": {},
   "outputs": [],
   "source": []
  },
  {
   "cell_type": "code",
   "execution_count": null,
   "id": "865a595a-63fb-4881-a06c-6e8ed6a3b096",
   "metadata": {},
   "outputs": [],
   "source": []
  },
  {
   "cell_type": "code",
   "execution_count": null,
   "id": "14074d98-dd18-46e0-8b31-a61fa9703eda",
   "metadata": {},
   "outputs": [],
   "source": []
  },
  {
   "cell_type": "code",
   "execution_count": null,
   "id": "bb533920-2fa8-4792-807b-182a202cd3e0",
   "metadata": {},
   "outputs": [],
   "source": []
  },
  {
   "cell_type": "code",
   "execution_count": null,
   "id": "194f987a-7cf0-4665-a872-ca46e5710308",
   "metadata": {},
   "outputs": [],
   "source": []
  },
  {
   "cell_type": "code",
   "execution_count": null,
   "id": "004e3700-1580-4d01-bd49-dc2212908a50",
   "metadata": {},
   "outputs": [],
   "source": []
  },
  {
   "cell_type": "code",
   "execution_count": null,
   "id": "9febd544-aa71-4e47-a1df-e377a6e662df",
   "metadata": {},
   "outputs": [],
   "source": []
  },
  {
   "cell_type": "code",
   "execution_count": null,
   "id": "11f696d5-cb63-4711-a3c8-5f625fb58178",
   "metadata": {},
   "outputs": [],
   "source": []
  },
  {
   "cell_type": "code",
   "execution_count": null,
   "id": "68a5e313-f7ae-4aa6-bb10-232e9df39f2b",
   "metadata": {},
   "outputs": [],
   "source": []
  },
  {
   "cell_type": "code",
   "execution_count": null,
   "id": "4a639823-bce4-4daf-9875-fc66aa52bb17",
   "metadata": {},
   "outputs": [],
   "source": []
  },
  {
   "cell_type": "code",
   "execution_count": null,
   "id": "eb2f37d3-b6ae-418b-b80e-3635ec5e7e51",
   "metadata": {},
   "outputs": [],
   "source": []
  },
  {
   "cell_type": "code",
   "execution_count": null,
   "id": "ee2b3dd7-956a-4aca-843f-82802b53ed48",
   "metadata": {},
   "outputs": [],
   "source": []
  },
  {
   "cell_type": "code",
   "execution_count": null,
   "id": "dc06b148-a1dc-4ac6-8947-edde65f4b9f0",
   "metadata": {},
   "outputs": [],
   "source": []
  },
  {
   "cell_type": "code",
   "execution_count": null,
   "id": "a19d7bd9-7e88-4b50-844b-85cd2cf88ece",
   "metadata": {},
   "outputs": [],
   "source": []
  },
  {
   "cell_type": "code",
   "execution_count": null,
   "id": "5ada5a89-bc29-48be-8b76-a8d84264b3b5",
   "metadata": {},
   "outputs": [],
   "source": []
  },
  {
   "cell_type": "code",
   "execution_count": null,
   "id": "5c6bee98-e37a-4d3d-8c09-afe6c296f4cd",
   "metadata": {},
   "outputs": [],
   "source": []
  },
  {
   "cell_type": "code",
   "execution_count": null,
   "id": "8065290b-a1fa-43d2-bc40-e1676e018340",
   "metadata": {},
   "outputs": [],
   "source": []
  },
  {
   "cell_type": "code",
   "execution_count": null,
   "id": "2bbeb772-733d-409f-bc02-87d08983daaf",
   "metadata": {},
   "outputs": [],
   "source": []
  },
  {
   "cell_type": "code",
   "execution_count": null,
   "id": "5411562d-2f01-4ff6-af92-398d213aaf9b",
   "metadata": {},
   "outputs": [],
   "source": []
  },
  {
   "cell_type": "code",
   "execution_count": null,
   "id": "70866921-6e79-4865-9716-822a84694b47",
   "metadata": {},
   "outputs": [],
   "source": []
  },
  {
   "cell_type": "code",
   "execution_count": null,
   "id": "e35abcdb-4bfc-40b3-8791-f91c3b6e3f33",
   "metadata": {},
   "outputs": [],
   "source": []
  },
  {
   "cell_type": "code",
   "execution_count": null,
   "id": "3fc56a38-65ca-445e-a7f3-a68b74c0c1a9",
   "metadata": {},
   "outputs": [],
   "source": []
  },
  {
   "cell_type": "code",
   "execution_count": null,
   "id": "1ec91523-991b-42b7-8cdb-cc85b46aa3c9",
   "metadata": {},
   "outputs": [],
   "source": []
  },
  {
   "cell_type": "code",
   "execution_count": null,
   "id": "b218d25b-a203-46f6-93ad-66cb624ea645",
   "metadata": {},
   "outputs": [],
   "source": []
  },
  {
   "cell_type": "code",
   "execution_count": null,
   "id": "15f905e8-e173-481d-ac27-897492cfc3a4",
   "metadata": {},
   "outputs": [],
   "source": []
  },
  {
   "cell_type": "code",
   "execution_count": null,
   "id": "fad6cfd5-a208-4291-8872-36613efc9f25",
   "metadata": {},
   "outputs": [],
   "source": []
  },
  {
   "cell_type": "code",
   "execution_count": null,
   "id": "605a311f-628e-4e0a-a484-6258cc8b07e1",
   "metadata": {},
   "outputs": [],
   "source": []
  },
  {
   "cell_type": "code",
   "execution_count": null,
   "id": "14cfa528-b5e5-4b39-a643-58f078e34967",
   "metadata": {},
   "outputs": [],
   "source": []
  },
  {
   "cell_type": "code",
   "execution_count": null,
   "id": "5eba05ad-d707-478a-83f5-14a5c8bc1783",
   "metadata": {},
   "outputs": [],
   "source": []
  },
  {
   "cell_type": "code",
   "execution_count": null,
   "id": "01a96946-7d5e-4754-a3c6-c8cfff296d3f",
   "metadata": {},
   "outputs": [],
   "source": []
  },
  {
   "cell_type": "code",
   "execution_count": null,
   "id": "48372713-82d5-4b67-8703-6098a5b65201",
   "metadata": {},
   "outputs": [],
   "source": []
  },
  {
   "cell_type": "code",
   "execution_count": null,
   "id": "018c0391-0a73-49b1-ac39-b6c40d58ac32",
   "metadata": {},
   "outputs": [],
   "source": []
  },
  {
   "cell_type": "code",
   "execution_count": null,
   "id": "461d94fe-5a44-4c4b-85f7-58d43dc060f0",
   "metadata": {},
   "outputs": [],
   "source": []
  },
  {
   "cell_type": "code",
   "execution_count": null,
   "id": "3f03d60c-47ba-4734-965f-8727054e1a8c",
   "metadata": {},
   "outputs": [],
   "source": []
  },
  {
   "cell_type": "code",
   "execution_count": null,
   "id": "77ca560d-b33a-42e9-8502-4d27e311b2cc",
   "metadata": {},
   "outputs": [],
   "source": []
  },
  {
   "cell_type": "code",
   "execution_count": null,
   "id": "27b18c89-f802-47e1-90e0-1878676330fa",
   "metadata": {},
   "outputs": [],
   "source": []
  },
  {
   "cell_type": "code",
   "execution_count": null,
   "id": "03dd87c3-bc3f-4d6b-bcaa-28726bba8290",
   "metadata": {},
   "outputs": [],
   "source": []
  },
  {
   "cell_type": "code",
   "execution_count": null,
   "id": "a48bd550-019b-4f04-b87b-8757f4b0567f",
   "metadata": {},
   "outputs": [],
   "source": []
  },
  {
   "cell_type": "code",
   "execution_count": null,
   "id": "ac1d7037-6a6b-465e-8f72-01fa37a80764",
   "metadata": {},
   "outputs": [],
   "source": []
  },
  {
   "cell_type": "code",
   "execution_count": null,
   "id": "dcca7e61-8b83-40b3-a75e-23a1452404f1",
   "metadata": {},
   "outputs": [],
   "source": []
  },
  {
   "cell_type": "code",
   "execution_count": null,
   "id": "00ab1502-e337-4979-85f4-290cf495fad2",
   "metadata": {},
   "outputs": [],
   "source": []
  },
  {
   "cell_type": "code",
   "execution_count": null,
   "id": "635b21fe-b31b-4830-8504-935afc8b0ffd",
   "metadata": {},
   "outputs": [],
   "source": []
  },
  {
   "cell_type": "code",
   "execution_count": null,
   "id": "09bf6d00-636e-4a35-b182-a8e7fe0630a7",
   "metadata": {},
   "outputs": [],
   "source": []
  },
  {
   "cell_type": "code",
   "execution_count": null,
   "id": "13d1b238-85ae-4a60-aa33-f7fb2ab213e8",
   "metadata": {},
   "outputs": [],
   "source": []
  },
  {
   "cell_type": "code",
   "execution_count": null,
   "id": "3d0b1a31-ac9c-4e16-b8f0-513cef567718",
   "metadata": {},
   "outputs": [],
   "source": []
  },
  {
   "cell_type": "code",
   "execution_count": null,
   "id": "2d25ecef-b270-41bb-ac79-3ab1d9bfcd5a",
   "metadata": {},
   "outputs": [],
   "source": []
  },
  {
   "cell_type": "code",
   "execution_count": null,
   "id": "0d2bde90-4759-41c0-8d72-b3f42d2277f4",
   "metadata": {},
   "outputs": [],
   "source": []
  },
  {
   "cell_type": "code",
   "execution_count": null,
   "id": "c2b8ef20-c626-4546-92c8-415ff50c12b6",
   "metadata": {},
   "outputs": [],
   "source": []
  },
  {
   "cell_type": "code",
   "execution_count": null,
   "id": "7b32bb91-c102-473a-8f00-da57e71eb01a",
   "metadata": {},
   "outputs": [],
   "source": []
  },
  {
   "cell_type": "code",
   "execution_count": null,
   "id": "373c82eb-3844-47e3-8210-bd69d1966e67",
   "metadata": {},
   "outputs": [],
   "source": []
  },
  {
   "cell_type": "code",
   "execution_count": null,
   "id": "805d09f6-6b91-4d15-85f5-ec63054f93fd",
   "metadata": {},
   "outputs": [],
   "source": []
  },
  {
   "cell_type": "code",
   "execution_count": null,
   "id": "8cf92bd3-fb46-4f48-aa8b-4d7dba541f29",
   "metadata": {},
   "outputs": [],
   "source": []
  },
  {
   "cell_type": "code",
   "execution_count": null,
   "id": "a0d1361e-e9b6-43dd-a8c4-ea80eb85c276",
   "metadata": {},
   "outputs": [],
   "source": []
  },
  {
   "cell_type": "code",
   "execution_count": null,
   "id": "83903069-91e7-4ac9-8024-d635cc38f142",
   "metadata": {},
   "outputs": [],
   "source": []
  },
  {
   "cell_type": "code",
   "execution_count": null,
   "id": "27d0f9b2-fd4c-4c70-b045-77b3f10e0600",
   "metadata": {},
   "outputs": [],
   "source": []
  },
  {
   "cell_type": "code",
   "execution_count": null,
   "id": "319b96de-8caa-435f-8031-c9294c1076ce",
   "metadata": {},
   "outputs": [],
   "source": []
  },
  {
   "cell_type": "code",
   "execution_count": null,
   "id": "f94c4893-5845-48bf-935e-f2b5ffa05044",
   "metadata": {},
   "outputs": [],
   "source": []
  },
  {
   "cell_type": "code",
   "execution_count": null,
   "id": "21609b2a-ed35-45b3-9977-fb59298b614a",
   "metadata": {},
   "outputs": [],
   "source": []
  },
  {
   "cell_type": "code",
   "execution_count": null,
   "id": "ddd7f84d-f98c-4e3d-89a2-80dc8f5b5684",
   "metadata": {},
   "outputs": [],
   "source": []
  },
  {
   "cell_type": "code",
   "execution_count": null,
   "id": "1e606a98-eae6-4fe3-ac4e-dd727dd18cec",
   "metadata": {},
   "outputs": [],
   "source": []
  },
  {
   "cell_type": "code",
   "execution_count": null,
   "id": "67967220-fd05-403f-96a6-dd02852ed610",
   "metadata": {},
   "outputs": [],
   "source": []
  },
  {
   "cell_type": "code",
   "execution_count": null,
   "id": "38a6c734-6196-4a91-93c1-ca1f65f40f58",
   "metadata": {},
   "outputs": [],
   "source": []
  },
  {
   "cell_type": "code",
   "execution_count": null,
   "id": "31dc2522-37a6-4160-a04b-99d90c07bd69",
   "metadata": {},
   "outputs": [],
   "source": []
  },
  {
   "cell_type": "code",
   "execution_count": null,
   "id": "41d9aa86-1749-43d4-ab02-50789fc3ed3a",
   "metadata": {},
   "outputs": [],
   "source": []
  },
  {
   "cell_type": "code",
   "execution_count": null,
   "id": "f14b7faa-baea-4123-bf64-3f6dcdfbd519",
   "metadata": {},
   "outputs": [],
   "source": []
  },
  {
   "cell_type": "code",
   "execution_count": null,
   "id": "3a091c33-02dc-4cbc-ae8b-3921e59f6424",
   "metadata": {},
   "outputs": [],
   "source": []
  },
  {
   "cell_type": "code",
   "execution_count": null,
   "id": "c1e0d34b-498d-42e9-9890-c272d9fec290",
   "metadata": {},
   "outputs": [],
   "source": []
  },
  {
   "cell_type": "code",
   "execution_count": null,
   "id": "e30b1495-24a8-4e87-ad40-00f49bbea822",
   "metadata": {},
   "outputs": [],
   "source": []
  },
  {
   "cell_type": "code",
   "execution_count": null,
   "id": "94f4e091-a96d-41a9-9dfe-d25bb51f1bb1",
   "metadata": {},
   "outputs": [],
   "source": []
  },
  {
   "cell_type": "code",
   "execution_count": null,
   "id": "55827180-6d15-4e96-830d-7cdae05a01dc",
   "metadata": {},
   "outputs": [],
   "source": []
  },
  {
   "cell_type": "code",
   "execution_count": null,
   "id": "b5a98eb3-a3f2-4200-b764-7b21f450db2c",
   "metadata": {},
   "outputs": [],
   "source": []
  },
  {
   "cell_type": "code",
   "execution_count": null,
   "id": "eb2d50e7-24b1-42ec-ad57-5339f079af3e",
   "metadata": {},
   "outputs": [],
   "source": []
  },
  {
   "cell_type": "code",
   "execution_count": null,
   "id": "23f0d5da-785b-48cd-9b6a-ad6e50af0608",
   "metadata": {},
   "outputs": [],
   "source": []
  },
  {
   "cell_type": "code",
   "execution_count": null,
   "id": "6bc115dc-e156-4924-ad76-79300d1e3fd0",
   "metadata": {},
   "outputs": [],
   "source": []
  },
  {
   "cell_type": "code",
   "execution_count": null,
   "id": "060aa33b-63f8-4f71-bf23-311446a28136",
   "metadata": {},
   "outputs": [],
   "source": []
  },
  {
   "cell_type": "code",
   "execution_count": null,
   "id": "3c77bbf6-ad8c-4f8f-b580-2fa293e26fe1",
   "metadata": {},
   "outputs": [],
   "source": []
  },
  {
   "cell_type": "code",
   "execution_count": null,
   "id": "b83edb0f-b948-41f7-99b3-d10317b49576",
   "metadata": {},
   "outputs": [],
   "source": []
  },
  {
   "cell_type": "code",
   "execution_count": null,
   "id": "20467ac9-a688-4ef2-8923-7588c031f9be",
   "metadata": {},
   "outputs": [],
   "source": []
  },
  {
   "cell_type": "code",
   "execution_count": null,
   "id": "66cd6cff-2062-48ff-9d45-4fe64ba9401e",
   "metadata": {},
   "outputs": [],
   "source": []
  },
  {
   "cell_type": "code",
   "execution_count": null,
   "id": "983ec5e8-41aa-468d-98c9-fe72ff3c6526",
   "metadata": {},
   "outputs": [],
   "source": []
  },
  {
   "cell_type": "code",
   "execution_count": null,
   "id": "ad397aad-c85b-4a3a-907d-54603f9b236d",
   "metadata": {},
   "outputs": [],
   "source": []
  },
  {
   "cell_type": "code",
   "execution_count": null,
   "id": "39cda7af-3a2d-46a0-a300-d51e985a3dc0",
   "metadata": {},
   "outputs": [],
   "source": []
  },
  {
   "cell_type": "code",
   "execution_count": null,
   "id": "70b2a851-12d5-4785-b448-5749d2b4a307",
   "metadata": {},
   "outputs": [],
   "source": []
  },
  {
   "cell_type": "code",
   "execution_count": null,
   "id": "00bf2510-97d8-4f09-aabc-731ea5243730",
   "metadata": {},
   "outputs": [],
   "source": []
  },
  {
   "cell_type": "code",
   "execution_count": null,
   "id": "0c76de2e-294f-458e-854b-756581bd6a2e",
   "metadata": {},
   "outputs": [],
   "source": []
  },
  {
   "cell_type": "code",
   "execution_count": null,
   "id": "336ce1de-bfa1-45a8-8580-5c71e0f50cf8",
   "metadata": {},
   "outputs": [],
   "source": []
  },
  {
   "cell_type": "code",
   "execution_count": null,
   "id": "842e80a0-a9ea-4a25-a52a-bff7640ce331",
   "metadata": {},
   "outputs": [],
   "source": []
  },
  {
   "cell_type": "code",
   "execution_count": null,
   "id": "00a2fea1-407a-4690-91f5-99a898482a32",
   "metadata": {},
   "outputs": [],
   "source": []
  },
  {
   "cell_type": "code",
   "execution_count": null,
   "id": "bb6a2f56-f3cd-4473-af73-63f673413d2f",
   "metadata": {},
   "outputs": [],
   "source": []
  },
  {
   "cell_type": "code",
   "execution_count": null,
   "id": "acb077be-9456-4172-b89f-da0a5e0a3969",
   "metadata": {},
   "outputs": [],
   "source": []
  },
  {
   "cell_type": "code",
   "execution_count": null,
   "id": "f4cdf944-27a1-465a-9fbf-bcfff412b154",
   "metadata": {},
   "outputs": [],
   "source": []
  },
  {
   "cell_type": "code",
   "execution_count": null,
   "id": "f9c3fba2-4e55-4745-a09c-05af498eb4af",
   "metadata": {},
   "outputs": [],
   "source": []
  },
  {
   "cell_type": "code",
   "execution_count": null,
   "id": "0674e480-9d2c-44eb-adc6-df3c9c81089c",
   "metadata": {},
   "outputs": [],
   "source": []
  },
  {
   "cell_type": "code",
   "execution_count": null,
   "id": "4a5af5bd-6160-41d2-bcda-7b31f428aa4e",
   "metadata": {},
   "outputs": [],
   "source": []
  },
  {
   "cell_type": "code",
   "execution_count": null,
   "id": "f50a14d8-3689-463d-b0f4-e3cde5eb63d0",
   "metadata": {},
   "outputs": [],
   "source": []
  },
  {
   "cell_type": "code",
   "execution_count": null,
   "id": "f51abeba-1d95-41ee-9f26-e9f066dfd083",
   "metadata": {},
   "outputs": [],
   "source": []
  },
  {
   "cell_type": "code",
   "execution_count": null,
   "id": "259fd886-3ddd-4a31-9b01-a023b4561cbb",
   "metadata": {},
   "outputs": [],
   "source": []
  },
  {
   "cell_type": "code",
   "execution_count": null,
   "id": "af3e99c7-aea8-45e4-9ab2-1d8b0660965f",
   "metadata": {},
   "outputs": [],
   "source": []
  },
  {
   "cell_type": "code",
   "execution_count": null,
   "id": "d9646359-069b-4d10-8143-ea5e46f4a879",
   "metadata": {},
   "outputs": [],
   "source": []
  },
  {
   "cell_type": "code",
   "execution_count": null,
   "id": "c42b8cbd-6f32-4a9f-b359-c4d8e7eba750",
   "metadata": {},
   "outputs": [],
   "source": []
  },
  {
   "cell_type": "code",
   "execution_count": null,
   "id": "ceaf1fc5-9858-4c9d-bc4b-46b35e1eacfd",
   "metadata": {},
   "outputs": [],
   "source": []
  },
  {
   "cell_type": "code",
   "execution_count": null,
   "id": "91f3637b-3066-483e-ad05-6806ab353ab2",
   "metadata": {},
   "outputs": [],
   "source": []
  },
  {
   "cell_type": "code",
   "execution_count": null,
   "id": "4a40216c-a9fe-4e84-a105-9ea843d08d7b",
   "metadata": {},
   "outputs": [],
   "source": []
  },
  {
   "cell_type": "code",
   "execution_count": null,
   "id": "cbcff416-0a80-43ea-b189-3252439b0aad",
   "metadata": {},
   "outputs": [],
   "source": []
  },
  {
   "cell_type": "code",
   "execution_count": null,
   "id": "0d12b2ce-fd42-4c9e-a36b-386210f0d649",
   "metadata": {},
   "outputs": [],
   "source": []
  },
  {
   "cell_type": "code",
   "execution_count": null,
   "id": "9e39c103-3214-4213-8c10-0dcf95a28dff",
   "metadata": {},
   "outputs": [],
   "source": []
  },
  {
   "cell_type": "code",
   "execution_count": null,
   "id": "b85f5127-a88d-4809-ba00-e30854bf9868",
   "metadata": {},
   "outputs": [],
   "source": []
  },
  {
   "cell_type": "code",
   "execution_count": null,
   "id": "9701ba94-99e0-4c8a-a033-235c4433901b",
   "metadata": {},
   "outputs": [],
   "source": []
  },
  {
   "cell_type": "code",
   "execution_count": null,
   "id": "e44bfeb0-b489-41c4-8b11-837a7395e5f7",
   "metadata": {},
   "outputs": [],
   "source": []
  },
  {
   "cell_type": "code",
   "execution_count": null,
   "id": "281ff67e-653e-41f6-89e7-7ad9eb597ca0",
   "metadata": {},
   "outputs": [],
   "source": []
  },
  {
   "cell_type": "code",
   "execution_count": null,
   "id": "faec515d-2002-4c8b-9906-2641c28dc1c3",
   "metadata": {},
   "outputs": [],
   "source": []
  },
  {
   "cell_type": "code",
   "execution_count": null,
   "id": "5f12f43f-9760-45e5-86fe-861fd6231fe0",
   "metadata": {},
   "outputs": [],
   "source": []
  },
  {
   "cell_type": "code",
   "execution_count": null,
   "id": "b69ffa6a-2e72-4be0-936c-e12220390818",
   "metadata": {},
   "outputs": [],
   "source": []
  },
  {
   "cell_type": "code",
   "execution_count": null,
   "id": "c52cb3a5-8551-4672-ace1-8ddfbf84960e",
   "metadata": {},
   "outputs": [],
   "source": []
  },
  {
   "cell_type": "code",
   "execution_count": null,
   "id": "78f4431c-8834-404f-b327-caabee94faa8",
   "metadata": {},
   "outputs": [],
   "source": []
  },
  {
   "cell_type": "code",
   "execution_count": null,
   "id": "1f834cb5-9d27-4477-8f65-b31e91d2226a",
   "metadata": {},
   "outputs": [],
   "source": []
  },
  {
   "cell_type": "code",
   "execution_count": null,
   "id": "225deac4-0ead-459e-a201-c7c3c00ef260",
   "metadata": {},
   "outputs": [],
   "source": []
  },
  {
   "cell_type": "code",
   "execution_count": null,
   "id": "1eda4dd0-7bd5-422d-89d8-3fafd7258f39",
   "metadata": {},
   "outputs": [],
   "source": []
  },
  {
   "cell_type": "code",
   "execution_count": null,
   "id": "5d44e110-e909-4e86-978e-15ad5d2bad0d",
   "metadata": {},
   "outputs": [],
   "source": []
  },
  {
   "cell_type": "code",
   "execution_count": null,
   "id": "07d62c4d-8327-4906-b56f-1bd1829ed4e2",
   "metadata": {},
   "outputs": [],
   "source": []
  },
  {
   "cell_type": "code",
   "execution_count": null,
   "id": "1314fd0c-335f-4c2b-b21b-b7647da9ebe8",
   "metadata": {},
   "outputs": [],
   "source": []
  },
  {
   "cell_type": "code",
   "execution_count": null,
   "id": "70b9cbc8-d978-4a91-a056-616febd8c142",
   "metadata": {},
   "outputs": [],
   "source": []
  },
  {
   "cell_type": "code",
   "execution_count": null,
   "id": "339dba80-f6e4-462f-a87f-4d76adeeac1a",
   "metadata": {},
   "outputs": [],
   "source": []
  },
  {
   "cell_type": "code",
   "execution_count": null,
   "id": "67c3f015-55cb-4855-a2d6-65fbddfad355",
   "metadata": {},
   "outputs": [],
   "source": []
  },
  {
   "cell_type": "code",
   "execution_count": null,
   "id": "758622dc-8a62-4b97-b030-d9058b9c996b",
   "metadata": {},
   "outputs": [],
   "source": []
  },
  {
   "cell_type": "code",
   "execution_count": null,
   "id": "9cf9b740-22ab-4587-975d-e7515a1ba850",
   "metadata": {},
   "outputs": [],
   "source": []
  },
  {
   "cell_type": "code",
   "execution_count": null,
   "id": "03535869-2b07-4709-9ce2-632d4755e64d",
   "metadata": {},
   "outputs": [],
   "source": []
  },
  {
   "cell_type": "code",
   "execution_count": null,
   "id": "a7b9aff3-a10e-43d8-a34b-79f93e091912",
   "metadata": {},
   "outputs": [],
   "source": []
  },
  {
   "cell_type": "code",
   "execution_count": null,
   "id": "1ac3a221-fdf6-4aef-bc61-f3ea83f278dc",
   "metadata": {},
   "outputs": [],
   "source": []
  },
  {
   "cell_type": "code",
   "execution_count": null,
   "id": "0475b721-c340-4b68-a6d2-425d6e2e19df",
   "metadata": {},
   "outputs": [],
   "source": []
  },
  {
   "cell_type": "code",
   "execution_count": null,
   "id": "7509022e-159b-496d-936f-10d1ad20de6d",
   "metadata": {},
   "outputs": [],
   "source": []
  },
  {
   "cell_type": "code",
   "execution_count": null,
   "id": "c05aa842-4163-483a-912e-bc6a202d0796",
   "metadata": {},
   "outputs": [],
   "source": []
  },
  {
   "cell_type": "code",
   "execution_count": null,
   "id": "28725676-ea1b-4f11-bf02-33a38c6797c3",
   "metadata": {},
   "outputs": [],
   "source": []
  },
  {
   "cell_type": "code",
   "execution_count": null,
   "id": "67bceb81-4ac6-4153-a62a-cf14fb653219",
   "metadata": {},
   "outputs": [],
   "source": []
  },
  {
   "cell_type": "code",
   "execution_count": null,
   "id": "6aa99015-fd5b-4f9d-8bda-b970fc2ce58f",
   "metadata": {},
   "outputs": [],
   "source": []
  },
  {
   "cell_type": "code",
   "execution_count": null,
   "id": "fae2e5ab-2aa7-4712-9907-4a6f80eca0d2",
   "metadata": {},
   "outputs": [],
   "source": []
  },
  {
   "cell_type": "code",
   "execution_count": null,
   "id": "d9278226-a6a0-40e8-8441-a08dfc2f5004",
   "metadata": {},
   "outputs": [],
   "source": []
  },
  {
   "cell_type": "code",
   "execution_count": null,
   "id": "882e9def-3fc1-4a35-93df-9a67f7aa3094",
   "metadata": {},
   "outputs": [],
   "source": []
  },
  {
   "cell_type": "code",
   "execution_count": null,
   "id": "430eb635-a1a6-457b-88d4-025f2efaefb1",
   "metadata": {},
   "outputs": [],
   "source": []
  },
  {
   "cell_type": "code",
   "execution_count": null,
   "id": "fb8fa029-60f6-491e-9360-8cf50029766f",
   "metadata": {},
   "outputs": [],
   "source": []
  },
  {
   "cell_type": "code",
   "execution_count": null,
   "id": "cd3febaa-c789-4682-9c23-8b79980072fe",
   "metadata": {},
   "outputs": [],
   "source": []
  },
  {
   "cell_type": "code",
   "execution_count": null,
   "id": "5e3cb3fc-1071-4ef7-a14f-22b0eee2e6ad",
   "metadata": {},
   "outputs": [],
   "source": []
  },
  {
   "cell_type": "code",
   "execution_count": null,
   "id": "8f7c03ef-610d-4ea1-b145-4b723bfe6fed",
   "metadata": {},
   "outputs": [],
   "source": []
  },
  {
   "cell_type": "code",
   "execution_count": null,
   "id": "28f58b3d-182e-4d16-a478-cc8d2452585f",
   "metadata": {},
   "outputs": [],
   "source": []
  },
  {
   "cell_type": "code",
   "execution_count": null,
   "id": "6a3d69bf-24a9-4240-ad42-4033941ba769",
   "metadata": {},
   "outputs": [],
   "source": []
  },
  {
   "cell_type": "code",
   "execution_count": null,
   "id": "604aba43-a3c0-4d07-ab78-05e510942127",
   "metadata": {},
   "outputs": [],
   "source": []
  },
  {
   "cell_type": "code",
   "execution_count": null,
   "id": "9d646555-650d-4660-8d64-bde75a589839",
   "metadata": {},
   "outputs": [],
   "source": []
  },
  {
   "cell_type": "code",
   "execution_count": null,
   "id": "c0cf2bc7-553d-4d70-adee-fe673dc9c633",
   "metadata": {},
   "outputs": [],
   "source": []
  },
  {
   "cell_type": "code",
   "execution_count": null,
   "id": "88335090-8a79-485c-8767-9c675914b46b",
   "metadata": {},
   "outputs": [],
   "source": []
  },
  {
   "cell_type": "code",
   "execution_count": null,
   "id": "3d8b85b6-9a14-486a-85d4-fb9cdc8a55d1",
   "metadata": {},
   "outputs": [],
   "source": []
  },
  {
   "cell_type": "code",
   "execution_count": null,
   "id": "ddbe32ad-f1a4-4e6c-b432-d5858c85b5b3",
   "metadata": {},
   "outputs": [],
   "source": []
  },
  {
   "cell_type": "code",
   "execution_count": null,
   "id": "cfd01441-9425-4ced-8de1-5f0841054de0",
   "metadata": {},
   "outputs": [],
   "source": []
  },
  {
   "cell_type": "code",
   "execution_count": null,
   "id": "99b5c6ac-e993-4c5c-a7aa-68c4d55fd039",
   "metadata": {},
   "outputs": [],
   "source": []
  },
  {
   "cell_type": "code",
   "execution_count": null,
   "id": "da230fa2-de2c-467b-b6cc-3e0d330448fb",
   "metadata": {},
   "outputs": [],
   "source": []
  },
  {
   "cell_type": "code",
   "execution_count": null,
   "id": "cd10b078-179e-4b42-86d6-fec3fcbd18bb",
   "metadata": {},
   "outputs": [],
   "source": []
  },
  {
   "cell_type": "code",
   "execution_count": null,
   "id": "29a36bf8-10b9-4725-98c8-1948fbf530d0",
   "metadata": {},
   "outputs": [],
   "source": []
  },
  {
   "cell_type": "code",
   "execution_count": null,
   "id": "b33378bd-76aa-4296-bd3b-edbc5ad58935",
   "metadata": {},
   "outputs": [],
   "source": []
  },
  {
   "cell_type": "code",
   "execution_count": null,
   "id": "1e5c2eb1-f39c-44a2-aca8-810b460d3c22",
   "metadata": {},
   "outputs": [],
   "source": []
  },
  {
   "cell_type": "code",
   "execution_count": null,
   "id": "c46c7d5f-a17f-4e49-bcbe-4e6cc12bc2c8",
   "metadata": {},
   "outputs": [],
   "source": []
  },
  {
   "cell_type": "code",
   "execution_count": null,
   "id": "9277584d-9bc8-4324-a5e5-ccc7c967b1dc",
   "metadata": {},
   "outputs": [],
   "source": []
  },
  {
   "cell_type": "code",
   "execution_count": null,
   "id": "e0f2a891-0145-4d0e-8843-7fc56966b927",
   "metadata": {},
   "outputs": [],
   "source": []
  },
  {
   "cell_type": "code",
   "execution_count": null,
   "id": "2de00622-623a-401d-906a-6fdc5961b8d5",
   "metadata": {},
   "outputs": [],
   "source": []
  },
  {
   "cell_type": "code",
   "execution_count": null,
   "id": "62e10459-636c-498e-b670-d0fd44473da1",
   "metadata": {},
   "outputs": [],
   "source": []
  },
  {
   "cell_type": "code",
   "execution_count": null,
   "id": "eedefae3-defb-4594-9ce8-11066e18f62e",
   "metadata": {},
   "outputs": [],
   "source": []
  },
  {
   "cell_type": "code",
   "execution_count": null,
   "id": "13fa4fe0-d718-40dd-b46e-70f8b930c336",
   "metadata": {},
   "outputs": [],
   "source": []
  },
  {
   "cell_type": "code",
   "execution_count": null,
   "id": "061c9829-146a-46e9-8eb1-a8d9c3d8e3b9",
   "metadata": {},
   "outputs": [],
   "source": []
  },
  {
   "cell_type": "code",
   "execution_count": null,
   "id": "d1ebef71-a8c1-4960-8971-27a6b8977110",
   "metadata": {},
   "outputs": [],
   "source": []
  },
  {
   "cell_type": "code",
   "execution_count": null,
   "id": "de571cca-24ba-4cfd-ad15-1846b972eb0a",
   "metadata": {},
   "outputs": [],
   "source": []
  },
  {
   "cell_type": "code",
   "execution_count": null,
   "id": "834f25d6-5762-4dc9-8acb-845cb1502b29",
   "metadata": {},
   "outputs": [],
   "source": []
  },
  {
   "cell_type": "code",
   "execution_count": null,
   "id": "0d91f1cd-3026-4807-890b-9924b6b92d3a",
   "metadata": {},
   "outputs": [],
   "source": []
  },
  {
   "cell_type": "code",
   "execution_count": null,
   "id": "2dbefd63-a725-47d4-8163-f22d34c51315",
   "metadata": {},
   "outputs": [],
   "source": []
  },
  {
   "cell_type": "code",
   "execution_count": null,
   "id": "e6b10de3-8b63-4be6-9404-78e8ae3b07e9",
   "metadata": {},
   "outputs": [],
   "source": []
  },
  {
   "cell_type": "code",
   "execution_count": null,
   "id": "167cab3c-f7f0-437f-95cb-406fe8810533",
   "metadata": {},
   "outputs": [],
   "source": []
  },
  {
   "cell_type": "code",
   "execution_count": null,
   "id": "e12bafbd-f574-4963-affc-a22a7ae89502",
   "metadata": {},
   "outputs": [],
   "source": []
  },
  {
   "cell_type": "code",
   "execution_count": null,
   "id": "53e04d31-8b42-4d88-b7c8-e228901de792",
   "metadata": {},
   "outputs": [],
   "source": []
  },
  {
   "cell_type": "code",
   "execution_count": null,
   "id": "ccce43a7-93b2-4818-9791-5e5302fff8d2",
   "metadata": {},
   "outputs": [],
   "source": []
  },
  {
   "cell_type": "code",
   "execution_count": null,
   "id": "c790f68b-a096-4867-b195-731d1602c960",
   "metadata": {},
   "outputs": [],
   "source": []
  },
  {
   "cell_type": "code",
   "execution_count": null,
   "id": "84d6410b-e497-4319-9ff7-6bf08d17abea",
   "metadata": {},
   "outputs": [],
   "source": []
  },
  {
   "cell_type": "code",
   "execution_count": null,
   "id": "5491ef86-35f9-4eb5-96d5-57861fc1543f",
   "metadata": {},
   "outputs": [],
   "source": [
    "\n"
   ]
  }
 ],
 "metadata": {
  "kernelspec": {
   "display_name": "Python 3 (ipykernel)",
   "language": "python",
   "name": "python3"
  },
  "language_info": {
   "codemirror_mode": {
    "name": "ipython",
    "version": 3
   },
   "file_extension": ".py",
   "mimetype": "text/x-python",
   "name": "python",
   "nbconvert_exporter": "python",
   "pygments_lexer": "ipython3",
   "version": "3.11.5"
  }
 },
 "nbformat": 4,
 "nbformat_minor": 5
}
