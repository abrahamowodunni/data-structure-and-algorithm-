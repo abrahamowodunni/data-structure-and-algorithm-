{
 "cells": [
  {
   "cell_type": "code",
   "execution_count": null,
   "id": "16657ae8-84e7-4fb7-844c-c603f7550dfd",
   "metadata": {},
   "outputs": [],
   "source": [
    "from collections import OrderedDict\n",
    "class LRU_Cache(object):\n",
    "\n",
    "    def __init__(self, capacity):\n",
    "        # Initialize class variables\n",
    "        self.capacity = capacity\n",
    "        self.cache = OrderedDict()\n",
    "        \n",
    "    def get(self, key):\n",
    "        # Retrieve item from provided key. Return -1 if nonexistent. \n",
    "        if key in self.cache:\n",
    "            value = self.cache.pop(key)\n",
    "            self.cache[key] = value\n",
    "            return vaue\n",
    "        return -1\n",
    "\n",
    "    def set(self, key, value):\n",
    "        # Set the value if the key is not present in the cache. If the cache is at capacity remove the oldest item. \n",
    "        if key in self.cache:\n",
    "            self.cache.pop(key)\n",
    "        elif len(self.cache) >= self.capacity:\n",
    "            self.cache.popitem(last = False)\n",
    "        self.cache[key] = value"
   ]
  },
  {
   "cell_type": "code",
   "execution_count": null,
   "id": "f47ef1ed-617e-487e-83c0-c88dd8a678a7",
   "metadata": {},
   "outputs": [],
   "source": [
    "our_cache = LRU_Cache(5)\n",
    "\n",
    "our_cache.set(1, 1);\n",
    "our_cache.set(2, 2);\n",
    "our_cache.set(3, 3);\n",
    "our_cache.set(4, 4);\n",
    "\n",
    "\n",
    "our_cache.get(1)       # returns 1\n",
    "our_cache.get(2)       # returns 2\n",
    "our_cache.get(9)      # returns -1 because 9 is not present in the cache\n",
    "\n",
    "our_cache.set(5, 5) \n",
    "our_cache.set(6, 6)\n",
    "\n",
    "our_cache.get(3)      # returns -1 because the cache reached it's capacity and 3 was the least recently used entry\n",
    "\n",
    "## Add your own test cases: include at least three test cases\n",
    "## and two of them must include edge cases, such as null, empty or very large values\n",
    "\n",
    "# Add your own test cases:\n",
    "\n",
    "# Test Case 1: Edge case with an empty cache\n",
    "empty_cache = LRU_Cache(0)\n",
    "print(empty_cache.get(1))  # returns -1 because the cache is empty\n",
    "\n",
    "# Test Case 2: Large capacity cache\n",
    "large_cache = LRU_Cache(1000)\n",
    "for i in range(1000):\n",
    "    large_cache.set(i, i)\n",
    "print(large_cache.get(999))  # returns 999\n",
    "\n",
    "# Test Case 3: Cache with null values\n",
    "null_cache = LRU_Cache(5)\n",
    "null_cache.set(1, None)\n",
    "null_cache.set(2, \"Hello\")\n",
    "print(null_cache.get(1))  # returns None\n",
    "print(null_cache.get(2))  # returns \"Hello\""
   ]
  },
  {
   "cell_type": "code",
   "execution_count": 1,
   "id": "d1bcedce-c763-4dc9-9e51-e7ce241f78d7",
   "metadata": {},
   "outputs": [],
   "source": [
    "from collections import OrderedDict\n",
    "dic = OrderedDict()"
   ]
  },
  {
   "cell_type": "code",
   "execution_count": null,
   "id": "8f48a9e1-7dbb-4979-8d5a-0858feee55f5",
   "metadata": {},
   "outputs": [],
   "source": []
  },
  {
   "cell_type": "code",
   "execution_count": 11,
   "id": "9736b152-92ab-4652-8094-c2332f0c4baf",
   "metadata": {},
   "outputs": [],
   "source": [
    "from collections import OrderedDict\n",
    "\n",
    "class LRU_Cache:\n",
    "    def __init__(self,capacity):\n",
    "        self.capacity = capacity\n",
    "        self.cache = OrderedDict()\n",
    "\n",
    "    def get(self,key):\n",
    "        if key in self.cache:\n",
    "            value = self.cache.pop(key)\n",
    "            self.cache[key] = value\n",
    "            return value\n",
    "        return -1\n",
    "\n",
    "    def set(self,key,value):\n",
    "        if key in self.cache:\n",
    "            self.cache.pop(key)\n",
    "            self.cache[key] = value\n",
    "        elif len(self.cache) >= self.capacity:\n",
    "            self.cache.popitem(last = False)\n",
    "            self.cache[key] = value\n",
    "        self.cache[key] = value\n",
    "\n",
    "    def __repr__(self):\n",
    "        # Return a string representation of the OrderedDict in the cache\n",
    "        return str(list(self.cache.items()))"
   ]
  },
  {
   "cell_type": "code",
   "execution_count": 12,
   "id": "a8c78cb5-30cd-4e4f-9822-6fde956e107a",
   "metadata": {},
   "outputs": [
    {
     "name": "stdout",
     "output_type": "stream",
     "text": [
      "1\n",
      "2\n",
      "-1\n",
      "-1\n"
     ]
    }
   ],
   "source": [
    "our_cache = LRU_Cache(5)\n",
    "\n",
    "our_cache.set(1, 1);\n",
    "our_cache.set(2, 2);\n",
    "our_cache.set(3, 3);\n",
    "our_cache.set(4, 4);\n",
    "\n",
    "\n",
    "print(our_cache.get(1))       # returns 1\n",
    "print(our_cache.get(2))       # returns 2\n",
    "print(our_cache.get(9))      # returns -1 because 9 is not present in the cache\n",
    "\n",
    "our_cache.set(5, 5) \n",
    "our_cache.set(6, 6)\n",
    "\n",
    "print(our_cache.get(3))"
   ]
  },
  {
   "cell_type": "code",
   "execution_count": 6,
   "id": "ad9dc469-7856-45ce-905f-27a819819969",
   "metadata": {},
   "outputs": [
    {
     "data": {
      "text/plain": [
       "1"
      ]
     },
     "execution_count": 6,
     "metadata": {},
     "output_type": "execute_result"
    }
   ],
   "source": [
    "our_cache.get(1)"
   ]
  },
  {
   "cell_type": "code",
   "execution_count": 8,
   "id": "4ee42a0e-2761-42a7-9394-d0ade8e1141c",
   "metadata": {},
   "outputs": [
    {
     "data": {
      "text/plain": [
       "-1"
      ]
     },
     "execution_count": 8,
     "metadata": {},
     "output_type": "execute_result"
    }
   ],
   "source": [
    "# test case 1\n",
    "empty_cache = LRU_Cache(0)\n",
    "empty_cache.get(9)"
   ]
  },
  {
   "cell_type": "code",
   "execution_count": 9,
   "id": "a42b663e-7857-4561-aa63-6c2f8ea0813f",
   "metadata": {},
   "outputs": [
    {
     "data": {
      "text/plain": [
       "999"
      ]
     },
     "execution_count": 9,
     "metadata": {},
     "output_type": "execute_result"
    }
   ],
   "source": [
    "#test case 2\n",
    "large_cache = LRU_Cache(1000)\n",
    "\n",
    "for i in range(1000):\n",
    "    large_cache.set(i,i)\n",
    "\n",
    "large_cache.get(999)"
   ]
  },
  {
   "cell_type": "code",
   "execution_count": 15,
   "id": "d4e5721c-585b-4ccf-adcb-43d3bd80e6c2",
   "metadata": {},
   "outputs": [
    {
     "name": "stdout",
     "output_type": "stream",
     "text": [
      "Before making updates\n",
      "[(1, None), (2, 'Abe')]\n",
      "After making cheanges\n",
      "[(2, 'Abe'), (1, 'apple')]\n"
     ]
    }
   ],
   "source": [
    "# casse 3\n",
    "updated_none_cache = LRU_Cache(5)\n",
    "\n",
    "updated_none_cache.set(1,None)\n",
    "updated_none_cache.set(2,\"Abe\")\n",
    "print('Before making updates')\n",
    "print(updated_none_cache)\n",
    "\n",
    "updated_none_cache.set(1,\"apple\")\n",
    "print('After making cheanges')\n",
    "print(updated_none_cache)"
   ]
  },
  {
   "cell_type": "code",
   "execution_count": 16,
   "id": "a785f145-c840-48f8-8182-c5047d833cf9",
   "metadata": {},
   "outputs": [
    {
     "name": "stdout",
     "output_type": "stream",
     "text": [
      "Before making updates\n",
      "[(1, None), (2, 'Abe'), (3, 'Boy'), (4, 'Seun')]\n",
      "After making updates\n",
      "[(2, 'Abe'), (3, 'Boy'), (4, 'Seun'), (5, 'Hernry'), (6, 'Mouse')]\n"
     ]
    }
   ],
   "source": [
    "updated_none_cache = LRU_Cache(5)\n",
    "\n",
    "updated_none_cache.set(1,None)\n",
    "updated_none_cache.set(2,\"Abe\")\n",
    "updated_none_cache.set(3,\"Boy\")\n",
    "updated_none_cache.set(4,\"Seun\")\n",
    "print('Before making updates')\n",
    "print(updated_none_cache)\n",
    "\n",
    "updated_none_cache.set(5,\"Hernry\")\n",
    "updated_none_cache.set(6,\"Mouse\")\n",
    "print('After making updates')\n",
    "print(updated_none_cache)"
   ]
  },
  {
   "cell_type": "code",
   "execution_count": 23,
   "id": "7c318a37-60a9-4109-9cee-883e681d9778",
   "metadata": {},
   "outputs": [],
   "source": [
    "import os\n",
    "def find_file(suffix,path):\n",
    "    result = []\n",
    "\n",
    "    def helper(current_path):\n",
    "        for item in os.listdir(current_path):\n",
    "            item_path = os.path.join(current_path, item)\n",
    "\n",
    "            if os.path.isfile(item_path) and item_path.endswith(suffix):\n",
    "                # If it's a file and has the specified suffix, add to the result\n",
    "                result.append(item_path)\n",
    "            elif os.path.isdir(item_path):\n",
    "                # If it's a directory, recursively explore it\n",
    "                helper(item_path)\n",
    "\n",
    "    # Check if both suffix and path are non-empty\n",
    "    if suffix and path:\n",
    "        helper(path)\n",
    "    else:\n",
    "        return None\n",
    "\n",
    "    return result"
   ]
  },
  {
   "cell_type": "code",
   "execution_count": 42,
   "id": "f94132b5-69b8-481b-bd6f-c94881f05e76",
   "metadata": {},
   "outputs": [
    {
     "ename": "FileNotFoundError",
     "evalue": "[WinError 3] The system cannot find the path specified: './testdir/subdir3/subsubdir1/b'",
     "output_type": "error",
     "traceback": [
      "\u001b[1;31m---------------------------------------------------------------------------\u001b[0m",
      "\u001b[1;31mFileNotFoundError\u001b[0m                         Traceback (most recent call last)",
      "Cell \u001b[1;32mIn[42], line 3\u001b[0m\n\u001b[0;32m      1\u001b[0m test_dir \u001b[38;5;241m=\u001b[39m \u001b[38;5;124m\"\u001b[39m\u001b[38;5;124m./testdir/subdir3/subsubdir1/b\u001b[39m\u001b[38;5;124m\"\u001b[39m\n\u001b[0;32m      2\u001b[0m suffix_to_find \u001b[38;5;241m=\u001b[39m \u001b[38;5;124m\"\u001b[39m\u001b[38;5;124m.c\u001b[39m\u001b[38;5;124m\"\u001b[39m\n\u001b[1;32m----> 3\u001b[0m result_files \u001b[38;5;241m=\u001b[39m find_file(suffix_to_find, test_dir)\n",
      "Cell \u001b[1;32mIn[23], line 18\u001b[0m, in \u001b[0;36mfind_file\u001b[1;34m(suffix, path)\u001b[0m\n\u001b[0;32m     16\u001b[0m \u001b[38;5;66;03m# Check if both suffix and path are non-empty\u001b[39;00m\n\u001b[0;32m     17\u001b[0m \u001b[38;5;28;01mif\u001b[39;00m suffix \u001b[38;5;129;01mand\u001b[39;00m path:\n\u001b[1;32m---> 18\u001b[0m     helper(path)\n\u001b[0;32m     19\u001b[0m \u001b[38;5;28;01melse\u001b[39;00m:\n\u001b[0;32m     20\u001b[0m     \u001b[38;5;28;01mreturn\u001b[39;00m \u001b[38;5;28;01mNone\u001b[39;00m\n",
      "Cell \u001b[1;32mIn[23], line 6\u001b[0m, in \u001b[0;36mfind_file.<locals>.helper\u001b[1;34m(current_path)\u001b[0m\n\u001b[0;32m      5\u001b[0m \u001b[38;5;28;01mdef\u001b[39;00m \u001b[38;5;21mhelper\u001b[39m(current_path):\n\u001b[1;32m----> 6\u001b[0m     \u001b[38;5;28;01mfor\u001b[39;00m item \u001b[38;5;129;01min\u001b[39;00m os\u001b[38;5;241m.\u001b[39mlistdir(current_path):\n\u001b[0;32m      7\u001b[0m         item_path \u001b[38;5;241m=\u001b[39m os\u001b[38;5;241m.\u001b[39mpath\u001b[38;5;241m.\u001b[39mjoin(current_path, item)\n\u001b[0;32m      9\u001b[0m         \u001b[38;5;28;01mif\u001b[39;00m os\u001b[38;5;241m.\u001b[39mpath\u001b[38;5;241m.\u001b[39misfile(item_path) \u001b[38;5;129;01mand\u001b[39;00m item_path\u001b[38;5;241m.\u001b[39mendswith(suffix):\n\u001b[0;32m     10\u001b[0m             \u001b[38;5;66;03m# If it's a file and has the specified suffix, add to the result\u001b[39;00m\n",
      "\u001b[1;31mFileNotFoundError\u001b[0m: [WinError 3] The system cannot find the path specified: './testdir/subdir3/subsubdir1/b'"
     ]
    }
   ],
   "source": [
    "test_dir = \"./testdir/subdir3/subsubdir1\"\n",
    "suffix_to_find = \".c\"\n",
    "result_files = find_file(suffix_to_find, test_dir)\n"
   ]
  },
  {
   "cell_type": "code",
   "execution_count": 35,
   "id": "9ae89ae4-649f-4034-8412-2fa8de0ccef1",
   "metadata": {},
   "outputs": [
    {
     "name": "stdout",
     "output_type": "stream",
     "text": [
      "Files with suffix '.c' in directory './testdir/subdir3':\n",
      "./testdir/subdir3\\subsubdir1\\b.c\n"
     ]
    }
   ],
   "source": [
    "print(\"Files with suffix '{}' in directory '{}':\".format(suffix_to_find, test_dir))\n",
    "for file_path in result_files:\n",
    "    print(file_path)"
   ]
  },
  {
   "cell_type": "code",
   "execution_count": 31,
   "id": "6e9fe497-1748-4664-81d9-102c425384d4",
   "metadata": {},
   "outputs": [
    {
     "data": {
      "text/plain": [
       "['./testdir\\\\subdir1\\\\a.c',\n",
       " './testdir\\\\subdir3\\\\subsubdir1\\\\b.c',\n",
       " './testdir\\\\subdir5\\\\a.c',\n",
       " './testdir\\\\t1.c']"
      ]
     },
     "execution_count": 31,
     "metadata": {},
     "output_type": "execute_result"
    }
   ],
   "source": [
    "result_files"
   ]
  },
  {
   "cell_type": "code",
   "execution_count": 43,
   "id": "351b1ce3-84aa-479b-a9c5-48cafa13ea82",
   "metadata": {},
   "outputs": [
    {
     "name": "stdout",
     "output_type": "stream",
     "text": [
      "The size of the data is: 69\n",
      "\n",
      "The content of the data is: The bird is the word\n",
      "\n",
      "The size of the encoded data is: 36\n",
      "\n",
      "The content of the encoded data is: 0110111011111100111000001010110000100011010011110111111010101011001010\n",
      "\n",
      "The size of the decoded data is: 69\n",
      "\n",
      "The content of the decoded data is: The bird is the word\n",
      "\n",
      "Test Case 1 - Original: '', Encoded: '', Decoded: ''\n",
      "Test Case 2 - Original: 'AAAAA', Encoded: '', Decoded: ''\n",
      "Test Case 3 - Original: 'ABCDE', Encoded: '110111000110', Decoded: 'ABCDE'\n"
     ]
    }
   ],
   "source": [
    "import sys\n",
    "\n",
    "class HuffmanNode:\n",
    "    def __init__(self, char=None, frequency=0, left=None, right=None):\n",
    "        self.char = char\n",
    "        self.frequency = frequency\n",
    "        self.left = left\n",
    "        self.right = right\n",
    "\n",
    "def build_huffman_tree(data):\n",
    "    # Count the frequency of each character in the data\n",
    "    frequency_map = {}\n",
    "    for char in data:\n",
    "        frequency_map[char] = frequency_map.get(char, 0) + 1\n",
    "\n",
    "    # Build and sort a list of nodes for the priority queue\n",
    "    nodes = [HuffmanNode(char=c, frequency=f) for c, f in frequency_map.items()]\n",
    "    nodes.sort(key=lambda x: x.frequency)\n",
    "\n",
    "    # Build the Huffman tree using a priority queue (min-heap)\n",
    "    while len(nodes) > 1:\n",
    "        left = nodes.pop(0)\n",
    "        right = nodes.pop(0)\n",
    "        new_node = HuffmanNode(frequency=left.frequency + right.frequency, left=left, right=right)\n",
    "        nodes.append(new_node)\n",
    "        nodes.sort(key=lambda x: x.frequency)\n",
    "\n",
    "    return nodes[0] if nodes else None\n",
    "\n",
    "def generate_huffman_codes(node, current_code=\"\", codes={}):\n",
    "    if node:\n",
    "        if node.char:\n",
    "            codes[node.char] = current_code\n",
    "        generate_huffman_codes(node.left, current_code + \"0\", codes)\n",
    "        generate_huffman_codes(node.right, current_code + \"1\", codes)\n",
    "\n",
    "def huffman_encoding(data):\n",
    "    if not data:\n",
    "        return \"\", None\n",
    "\n",
    "    # Build Huffman tree\n",
    "    root = build_huffman_tree(data)\n",
    "\n",
    "    # Generate Huffman codes\n",
    "    codes = {}\n",
    "    generate_huffman_codes(root, codes=codes)\n",
    "\n",
    "    # Encode the data\n",
    "    encoded_data = \"\".join(codes[char] for char in data)\n",
    "\n",
    "    return encoded_data, root\n",
    "\n",
    "def huffman_decoding(data, tree):\n",
    "    if not data or not tree:\n",
    "        return \"\"\n",
    "\n",
    "    decoded_data = \"\"\n",
    "    current_node = tree\n",
    "\n",
    "    for bit in data:\n",
    "        if bit == \"0\":\n",
    "            current_node = current_node.left\n",
    "        else:\n",
    "            current_node = current_node.right\n",
    "\n",
    "        if current_node.char:\n",
    "            decoded_data += current_node.char\n",
    "            current_node = tree  # Reset to the root for the next character\n",
    "\n",
    "    return decoded_data\n",
    "\n",
    "if __name__ == \"__main__\":\n",
    "    # Test case\n",
    "    codes = {}\n",
    "\n",
    "    a_great_sentence = \"The bird is the word\"\n",
    "\n",
    "    print(\"The size of the data is: {}\\n\".format(sys.getsizeof(a_great_sentence)))\n",
    "    print(\"The content of the data is: {}\\n\".format(a_great_sentence))\n",
    "\n",
    "    encoded_data, tree = huffman_encoding(a_great_sentence)\n",
    "\n",
    "    print(\"The size of the encoded data is: {}\\n\".format(sys.getsizeof(int(encoded_data, base=2))))\n",
    "    print(\"The content of the encoded data is: {}\\n\".format(encoded_data))\n",
    "\n",
    "    decoded_data = huffman_decoding(encoded_data, tree)\n",
    "\n",
    "    print(\"The size of the decoded data is: {}\\n\".format(sys.getsizeof(decoded_data)))\n",
    "    print(\"The content of the decoded data is: {}\\n\".format(decoded_data))\n",
    "\n",
    "## Add your own test cases:\n",
    "\n",
    "## Test Case 1\n",
    "test_case_1 = \"\"\n",
    "encoded_data_1, tree_1 = huffman_encoding(test_case_1)\n",
    "decoded_data_1 = huffman_decoding(encoded_data_1, tree_1)\n",
    "print(\"Test Case 1 - Original: '{}', Encoded: '{}', Decoded: '{}'\".format(test_case_1, encoded_data_1, decoded_data_1))\n",
    "\n",
    "## Test Case 2\n",
    "test_case_2 = \"AAAAA\"\n",
    "encoded_data_2, tree_2 = huffman_encoding(test_case_2)\n",
    "decoded_data_2 = huffman_decoding(encoded_data_2, tree_2)\n",
    "print(\"Test Case 2 - Original: '{}', Encoded: '{}', Decoded: '{}'\".format(test_case_2, encoded_data_2, decoded_data_2))\n",
    "\n",
    "## Test Case 3\n",
    "test_case_3 = \"ABCDE\"\n",
    "encoded_data_3, tree_3 = huffman_encoding(test_case_3)\n",
    "decoded_data_3 = huffman_decoding(encoded_data_3, tree_3)\n",
    "print(\"Test Case 3 - Original: '{}', Encoded: '{}', Decoded: '{}'\".format(test_case_3, encoded_data_3, decoded_data_3))\n"
   ]
  },
  {
   "cell_type": "code",
   "execution_count": 44,
   "id": "dd4562f2-185c-4f8b-a7e3-df24f894db3e",
   "metadata": {},
   "outputs": [],
   "source": [
    "class Group(object):\n",
    "    def __init__(self, _name):\n",
    "        self.name = _name\n",
    "        self.groups = []\n",
    "        self.users = []\n",
    "\n",
    "    def add_group(self, group):\n",
    "        self.groups.append(group)\n",
    "\n",
    "    def add_user(self, user):\n",
    "        self.users.append(user)\n",
    "\n",
    "    def get_groups(self):\n",
    "        return self.groups\n",
    "\n",
    "    def get_users(self):\n",
    "        return self.users\n",
    "\n",
    "    def get_name(self):\n",
    "        return self.name\n",
    "\n",
    "\n",
    "parent = Group(\"parent\")\n",
    "child = Group(\"child\")\n",
    "sub_child = Group(\"subchild\")\n",
    "\n",
    "sub_child_user = \"sub_child_user\"\n",
    "sub_child.add_user(sub_child_user)\n",
    "\n",
    "child.add_group(sub_child)\n",
    "parent.add_group(child)"
   ]
  },
  {
   "cell_type": "code",
   "execution_count": 50,
   "id": "17c0dc54-1c31-42bb-bad4-dd4656f9b8e8",
   "metadata": {},
   "outputs": [
    {
     "data": {
      "text/plain": [
       "[]"
      ]
     },
     "execution_count": 50,
     "metadata": {},
     "output_type": "execute_result"
    }
   ],
   "source": [
    "parent.get_users()"
   ]
  },
  {
   "cell_type": "code",
   "execution_count": 51,
   "id": "f0a2e72f-9601-4121-95fc-8af3bb3b3b57",
   "metadata": {},
   "outputs": [
    {
     "name": "stdout",
     "output_type": "stream",
     "text": [
      "True\n",
      "False\n",
      "True\n"
     ]
    }
   ],
   "source": [
    "def is_user_in_group(user, group):\n",
    "    \"\"\"\n",
    "    Return True if user is in the group, False otherwise.\n",
    "\n",
    "    Args:\n",
    "      user(str): user name/id\n",
    "      group(class:Group): group to check user membership against\n",
    "    \"\"\"\n",
    "    # Base case: Check if the user is in the current group\n",
    "    if user in group.get_users():\n",
    "        return True\n",
    "    \n",
    "    # Recursive case: Check each subgroup in the current group\n",
    "    for subgroup in group.get_groups():\n",
    "        if is_user_in_group(user, subgroup):\n",
    "            return True\n",
    "\n",
    "    # User is not found in the current group or any subgroups\n",
    "    return False\n",
    "\n",
    "# Test Case 1: User in a subgroup\n",
    "parent = Group(\"parent\")\n",
    "child = Group(\"child\")\n",
    "sub_child = Group(\"subchild\")\n",
    "sub_child_user = \"sub_child_user\"\n",
    "sub_child.add_user(sub_child_user)\n",
    "child.add_group(sub_child)\n",
    "parent.add_group(child)\n",
    "print(is_user_in_group(\"sub_child_user\", parent))  # Expected output: True\n",
    "\n",
    "# Test Case 2: User not in any group\n",
    "empty_group = Group(\"empty_group\")\n",
    "print(is_user_in_group(\"nonexistent_user\", empty_group))  # Expected output: False\n",
    "\n",
    "# Test Case 3: Null user in a subgroup\n",
    "sub_child.add_user(None)\n",
    "print(is_user_in_group(None, parent))  # Expected output: True"
   ]
  },
  {
   "cell_type": "code",
   "execution_count": 59,
   "id": "c78bf4a8-4a63-4cf7-aa53-9b16e881dc91",
   "metadata": {},
   "outputs": [],
   "source": [
    "import hashlib\n",
    "from datetime import datetime\n",
    "\n",
    "class Block:\n",
    "\n",
    "    def __init__(self,timestamp,data, previous_hash):\n",
    "        self.timestamp = timestamp\n",
    "        self.data = data\n",
    "        self.previous_hash = previous_hash\n",
    "        self.hash = self.calc_hash()\n",
    "        self.next_block = None\n",
    "\n",
    "    def calc_hash(self):\n",
    "      sha = hashlib.sha256()\n",
    "      hash_str = \"We are going to encode this string of data!\".encode('utf-8')\n",
    "      sha.update(hash_str)\n",
    "      return sha.hexdigest()\n",
    "\n",
    "class BlockChain:\n",
    "    def __init__(self):\n",
    "        self.head = None\n",
    "\n",
    "    def add_block(self,data):\n",
    "        timestamp = datetime.utcnow()\n",
    "        if self.head is None:\n",
    "            self.head = Block(timestamp,data, None)\n",
    "        else:\n",
    "            new_block = Block(timestamp, data, self.head.hash)\n",
    "            new_block.next_block = self.head\n",
    "            self.head = new_block\n",
    "\n",
    "    def search(self, data):\n",
    "        current_block = self.head\n",
    "        while current_block:\n",
    "            if current_block.data == data:\n",
    "                return True\n",
    "            current_block = current_block.next_block\n",
    "        return False\n",
    "\n",
    "    def size(self):\n",
    "        count = 0\n",
    "        current_block = self.head\n",
    "        while current_block:\n",
    "            count += 1\n",
    "            current_block = current_block.next_block\n",
    "        return count\n",
    "\n",
    "    def to_list(self):\n",
    "        result = []\n",
    "        current_block = self.head\n",
    "        while current_block:\n",
    "            result.append({\n",
    "                \"timestamp\": current_block.timestamp,\n",
    "                \"data\": current_block.data,\n",
    "                \"hash\": current_block.hash\n",
    "            })\n",
    "            current_block = current_block.next_block\n",
    "        return result\n",
    "        "
   ]
  },
  {
   "cell_type": "code",
   "execution_count": 60,
   "id": "3aa0f627-f182-4c2e-8778-66715e144499",
   "metadata": {},
   "outputs": [
    {
     "name": "stdout",
     "output_type": "stream",
     "text": [
      "Search 'Transaction 1': True\n",
      "Search 'Transaction 3': False\n",
      "Blockchain Size: 2\n",
      "Blockchain as List: [{'timestamp': datetime.datetime(2024, 2, 12, 4, 44, 11, 716712), 'data': 'Transaction 2', 'hash': 'a20200a94c75010576e2d6a83e6fa69271901a9d805894b28bd91e6054fbfd10'}, {'timestamp': datetime.datetime(2024, 2, 12, 4, 44, 11, 716712), 'data': 'Transaction 1', 'hash': 'a20200a94c75010576e2d6a83e6fa69271901a9d805894b28bd91e6054fbfd10'}]\n"
     ]
    }
   ],
   "source": [
    "# Test Case 1: Normal case with two blocks\n",
    "blockchain = BlockChain()\n",
    "blockchain.add_block(\"Transaction 1\")\n",
    "blockchain.add_block(\"Transaction 2\")\n",
    "\n",
    "# Search for a data\n",
    "print(\"Search 'Transaction 1':\", blockchain.search(\"Transaction 1\"))\n",
    "print(\"Search 'Transaction 3':\", blockchain.search(\"Transaction 3\"))\n",
    "\n",
    "# Get the size of the blockchain\n",
    "print(\"Blockchain Size:\", blockchain.size())\n",
    "\n",
    "# Display blockchain as a list\n",
    "print(\"Blockchain as List:\", blockchain.to_list())"
   ]
  },
  {
   "cell_type": "code",
   "execution_count": 61,
   "id": "26bda259-b8ef-4cab-8ffc-f4b25a5a0aad",
   "metadata": {},
   "outputs": [
    {
     "name": "stdout",
     "output_type": "stream",
     "text": [
      "\n",
      "Test Case 2: Empty Blockchain\n",
      "Search 'Transaction A' in an empty blockchain: False\n",
      "Blockchain Size: 0\n",
      "Blockchain as List: []\n",
      "\n",
      "Test Case 3: Large Blockchain\n",
      "Search 'Transaction 3': True\n",
      "Search 'Transaction 6': False\n",
      "Blockchain Size: 5\n",
      "Blockchain as List: [{'timestamp': datetime.datetime(2024, 2, 12, 4, 44, 14, 494634), 'data': 'Transaction 5', 'hash': 'a20200a94c75010576e2d6a83e6fa69271901a9d805894b28bd91e6054fbfd10'}, {'timestamp': datetime.datetime(2024, 2, 12, 4, 44, 14, 494634), 'data': 'Transaction 4', 'hash': 'a20200a94c75010576e2d6a83e6fa69271901a9d805894b28bd91e6054fbfd10'}, {'timestamp': datetime.datetime(2024, 2, 12, 4, 44, 14, 494634), 'data': 'Transaction 3', 'hash': 'a20200a94c75010576e2d6a83e6fa69271901a9d805894b28bd91e6054fbfd10'}, {'timestamp': datetime.datetime(2024, 2, 12, 4, 44, 14, 494634), 'data': 'Transaction 2', 'hash': 'a20200a94c75010576e2d6a83e6fa69271901a9d805894b28bd91e6054fbfd10'}, {'timestamp': datetime.datetime(2024, 2, 12, 4, 44, 14, 494634), 'data': 'Transaction 1', 'hash': 'a20200a94c75010576e2d6a83e6fa69271901a9d805894b28bd91e6054fbfd10'}]\n"
     ]
    }
   ],
   "source": [
    "# Test Case 2: Edge case with an empty blockchain\n",
    "empty_blockchain = BlockChain()\n",
    "print(\"\\nTest Case 2: Empty Blockchain\")\n",
    "print(\"Search 'Transaction A' in an empty blockchain:\", empty_blockchain.search(\"Transaction A\"))\n",
    "print(\"Blockchain Size:\", empty_blockchain.size())\n",
    "print(\"Blockchain as List:\", empty_blockchain.to_list())\n",
    "\n",
    "# Test Case 3: Large blockchain with multiple blocks\n",
    "large_blockchain = BlockChain()\n",
    "for i in range(1, 6):\n",
    "    large_blockchain.add_block(f\"Transaction {i}\")\n",
    "print(\"\\nTest Case 3: Large Blockchain\")\n",
    "print(\"Search 'Transaction 3':\", large_blockchain.search(\"Transaction 3\"))\n",
    "print(\"Search 'Transaction 6':\", large_blockchain.search(\"Transaction 6\"))\n",
    "print(\"Blockchain Size:\", large_blockchain.size())\n",
    "print(\"Blockchain as List:\", large_blockchain.to_list())"
   ]
  },
  {
   "cell_type": "code",
   "execution_count": 62,
   "id": "42b0693d-c765-48e1-ab6c-fff49077dd4f",
   "metadata": {},
   "outputs": [],
   "source": [
    "class Node:\n",
    "    def __init__(self, value):\n",
    "        self.value = value\n",
    "        self.next = None\n",
    "\n",
    "    def __repr__(self):\n",
    "        return str(self.value)\n",
    "\n",
    "\n",
    "class LinkedList:\n",
    "    def __init__(self):\n",
    "        self.head = None\n",
    "\n",
    "    def __str__(self):\n",
    "        cur_head = self.head\n",
    "        out_string = \"\"\n",
    "        while cur_head:\n",
    "            out_string += str(cur_head.value) + \" -> \"\n",
    "            cur_head = cur_head.next\n",
    "        return out_string\n",
    "\n",
    "\n",
    "    def append(self, value):\n",
    "\n",
    "        if self.head is None:\n",
    "            self.head = Node(value)\n",
    "            return\n",
    "\n",
    "        node = self.head\n",
    "        while node.next:\n",
    "            node = node.next\n",
    "\n",
    "        node.next = Node(value)\n",
    "\n",
    "    def size(self):\n",
    "        size = 0\n",
    "        node = self.head\n",
    "        while node:\n",
    "            size += 1\n",
    "            node = node.next\n",
    "\n",
    "        return size\n",
    "\n",
    "def union(llist_1, llist_2):\n",
    "    unique_elements = set()\n",
    "    result_linked_list = LinkedList()\n",
    "\n",
    "    current_node = llist_1.head\n",
    "    while current_node:\n",
    "        unique_elements.add(current_node.value)\n",
    "        result_linked_list.append(current_node.value)\n",
    "        current_node = current_node.next\n",
    "\n",
    "    current_node = llist_2.head\n",
    "    while current_node:\n",
    "        if current_node.value not in unique_elements:\n",
    "            result_linked_list.append(current_node.value)\n",
    "        current_node = current_node.next\n",
    "\n",
    "    return result_linked_list\n",
    "\n",
    "def intersection(llist_1, llist_2):\n",
    "    set_1 = set()\n",
    "    set_2 = set()\n",
    "    result_linked_list = LinkedList()\n",
    "\n",
    "    current_node = llist_1.head\n",
    "    while current_node:\n",
    "        set_1.add(current_node.value)\n",
    "        current_node = current_node.next\n",
    "\n",
    "    current_node = llist_2.head\n",
    "    while current_node:\n",
    "        set_2.add(current_node.value)\n",
    "        current_node = current_node.next\n",
    "\n",
    "    common_elements = set_1.intersection(set_2)\n",
    "\n",
    "    for element in common_elements:\n",
    "        result_linked_list.append(element)\n",
    "\n",
    "    return result_linked_list"
   ]
  },
  {
   "cell_type": "code",
   "execution_count": 63,
   "id": "33e054d2-b096-4b45-aa23-49178fca67dc",
   "metadata": {},
   "outputs": [
    {
     "name": "stdout",
     "output_type": "stream",
     "text": [
      "Union: 3 -> 2 -> 4 -> 35 -> 6 -> 65 -> 6 -> 4 -> 3 -> 21 -> 32 -> 9 -> 1 -> 11 -> 1 -> \n",
      "Intersection: 4 -> 21 -> 6 -> \n",
      "Union: 3 -> 2 -> 4 -> 35 -> 6 -> 65 -> 6 -> 4 -> 3 -> 23 -> 1 -> 7 -> 8 -> 9 -> 11 -> 21 -> 1 -> \n",
      "Intersection: \n"
     ]
    }
   ],
   "source": [
    "# Test case 1\n",
    "linked_list_1 = LinkedList()\n",
    "linked_list_2 = LinkedList()\n",
    "element_1 = [3, 2, 4, 35, 6, 65, 6, 4, 3, 21]\n",
    "element_2 = [6, 32, 4, 9, 6, 1, 11, 21, 1]\n",
    "for i in element_1:\n",
    "    linked_list_1.append(i)\n",
    "for i in element_2:\n",
    "    linked_list_2.append(i)\n",
    "print(\"Union:\", union(linked_list_1, linked_list_2))\n",
    "print(\"Intersection:\", intersection(linked_list_1, linked_list_2))\n",
    "\n",
    "# Test case 2\n",
    "linked_list_3 = LinkedList()\n",
    "linked_list_4 = LinkedList()\n",
    "element_1 = [3, 2, 4, 35, 6, 65, 6, 4, 3, 23]\n",
    "element_2 = [1, 7, 8, 9, 11, 21, 1]\n",
    "for i in element_1:\n",
    "    linked_list_3.append(i)\n",
    "for i in element_2:\n",
    "    linked_list_4.append(i)\n",
    "print(\"Union:\", union(linked_list_3, linked_list_4))\n",
    "print(\"Intersection:\", intersection(linked_list_3, linked_list_4))"
   ]
  },
  {
   "cell_type": "code",
   "execution_count": null,
   "id": "b0462080-6242-4eca-9099-855c13669094",
   "metadata": {},
   "outputs": [],
   "source": []
  },
  {
   "cell_type": "code",
   "execution_count": null,
   "id": "04da99b0-1bbc-4100-b88b-c8d4ed8e33c9",
   "metadata": {},
   "outputs": [],
   "source": []
  },
  {
   "cell_type": "code",
   "execution_count": null,
   "id": "586de043-79bc-429a-9f5d-599658c2f795",
   "metadata": {},
   "outputs": [],
   "source": []
  },
  {
   "cell_type": "code",
   "execution_count": null,
   "id": "d932e152-2f03-4323-8e43-91a8d299f24d",
   "metadata": {},
   "outputs": [],
   "source": []
  },
  {
   "cell_type": "code",
   "execution_count": null,
   "id": "1f0cbaa9-e88f-4495-afb5-64ee0cef2d2d",
   "metadata": {},
   "outputs": [],
   "source": []
  },
  {
   "cell_type": "code",
   "execution_count": null,
   "id": "43caa99a-bbaf-4067-a627-42867e09b4e4",
   "metadata": {},
   "outputs": [],
   "source": []
  },
  {
   "cell_type": "code",
   "execution_count": null,
   "id": "dc34854f-81b5-4dde-900a-bb105d9a1320",
   "metadata": {},
   "outputs": [],
   "source": []
  },
  {
   "cell_type": "code",
   "execution_count": null,
   "id": "753c45ac-78fd-4e61-8135-0a8dc9e1f00e",
   "metadata": {},
   "outputs": [],
   "source": []
  },
  {
   "cell_type": "code",
   "execution_count": null,
   "id": "13f0f02e-423a-408b-8fc3-0436e4bb5f16",
   "metadata": {},
   "outputs": [],
   "source": []
  },
  {
   "cell_type": "code",
   "execution_count": null,
   "id": "42c28fd8-42b6-4d2e-bb15-630213f212b9",
   "metadata": {},
   "outputs": [],
   "source": []
  },
  {
   "cell_type": "code",
   "execution_count": null,
   "id": "b62ceea1-d304-4a93-b58b-25aa43c805eb",
   "metadata": {},
   "outputs": [],
   "source": []
  },
  {
   "cell_type": "code",
   "execution_count": null,
   "id": "c4ef053d-664f-4174-8ecb-875d6ab41b62",
   "metadata": {},
   "outputs": [],
   "source": []
  },
  {
   "cell_type": "code",
   "execution_count": null,
   "id": "877e9bcb-59ef-451d-a1ca-b6c10c2f1ec9",
   "metadata": {},
   "outputs": [],
   "source": []
  },
  {
   "cell_type": "code",
   "execution_count": null,
   "id": "d806183b-70e6-444e-a913-aa27b63d6e6b",
   "metadata": {},
   "outputs": [],
   "source": []
  },
  {
   "cell_type": "code",
   "execution_count": null,
   "id": "fc1e4ef2-c062-4064-8104-564e764e8314",
   "metadata": {},
   "outputs": [],
   "source": []
  },
  {
   "cell_type": "code",
   "execution_count": null,
   "id": "0b949161-f0d0-4f1f-b067-d9863e1f01fd",
   "metadata": {},
   "outputs": [],
   "source": []
  },
  {
   "cell_type": "code",
   "execution_count": null,
   "id": "683810b6-7a68-4502-a36c-8c7c10978a20",
   "metadata": {},
   "outputs": [],
   "source": []
  },
  {
   "cell_type": "code",
   "execution_count": null,
   "id": "c2577f82-b5a1-4b31-a96f-e10e9abd00bd",
   "metadata": {},
   "outputs": [],
   "source": []
  },
  {
   "cell_type": "code",
   "execution_count": null,
   "id": "db457019-f94d-48fb-a707-48f872da898a",
   "metadata": {},
   "outputs": [],
   "source": []
  },
  {
   "cell_type": "code",
   "execution_count": null,
   "id": "ec962491-db4e-4397-b70a-574119b5d431",
   "metadata": {},
   "outputs": [],
   "source": []
  },
  {
   "cell_type": "code",
   "execution_count": null,
   "id": "10bebb31-25a3-4ee7-8581-abdf93434389",
   "metadata": {},
   "outputs": [],
   "source": []
  },
  {
   "cell_type": "code",
   "execution_count": null,
   "id": "4221cd33-d9e7-46f0-b6a1-9fcffe0bf46b",
   "metadata": {},
   "outputs": [],
   "source": []
  },
  {
   "cell_type": "code",
   "execution_count": null,
   "id": "73b3f138-be73-4bf4-b24b-9016fa437c2b",
   "metadata": {},
   "outputs": [],
   "source": []
  },
  {
   "cell_type": "code",
   "execution_count": null,
   "id": "01cf9c92-e90c-42b7-9e9e-718a0972d419",
   "metadata": {},
   "outputs": [],
   "source": []
  },
  {
   "cell_type": "code",
   "execution_count": null,
   "id": "e6357e9f-2dbb-47fb-a18f-edfba9948dcc",
   "metadata": {},
   "outputs": [],
   "source": []
  },
  {
   "cell_type": "code",
   "execution_count": null,
   "id": "c95601bf-512f-4798-b2e0-4a6d123f9bdd",
   "metadata": {},
   "outputs": [],
   "source": []
  },
  {
   "cell_type": "code",
   "execution_count": null,
   "id": "2e44fea7-7462-481d-b590-8b1a9499dfeb",
   "metadata": {},
   "outputs": [],
   "source": []
  },
  {
   "cell_type": "code",
   "execution_count": null,
   "id": "fd256387-a444-4925-9387-d4b06c5bd602",
   "metadata": {},
   "outputs": [],
   "source": []
  },
  {
   "cell_type": "code",
   "execution_count": null,
   "id": "2b324bff-248a-4021-bf6c-55eb94dded7f",
   "metadata": {},
   "outputs": [],
   "source": []
  },
  {
   "cell_type": "code",
   "execution_count": null,
   "id": "8976381f-2b2f-4f76-97ea-9a4314d7db0f",
   "metadata": {},
   "outputs": [],
   "source": []
  },
  {
   "cell_type": "code",
   "execution_count": null,
   "id": "13795bd7-8a5f-46d3-87f5-3645427961bc",
   "metadata": {},
   "outputs": [],
   "source": []
  },
  {
   "cell_type": "code",
   "execution_count": null,
   "id": "f463bb63-aa53-438e-9021-620d054a8e1c",
   "metadata": {},
   "outputs": [],
   "source": []
  },
  {
   "cell_type": "code",
   "execution_count": null,
   "id": "f4b88a74-4c52-4983-ac09-81c6bb690e90",
   "metadata": {},
   "outputs": [],
   "source": []
  }
 ],
 "metadata": {
  "kernelspec": {
   "display_name": "Python 3 (ipykernel)",
   "language": "python",
   "name": "python3"
  },
  "language_info": {
   "codemirror_mode": {
    "name": "ipython",
    "version": 3
   },
   "file_extension": ".py",
   "mimetype": "text/x-python",
   "name": "python",
   "nbconvert_exporter": "python",
   "pygments_lexer": "ipython3",
   "version": "3.11.5"
  }
 },
 "nbformat": 4,
 "nbformat_minor": 5
}
