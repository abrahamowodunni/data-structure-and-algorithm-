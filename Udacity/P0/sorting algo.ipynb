{
 "cells": [
  {
   "cell_type": "markdown",
   "id": "78b0c067-6af1-48fd-8d70-ce2225064ec9",
   "metadata": {},
   "source": [
    "#### Bubble sort"
   ]
  },
  {
   "cell_type": "code",
   "execution_count": 1,
   "id": "973e3d42-0feb-436f-bfd5-e687c16f4a99",
   "metadata": {},
   "outputs": [],
   "source": [
    "arr = [4,2,5,77,3,44,99,1,0]"
   ]
  },
  {
   "cell_type": "code",
   "execution_count": 6,
   "id": "fdabbd1c-0f8e-4f7a-aac4-9f00c2316fe2",
   "metadata": {},
   "outputs": [],
   "source": [
    "def bubblesort(arr):\n",
    "    n = len(arr)\n",
    "    sorted = False ## So basically we are initailizing the arr to not sorted. \n",
    "    while not sorted:\n",
    "        sorted = True\n",
    "        for i in range(n-1):\n",
    "            if arr[i] > arr[i+1]:\n",
    "                arr[i], arr[i+1] = arr[i+1], arr[i]\n",
    "                sorted = False\n",
    "    return arr"
   ]
  },
  {
   "cell_type": "code",
   "execution_count": 7,
   "id": "bc093b02-413f-4eab-9d95-2b26f2016f9b",
   "metadata": {},
   "outputs": [
    {
     "data": {
      "text/plain": [
       "[0, 1, 2, 3, 4, 5, 44, 77, 99]"
      ]
     },
     "execution_count": 7,
     "metadata": {},
     "output_type": "execute_result"
    }
   ],
   "source": [
    "bubblesort(arr)"
   ]
  },
  {
   "cell_type": "markdown",
   "id": "82cbcaaf-9255-4ad5-8a4f-33b87d4102c5",
   "metadata": {},
   "source": [
    "#### Merge sort"
   ]
  },
  {
   "cell_type": "code",
   "execution_count": 19,
   "id": "9f910350-34ba-4b91-9680-ce7fb7fd318b",
   "metadata": {},
   "outputs": [],
   "source": [
    "def mergesort(arr):\n",
    "    if len(arr) <= 1:\n",
    "        return arr\n",
    "    \n",
    "    mid = len(arr)//2\n",
    "    left = arr[:mid]\n",
    "    right = arr[mid:]\n",
    "\n",
    "    left_sorted = mergesort(left)\n",
    "    right_sorted = mergesort(right)\n",
    "\n",
    "    return merge(left_sorted,right_sorted)\n",
    "\n",
    "def merge(left,right): \n",
    "    merged = []\n",
    "    left_index = right_index = 0\n",
    "    while left_index < len(left) and right_index < len(right):\n",
    "        if left[left_index] < right[right_index]:\n",
    "            merged.append(left[left_index])\n",
    "            left_index += 1\n",
    "        else:\n",
    "            merged.append(right[right_index])\n",
    "            right_index += 1\n",
    "    # when comparison is done\n",
    "    merged += left[left_index:]\n",
    "    merged += right[right_index:]\n",
    "\n",
    "    return merged"
   ]
  },
  {
   "cell_type": "code",
   "execution_count": 20,
   "id": "4da99e81-f01f-47a2-883f-8a6de7b84cc1",
   "metadata": {},
   "outputs": [
    {
     "data": {
      "text/plain": [
       "[0, 1, 2, 3, 4, 5, 44, 77, 99]"
      ]
     },
     "execution_count": 20,
     "metadata": {},
     "output_type": "execute_result"
    }
   ],
   "source": [
    "mergesort(arr)"
   ]
  },
  {
   "cell_type": "code",
   "execution_count": 25,
   "id": "831cbed5-eb49-44b6-9ebd-a47916b46e27",
   "metadata": {},
   "outputs": [],
   "source": [
    "def case_sort(string):\n",
    "    lower_index = upper_index = 0\n",
    "    sorted_string = sorted(string)\n",
    "\n",
    "    result = []\n",
    "    for index,char in enumerate(sorted_string):\n",
    "        if char.islower():\n",
    "            lower_index = index\n",
    "            break\n",
    "\n",
    "    for charaters in string:\n",
    "        if charaters.islower():\n",
    "            result.append(sorted_string[lower_index])\n",
    "            lower_index += 1\n",
    "        else:\n",
    "            result.append(sorted_string[upper_index])\n",
    "            upper_index += 1\n",
    "\n",
    "    return ''.join(result)\n",
    "\n",
    "stri = 'hreIBDlzKY'"
   ]
  },
  {
   "cell_type": "code",
   "execution_count": 26,
   "id": "82738008-e512-4328-a05c-7b5d1c948572",
   "metadata": {},
   "outputs": [
    {
     "data": {
      "text/plain": [
       "'ehlBDIrzKY'"
      ]
     },
     "execution_count": 26,
     "metadata": {},
     "output_type": "execute_result"
    }
   ],
   "source": [
    "case_sort(stri)"
   ]
  },
  {
   "cell_type": "code",
   "execution_count": 35,
   "id": "8f9debd6-432c-4382-8144-d42412e81ab2",
   "metadata": {},
   "outputs": [],
   "source": [
    "def mergesort(arr):\n",
    "    if len(arr) <= 1:\n",
    "        return arr,0\n",
    "\n",
    "    mid = len(arr)//2\n",
    "    left = arr[:mid]\n",
    "    right = arr[mid:]\n",
    "\n",
    "    left_sorted, left_inv = mergesort(left)\n",
    "    right_sorted, right_inv = mergesort(right)\n",
    "    merg, merg_inv = merge(left_sorted,right_sorted)\n",
    "    return merg, left_inv + right_inv + merg_inv\n",
    "\n",
    "def merge(left,right):\n",
    "    merged = []\n",
    "    left_index = right_index = count = 0\n",
    "    while left_index < len(left) and right_index < len(right):\n",
    "        if left[left_index] <= right[right_index]:\n",
    "            merged.append(left[left_index])\n",
    "            left_index += 1\n",
    "        else:\n",
    "            merged.append(right[right_index])\n",
    "            right_index += 1\n",
    "            count += len(left) - left_index\n",
    "    merged += left[left_index:]\n",
    "    merged += right[right_index:]\n",
    "    return merged, count\n",
    "\n",
    "def count_interval(arr):\n",
    "    _,count = mergesort(arr)\n",
    "    return count\n",
    "array = [54, 99, 49, 22, 37, 18, 22, 90, 86, 33]"
   ]
  },
  {
   "cell_type": "code",
   "execution_count": 36,
   "id": "77c024fb-e7dd-4d6b-85ae-5c7845c40201",
   "metadata": {},
   "outputs": [
    {
     "data": {
      "text/plain": [
       "26"
      ]
     },
     "execution_count": 36,
     "metadata": {},
     "output_type": "execute_result"
    }
   ],
   "source": [
    "count_interval(array)"
   ]
  },
  {
   "cell_type": "markdown",
   "id": "37bc93ae-a426-49d4-a7de-8c5cec4d87fc",
   "metadata": {},
   "source": [
    "#### Quick sort"
   ]
  },
  {
   "cell_type": "code",
   "execution_count": 6,
   "id": "28883245-049b-4482-8f32-9f89f079c01a",
   "metadata": {},
   "outputs": [],
   "source": [
    "def quicksort(arr,low,high):\n",
    "    if low < high:\n",
    "        pi = partition(arr,low,high)\n",
    "        quicksort(arr,low,pi - 1)\n",
    "        quicksort(arr,pi + 1,high)\n",
    "    return arr\n",
    "\n",
    "def partition(arr,left,right):\n",
    "    i = left\n",
    "    j = right - 1\n",
    "    pivot = arr[right]\n",
    "\n",
    "    while i < j: \n",
    "        while i < right and arr[i] < pivot:\n",
    "            i += 1\n",
    "        while j > left and arr[j] >= pivot:\n",
    "            j -= 1\n",
    "        if i < j:\n",
    "            arr[i],arr[j] = arr[j],arr[i]\n",
    "\n",
    "    if arr[i] > pivot:\n",
    "        arr[i], arr[right]= arr[right],arr[i]\n",
    "\n",
    "    return i\n",
    "\n",
    "array = [54, 99, 49, 22, 37, 18, 22, 90, 86, 33]"
   ]
  },
  {
   "cell_type": "code",
   "execution_count": 7,
   "id": "24758ffe-18e7-498c-8b75-45c217020ac8",
   "metadata": {},
   "outputs": [
    {
     "data": {
      "text/plain": [
       "[18, 22, 22, 33, 37, 49, 54, 86, 90, 99]"
      ]
     },
     "execution_count": 7,
     "metadata": {},
     "output_type": "execute_result"
    }
   ],
   "source": [
    "quicksort(array, 0,len(array)-1)"
   ]
  },
  {
   "cell_type": "code",
   "execution_count": 5,
   "id": "18912027-dbf4-4c32-9745-ba6076fb8b73",
   "metadata": {},
   "outputs": [],
   "source": [
    "def quicksort(arr,low,high):\n",
    "    if low < high:\n",
    "        pi = partition(arr,low,high)\n",
    "        quicksort(arr,low,pi-1)\n",
    "        quicksort(arr,pi+1,high)\n",
    "    return arr\n",
    "\n",
    "def partition(arr,left,right):\n",
    "    i = left\n",
    "    j = right - 1\n",
    "    pivot = arr[right]\n",
    "\n",
    "    while i < j:\n",
    "        while i < right and arr[i] < pivot:\n",
    "            i += 1\n",
    "        while j > left and arr[j] >= pivot:\n",
    "            j -= 1\n",
    "        if i < j:\n",
    "            arr[i], arr[j] = arr[j], arr[i]\n",
    "    if arr[i] > pivot:\n",
    "        arr[i],arr[right] = arr[right],arr[i]\n",
    "\n",
    "    return i \n",
    "\n",
    "arr = [55,88,2,3,44,8,0,555]"
   ]
  },
  {
   "cell_type": "code",
   "execution_count": 9,
   "id": "22ab11cf-7840-416e-90bd-3cdffbfc7259",
   "metadata": {},
   "outputs": [
    {
     "data": {
      "text/plain": [
       "[0, 2, 3, 8, 44, 55, 88, 555]"
      ]
     },
     "execution_count": 9,
     "metadata": {},
     "output_type": "execute_result"
    }
   ],
   "source": [
    "quicksort(arr,0,len(arr)-1)"
   ]
  },
  {
   "cell_type": "code",
   "execution_count": null,
   "id": "2060c93f-b2df-4782-a45f-b68300d4d126",
   "metadata": {},
   "outputs": [],
   "source": [
    "def fastSelect(arr,k):\n",
    "    subgrp = []\n",
    "    "
   ]
  },
  {
   "cell_type": "code",
   "execution_count": 13,
   "id": "104c7008-573d-4d6a-a51d-358a7951fe15",
   "metadata": {},
   "outputs": [
    {
     "name": "stdout",
     "output_type": "stream",
     "text": [
      "Example 1: 99\n",
      "Example 2: 12\n"
     ]
    }
   ],
   "source": [
    "def insertion_sort(arr):\n",
    "    for i in range(1, len(arr)):\n",
    "        key = arr[i]\n",
    "        j = i - 1\n",
    "        while j >= 0 and key < arr[j]:\n",
    "            arr[j + 1] = arr[j]\n",
    "            j -= 1\n",
    "        arr[j + 1] = key\n",
    "\n",
    "def fastSelect(Arr, k):\n",
    "    # Base case: If the array is small, use a simple sorting algorithm\n",
    "    if len(Arr) <= 5:\n",
    "        insertion_sort(Arr)\n",
    "        return Arr[k - 1]\n",
    "\n",
    "    # Step 1: Break Arr into n/5 groups and find medians for each group\n",
    "    groups = [sorted(Arr[i:i+5]) for i in range(0, len(Arr), 5)]\n",
    "    medians = [group[len(group)//2] for group in groups]\n",
    "\n",
    "    # Step 2: Find the median of medians (good pivot)\n",
    "    pivot = fastSelect(medians, len(medians)//2)\n",
    "\n",
    "    # Step 3: Partition Arr into three sub-arrays\n",
    "    Arr_Less_P = [x for x in Arr if x < pivot]\n",
    "    Arr_Equal_P = [x for x in Arr if x == pivot]\n",
    "    Arr_More_P = [x for x in Arr if x > pivot]\n",
    "\n",
    "    # Step 4: Recurse based on the sizes of the three sub-arrays\n",
    "    if k <= len(Arr_Less_P):\n",
    "        return fastSelect(Arr_Less_P, k)\n",
    "    elif k > len(Arr_Less_P) + len(Arr_Equal_P):\n",
    "        return fastSelect(Arr_More_P, k - len(Arr_Less_P) - len(Arr_Equal_P))\n",
    "    else:\n",
    "        return pivot\n",
    "\n",
    "# Example usage:\n",
    "Arr1 = [6, 80, 36, 8, 23, 7, 10, 12, 42, 99]\n",
    "k1 = 10\n",
    "output1 = fastSelect(Arr1, k1)\n",
    "print(\"Example 1:\", output1)  # Output: 99\n",
    "\n",
    "Arr2 = [6, 80, 36, 8, 23, 7, 10, 12, 42, 99]\n",
    "k2 = 5\n",
    "output2 = fastSelect(Arr2, k2)\n",
    "print(\"Example 2:\", output2)  # Output: 12\n"
   ]
  },
  {
   "cell_type": "code",
   "execution_count": null,
   "id": "ae074a01-41b3-48ec-8025-7dbe097ad6f2",
   "metadata": {},
   "outputs": [],
   "source": [
    "fastSelect([5,2,7,9,11,33,66,4,99],5)"
   ]
  },
  {
   "cell_type": "code",
   "execution_count": 1,
   "id": "7e8b6942-b518-436a-8608-798e3aea3b5c",
   "metadata": {},
   "outputs": [
    {
     "data": {
      "text/plain": [
       "[0, 1, 5, 6, 7, 9, 22, 66, 766]"
      ]
     },
     "execution_count": 1,
     "metadata": {},
     "output_type": "execute_result"
    }
   ],
   "source": [
    "def insert_sort(arr):\n",
    "    for i in range(1,len(arr)):\n",
    "        key = arr[i]\n",
    "        j = i - 1\n",
    "        while j >= 0  and key < arr[j]:\n",
    "            arr[j+1] = arr[j]\n",
    "            j -= 1\n",
    "        arr[j+1] = key \n",
    "    return arr\n",
    "\n",
    "insert_sort([5,6,7,1,9,0,766,66,22])"
   ]
  },
  {
   "cell_type": "code",
   "execution_count": 12,
   "id": "a5236540-67d4-46ba-8b92-7e0c829db9e1",
   "metadata": {},
   "outputs": [
    {
     "data": {
      "text/plain": [
       "12"
      ]
     },
     "execution_count": 12,
     "metadata": {},
     "output_type": "execute_result"
    }
   ],
   "source": [
    "def insert_sort(arr):\n",
    "    for i in range(1,len(arr)):\n",
    "        key = arr[i]\n",
    "        j = i - 1\n",
    "        while j >= 0 and key < arr[j]:\n",
    "            arr[j+1] = arr[j]\n",
    "            j -= 1\n",
    "        arr[j + 1] = key\n",
    "def fastselect(array,k):\n",
    "    if len(array) <= 5:\n",
    "        insert_sort(array)\n",
    "        return array[k-1]\n",
    "\n",
    "    groups = [array[i:i+5] for i in range(0,len(array),5)]\n",
    "    medians = [group[len(group)//2] for group in groups]\n",
    "\n",
    "    pivot = fastselect(medians,len(medians)//2)\n",
    "\n",
    "    less_piv = [x for x in array if x < pivot]\n",
    "    greater_piv = [x for x in array if x > pivot]\n",
    "    equal_piv = [x for x in array if x == pivot]\n",
    "\n",
    "    if k < len(less_piv):\n",
    "        return fastselect(less_piv,k)\n",
    "    elif k > len(less_piv) + len(equal_piv):\n",
    "        return fastselect(greater_piv,k - len(less_piv) - len(equal_piv))\n",
    "    else:\n",
    "        return pivot   \n",
    "\n",
    "fastselect([6, 80, 36, 8, 23, 7, 10, 12, 42],5)"
   ]
  },
  {
   "cell_type": "code",
   "execution_count": 2,
   "id": "85727d9a-01ef-4094-9fa6-cba64f21eb2c",
   "metadata": {},
   "outputs": [],
   "source": [
    "def maxsubarray(arr):\n",
    "    current_sum = max_sum = 0\n",
    "    for num in arr:\n",
    "        current_sum = max(num, current_sum + num)\n",
    "        max_sum = max(max_sum,current_sum)\n",
    "    return max_sum"
   ]
  },
  {
   "cell_type": "code",
   "execution_count": 3,
   "id": "ab941a6a-706a-4893-8d52-d2e522046db4",
   "metadata": {},
   "outputs": [
    {
     "data": {
      "text/plain": [
       "10"
      ]
     },
     "execution_count": 3,
     "metadata": {},
     "output_type": "execute_result"
    }
   ],
   "source": [
    "maxsubarray([-2, 1, -3, 5, 0, 3, 2, -5, 4])"
   ]
  },
  {
   "cell_type": "code",
   "execution_count": 1,
   "id": "83205c16-1a9a-46b4-b176-a8d098fe5633",
   "metadata": {},
   "outputs": [
    {
     "data": {
      "text/plain": [
       "8"
      ]
     },
     "execution_count": 1,
     "metadata": {},
     "output_type": "execute_result"
    }
   ],
   "source": [
    "def maxsubarray(arr):\n",
    "    max_sum = float('-inf')  # Initialize max_sum to negative infinity\n",
    "    for start in range(len(arr)):\n",
    "        current_sum = 0  # Initialize current_sum for each start index\n",
    "        for end in range(start, len(arr)):  # Include the last element in the range\n",
    "            current_sum = max(arr[end], current_sum + arr[end])  # Update current_sum\n",
    "            max_sum = max(max_sum, current_sum)\n",
    "    return max_sum\n",
    "\n",
    "\n",
    "maxsubarray([-2,-3,6,2])"
   ]
  },
  {
   "cell_type": "code",
   "execution_count": null,
   "id": "18db91e6-6abd-4671-9033-f52d1179d56b",
   "metadata": {},
   "outputs": [],
   "source": []
  },
  {
   "cell_type": "code",
   "execution_count": 15,
   "id": "fb43408e-85cc-4a99-bed8-8467df9663b2",
   "metadata": {},
   "outputs": [
    {
     "name": "stdout",
     "output_type": "stream",
     "text": [
      "Medians of Groups: [9, 6]\n",
      "Insertion Sort Step 1: [6, 9]\n",
      "Base Case Sorted Array: [6, 9]\n",
      "Selected Pivot: 6\n",
      "Arr_Less_P: [5, 2, 3]\n",
      "Arr_Equal_P: [6]\n",
      "Arr_More_P: [9, 7, 11, 12, 14, 10]\n",
      "Medians of Groups: [11, 10]\n",
      "Insertion Sort Step 1: [10, 11]\n",
      "Base Case Sorted Array: [10, 11]\n",
      "Selected Pivot: 10\n",
      "Arr_Less_P: [9, 7]\n",
      "Arr_Equal_P: [10]\n",
      "Arr_More_P: [11, 12, 14]\n",
      "Insertion Sort Step 1: [7, 9]\n",
      "Base Case Sorted Array: [7, 9]\n",
      "The 6-th smallest element is: 9\n"
     ]
    }
   ],
   "source": [
    "def insertion_sort(arr):\n",
    "    for i in range(1, len(arr)):\n",
    "        key = arr[i]\n",
    "        j = i - 1\n",
    "        while j >= 0 and key < arr[j]:\n",
    "            arr[j + 1] = arr[j]\n",
    "            j -= 1\n",
    "        arr[j + 1] = key\n",
    "\n",
    "        # Print statement for visualization\n",
    "        print(f\"Insertion Sort Step {i}: {arr}\")\n",
    "\n",
    "def fastSelect(Arr, k):\n",
    "    # Base case: If the array is small, use a simple sorting algorithm\n",
    "    if len(Arr) <= 5:\n",
    "        insertion_sort(Arr)\n",
    "        print(f\"Base Case Sorted Array: {Arr}\")\n",
    "        return Arr[k - 1]\n",
    "\n",
    "    # Step 1: Break Arr into n/5 groups and find medians for each group\n",
    "    groups = [sorted(Arr[i:i+5]) for i in range(0, len(Arr), 5)]\n",
    "    medians = [group[len(group)//2] for group in groups]\n",
    "    print(f\"Medians of Groups: {medians}\")\n",
    "\n",
    "    # Step 2: Find the median of medians (good pivot)\n",
    "    pivot = fastSelect(medians, len(medians)//2)\n",
    "    print(f\"Selected Pivot: {pivot}\")\n",
    "\n",
    "    # Step 3: Partition Arr into three sub-arrays\n",
    "    Arr_Less_P = [x for x in Arr if x < pivot]\n",
    "    Arr_Equal_P = [x for x in Arr if x == pivot]\n",
    "    Arr_More_P = [x for x in Arr if x > pivot]\n",
    "    print(f\"Arr_Less_P: {Arr_Less_P}\")\n",
    "    print(f\"Arr_Equal_P: {Arr_Equal_P}\")\n",
    "    print(f\"Arr_More_P: {Arr_More_P}\")\n",
    "\n",
    "    # Step 4: Recurse based on the sizes of the three sub-arrays\n",
    "    if k <= len(Arr_Less_P):\n",
    "        return fastSelect(Arr_Less_P, k)\n",
    "    elif k > len(Arr_Less_P) + len(Arr_Equal_P):\n",
    "        return fastSelect(Arr_More_P, k - len(Arr_Less_P) - len(Arr_Equal_P))\n",
    "    else:\n",
    "        return pivot\n",
    "\n",
    "# Example usage\n",
    "Arr = [9, 7, 5, 11, 12, 2, 14, 3, 10, 6]\n",
    "k = 6\n",
    "result = fastSelect(Arr, k)\n",
    "print(f\"The {k}-th smallest element is: {result}\")\n"
   ]
  },
  {
   "cell_type": "code",
   "execution_count": 1,
   "id": "d99e54ca-daa5-49c7-b725-b549a675fc45",
   "metadata": {},
   "outputs": [],
   "source": [
    "def crossarray(arr,start,mid,stop):\n",
    "    left_sum = right_sum = _cross_sum = 0\n",
    "    for i in range(mid,start-1,-1):\n",
    "        _cross_sum += arr[i]\n",
    "        left_sum = max(left_sum,_cross_sum)\n",
    "    _cross_sum = 0\n",
    "    \n",
    "    for i in range(mid+1,stop+1):\n",
    "        _cross_sum += arr[i]\n",
    "        right_sum = max(right_sum,_cross_sum)\n",
    "\n",
    "    return right_sum + left_sum\n",
    "\n",
    "def recrsive_sum(arr,start,stop):\n",
    "    if start == stop:\n",
    "        return arr[start]\n",
    "    mid = len(arr)//2\n",
    "    L = recrsive_sum(arr,start,mid)\n",
    "    R = recrsive_sum(arr,mid + 1,stop)\n",
    "    C = crossarray(arr,start,mid,stop)\n",
    "    return max(C,max(L,R))\n",
    "\n",
    "def maxSubArray(arr):\n",
    "    start = 0\n",
    "    stop = len(arr)-1\n",
    "    return recrsive_sum(arr,start,stop)"
   ]
  },
  {
   "cell_type": "code",
   "execution_count": 2,
   "id": "bf478f66-7585-4f1d-9baa-41645ef25fc6",
   "metadata": {},
   "outputs": [
    {
     "ename": "RecursionError",
     "evalue": "maximum recursion depth exceeded",
     "output_type": "error",
     "traceback": [
      "\u001b[1;31m---------------------------------------------------------------------------\u001b[0m",
      "\u001b[1;31mRecursionError\u001b[0m                            Traceback (most recent call last)",
      "Cell \u001b[1;32mIn[2], line 2\u001b[0m\n\u001b[0;32m      1\u001b[0m arr1 \u001b[38;5;241m=\u001b[39m [\u001b[38;5;241m-\u001b[39m\u001b[38;5;241m2\u001b[39m, \u001b[38;5;241m1\u001b[39m, \u001b[38;5;241m-\u001b[39m\u001b[38;5;241m3\u001b[39m, \u001b[38;5;241m5\u001b[39m, \u001b[38;5;241m0\u001b[39m, \u001b[38;5;241m3\u001b[39m, \u001b[38;5;241m2\u001b[39m, \u001b[38;5;241m-\u001b[39m\u001b[38;5;241m5\u001b[39m, \u001b[38;5;241m4\u001b[39m]\n\u001b[1;32m----> 2\u001b[0m maxSubArray(arr1)\n",
      "Cell \u001b[1;32mIn[1], line 26\u001b[0m, in \u001b[0;36mmaxSubArray\u001b[1;34m(arr)\u001b[0m\n\u001b[0;32m     24\u001b[0m start \u001b[38;5;241m=\u001b[39m \u001b[38;5;241m0\u001b[39m\n\u001b[0;32m     25\u001b[0m stop \u001b[38;5;241m=\u001b[39m \u001b[38;5;28mlen\u001b[39m(arr)\u001b[38;5;241m-\u001b[39m\u001b[38;5;241m1\u001b[39m\n\u001b[1;32m---> 26\u001b[0m \u001b[38;5;28;01mreturn\u001b[39;00m recrsive_sum(arr,start,stop)\n",
      "Cell \u001b[1;32mIn[1], line 18\u001b[0m, in \u001b[0;36mrecrsive_sum\u001b[1;34m(arr, start, stop)\u001b[0m\n\u001b[0;32m     16\u001b[0m     \u001b[38;5;28;01mreturn\u001b[39;00m arr[start]\n\u001b[0;32m     17\u001b[0m mid \u001b[38;5;241m=\u001b[39m \u001b[38;5;28mlen\u001b[39m(arr)\u001b[38;5;241m/\u001b[39m\u001b[38;5;241m/\u001b[39m\u001b[38;5;241m2\u001b[39m\n\u001b[1;32m---> 18\u001b[0m L \u001b[38;5;241m=\u001b[39m recrsive_sum(arr,start,mid)\n\u001b[0;32m     19\u001b[0m R \u001b[38;5;241m=\u001b[39m recrsive_sum(arr,mid \u001b[38;5;241m+\u001b[39m \u001b[38;5;241m1\u001b[39m,stop)\n\u001b[0;32m     20\u001b[0m C \u001b[38;5;241m=\u001b[39m crossarray(arr,start,mid,stop)\n",
      "Cell \u001b[1;32mIn[1], line 18\u001b[0m, in \u001b[0;36mrecrsive_sum\u001b[1;34m(arr, start, stop)\u001b[0m\n\u001b[0;32m     16\u001b[0m     \u001b[38;5;28;01mreturn\u001b[39;00m arr[start]\n\u001b[0;32m     17\u001b[0m mid \u001b[38;5;241m=\u001b[39m \u001b[38;5;28mlen\u001b[39m(arr)\u001b[38;5;241m/\u001b[39m\u001b[38;5;241m/\u001b[39m\u001b[38;5;241m2\u001b[39m\n\u001b[1;32m---> 18\u001b[0m L \u001b[38;5;241m=\u001b[39m recrsive_sum(arr,start,mid)\n\u001b[0;32m     19\u001b[0m R \u001b[38;5;241m=\u001b[39m recrsive_sum(arr,mid \u001b[38;5;241m+\u001b[39m \u001b[38;5;241m1\u001b[39m,stop)\n\u001b[0;32m     20\u001b[0m C \u001b[38;5;241m=\u001b[39m crossarray(arr,start,mid,stop)\n",
      "    \u001b[1;31m[... skipping similar frames: recrsive_sum at line 18 (2969 times)]\u001b[0m\n",
      "Cell \u001b[1;32mIn[1], line 18\u001b[0m, in \u001b[0;36mrecrsive_sum\u001b[1;34m(arr, start, stop)\u001b[0m\n\u001b[0;32m     16\u001b[0m     \u001b[38;5;28;01mreturn\u001b[39;00m arr[start]\n\u001b[0;32m     17\u001b[0m mid \u001b[38;5;241m=\u001b[39m \u001b[38;5;28mlen\u001b[39m(arr)\u001b[38;5;241m/\u001b[39m\u001b[38;5;241m/\u001b[39m\u001b[38;5;241m2\u001b[39m\n\u001b[1;32m---> 18\u001b[0m L \u001b[38;5;241m=\u001b[39m recrsive_sum(arr,start,mid)\n\u001b[0;32m     19\u001b[0m R \u001b[38;5;241m=\u001b[39m recrsive_sum(arr,mid \u001b[38;5;241m+\u001b[39m \u001b[38;5;241m1\u001b[39m,stop)\n\u001b[0;32m     20\u001b[0m C \u001b[38;5;241m=\u001b[39m crossarray(arr,start,mid,stop)\n",
      "\u001b[1;31mRecursionError\u001b[0m: maximum recursion depth exceeded"
     ]
    }
   ],
   "source": [
    "arr1 = [-2, 1, -3, 5, 0, 3, 2, -5, 4]\n",
    "maxSubArray(arr1)"
   ]
  },
  {
   "cell_type": "code",
   "execution_count": 6,
   "id": "ffaa4f91-f779-4b94-a84f-194f9d9c72d6",
   "metadata": {},
   "outputs": [
    {
     "name": "stdout",
     "output_type": "stream",
     "text": [
      "Example 1: Maximum Sum = 10\n",
      "Example 2: Maximum Sum = 7\n"
     ]
    }
   ],
   "source": [
    "def crossArraySum(arr, start, mid, stop):\n",
    "    # Initialize left_sum, right_sum, and _sum\n",
    "    left_sum = right_sum = _sum = 0\n",
    "    \n",
    "    # Traverse the left part and find the maximum sum\n",
    "    for i in range(mid, start - 1, -1):\n",
    "        _sum += arr[i]\n",
    "        left_sum = max(left_sum, _sum)\n",
    "        \n",
    "    # Reset _sum for the right part\n",
    "    _sum = 0\n",
    "    \n",
    "    # Traverse the right part and find the maximum sum\n",
    "    for i in range(mid + 1, stop + 1):\n",
    "        _sum += arr[i]\n",
    "        right_sum = max(right_sum, _sum)\n",
    "    \n",
    "    # Return the sum of left and right parts\n",
    "    return left_sum + right_sum\n",
    "\n",
    "def recursive_sum(arr, start, stop):\n",
    "    # Base case: If start and stop are the same, return the single element\n",
    "    if start == stop:\n",
    "        return arr[start]\n",
    "    \n",
    "    # Calculate the middle index\n",
    "    mid = (start + stop) // 2\n",
    "    \n",
    "    # Recursively find the maximum sum for the left and right parts\n",
    "    L = recursive_sum(arr, start, mid)\n",
    "    R = recursive_sum(arr, mid + 1, stop)\n",
    "    \n",
    "    # Calculate the maximum sum for the cross array\n",
    "    C = crossArraySum(arr, start, mid, stop)\n",
    "    \n",
    "    # Return the maximum of the left, right, and cross sums\n",
    "    return max(C, max(L, R))\n",
    "\n",
    "def maxSubArray(arr):\n",
    "    # Initialize start and stop indices\n",
    "    start = 0\n",
    "    stop = len(arr) - 1\n",
    "    \n",
    "    # Call the recursive_sum function to get the maximum sum\n",
    "    return recursive_sum(arr, start, stop)\n",
    "\n",
    "# Example usage:\n",
    "arr1 = [-2, 1, -3, 5, 0, 3, 2, -5, 4]\n",
    "print(\"Example 1: Maximum Sum =\", maxSubArray(arr1))\n",
    "\n",
    "arr2 = [-2, -5, 6, -2, -3, 1, 5, -6]\n",
    "print(\"Example 2: Maximum Sum =\", maxSubArray(arr2))\n"
   ]
  },
  {
   "cell_type": "code",
   "execution_count": null,
   "id": "4039aae3-8c21-4244-890d-471c80cba8fb",
   "metadata": {},
   "outputs": [],
   "source": []
  },
  {
   "cell_type": "code",
   "execution_count": 3,
   "id": "d88004c3-af43-428a-aa92-dc8dd1d12cbe",
   "metadata": {},
   "outputs": [],
   "source": [
    "from math import sqrt"
   ]
  },
  {
   "cell_type": "code",
   "execution_count": 8,
   "id": "71c08360-4de1-45a0-af43-0a65eb8c7267",
   "metadata": {},
   "outputs": [
    {
     "data": {
      "text/plain": [
       "2.236"
      ]
     },
     "execution_count": 8,
     "metadata": {},
     "output_type": "execute_result"
    }
   ],
   "source": [
    "round(sqrt(5),3)"
   ]
  },
  {
   "cell_type": "code",
   "execution_count": 7,
   "id": "8c9f2120-133e-48dd-8798-8adacd801ac3",
   "metadata": {},
   "outputs": [],
   "source": [
    "def sqrt(number):\n",
    "    \"\"\"\n",
    "    Calculate the floored square root of a number\n",
    "\n",
    "    Args:\n",
    "       number(int): Number to find the floored squared root\n",
    "    Returns:\n",
    "       int: Floored Square Root\n",
    "    \"\"\"\n",
    "    if number <= 1:\n",
    "        return number \n",
    "    start,end = 0,number \n",
    "    while start <= end:\n",
    "        mid = (start + end)//2\n",
    "        mid_multiple = mid * mid\n",
    "\n",
    "        if mid_multiple == number:\n",
    "            return mid\n",
    "        elif mid_multiple <= number:\n",
    "            start += 1\n",
    "            result = mid\n",
    "        else:\n",
    "            end = mid - 1\n",
    "    return result"
   ]
  },
  {
   "cell_type": "code",
   "execution_count": 13,
   "id": "63a4ad4b-bce5-44ee-8f0a-d9037686b0d1",
   "metadata": {},
   "outputs": [
    {
     "data": {
      "text/plain": [
       "1"
      ]
     },
     "execution_count": 13,
     "metadata": {},
     "output_type": "execute_result"
    }
   ],
   "source": [
    "sqrt(1)"
   ]
  },
  {
   "cell_type": "code",
   "execution_count": 4,
   "id": "166daca7-42e6-4048-943c-9c811b486a1a",
   "metadata": {},
   "outputs": [],
   "source": [
    "def sqrt(number):\n",
    "    \"\"\"\n",
    "    Calculate the floored square root of a number\n",
    "\n",
    "    Args:\n",
    "       number(int): Number to find the floored squared root\n",
    "    Returns:\n",
    "       int: Floored Square Root\n",
    "    \"\"\"\n",
    "    # Base case: If the number is 0 or 1, the square root is the number itself\n",
    "    if number == 0 or number == 1:\n",
    "        return number\n",
    "\n",
    "    # Initialize variables for binary search\n",
    "    start, end = 0, number\n",
    "\n",
    "    while start <= end:\n",
    "        mid = (start + end) // 2\n",
    "        mid_squared = mid * mid\n",
    "\n",
    "        # Check if mid is the square root\n",
    "        if mid_squared == number:\n",
    "            return mid\n",
    "\n",
    "        # If the square of mid is less than the number, search in the right half\n",
    "        elif mid_squared < number:\n",
    "            start = mid + 1\n",
    "            result = mid  # Keep track of the potential floor value\n",
    "\n",
    "        # If the square of mid is greater than the number, search in the left half\n",
    "        else:\n",
    "            end = mid - 1\n",
    "\n",
    "    return result"
   ]
  },
  {
   "cell_type": "code",
   "execution_count": 2,
   "id": "feeb3ae4-67a1-45db-ae74-456332542d4e",
   "metadata": {},
   "outputs": [
    {
     "name": "stdout",
     "output_type": "stream",
     "text": [
      "Pass\n",
      "Pass\n",
      "Pass\n",
      "Pass\n",
      "Pass\n"
     ]
    }
   ],
   "source": [
    "def rotated_array_search(input_list, number):\n",
    "    \"\"\"\n",
    "    Find the index by searching in a rotated sorted array\n",
    "\n",
    "    Args:\n",
    "       input_list(array), number(int): Input array to search and the target\n",
    "    Returns:\n",
    "       int: Index or -1\n",
    "    \"\"\"\n",
    "    if not input_list:\n",
    "        return -1\n",
    "\n",
    "    low, high = 0, len(input_list) - 1\n",
    "\n",
    "    while low <= high:\n",
    "        mid = (low + high) // 2\n",
    "\n",
    "        if input_list[mid] == number:\n",
    "            return mid\n",
    "\n",
    "        # Check which half is normally ordered\n",
    "        if input_list[low] <= input_list[mid]:\n",
    "            # Left half is normally ordered\n",
    "            if input_list[low] <= number < input_list[mid]:\n",
    "                high = mid - 1\n",
    "            else:\n",
    "                low = mid + 1\n",
    "        else:\n",
    "            # Right half is normally ordered\n",
    "            if input_list[mid] < number <= input_list[high]:\n",
    "                low = mid + 1\n",
    "            else:\n",
    "                high = mid - 1\n",
    "\n",
    "    return -1\n",
    "\n",
    "def linear_search(input_list, number):\n",
    "    for index, element in enumerate(input_list):\n",
    "        if element == number:\n",
    "            return index\n",
    "    return -1\n",
    "\n",
    "def test_function(test_case):\n",
    "    input_list = test_case[0]\n",
    "    number = test_case[1]\n",
    "    if linear_search(input_list, number) == rotated_array_search(input_list, number):\n",
    "        print(\"Pass\")\n",
    "    else:\n",
    "        print(\"Fail\")\n",
    "\n",
    "# Test cases\n",
    "test_function([[6, 7, 8, 9, 10, 1, 2, 3, 4], 6])\n",
    "test_function([[6, 7, 8, 9, 10, 1, 2, 3, 4], 1])\n",
    "test_function([[6, 7, 8, 1, 2, 3, 4], 8])\n",
    "test_function([[6, 7, 8, 1, 2, 3, 4], 1])\n",
    "test_function([[6, 7, 8, 1, 2, 3, 4], 10])\n"
   ]
  },
  {
   "cell_type": "code",
   "execution_count": 1,
   "id": "264c3ed0-a998-440c-be50-53d0b4bac3b0",
   "metadata": {},
   "outputs": [
    {
     "ename": "KeyboardInterrupt",
     "evalue": "",
     "output_type": "error",
     "traceback": [
      "\u001b[1;31m---------------------------------------------------------------------------\u001b[0m",
      "\u001b[1;31mKeyboardInterrupt\u001b[0m                         Traceback (most recent call last)",
      "Cell \u001b[1;32mIn[1], line 46\u001b[0m\n\u001b[0;32m     43\u001b[0m     \u001b[38;5;28;01melse\u001b[39;00m:\n\u001b[0;32m     44\u001b[0m         \u001b[38;5;28mprint\u001b[39m(\u001b[38;5;124m\"\u001b[39m\u001b[38;5;124mFail\u001b[39m\u001b[38;5;124m\"\u001b[39m)\n\u001b[1;32m---> 46\u001b[0m test_function([[\u001b[38;5;241m6\u001b[39m, \u001b[38;5;241m7\u001b[39m, \u001b[38;5;241m8\u001b[39m, \u001b[38;5;241m9\u001b[39m, \u001b[38;5;241m10\u001b[39m, \u001b[38;5;241m1\u001b[39m, \u001b[38;5;241m2\u001b[39m, \u001b[38;5;241m3\u001b[39m, \u001b[38;5;241m4\u001b[39m], \u001b[38;5;241m6\u001b[39m])\n\u001b[0;32m     47\u001b[0m test_function([[\u001b[38;5;241m6\u001b[39m, \u001b[38;5;241m7\u001b[39m, \u001b[38;5;241m8\u001b[39m, \u001b[38;5;241m9\u001b[39m, \u001b[38;5;241m10\u001b[39m, \u001b[38;5;241m1\u001b[39m, \u001b[38;5;241m2\u001b[39m, \u001b[38;5;241m3\u001b[39m, \u001b[38;5;241m4\u001b[39m], \u001b[38;5;241m1\u001b[39m])\n\u001b[0;32m     48\u001b[0m test_function([[\u001b[38;5;241m6\u001b[39m, \u001b[38;5;241m7\u001b[39m, \u001b[38;5;241m8\u001b[39m, \u001b[38;5;241m1\u001b[39m, \u001b[38;5;241m2\u001b[39m, \u001b[38;5;241m3\u001b[39m, \u001b[38;5;241m4\u001b[39m], \u001b[38;5;241m8\u001b[39m])\n",
      "Cell \u001b[1;32mIn[1], line 41\u001b[0m, in \u001b[0;36mtest_function\u001b[1;34m(test_case)\u001b[0m\n\u001b[0;32m     39\u001b[0m input_list \u001b[38;5;241m=\u001b[39m test_case[\u001b[38;5;241m0\u001b[39m]\n\u001b[0;32m     40\u001b[0m number \u001b[38;5;241m=\u001b[39m test_case[\u001b[38;5;241m1\u001b[39m]\n\u001b[1;32m---> 41\u001b[0m \u001b[38;5;28;01mif\u001b[39;00m linear_search(input_list, number) \u001b[38;5;241m==\u001b[39m rotated_array_search(input_list, number):\n\u001b[0;32m     42\u001b[0m     \u001b[38;5;28mprint\u001b[39m(\u001b[38;5;124m\"\u001b[39m\u001b[38;5;124mPass\u001b[39m\u001b[38;5;124m\"\u001b[39m)\n\u001b[0;32m     43\u001b[0m \u001b[38;5;28;01melse\u001b[39;00m:\n",
      "Cell \u001b[1;32mIn[1], line 14\u001b[0m, in \u001b[0;36mrotated_array_search\u001b[1;34m(input_list, number)\u001b[0m\n\u001b[0;32m     11\u001b[0m    \u001b[38;5;28;01mreturn\u001b[39;00m \u001b[38;5;241m-\u001b[39m\u001b[38;5;241m1\u001b[39m \n\u001b[0;32m     13\u001b[0m start,end \u001b[38;5;241m=\u001b[39m \u001b[38;5;241m0\u001b[39m, \u001b[38;5;28mlen\u001b[39m(input_list) \u001b[38;5;241m-\u001b[39m \u001b[38;5;241m1\u001b[39m\n\u001b[1;32m---> 14\u001b[0m \u001b[38;5;28;01mwhile\u001b[39;00m start \u001b[38;5;241m<\u001b[39m end:\n\u001b[0;32m     15\u001b[0m     mid \u001b[38;5;241m=\u001b[39m (start \u001b[38;5;241m+\u001b[39m end)\u001b[38;5;241m/\u001b[39m\u001b[38;5;241m/\u001b[39m\u001b[38;5;241m2\u001b[39m\n\u001b[0;32m     17\u001b[0m     \u001b[38;5;28;01mif\u001b[39;00m input_list[mid] \u001b[38;5;241m==\u001b[39m number:\n",
      "\u001b[1;31mKeyboardInterrupt\u001b[0m: "
     ]
    }
   ],
   "source": [
    "def rotated_array_search(input_list, number):\n",
    "    \"\"\"\n",
    "    Find the index by searching in a rotated sorted array\n",
    "\n",
    "    Args:\n",
    "       input_list(array), number(int): Input array to search and the target\n",
    "    Returns:\n",
    "       int: Index or -1\n",
    "    \"\"\"\n",
    "    if not input_list:\n",
    "       return -1 \n",
    "\n",
    "    start,end = 0, len(input_list) - 1\n",
    "    while start < end:\n",
    "        mid = (start + end)//2\n",
    "\n",
    "        if input_list[mid] == number:\n",
    "            return mid\n",
    "        if input_list[start] < input_list[mid]:\n",
    "            if input_list[start] <= number < input_list[mid]:\n",
    "                high = mid - 1\n",
    "            else:\n",
    "                low = mid + 1\n",
    "        else:\n",
    "            if input_list[mid] < number <= input_list[end]:\n",
    "                low = mid + 1\n",
    "            else:\n",
    "                high = mid - 1\n",
    "    return -1 \n",
    "    \n",
    "\n",
    "def linear_search(input_list, number):\n",
    "    for index, element in enumerate(input_list):\n",
    "        if element == number:\n",
    "            return index\n",
    "    return -1\n",
    "    \n",
    "def test_function(test_case):\n",
    "    input_list = test_case[0]\n",
    "    number = test_case[1]\n",
    "    if linear_search(input_list, number) == rotated_array_search(input_list, number):\n",
    "        print(\"Pass\")\n",
    "    else:\n",
    "        print(\"Fail\")\n",
    "\n",
    "test_function([[6, 7, 8, 9, 10, 1, 2, 3, 4], 6])\n",
    "test_function([[6, 7, 8, 9, 10, 1, 2, 3, 4], 1])\n",
    "test_function([[6, 7, 8, 1, 2, 3, 4], 8])\n",
    "test_function([[6, 7, 8, 1, 2, 3, 4], 1])\n",
    "test_function([[6, 7, 8, 1, 2, 3, 4], 10])"
   ]
  },
  {
   "cell_type": "code",
   "execution_count": null,
   "id": "816ddf9f-4f20-4818-9927-cec3a243a4f5",
   "metadata": {},
   "outputs": [],
   "source": [
    "def rearrange_digits(input_list):\n",
    "    \"\"\"\n",
    "    Rearrange Array Elements so as to form two number such that their sum is maximum.\n",
    "\n",
    "    Args:\n",
    "       input_list(list): Input List\n",
    "    Returns:\n",
    "       (int),(int): Two maximum sums\n",
    "    \"\"\"\n",
    "    if not input_list:\n",
    "        return None\n",
    "    start,end = 0,len(input_list)-1\n",
    "    while start < end:\n",
    "        pivot = (start + end)//2\n",
    "        left = [input_list[x] for x in range()]\n",
    "\n",
    "def test_function(test_case):\n",
    "    output = rearrange_digits(test_case[0])\n",
    "    solution = test_case[1]\n",
    "    if sum(output) == sum(solution):\n",
    "        print(\"Pass\")\n",
    "    else:\n",
    "        print(\"Fail\")\n",
    "\n",
    "test_function([[1, 2, 3, 4, 5], [542, 31]])\n",
    "test_case = [[4, 6, 2, 5, 9, 8], [964, 852]]"
   ]
  },
  {
   "cell_type": "code",
   "execution_count": 10,
   "id": "7e1802c5-44db-4246-bada-d7846f170b51",
   "metadata": {},
   "outputs": [
    {
     "name": "stdout",
     "output_type": "stream",
     "text": [
      "Pass\n"
     ]
    }
   ],
   "source": [
    "def rearrange_digits(input_list):\n",
    "    if not input_list:\n",
    "        return -1\n",
    "\n",
    "    def mergelist(list1,list2):\n",
    "        merged = []\n",
    "        i = j = 0\n",
    "        while i < len(list1) and j < len(list2):\n",
    "            if list1[i] > list2[j]:\n",
    "                merged.append(list1[i])\n",
    "                i += 1\n",
    "            else:\n",
    "                merged.append(list2[j])\n",
    "                j += 1\n",
    "        merged += list1[i:]\n",
    "        merged += list2[j:]\n",
    "        return merged\n",
    "        \n",
    "    def mergesort(numbers):\n",
    "        if len(numbers) <= 1:\n",
    "            return numbers\n",
    "        mid = len(numbers)//2\n",
    "        left = numbers[:mid]\n",
    "        right  = numbers[mid:]\n",
    "\n",
    "        return mergelist(mergesort(left),mergesort(right))\n",
    "\n",
    "    sorted_list = mergesort(input_list)\n",
    "    num1,num2 = 0,0\n",
    "    for i,digit in enumerate(sorted_list):\n",
    "        if i % 2 == 0:\n",
    "            num1 = (num1 * 10) + digit\n",
    "        else:\n",
    "            num2 = (num2 * 10) + digit\n",
    "\n",
    "    return num1,num2\n",
    "\n",
    "def test_function(test_case):\n",
    "    output = rearrange_digits(test_case[0])\n",
    "    solution = test_case[1]\n",
    "    if sum(output) == sum(solution):\n",
    "        print(\"Pass\")\n",
    "    else:\n",
    "        print(\"Fail\")\n",
    "\n",
    "test_function([[1, 2, 3, 4, 5], [542, 31]])\n",
    "test_case = [[4, 6, 2, 5, 9, 8], [964, 852]]"
   ]
  },
  {
   "cell_type": "code",
   "execution_count": 8,
   "id": "aeca995a-e5c6-4f15-b692-a9bacb0e2525",
   "metadata": {},
   "outputs": [
    {
     "data": {
      "text/plain": [
       "(531, 42)"
      ]
     },
     "execution_count": 8,
     "metadata": {},
     "output_type": "execute_result"
    }
   ],
   "source": [
    "rearrange_digits([1,2,3,4,5])"
   ]
  },
  {
   "cell_type": "code",
   "execution_count": 5,
   "id": "dad3f428-54d6-4779-a2f3-7c8d6a57661c",
   "metadata": {},
   "outputs": [],
   "source": [
    "def rearrange_digits(input_list):\n",
    "    \"\"\"\n",
    "    Rearrange Array Elements so as to form two number such that their sum is maximum.\n",
    "\n",
    "    Args:\n",
    "       input_list(list): Input List\n",
    "    Returns:\n",
    "       (int),(int): Two maximum sums\n",
    "    \"\"\"\n",
    "    if not input_list:\n",
    "        return -1\n",
    "\n",
    "    # bring in a helper function AKA mergesort\n",
    "    def mergelist(list1,list2):\n",
    "        merged = []\n",
    "        i = j = 0\n",
    "        while i < len(list1) and j < len(list2):\n",
    "            if list1[i] > list2[j]:\n",
    "                ## sorting in a decending order\n",
    "                merged.append(list1[i])\n",
    "                i += 1\n",
    "            else:\n",
    "                merged.append(list2[j])\n",
    "                j += 1\n",
    "        merged += list1[i:]\n",
    "        merged += list2[j:]\n",
    "        return merged\n",
    "\n",
    "    def mergesort(numbers):\n",
    "        if len(numbers) <= 1:\n",
    "            return numbers\n",
    "        mid = len(numbers)//2\n",
    "        left = numbers[:mid]\n",
    "        right = numbers[mid:]\n",
    "        return mergelist(mergesort(left),mergesort(right))\n",
    "    sorted_list = mergesort(input_list)\n",
    "    num1,num2 = 0,0\n",
    "    for i,digit in enumerate(input_list):\n",
    "        if i % 2 == 0:\n",
    "            num1 = (num1*10) + digit\n",
    "        else:\n",
    "            num2 = (num2*10) + digit\n",
    "\n",
    "    return num1,num2\n",
    "        \n",
    "\n",
    "def test_function(test_case):\n",
    "    output = rearrange_digits(test_case[0])\n",
    "    solution = test_case[1]\n",
    "    if sum(output) == sum(solution):\n",
    "        print(\"Pass\")\n",
    "    else:\n",
    "        print(\"Fail\")\n",
    "\n",
    "# test_function([[1, 2, 3, 4, 5], [542, 31]])\n",
    "# test_case = [[4, 6, 2, 5, 9, 8], [964, 852]]"
   ]
  },
  {
   "cell_type": "code",
   "execution_count": 6,
   "id": "14eb23ee-cebc-4d8d-9c13-1c767cd33584",
   "metadata": {},
   "outputs": [
    {
     "data": {
      "text/plain": [
       "(429, 658)"
      ]
     },
     "execution_count": 6,
     "metadata": {},
     "output_type": "execute_result"
    }
   ],
   "source": [
    "rearrange_digits([4, 6, 2, 5, 9, 8])"
   ]
  },
  {
   "cell_type": "code",
   "execution_count": 10,
   "id": "dda4e2d8-afa3-49b6-9966-8f5cfd19740f",
   "metadata": {},
   "outputs": [],
   "source": [
    "def sort_012(input_list):\n",
    "    low = 0\n",
    "    high = len(input_list) - 1\n",
    "    current = 0\n",
    "    while current <= high:\n",
    "        if input_list[current] == 0:\n",
    "            input_list[current], input_list[low] = input_list[low], input_list[current]\n",
    "            current += 1\n",
    "            low += 1\n",
    "        elif input_list[current] == 2:\n",
    "            input_list[current], input_list[high] = input_list[high], input_list[current]\n",
    "            high -= 1\n",
    "        else:\n",
    "            current += 1\n",
    "    return input_list"
   ]
  },
  {
   "cell_type": "code",
   "execution_count": 11,
   "id": "ff482ded-06e8-46b1-aeaa-30e7efe9e607",
   "metadata": {},
   "outputs": [
    {
     "data": {
      "text/plain": [
       "[0, 0, 0, 0, 0, 0, 0, 0, 0, 0, 0, 1, 1, 1, 1, 1, 1, 2, 2, 2, 2, 2, 2, 2, 2, 2]"
      ]
     },
     "execution_count": 11,
     "metadata": {},
     "output_type": "execute_result"
    }
   ],
   "source": [
    "sort_012([2, 1, 2, 0, 0, 2, 1, 0, 1, 0, 0, 2, 2, 2, 1, 2, 0, 0, 0, 2, 1, 0, 2, 0, 0, 1])"
   ]
  },
  {
   "cell_type": "code",
   "execution_count": 12,
   "id": "0c0ac86c-0194-49f0-8ad9-69d36f0d80a3",
   "metadata": {},
   "outputs": [
    {
     "data": {
      "text/plain": [
       "[0, 0, 0, 0, 0, 0, 0, 0, 0, 0, 0, 1, 1, 1, 1, 1, 1, 2, 2, 2, 2, 2, 2, 2, 2, 2]"
      ]
     },
     "execution_count": 12,
     "metadata": {},
     "output_type": "execute_result"
    }
   ],
   "source": [
    "sorted([2, 1, 2, 0, 0, 2, 1, 0, 1, 0, 0, 2, 2, 2, 1, 2, 0, 0, 0, 2, 1, 0, 2, 0, 0, 1])"
   ]
  },
  {
   "cell_type": "code",
   "execution_count": 14,
   "id": "0838ec20-d704-44d9-9f28-b44a64fffb66",
   "metadata": {},
   "outputs": [
    {
     "name": "stdout",
     "output_type": "stream",
     "text": [
      "Help on built-in function sorted in module builtins:\n",
      "\n",
      "sorted(iterable, /, *, key=None, reverse=False)\n",
      "    Return a new list containing all items from the iterable in ascending order.\n",
      "    \n",
      "    A custom key function can be supplied to customize the sort order, and the\n",
      "    reverse flag can be set to request the result in descending order.\n",
      "\n"
     ]
    }
   ],
   "source": [
    "help(sorted)"
   ]
  },
  {
   "cell_type": "code",
   "execution_count": 22,
   "id": "e2c2f1d9-9889-4b38-b52a-9cf8691ba9a7",
   "metadata": {},
   "outputs": [
    {
     "data": {
      "text/plain": [
       "(0, 9)"
      ]
     },
     "execution_count": 22,
     "metadata": {},
     "output_type": "execute_result"
    }
   ],
   "source": [
    "def get_min_max(ints):\n",
    "    \"\"\"\n",
    "    Return a tuple(min, max) out of list of unsorted integers.\n",
    "    \n",
    "    Args:\n",
    "       ints(list): list of integers containing one or more integers\n",
    "    \"\"\"\n",
    "    min = max = ints[0]\n",
    "    \n",
    "    for num in ints:\n",
    "        if num < min:\n",
    "            min = num\n",
    "        elif num > max:\n",
    "            max = num\n",
    "    return min,max\n",
    "get_min_max([4,1,2,9,0])"
   ]
  },
  {
   "cell_type": "code",
   "execution_count": 25,
   "id": "11cbd1b2-fd81-4efb-8539-3c095557c8c4",
   "metadata": {},
   "outputs": [
    {
     "name": "stdout",
     "output_type": "stream",
     "text": [
      "Pass\n"
     ]
    }
   ],
   "source": [
    "def get_min_max(ints):\n",
    "    \"\"\"\n",
    "    Return a tuple(min, max) out of list of unsorted integers.\n",
    "    \n",
    "    Args:\n",
    "       ints(list): list of integers containing one or more integers\n",
    "    \"\"\"\n",
    "    \n",
    "    if len(ints) <= 1:\n",
    "       return ints[0],ints[0]\n",
    "    min = max = ints[0]\n",
    "    for num in ints:\n",
    "        if num < min:\n",
    "            min = num\n",
    "        elif num > max:\n",
    "            max = num\n",
    "    return min,max\n",
    "            \n",
    "\n",
    "### Example Test Case of Ten Integers\n",
    "import random\n",
    "\n",
    "l = [i for i in range(0, 10)]  # a list containing 0 - 9\n",
    "random.shuffle(l)\n",
    "\n",
    "print (\"Pass\" if ((0, 9) == get_min_max(l)) else \"Fail\")\n"
   ]
  },
  {
   "cell_type": "code",
   "execution_count": 26,
   "id": "3c36da21-1ecf-4fd7-808d-b020d47980be",
   "metadata": {},
   "outputs": [
    {
     "name": "stdout",
     "output_type": "stream",
     "text": [
      "root handler\n",
      "not found handler\n",
      "about handler\n",
      "about handler\n",
      "not found handler\n"
     ]
    }
   ],
   "source": [
    "class RouteTrieNode:\n",
    "    def __init__(self, handler=None):\n",
    "        self.children = {}\n",
    "        self.handler = handler\n",
    "\n",
    "\n",
    "class RouteTrie:\n",
    "    def __init__(self, root_handler=None):\n",
    "        self.root = RouteTrieNode(root_handler)\n",
    "\n",
    "    def insert(self, path_parts, handler):\n",
    "        node = self.root\n",
    "        for part in path_parts:\n",
    "            if part not in node.children:\n",
    "                node.children[part] = RouteTrieNode()\n",
    "            node = node.children[part]\n",
    "        node.handler = handler\n",
    "\n",
    "    def find(self, path_parts):\n",
    "        node = self.root\n",
    "        for part in path_parts:\n",
    "            if part not in node.children:\n",
    "                return None\n",
    "            node = node.children[part]\n",
    "        return node.handler\n",
    "\n",
    "\n",
    "class Router:\n",
    "    def __init__(self, root_handler, not_found_handler=None):\n",
    "        self.route_trie = RouteTrie(root_handler)\n",
    "        self.not_found_handler = not_found_handler\n",
    "\n",
    "    def add_handler(self, path, handler):\n",
    "        path_parts = self.split_path(path)\n",
    "        self.route_trie.insert(path_parts, handler)\n",
    "\n",
    "    def lookup(self, path):\n",
    "        path_parts = self.split_path(path)\n",
    "        handler = self.route_trie.find(path_parts)\n",
    "        if handler is None:\n",
    "            return self.not_found_handler\n",
    "        return handler\n",
    "\n",
    "    def split_path(self, path):\n",
    "        # Handle trailing slashes and split the path into parts\n",
    "        return [part for part in path.strip('/').split('/') if part]\n",
    "\n",
    "\n",
    "# Test Cases\n",
    "router = Router(\"root handler\", \"not found handler\")\n",
    "router.add_handler(\"/home/about\", \"about handler\")\n",
    "\n",
    "# Test cases with expected outputs\n",
    "print(router.lookup(\"/\"))           # should print 'root handler'\n",
    "print(router.lookup(\"/home\"))       # should print 'not found handler' or None\n",
    "print(router.lookup(\"/home/about\")) # should print 'about handler'\n",
    "print(router.lookup(\"/home/about/\")) # should print 'about handler' or None if trailing slashes are not handled\n",
    "print(router.lookup(\"/home/about/me\")) # should print 'not found handler' or None\n"
   ]
  },
  {
   "cell_type": "code",
   "execution_count": null,
   "id": "70bee69f-1d7b-4597-86bb-33377e43fef2",
   "metadata": {},
   "outputs": [],
   "source": []
  },
  {
   "cell_type": "code",
   "execution_count": null,
   "id": "ef43a682-c923-40a0-99da-65e31d303458",
   "metadata": {},
   "outputs": [],
   "source": []
  },
  {
   "cell_type": "code",
   "execution_count": null,
   "id": "85e09098-140c-43ce-89e0-89a44b829cb6",
   "metadata": {},
   "outputs": [],
   "source": []
  },
  {
   "cell_type": "code",
   "execution_count": null,
   "id": "66e77c86-a96b-42b4-9d57-022f57059771",
   "metadata": {},
   "outputs": [],
   "source": []
  },
  {
   "cell_type": "code",
   "execution_count": null,
   "id": "c381a583-503a-4bda-821f-f17db3fe8a7d",
   "metadata": {},
   "outputs": [],
   "source": []
  },
  {
   "cell_type": "code",
   "execution_count": null,
   "id": "b1a21cb8-773b-4927-b2c3-08a723bec142",
   "metadata": {},
   "outputs": [],
   "source": []
  },
  {
   "cell_type": "code",
   "execution_count": null,
   "id": "0240ea12-c35b-4863-a710-99399ec3dd01",
   "metadata": {},
   "outputs": [],
   "source": []
  },
  {
   "cell_type": "code",
   "execution_count": null,
   "id": "28028147-55fe-4090-a65c-50a6930e4ee2",
   "metadata": {},
   "outputs": [],
   "source": []
  },
  {
   "cell_type": "code",
   "execution_count": null,
   "id": "c6dd0184-89b8-4d20-bdf9-bf763fd18b4e",
   "metadata": {},
   "outputs": [],
   "source": []
  },
  {
   "cell_type": "code",
   "execution_count": null,
   "id": "176ac845-dbcb-4fd6-94ed-9cfeb136d328",
   "metadata": {},
   "outputs": [],
   "source": []
  },
  {
   "cell_type": "code",
   "execution_count": null,
   "id": "aba32445-0aa5-4d3e-9aff-490875f3b9d2",
   "metadata": {},
   "outputs": [],
   "source": []
  },
  {
   "cell_type": "code",
   "execution_count": null,
   "id": "6b15417a-4f94-4667-834f-6ac3c8facce0",
   "metadata": {},
   "outputs": [],
   "source": []
  },
  {
   "cell_type": "code",
   "execution_count": null,
   "id": "f0488756-a783-4df8-9601-bc6626e26f86",
   "metadata": {},
   "outputs": [],
   "source": []
  }
 ],
 "metadata": {
  "kernelspec": {
   "display_name": "Python 3 (ipykernel)",
   "language": "python",
   "name": "python3"
  },
  "language_info": {
   "codemirror_mode": {
    "name": "ipython",
    "version": 3
   },
   "file_extension": ".py",
   "mimetype": "text/x-python",
   "name": "python",
   "nbconvert_exporter": "python",
   "pygments_lexer": "ipython3",
   "version": "3.11.5"
  }
 },
 "nbformat": 4,
 "nbformat_minor": 5
}
