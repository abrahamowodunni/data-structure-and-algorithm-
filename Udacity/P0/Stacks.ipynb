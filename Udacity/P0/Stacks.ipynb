{
 "cells": [
  {
   "cell_type": "code",
   "execution_count": 1,
   "id": "88fd5a43-4f85-431b-a3c8-b6b6ddf6c435",
   "metadata": {},
   "outputs": [],
   "source": [
    "class Stack:\n",
    "    def __init__(self, initial_size):\n",
    "        self.arr = [None for _ in range(initial_size)]\n",
    "        self.next_index = 0\n",
    "        self.num_element = 0\n",
    "\n",
    "    def push(self,value):\n",
    "        self.arr[self.next_index] = value\n",
    "        self.next_index += 1\n",
    "        self.num_element += 1"
   ]
  },
  {
   "cell_type": "code",
   "execution_count": 3,
   "id": "339e2ab3-19a0-41a1-98e5-f53f2a983065",
   "metadata": {},
   "outputs": [],
   "source": [
    "stack = Stack(10)"
   ]
  },
  {
   "cell_type": "code",
   "execution_count": 5,
   "id": "09a4789b-c42c-4163-807c-e8cd2d32f29e",
   "metadata": {},
   "outputs": [
    {
     "data": {
      "text/plain": [
       "[None, None, None, None, None, None, None, None, None, None]"
      ]
     },
     "execution_count": 5,
     "metadata": {},
     "output_type": "execute_result"
    }
   ],
   "source": [
    "stack.arr"
   ]
  },
  {
   "cell_type": "code",
   "execution_count": 6,
   "id": "7a2f4c83-bcba-49e7-9e6e-0dc3fbc9f6c6",
   "metadata": {},
   "outputs": [
    {
     "data": {
      "text/plain": [
       "[6, 'boy', True, None, None, None, None, None, None, None]"
      ]
     },
     "execution_count": 6,
     "metadata": {},
     "output_type": "execute_result"
    }
   ],
   "source": [
    "stack.push(6)\n",
    "stack.push('boy')\n",
    "stack.push(True)\n",
    "stack.arr"
   ]
  },
  {
   "cell_type": "markdown",
   "id": "6c3824a6-bcbc-4dd6-a00c-b1127b511e13",
   "metadata": {},
   "source": [
    "Handling overflowing stack"
   ]
  },
  {
   "cell_type": "code",
   "execution_count": 1,
   "id": "2a16cddc-1add-4803-a786-3c80c88673b1",
   "metadata": {},
   "outputs": [],
   "source": [
    "class Stack:\n",
    "    \n",
    "    def __init__(self, initial_size = 10):\n",
    "        self.arr = [None for _ in range(initial_size)]\n",
    "        self.next_index = 0\n",
    "        self.num_elements = 0\n",
    "        \n",
    "    def push(self, data):\n",
    "        # TODO: Add a conditional to check for full capacity\n",
    "        if self.num_elements == len(self.arr):\n",
    "            print('Stack is full')\n",
    "            self._handle_stack_capacity_full()\n",
    "        \n",
    "        self.arr[self.next_index] = data\n",
    "        self.next_index += 1\n",
    "        self.num_elements += 1\n",
    "        \n",
    "    # TODO: Add the _handle_stack_capacity_full method\n",
    "    def _handle_stack_capacity_full(self):\n",
    "        old_arr = self.arr\n",
    "\n",
    "        self.arr = [None for _ in range(2*len(old_arr))]\n",
    "        for index,element in enumerate(old_arr):\n",
    "            self.arr[index] = element"
   ]
  },
  {
   "cell_type": "code",
   "execution_count": 2,
   "id": "f1c2f49b-cf1d-4815-ae46-5cc1b6cb3720",
   "metadata": {},
   "outputs": [],
   "source": [
    "stack = Stack(5)"
   ]
  },
  {
   "cell_type": "code",
   "execution_count": 3,
   "id": "a7f18767-a18c-42e0-8db0-ec06f696ab7e",
   "metadata": {},
   "outputs": [],
   "source": [
    "stack.push(1)\n",
    "stack.push(2)\n",
    "stack.push(3)\n",
    "stack.push(4)"
   ]
  },
  {
   "cell_type": "code",
   "execution_count": 4,
   "id": "225e9088-3309-47f0-af57-d0774a9676b4",
   "metadata": {},
   "outputs": [
    {
     "data": {
      "text/plain": [
       "[1, 2, 3, 4, None]"
      ]
     },
     "execution_count": 4,
     "metadata": {},
     "output_type": "execute_result"
    }
   ],
   "source": [
    "stack.arr"
   ]
  },
  {
   "cell_type": "code",
   "execution_count": 5,
   "id": "473a38f9-340c-4a60-a8dd-912aead77d75",
   "metadata": {},
   "outputs": [
    {
     "data": {
      "text/plain": [
       "[1, 2, 3, 4, 5]"
      ]
     },
     "execution_count": 5,
     "metadata": {},
     "output_type": "execute_result"
    }
   ],
   "source": [
    "stack.push(5)\n",
    "stack.arr"
   ]
  },
  {
   "cell_type": "code",
   "execution_count": 6,
   "id": "dfc4ba52-7c14-4be7-aa49-308e6f0279bf",
   "metadata": {},
   "outputs": [
    {
     "name": "stdout",
     "output_type": "stream",
     "text": [
      "Stack is full\n"
     ]
    }
   ],
   "source": [
    "stack.push(6)"
   ]
  },
  {
   "cell_type": "code",
   "execution_count": 7,
   "id": "98eddc9d-17d7-4cb5-8398-b28ff4ea2746",
   "metadata": {},
   "outputs": [
    {
     "data": {
      "text/plain": [
       "[1, 2, 3, 4, 5, 6, None, None, None, None]"
      ]
     },
     "execution_count": 7,
     "metadata": {},
     "output_type": "execute_result"
    }
   ],
   "source": [
    "stack.arr"
   ]
  },
  {
   "cell_type": "code",
   "execution_count": 8,
   "id": "1626cd8f-3edc-43aa-8fbe-8e949258e4e1",
   "metadata": {},
   "outputs": [
    {
     "data": {
      "text/plain": [
       "[1, 2, 3, 4, 5, 6, 1, None, None, None]"
      ]
     },
     "execution_count": 8,
     "metadata": {},
     "output_type": "execute_result"
    }
   ],
   "source": [
    "stack.push(1)\n",
    "stack.arr"
   ]
  },
  {
   "cell_type": "code",
   "execution_count": 48,
   "id": "ff33b72e-0b10-49a4-b3d8-1b3292a0071b",
   "metadata": {},
   "outputs": [],
   "source": [
    "class Stack:\n",
    "    \n",
    "    def __init__(self, initial_size = 10):\n",
    "        self.arr = [None for _ in range(initial_size)]\n",
    "        self.next_index = 0\n",
    "        self.num_elements = 0\n",
    "        \n",
    "    def push(self, data):\n",
    "        # TODO: Add a conditional to check for full capacity\n",
    "        if self.num_elements == len(self.arr):\n",
    "            print('Stack is full')\n",
    "            self._handle_stack_capacity_full()\n",
    "        \n",
    "        self.arr[self.next_index] = data\n",
    "        self.next_index += 1\n",
    "        self.num_elements += 1\n",
    "\n",
    "    def pop(self):\n",
    "        if self.is_empty():\n",
    "            self.next_index = 0\n",
    "            return None\n",
    "            \n",
    "        popped_value = self.arr[self.next_index - 1]\n",
    "        self.arr[self.next_index - 1] = None \n",
    "        self.next_index -= 1\n",
    "        self.num_elements -= 1\n",
    "        return popped_value\n",
    "        #return self.arr[self.next_index]\n",
    "\n",
    "    def size(self):\n",
    "        return self.num_elements\n",
    "\n",
    "    def is_empty(self):\n",
    "        if self.num_elements == 0:\n",
    "            return True\n",
    "        return False\n",
    "        \n",
    "    # TODO: Add the _handle_stack_capacity_full method\n",
    "    def _handle_stack_capacity_full(self):\n",
    "        old_arr = self.arr\n",
    "\n",
    "        self.arr = [None for _ in range(2*len(old_arr))]\n",
    "        for index,element in enumerate(old_arr):\n",
    "            self.arr[index] = element\n",
    "\n",
    "stack = Stack(6)"
   ]
  },
  {
   "cell_type": "code",
   "execution_count": 49,
   "id": "0601d54c-d257-427d-b6bc-bb094ccb6070",
   "metadata": {},
   "outputs": [
    {
     "data": {
      "text/plain": [
       "True"
      ]
     },
     "execution_count": 49,
     "metadata": {},
     "output_type": "execute_result"
    }
   ],
   "source": [
    "stack.is_empty()"
   ]
  },
  {
   "cell_type": "code",
   "execution_count": 50,
   "id": "3064f5e3-591d-44a8-a8ec-f366f7be0db6",
   "metadata": {},
   "outputs": [],
   "source": [
    "stack.push(1)\n",
    "stack.push(2)\n",
    "stack.push(3)\n",
    "stack.push(4)"
   ]
  },
  {
   "cell_type": "code",
   "execution_count": 51,
   "id": "b35e8d53-a098-4063-a237-4388ab8e3074",
   "metadata": {},
   "outputs": [
    {
     "data": {
      "text/plain": [
       "False"
      ]
     },
     "execution_count": 51,
     "metadata": {},
     "output_type": "execute_result"
    }
   ],
   "source": [
    "stack.is_empty()"
   ]
  },
  {
   "cell_type": "code",
   "execution_count": 52,
   "id": "ff74a6a2-e898-4022-94a6-c4072869c050",
   "metadata": {},
   "outputs": [
    {
     "data": {
      "text/plain": [
       "4"
      ]
     },
     "execution_count": 52,
     "metadata": {},
     "output_type": "execute_result"
    }
   ],
   "source": [
    "stack.size()"
   ]
  },
  {
   "cell_type": "code",
   "execution_count": 53,
   "id": "7a139471-c620-4bb7-be64-c4b0946619bf",
   "metadata": {},
   "outputs": [
    {
     "name": "stdout",
     "output_type": "stream",
     "text": [
      "Stack is full\n"
     ]
    }
   ],
   "source": [
    "stack.push(5)\n",
    "stack.push(5)\n",
    "stack.push(3)\n",
    "stack.push(4)"
   ]
  },
  {
   "cell_type": "code",
   "execution_count": 54,
   "id": "08e99a7d-ed56-4724-a7da-e8b1cdaeae81",
   "metadata": {},
   "outputs": [
    {
     "data": {
      "text/plain": [
       "8"
      ]
     },
     "execution_count": 54,
     "metadata": {},
     "output_type": "execute_result"
    }
   ],
   "source": [
    "stack.size()"
   ]
  },
  {
   "cell_type": "code",
   "execution_count": 55,
   "id": "0ae72cd0-34a2-4298-a2e8-8f86fcbc59aa",
   "metadata": {},
   "outputs": [
    {
     "data": {
      "text/plain": [
       "4"
      ]
     },
     "execution_count": 55,
     "metadata": {},
     "output_type": "execute_result"
    }
   ],
   "source": [
    "stack.pop()"
   ]
  },
  {
   "cell_type": "code",
   "execution_count": 56,
   "id": "eb925b4a-0ff3-493d-a0fd-85eeeab58da3",
   "metadata": {},
   "outputs": [
    {
     "data": {
      "text/plain": [
       "[1, 2, 3, 4, 5, 5, 3, None, None, None, None, None]"
      ]
     },
     "execution_count": 56,
     "metadata": {},
     "output_type": "execute_result"
    }
   ],
   "source": [
    "stack.arr"
   ]
  },
  {
   "cell_type": "code",
   "execution_count": 57,
   "id": "e4ab755a-30e4-43bc-8cbd-fd7786d62395",
   "metadata": {},
   "outputs": [
    {
     "data": {
      "text/plain": [
       "7"
      ]
     },
     "execution_count": 57,
     "metadata": {},
     "output_type": "execute_result"
    }
   ],
   "source": [
    "stack.size()"
   ]
  },
  {
   "cell_type": "code",
   "execution_count": 58,
   "id": "30880c82-5e9d-4eb8-b13d-133e4913df1a",
   "metadata": {},
   "outputs": [
    {
     "data": {
      "text/plain": [
       "[1, 2, 3, 4, 5, 5, 3, None, None, None, None, None]"
      ]
     },
     "execution_count": 58,
     "metadata": {},
     "output_type": "execute_result"
    }
   ],
   "source": [
    "stack.arr"
   ]
  },
  {
   "cell_type": "markdown",
   "id": "53733a5e-3908-4f47-b6f2-91f87d407c81",
   "metadata": {},
   "source": [
    "A try out"
   ]
  },
  {
   "cell_type": "code",
   "execution_count": 5,
   "id": "9ecb4915-1c9e-4147-8d6f-8480dca5095f",
   "metadata": {},
   "outputs": [],
   "source": [
    "class Node:\n",
    "    def __init__(self,value):\n",
    "        self.value = value\n",
    "        self.next = None\n",
    "\n",
    "class Stack:  \n",
    "    def __init__(self):\n",
    "        self.head = None\n",
    "        self.num_elements = 0\n",
    "\n",
    "    def push(self,value):\n",
    "        new_value = Node(value)\n",
    "        if self.head is None:\n",
    "            self.head = new_value\n",
    "            self.num_elements += 1\n",
    "            return\n",
    "            \n",
    "        new_value.next = self.head\n",
    "        self.head = new_value\n",
    "        self.num_elements += 1\n",
    "        \n",
    "stack = Stack()"
   ]
  },
  {
   "cell_type": "code",
   "execution_count": 6,
   "id": "8c2c8d65-5e46-4315-b4b5-919e21ff546c",
   "metadata": {},
   "outputs": [],
   "source": [
    "stack.push(3)\n",
    "stack.push(2)\n",
    "stack.push(4)"
   ]
  },
  {
   "cell_type": "code",
   "execution_count": 7,
   "id": "dd0f1cd7-5796-4f5d-a22c-3a97b71c9d14",
   "metadata": {},
   "outputs": [
    {
     "data": {
      "text/plain": [
       "3"
      ]
     },
     "execution_count": 7,
     "metadata": {},
     "output_type": "execute_result"
    }
   ],
   "source": [
    "stack.num_elements"
   ]
  },
  {
   "cell_type": "code",
   "execution_count": 8,
   "id": "9bffe0df-b790-40cf-b92e-522163826b10",
   "metadata": {},
   "outputs": [
    {
     "name": "stdout",
     "output_type": "stream",
     "text": [
      "4\n",
      "2\n",
      "3\n"
     ]
    }
   ],
   "source": [
    "current = stack.head\n",
    "\n",
    "while current:\n",
    "    print(current.value)\n",
    "    current = current.next\n",
    "    "
   ]
  },
  {
   "cell_type": "markdown",
   "id": "a8c1e5d0-e8d8-443d-a4e3-a7dd63ecbf6c",
   "metadata": {},
   "source": [
    "a better way "
   ]
  },
  {
   "cell_type": "code",
   "execution_count": 9,
   "id": "3e0d8b6d-d42d-41d3-8d1a-6b3c2a37a2b3",
   "metadata": {},
   "outputs": [],
   "source": [
    "class Node:\n",
    "    def __init__(self,value):\n",
    "        self.value = value\n",
    "        self.next = None\n",
    "\n",
    "class Stack:  \n",
    "    def __init__(self):\n",
    "        self.head = None\n",
    "        self.num_elements = 0\n",
    "\n",
    "    def push(self,value):\n",
    "        new_node = Node(value)\n",
    "        if self.head is None:\n",
    "            self.head = new_node\n",
    "\n",
    "        else:\n",
    "            new_node.next = self.head\n",
    "            self.head = new_node\n",
    "        self.num_elements +=1\n",
    "\n",
    "stack = Stack()"
   ]
  },
  {
   "cell_type": "code",
   "execution_count": 10,
   "id": "e915a50a-007a-47be-9787-6afc288cd75d",
   "metadata": {},
   "outputs": [
    {
     "data": {
      "text/plain": [
       "6"
      ]
     },
     "execution_count": 10,
     "metadata": {},
     "output_type": "execute_result"
    }
   ],
   "source": [
    "stack.push(3)\n",
    "stack.push(2)\n",
    "stack.push(4)\n",
    "stack.push(3)\n",
    "stack.push(2)\n",
    "stack.push(4)\n",
    "stack.num_elements"
   ]
  },
  {
   "cell_type": "code",
   "execution_count": 11,
   "id": "56d8ee26-2143-47fd-a2f7-f1d054ecc5c2",
   "metadata": {},
   "outputs": [
    {
     "name": "stdout",
     "output_type": "stream",
     "text": [
      "4\n",
      "2\n",
      "3\n",
      "4\n",
      "2\n",
      "3\n"
     ]
    }
   ],
   "source": [
    "current = stack.head\n",
    "\n",
    "while current:\n",
    "    print(current.value)\n",
    "    current = current.next\n",
    "    "
   ]
  },
  {
   "cell_type": "markdown",
   "id": "245dd97d-9f67-412d-96c2-a610f0220567",
   "metadata": {},
   "source": [
    "### Adding size and is_empty and other functions/ methods"
   ]
  },
  {
   "cell_type": "code",
   "execution_count": 1,
   "id": "b324e240-2300-4094-bb49-bd87cd006fbd",
   "metadata": {},
   "outputs": [],
   "source": [
    "class Node:\n",
    "    def __init__(self,value):\n",
    "        self.value = value\n",
    "        self.next = None\n",
    "\n",
    "class Stack:  \n",
    "    def __init__(self):\n",
    "        self.head = None\n",
    "        self.num_elements = 0\n",
    "\n",
    "    def push(self,value):\n",
    "        new_node = Node(value)\n",
    "        if self.head is None:\n",
    "            self.head = new_node\n",
    "\n",
    "        else:\n",
    "            new_node.next = self.head\n",
    "            self.head = new_node\n",
    "        self.num_elements +=1\n",
    "\n",
    "    def pop(self):\n",
    "        if self.head is None:\n",
    "            return None\n",
    "\n",
    "        current = self.head\n",
    "        self.head = current.next\n",
    "        self.num_elements -= 1\n",
    "\n",
    "        return current.value\n",
    "\n",
    "    def size(self):\n",
    "        return self.num_elements\n",
    "\n",
    "    def is_empty(self):\n",
    "        if self.num_elements == 0:\n",
    "            return True\n",
    "        return False\n",
    "\n",
    "stack = Stack()"
   ]
  },
  {
   "cell_type": "code",
   "execution_count": 2,
   "id": "453ca292-3877-43fb-962b-d6d9f7d9ea92",
   "metadata": {},
   "outputs": [
    {
     "data": {
      "text/plain": [
       "True"
      ]
     },
     "execution_count": 2,
     "metadata": {},
     "output_type": "execute_result"
    }
   ],
   "source": [
    "stack.is_empty()"
   ]
  },
  {
   "cell_type": "code",
   "execution_count": 3,
   "id": "642db576-3bf1-4461-ae73-05d4fc47a3b5",
   "metadata": {},
   "outputs": [
    {
     "data": {
      "text/plain": [
       "0"
      ]
     },
     "execution_count": 3,
     "metadata": {},
     "output_type": "execute_result"
    }
   ],
   "source": [
    "stack.size()"
   ]
  },
  {
   "cell_type": "code",
   "execution_count": 4,
   "id": "d37dbf10-b1a2-47de-9705-bcb6c629790e",
   "metadata": {},
   "outputs": [
    {
     "name": "stdout",
     "output_type": "stream",
     "text": [
      "False\n",
      "2\n"
     ]
    }
   ],
   "source": [
    "stack.push(4)\n",
    "stack.push(3)\n",
    "print(stack.is_empty())\n",
    "print(stack.size())"
   ]
  },
  {
   "cell_type": "code",
   "execution_count": 7,
   "id": "37dc021a-cc23-4f10-ac28-6789c6b1972f",
   "metadata": {},
   "outputs": [
    {
     "data": {
      "text/plain": [
       "3"
      ]
     },
     "execution_count": 7,
     "metadata": {},
     "output_type": "execute_result"
    }
   ],
   "source": [
    "stack.pop()"
   ]
  },
  {
   "cell_type": "code",
   "execution_count": 8,
   "id": "33fd21a0-1a9d-466d-b802-61e79e761f96",
   "metadata": {},
   "outputs": [
    {
     "name": "stdout",
     "output_type": "stream",
     "text": [
      "1\n"
     ]
    }
   ],
   "source": [
    "print(stack.size())"
   ]
  },
  {
   "cell_type": "code",
   "execution_count": 10,
   "id": "c3894f7c-05ec-47b2-8c53-db928828bd82",
   "metadata": {},
   "outputs": [
    {
     "data": {
      "text/plain": [
       "9"
      ]
     },
     "execution_count": 10,
     "metadata": {},
     "output_type": "execute_result"
    }
   ],
   "source": [
    "str = '((3^2 + 8)*(5/2))/(2+6)'\n",
    "\n",
    "count = 0\n",
    "for i in str:\n",
    "    if i == '(':\n",
    "        count += 1\n",
    "    if i == ')':\n",
    "        count += 1\n",
    "\n",
    "count"
   ]
  },
  {
   "cell_type": "code",
   "execution_count": 20,
   "id": "3f957f64-33d5-460a-934f-b89867ad205b",
   "metadata": {},
   "outputs": [],
   "source": [
    "class Stack:\n",
    "    def __init__(self):\n",
    "        self.items = []\n",
    "\n",
    "    def size(self):\n",
    "        return len(self.items)\n",
    "\n",
    "    def push(self, item):\n",
    "        self.items.append(item)\n",
    "\n",
    "    def pop(self):\n",
    "        if self.size()==0:\n",
    "            return None\n",
    "        else:\n",
    "            return self.items.pop()\n",
    "\n",
    "\n",
    "def equation_checker(equation):\n",
    "\n",
    "    stack = Stack()\n",
    "    for char in equation:\n",
    "        if char == '(':\n",
    "            stack.push(char)\n",
    "        if char == ')':\n",
    "            if stack.pop() is None:\n",
    "                return False\n",
    "                \n",
    "    if stack.size() == 0:\n",
    "        return True\n",
    "    return False"
   ]
  },
  {
   "cell_type": "code",
   "execution_count": 21,
   "id": "40af9851-d32a-4e11-b6e1-41457507e29c",
   "metadata": {},
   "outputs": [
    {
     "data": {
      "text/plain": [
       "False"
      ]
     },
     "execution_count": 21,
     "metadata": {},
     "output_type": "execute_result"
    }
   ],
   "source": [
    "equation_checker('((3^2 + 8)*(5/2))/(2+6))')"
   ]
  },
  {
   "cell_type": "code",
   "execution_count": 35,
   "id": "f5149faa-5d3d-413a-bbea-534708c0c160",
   "metadata": {},
   "outputs": [
    {
     "ename": "AttributeError",
     "evalue": "'Stack' object has no attribute 'to_list'",
     "output_type": "error",
     "traceback": [
      "\u001b[1;31m---------------------------------------------------------------------------\u001b[0m",
      "\u001b[1;31mAttributeError\u001b[0m                            Traceback (most recent call last)",
      "Cell \u001b[1;32mIn[35], line 78\u001b[0m\n\u001b[0;32m     76\u001b[0m \u001b[38;5;66;03m# Example usage:\u001b[39;00m\n\u001b[0;32m     77\u001b[0m postfix_expression \u001b[38;5;241m=\u001b[39m [\u001b[38;5;124m\"\u001b[39m\u001b[38;5;124m4\u001b[39m\u001b[38;5;124m\"\u001b[39m, \u001b[38;5;124m\"\u001b[39m\u001b[38;5;124m13\u001b[39m\u001b[38;5;124m\"\u001b[39m, \u001b[38;5;124m\"\u001b[39m\u001b[38;5;124m5\u001b[39m\u001b[38;5;124m\"\u001b[39m, \u001b[38;5;124m\"\u001b[39m\u001b[38;5;124m/\u001b[39m\u001b[38;5;124m\"\u001b[39m, \u001b[38;5;124m\"\u001b[39m\u001b[38;5;124m+\u001b[39m\u001b[38;5;124m\"\u001b[39m]\n\u001b[1;32m---> 78\u001b[0m result \u001b[38;5;241m=\u001b[39m evaluate_post_fix(postfix_expression)\n\u001b[0;32m     79\u001b[0m \u001b[38;5;28mprint\u001b[39m(\u001b[38;5;124mf\u001b[39m\u001b[38;5;124m\"\u001b[39m\u001b[38;5;124mResult of postfix expression \u001b[39m\u001b[38;5;132;01m{\u001b[39;00mpostfix_expression\u001b[38;5;132;01m}\u001b[39;00m\u001b[38;5;124m: \u001b[39m\u001b[38;5;132;01m{\u001b[39;00mresult\u001b[38;5;132;01m}\u001b[39;00m\u001b[38;5;124m\"\u001b[39m)\n",
      "Cell \u001b[1;32mIn[35], line 42\u001b[0m, in \u001b[0;36mevaluate_post_fix\u001b[1;34m(input_list)\u001b[0m\n\u001b[0;32m     40\u001b[0m stack \u001b[38;5;241m=\u001b[39m Stack()\n\u001b[0;32m     41\u001b[0m \u001b[38;5;28;01mfor\u001b[39;00m element \u001b[38;5;129;01min\u001b[39;00m input_list:\n\u001b[1;32m---> 42\u001b[0m     \u001b[38;5;28mprint\u001b[39m(\u001b[38;5;124mf\u001b[39m\u001b[38;5;124m\"\u001b[39m\u001b[38;5;124mProcessing element: \u001b[39m\u001b[38;5;132;01m{\u001b[39;00melement\u001b[38;5;132;01m}\u001b[39;00m\u001b[38;5;124m, Stack: \u001b[39m\u001b[38;5;132;01m{\u001b[39;00m[node\u001b[38;5;241m.\u001b[39mdata\u001b[38;5;250m \u001b[39m\u001b[38;5;28;01mfor\u001b[39;00m\u001b[38;5;250m \u001b[39mnode\u001b[38;5;250m \u001b[39m\u001b[38;5;129;01min\u001b[39;00m\u001b[38;5;250m \u001b[39mstack\u001b[38;5;241m.\u001b[39mto_list()]\u001b[38;5;132;01m}\u001b[39;00m\u001b[38;5;124m\"\u001b[39m)\n\u001b[0;32m     44\u001b[0m     \u001b[38;5;28;01mif\u001b[39;00m element \u001b[38;5;241m==\u001b[39m \u001b[38;5;124m'\u001b[39m\u001b[38;5;124m*\u001b[39m\u001b[38;5;124m'\u001b[39m:\n\u001b[0;32m     45\u001b[0m         second \u001b[38;5;241m=\u001b[39m stack\u001b[38;5;241m.\u001b[39mpop()\n",
      "\u001b[1;31mAttributeError\u001b[0m: 'Stack' object has no attribute 'to_list'"
     ]
    }
   ],
   "source": [
    "class Stack:\n",
    "    def __init__(self):\n",
    "        self.items = []\n",
    "\n",
    "    def size(self):\n",
    "        return len(self.items)\n",
    "\n",
    "    def push(self, item):\n",
    "        self.items.append(item)\n",
    "\n",
    "    def pop(self):\n",
    "        if self.size() == 0:\n",
    "            return None\n",
    "        else:\n",
    "            return self.items.pop()\n",
    "\n",
    "\n",
    "def equation_checker(equation):\n",
    "    stack = Stack()\n",
    "    for char in equation:\n",
    "        print(f\"Current Character: {char}\")\n",
    "        print(f\"Stack Before Operation: {stack.items}\")\n",
    "\n",
    "        if char == '(':\n",
    "            stack.push(char)\n",
    "            print(f\"Pushed {char} onto the stack.\")\n",
    "        if char == ')':\n",
    "            if stack.pop() is None:\n",
    "                print(\"Unbalanced equation! No matching opening parenthesis.\")\n",
    "                return False\n",
    "            print(f\"Popped from the stack.\")\n",
    "\n",
    "        print(f\"Stack After Operation: {stack.items}\")\n",
    "        print(\"---------------------\")\n",
    "\n",
    "    if stack.size() == 0:\n",
    "        print(\"Balanced equation! All opening parentheses matched with closing parentheses.\")\n",
    "        return True\n",
    "    else:\n",
    "        print(\"Unbalanced equation! There are unmatched opening parentheses.\")\n",
    "        return False\n"
   ]
  },
  {
   "cell_type": "code",
   "execution_count": 19,
   "id": "014171db-266b-4877-9125-1570bfc1d403",
   "metadata": {},
   "outputs": [
    {
     "name": "stdout",
     "output_type": "stream",
     "text": [
      "Current Character: (\n",
      "Stack Before Operation: []\n",
      "Pushed ( onto the stack.\n",
      "Stack After Operation: ['(']\n",
      "---------------------\n",
      "Current Character: (\n",
      "Stack Before Operation: ['(']\n",
      "Pushed ( onto the stack.\n",
      "Stack After Operation: ['(', '(']\n",
      "---------------------\n",
      "Current Character: 3\n",
      "Stack Before Operation: ['(', '(']\n",
      "Stack After Operation: ['(', '(']\n",
      "---------------------\n",
      "Current Character: ^\n",
      "Stack Before Operation: ['(', '(']\n",
      "Stack After Operation: ['(', '(']\n",
      "---------------------\n",
      "Current Character: 2\n",
      "Stack Before Operation: ['(', '(']\n",
      "Stack After Operation: ['(', '(']\n",
      "---------------------\n",
      "Current Character:  \n",
      "Stack Before Operation: ['(', '(']\n",
      "Stack After Operation: ['(', '(']\n",
      "---------------------\n",
      "Current Character: +\n",
      "Stack Before Operation: ['(', '(']\n",
      "Stack After Operation: ['(', '(']\n",
      "---------------------\n",
      "Current Character:  \n",
      "Stack Before Operation: ['(', '(']\n",
      "Stack After Operation: ['(', '(']\n",
      "---------------------\n",
      "Current Character: 8\n",
      "Stack Before Operation: ['(', '(']\n",
      "Stack After Operation: ['(', '(']\n",
      "---------------------\n",
      "Current Character: )\n",
      "Stack Before Operation: ['(', '(']\n",
      "Popped from the stack.\n",
      "Stack After Operation: ['(']\n",
      "---------------------\n",
      "Current Character: *\n",
      "Stack Before Operation: ['(']\n",
      "Stack After Operation: ['(']\n",
      "---------------------\n",
      "Current Character: (\n",
      "Stack Before Operation: ['(']\n",
      "Pushed ( onto the stack.\n",
      "Stack After Operation: ['(', '(']\n",
      "---------------------\n",
      "Current Character: 5\n",
      "Stack Before Operation: ['(', '(']\n",
      "Stack After Operation: ['(', '(']\n",
      "---------------------\n",
      "Current Character: /\n",
      "Stack Before Operation: ['(', '(']\n",
      "Stack After Operation: ['(', '(']\n",
      "---------------------\n",
      "Current Character: 2\n",
      "Stack Before Operation: ['(', '(']\n",
      "Stack After Operation: ['(', '(']\n",
      "---------------------\n",
      "Current Character: )\n",
      "Stack Before Operation: ['(', '(']\n",
      "Popped from the stack.\n",
      "Stack After Operation: ['(']\n",
      "---------------------\n",
      "Current Character: )\n",
      "Stack Before Operation: ['(']\n",
      "Popped from the stack.\n",
      "Stack After Operation: []\n",
      "---------------------\n",
      "Current Character: /\n",
      "Stack Before Operation: []\n",
      "Stack After Operation: []\n",
      "---------------------\n",
      "Current Character: (\n",
      "Stack Before Operation: []\n",
      "Pushed ( onto the stack.\n",
      "Stack After Operation: ['(']\n",
      "---------------------\n",
      "Current Character: 2\n",
      "Stack Before Operation: ['(']\n",
      "Stack After Operation: ['(']\n",
      "---------------------\n",
      "Current Character: +\n",
      "Stack Before Operation: ['(']\n",
      "Stack After Operation: ['(']\n",
      "---------------------\n",
      "Current Character: 6\n",
      "Stack Before Operation: ['(']\n",
      "Stack After Operation: ['(']\n",
      "---------------------\n",
      "Current Character: )\n",
      "Stack Before Operation: ['(']\n",
      "Popped from the stack.\n",
      "Stack After Operation: []\n",
      "---------------------\n",
      "Current Character: )\n",
      "Stack Before Operation: []\n",
      "Unbalanced equation! No matching opening parenthesis.\n"
     ]
    },
    {
     "data": {
      "text/plain": [
       "False"
      ]
     },
     "execution_count": 19,
     "metadata": {},
     "output_type": "execute_result"
    }
   ],
   "source": [
    "equation_checker('((3^2 + 8)*(5/2))/(2+6))')"
   ]
  },
  {
   "cell_type": "code",
   "execution_count": 16,
   "id": "483317fa-2484-4630-9a85-85ae921ddaf4",
   "metadata": {},
   "outputs": [],
   "source": [
    "class LinkedListNode:\n",
    "\n",
    "    def __init__(self, data):\n",
    "        self.data = data\n",
    "        self.next = None\n",
    "\n",
    "class Stack:\n",
    "\n",
    "    def __init__(self):\n",
    "        self.num_elements = 0\n",
    "        self.head = None\n",
    "\n",
    "    def push(self, data):\n",
    "        new_node = LinkedListNode(data)\n",
    "        if self.head is None:\n",
    "            self.head = new_node\n",
    "        else:\n",
    "            new_node.next = self.head\n",
    "            self.head = new_node\n",
    "        self.num_elements += 1\n",
    "\n",
    "    def pop(self):\n",
    "        if self.is_empty():\n",
    "            return None\n",
    "        temp = self.head.data\n",
    "        self.head = self.head.next\n",
    "        self.num_elements -= 1\n",
    "        return temp\n",
    "\n",
    "    def top(self):\n",
    "        if self.head is None:\n",
    "            return None\n",
    "        return self.head.data\n",
    "\n",
    "    def size(self):\n",
    "        return self.num_elements\n",
    "\n",
    "    def is_empty(self):\n",
    "        return self.num_elements == 0\n"
   ]
  },
  {
   "cell_type": "code",
   "execution_count": 21,
   "id": "0527f20a-ab89-4a34-be66-eab59a626737",
   "metadata": {},
   "outputs": [
    {
     "name": "stdout",
     "output_type": "stream",
     "text": [
      "Processing element: 4, Stack: []\n",
      "Pushing number 4 onto the stack, Stack: [4]\n",
      "Processing element: 13, Stack: [4]\n",
      "Pushing number 13 onto the stack, Stack: [13]\n",
      "Processing element: 5, Stack: [13]\n",
      "Pushing number 5 onto the stack, Stack: [5]\n",
      "Processing element: /, Stack: [5]\n",
      "Division: 13 / 5 = 2, Stack after division: [2]\n",
      "Processing element: +, Stack: [2]\n",
      "Addition: 4 + 2 = 6, Stack after addition: [6]\n",
      "Final result: 6\n",
      "Result of postfix expression ['4', '13', '5', '/', '+']: 6\n"
     ]
    }
   ],
   "source": [
    "def evaluate_post_fix(input_list):\n",
    "    stack = Stack()\n",
    "    for element in input_list:\n",
    "        print(f\"Processing element: {element}, Stack: {[node.data for node in (stack.head,) if node is not None]}\")\n",
    "\n",
    "        if element == '*':\n",
    "            second = stack.pop()\n",
    "            first = stack.pop()\n",
    "            output = first * second\n",
    "            stack.push(output)\n",
    "            print(f\"Multiplication: {first} * {second} = {output}, Stack after multiplication: {[node.data for node in (stack.head,) if node is not None]}\")\n",
    "        elif element == '/':\n",
    "            second = stack.pop()\n",
    "            first = stack.pop()\n",
    "            output = int(first / second)\n",
    "            stack.push(output)\n",
    "            print(f\"Division: {first} / {second} = {output}, Stack after division: {[node.data for node in (stack.head,) if node is not None]}\")\n",
    "        elif element == '+':\n",
    "            second = stack.pop()\n",
    "            first = stack.pop()\n",
    "            output = first + second\n",
    "            stack.push(output)\n",
    "            print(f\"Addition: {first} + {second} = {output}, Stack after addition: {[node.data for node in (stack.head,) if node is not None]}\")\n",
    "        elif element == '-':\n",
    "            second = stack.pop()\n",
    "            first = stack.pop()\n",
    "            output = first - second\n",
    "            stack.push(output)\n",
    "            print(f\"Subtraction: {first} - {second} = {output}, Stack after subtraction: {[node.data for node in (stack.head,) if node is not None]}\")\n",
    "        else:\n",
    "            stack.push(int(element))\n",
    "            print(f\"Pushing number {element} onto the stack, Stack: {[node.data for node in (stack.head,) if node is not None]}\")\n",
    "\n",
    "    result = stack.pop()\n",
    "    print(f\"Final result: {result}\")\n",
    "    return result\n",
    "\n",
    "# Example usage:\n",
    "postfix_expression = [\"4\", \"13\", \"5\", \"/\", \"+\"]\n",
    "result = evaluate_post_fix(postfix_expression)\n",
    "print(f\"Result of postfix expression {postfix_expression}: {result}\")"
   ]
  },
  {
   "cell_type": "markdown",
   "id": "2cc9c4a5-0dc1-49d1-8361-f7bc1ab24d8f",
   "metadata": {},
   "source": [
    "try on your own "
   ]
  },
  {
   "cell_type": "code",
   "execution_count": 22,
   "id": "c12d8b22-2a3f-4b95-a92b-3f3a14a044c0",
   "metadata": {},
   "outputs": [],
   "source": [
    "def evaluate_post_fix(input_list):\n",
    "    if len(input_list) < 3:\n",
    "        return 'Invalid'\n",
    "\n",
    "    stack = Stack()\n",
    "    for element in input_list:\n",
    "        if element == '+':\n",
    "            second = stack.pop()\n",
    "            first = stack.pop()\n",
    "            result = int(second) + int(first)\n",
    "            stack.push(result)\n",
    "        elif element == '*':\n",
    "            second = stack.pop()\n",
    "            first = stack.pop()\n",
    "            result = int(second) * int(first)\n",
    "            stack.push(result)\n",
    "        elif element == '/':\n",
    "            second = stack.pop()\n",
    "            first = stack.pop()\n",
    "            result = int(first) / int(second)\n",
    "            stack.push(result)\n",
    "        elif element == '-':\n",
    "            second = stack.pop()\n",
    "            first = stack.pop()\n",
    "            result = int(second) - int(first)\n",
    "            stack.push(result)\n",
    "        else:\n",
    "            stack.push(int(element))\n",
    "\n",
    "    return stack.top()\n"
   ]
  },
  {
   "cell_type": "code",
   "execution_count": 23,
   "id": "66573fbd-66b4-43e3-bb9f-35e2857e372b",
   "metadata": {},
   "outputs": [
    {
     "data": {
      "text/plain": [
       "6"
      ]
     },
     "execution_count": 23,
     "metadata": {},
     "output_type": "execute_result"
    }
   ],
   "source": [
    "postfix_expression = [\"4\", \"13\", \"5\", \"/\", \"+\"]\n",
    "result = evaluate_post_fix(postfix_expression)\n",
    "result"
   ]
  },
  {
   "cell_type": "markdown",
   "id": "9ed3b2e7-a4c3-4ce5-bc03-26719820d41d",
   "metadata": {},
   "source": [
    "### Reversing a stack"
   ]
  },
  {
   "cell_type": "code",
   "execution_count": 7,
   "id": "3fade851-dbcb-453e-81b6-f92b57e3ffea",
   "metadata": {},
   "outputs": [],
   "source": [
    "class LinkedListNode:\n",
    "\n",
    "    def __init__(self, data):\n",
    "        self.data = data\n",
    "        self.next = None\n",
    "\n",
    "class Stack:\n",
    "\n",
    "    def __init__(self):\n",
    "        self.num_elements = 0\n",
    "        self.head = None\n",
    "\n",
    "    def push(self, data):\n",
    "        new_node = LinkedListNode(data)\n",
    "        if self.head is None:\n",
    "            self.head = new_node\n",
    "        else:\n",
    "            new_node.next = self.head\n",
    "            self.head = new_node\n",
    "        self.num_elements += 1\n",
    "\n",
    "    def pop(self):\n",
    "        if self.is_empty():\n",
    "            return None\n",
    "        temp = self.head.data\n",
    "        self.head = self.head.next\n",
    "        self.num_elements -= 1\n",
    "        return temp\n",
    "\n",
    "    def top(self):\n",
    "        if self.head is None:\n",
    "            return None\n",
    "        return self.head.data\n",
    "\n",
    "    def size(self):\n",
    "        return self.num_elements\n",
    "\n",
    "    def is_empty(self):\n",
    "        return self.num_elements == 0\n",
    "\n",
    "stack = Stack()"
   ]
  },
  {
   "cell_type": "code",
   "execution_count": 8,
   "id": "9943d896-8faa-417f-8653-0c7b6460eba7",
   "metadata": {},
   "outputs": [],
   "source": [
    "stack.push(3)\n",
    "stack.push(2)\n",
    "stack.push(1)"
   ]
  },
  {
   "cell_type": "code",
   "execution_count": 9,
   "id": "edb01dd7-3f9b-4884-bfa8-f4f6e6fdeb53",
   "metadata": {},
   "outputs": [],
   "source": [
    "def reverse_stack(stack):\n",
    "    if stack.head is None:\n",
    "        return None\n",
    "    current = stack.head\n",
    "    prev = None\n",
    "\n",
    "    while current:\n",
    "        next_node = current.next\n",
    "        current.next = prev\n",
    "        prev = current\n",
    "        current = next_node\n",
    "        \n",
    "    stack.head = prev\n",
    "    return stack.head\n",
    "    "
   ]
  },
  {
   "cell_type": "code",
   "execution_count": 10,
   "id": "83959f72-6dd1-48e6-81f2-25b7407621d9",
   "metadata": {},
   "outputs": [
    {
     "name": "stdout",
     "output_type": "stream",
     "text": [
      "3\n",
      "2\n",
      "1\n"
     ]
    }
   ],
   "source": [
    "current = reverse_stack(stack)\n",
    "\n",
    "while current:\n",
    "    print(current.data)\n",
    "    current = current.next "
   ]
  },
  {
   "cell_type": "markdown",
   "id": "448744a1-1180-4084-a8bb-1b8efdb3418a",
   "metadata": {},
   "source": [
    "another way"
   ]
  },
  {
   "cell_type": "code",
   "execution_count": null,
   "id": "afc1b0e1-f77e-4dde-84c6-1a52af5c6f68",
   "metadata": {},
   "outputs": [],
   "source": [
    "def reverse_stack(stack):\n",
    "    holder_stack = Stack()\n",
    "    while not stack.is_empty():\n",
    "        popped_element = stack.pop()\n",
    "        holder_stack.push(popped_element)\n",
    "    _reverse_stack_recursion(stack, holder_stack)\n",
    "\n",
    "\n",
    "def _reverse_stack_recursion(stack, holder_stack):\n",
    "    if holder_stack.is_empty():\n",
    "        return\n",
    "    popped_element = holder_stack.pop()\n",
    "    _reverse_stack_recursion(stack, holder_stack)\n",
    "    stack.push(popped_element)\n"
   ]
  },
  {
   "cell_type": "markdown",
   "id": "7172f17a-4ba5-4780-b942-f177773e818e",
   "metadata": {},
   "source": [
    "### Problem Statement\n",
    "\n",
    "Given an input string consisting of only `{` and `}`, figure out the minimum number of reversals required to make the brackets balanced.\n",
    "\n",
    "For example:\n",
    "* For `input_string = \"}}}}`, the number of reversals required is `2`.\n",
    "\n",
    "\n",
    "* For `input_string = \"}{}}`, the number of reversals required is `1`.\n",
    "\n",
    "\n",
    "If the brackets cannot be balanced, return `-1` to indicate that it is not possible to balance them."
   ]
  },
  {
   "cell_type": "code",
   "execution_count": 1,
   "id": "cb6e6887-c165-46db-a8b1-2d4ce34ced67",
   "metadata": {},
   "outputs": [],
   "source": [
    "class Node:\n",
    "    def __init__(self,value):\n",
    "        self.value = value\n",
    "        self.next = None\n",
    "\n",
    "class Stack:\n",
    "    def __init__(self):\n",
    "        self.head = None\n",
    "        self.num_element = 0\n",
    "\n",
    "    def push(self,value):\n",
    "        new_node = Node(value)\n",
    "        if self.head is None:\n",
    "            self.head =  new_node\n",
    "        else:\n",
    "            new_node.next = self.head\n",
    "            self.head = new_node\n",
    "        self.num_element += 1\n",
    "\n",
    "    def pop(self):\n",
    "        if self.head is None:\n",
    "            return None\n",
    "        current = self.head\n",
    "        self.head = current.next\n",
    "        self.num_element -= 1\n",
    "\n",
    "        return current.value\n",
    "\n",
    "    def top(self):\n",
    "        if self.head is None:\n",
    "            return None\n",
    "        return self.head.value\n",
    "\n",
    "    def size(self):\n",
    "        return self.num_element\n",
    "\n",
    "    def is_empty(self):\n",
    "        return self.num_element == 0"
   ]
  },
  {
   "cell_type": "code",
   "execution_count": 1,
   "id": "e4571319-d234-48f4-bcbf-3fc18becf0b6",
   "metadata": {},
   "outputs": [],
   "source": [
    "class LinkedListNode:\n",
    "\n",
    "    def __init__(self, data):\n",
    "        self.data = data\n",
    "        self.next = None\n",
    "\n",
    "class Stack:\n",
    "\n",
    "    def __init__(self):\n",
    "        self.num_elements = 0\n",
    "        self.head = None\n",
    "\n",
    "    def push(self, data):\n",
    "        new_node = LinkedListNode(data)\n",
    "        if self.head is None:\n",
    "            self.head = new_node\n",
    "        else:\n",
    "            new_node.next = self.head\n",
    "            self.head = new_node\n",
    "        self.num_elements += 1\n",
    "\n",
    "    def pop(self):\n",
    "        if self.is_empty():\n",
    "            return None\n",
    "        temp = self.head.data\n",
    "        self.head = self.head.next\n",
    "        self.num_elements -= 1\n",
    "        return temp\n",
    "\n",
    "    def top(self):\n",
    "        if self.head is None:\n",
    "            return None\n",
    "        return self.head.data\n",
    "\n",
    "    def size(self):\n",
    "        return self.num_elements\n",
    "\n",
    "    def is_empty(self):\n",
    "        return self.num_elements == 0\n"
   ]
  },
  {
   "cell_type": "code",
   "execution_count": 2,
   "id": "c9787f19-c9d9-4164-897d-1a3ede31c9d1",
   "metadata": {},
   "outputs": [
    {
     "data": {
      "text/plain": [
       "2"
      ]
     },
     "execution_count": 2,
     "metadata": {},
     "output_type": "execute_result"
    }
   ],
   "source": [
    "def minimum_bracket_reversals(input_string):\n",
    "    \"\"\"\n",
    "    Calculate the number of reversals to fix the brackets\n",
    "\n",
    "    Args:\n",
    "       input_string(string): Strings to be used for bracket reversal calculation\n",
    "    Returns:\n",
    "       int: Number of breacket reversals needed\n",
    "    \"\"\"\n",
    "    \n",
    "    # TODO: Write function here\n",
    "    if len(input_string) % 2 == 1:\n",
    "        return -1\n",
    "    \n",
    "    stack = Stack()\n",
    "    for bracket in input_string:\n",
    "        if bracket == '{':\n",
    "            stack.push(bracket)\n",
    "        elif bracket == '}':\n",
    "            if not stack.is_empty() and stack.top() == '{':\n",
    "                stack.pop()\n",
    "                continue\n",
    "            else:\n",
    "                stack.push(bracket)\n",
    "    size_of = stack.size()\n",
    "    \n",
    "    if size_of % 2 == 0:\n",
    "        return size_of // 2\n",
    "    else:\n",
    "        return -1\n",
    "\n",
    "\n",
    "b = \"}}}}{}\"\n",
    "minimum_bracket_reversals(b)"
   ]
  },
  {
   "cell_type": "code",
   "execution_count": 19,
   "id": "45ed584d-53bb-4d68-8c7f-1c4b86ffbecb",
   "metadata": {},
   "outputs": [
    {
     "data": {
      "text/plain": [
       "3"
      ]
     },
     "execution_count": 19,
     "metadata": {},
     "output_type": "execute_result"
    }
   ],
   "source": [
    "b = \"}}}}{}}}\"\n",
    "count = 0\n",
    "for bracket in :\n",
    "    if b[bracket] == '}' and b[bracket + 1] == '}':\n",
    "        count += 1\n",
    "    if b[bracket] == '{' and b[bracket + 1] == '{':\n",
    "        count += 1\n",
    "\n",
    "count"
   ]
  },
  {
   "cell_type": "code",
   "execution_count": 13,
   "id": "75529596-9e52-4cfe-83d5-6bb2cfde8e59",
   "metadata": {},
   "outputs": [
    {
     "name": "stdout",
     "output_type": "stream",
     "text": [
      "Pushed } onto the stack, Stack: ['}']\n",
      "Current character: }, Stack: ['}'], Unpaired brackets: 1\n",
      "Pushed } onto the stack, Stack: ['}', '}']\n",
      "Current character: }, Stack: ['}', '}'], Unpaired brackets: 2\n",
      "Pushed { onto the stack, Stack: ['{', '}', '}']\n",
      "Current character: {, Stack: ['{', '}', '}'], Unpaired brackets: 3\n",
      "Popped { from the stack, Stack: ['}', '}']\n",
      "Pushed { onto the stack, Stack: ['{', '}', '}']\n",
      "Current character: {, Stack: ['{', '}', '}'], Unpaired brackets: 3\n",
      "Popped { from the stack, Stack: ['}', '}']\n",
      "Pushed { onto the stack, Stack: ['{', '}', '}']\n",
      "Current character: {, Stack: ['{', '}', '}'], Unpaired brackets: 3\n",
      "Popped { from the stack, Stack: ['}', '}']\n",
      "Pushed { onto the stack, Stack: ['{', '}', '}']\n",
      "Current character: {, Stack: ['{', '}', '}'], Unpaired brackets: 3\n",
      "Popped { from the stack, Stack: ['}', '}']\n",
      "Pushed { onto the stack, Stack: ['{', '}', '}']\n",
      "Current character: {, Stack: ['{', '}', '}'], Unpaired brackets: 3\n",
      "Popped { from the stack, Stack: ['}', '}']\n",
      "Pushed { onto the stack, Stack: ['{', '}', '}']\n",
      "Current character: {, Stack: ['{', '}', '}'], Unpaired brackets: 3\n",
      "Popped { from the stack, Stack: ['}', '}']\n",
      "Pushed { onto the stack, Stack: ['{', '}', '}']\n",
      "Current character: {, Stack: ['{', '}', '}'], Unpaired brackets: 3\n",
      "Popped { from the stack, Stack: ['}', '}']\n",
      "Pushed { onto the stack, Stack: ['{', '}', '}']\n",
      "Current character: {, Stack: ['{', '}', '}'], Unpaired brackets: 3\n",
      "Popped { from the stack, Stack: ['}', '}']\n",
      "Pushed { onto the stack, Stack: ['{', '}', '}']\n",
      "Current character: {, Stack: ['{', '}', '}'], Unpaired brackets: 3\n",
      "Popped { from the stack, Stack: ['}', '}']\n",
      "Pushed { onto the stack, Stack: ['{', '}', '}']\n",
      "Current character: {, Stack: ['{', '}', '}'], Unpaired brackets: 3\n",
      "Popped { from the stack, Stack: ['}', '}']\n",
      "Pushed { onto the stack, Stack: ['{', '}', '}']\n",
      "Current character: {, Stack: ['{', '}', '}'], Unpaired brackets: 3\n",
      "Popped { from the stack, Stack: ['}', '}']\n",
      "Pushed { onto the stack, Stack: ['{', '}', '}']\n",
      "Current character: {, Stack: ['{', '}', '}'], Unpaired brackets: 3\n",
      "Popped { from the stack, Stack: ['}', '}']\n",
      "Pushed { onto the stack, Stack: ['{', '}', '}']\n",
      "Current character: {, Stack: ['{', '}', '}'], Unpaired brackets: 3\n",
      "Popped { from the stack, Stack: ['}', '}']\n",
      "Pushed { onto the stack, Stack: ['{', '}', '}']\n",
      "Current character: {, Stack: ['{', '}', '}'], Unpaired brackets: 3\n",
      "Popped { from the stack, Stack: ['}', '}']\n",
      "1\n"
     ]
    }
   ],
   "source": [
    "class Node:\n",
    "    def __init__(self, value):\n",
    "        self.value = value\n",
    "        self.next = None\n",
    "\n",
    "class Stack:\n",
    "    def __init__(self):\n",
    "        self.head = None\n",
    "        self.num_element = 0\n",
    "\n",
    "    def push(self, value):\n",
    "        new_node = Node(value)\n",
    "        if self.head is None:\n",
    "            self.head = new_node\n",
    "        else:\n",
    "            new_node.next = self.head\n",
    "            self.head = new_node\n",
    "        self.num_element += 1\n",
    "        print(f\"Pushed {value} onto the stack, Stack: {[node.value for node in self.to_list()]}\")\n",
    "\n",
    "    def pop(self):\n",
    "        if self.head is None:\n",
    "            return None\n",
    "        current = self.head\n",
    "        self.head = current.next\n",
    "        self.num_element -= 1\n",
    "        print(f\"Popped {current.value} from the stack, Stack: {[node.value for node in self.to_list()]}\")\n",
    "        return current.value\n",
    "\n",
    "    def top(self):\n",
    "        if self.head is None:\n",
    "            return None\n",
    "        return self.head.value\n",
    "\n",
    "    def size(self):\n",
    "        return self.num_element\n",
    "\n",
    "    def is_empty(self):\n",
    "        return self.num_element == 0\n",
    "\n",
    "    def to_list(self):\n",
    "        current = self.head\n",
    "        result = []\n",
    "        while current:\n",
    "            result.append(current)\n",
    "            current = current.next\n",
    "        return result\n",
    "\n",
    "def minimum_bracket_reversals(input_string):\n",
    "    if len(input_string) % 2 != 0:\n",
    "        # If the length of the input string is odd, it's impossible to balance the brackets\n",
    "        return -1\n",
    "\n",
    "    stack = Stack()\n",
    "\n",
    "    for char in input_string:\n",
    "        if char == '{':\n",
    "            stack.push(char)\n",
    "        elif char == '}':\n",
    "            if not stack.is_empty() and stack.top() == '{':\n",
    "                stack.pop()\n",
    "                continue\n",
    "            else:\n",
    "                stack.push(char)\n",
    "\n",
    "        print(f\"Current character: {char}, Stack: {[node.value for node in stack.to_list()]}, \"\n",
    "              f\"Unpaired brackets: {stack.size()}\")\n",
    "\n",
    "    # The remaining brackets in the stack are unpaired\n",
    "    unpaired_brackets = stack.size()\n",
    "\n",
    "    # Calculate the minimum number of reversals needed\n",
    "    if unpaired_brackets % 2 == 0:\n",
    "        return unpaired_brackets // 2\n",
    "    else:\n",
    "        # If the number of unpaired brackets is odd, it's impossible to balance them\n",
    "        return -1\n",
    "\n",
    "# Example usage:\n",
    "input_string1 = \"}}}}\"\n",
    "input_string2 = \"}}{}{}{}{}{}{}{}{}{}{}{}{}{}{}\"\n",
    "#print(minimum_bracket_reversals(input_string1))  # Output: 2\n",
    "print(minimum_bracket_reversals(input_string2))  # Output: 1\n"
   ]
  },
  {
   "cell_type": "code",
   "execution_count": null,
   "id": "72b52e17-105b-4616-b63c-c21770dab55c",
   "metadata": {},
   "outputs": [],
   "source": []
  },
  {
   "cell_type": "code",
   "execution_count": null,
   "id": "2d6a134c-6ac3-4c3c-8c7f-80e667a2771b",
   "metadata": {},
   "outputs": [],
   "source": []
  },
  {
   "cell_type": "code",
   "execution_count": null,
   "id": "2a4e73e8-1391-4565-a88f-021ed8024638",
   "metadata": {},
   "outputs": [],
   "source": []
  },
  {
   "cell_type": "code",
   "execution_count": null,
   "id": "a6bf24cf-8304-415f-83fb-27d4261f1b40",
   "metadata": {},
   "outputs": [],
   "source": []
  },
  {
   "cell_type": "code",
   "execution_count": null,
   "id": "840aef39-172b-47dc-8ac1-c4f552fe887b",
   "metadata": {},
   "outputs": [],
   "source": []
  },
  {
   "cell_type": "code",
   "execution_count": null,
   "id": "a83c0edc-1563-4a23-be70-999395dc68ee",
   "metadata": {},
   "outputs": [],
   "source": []
  },
  {
   "cell_type": "code",
   "execution_count": null,
   "id": "4640433e-bd08-4683-9b24-d4801312c18b",
   "metadata": {},
   "outputs": [],
   "source": []
  },
  {
   "cell_type": "code",
   "execution_count": null,
   "id": "b55f6a84-512f-45e1-8a06-a35206b40c58",
   "metadata": {},
   "outputs": [],
   "source": []
  },
  {
   "cell_type": "code",
   "execution_count": null,
   "id": "8e81c0b9-08cd-4a7f-9ce7-120763df6e36",
   "metadata": {},
   "outputs": [],
   "source": []
  },
  {
   "cell_type": "code",
   "execution_count": null,
   "id": "94098feb-d507-4615-b281-08c9f0570ef6",
   "metadata": {},
   "outputs": [],
   "source": []
  }
 ],
 "metadata": {
  "kernelspec": {
   "display_name": "Python 3 (ipykernel)",
   "language": "python",
   "name": "python3"
  },
  "language_info": {
   "codemirror_mode": {
    "name": "ipython",
    "version": 3
   },
   "file_extension": ".py",
   "mimetype": "text/x-python",
   "name": "python",
   "nbconvert_exporter": "python",
   "pygments_lexer": "ipython3",
   "version": "3.11.5"
  }
 },
 "nbformat": 4,
 "nbformat_minor": 5
}
