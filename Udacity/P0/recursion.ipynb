{
 "cells": [
  {
   "cell_type": "markdown",
   "id": "dbf6e45d-802d-4924-80ca-fbaa574614b6",
   "metadata": {},
   "source": [
    "# Recursion\n",
    "## Introduction\n",
    "\n",
    "Recursion is a technique for solving problems where the solution to a particular problem depends on the solution to a smaller instance of the same problem. \n",
    "\n",
    "Consider the problem of calculating $\\mathtt{2^5}$. Let's assume to calculate this, you need to do one multiplication after another. That's $2 * 2 * 2 * 2 * 2$. We know that $2^5 = 2 * 2^4$. If we know the value of $2^4$, we can easily calculate $2^5$.\n",
    "\n",
    "We can use recursion to solve this problem, since the solution to the original problem ($2^n$) depends on the solution to a smaller instance ($2^{n-1}$) of the same problem. The recursive solution is to calculate $2 * 2^{n-1}$ for all n that is greater than 0. If n is 0, return 1. We'll ignore all negative numbers.\n",
    "\n",
    "Let's look at what the recursive steps would be for calculating $2^5$.\n",
    "\n",
    "$2^5 = 2 * 2^4$\n",
    "\n",
    "$2^5 = 2 * 2 * 2^3$\n",
    "\n",
    "$2^5 = 2 * 2 * 2 * 2^2$\n",
    "\n",
    "$2^5 = 2 * 2 * 2 * 2 * 2^1$\n",
    "\n",
    "$2^5 = 2 * 2 * 2 * 2 * 2 * 2^0$\n",
    "\n",
    "$2^5 = 2 * 2 * 2 * 2 * 2 * 1$\n",
    "\n",
    "## Code\n",
    "Let's look at the recursive function `power_of_2`, which calculates $2^n$."
   ]
  },
  {
   "cell_type": "code",
   "execution_count": 3,
   "id": "2b7e3962-3391-4209-bbc7-968d6152c7ab",
   "metadata": {},
   "outputs": [
    {
     "data": {
      "text/plain": [
       "16"
      ]
     },
     "execution_count": 3,
     "metadata": {},
     "output_type": "execute_result"
    }
   ],
   "source": [
    "def power_of_2(n):\n",
    "    if n == 0:\n",
    "        return 1\n",
    "    return 2 * power_of_2(n-1)\n",
    "\n",
    "power_of_2(4)"
   ]
  },
  {
   "cell_type": "code",
   "execution_count": 21,
   "id": "67053d40-a2aa-44f3-af81-f11fca6b73e5",
   "metadata": {},
   "outputs": [],
   "source": [
    "def reverse_string(input_str):\n",
    "    if len(input_str) <= 1:\n",
    "        return input_str\n",
    "    return reverse_string(input_str[1:]) + input_str[0]"
   ]
  },
  {
   "cell_type": "code",
   "execution_count": 22,
   "id": "9d16dbe9-b53d-49b4-b04a-eeb33476ad78",
   "metadata": {},
   "outputs": [
    {
     "data": {
      "text/plain": [
       "'ba'"
      ]
     },
     "execution_count": 22,
     "metadata": {},
     "output_type": "execute_result"
    }
   ],
   "source": [
    "reverse_string('ab')"
   ]
  },
  {
   "cell_type": "markdown",
   "id": "f2f398a9-7ffb-4550-9701-c79a91ff0ba3",
   "metadata": {},
   "source": [
    "#### Note\n",
    "\n",
    "- In recursion the first recursion is not solve and things are solved backwards\n",
    "- so it is where you want the changes that is where you apply recursion "
   ]
  },
  {
   "cell_type": "markdown",
   "id": "116be238-fba0-489d-a23c-7c2f9dd941d5",
   "metadata": {},
   "source": [
    "A **palindrome** is a word that is the reverse of itself—that is, it is the same word when read forwards and backwards.\r\n",
    "\r\n",
    "For example:\r\n",
    "*  \"madam\" is a palindrome\r\n",
    "* \"abba\" is a palindrome\r\n",
    "*  \"cat\" is not\r\n",
    "*  \"a\" is a trivial case of a palindrome\r\n",
    "\r\n",
    "The goal of this exercise is to use recursion to write a function `is_palindrome` that takes a string as input and checks whether that string is a palindrome. (Note that this problem can also be solved with a non-recursive solution, but that's not the point of this exercise.)"
   ]
  },
  {
   "cell_type": "code",
   "execution_count": 39,
   "id": "b0b9cf93-9f9e-4e84-ad5d-7725e9a82c0d",
   "metadata": {},
   "outputs": [],
   "source": [
    "def is_palindrome(input_str):\n",
    "    if len(input_str) <= 1:\n",
    "        return True\n",
    "    if input_str[0] != input_str[-1]:\n",
    "        return False\n",
    "    return is_palindrome(input_str[1:-1])"
   ]
  },
  {
   "cell_type": "code",
   "execution_count": 41,
   "id": "cf60f039-412b-4235-a11e-f4cb8be71ab3",
   "metadata": {},
   "outputs": [
    {
     "data": {
      "text/plain": [
       "False"
      ]
     },
     "execution_count": 41,
     "metadata": {},
     "output_type": "execute_result"
    }
   ],
   "source": [
    "is_palindrome(\"madam\")"
   ]
  },
  {
   "cell_type": "markdown",
   "id": "4e4f8e3c-120e-47f6-ab84-83c03420f35f",
   "metadata": {},
   "source": [
    "\r\n",
    "*Let us solve a problem that we solved previously in the last lesson without using recursion. It will make you realize that recursion can make our code look simpler.*\r\n",
    "\r\n",
    "### Problem Statement\r\n",
    "You are given a non-negative number in the form of list elements. For example, the number `123` would be provided as `arr = [1, 2, 3]`. Add one to the number and return the output in the form of a new list. \r\n",
    "\r\n",
    "**Example 1:**\r\n",
    "* `input = [1, 2, 3]`\r\n",
    "* `output = [1, 2, 4]`\r\n",
    "\r\n",
    "**Example 2:**\r\n",
    "* `input = [1, 2, 9]`\r\n",
    "* `output = [1, 3, 0]`\r\n",
    "\r\n",
    "**Example 3:**\r\n",
    "* `input = [9, 9, 9]`\r\n",
    "* `output = [1, 0, 0, 0]`\r\n",
    "\r\n",
    "### Exercise - Write the RECURSIVE function definition here"
   ]
  },
  {
   "cell_type": "code",
   "execution_count": 50,
   "id": "71e5a611-8c88-4034-90c3-66990d35a1be",
   "metadata": {},
   "outputs": [],
   "source": [
    "def add_one(arr):\n",
    "    carrier = 1\n",
    "    if not arr:\n",
    "        # If the input list is empty, and there is still a carry, append a new digit\n",
    "        return [carrier] if carrier else []\n",
    "    \n",
    "    digit = arr[-1]\n",
    "    \n",
    "    new_digit = (digit + carrier) % 10\n",
    "    new_carrier = (digit + carrier) // 10\n",
    "    result = add_one(arr[-1])\n",
    "    result.append(new_digit)\n",
    "    return result"
   ]
  },
  {
   "cell_type": "code",
   "execution_count": 51,
   "id": "cf9f189d-41d8-4fa6-997a-8f775ac05772",
   "metadata": {},
   "outputs": [
    {
     "ename": "TypeError",
     "evalue": "'int' object is not subscriptable",
     "output_type": "error",
     "traceback": [
      "\u001b[1;31m---------------------------------------------------------------------------\u001b[0m",
      "\u001b[1;31mTypeError\u001b[0m                                 Traceback (most recent call last)",
      "Cell \u001b[1;32mIn[51], line 1\u001b[0m\n\u001b[1;32m----> 1\u001b[0m add_one([\u001b[38;5;241m1\u001b[39m, \u001b[38;5;241m2\u001b[39m, \u001b[38;5;241m9\u001b[39m])\n",
      "Cell \u001b[1;32mIn[50], line 11\u001b[0m, in \u001b[0;36madd_one\u001b[1;34m(arr)\u001b[0m\n\u001b[0;32m      9\u001b[0m new_digit \u001b[38;5;241m=\u001b[39m (digit \u001b[38;5;241m+\u001b[39m carrier) \u001b[38;5;241m%\u001b[39m \u001b[38;5;241m10\u001b[39m\n\u001b[0;32m     10\u001b[0m new_carrier \u001b[38;5;241m=\u001b[39m (digit \u001b[38;5;241m+\u001b[39m carrier) \u001b[38;5;241m/\u001b[39m\u001b[38;5;241m/\u001b[39m \u001b[38;5;241m10\u001b[39m\n\u001b[1;32m---> 11\u001b[0m result \u001b[38;5;241m=\u001b[39m add_one(arr[\u001b[38;5;241m-\u001b[39m\u001b[38;5;241m1\u001b[39m])\n\u001b[0;32m     12\u001b[0m result\u001b[38;5;241m.\u001b[39mappend(new_digit)\n\u001b[0;32m     13\u001b[0m \u001b[38;5;28;01mreturn\u001b[39;00m result\n",
      "Cell \u001b[1;32mIn[50], line 7\u001b[0m, in \u001b[0;36madd_one\u001b[1;34m(arr)\u001b[0m\n\u001b[0;32m      3\u001b[0m \u001b[38;5;28;01mif\u001b[39;00m \u001b[38;5;129;01mnot\u001b[39;00m arr:\n\u001b[0;32m      4\u001b[0m     \u001b[38;5;66;03m# If the input list is empty, and there is still a carry, append a new digit\u001b[39;00m\n\u001b[0;32m      5\u001b[0m     \u001b[38;5;28;01mreturn\u001b[39;00m [carrier] \u001b[38;5;28;01mif\u001b[39;00m carrier \u001b[38;5;28;01melse\u001b[39;00m []\n\u001b[1;32m----> 7\u001b[0m digit \u001b[38;5;241m=\u001b[39m arr[\u001b[38;5;241m-\u001b[39m\u001b[38;5;241m1\u001b[39m]\n\u001b[0;32m      9\u001b[0m new_digit \u001b[38;5;241m=\u001b[39m (digit \u001b[38;5;241m+\u001b[39m carrier) \u001b[38;5;241m%\u001b[39m \u001b[38;5;241m10\u001b[39m\n\u001b[0;32m     10\u001b[0m new_carrier \u001b[38;5;241m=\u001b[39m (digit \u001b[38;5;241m+\u001b[39m carrier) \u001b[38;5;241m/\u001b[39m\u001b[38;5;241m/\u001b[39m \u001b[38;5;241m10\u001b[39m\n",
      "\u001b[1;31mTypeError\u001b[0m: 'int' object is not subscriptable"
     ]
    }
   ],
   "source": [
    "add_one([1, 2, 9])"
   ]
  },
  {
   "cell_type": "code",
   "execution_count": 66,
   "id": "06f19fc7-10ba-4691-b53c-936422f6962c",
   "metadata": {},
   "outputs": [],
   "source": [
    "def add_one(arr):\n",
    "    if arr == [9]:\n",
    "        return [1,0]\n",
    "    if arr[-1] < 9:\n",
    "        arr[-1] += 1\n",
    "    else:\n",
    "        arr = add_one(arr[:-1]) + [0]\n",
    "        \n",
    "    return arr"
   ]
  },
  {
   "cell_type": "code",
   "execution_count": 69,
   "id": "db2fa4f4-a4e8-412c-8cbb-16b3a55503f0",
   "metadata": {},
   "outputs": [
    {
     "data": {
      "text/plain": [
       "[1, 0, 0, 0]"
      ]
     },
     "execution_count": 69,
     "metadata": {},
     "output_type": "execute_result"
    }
   ],
   "source": [
    "add_one([9, 9, 9])"
   ]
  },
  {
   "cell_type": "markdown",
   "id": "ac64c5d3-1acd-4add-90c0-e1cb6110ee81",
   "metadata": {},
   "source": [
    "#### Permutaion \r\n",
    "**Question** - Let's use recursion to help us solve the following permutation problem:\r\n",
    "\r\n",
    "Given a list of items, the goal is to find all of the permutations of that list. For example,<br>\r\n",
    "Given a list like: `[0, 1, 2]` <br>\r\n",
    "Permutations: `[[0, 1, 2], [0, 2, 1], [1, 0, 2], [1, 2, 0], [2, 0, 1], [2, 1, 0]]` <br><br>\r\n",
    "Notice that the expected output is a list of permutation with each permuted item being represented by a list. Such an object that contains other object is called \"compound\" object. <br>\r\n",
    "\r\n",
    "**The Idea**<br>\r\n",
    "Build a compoundList incrementally starting with a blank list, and permute (add) each element of original input list at all possible positions. <br><br>\r\n",
    "\r\n",
    "For example, take `[0, 1, 2]` as the original input list:<br>\r\n",
    "\r\n",
    "1. Start with a blank compoundList `[[]]`. This is actually the last call of recursive function stack. Pick the element `2` of original input list, making the compoundList as `[[2]]`<br><br>\r\n",
    "\r\n",
    "2. Pick next element `1` of original input list, and add this element at position 0, and 1 for each list of previous compoundList. **We will require to create copy of all lists of previous compoundList, and add the new element.** Now, the compoundList will become `[[1, 2], [2, 1]]`.<br><br>\r\n",
    "\r\n",
    "3. Pick next element `0` of original input list, and add this element at position 0, 1, and 2 for each list of previous compoundList. Now, the compoundList will become `[[0, 1, 2], [1, 0, 2], [1, 2, 0], [0, 2, 1], [2, 0, 1], [2, 1, 0]]` .<br><br>\r\n"
   ]
  },
  {
   "cell_type": "code",
   "execution_count": 71,
   "id": "9dd967b5-666e-413b-884e-50da9b20513e",
   "metadata": {},
   "outputs": [],
   "source": [
    "import copy\n",
    "\n",
    "def permute(inputList):\n",
    "    finallist = []\n",
    "\n",
    "    if len(inputList) == 0:\n",
    "        finallist.append([])\n",
    "    else:\n",
    "        first = inputList[0]\n",
    "        restofList = inputList[1:]\n",
    "        sub_compoundList = permute(restofList)\n",
    "\n",
    "        for perm in sub_compoundList:\n",
    "            for j in range(0, len(perm)+1):\n",
    "                bList = copy.deepcopy(perm)\n",
    "                bList.insert(j,first)\n",
    "                finallist.append(bList)\n",
    "\n",
    "    return finallist"
   ]
  },
  {
   "cell_type": "code",
   "execution_count": null,
   "id": "aa7ad49b-4a69-407b-9a56-ef8281264d94",
   "metadata": {},
   "outputs": [],
   "source": [
    "import copy\n",
    "\n",
    "def permute(inputList):\n",
    "    \"\"\"\n",
    "    Args: inputList - list of items to be permuted\n",
    "    Returns: finalCompoundList - list of permutations with each permuted item represented by a list\n",
    "    \"\"\"\n",
    "    finalCompoundList = []  # compoundList to be returned\n",
    "    \n",
    "    # Base case: when the inputList is empty\n",
    "    if len(inputList) == 0:\n",
    "        finalCompoundList.append([])\n",
    "    else:\n",
    "        # Split the inputList into the first element and the rest\n",
    "        first_element = inputList[0]\n",
    "        rest_list = inputList[1:]\n",
    "        \n",
    "        # Recursive call to permute the rest_list\n",
    "        sub_compoundList = permute(rest_list)\n",
    "        \n",
    "        # Iterate through each list in sub_compoundList\n",
    "        for aList in sub_compoundList:\n",
    "            # Insert the first_element at different positions in each iteration\n",
    "            for j in range(0, len(aList) + 1):\n",
    "                # Create a new list by inserting first_element at position j\n",
    "                bList = copy.deepcopy(aList)\n",
    "                bList.insert(j, first_element)\n",
    "                # Append the new list to the finalCompoundList\n",
    "                finalCompoundList.append(bList)\n",
    "    \n",
    "    return finalCompoundList\n",
    "\n",
    "# Example usage:\n",
    "inputList = [0, 1, 2]\n",
    "result = permute(inputList)\n",
    "print(result)\n"
   ]
  },
  {
   "cell_type": "markdown",
   "id": "fadd12db-efda-42c5-b95c-53a64c00225d",
   "metadata": {},
   "source": [
    "### Problem Statement\r\n",
    "\r\n",
    "Given an input string, return all permutations of the string in an array.\r\n",
    "\r\n",
    "**Example 1:**\r\n",
    "* `string = 'ab'`\r\n",
    "* `output = ['ab', 'ba']`\r\n",
    "\r\n",
    "**Example 2:**\r\n",
    "* `string = 'abc'`\r\n",
    "* `output = ['abc', 'bac', 'bca', 'acb', 'cab', 'cba']`\r\n",
    "---\r\n",
    "\r\n",
    "#### Note - Strings are Immutable \r\n",
    "Strings in Python are immutable, whch means that we cannot overwrite the characters of the String objects. For example:\r\n",
    "```\r\n",
    "str1 = \"Hello\"\r\n",
    "str1[0] = 'K'                         # Try changing the first character\r\n",
    "```\r\n",
    "will lead to \r\n",
    "```\r\n",
    "TypeError: 'str' object does not support item assignment\r\n",
    "```\r\n",
    "    \r\n",
    "We can only re-assign the variable to a new value (string), as follows:\r\n",
    "```\r\n",
    "str1 = \"Udacity\"                      # re-assignment\r\n",
    "str2 = \"Welcome to the \" + str1[3:]   # Returns 'Welcome to the city'\r\n",
    "```\r\n",
    "**Therefore, we do not require a deep copy in this exercise, as it was the case in our last example of list permutation.** \r\n",
    "\r\n",
    "---\r\n",
    "\r\n",
    "**The Idea**<br>\r\n",
    "Starting with a blank list, add each character of original input string at all possible positions. <br><br>\r\n",
    "\r\n",
    "For example, take `\"abc\"` as the original string:<br>\r\n",
    "\r\n",
    "1. Start with a blank `list()` object. This is actually the last call of recursive function stack. Pick a character `'c'` of original string, making the output as `['c']`<br><br>\r\n",
    "\r\n",
    "2. Pick next character `b` of original input string, and place the current character at different indices of the each sub-string of previous output. **We can make use of the sub-string of previous output, to create a new sub-string.** Now, the output will become `['bc', 'cb']`.<br><br>\r\n",
    "\r\n",
    "3. Pick next character `a` of original input string, and place the current character at different indices of the each sub-string of previous output. Now, the output will become `['abc', 'bac', 'bca', 'acb', 'cab', 'cba']`. .<br><br>\r\n",
    "---\r\n",
    "### Exercise - Write the function definition here\r\n"
   ]
  },
  {
   "cell_type": "code",
   "execution_count": 5,
   "id": "c0e68bef-0a6c-4a30-8dac-afae82007b8c",
   "metadata": {},
   "outputs": [],
   "source": [
    "def permutations(string):\n",
    "    finalList = []\n",
    "    if not string:\n",
    "        return ['']\n",
    "    prev_perm = permutations(string[1:])\n",
    "\n",
    "    result = []\n",
    "    for prev in prev_perm:\n",
    "        for i in range(len(prev) + 1):\n",
    "            new_perm = prev[i:] + string[0] + prev[:i]\n",
    "            result.append(new_perm)\n",
    "    return result\n",
    "        "
   ]
  },
  {
   "cell_type": "code",
   "execution_count": 6,
   "id": "1aaf09a6-34a8-43ec-8f92-767cd777b7bc",
   "metadata": {},
   "outputs": [
    {
     "data": {
      "text/plain": [
       "['ebA', 'bAe', 'Aeb', 'beA', 'eAb', 'Abe']"
      ]
     },
     "execution_count": 6,
     "metadata": {},
     "output_type": "execute_result"
    }
   ],
   "source": [
    "permutations('Abe')"
   ]
  },
  {
   "cell_type": "markdown",
   "id": "dbea2547-dadd-46d6-bd19-d1a302a5b469",
   "metadata": {},
   "source": [
    "## Keypad Combinations\r\n",
    "\r\n",
    "A keypad on a cellphone has alphabets for all numbers between 2 and 9, as shown in the figure below:\r\n",
    "\r\n",
    "<img style=\"float: center;height:200px;\" src=\"Keypad.png\" alt=\"A cell phone keypad that has letters associated with each number 2 through 9\"><br>\r\n",
    "\r\n",
    "You can make different combinations of alphabets by pressing the numbers.\r\n",
    "\r\n",
    "For example, if you press 23, the following combinations are possible:\r\n",
    "\r\n",
    "`ad, ae, af, bd, be, bf, cd, ce, cf`\r\n",
    "\r\n",
    "Note that because 2 is pressed before 3, the first letter is always an alphabet on the number 2.\r\n",
    "Likewise, if the user types 32, the order would be\r\n",
    "\r\n",
    "`da, db, dc, ea, eb, ec, fa, fb, fc`\r\n",
    "\r\n",
    "\r\n",
    "Given an integer `num`, find out all the possible strings that can be made using digits of input `num`. \r\n",
    "Return these strings in a list. The order of strings in the list does not matter. However, as stated earlier, the order of letters in a particular string matters."
   ]
  },
  {
   "cell_type": "code",
   "execution_count": 13,
   "id": "17c2325b-ba21-43ce-9481-af9f919ad093",
   "metadata": {},
   "outputs": [],
   "source": [
    "def get_characters(num):\n",
    "    if num == 2:\n",
    "        return \"abc\"\n",
    "    elif num == 3:\n",
    "        return \"def\"\n",
    "    elif num == 4:\n",
    "        return \"ghi\"\n",
    "    elif num == 5:\n",
    "        return \"jkl\"\n",
    "    elif num == 6:\n",
    "        return \"mno\"\n",
    "    elif num == 7:\n",
    "        return \"pqrs\"\n",
    "    elif num == 8:\n",
    "        return \"tuv\"\n",
    "    elif num == 9:\n",
    "        return \"wxyz\"\n",
    "    else:\n",
    "        return \"\"\n",
    "\n",
    "\n",
    "def keypad(num):\n",
    "    \n",
    "    # TODO: Write your keypad solution here!\n",
    "    if num <= 1:\n",
    "        return ['']\n",
    "\n",
    "    last_number = num % 10\n",
    "    small_output = keypad(num // 10)\n",
    "    result = []\n",
    "\n",
    "    key_string = get_characters(last_number)\n",
    "    for char in key_string:\n",
    "        for item in small_output:\n",
    "            new_item = item + char\n",
    "            result.append(new_item)\n"
   ]
  },
  {
   "cell_type": "markdown",
   "id": "0f5e5535-cd7d-45af-807d-bb796e4936f2",
   "metadata": {},
   "source": [
    "Smart way of picking out number combination \n",
    "\n",
    "last digit = num % 10\n",
    "remain = num//10"
   ]
  },
  {
   "cell_type": "code",
   "execution_count": 12,
   "id": "6b460126-cb56-4d1b-a748-0af2c3389f1f",
   "metadata": {},
   "outputs": [
    {
     "data": {
      "text/plain": [
       "23"
      ]
     },
     "execution_count": 12,
     "metadata": {},
     "output_type": "execute_result"
    }
   ],
   "source": [
    "234//10 "
   ]
  },
  {
   "cell_type": "markdown",
   "id": "66d9a402-dd08-4049-9a01-ce16b2752c6a",
   "metadata": {},
   "source": [
    "## Problem Statement\r\n",
    "\r\n",
    "Define a procedure, `deep_reverse`, that takes as input a list, and returns a new list that is the deep reverse of the input list.  \r\n",
    "This means it reverses all the elements in the list, and if any of those elements are lists themselves, reverses all the elements in the inner list, all the way down. \r\n",
    "\r\n",
    ">Note: The procedure must not change the input list itself.\r\n",
    "\r\n",
    "**Example**<br>\r\n",
    "Input: `[1, 2, [3, 4, 5], 4, 5]`<br>\r\n",
    "Output: `[5, 4, [5, 4, 3], 2, 1]`<br>\r\n",
    "\r\n",
    "**Hint**<br>\r\n",
    "1. Begin with a blank final list to be returned.\r\n",
    "2. Traverse the given list in the r\n",
    "e    verse order.\r\n",
    " * If an item in the list is a list itself, call the s    ame function.\r\n",
    " * Otheriwse, append the item to the final list.\r\n"
   ]
  },
  {
   "cell_type": "code",
   "execution_count": null,
   "id": "c6ff1e40-3e2c-4378-96eb-d464e5402fb1",
   "metadata": {},
   "outputs": [],
   "source": [
    "def reverse_string(input_str):\n",
    "    \"\"\"\n",
    "    Return reversed input string\n",
    "    \n",
    "    Examples:\n",
    "       reverse_string(\"abc\") returns \"cba\"\n",
    "    \n",
    "    Args:\n",
    "      input(str): string to be reversed\n",
    "    \n",
    "    Returns:\n",
    "      a string that is the reverse of input\n",
    "    \"\"\"\n",
    "    \n",
    "    # TODO: Write your recursive string reverser solution here\n",
    "    if len(input_str) <= 1:\n",
    "        return input_str\n",
    "    return reverse_string(input_str[1:]) + input_str[0]"
   ]
  },
  {
   "cell_type": "code",
   "execution_count": 25,
   "id": "7bb30901-c3d3-40c4-9f92-541b126fcebe",
   "metadata": {},
   "outputs": [],
   "source": [
    "def deep_reverse(arr):\n",
    "    if len(arr) < 1:\n",
    "        return arr\n",
    "    output =[]\n",
    "    for item in arr[::-1]:\n",
    "        if isinstance(item,list):\n",
    "            item = deep_reverse(item)\n",
    "        output.append(item)\n",
    "    return output"
   ]
  },
  {
   "cell_type": "code",
   "execution_count": 26,
   "id": "6f7d8d46-bae3-4705-85e8-2416c3997392",
   "metadata": {},
   "outputs": [
    {
     "data": {
      "text/plain": [
       "[5, 4, [5, 4, 3], 2, 1]"
      ]
     },
     "execution_count": 26,
     "metadata": {},
     "output_type": "execute_result"
    }
   ],
   "source": [
    "deep_reverse([1, 2, [3, 4, 5], 4, 5])"
   ]
  },
  {
   "cell_type": "code",
   "execution_count": 22,
   "id": "08023041-0bc0-4893-8b93-bb972ff0bfdd",
   "metadata": {},
   "outputs": [
    {
     "name": "stdout",
     "output_type": "stream",
     "text": [
      "[5, 4, [5, 4, 3], 2, 1]\n"
     ]
    }
   ],
   "source": [
    "def deep_reverse(arr):\n",
    "    # Termination / Base condition\n",
    "    if len(arr) < 1:\n",
    "        return arr\n",
    "\n",
    "    reversed_items = []  # Final list to be returned\n",
    "    \n",
    "    # Traverse the given list (array) in the reverse direction using extended slice\n",
    "    for item in arr[::-1]:\n",
    "        # If this item is a list itself, invoke deep_reverse to reverse the items recursively\n",
    "        if isinstance(item, list):\n",
    "            item = deep_reverse(item)\n",
    "        \n",
    "        # Append the item to the final list\n",
    "        reversed_items.append(item)\n",
    "\n",
    "    return reversed_items\n",
    "\n",
    "# Example usage:\n",
    "input_list = [1, 2, [3, 4, 5], 4, 5]\n",
    "output_list = deep_reverse(input_list)\n",
    "print(output_list)  # Output: [5, 4, [5, 4, 3], 2, 1]\n"
   ]
  },
  {
   "cell_type": "code",
   "execution_count": 27,
   "id": "bf48873d-776e-44fa-b40f-e532ef263959",
   "metadata": {},
   "outputs": [
    {
     "name": "stdout",
     "output_type": "stream",
     "text": [
      "Start of program\n",
      "Inside func_a\n",
      "Inside func_b\n",
      "End of program\n"
     ]
    }
   ],
   "source": [
    "def func_b():\n",
    "    print(\"Inside func_b\")\n",
    "\n",
    "def func_a():\n",
    "    print(\"Inside func_a\")\n",
    "    func_b()\n",
    "\n",
    "print(\"Start of program\")\n",
    "func_a()\n",
    "print(\"End of program\")\n"
   ]
  },
  {
   "cell_type": "markdown",
   "id": "942d2640-4231-450e-8759-beb49e14655a",
   "metadata": {},
   "source": [
    "More on stack call "
   ]
  },
  {
   "cell_type": "code",
   "execution_count": 3,
   "id": "4b2da216-3a53-4acc-a1e8-f7a64679b0c6",
   "metadata": {},
   "outputs": [],
   "source": [
    "def add(first, second):\n",
    "    result = first + second\n",
    "    output(first, second, result)\n",
    "    return result\n",
    "\n",
    "def output(first, second,ouput):\n",
    "    print(f'The sum of {first} and {second} is {ouput}')"
   ]
  },
  {
   "cell_type": "code",
   "execution_count": 4,
   "id": "f16064ca-4283-46ff-997b-7a19bf6f42b5",
   "metadata": {},
   "outputs": [
    {
     "name": "stdout",
     "output_type": "stream",
     "text": [
      "The sum of 4 and 5 is 9\n"
     ]
    }
   ],
   "source": [
    "result = add(4,5)"
   ]
  },
  {
   "cell_type": "code",
   "execution_count": 34,
   "id": "2c19cda5-b641-4b8b-a342-71bb6daae6cb",
   "metadata": {},
   "outputs": [
    {
     "name": "stdout",
     "output_type": "stream",
     "text": [
      "The sum of 5 and 7 is: 12\n"
     ]
    },
    {
     "data": {
      "text/plain": [
       "12"
      ]
     },
     "execution_count": 34,
     "metadata": {},
     "output_type": "execute_result"
    }
   ],
   "source": [
    "def add(num_one, num_two):\n",
    "    output = num_one + num_two\n",
    "    custom_print(output, num_one, num_two)\n",
    "    return output\n",
    "\n",
    "def custom_print(output, num_one, num_two):\n",
    "    print(\"The sum of {} and {} is: {}\".format(num_one, num_two, output))\n",
    "    \n",
    "result = add(5, 7)    "
   ]
  },
  {
   "cell_type": "markdown",
   "id": "d58b2785-c85c-4835-b15a-e7065dedc148",
   "metadata": {},
   "source": [
    "### Problem Statement\r\n",
    "\r\n",
    "The Tower of Hanoi is a puzzle where we have three rods and `n` unique sized disks. The three rods are - source, destination, and auxiliary as shown in the figure below.\r\n",
    "<br><img style=\"float: center;\" src=\"TOH.png\" alt=\"Image of 3 rod with all disks on the leftmost tower and instructions to move them to the rightmost tower.\"><br>\r\n",
    "Initally, all the `n` disks are present on the source rod. The final objective of the puzzle is to move all disks from the source rod to the destination rod using the auxiliary rod.<br><br> \r\n",
    "**However, there are some rules applicable to all rods:**\r\n",
    "    1. Only one disk can be moved at a time.\r\n",
    "    2. A disk can be moved only if it is on the top of a rod.\r\n",
    "    3. No disk can be placed on the top of a smaller disk.\r\n",
    "    \r\n",
    "You will be given the number of disks `num_disks` as the input parameter. Write a **recursive function** `tower_of_Hanoi()` that prints the \"move\" steps in order to move `num_disks` number of disks from Source to Destination using the help of Auxiliary rod.\r\n",
    "\r\n",
    "---\r\n",
    "### Example Illustration\r\n",
    "For example, if you have `num_disks = 3`, then the disks should be moved as follows:\r\n",
    "    \r\n",
    "        1. move disk from source to destination\r\n",
    "        2. move disk from source to auxiliary\r\n",
    "        3. move disk from destination to auxiliary\r\n",
    "        4. move disk from source to destination\r\n",
    "        5. move disk from auxiliary to source\r\n",
    "        6. move disk from auxiliary to destination\r\n",
    "        7. move disk from source to destination\r\n",
    "        \r\n",
    "You must print these steps as follows:    \r\n",
    "\r\n",
    "                S D\r\n",
    "                S A\r\n",
    "                D A\r\n",
    "                S D\r\n",
    "                A S\r\n",
    "                A D\r\n",
    "                S D\r\n",
    "        \r\n",
    "Where S = source, D = destination, A = auxiliary <br><br>\r\n",
    "An example illustration for `num_disks = 4` can be visualized in this [GIF from wikipedia](https://en.wikipedia.org/wiki/Tower_of_Hanoi#/media/File:Tower_of_Hanoi_4.gif)\r\n",
    "\r\n",
    "---\r\n",
    "\r\n",
    "### The Idea\r\n",
    "Assume you are writing a function that accepts the following arguments:\r\n",
    "        1. arg1 - number of disks\r\n",
    "        2. arg2 - rod A - this rod acts as the source (at the time of calling the function)\r\n",
    "        2. arg3 - rod B - this rod acts as the auxiliary\r\n",
    "        2. arg4 - rod C - this rod acts as the destination\r\n",
    "        \r\n",
    "Follow the steps below:\r\n",
    "1. Given the `num_disks` disks on the source, along with auxiliary and destination rods<br><br>\r\n",
    "2. Check if `num_disks == 1`. This must be the termination condition, therefore use recursion to reach at this moment. \r\n",
    " - If yes, move disk from source to destination. (Termination condition)<br><br>\r\n",
    "3. For `num_disks > 1`, just think of your FIRST set of steps. You want to pick the bottom most disk on the source, to be transferred to the destination. For this reason, you will will perform the steps below:\r\n",
    " - Step 1: Move `num_disks - 1` from source to auxiliary<br><br>\r\n",
    " - Step 2: Now you are left with only the largest disk at source. Move the only leftover disk from source to destination<br><br>\r\n",
    " - Step 3: You had `num_disks - 1` disks available on the auxiliary, as a result of Step 1. Move `num_disks - 1` from auxiliary to destination\r\n",
    "\r\n",
    "---\r\n",
    "### Exercise - Write the function definition here"
   ]
  },
  {
   "cell_type": "code",
   "execution_count": 8,
   "id": "4df87271-cef7-44a1-9c76-d59f8c678d0c",
   "metadata": {},
   "outputs": [
    {
     "name": "stdout",
     "output_type": "stream",
     "text": [
      "S A\n",
      "S D\n",
      "A D\n",
      "S A\n",
      "D S\n",
      "D A\n",
      "S A\n",
      "S D\n",
      "A D\n",
      "A S\n",
      "D S\n",
      "A D\n",
      "S A\n",
      "S D\n",
      "A D\n"
     ]
    }
   ],
   "source": [
    "def tower_of_Hanoi_soln(num_disks, source, auxiliary, destination):\n",
    "    # Base condition\n",
    "    if num_disks == 0:\n",
    "        return\n",
    "\n",
    "    # Termination condition\n",
    "    if num_disks == 1:\n",
    "        print(\"{} {}\".format(source, destination))\n",
    "        return\n",
    "\n",
    "    # Step 1: Move `num_disks - 1` from source to auxiliary\n",
    "    tower_of_Hanoi_soln(num_disks - 1, source, destination, auxiliary)\n",
    "\n",
    "    # Step 2: Now you are left with the only largest disk at source.\n",
    "    # Move the only leftover disk from source to destination\n",
    "    print(\"{} {}\".format(source, destination))\n",
    "\n",
    "    # Step 3: Move `num_disks - 1` from auxiliary to destination\n",
    "    tower_of_Hanoi_soln(num_disks - 1, auxiliary, source, destination)\n",
    "\n",
    "def tower_of_Hanoi(num_disks):\n",
    "    tower_of_Hanoi_soln(num_disks, 'S', 'A', 'D')\n",
    "\n",
    "# Test the function with num_disks = 3\n",
    "tower_of_Hanoi(4)"
   ]
  },
  {
   "cell_type": "code",
   "execution_count": 10,
   "id": "40e86777-dd6c-4dcf-9032-aa3d6c060eff",
   "metadata": {},
   "outputs": [
    {
     "name": "stdout",
     "output_type": "stream",
     "text": [
      "Move disk 1 from S to A\n",
      "Move disk 2 from S to D\n",
      "Move disk 1 from A to D\n",
      "Move disk 3 from S to A\n",
      "Move disk 1 from D to S\n",
      "Move disk 2 from D to A\n",
      "Move disk 1 from S to A\n",
      "Move disk 4 from S to D\n",
      "Move disk 1 from A to D\n",
      "Move disk 2 from A to S\n",
      "Move disk 1 from D to S\n",
      "Move disk 3 from A to D\n",
      "Move disk 1 from S to A\n",
      "Move disk 2 from S to D\n",
      "Move disk 1 from A to D\n"
     ]
    }
   ],
   "source": [
    "def print_move_with_disk(source_rod, destination_rod, disk_number):\n",
    "    print(f\"Move disk {disk_number} from {source_rod} to {destination_rod}\")\n",
    "\n",
    "def tower_of_Hanoi_soln(num_disks, source, auxiliary, destination):\n",
    "    # Base condition\n",
    "    if num_disks == 0:\n",
    "        return\n",
    "\n",
    "    # Termination condition\n",
    "    if num_disks == 1:\n",
    "        print_move_with_disk(source, destination, num_disks)\n",
    "        return\n",
    "\n",
    "    # Step 1: Move `num_disks - 1` from source to auxiliary\n",
    "    tower_of_Hanoi_soln(num_disks - 1, source, destination, auxiliary)\n",
    "\n",
    "    # Step 2: Move the remaining disk from source to destination\n",
    "    print_move_with_disk(source, destination, num_disks)\n",
    "\n",
    "    # Step 3: Move `num_disks - 1` from auxiliary to destination\n",
    "    tower_of_Hanoi_soln(num_disks - 1, auxiliary, source, destination)\n",
    "\n",
    "def tower_of_Hanoi(num_disks):\n",
    "    tower_of_Hanoi_soln(num_disks, 'S', 'A', 'D')\n",
    "\n",
    "\n",
    "tower_of_Hanoi(4)\n"
   ]
  },
  {
   "cell_type": "code",
   "execution_count": 11,
   "id": "0f765711-1f6b-466a-927f-7b6d3b88c5cf",
   "metadata": {},
   "outputs": [
    {
     "name": "stdout",
     "output_type": "stream",
     "text": [
      "move s to d\n",
      "move s to a\n",
      "move d to s\n",
      "move s to d\n",
      "move a to d\n",
      "move a to s\n",
      "move d to a\n"
     ]
    }
   ],
   "source": [
    "def move(source,destination):\n",
    "    print(f'move {source} to {destination}')\n",
    "\n",
    "def towerofhanoi(num_disk, S,A,D):\n",
    "    if num_disk == 1:\n",
    "        move(S,D)\n",
    "    else:\n",
    "        towerofhanoi(num_disk - 1, S,D,A)\n",
    "        move(S,D)\n",
    "        towerofhanoi(num_disk - 1, A,D,S)\n",
    "\n",
    "towerofhanoi(3,'s','a','d')"
   ]
  },
  {
   "cell_type": "code",
   "execution_count": 18,
   "id": "a7f4d75d-cbf1-4fb1-a2b4-2fe885c92948",
   "metadata": {},
   "outputs": [
    {
     "ename": "TypeError",
     "evalue": "chr() takes exactly one argument (0 given)",
     "output_type": "error",
     "traceback": [
      "\u001b[1;31m---------------------------------------------------------------------------\u001b[0m",
      "\u001b[1;31mTypeError\u001b[0m                                 Traceback (most recent call last)",
      "Cell \u001b[1;32mIn[18], line 1\u001b[0m\n\u001b[1;32m----> 1\u001b[0m \u001b[38;5;28mchr\u001b[39m()\u001b[38;5;241m.\u001b[39mlower\n",
      "\u001b[1;31mTypeError\u001b[0m: chr() takes exactly one argument (0 given)"
     ]
    }
   ],
   "source": [
    "chr().lower"
   ]
  },
  {
   "cell_type": "markdown",
   "id": "094b68a9-3be7-40df-8c28-3d240bff5ea3",
   "metadata": {},
   "source": [
    "### Problem Statement\n",
    "\n",
    "\n",
    "Given an integer array, find and return all the subsets of the array.\n",
    "The order of subsets in the output array is not important. However the order of elements in a particular subset should remain the same as in the input array.\n",
    "\n",
    "**Note**: \n",
    "- An empty set will be represented by an empty list.\n",
    "- If there are repeat integers, each occurrence must be treated as a separate entity.\n",
    "\n",
    "**Example 1**\n",
    "\n",
    "```\n",
    "arr = [9, 9]\n",
    "\n",
    "output = [[],\n",
    "          [9],\n",
    "          [9],\n",
    "          [9, 9]]\n",
    "```\n",
    "\n",
    "**Example 2**\n",
    "\n",
    "```\n",
    "arr = [9, 12, 15]\n",
    "\n",
    "output =  [[],\n",
    "           [15],\n",
    "           [12],\n",
    "           [12, 15],\n",
    "           [9],\n",
    "           [9, 15],\n",
    "           [9, 12],\n",
    "           [9, 12, 15]]\n",
    "```"
   ]
  },
  {
   "cell_type": "code",
   "execution_count": null,
   "id": "2bb831d9-4ac5-4cc8-84e2-8132de68f573",
   "metadata": {},
   "outputs": [],
   "source": [
    "def subsets(arr):\n",
    "\n",
    "\n",
    "def return_subsets(arr, index):\n",
    "    if len(arr) < index:\n",
    "        return [[]]\n",
    "\n",
    "    small_output = return_subsets(arr, index + 1)\n",
    "    output = []\n",
    "\n",
    "    for element in small_output:\n",
    "        output.append(element)\n",
    "    "
   ]
  },
  {
   "cell_type": "code",
   "execution_count": null,
   "id": "32baf7f0-7683-4b89-822e-3d52257c92e0",
   "metadata": {},
   "outputs": [],
   "source": [
    "def last_index(arr, target):\n",
    "    \"\"\"\n",
    "    :param: arr - input array\n",
    "    :param: target - integer element\n",
    "    return: int - last index of target in arr\n",
    "    TODO: complete this method to find the last index of target in arr\n",
    "    \"\"\"\n",
    "    return solution(arr, target )\n",
    "\n",
    "def solution(arr, target, index):\n",
    "    if index < 0:\n",
    "        return -1\n",
    "    if arr[index] == target:\n",
    "        return index\n",
    "    return solution(arr, target, len(arr)-1)"
   ]
  },
  {
   "cell_type": "code",
   "execution_count": null,
   "id": "4669a371-c61b-4d13-8323-5c0040468320",
   "metadata": {},
   "outputs": [],
   "source": []
  },
  {
   "cell_type": "code",
   "execution_count": 50,
   "id": "61e0b02c-1825-43b4-abda-d981718f2116",
   "metadata": {},
   "outputs": [
    {
     "name": "stdout",
     "output_type": "stream",
     "text": [
      "3\n",
      "2\n",
      "1\n"
     ]
    },
    {
     "data": {
      "text/plain": [
       "6"
      ]
     },
     "execution_count": 50,
     "metadata": {},
     "output_type": "execute_result"
    }
   ],
   "source": [
    "def fib(n):\n",
    "    # base case \n",
    "    print(n)\n",
    "    if n <= 1:\n",
    "        return n\n",
    "    # recursive phase\n",
    "    return n + fib(n-1)\n",
    "\n",
    "fib(3)"
   ]
  },
  {
   "cell_type": "code",
   "execution_count": 25,
   "id": "dfad63e6-d1c7-4e11-b333-25587842b0f8",
   "metadata": {},
   "outputs": [
    {
     "data": {
      "text/plain": [
       "'ebA'"
      ]
     },
     "execution_count": 25,
     "metadata": {},
     "output_type": "execute_result"
    }
   ],
   "source": [
    "def reverse_string(input_str):\n",
    "    # base case \n",
    "    if len(input_str) == 0:\n",
    "        return input_str\n",
    "\n",
    "    # recursive\n",
    "    return reverse_string(input_str[1:]) + input_str[0]\n",
    "\n",
    "reverse_string('Abe')"
   ]
  },
  {
   "cell_type": "code",
   "execution_count": 34,
   "id": "06a1d8cb-aba8-43c1-ad63-0a5af9f702f8",
   "metadata": {},
   "outputs": [
    {
     "data": {
      "text/plain": [
       "120"
      ]
     },
     "execution_count": 34,
     "metadata": {},
     "output_type": "execute_result"
    }
   ],
   "source": [
    "def factorial(n):\n",
    "    if n <= 1:\n",
    "        return 1 \n",
    "    return n * factorial(n-1)\n",
    "\n",
    "factorial(5)"
   ]
  },
  {
   "cell_type": "code",
   "execution_count": 49,
   "id": "116dac8b-a710-4f83-a263-dbf7d0e514cf",
   "metadata": {},
   "outputs": [
    {
     "name": "stdout",
     "output_type": "stream",
     "text": [
      "3\n",
      "2\n",
      "1\n",
      "0\n"
     ]
    },
    {
     "data": {
      "text/plain": [
       "3"
      ]
     },
     "execution_count": 49,
     "metadata": {},
     "output_type": "execute_result"
    }
   ],
   "source": [
    "def tribonacci(n):\n",
    "    print(n)\n",
    "    # base\n",
    "    if n <= 2:\n",
    "        return n \n",
    "    return tribonacci(n-1) + tribonacci(n-2) + tribonacci(n-3)\n",
    "\n",
    "tribonacci(3)"
   ]
  },
  {
   "cell_type": "code",
   "execution_count": 50,
   "id": "0df49669-607b-4d4a-aeea-7c8102aa0d62",
   "metadata": {},
   "outputs": [
    {
     "name": "stdout",
     "output_type": "stream",
     "text": [
      "11\n"
     ]
    }
   ],
   "source": [
    "def tribonacci(n):\n",
    "    # base case\n",
    "    if n <= 2:\n",
    "        return n \n",
    "    # recursive case\n",
    "    return tribonacci(n-1) + tribonacci(n-2) + tribonacci(n-3)\n",
    "\n",
    "print(tribonacci(5))\n"
   ]
  },
  {
   "cell_type": "code",
   "execution_count": 5,
   "id": "25e41bc5-fdc4-4374-83ac-f81dab8fefed",
   "metadata": {},
   "outputs": [
    {
     "data": {
      "text/plain": [
       "False"
      ]
     },
     "execution_count": 5,
     "metadata": {},
     "output_type": "execute_result"
    }
   ],
   "source": [
    "def reversed_str(string):\n",
    "    if len(string) == 0:\n",
    "        return string\n",
    "    return reversed_str(string[1:]) + string[0]\n",
    "\n",
    "def palindrome(string):\n",
    "    return reversed_str(string) == string\n",
    "\n",
    "palindrome('madam')"
   ]
  },
  {
   "cell_type": "code",
   "execution_count": 12,
   "id": "f49223ca-2cb3-4420-a85e-0d4fe53dac6a",
   "metadata": {},
   "outputs": [
    {
     "name": "stdout",
     "output_type": "stream",
     "text": [
      "ada\n",
      "d\n"
     ]
    },
    {
     "data": {
      "text/plain": [
       "True"
      ]
     },
     "execution_count": 12,
     "metadata": {},
     "output_type": "execute_result"
    }
   ],
   "source": [
    "def palindrome(string):\n",
    "    print(string)\n",
    "    if len(string) == 1:\n",
    "        return True\n",
    "    if string[0] != string[-1]:\n",
    "        return False\n",
    "    return palindrome(string[1:-1])\n",
    "\n",
    "palindrome('ada')"
   ]
  },
  {
   "cell_type": "code",
   "execution_count": 7,
   "id": "be7b9305-3611-4981-bfab-47af1d753976",
   "metadata": {},
   "outputs": [
    {
     "data": {
      "text/plain": [
       "[1, 0, 0, 0]"
      ]
     },
     "execution_count": 7,
     "metadata": {},
     "output_type": "execute_result"
    }
   ],
   "source": [
    "def add_one(arr):\n",
    "    # base case\n",
    "    if not arr:\n",
    "        return [1]\n",
    "    # recursive\n",
    "    last_digit = arr[-1] + 1\n",
    "    arr[-1] = last_digit % 10\n",
    "\n",
    "    if last_digit == 10:\n",
    "        return add_one(arr[:-1]) + [0]\n",
    "    else:\n",
    "        return arr\n",
    "\n",
    "add_one([9,9,9])"
   ]
  },
  {
   "cell_type": "code",
   "execution_count": 2,
   "id": "d85b7352-dab3-4435-bf44-f68b2789eca1",
   "metadata": {},
   "outputs": [
    {
     "name": "stdout",
     "output_type": "stream",
     "text": [
      "[1, 2, 4]\n",
      "[1, 3, 0]\n",
      "[1, 0, 0, 0]\n"
     ]
    }
   ],
   "source": [
    "def add_one_recursive(arr):\n",
    "    # Base case: When the array is empty\n",
    "    if not arr:\n",
    "        return [1]\n",
    "\n",
    "    # Recursive case\n",
    "    last_digit = arr[-1] + 1\n",
    "    arr[-1] = last_digit % 10\n",
    "\n",
    "    # Handle carry\n",
    "    if last_digit == 10:\n",
    "        return add_one_recursive(arr[:-1]) + [0]\n",
    "    else:\n",
    "        return arr\n",
    "\n",
    "# Example usage:\n",
    "result = add_one_recursive([1, 2, 3])\n",
    "print(result)  # Output: [1, 2, 4]\n",
    "\n",
    "result = add_one_recursive([1, 2, 9])\n",
    "print(result)  # Output: [1, 3, 0]\n",
    "\n",
    "result = add_one_recursive([9, 9, 9])\n",
    "print(result)  # Output: [1, 0, 0, 0]\n"
   ]
  },
  {
   "cell_type": "code",
   "execution_count": 8,
   "id": "90acbeb0-c6eb-49a8-8369-f128024c7add",
   "metadata": {},
   "outputs": [
    {
     "data": {
      "text/plain": [
       "[[1, 2, 0], [2, 1, 0], [2, 0, 1], [1, 0, 2], [0, 1, 2], [0, 2, 1]]"
      ]
     },
     "execution_count": 8,
     "metadata": {},
     "output_type": "execute_result"
    }
   ],
   "source": [
    "import copy\n",
    "\n",
    "def permute(inputList):\n",
    "    # base \n",
    "    if not inputList:\n",
    "        return [[]]\n",
    "\n",
    "    first = inputList[0]\n",
    "    remaining = permute(inputList[1:])\n",
    "    result = []\n",
    "\n",
    "    for perm in remaining:\n",
    "        for j in range(len(perm) + 1):\n",
    "            new_permutation = copy.deepcopy(perm)\n",
    "            new_permutation.insert(j, first)\n",
    "            result.append(new_permutation)\n",
    "\n",
    "    return result\n",
    "\n",
    "permute([1,2,0])"
   ]
  },
  {
   "cell_type": "code",
   "execution_count": 6,
   "id": "5fb87dff-908f-49f9-aa1d-9c7dc2c43f64",
   "metadata": {},
   "outputs": [
    {
     "name": "stdout",
     "output_type": "stream",
     "text": [
      "[1, 2, 3]\n",
      "[2, 3]\n",
      "[3]\n",
      "[]\n"
     ]
    },
    {
     "data": {
      "text/plain": [
       "[[1, 2, 3], [2, 1, 3], [2, 3, 1], [1, 3, 2], [3, 1, 2], [3, 2, 1]]"
      ]
     },
     "execution_count": 6,
     "metadata": {},
     "output_type": "execute_result"
    }
   ],
   "source": [
    "import copy\n",
    "\n",
    "def permute(inputList):\n",
    "    print(inputList)\n",
    "    if not inputList:\n",
    "        return [[]]\n",
    "\n",
    "    first_index = inputList[0]\n",
    "    rest_list = permute(inputList[1:])\n",
    "    result = []\n",
    "\n",
    "    for perm in rest_list:\n",
    "        for j in range(len(perm)+1):\n",
    "            new_perm = copy.deepcopy(perm)\n",
    "            new_perm.insert(j,first_index)\n",
    "            result.append(new_perm)\n",
    "    return result\n",
    "\n",
    "permute([1,2,3])"
   ]
  },
  {
   "cell_type": "markdown",
   "id": "a66cf4dc-5035-4094-a40f-b8e8ee974643",
   "metadata": {},
   "source": [
    "### Problem Statement\r\n",
    "\r\n",
    "Given an input string, return all permutations of the string in an array.\r\n",
    "\r\n",
    "**Example 1:**\r\n",
    "* `string = 'ab'`\r\n",
    "* `output = ['ab', 'ba']`\r\n",
    "\r\n",
    "**Example 2:**\r\n",
    "* `string = 'abc'`\r\n",
    "* `output = ['abc', 'bac', 'bca', 'acb', 'cab', 'cba']`\r\n",
    "---\r\n",
    "\r\n",
    "#### Note - Strings are Immutable \r\n",
    "Strings in Python are immutable, whch means that we cannot overwrite the characters of the String objects. For example:\r\n",
    "```\r\n",
    "str1 = \"Hello\"\r\n",
    "str1[0] = 'K'                         # Try changing the first character\r\n",
    "```\r\n",
    "will lead to \r\n",
    "```\r\n",
    "TypeError: 'str' object does not support item assignment\r\n",
    "```\r\n",
    "    \r\n",
    "We can only re-assign the variable to a new value (string), as follows:\r\n",
    "```\r\n",
    "str1 = \"Udacity\"                      # re-assignment\r\n",
    "str2 = \"Welcome to the \" + str1[3:]   # Returns 'Welcome to the city'\r\n",
    "```\r\n",
    "**Therefore, we do not require a deep copy in this exercise, as it was the case in our last example of list permutation.** \r\n",
    "\r\n",
    "---\r\n",
    "\r\n",
    "**The Idea**<br>\r\n",
    "Starting with a blank list, add each character of original input string at all possible positions. <br><br>\r\n",
    "\r\n",
    "For example, take `\"abc\"` as the original string:<br>\r\n",
    "\r\n",
    "1. Start with a blank `list()` object. This is actually the last call of recursive function stack. Pick a character `'c'` of original string, making the output as `['c']`<br><br>\r\n",
    "\r\n",
    "2. Pick next character `b` of original input string, and place the current character at different indices of the each sub-string of previous output. **We can make use of the sub-string of previous output, to create a new sub-string.** Now, the output will become `['bc', 'cb']`.<br><br>\r\n",
    "\r\n",
    "3. Pick next character `a` of original input string, and place the current character at different indices of the each sub-string of previous output. Now, the output will become `['abc', 'bac', 'bca', 'acb', 'cab', 'cba']`. .<br><br>\r\n",
    "---\r\n",
    "### Exercise - Write the function definition here\r\n"
   ]
  },
  {
   "cell_type": "code",
   "execution_count": 12,
   "id": "5d7d779a-18b4-4456-a2e6-b23cda21d7cf",
   "metadata": {},
   "outputs": [
    {
     "name": "stdout",
     "output_type": "stream",
     "text": [
      "Calling permutations('ab')\n",
      "Calling permutations('b')\n",
      "Calling permutations('')\n",
      "Returned from permutations('')\n",
      "Result for permutations('b'): ['bb', 'bb']\n",
      "Returned from permutations('b')\n",
      "Result for permutations('ab'): ['aa', 'aa', 'ab', 'ba']\n"
     ]
    },
    {
     "data": {
      "text/plain": [
       "['aa', 'aa', 'ab', 'ba']"
      ]
     },
     "execution_count": 12,
     "metadata": {},
     "output_type": "execute_result"
    }
   ],
   "source": [
    "def permutations(string):\n",
    "    print(f\"Calling permutations('{string}')\")\n",
    "    if len(string) == 0:\n",
    "        return [[]]\n",
    "\n",
    "    first_str = string[0]\n",
    "    rest_str = permutations(string[1:])\n",
    "\n",
    "    print(f\"Returned from permutations('{string[1:]}')\")\n",
    "\n",
    "    result = []\n",
    "    for char in string:\n",
    "        for j in range(len(char)+1):\n",
    "            new_perm = char[:j] + first_str + char[j:]\n",
    "            result.append(new_perm)\n",
    "\n",
    "    print(f\"Result for permutations('{string}'): {result}\")\n",
    "\n",
    "    return result\n",
    "\n",
    "permutations('ab')"
   ]
  },
  {
   "cell_type": "code",
   "execution_count": 28,
   "id": "d518676b-c5a2-4c69-b8f0-675786a112ff",
   "metadata": {},
   "outputs": [
    {
     "data": {
      "text/plain": [
       "['ad', 'bd', 'cd', 'ae', 'be', 'ce', 'af', 'bf', 'cf']"
      ]
     },
     "execution_count": 28,
     "metadata": {},
     "output_type": "execute_result"
    }
   ],
   "source": [
    "def get_characters(num):\n",
    "    if num == 2:\n",
    "        return \"abc\"\n",
    "    elif num == 3:\n",
    "        return \"def\"\n",
    "    elif num == 4:\n",
    "        return \"ghi\"\n",
    "    elif num == 5:\n",
    "        return \"jkl\"\n",
    "    elif num == 6:\n",
    "        return \"mno\"\n",
    "    elif num == 7:\n",
    "        return \"pqrs\"\n",
    "    elif num == 8:\n",
    "        return \"tuv\"\n",
    "    elif num == 9:\n",
    "        return \"wxyz\"\n",
    "    else:\n",
    "        return \"\"\n",
    "\n",
    "\n",
    "def keypad(num):\n",
    "    # base \n",
    "    if num <= 1:\n",
    "        return ['']\n",
    "    last_digit = num % 10\n",
    "    remaining_num = keypad(num // 10)\n",
    "\n",
    "    key_char = get_characters(last_digit)\n",
    "    \n",
    "    # recursive \n",
    "    result = []\n",
    "    for char in key_char:\n",
    "        for j in remaining_num:\n",
    "            new_combo = j + char\n",
    "            result.append(new_combo)\n",
    "            \n",
    "\n",
    "    return result\n",
    "\n",
    "keypad(23)        "
   ]
  },
  {
   "cell_type": "code",
   "execution_count": 33,
   "id": "205b7a5f-a960-4645-baad-04d60211a69d",
   "metadata": {},
   "outputs": [
    {
     "name": "stdout",
     "output_type": "stream",
     "text": [
      "Calling keypad(16894)\n",
      "Calling keypad(1689)\n",
      "Calling keypad(168)\n",
      "Calling keypad(16)\n",
      "Calling keypad(1)\n",
      "Base case reached for keypad(1)\n",
      "Result for keypad(16): ['m', 'n', 'o']\n",
      "Result for keypad(168): ['mt', 'nt', 'ot', 'mu', 'nu', 'ou', 'mv', 'nv', 'ov']\n",
      "Result for keypad(1689): ['mtw', 'ntw', 'otw', 'muw', 'nuw', 'ouw', 'mvw', 'nvw', 'ovw', 'mtx', 'ntx', 'otx', 'mux', 'nux', 'oux', 'mvx', 'nvx', 'ovx', 'mty', 'nty', 'oty', 'muy', 'nuy', 'ouy', 'mvy', 'nvy', 'ovy', 'mtz', 'ntz', 'otz', 'muz', 'nuz', 'ouz', 'mvz', 'nvz', 'ovz']\n",
      "Result for keypad(16894): ['mtwg', 'ntwg', 'otwg', 'muwg', 'nuwg', 'ouwg', 'mvwg', 'nvwg', 'ovwg', 'mtxg', 'ntxg', 'otxg', 'muxg', 'nuxg', 'ouxg', 'mvxg', 'nvxg', 'ovxg', 'mtyg', 'ntyg', 'otyg', 'muyg', 'nuyg', 'ouyg', 'mvyg', 'nvyg', 'ovyg', 'mtzg', 'ntzg', 'otzg', 'muzg', 'nuzg', 'ouzg', 'mvzg', 'nvzg', 'ovzg', 'mtwh', 'ntwh', 'otwh', 'muwh', 'nuwh', 'ouwh', 'mvwh', 'nvwh', 'ovwh', 'mtxh', 'ntxh', 'otxh', 'muxh', 'nuxh', 'ouxh', 'mvxh', 'nvxh', 'ovxh', 'mtyh', 'ntyh', 'otyh', 'muyh', 'nuyh', 'ouyh', 'mvyh', 'nvyh', 'ovyh', 'mtzh', 'ntzh', 'otzh', 'muzh', 'nuzh', 'ouzh', 'mvzh', 'nvzh', 'ovzh', 'mtwi', 'ntwi', 'otwi', 'muwi', 'nuwi', 'ouwi', 'mvwi', 'nvwi', 'ovwi', 'mtxi', 'ntxi', 'otxi', 'muxi', 'nuxi', 'ouxi', 'mvxi', 'nvxi', 'ovxi', 'mtyi', 'ntyi', 'otyi', 'muyi', 'nuyi', 'ouyi', 'mvyi', 'nvyi', 'ovyi', 'mtzi', 'ntzi', 'otzi', 'muzi', 'nuzi', 'ouzi', 'mvzi', 'nvzi', 'ovzi']\n",
      "Final Result: ['mtwg', 'ntwg', 'otwg', 'muwg', 'nuwg', 'ouwg', 'mvwg', 'nvwg', 'ovwg', 'mtxg', 'ntxg', 'otxg', 'muxg', 'nuxg', 'ouxg', 'mvxg', 'nvxg', 'ovxg', 'mtyg', 'ntyg', 'otyg', 'muyg', 'nuyg', 'ouyg', 'mvyg', 'nvyg', 'ovyg', 'mtzg', 'ntzg', 'otzg', 'muzg', 'nuzg', 'ouzg', 'mvzg', 'nvzg', 'ovzg', 'mtwh', 'ntwh', 'otwh', 'muwh', 'nuwh', 'ouwh', 'mvwh', 'nvwh', 'ovwh', 'mtxh', 'ntxh', 'otxh', 'muxh', 'nuxh', 'ouxh', 'mvxh', 'nvxh', 'ovxh', 'mtyh', 'ntyh', 'otyh', 'muyh', 'nuyh', 'ouyh', 'mvyh', 'nvyh', 'ovyh', 'mtzh', 'ntzh', 'otzh', 'muzh', 'nuzh', 'ouzh', 'mvzh', 'nvzh', 'ovzh', 'mtwi', 'ntwi', 'otwi', 'muwi', 'nuwi', 'ouwi', 'mvwi', 'nvwi', 'ovwi', 'mtxi', 'ntxi', 'otxi', 'muxi', 'nuxi', 'ouxi', 'mvxi', 'nvxi', 'ovxi', 'mtyi', 'ntyi', 'otyi', 'muyi', 'nuyi', 'ouyi', 'mvyi', 'nvyi', 'ovyi', 'mtzi', 'ntzi', 'otzi', 'muzi', 'nuzi', 'ouzi', 'mvzi', 'nvzi', 'ovzi']\n"
     ]
    }
   ],
   "source": [
    "def get_characters(num):\n",
    "    if num == 2:\n",
    "        return \"abc\"\n",
    "    elif num == 3:\n",
    "        return \"def\"\n",
    "    elif num == 4:\n",
    "        return \"ghi\"\n",
    "    elif num == 5:\n",
    "        return \"jkl\"\n",
    "    elif num == 6:\n",
    "        return \"mno\"\n",
    "    elif num == 7:\n",
    "        return \"pqrs\"\n",
    "    elif num == 8:\n",
    "        return \"tuv\"\n",
    "    elif num == 9:\n",
    "        return \"wxyz\"\n",
    "    else:\n",
    "        return \"\"\n",
    "\n",
    "\n",
    "def keypad(num):\n",
    "    print(f\"Calling keypad({num})\")\n",
    "    \n",
    "    # base case\n",
    "    if num <= 1:\n",
    "        print(f\"Base case reached for keypad({num})\")\n",
    "        return ['']\n",
    "    \n",
    "    last_digit = num % 10\n",
    "    remaining_num = keypad(num // 10)\n",
    "    \n",
    "    key_char = get_characters(last_digit)\n",
    "    \n",
    "    # recursive\n",
    "    result = []\n",
    "    for char in key_char:\n",
    "        for j in remaining_num:\n",
    "            new_combo = j + char\n",
    "            result.append(new_combo)\n",
    "    \n",
    "    print(f\"Result for keypad({num}): {result}\")\n",
    "    \n",
    "    return result\n",
    "\n",
    "# Example usage:\n",
    "result = keypad(16894)\n",
    "print(\"Final Result:\", result)"
   ]
  },
  {
   "cell_type": "code",
   "execution_count": 12,
   "id": "d4917998-c300-4d8e-a50f-4d83ea83b317",
   "metadata": {},
   "outputs": [
    {
     "data": {
      "text/plain": [
       "[3, 2, 1]"
      ]
     },
     "execution_count": 12,
     "metadata": {},
     "output_type": "execute_result"
    }
   ],
   "source": [
    "def rev(inputList):\n",
    "    # if len(inputList) == 0:\n",
    "    #     return []\n",
    "\n",
    "    if not inputList:\n",
    "        return []\n",
    "\n",
    "    first = inputList[0]\n",
    "    return rev(inputList[1:]) + [first]\n",
    "\n",
    "rev([1,2,3])"
   ]
  },
  {
   "cell_type": "code",
   "execution_count": 17,
   "id": "f6c4d9b0-769c-4a94-b15a-9719f789a5b1",
   "metadata": {},
   "outputs": [
    {
     "data": {
      "text/plain": [
       "[8, 7, 6, [5, 4, 3], 2, 1]"
      ]
     },
     "execution_count": 17,
     "metadata": {},
     "output_type": "execute_result"
    }
   ],
   "source": [
    "def deep_reverse(arr):\n",
    "    if len(arr) == 0:\n",
    "        return []\n",
    "    result = []\n",
    "    for num in arr[::-1]:\n",
    "        if isinstance(num,list):\n",
    "            num = deep_reverse(num)\n",
    "        result.append(num)\n",
    "\n",
    "    return result\n",
    "deep_reverse([1,2,[3,4,5],6,7,8])"
   ]
  },
  {
   "cell_type": "code",
   "execution_count": 13,
   "id": "1f21dd39-43f1-4bb1-afbd-8fb8ec3ba2fd",
   "metadata": {},
   "outputs": [
    {
     "name": "stdout",
     "output_type": "stream",
     "text": [
      "[7, 6, [3, 4], 2, 1]\n"
     ]
    }
   ],
   "source": [
    "def deep_reverse(arr):\n",
    "    if len(arr) <= 1:\n",
    "        return []\n",
    "\n",
    "    first = arr[0]\n",
    "    if isinstance(first, list):  # Check if first is a list\n",
    "        in_first = deep_reverse(first)\n",
    "        first = in_first[::-1]\n",
    "    return deep_reverse(arr[1:]) + [first]\n",
    "\n",
    "# Example usage:\n",
    "result = deep_reverse([1, 2, [3, 4, 5], 6, 7, 8])\n",
    "print(result)\n"
   ]
  },
  {
   "cell_type": "code",
   "execution_count": 20,
   "id": "c0c8d812-a5a0-4c42-997c-f8c005ae49e6",
   "metadata": {},
   "outputs": [
    {
     "name": "stdout",
     "output_type": "stream",
     "text": [
      "S D\n",
      "S A\n",
      "D A\n",
      "S D\n",
      "A S\n",
      "A D\n",
      "S D\n"
     ]
    }
   ],
   "source": [
    "def tower_of_Hanoi(num_disks):\n",
    "    return solution(num_disks, 'S', 'A', 'D')\n",
    "\n",
    "def solution(num_disk, S,A,D):\n",
    "    if num_disk == 1:\n",
    "        print(S,D)\n",
    "        return\n",
    "    solution(num_disk -1, S,D,A)\n",
    "    print(S,D)\n",
    "    solution(num_disk -1, A,S,D)\n",
    "\n",
    "tower_of_Hanoi(3)"
   ]
  },
  {
   "cell_type": "code",
   "execution_count": 28,
   "id": "a31f2ed9-6450-4d8d-9468-0ab48583dec9",
   "metadata": {},
   "outputs": [
    {
     "data": {
      "text/plain": [
       "[[], [9], [9], [9, 9]]"
      ]
     },
     "execution_count": 28,
     "metadata": {},
     "output_type": "execute_result"
    }
   ],
   "source": [
    "# def subsets(arr):\n",
    "#     \"\"\"\n",
    "#     :param: arr - input integer array\n",
    "#     Return - list of lists (two dimensional array) where each list represents a subset\n",
    "#     TODO: complete this method to return subsets of an array\n",
    "#     \"\"\"\n",
    "#     pass\n",
    "\n",
    "def solution(arr):\n",
    "    if len(arr) == 0:\n",
    "        return [[]]\n",
    "\n",
    "    result = []\n",
    "    remaining = solution(arr[1:])\n",
    "    for element in remaining:\n",
    "        result.append(element)\n",
    "        result.append([arr[0]] + element)\n",
    "\n",
    "    return result\n",
    "\n",
    "solution([9,9])"
   ]
  },
  {
   "cell_type": "code",
   "execution_count": 27,
   "id": "7b93e964-6fdc-4f1d-a13f-8ae2220d1ce9",
   "metadata": {},
   "outputs": [
    {
     "name": "stdout",
     "output_type": "stream",
     "text": [
      "[[], [9], [9], [9, 9]]\n"
     ]
    }
   ],
   "source": [
    "def solution(arr):\n",
    "    if len(arr) == 0:\n",
    "        return [[]]\n",
    "\n",
    "    #first = [[]]\n",
    "    remaining = solution(arr[1:])  # Recursive call for the remaining elements\n",
    "\n",
    "    result = []\n",
    "    for element in remaining:\n",
    "        result.append(element)  # Include subsets obtained from recursive call\n",
    "        result.append([arr[0]] + element)  # Include subsets with the first element\n",
    "\n",
    "    return result\n",
    "\n",
    "# Example usage:\n",
    "result = solution([9, 9])\n",
    "print(result)\n"
   ]
  },
  {
   "cell_type": "code",
   "execution_count": 38,
   "id": "a5c4a85f-a4c4-4665-91b5-fcbf47c3c2b7",
   "metadata": {},
   "outputs": [
    {
     "data": {
      "text/plain": [
       "44"
      ]
     },
     "execution_count": 38,
     "metadata": {},
     "output_type": "execute_result"
    }
   ],
   "source": [
    "def staircase(n):\n",
    "    '''Hint'''\n",
    "    # Base Case - What holds true for minimum steps possible i.e., n == 0, 1, 2 or 3? Return the number of ways the child can climb n steps.\n",
    "    \n",
    "    # Recursive Step - Split the solution into base case if n > 3.\n",
    "    if n <= 1:\n",
    "        return n\n",
    "    if n <= 2:\n",
    "        return n\n",
    "    if n == 3:\n",
    "        return 4\n",
    "\n",
    "    return staircase(n-1) +  staircase(n-2) + staircase(n-3)\n",
    "\n",
    "staircase(7)    "
   ]
  },
  {
   "cell_type": "markdown",
   "id": "6c43c940-c2bc-4f3a-96d0-b26703e1cdbb",
   "metadata": {},
   "source": [
    "## Problem statement\r\n",
    "\r\n",
    "Given an array `arr` and a target element `target`, find the last index of occurence of `target` in `arr` using recursion. If `target` is not present in `arr`, return `-1`.\r\n",
    "\r\n",
    "For example:\r\n",
    "\r\n",
    "1. For `arr = [1, 2, 5, 5, 1, 2, 5, 4]` and `target = 5`, `output = 6`\r\n",
    "\r\n",
    "2. For `arr = [1, 2, 5, 5, 1, 2, 5, 4]` and `target = 7`, `output = -1`"
   ]
  },
  {
   "cell_type": "code",
   "execution_count": 49,
   "id": "14fb6c6a-db2a-4069-81ad-d560e8a571f6",
   "metadata": {},
   "outputs": [
    {
     "data": {
      "text/plain": [
       "6"
      ]
     },
     "execution_count": 49,
     "metadata": {},
     "output_type": "execute_result"
    }
   ],
   "source": [
    "def last_index(arr,target):\n",
    "    return solution(arr,target, len(arr) -1)\n",
    "\n",
    "def solution(arr,target, index):\n",
    "\n",
    "    if index < 0:\n",
    "        return -1\n",
    "    if arr[index] == target:\n",
    "        return index\n",
    "\n",
    "    return solution(arr,target, index - 1)\n",
    "\n",
    "arr = [1, 2, 5, 5, 1, 2, 5, 4]\n",
    "target = 5\n",
    "\n",
    "last_index(arr, target)"
   ]
  },
  {
   "cell_type": "code",
   "execution_count": null,
   "id": "9919afe5-da3c-4072-be84-fb047da76850",
   "metadata": {},
   "outputs": [],
   "source": []
  }
 ],
 "metadata": {
  "kernelspec": {
   "display_name": "Python 3 (ipykernel)",
   "language": "python",
   "name": "python3"
  },
  "language_info": {
   "codemirror_mode": {
    "name": "ipython",
    "version": 3
   },
   "file_extension": ".py",
   "mimetype": "text/x-python",
   "name": "python",
   "nbconvert_exporter": "python",
   "pygments_lexer": "ipython3",
   "version": "3.11.5"
  }
 },
 "nbformat": 4,
 "nbformat_minor": 5
}
