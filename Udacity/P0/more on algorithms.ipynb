{
 "cells": [
  {
   "cell_type": "markdown",
   "id": "92f28669-eb45-4e63-b8b9-c74de145d3a1",
   "metadata": {},
   "source": [
    "### Heaps"
   ]
  },
  {
   "cell_type": "code",
   "execution_count": null,
   "id": "811ea7eb-7ca7-4231-ae60-43dc739ab5a1",
   "metadata": {},
   "outputs": [],
   "source": [
    "class Heaps:\n",
    "    def __init__(self,initial_size):\n",
    "        self.cbt = [None for _ in range(initial_size)]\n",
    "        self.next_index = 0\n",
    "    def _up_heapify(self):\n",
    "        child_index = self.next_index\n",
    "\n",
    "        while child_index >= 1:\n",
    "            parent_index = (child_index - 1)//2\n",
    "            parent_element = self.cbt[parent_index]\n",
    "            child_element = self.cbt[child_index]\n",
    "\n",
    "            if parent_element > child_element:\n",
    "                self.cbt[parent_index] = child_element\n",
    "                self.cbt[child_index] = parent_element\n",
    "\n",
    "                child_index = parent_index\n",
    "            else:\n",
    "                break\n",
    "\n",
    "    def insert(self,data):\n",
    "        self.cbt[self.next_index] = data\n",
    "        self._up_heapify()\n",
    "        self.next_index += 1\n",
    "        if self.next_index >= len(self.cbt):\n",
    "            temp = self.cbt\n",
    "            self.cbt = [None for _ in range(len(temp)*2)]\n",
    "\n",
    "            for index in range(self.next_index):\n",
    "                self.cbt[index] = temp[index]\n",
    "\n",
    "    def romove(self):\n",
    "        pass"
   ]
  },
  {
   "cell_type": "markdown",
   "id": "09f94cde-2693-4daf-ba8d-72eade93e628",
   "metadata": {},
   "source": [
    "implement yourself"
   ]
  },
  {
   "cell_type": "code",
   "execution_count": null,
   "id": "b1a265f7-0625-4f5c-a3e9-2c529236d0ac",
   "metadata": {},
   "outputs": [],
   "source": [
    "class Heaps:\n",
    "    def __init__(self,initial_size):\n",
    "        self.cbt = [None for _ in range(initial_size)]\n",
    "        self.next_index = 0\n",
    "\n",
    "    def _up_heapify(self):\n",
    "        child_index = self.next_index\n",
    "\n",
    "        while child_index >= 1:\n",
    "            parent_index = (child_index - 1)//2\n",
    "            parent_element = self.cbt[parent_index]\n",
    "            child_element = self.cbt[child_index]\n",
    "\n",
    "            if parent_element > child_element:\n",
    "                self.cbt[child_index] = parent_element\n",
    "                self.cbt[parent_index] = child_element \n",
    "\n",
    "                child_index = parent_index\n",
    "\n",
    "            else:\n",
    "                break\n",
    "\n",
    "    def insert(self,data):\n",
    "        self.cbt[self.next_index] = data\n",
    "        self._up_heapify()\n",
    "        self.next_index += 1\n",
    "\n",
    "        if self.next_index >= len(self.cbt):\n",
    "            temp = self.cbt\n",
    "            self.cbt = [None for _ in range(2*len(temp))]\n",
    "\n",
    "            for index in self.next_index:\n",
    "                self.cbt[index] = temp[index]\n",
    "                "
   ]
  },
  {
   "cell_type": "code",
   "execution_count": null,
   "id": "e1be9b7a-7262-48fc-9ed8-3de8c5c716b7",
   "metadata": {},
   "outputs": [],
   "source": []
  },
  {
   "cell_type": "code",
   "execution_count": 3,
   "id": "dc57d46a-f96a-4145-9029-96ef35f67398",
   "metadata": {},
   "outputs": [],
   "source": [
    "arr = [1,2,3,4,5]"
   ]
  },
  {
   "cell_type": "code",
   "execution_count": 4,
   "id": "04b575fb-064c-4054-a3df-ced0cbe37686",
   "metadata": {},
   "outputs": [],
   "source": [
    "x = arr[3]\n",
    "y = arr[0]"
   ]
  },
  {
   "cell_type": "code",
   "execution_count": 6,
   "id": "61b18eb7-6c31-4eee-ae11-a5dd3cfa74a2",
   "metadata": {},
   "outputs": [
    {
     "name": "stdout",
     "output_type": "stream",
     "text": [
      "[4, 2, 3, 1, 5]\n"
     ]
    }
   ],
   "source": [
    "def flip(arr):\n",
    "    x = 3\n",
    "    y = 0\n",
    "\n",
    "    if arr[x] > arr[y]:\n",
    "        temp = arr[x]\n",
    "        arr[x] = arr[y]\n",
    "        arr[y] = temp\n",
    "        return arr\n",
    "    else:\n",
    "        return arr\n",
    "\n",
    "arr = [1, 2, 3, 4, 5]\n",
    "result = flip(arr)\n",
    "print(result)\n"
   ]
  },
  {
   "cell_type": "code",
   "execution_count": null,
   "id": "cdaba39c-1e90-4f5f-94f5-e480474ace7a",
   "metadata": {},
   "outputs": [],
   "source": [
    "class Heaps:\n",
    "    def __init__(self,initial_size):\n",
    "        self.cbt = [None for _ in range(initial_size)]\n",
    "        self.next_index = 0\n",
    "    def size(self):\n",
    "        return self.next_index\n",
    "\n",
    "    def _down_heapify(self):\n",
    "        parent_index = 0\n",
    "\n",
    "        while parent_index < self.next_index:\n",
    "            left_child_index = (2 * parent_index) + 1\n",
    "            right_child_index = (2 * parent_index) + 2\n",
    "            \n",
    "        \n",
    "\n",
    "    def remove(self):\n",
    "        "
   ]
  },
  {
   "cell_type": "code",
   "execution_count": 7,
   "id": "7e3e84dc-fec6-4c1c-86b9-3f8115708d40",
   "metadata": {},
   "outputs": [],
   "source": [
    "class Node:\n",
    "    def __init__(self,value,parent,color):\n",
    "        self.left = None\n",
    "        self.right = None\n",
    "        self.color = color\n",
    "        self.parent = parent\n",
    "        self.value = value"
   ]
  },
  {
   "cell_type": "code",
   "execution_count": null,
   "id": "bdeb1a54-16fb-4f76-8262-b1680c773a03",
   "metadata": {},
   "outputs": [],
   "source": [
    "class RedBlackTree:\n",
    "    def __init__(self,root):\n",
    "        self.root = Node(root,None,'red')\n",
    "\n",
    "    def insert(self,new_val):\n",
    "        pass\n",
    "\n",
    "    def search(self,find_val):\n",
    "        pass\n",
    "        "
   ]
  },
  {
   "cell_type": "markdown",
   "id": "ea8bfa94-9c40-4bee-b12f-90b2c7db48ec",
   "metadata": {},
   "source": [
    "### A BST"
   ]
  },
  {
   "cell_type": "code",
   "execution_count": 8,
   "id": "575869c8-663d-4c16-a85d-73ca7d01c7d9",
   "metadata": {},
   "outputs": [],
   "source": [
    "class RedBlackTree:\n",
    "    def __init__(self,root):\n",
    "        self.root = Node(root,None,'red')\n",
    "\n",
    "    def insert(self,new_val):\n",
    "        self.insert_helper(self.root,new_val)\n",
    "\n",
    "    def insert_helper(self,current,new_val):\n",
    "        if current.value < new_val:\n",
    "            if current.right:\n",
    "                self.insert_helper(current.right, new_val)\n",
    "            else:\n",
    "                current.right = Node(new_val,current,'red')\n",
    "        else:\n",
    "            if current.left:\n",
    "                self.insert_helper(current.left,new_val)\n",
    "            else:\n",
    "                current.left = Node(new_val,current,'red')"
   ]
  },
  {
   "cell_type": "markdown",
   "id": "c2256636-a47c-41a5-93d7-4ae3ac04d902",
   "metadata": {},
   "source": [
    "#### With rotation"
   ]
  },
  {
   "cell_type": "code",
   "execution_count": null,
   "id": "ffd1bf66-c6a1-42ef-901a-00b4236c1456",
   "metadata": {},
   "outputs": [],
   "source": [
    "class RedBlackTree:\n",
    "    def __init__(self,root):\n",
    "        self.root = Node(root,None,'red')\n",
    "\n",
    "    def insert(self,new_val):\n",
    "        new_node = self.insert_helper(self.root,new_val)\n",
    "        self.rebalance(new_node)\n",
    "        \n",
    "\n",
    "    def insert_helper(self,current,new_val):\n",
    "        if current.value < new_val:\n",
    "            if current.right:\n",
    "                return self.insert_helper(current.right, new_val)\n",
    "            else:\n",
    "                current.right = Node(new_val,current,'red')\n",
    "                return current.right\n",
    "        else:\n",
    "            if current.left:\n",
    "                return self.insert_helper(current.left,new_val)\n",
    "            else:\n",
    "                current.left = Node(new_val,current,'red')\n",
    "                return current.left\n",
    "\n",
    "    def rebalance(self,node):\n",
    "        #case 1\n",
    "        if node.parent == None:\n",
    "            return\n",
    "\n",
    "        #case 2\n",
    "        if node.parent.color == 'black':\n",
    "            return\n",
    "\n",
    "        #case 3\n",
    "        if pibling(node).color == 'red':\n",
    "            pibling(node).color = 'black'\n",
    "            node.parent.color = 'black'\n",
    "            grandparent(node).color = 'red'\n",
    "            self.rebalance(grandparent(node))\n",
    "\n",
    "        #case 4\n",
    "        gp = grandparent(node)\n",
    "        if gp.left and node == gp.left.right:\n",
    "            self.rotate_left(parent(node))\n",
    "        elif gp.right and node == gp.right.left:\n",
    "            self.rotate_right(parent(node))\n",
    "\n",
    "        #case 5\n",
    "        p = node.parent\n",
    "        gp = p.parent\n",
    "        if node == p.left:\n",
    "            self.rotate_right(gp)\n",
    "        else:\n",
    "            self.rotate_left(gp)\n",
    "        p.color = 'black'\n",
    "        gp.color = 'red'\n",
    "        \n",
    "\n",
    "def rotate_left(self, node):\n",
    "    # Save off the parent of the sub-tree we're rotating\n",
    "    p = node.parent\n",
    "\n",
    "    node_moving_up = node.right\n",
    "    # After 'node' moves up, the right child will now be a left child\n",
    "    node.right = node_moving_up.left\n",
    "    \n",
    "    # 'node' moves down, to being a left child\n",
    "    node_moving_up.left = node\n",
    "    node.parent = node_moving_up\n",
    "    \n",
    "    # Now we need to connect to the sub-tree's parent\n",
    "    # 'node' may have been the root\n",
    "    if p != None:\n",
    "        if node == p.left:\n",
    "            p.left = node_moving_up\n",
    "        else:\n",
    "            p.right = node_moving_up\n",
    "    node_moving_up.parent = p\n",
    "\n",
    "def rotate_right(self, node):\n",
    "    p = node.parent\n",
    "\n",
    "    node_moving_up = node.left\n",
    "    node.left = node_moving_up.right\n",
    "    \n",
    "    node_moving_up.right = node\n",
    "    node.parent = node_moving_up\n",
    "    \n",
    "    # Now we need to connect to the sub-tree's parent\n",
    "    if p != None:\n",
    "        if node == p.left:\n",
    "            p.left = node_moving_up\n",
    "        else:\n",
    "            p.right = node_moving_up\n",
    "    node_moving_up.parent = p"
   ]
  },
  {
   "cell_type": "markdown",
   "id": "1d087677-5607-454e-aada-70c283bf5aaf",
   "metadata": {},
   "source": [
    "Bubble sort"
   ]
  },
  {
   "cell_type": "code",
   "execution_count": 1,
   "id": "9b6b2681-9cb2-4487-81f3-1ff3ebaca0f7",
   "metadata": {},
   "outputs": [],
   "source": [
    "wakeup_times = [16,49,3,12,56,49,55,22,13,46,19,55,46,13,25,56,9,48,45]\n",
    "def bubble_sort_1(l):\n",
    "    # TODO: Implement bubble sort solution\n",
    "    n = len(l)\n",
    "    sorted = False\n",
    "\n",
    "    while not sorted:\n",
    "        sorted = True\n",
    "        for i in range(n-1):\n",
    "            if l[i]>l[i+1]:\n",
    "                l[i],l[i+1] = l[i+1],l[i]\n",
    "                sorted = False\n",
    "    return l"
   ]
  },
  {
   "cell_type": "code",
   "execution_count": 2,
   "id": "1037030f-5dba-4776-8c8a-a26c965b1f9c",
   "metadata": {},
   "outputs": [
    {
     "data": {
      "text/plain": [
       "[3, 9, 12, 13, 13, 16, 19, 22, 25, 45, 46, 46, 48, 49, 49, 55, 55, 56, 56]"
      ]
     },
     "execution_count": 2,
     "metadata": {},
     "output_type": "execute_result"
    }
   ],
   "source": [
    "bubble_sort_1(wakeup_times)"
   ]
  },
  {
   "cell_type": "code",
   "execution_count": 13,
   "id": "cfc3eb97-c2df-40d7-b7aa-ab7fc9d13f89",
   "metadata": {},
   "outputs": [
    {
     "name": "stdout",
     "output_type": "stream",
     "text": [
      "Sorted Wakeup Times: [3, 9, 12, 13, 13, 16, 19, 22, 25, 45, 46, 46, 48, 49, 49, 55, 55, 56, 56]\n"
     ]
    }
   ],
   "source": [
    "def bubble_sort_1(l):\n",
    "    # TODO: Implement bubble sort solution\n",
    "    n = len(l)\n",
    "    sorted = False\n",
    "\n",
    "    while not sorted:\n",
    "        sorted = True  # Assume the list is sorted until proven otherwise\n",
    "        for i in range(n - 1):\n",
    "            if l[i] > l[i + 1]:\n",
    "                # Swap if the element found is greater than the next element\n",
    "                l[i], l[i + 1] = l[i + 1], l[i]\n",
    "                sorted = False  # Set sorted to False to indicate a swap occurred\n",
    "\n",
    "    return l\n",
    "\n",
    "# Example usage:\n",
    "wakeup_times = [16, 49, 3, 12, 56, 49, 55, 22, 13, 46, 19, 55, 46, 13, 25, 56, 9, 48, 45]\n",
    "result = bubble_sort_1(wakeup_times)\n",
    "\n",
    "print(\"Sorted Wakeup Times:\", result)\n"
   ]
  },
  {
   "cell_type": "code",
   "execution_count": null,
   "id": "8200b752-6c39-44b0-b28b-43ab87f89846",
   "metadata": {},
   "outputs": [],
   "source": [
    "def bubble_sort_1(lst):\n",
    "    n = len(lst)\n",
    "\n",
    "    for i in range(n):\n",
    "        # Last i elements are already sorted, so no need to check them\n",
    "        for j in range(0, n - i - 1):\n",
    "            if lst[j] > lst[j + 1]:\n",
    "                # Swap if the element found is greater than the next element\n",
    "                lst[j], lst[j + 1] = lst[j + 1], lst[j]\n",
    "\n",
    "# Example usage:\n",
    "wakeup_times = [16, 49, 3, 12, 56, 49, 55, 22, 13, 46, 19, 55, 46, 13, 25, 56, 9, 48, 45]\n",
    "bubble_sort_1(wakeup_times)\n",
    "\n",
    "print(\"Sorted Wakeup Times:\", wakeup_times)\n"
   ]
  },
  {
   "cell_type": "code",
   "execution_count": 8,
   "id": "091a7aba-8fc8-4b70-a3c9-503531852caf",
   "metadata": {},
   "outputs": [
    {
     "name": "stdout",
     "output_type": "stream",
     "text": [
      "Sorted Sleep Times: [(21, 55), (21, 58), (22, 5), (23, 20), (24, 3), (24, 13), (24, 23)]\n"
     ]
    }
   ],
   "source": [
    "def bubble_sort_2(lst):\n",
    "    n = len(lst)\n",
    "    sorted = False\n",
    "\n",
    "    while not sorted:\n",
    "        sorted = True  # Assume the list is sorted until proven otherwise\n",
    "        for i in range(n - 1):\n",
    "            # Compare sleep times (hours, minutes)\n",
    "            if lst[i][0] > lst[i + 1][0] or (lst[i][0] == lst[i + 1][0] and lst[i][1] > lst[i + 1][1]):\n",
    "                # Swap if the current sleep time is greater than the next sleep time\n",
    "                lst[i], lst[i + 1] = lst[i + 1], lst[i]\n",
    "                sorted = False  # Set sorted to False to indicate a swap occurred\n",
    "\n",
    "    return lst\n",
    "\n",
    "# Example usage:\n",
    "sleep_times = [(24, 13), (21, 55), (23, 20), (22, 5), (24, 23), (21, 58), (24, 3)]\n",
    "result = bubble_sort_2(sleep_times)\n",
    "\n",
    "print(\"Sorted Sleep Times:\", result)\n"
   ]
  },
  {
   "cell_type": "code",
   "execution_count": null,
   "id": "bff66d46-177e-434b-8943-4f5fbf365668",
   "metadata": {},
   "outputs": [],
   "source": []
  },
  {
   "cell_type": "code",
   "execution_count": 13,
   "id": "ccf99a61-7e43-4f73-8ed9-89b4148373b9",
   "metadata": {},
   "outputs": [
    {
     "data": {
      "text/plain": [
       "[3, 9, 12, 13, 13, 13, 13, 13, 13, 13, 13, 13, 13, 13, 13, 13, 13, 13, 13]"
      ]
     },
     "execution_count": 13,
     "metadata": {},
     "output_type": "execute_result"
    }
   ],
   "source": [
    "def bubble_sort_1(l):\n",
    "    for iteration in range(len(l)):\n",
    "        for index in range(1,len(l)):\n",
    "            this = l[index]\n",
    "            prev = l[index - 1]\n",
    "\n",
    "            if prev < this:\n",
    "                continue\n",
    "            l[index] = this\n",
    "            l[index-1] = prev\n",
    "\n",
    "    return l\n",
    "\n",
    "bubble_sort_1(wakeup_times)"
   ]
  },
  {
   "cell_type": "code",
   "execution_count": 14,
   "id": "2da4303a-5775-4efc-87f9-53166bc48698",
   "metadata": {},
   "outputs": [
    {
     "data": {
      "text/plain": [
       "([1, 4], [3, 5])"
      ]
     },
     "execution_count": 14,
     "metadata": {},
     "output_type": "execute_result"
    }
   ],
   "source": [
    "def split(arr):\n",
    "    left = []\n",
    "    right = []\n",
    "    midpoint = len(arr)//2\n",
    "    left = arr[:midpoint]\n",
    "    right = arr[midpoint:]\n",
    "    return left,right\n",
    "\n",
    "split([1,4,3,5])"
   ]
  },
  {
   "cell_type": "code",
   "execution_count": 15,
   "id": "40379c7c-4e80-4a8f-9e2b-02a6b4b374f2",
   "metadata": {},
   "outputs": [],
   "source": [
    "del split"
   ]
  },
  {
   "cell_type": "code",
   "execution_count": 16,
   "id": "b07149bd-39bc-407b-b1a5-de1e768ed469",
   "metadata": {},
   "outputs": [
    {
     "ename": "NameError",
     "evalue": "name 'split' is not defined",
     "output_type": "error",
     "traceback": [
      "\u001b[1;31m---------------------------------------------------------------------------\u001b[0m",
      "\u001b[1;31mNameError\u001b[0m                                 Traceback (most recent call last)",
      "Cell \u001b[1;32mIn[16], line 1\u001b[0m\n\u001b[1;32m----> 1\u001b[0m split([\u001b[38;5;241m1\u001b[39m,\u001b[38;5;241m4\u001b[39m,\u001b[38;5;241m3\u001b[39m,\u001b[38;5;241m5\u001b[39m])\n",
      "\u001b[1;31mNameError\u001b[0m: name 'split' is not defined"
     ]
    }
   ],
   "source": [
    "split([1,4,3,5])"
   ]
  },
  {
   "cell_type": "code",
   "execution_count": 31,
   "id": "c7d0a359-e4be-48ff-a124-e7f9bad66625",
   "metadata": {},
   "outputs": [
    {
     "data": {
      "text/plain": [
       "((([1], [4]), ([3], [5])), (([6], [7]), ([3], ([2], [0]))))"
      ]
     },
     "execution_count": 31,
     "metadata": {},
     "output_type": "execute_result"
    }
   ],
   "source": [
    "def mergesplit(items):\n",
    "    if len(items) <= 1:\n",
    "        return items\n",
    "    mid = len(items)//2\n",
    "    left = items[:mid]\n",
    "    right = items[mid:]\n",
    "\n",
    "    left = mergesplit(left)\n",
    "    right = mergesplit(right)\n",
    "    return \n",
    "\n",
    "mergesplit([1,4,3,5,6,7,3,2,0])"
   ]
  },
  {
   "cell_type": "code",
   "execution_count": 35,
   "id": "beb62cb7-fa82-4ec7-bc99-3198a1267c58",
   "metadata": {},
   "outputs": [
    {
     "data": {
      "text/plain": [
       "[1, 2, 3, 4, 4, 7, 7, 8]"
      ]
     },
     "execution_count": 35,
     "metadata": {},
     "output_type": "execute_result"
    }
   ],
   "source": [
    "def mergesort(items):\n",
    "    if len(items) <= 1:\n",
    "        return items\n",
    "    mid = len(items)//2\n",
    "    left = items[:mid]\n",
    "    right = items[mid:]\n",
    "\n",
    "    left = mergesort(left)\n",
    "    right = mergesort(right)\n",
    "    return merge(left,right)\n",
    "\n",
    "def merge(left,right):\n",
    "    merged = []\n",
    "    i = j = 0\n",
    "    while i < len(left) and j < len(right):\n",
    "        if left[i] < right[j]:\n",
    "            merged.append(left[i])\n",
    "            i += 1\n",
    "        else:\n",
    "            merged.append(right[j])\n",
    "            j += 1\n",
    "\n",
    "    merged += left[i:]\n",
    "    merged += right[j:]\n",
    "    return merged\n",
    "\n",
    "mergesort([1,4,7,3,7,8,4,2])"
   ]
  },
  {
   "cell_type": "code",
   "execution_count": 46,
   "id": "1c218583-cd71-4762-8b90-b3b6ebfcc4ba",
   "metadata": {},
   "outputs": [
    {
     "name": "stdout",
     "output_type": "stream",
     "text": [
      "Sorted Result: [54, 99, 49, 22, 37, 18, 22, 90, 86, 33]\n",
      "Inversion Count: 33\n"
     ]
    }
   ],
   "source": [
    "def mergesort(items):\n",
    "    if len(items) <= 1:\n",
    "        return items, 0  # Return the sorted items and the inversion count\n",
    "\n",
    "    mid = len(items) // 2\n",
    "    left = items[:mid]\n",
    "    right = items[mid:]\n",
    "\n",
    "    left, inv_left = mergesort(left)\n",
    "    right, inv_right = mergesort(right)\n",
    "    merge_count = merge(left, right)\n",
    "\n",
    "    return items, inv_left + inv_right + merge_count\n",
    "\n",
    "def merge(left, right):\n",
    "    merged = []\n",
    "    i = j = count = 0\n",
    "\n",
    "    while i < len(left) and j < len(right):\n",
    "        if left[i] <= right[j]:\n",
    "            merged.append(left[i])\n",
    "            i += 1\n",
    "        else:\n",
    "            merged.append(right[j])\n",
    "            j += 1\n",
    "            count += len(left) - i  # Count the inversions\n",
    "\n",
    "    merged += left[i:]\n",
    "    merged += right[j:]\n",
    "\n",
    "    return count\n",
    "\n",
    "# Example usage:\n",
    "result, inversion_count = mergesort([54, 99, 49, 22, 37, 18, 22, 90, 86, 33])\n",
    "print(\"Sorted Result:\", result)\n",
    "print(\"Inversion Count:\", inversion_count)\n"
   ]
  },
  {
   "cell_type": "code",
   "execution_count": 49,
   "id": "a56f3c2f-3193-46b6-99a7-43a589c0beef",
   "metadata": {},
   "outputs": [
    {
     "data": {
      "text/plain": [
       "26"
      ]
     },
     "execution_count": 49,
     "metadata": {},
     "output_type": "execute_result"
    }
   ],
   "source": [
    "def mergesort(items):\n",
    "    \"\"\"Merge sort algorithm with inversion counting.\n",
    "\n",
    "    Args:\n",
    "        items: A list of items to be sorted.\n",
    "\n",
    "    Returns:\n",
    "        A tuple containing the sorted items and the inversion count.\n",
    "    \"\"\"\n",
    "\n",
    "    if len(items) <= 1:\n",
    "        return items, 0  # Return the sorted items and the inversion count\n",
    "\n",
    "    mid = len(items) // 2\n",
    "    left, right = items[:mid], items[mid:]\n",
    "\n",
    "    left_sorted, left_inv = mergesort(left)\n",
    "    right_sorted, right_inv = mergesort(right)\n",
    "    merged, merge_inv = merge(left_sorted, right_sorted)\n",
    "\n",
    "    return merged, left_inv + right_inv + merge_inv\n",
    "\n",
    "def merge(left, right):\n",
    "    \"\"\"Merge two sorted lists and count inversions.\n",
    "\n",
    "    Args:\n",
    "        left: A sorted list.\n",
    "        right: A sorted list.\n",
    "\n",
    "    Returns:\n",
    "        A tuple containing the merged sorted list and the inversion count.\n",
    "    \"\"\"\n",
    "\n",
    "    merged = []\n",
    "    i = j = count = 0\n",
    "\n",
    "    while i < len(left) and j < len(right):\n",
    "        if left[i] <= right[j]:\n",
    "            merged.append(left[i])\n",
    "            i += 1\n",
    "        else:\n",
    "            merged.append(right[j])\n",
    "            j += 1\n",
    "            count += len(left) - i  # Count inversions\n",
    "\n",
    "    merged += left[i:]\n",
    "    merged += right[j:]\n",
    "\n",
    "    return merged, count\n",
    "\n",
    "mergesort([54, 99, 49, 22, 37, 18, 22, 90, 86, 33])[1]"
   ]
  },
  {
   "cell_type": "markdown",
   "id": "6601d9fc-77f1-48b3-9d7e-fecc71eabbad",
   "metadata": {},
   "source": [
    "Bubble sort myself"
   ]
  },
  {
   "cell_type": "code",
   "execution_count": 13,
   "id": "f3d746a5-9f57-4b15-9092-fcea9b365138",
   "metadata": {},
   "outputs": [
    {
     "name": "stdout",
     "output_type": "stream",
     "text": [
      "After iteration: [54, 49, 22, 37, 18, 22, 90, 86, 33, 99]\n",
      "After iteration: [49, 22, 37, 18, 22, 54, 86, 33, 90, 99]\n",
      "After iteration: [22, 37, 18, 22, 49, 54, 33, 86, 90, 99]\n",
      "After iteration: [22, 18, 22, 37, 49, 33, 54, 86, 90, 99]\n",
      "After iteration: [18, 22, 22, 37, 33, 49, 54, 86, 90, 99]\n",
      "After iteration: [18, 22, 22, 33, 37, 49, 54, 86, 90, 99]\n",
      "After iteration: [18, 22, 22, 33, 37, 49, 54, 86, 90, 99]\n"
     ]
    },
    {
     "data": {
      "text/plain": [
       "([18, 22, 22, 33, 37, 49, 54, 86, 90, 99], 7)"
      ]
     },
     "execution_count": 13,
     "metadata": {},
     "output_type": "execute_result"
    }
   ],
   "source": [
    "def bubblesort(arr):\n",
    "    n = len(arr)\n",
    "    sorted = False\n",
    "    passing = 0\n",
    "    while not sorted:\n",
    "        passing += 1\n",
    "        sorted = True\n",
    "        for i in range(n-1):\n",
    "            if arr[i] > arr[i+1]:\n",
    "                arr[i],arr[i+1] = arr[i+1],arr[i]\n",
    "                sorted = False\n",
    "        print(f\"After iteration: {arr}\")\n",
    "\n",
    "    return arr,passing \n",
    "\n",
    "bubblesort([54, 99, 49, 22, 37, 18, 22, 90, 86, 33])"
   ]
  },
  {
   "cell_type": "code",
   "execution_count": 16,
   "id": "63305043-645f-4012-8d95-e8c1d0636de0",
   "metadata": {},
   "outputs": [
    {
     "data": {
      "text/plain": [
       "[2, 4, 7, 57, 58, 80]"
      ]
     },
     "execution_count": 16,
     "metadata": {},
     "output_type": "execute_result"
    }
   ],
   "source": [
    "def mergesort(arr):\n",
    "    if len(arr) <= 1:\n",
    "        return arr\n",
    "        \n",
    "    mid = len(arr)//2\n",
    "    left = arr[:mid]\n",
    "    right = arr[mid:]\n",
    "\n",
    "    left = mergesort(left)\n",
    "    right = mergesort(right)\n",
    "    return merge(left,right)\n",
    "\n",
    "def merge(left,right):\n",
    "    merged = []\n",
    "    left_index = right_index = 0\n",
    "    while left_index < len(left) and right_index < len(right):\n",
    "        if left[left_index] < right[right_index]:\n",
    "            merged.append(left[left_index])\n",
    "            left_index += 1\n",
    "        else:\n",
    "            merged.append(right[right_index])\n",
    "            right_index += 1\n",
    "\n",
    "    merged += left[left_index:]\n",
    "    merged += right[right_index:]\n",
    "\n",
    "    return merged\n",
    "\n",
    "mergesort([80,57,4,2,7,58])"
   ]
  },
  {
   "cell_type": "code",
   "execution_count": 1,
   "id": "05cf0ba0-3e51-438b-b3f3-dba0fdb51c5f",
   "metadata": {},
   "outputs": [],
   "source": [
    "def mergesort(items):\n",
    "    if len(items) <= 1:\n",
    "        return items, 0  # Return the sorted items and the inversion count\n",
    "\n",
    "    mid = len(items) // 2\n",
    "    left, right = items[:mid], items[mid:]\n",
    "\n",
    "    left_sorted, left_inv = mergesort(left)\n",
    "    right_sorted, right_inv = mergesort(right)\n",
    "    merged, merge_inv = merge(left_sorted, right_sorted)\n",
    "\n",
    "    return merged, left_inv + right_inv + merge_inv\n",
    "\n",
    "def merge(left, right):\n",
    "    merged = []\n",
    "    i = j = count = 0\n",
    "\n",
    "    while i < len(left) and j < len(right):\n",
    "        if left[i] <= right[j]:\n",
    "            merged.append(left[i])\n",
    "            i += 1\n",
    "        else:\n",
    "            merged.append(right[j])\n",
    "            j += 1\n",
    "            count += len(left) - i  # Count inversions\n",
    "\n",
    "    merged += left[i:]\n",
    "    merged += right[j:]\n",
    "\n",
    "    return merged, count\n",
    "\n",
    "def count_inversions(arr):\n",
    "    _, count = mergesort(arr)\n",
    "    return count"
   ]
  },
  {
   "cell_type": "code",
   "execution_count": 3,
   "id": "f889d577-6c7f-49c4-99aa-611bb20d56f0",
   "metadata": {},
   "outputs": [
    {
     "data": {
      "text/plain": [
       "26"
      ]
     },
     "execution_count": 3,
     "metadata": {},
     "output_type": "execute_result"
    }
   ],
   "source": [
    "count_inversions([54, 99, 49, 22, 37, 18, 22, 90, 86, 33])"
   ]
  },
  {
   "cell_type": "code",
   "execution_count": 15,
   "id": "224ab8a3-0fc8-4b2f-bc1c-0b8f24ae45b2",
   "metadata": {},
   "outputs": [],
   "source": [
    "def mergesort(arr):\n",
    "    if len(arr) <= 1:\n",
    "        return arr,0\n",
    "\n",
    "    mid = len(arr)//2\n",
    "    left,right = arr[:mid],arr[mid:]\n",
    "    left_sorted, left_inv = mergesort(left)\n",
    "    right_sorted, right_inv = mergesort(right)\n",
    "\n",
    "    merged,merged_inv = merge(left_sorted,right_sorted)\n",
    "    return merged, left_inv + right_inv + merged_inv\n",
    "    \n",
    "\n",
    "def merge(left,right):\n",
    "    merged = []\n",
    "    left_index = right_index = count = 0\n",
    "    while left_index < len(left) and right_index < len(right):\n",
    "        if left[left_index] <= right[right_index]:\n",
    "            merged.append(left[left_index])\n",
    "            left_index += 1\n",
    "        else:\n",
    "            merged.append(right[right_index])\n",
    "            right_index += 1\n",
    "\n",
    "            #count += len(left) - left_index\n",
    "            count += len(left) - left_index\n",
    "\n",
    "    merged += left[left_index:]\n",
    "    merged += right[right_index:]\n",
    "    return merged, count\n",
    "\n",
    "def count_inversions(arr):\n",
    "    _,count = mergesort(arr)\n",
    "    return count"
   ]
  },
  {
   "cell_type": "code",
   "execution_count": 16,
   "id": "708f665f-6e80-4aa8-9f20-16084e1dcd19",
   "metadata": {},
   "outputs": [
    {
     "data": {
      "text/plain": [
       "26"
      ]
     },
     "execution_count": 16,
     "metadata": {},
     "output_type": "execute_result"
    }
   ],
   "source": [
    "count_inversions([54, 99, 49, 22, 37, 18, 22, 90, 86, 33])"
   ]
  },
  {
   "cell_type": "code",
   "execution_count": 1,
   "id": "0f5ce5bf-e622-4a5a-ad42-314a41b9737d",
   "metadata": {},
   "outputs": [
    {
     "name": "stdout",
     "output_type": "stream",
     "text": [
      "deeJRSfrsTUX\n"
     ]
    }
   ],
   "source": [
    "def case_sort(string):\n",
    "    upper_ch_index = 0\n",
    "    lower_ch_index = 0\n",
    "    \n",
    "    sorted_string = sorted(string)\n",
    "    \n",
    "    for index, character in enumerate(sorted_string):\n",
    "        # Check if character is lower-case\n",
    "        if character.islower():\n",
    "            lower_ch_index = index\n",
    "            break\n",
    "\n",
    "    output = []\n",
    "    \n",
    "    for character in string:\n",
    "        # If character is lower case, pick the next lower_case character\n",
    "        if character.islower():\n",
    "            output.append(sorted_string[lower_ch_index])\n",
    "            lower_ch_index += 1\n",
    "        else:\n",
    "            output.append(sorted_string[upper_ch_index])\n",
    "            upper_ch_index += 1\n",
    "\n",
    "    return ''.join(output)\n",
    "\n",
    "# Test case\n",
    "input_str = \"fedRTSersUXJ\"\n",
    "output_str = case_sort(input_str)\n",
    "print(output_str)"
   ]
  },
  {
   "cell_type": "code",
   "execution_count": 3,
   "id": "33a9285c-6766-4d72-80be-9716a0757ba9",
   "metadata": {},
   "outputs": [
    {
     "data": {
      "text/plain": [
       "'aefFKTjxz'"
      ]
     },
     "execution_count": 3,
     "metadata": {},
     "output_type": "execute_result"
    }
   ],
   "source": [
    "def case_sort(string):\n",
    "    upper_index = 0\n",
    "    lower_index = 0\n",
    "\n",
    "    sorted_alphabet = sorted(string)\n",
    "    for index,char in enumerate(sorted_alphabet):\n",
    "        if char.islower(): \n",
    "            lower_index = index\n",
    "            break\n",
    "    result = []\n",
    "    for charaters in string:\n",
    "        if charaters.islower():\n",
    "            result.append(sorted_alphabet[lower_index])\n",
    "            lower_index += 1\n",
    "        else:\n",
    "            result.append(sorted_alphabet[upper_index])\n",
    "            upper_index += 1\n",
    "    return ''.join(result)\n",
    "\n",
    "case_sort('azfKFTjxe')"
   ]
  },
  {
   "cell_type": "code",
   "execution_count": 6,
   "id": "ced0c835-6b4a-4ba9-a1a7-5955d6cb6c93",
   "metadata": {},
   "outputs": [],
   "source": [
    "items = [8, 3, 1, 7, 0, 10, 2]\n",
    "\n",
    "pivot_index = len(items) - 1\n",
    "pivot_value = items[pivot_index]"
   ]
  },
  {
   "cell_type": "code",
   "execution_count": 7,
   "id": "f8358fa6-fee5-4519-8d30-7f09568c1ef6",
   "metadata": {},
   "outputs": [
    {
     "data": {
      "text/plain": [
       "2"
      ]
     },
     "execution_count": 7,
     "metadata": {},
     "output_type": "execute_result"
    }
   ],
   "source": [
    "pivot_value"
   ]
  },
  {
   "cell_type": "code",
   "execution_count": 2,
   "id": "16d076fb-e61d-4df6-9498-cf636c7c81ef",
   "metadata": {},
   "outputs": [
    {
     "data": {
      "text/plain": [
       "[0, 1, 2, 7, 3, 10, 8]"
      ]
     },
     "execution_count": 2,
     "metadata": {},
     "output_type": "execute_result"
    }
   ],
   "source": [
    "items = [8, 3, 1, 7, 0, 10, 2]\n",
    "\n",
    "pivot_index = len(items) - 1\n",
    "pivot_value = items[pivot_index]\n",
    "left_index = 0\n",
    "\n",
    "while (pivot_index != left_index):\n",
    "\n",
    "    item = items[left_index]\n",
    "    if item <= pivot_value:\n",
    "        left_index += 1\n",
    "        continue\n",
    "\n",
    "    items[left_index] = items[pivot_index - 1]\n",
    "    items[pivot_index - 1] = pivot_value\n",
    "    items[pivot_index] = item\n",
    "    pivot_index -= 1\n",
    "\n",
    "items\n",
    "   "
   ]
  },
  {
   "cell_type": "code",
   "execution_count": 4,
   "id": "043fb49c-eb8b-46d0-9279-156be2b19a60",
   "metadata": {},
   "outputs": [
    {
     "data": {
      "text/plain": [
       "[2, 2, 2, 3, 5, 5, 6]"
      ]
     },
     "execution_count": 4,
     "metadata": {},
     "output_type": "execute_result"
    }
   ],
   "source": [
    "def sort_a_little_bit(items, begin_index, end_index):    \n",
    "    left_index = begin_index\n",
    "    pivot_index = end_index\n",
    "    pivot_value = items[pivot_index]\n",
    "\n",
    "    while (pivot_index != left_index):\n",
    "\n",
    "        item = items[left_index]\n",
    "\n",
    "        if item <= pivot_value:\n",
    "            left_index += 1\n",
    "            continue\n",
    "\n",
    "        items[left_index] = items[pivot_index - 1]\n",
    "        items[pivot_index - 1] = pivot_value\n",
    "        items[pivot_index] = item\n",
    "        pivot_index -= 1\n",
    "    \n",
    "    return pivot_index \n",
    "def sort_all(items, begin_index, end_index):\n",
    "    if end_index <= begin_index:\n",
    "        return\n",
    "    \n",
    "    pivot_index = sort_a_little_bit(items, begin_index, end_index)\n",
    "    sort_all(items, begin_index, pivot_index - 1)\n",
    "    sort_all(items, pivot_index + 1, end_index)\n",
    "    \n",
    "def quicksort(items):\n",
    "    sort_all(items, 0, len(items) - 1)\n",
    "    return items\n",
    "\n",
    "quicksort([3,2,5,2,5,6,2,])"
   ]
  },
  {
   "cell_type": "code",
   "execution_count": 8,
   "id": "fdfce2b7-d39b-4bf1-88d2-53727f2150d6",
   "metadata": {},
   "outputs": [
    {
     "name": "stdout",
     "output_type": "stream",
     "text": [
      "[1, 1, 2, 3, 6, 8, 10]\n"
     ]
    }
   ],
   "source": [
    "def quicksort(arr):\n",
    "    if len(arr) <= 1:\n",
    "        return arr\n",
    "    \n",
    "    pivot = arr[len(arr) // 2]\n",
    "    left = [x for x in arr if x < pivot]\n",
    "    middle = [x for x in arr if x == pivot]\n",
    "    right = [x for x in arr if x > pivot]\n",
    "    \n",
    "    return quicksort(left) + middle + quicksort(right)\n",
    "\n",
    "# Example usage:\n",
    "my_list = [3, 6, 8, 10, 1, 2, 1]\n",
    "sorted_list = quicksort(my_list)\n",
    "print(sorted_list)"
   ]
  },
  {
   "cell_type": "code",
   "execution_count": 7,
   "id": "82cb57e1-ff52-4ebf-a98f-3f928666ebbc",
   "metadata": {},
   "outputs": [
    {
     "name": "stdout",
     "output_type": "stream",
     "text": [
      "Sorted array: [1, 5, 7, 8, 9, 10]\n"
     ]
    }
   ],
   "source": [
    "def partition(arr, low, high):\n",
    "    \"\"\"Partitions the array around a pivot element.\n",
    "\n",
    "    Args:\n",
    "        arr: The array to be partitioned.\n",
    "        low: The lower index of the subarray.\n",
    "        high: The higher index of the subarray.\n",
    "\n",
    "    Returns:\n",
    "        The index of the pivot element after partitioning.\n",
    "    \"\"\"\n",
    "\n",
    "    pivot = arr[high]\n",
    "    i = (low - 1)  # index of smaller element\n",
    "    for j in range(low, high):\n",
    "        # Check if current element is smaller than or equal to pivot\n",
    "        if arr[j] <= pivot:\n",
    "            i += 1\n",
    "            arr[i], arr[j] = arr[j], arr[i]\n",
    "\n",
    "    arr[i + 1], arr[high] = arr[high], arr[i + 1]\n",
    "    return i + 1\n",
    "\n",
    "def quicksort(arr, low, high):\n",
    "    \"\"\"Sorts the array using the quicksort algorithm.\n",
    "\n",
    "    Args:\n",
    "        arr: The array to be sorted.\n",
    "        low: The lower index of the subarray.\n",
    "        high: The higher index of the subarray.\n",
    "    \"\"\"\n",
    "\n",
    "    if low < high:\n",
    "        # pi is partitioning index, arr[p] is now at right place\n",
    "        pi = partition(arr, low, high)\n",
    "\n",
    "        # Recursively sort elements before partition and after partition\n",
    "        quicksort(arr, low, pi - 1)\n",
    "        quicksort(arr, pi + 1, high)\n",
    "\n",
    "# Example usage\n",
    "arr = [10, 7, 8, 9, 1, 5]\n",
    "quicksort(arr, 0, len(arr) - 1)\n",
    "print(\"Sorted array:\", arr)\n"
   ]
  },
  {
   "cell_type": "code",
   "execution_count": 1,
   "id": "bf8f5f61-05be-45b3-8157-95073d5e1853",
   "metadata": {},
   "outputs": [
    {
     "data": {
      "text/plain": [
       "[1, 2, 3, 6, 55, 56, 72, 77, 88]"
      ]
     },
     "execution_count": 1,
     "metadata": {},
     "output_type": "execute_result"
    }
   ],
   "source": [
    "def quicksort(arr,left,right):\n",
    "    if left < right:\n",
    "        par_pos = partition(arr,left,right)\n",
    "        quicksort(arr,left, par_pos -1)\n",
    "        quicksort(arr,par_pos+ 1,right)\n",
    "    return arr\n",
    "\n",
    "def partition(arr,left,right):\n",
    "    i = left\n",
    "    j = right - 1\n",
    "    pivot = arr[right]\n",
    "\n",
    "    while i <= j:\n",
    "        while i < right and arr[i] < pivot:\n",
    "            i += 1\n",
    "        while j > left and arr[j] >= pivot:\n",
    "            j -= 1\n",
    "        if i < j:\n",
    "            arr[i], arr[j] = arr[j], arr[i]\n",
    "            \n",
    "    if arr[i]>pivot:\n",
    "        arr[i], arr[right] = arr[right], arr[i]\n",
    "    return i\n",
    "\n",
    "arr = [77,88,3,55,6,2,1,56,72]\n",
    "quicksort(arr,0,len(arr)-1)"
   ]
  },
  {
   "cell_type": "markdown",
   "id": "7b1209ac-7f23-4672-aac9-875996559584",
   "metadata": {},
   "source": [
    "HeapSort"
   ]
  },
  {
   "cell_type": "code",
   "execution_count": 11,
   "id": "16494968-c7c1-4550-a481-63ae550fc243",
   "metadata": {},
   "outputs": [
    {
     "name": "stdout",
     "output_type": "stream",
     "text": [
      "Sorted array: [5, 6, 7, 11, 12, 13]\n"
     ]
    }
   ],
   "source": [
    "def heapify(arr, n, i):\n",
    "    largest = i\n",
    "    left_child = 2 * i + 1\n",
    "    right_child = 2 * i + 2\n",
    "\n",
    "    if left_child < n and arr[left_child] > arr[largest]:\n",
    "        largest = left_child\n",
    "\n",
    "    if right_child < n and arr[right_child] > arr[largest]:\n",
    "        largest = right_child\n",
    "\n",
    "    if largest != i:\n",
    "        arr[i], arr[largest] = arr[largest], arr[i]\n",
    "        heapify(arr, n, largest)\n",
    "\n",
    "def heap_sort(arr):\n",
    "    n = len(arr)\n",
    "\n",
    "    # Build a max heap\n",
    "    for i in range(n // 2 - 1, -1, -1):\n",
    "        heapify(arr, n, i)\n",
    "\n",
    "    # Extract elements one by one\n",
    "    for i in range(n - 1, 0, -1):\n",
    "        arr[i], arr[0] = arr[0], arr[i]  # Swap root (max element) with the last element\n",
    "        heapify(arr, i, 0)  # Heapify the reduced heap\n",
    "\n",
    "# Example usage:\n",
    "my_list = [12, 11, 13, 5, 6, 7]\n",
    "heap_sort(my_list)\n",
    "print(\"Sorted array:\", my_list)\n"
   ]
  },
  {
   "cell_type": "code",
   "execution_count": 2,
   "id": "bcfe4924-fa24-4fa0-b8e0-8c76e2ffe67e",
   "metadata": {},
   "outputs": [
    {
     "data": {
      "text/plain": [
       "[0, 1, 3, 3, 4, 4, 5, 6, 7, 8, 9, 9]"
      ]
     },
     "execution_count": 2,
     "metadata": {},
     "output_type": "execute_result"
    }
   ],
   "source": [
    "def heapify(arr,n,i):\n",
    "    largest_index = i\n",
    "    left_node = (2*i) + 1\n",
    "    right_node = (2*i) + 2\n",
    "\n",
    "    # n is the number of items in the arr\n",
    "    if left_node < n and arr[i] < arr[left_node]:\n",
    "        largest_index = left_node\n",
    "    if right_node < n and arr[largest_index] < arr[right_node]:\n",
    "        largest_index = right_node\n",
    "    if largest_index != i:\n",
    "        arr[i], arr[largest_index] = arr[largest_index],arr[i]\n",
    "\n",
    "        heapify(arr,n,largest_index)\n",
    "\n",
    "def heapsort(arr):\n",
    "    n = len(arr)\n",
    "\n",
    "    for i in range(n,-1,-1):\n",
    "        heapify(arr,n,i)\n",
    "\n",
    "    for i in range (n-1,0,-1):\n",
    "        arr[i], arr[0] = arr[0], arr[i]\n",
    "        heapify(arr,i,0)\n",
    "\n",
    "    return arr\n",
    "\n",
    "\n",
    "heapsort([3, 7, 4, 6, 1, 0, 9, 8, 9, 4, 3, 5])"
   ]
  },
  {
   "cell_type": "code",
   "execution_count": null,
   "id": "1699b682-f8dc-4e07-aac8-60f23bbd6530",
   "metadata": {},
   "outputs": [],
   "source": [
    "def heapify(arr,n,i):\n",
    "    largest_index = i\n",
    "    left_index = (2*i) + 1\n",
    "    right_index = (2*i) + 2\n",
    "\n",
    "    if left_index < n and arr[i] < arr[left_index]:\n",
    "        largest_index = left_index\n",
    "\n",
    "    if right_index < n and arr[largest_index] < arr[right_index]:\n",
    "        largest_index = right_index\n",
    "\n",
    "    if largest_index != i:\n",
    "        arr[i], arr[largest_index] = arr[largest_index], arr[i]\n",
    "\n",
    "        heapify(arr,n,largest_index)\n",
    "\n",
    "def heapsort(arr):\n",
    "    n = len(arr)\n",
    "    for i in range(n,-1,-1):\n",
    "        heapify(arr,n,i)\n",
    "    for i "
   ]
  },
  {
   "cell_type": "code",
   "execution_count": null,
   "id": "5cfab9d8-294b-4d53-a53d-6db77d846871",
   "metadata": {},
   "outputs": [],
   "source": []
  },
  {
   "cell_type": "code",
   "execution_count": null,
   "id": "a65a040b-2346-4ccd-b505-7ec0d52683fa",
   "metadata": {},
   "outputs": [],
   "source": []
  },
  {
   "cell_type": "code",
   "execution_count": null,
   "id": "561a8609-69af-4c46-8793-8d6580eaa04b",
   "metadata": {},
   "outputs": [],
   "source": []
  },
  {
   "cell_type": "code",
   "execution_count": null,
   "id": "2ca1a654-071d-4727-b3d4-8ba8adca88c2",
   "metadata": {},
   "outputs": [],
   "source": []
  },
  {
   "cell_type": "code",
   "execution_count": null,
   "id": "c2fd8005-c4be-49d9-b8d3-943740764d4e",
   "metadata": {},
   "outputs": [],
   "source": []
  },
  {
   "cell_type": "code",
   "execution_count": null,
   "id": "e4dabd10-3d97-4c49-853e-1fc1b4f8a0a4",
   "metadata": {},
   "outputs": [],
   "source": []
  },
  {
   "cell_type": "code",
   "execution_count": null,
   "id": "997899ce-0c9a-4d42-a33f-d7e982e6c823",
   "metadata": {},
   "outputs": [],
   "source": []
  },
  {
   "cell_type": "code",
   "execution_count": null,
   "id": "80d126dd-9ce3-467c-9fb1-f278580c2350",
   "metadata": {},
   "outputs": [],
   "source": []
  },
  {
   "cell_type": "code",
   "execution_count": null,
   "id": "bf230158-1e98-4bc5-9ebf-bd6e8469a7f0",
   "metadata": {},
   "outputs": [],
   "source": []
  },
  {
   "cell_type": "code",
   "execution_count": null,
   "id": "ad359d43-94af-45cb-8c83-cd2546b4b0d3",
   "metadata": {},
   "outputs": [],
   "source": []
  },
  {
   "cell_type": "code",
   "execution_count": null,
   "id": "b0e031a9-c056-4a0c-a407-c2aff7182433",
   "metadata": {},
   "outputs": [],
   "source": []
  },
  {
   "cell_type": "code",
   "execution_count": null,
   "id": "61be579f-0971-43d4-b936-7e0e735c596a",
   "metadata": {},
   "outputs": [],
   "source": []
  },
  {
   "cell_type": "code",
   "execution_count": null,
   "id": "db4bfa72-176d-4352-8a04-14949d49b85a",
   "metadata": {},
   "outputs": [],
   "source": []
  },
  {
   "cell_type": "code",
   "execution_count": null,
   "id": "5d9a9273-1890-4f52-a12b-25daf37cbc4d",
   "metadata": {},
   "outputs": [],
   "source": []
  },
  {
   "cell_type": "code",
   "execution_count": null,
   "id": "bc7deec9-9e61-4c2f-b83b-61c5ade8836a",
   "metadata": {},
   "outputs": [],
   "source": []
  },
  {
   "cell_type": "code",
   "execution_count": null,
   "id": "9d196b60-7dc8-4e2b-ac4d-610cc096b70e",
   "metadata": {},
   "outputs": [],
   "source": []
  },
  {
   "cell_type": "code",
   "execution_count": null,
   "id": "4a4c5c20-8c2b-4a24-86f8-ae93b4d000f5",
   "metadata": {},
   "outputs": [],
   "source": []
  },
  {
   "cell_type": "code",
   "execution_count": null,
   "id": "f9dd2882-0fcf-4eed-8643-e50bde035996",
   "metadata": {},
   "outputs": [],
   "source": []
  },
  {
   "cell_type": "code",
   "execution_count": null,
   "id": "f301ba10-1b94-49c7-b983-6ad50345e33a",
   "metadata": {},
   "outputs": [],
   "source": []
  },
  {
   "cell_type": "code",
   "execution_count": null,
   "id": "303e6124-2b14-49f3-b3a1-108de9be9f6c",
   "metadata": {},
   "outputs": [],
   "source": []
  },
  {
   "cell_type": "code",
   "execution_count": null,
   "id": "dc3209c8-598e-4920-bccc-e188ce1a510a",
   "metadata": {},
   "outputs": [],
   "source": []
  },
  {
   "cell_type": "code",
   "execution_count": null,
   "id": "cd7e8d2f-eb3d-4159-af13-57e09eca2d0d",
   "metadata": {},
   "outputs": [],
   "source": []
  },
  {
   "cell_type": "code",
   "execution_count": null,
   "id": "75ab25ef-2bb6-44b9-8a74-938311f2b0c3",
   "metadata": {},
   "outputs": [],
   "source": []
  },
  {
   "cell_type": "code",
   "execution_count": null,
   "id": "a2c7552f-0065-4062-9b79-a3665943703b",
   "metadata": {},
   "outputs": [],
   "source": []
  },
  {
   "cell_type": "code",
   "execution_count": null,
   "id": "be944769-8cb3-43c1-8a11-e9fd566d4985",
   "metadata": {},
   "outputs": [],
   "source": []
  },
  {
   "cell_type": "code",
   "execution_count": null,
   "id": "46b55489-de1a-49d6-8836-ca16869dbef9",
   "metadata": {},
   "outputs": [],
   "source": []
  },
  {
   "cell_type": "code",
   "execution_count": null,
   "id": "2b20a60e-183b-48a6-afb8-fe9e3e136826",
   "metadata": {},
   "outputs": [],
   "source": [
    "\n"
   ]
  }
 ],
 "metadata": {
  "kernelspec": {
   "display_name": "Python 3 (ipykernel)",
   "language": "python",
   "name": "python3"
  },
  "language_info": {
   "codemirror_mode": {
    "name": "ipython",
    "version": 3
   },
   "file_extension": ".py",
   "mimetype": "text/x-python",
   "name": "python",
   "nbconvert_exporter": "python",
   "pygments_lexer": "ipython3",
   "version": "3.11.5"
  }
 },
 "nbformat": 4,
 "nbformat_minor": 5
}
