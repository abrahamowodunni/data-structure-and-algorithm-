{
 "cells": [
  {
   "cell_type": "markdown",
   "id": "56ba85ef-4cbb-4591-96b7-488bf6b2693f",
   "metadata": {},
   "source": [
    "Time to play with Python dictionaries! You're going to work on a dictionary that\r\n",
    "stores cities by country and continent. The following one is done for you - the city of Mountain View is in the USA, which is in North America.<br><br>\r\n",
    "`locations = {'North America': {'USA': ['Mountain View']}}`<br><br>\r\n",
    "Notice that:\r\n",
    "- `locations`  is a dictionary of dictionaries\r\n",
    "- `North America` (Continent) is a dictionary\r\n",
    "- `USA` (Country) is a **key**\r\n",
    "- `['Mountain View']` (City) is a `list` acting as a **value**. A new city within USA country can be \"appended\" to the given list. \r\n",
    "\r\n",
    "\r\n",
    "### Task 1\r\n",
    "You need to add the cities listed below by modifying the given structure. Cities to add:\r\n",
    "```\r\n",
    "Bangalore (India, Asia)\r\n",
    "New Delhi (India, Asia)\r\n",
    "Atlanta (USA, North America)\r\n",
    "Cairo (Egypt, Africa)\r\n",
    "Shanghai (China, Asia)\r\n",
    "```\r\n",
    "Be careful, while adding a city in an existing country. Consider adding it to the existing `list` of cities as:\r\n",
    "```\r\n",
    "locations['Asia']['India'].append('New Delhi')"
   ]
  },
  {
   "cell_type": "code",
   "execution_count": 13,
   "id": "6667c88b-f290-4167-87a1-6ab1f1b57474",
   "metadata": {},
   "outputs": [],
   "source": [
    "locations = {'North America': {'USA': ['Mountain View']}}"
   ]
  },
  {
   "cell_type": "code",
   "execution_count": 14,
   "id": "d2685812-57a7-48fb-9e00-3f23c3241b99",
   "metadata": {},
   "outputs": [],
   "source": [
    "locations['North America']['USA'].append('Atlanta')\n",
    "locations['Asia'] = {'India': ['Bangalore','New Deihi'], 'China': ['Shanghai']}\n",
    "locations['Africa'] = {'Egypt': ['Cairo']}"
   ]
  },
  {
   "cell_type": "code",
   "execution_count": 15,
   "id": "90bfc031-ed46-42c7-9ad0-7abdb996439f",
   "metadata": {},
   "outputs": [
    {
     "data": {
      "text/plain": [
       "{'North America': {'USA': ['Mountain View', 'Atlanta']},\n",
       " 'Asia': {'India': ['Bangalore', 'New Deihi'], 'China': ['Shanghai']},\n",
       " 'Africa': {'Egypt': ['Cairo']}}"
      ]
     },
     "execution_count": 15,
     "metadata": {},
     "output_type": "execute_result"
    }
   ],
   "source": [
    "locations"
   ]
  },
  {
   "cell_type": "markdown",
   "id": "2909f82c-05f5-439d-b67a-f19473a89954",
   "metadata": {},
   "source": [
    "### Task 2\r\n",
    "Print the following (using \"print\") by looking them up in the structure.\r\n",
    "1. A list of all cities in the USA in alphabetic order.\r\n",
    "2. All cities in Asia, in alphabetic order, next to the name of the country. In your output, label each answer with a number so it looks like this:\r\n",
    "```\r\n",
    "1\r\n",
    "American City\r\n",
    "American City\r\n",
    "2\r\n",
    "Asian City - Country\r\n",
    "Asian City - Country\r\n",
    "```"
   ]
  },
  {
   "cell_type": "code",
   "execution_count": 16,
   "id": "c4c676cc-6243-4ac1-af61-1b71a690482b",
   "metadata": {},
   "outputs": [
    {
     "name": "stdout",
     "output_type": "stream",
     "text": [
      "Atlanta\n",
      "Mountain View\n",
      "Shanghai - China\n",
      "Bangalore - India\n",
      "New Deihi - India\n"
     ]
    }
   ],
   "source": [
    "city_US = sorted(locations['North America']['USA'])\n",
    "for city in city_US:\n",
    "    print(city)\n",
    "\n",
    "asia = sorted(locations['Asia'].keys())\n",
    "for country in asia:\n",
    "    cities = sorted(locations['Asia'][country])\n",
    "    for i in cities:\n",
    "        print(f\"{i} - {country}\")"
   ]
  },
  {
   "cell_type": "code",
   "execution_count": 19,
   "id": "f4cc9870-7db4-4c4b-ad60-f877837300de",
   "metadata": {},
   "outputs": [],
   "source": [
    "class HashMap:\n",
    "\n",
    "    def __init__(self,initial_size = 10):\n",
    "        self.bucket_arr = [None for _ in range(initial_size)]\n",
    "        self.p = 37\n",
    "        self.num_entries = 0\n",
    "\n",
    "    def put(self,key,value):\n",
    "        pass\n",
    "\n",
    "    def get(self,key):\n",
    "        pass\n",
    "\n",
    "    def get_bucket_index(self,key):\n",
    "        return self.get_has_code(key)\n",
    "\n",
    "    def get_has_code(self,key):\n",
    "        key = str(key)\n",
    "\n",
    "        current_coefficient = 1 # because p^0 is 1\n",
    "        hash_code = 0\n",
    "        for char in key:\n",
    "            hash_code += ord(char) * current_coefficient\n",
    "            current_coefficient *= self.p\n",
    "\n",
    "        return hash_code"
   ]
  },
  {
   "cell_type": "code",
   "execution_count": 20,
   "id": "dcd4c5de-a02a-4d0e-8dba-74887032f212",
   "metadata": {},
   "outputs": [
    {
     "data": {
      "text/plain": [
       "5204554"
      ]
     },
     "execution_count": 20,
     "metadata": {},
     "output_type": "execute_result"
    }
   ],
   "source": [
    "hash_map = HashMap()\n",
    "\n",
    "bucket_index = hash_map.get_bucket_index('abcd')\n",
    "bucket_index"
   ]
  },
  {
   "cell_type": "code",
   "execution_count": 21,
   "id": "a08b96e2-a869-4fc5-a67f-4bab884c36ef",
   "metadata": {},
   "outputs": [
    {
     "data": {
      "text/plain": [
       "5204518"
      ]
     },
     "execution_count": 21,
     "metadata": {},
     "output_type": "execute_result"
    }
   ],
   "source": [
    "hash_map = HashMap()\n",
    "\n",
    "bucket_index = hash_map.get_bucket_index('bacd')\n",
    "bucket_index"
   ]
  },
  {
   "cell_type": "code",
   "execution_count": 23,
   "id": "d66a99b5-0504-4d9c-9c0b-890e723e809a",
   "metadata": {},
   "outputs": [
    {
     "data": {
      "text/plain": [
       "0"
      ]
     },
     "execution_count": 23,
     "metadata": {},
     "output_type": "execute_result"
    }
   ],
   "source": [
    "bucket_index.imag"
   ]
  },
  {
   "cell_type": "code",
   "execution_count": 24,
   "id": "bd6d22cf-97da-4fb9-a04b-7e6b7be317bd",
   "metadata": {},
   "outputs": [
    {
     "data": {
      "text/plain": [
       "[None, None, None, None, None, None, None, None, None, None]"
      ]
     },
     "execution_count": 24,
     "metadata": {},
     "output_type": "execute_result"
    }
   ],
   "source": [
    "hash_map.bucket_arr"
   ]
  },
  {
   "cell_type": "markdown",
   "id": "62363d37-6723-4ab3-a7bc-bd3627306355",
   "metadata": {},
   "source": [
    "More on hashmap"
   ]
  },
  {
   "cell_type": "code",
   "execution_count": 1,
   "id": "dcd8877c-172b-4c3b-ad4e-bc0a6e34f747",
   "metadata": {},
   "outputs": [],
   "source": [
    "class HashMap:\n",
    "\n",
    "    def __init__(self,initial_size = 10):\n",
    "        self.bucket_arr = [None for _ in range(initial_size)]\n",
    "        self.p = 37\n",
    "        self.num_entries = 0\n",
    "\n",
    "    def put(self,key,value):\n",
    "        pass\n",
    "\n",
    "    def get(self,key):\n",
    "        pass\n",
    "\n",
    "    def get_bucket_index(self,key):\n",
    "        return self.get_has_code(key)\n",
    "\n",
    "    def get_has_code(self,key):\n",
    "        key = str(key)\n",
    "        num_buckets = len(self.bucket_arr)\n",
    "\n",
    "        current_coefficient = 1 # because p^0 is 1\n",
    "        hash_code = 0\n",
    "        for char in key:\n",
    "            hash_code += ord(char) * current_coefficient\n",
    "            hash_code = hash_code % num_buckets\n",
    "            current_coefficient *= self.p\n",
    "            current_coefficient = current_coefficient % num_buckets\n",
    "        return hash_code % num_buckets\n",
    "\n",
    "    def size(self):\n",
    "        return self.num_entries"
   ]
  },
  {
   "cell_type": "code",
   "execution_count": 3,
   "id": "58f20a37-bc5c-4b15-a5ba-daf5b9db9631",
   "metadata": {},
   "outputs": [
    {
     "name": "stdout",
     "output_type": "stream",
     "text": [
      "0\n",
      "0\n"
     ]
    }
   ],
   "source": [
    "hash_map = HashMap()\n",
    "\n",
    "bucket_index = hash_map.get_bucket_index('one')\n",
    "print(bucket_index)\n",
    "\n",
    "bucket_index = hash_map.get_bucket_index('eno')\n",
    "print(bucket_index)"
   ]
  },
  {
   "cell_type": "markdown",
   "id": "9ab7cd76-fed9-41c1-821a-5acb69008228",
   "metadata": {},
   "source": [
    "collision is happening"
   ]
  },
  {
   "cell_type": "code",
   "execution_count": 1,
   "id": "677ea602-9cf4-4d40-b07f-3df7297e344c",
   "metadata": {},
   "outputs": [],
   "source": [
    "class LinkedListNode:\n",
    "    def __init__(self,key,value):\n",
    "        self.key = key\n",
    "        self.value = value\n",
    "        self.next = None\n",
    "\n",
    "class HashMap:\n",
    "\n",
    "    def __init__(self,initial_size = 10):\n",
    "        self.bucket_arr = [None for _ in range(initial_size)]\n",
    "        self.p = 31\n",
    "        self.num_entries = 0\n",
    "    '''\n",
    "    Separate chaining:\n",
    "    In case of collision, the `put()` function uses the same bucket to store a linked list of key-value pairs. \n",
    "    Every bucket will have it's own separate chain of linked list nodes.\n",
    "    '''\n",
    "\n",
    "    def put(self,key,value):\n",
    "        bucket_index = self.get_bucket_index(key)\n",
    "\n",
    "        new_node = LinkedListNode(key,value)\n",
    "        head = self.bucket_arr[bucket_index]\n",
    "\n",
    "        while head is not None:\n",
    "            if head.key == key:\n",
    "                head.value = value\n",
    "                return\n",
    "            head = head.next\n",
    "        head = self.bucket_arr[bucket_index]\n",
    "        new_node.next = head\n",
    "        self.bucket_arr[bucket_index] = new_node\n",
    "        self.num_entries += 1\n",
    "\n",
    "        \n",
    "\n",
    "    def get(self,key):\n",
    "        bucket_index = self.get_bucket_index(key)\n",
    "        head = self.bucket_arr[bucket_index]\n",
    "        while head is not None:\n",
    "            if head.key == key:\n",
    "                return head.value\n",
    "            head = head.next\n",
    "        return None\n",
    "\n",
    "    def get_bucket_index(self,key):\n",
    "        return self.get_has_code(key)\n",
    "\n",
    "    def get_has_code(self,key):\n",
    "        key = str(key)\n",
    "        bucket_size = len(self.bucket_arr)\n",
    "\n",
    "        hash_code = 0\n",
    "        current_coefficient = 1\n",
    "        for char in key:\n",
    "            hash_code += ord(char) * current_coefficient\n",
    "            hash_code = hash_code % bucket_size\n",
    "            current_coefficient *= self.p\n",
    "            current_coefficient = current_coefficient % bucket_size\n",
    "        return hash_code % bucket_size\n",
    "\n",
    "    def size(self):\n",
    "        return self.num_entries\n",
    "\n",
    "     # Helper function to see the hashmap\n",
    "    def __repr__(self):\n",
    "        output = \"\\nLet's view the hash map:\"\n",
    "\n",
    "        node = self.bucket_arr\n",
    "        for bucket_index, node in enumerate(self.bucket_arr):\n",
    "            if node is None:\n",
    "                output += '\\n[{}] '.format(bucket_index)\n",
    "            else:\n",
    "                output += '\\n[{}]'.format(bucket_index)\n",
    "                while node is not None:\n",
    "                    output += ' ({} , {}) '.format(node.key, node.value)\n",
    "                    if node.next is not None:\n",
    "                        output += ' --> '\n",
    "                    node = node.next\n",
    "                    \n",
    "        return output"
   ]
  },
  {
   "cell_type": "code",
   "execution_count": 2,
   "id": "00310151-532f-40fc-b556-6a078011daac",
   "metadata": {},
   "outputs": [
    {
     "name": "stdout",
     "output_type": "stream",
     "text": [
      "size: 4\n",
      "one: 1\n",
      "neo: 11\n",
      "three: 3\n"
     ]
    },
    {
     "data": {
      "text/plain": [
       "\n",
       "Let's view the hash map:\n",
       "[0] \n",
       "[1] (three , 3)  -->  (two , 2) \n",
       "[2] (neo , 11)  -->  (one , 1) \n",
       "[3] \n",
       "[4] "
      ]
     },
     "execution_count": 2,
     "metadata": {},
     "output_type": "execute_result"
    }
   ],
   "source": [
    "# Test the collision resolution technique\n",
    "hash_map = HashMap(5)\n",
    "\n",
    "hash_map.put(\"one\", 1)\n",
    "hash_map.put(\"two\", 2)\n",
    "hash_map.put(\"three\", 3)          # Collision: The key \"three\" will generate the same bucket_index as that of the key \"two\"\n",
    "hash_map.put(\"neo\", 11)           # Collision: The key \"neo\" will generate the same bucket_index as that of the key \"one\"\n",
    "\n",
    "print(\"size: {}\".format(hash_map.size()))\n",
    "\n",
    "print(\"one: {}\".format(hash_map.get(\"one\")))\n",
    "print(\"neo: {}\".format(hash_map.get(\"neo\")))\n",
    "print(\"three: {}\".format(hash_map.get(\"three\")))\n",
    "\n",
    "hash_map  "
   ]
  },
  {
   "cell_type": "code",
   "execution_count": 8,
   "id": "8c8189c2-0465-400e-b278-7b0022603caf",
   "metadata": {},
   "outputs": [
    {
     "data": {
      "text/plain": [
       "6"
      ]
     },
     "execution_count": 8,
     "metadata": {},
     "output_type": "execute_result"
    }
   ],
   "source": [
    "hash_map.get_has_code('three')"
   ]
  },
  {
   "cell_type": "code",
   "execution_count": 9,
   "id": "5b5b42b6-ddc1-4407-bc87-50201c907a29",
   "metadata": {},
   "outputs": [
    {
     "data": {
      "text/plain": [
       "6"
      ]
     },
     "execution_count": 9,
     "metadata": {},
     "output_type": "execute_result"
    }
   ],
   "source": [
    "hash_map.get_has_code('two')"
   ]
  },
  {
   "cell_type": "code",
   "execution_count": 3,
   "id": "226d98eb-0b90-4061-b2ba-cbc9f6eacb98",
   "metadata": {},
   "outputs": [],
   "source": [
    "class LinkListNode:\n",
    "    def __init__(self,key,value):\n",
    "        self.key = key\n",
    "        self.value = value\n",
    "        self.next = None\n",
    "\n",
    "class HashMap:\n",
    "    def __init__(self,initial_size = 10):\n",
    "        self.bucket_array = [None for _ in range(initial_size)]\n",
    "        self.p = 31\n",
    "        self.num_entries = 0\n",
    "        self.load_factor = 0.7\n",
    "\n",
    "    def put(self,key,value):\n",
    "        bucket_index = self.get_bucket_index(key)\n",
    "        new_node = LinkListNode(key,value)\n",
    "\n",
    "        head = self.bucket_array[bucket_index]\n",
    "\n",
    "        while head:\n",
    "            if head.key == new_node.key:\n",
    "                head.value = new_node.value\n",
    "                return\n",
    "            head = head.next\n",
    "\n",
    "        head = self.bucket_array[bucket_index]\n",
    "        new_node.next = head\n",
    "        self.bucket_array[bucket_index] = new_node\n",
    "        self.num_entries += 1\n",
    "\n",
    "        current_load_factor = self.num_entries / len(self.bucket_array)\n",
    "        if current_load_factor > self.load_factor:\n",
    "            self.num_entries = 0\n",
    "            self._rehashing()\n",
    "            \n",
    "\n",
    "    def get(self,key):\n",
    "        bucket_index = self.get_bucket_index(key)\n",
    "        head = self.bucket_array[bucket_index]\n",
    "\n",
    "        while head:\n",
    "            if head.key == key:\n",
    "                return head.value\n",
    "            head = head.next\n",
    "        return None\n",
    "\n",
    "    def get_bucket_index(self,key):\n",
    "        return self.get_hash_code(key)\n",
    "\n",
    "    def get_hash_code(self,key):\n",
    "        key = str(key)\n",
    "        bucket_entry = len(self.bucket_array)\n",
    "\n",
    "        collision_coefficient = 1\n",
    "        hash_code = 0\n",
    "        for char in key:\n",
    "            hash_code += ord(char) * collision_coefficient\n",
    "            hash_code = hash_code % bucket_entry\n",
    "            collision_coefficient *= self.p\n",
    "            collision_coefficient % bucket_entry\n",
    "\n",
    "        return hash_code % bucket_entry\n",
    "\n",
    "    def size(self):\n",
    "        return self.num_entries\n",
    "\n",
    "    # def _rehashing(self):\n",
    "    #     old_size = len(self.bucket_array)\n",
    "    #     old_bucket_array = self.bucket_array\n",
    "    #     num_bucket = 2 * old_size\n",
    "    #     self.bucket_array = [None for _ in range(num_bucket)]\n",
    "\n",
    "    #     for head in old_bucket_array:\n",
    "    #         while head:\n",
    "    #             key = head.key\n",
    "    #             value = head.value\n",
    "    #             self.put(key,value)\n",
    "    #             head = head.next\n",
    "    def _rehashing(self):\n",
    "        old_bucket_array = self.bucket_array\n",
    "        self.bucket_array = [None] * (2 * len(old_bucket_array))\n",
    "    \n",
    "        for head in old_bucket_array:\n",
    "            while head is not None:\n",
    "                key = head.key\n",
    "                value = head.value\n",
    "                self.put(key, value)  # Utilize the put method during rehashing\n",
    "                head = head.next\n",
    "        \n",
    "     # Helper function to see the hashmap\n",
    "    def __repr__(self):\n",
    "        output = \"\\nLet's view the hash map:\"\n",
    "\n",
    "        node = self.bucket_array\n",
    "        for bucket_index, node in enumerate(self.bucket_array):\n",
    "            if node is None:\n",
    "                output += '\\n[{}] '.format(bucket_index)\n",
    "            else:\n",
    "                output += '\\n[{}]'.format(bucket_index)\n",
    "                while node is not None:\n",
    "                    output += ' ({} , {}) '.format(node.key, node.value)\n",
    "                    if node.next is not None:\n",
    "                        output += ' --> '\n",
    "                    node = node.next\n",
    "                    \n",
    "        return output"
   ]
  },
  {
   "cell_type": "code",
   "execution_count": 4,
   "id": "4bd4ff8c-951d-4ceb-acde-910fa9126229",
   "metadata": {},
   "outputs": [
    {
     "name": "stdout",
     "output_type": "stream",
     "text": [
      "size: 4\n",
      "one: 1\n",
      "neo: 11\n",
      "three: 3\n",
      "size: 4\n"
     ]
    },
    {
     "data": {
      "text/plain": [
       "\n",
       "Let's view the hash map:\n",
       "[0] \n",
       "[1] \n",
       "[2] (one , 1)  -->  (neo , 11) \n",
       "[3] \n",
       "[4] \n",
       "[5] \n",
       "[6] (two , 2)  -->  (three , 3) \n",
       "[7] \n",
       "[8] \n",
       "[9] "
      ]
     },
     "execution_count": 4,
     "metadata": {},
     "output_type": "execute_result"
    }
   ],
   "source": [
    "# Test Rehashing\n",
    "\n",
    "# We have reduced the size of the hashmap array to increase the load factor (> 0.7) \n",
    "# and hence trigger the rehash() function\n",
    "hash_map = HashMap(5)                        \n",
    "\n",
    "hash_map.put(\"one\", 1)\n",
    "hash_map.put(\"two\", 2)\n",
    "hash_map.put(\"three\", 3)\n",
    "hash_map.put(\"neo\", 11)\n",
    "\n",
    "\n",
    "print(\"size: {}\".format(hash_map.size()))\n",
    "\n",
    "\n",
    "print(\"one: {}\".format(hash_map.get(\"one\")))\n",
    "print(\"neo: {}\".format(hash_map.get(\"neo\")))\n",
    "print(\"three: {}\".format(hash_map.get(\"three\")))\n",
    "print(\"size: {}\".format(hash_map.size()))\n",
    "\n",
    "hash_map                          # call to the helper function to see the hashmap"
   ]
  },
  {
   "cell_type": "code",
   "execution_count": 12,
   "id": "9222cb9e-4ae5-4947-b720-be1a5409efc6",
   "metadata": {},
   "outputs": [
    {
     "data": {
      "text/plain": [
       "0"
      ]
     },
     "execution_count": 12,
     "metadata": {},
     "output_type": "execute_result"
    }
   ],
   "source": [
    "hash_map.get_hash_code('r')"
   ]
  },
  {
   "cell_type": "code",
   "execution_count": 4,
   "id": "a37783a0-da67-4ce9-b58c-a8787b52fe0a",
   "metadata": {},
   "outputs": [
    {
     "data": {
      "text/plain": [
       "0"
      ]
     },
     "execution_count": 4,
     "metadata": {},
     "output_type": "execute_result"
    }
   ],
   "source": [
    "hash_map.get_hash_code('two')"
   ]
  },
  {
   "cell_type": "code",
   "execution_count": 6,
   "id": "fb338eba-0c64-49da-9e41-0e578537e788",
   "metadata": {},
   "outputs": [],
   "source": [
    "class LinkListNode:\n",
    "    def __init__(self,key,value):\n",
    "        self.key = key\n",
    "        self.value = value\n",
    "        self.next = None\n",
    "\n",
    "class HashMap:\n",
    "    def __init__(self,initial_size = 10):\n",
    "        self.bucket_array = [None for _ in range(initial_size)]\n",
    "        self.p = 31\n",
    "        self.num_entries = 0\n",
    "        self.load_factor = 0.7\n",
    "\n",
    "    def put(self,key,value):\n",
    "        bucket_index = self.get_bucket_index(key)\n",
    "        new_node = LinkListNode(key,value)\n",
    "\n",
    "        head = self.bucket_array[bucket_index]\n",
    "\n",
    "        while head:\n",
    "            if head.key == new_node.key:\n",
    "                head.value = new_node.value\n",
    "                return\n",
    "            head = head.next\n",
    "\n",
    "        head = self.bucket_array[bucket_index]\n",
    "        new_node.next = head\n",
    "        self.bucket_array[bucket_index] = new_node\n",
    "        self.num_entries += 1\n",
    "\n",
    "        current_load_factor = self.num_entries / len(self.bucket_array)\n",
    "        if current_load_factor > self.load_factor:\n",
    "            self.num_entries = 0\n",
    "            self._rehashing()\n",
    "            \n",
    "\n",
    "    def get(self,key):\n",
    "        bucket_index = self.get_bucket_index(key)\n",
    "        head = self.bucket_array[bucket_index]\n",
    "\n",
    "        while head:\n",
    "            if head.key == key:\n",
    "                return head.value\n",
    "            head = head.next\n",
    "        return None\n",
    "\n",
    "    def get_bucket_index(self,key):\n",
    "        return self.get_hash_code(key)\n",
    "\n",
    "    def get_hash_code(self,key):\n",
    "        key = str(key)\n",
    "        bucket_entry = len(self.bucket_array)\n",
    "\n",
    "        collision_coefficient = 1\n",
    "        hash_code = 0\n",
    "        for char in key:\n",
    "            hash_code += ord(char) * collision_coefficient\n",
    "            hash_code = hash_code % bucket_entry\n",
    "            collision_coefficient *= self.p\n",
    "            collision_coefficient % bucket_entry\n",
    "\n",
    "        return hash_code % bucket_entry\n",
    "\n",
    "    def delete(self,key):\n",
    "        bucket_index = self.get_bucket_index(key)\n",
    "        head = self.bucket_array[bucket_index]\n",
    "\n",
    "        prev = None\n",
    "        while head:\n",
    "            if head.key == key:\n",
    "                if prev is None:\n",
    "                    self.bucket_array[bucket_index] = head.next\n",
    "                else:\n",
    "                    prev = head.next\n",
    "                self.num_entries -= 1\n",
    "                return\n",
    "            else:\n",
    "                prev = head\n",
    "                head = head.next\n",
    "            \n",
    "\n",
    "    def size(self):\n",
    "        return self.num_entries\n",
    "\n",
    "    # def _rehashing(self):\n",
    "    #     old_size = len(self.bucket_array)\n",
    "    #     old_bucket_array = self.bucket_array\n",
    "    #     num_bucket = 2 * old_size\n",
    "    #     self.bucket_array = [None for _ in range(num_bucket)]\n",
    "\n",
    "    #     for head in old_bucket_array:\n",
    "    #         while head:\n",
    "    #             key = head.key\n",
    "    #             value = head.value\n",
    "    #             self.put(key,value)\n",
    "    #             head = head.next\n",
    "    def _rehashing(self):\n",
    "        old_bucket_array = self.bucket_array\n",
    "        self.bucket_array = [None] * (2 * len(old_bucket_array))\n",
    "    \n",
    "        for head in old_bucket_array:\n",
    "            while head is not None:\n",
    "                key = head.key\n",
    "                value = head.value\n",
    "                self.put(key, value)  # Utilize the put method during rehashing\n",
    "                head = head.next\n",
    "        \n",
    "     # Helper function to see the hashmap\n",
    "    def __repr__(self):\n",
    "        output = \"\\nLet's view the hash map:\"\n",
    "\n",
    "        node = self.bucket_array\n",
    "        for bucket_index, node in enumerate(self.bucket_array):\n",
    "            if node is None:\n",
    "                output += '\\n[{}] '.format(bucket_index)\n",
    "            else:\n",
    "                output += '\\n[{}]'.format(bucket_index)\n",
    "                while node is not None:\n",
    "                    output += ' ({} , {}) '.format(node.key, node.value)\n",
    "                    if node.next is not None:\n",
    "                        output += ' --> '\n",
    "                    node = node.next\n",
    "                    \n",
    "        return output"
   ]
  },
  {
   "cell_type": "code",
   "execution_count": 8,
   "id": "f96c3166-29b1-4c9a-8680-252bbae170fc",
   "metadata": {},
   "outputs": [
    {
     "name": "stdout",
     "output_type": "stream",
     "text": [
      "size: 4\n",
      "one: 1\n",
      "neo: 11\n",
      "three: 3\n",
      "size: 4\n",
      "None\n",
      "3\n"
     ]
    },
    {
     "data": {
      "text/plain": [
       "\n",
       "Let's view the hash map:\n",
       "[0] (three , 3) \n",
       "[1] \n",
       "[2] (two , 2) \n",
       "[3] \n",
       "[4] \n",
       "[5] (neo , 11) \n",
       "[6] "
      ]
     },
     "execution_count": 8,
     "metadata": {},
     "output_type": "execute_result"
    }
   ],
   "source": [
    "# Test delete operation\n",
    "hash_map = HashMap(7)\n",
    "\n",
    "hash_map.put(\"one\", 1)\n",
    "hash_map.put(\"two\", 2)\n",
    "hash_map.put(\"three\", 3)\n",
    "hash_map.put(\"neo\", 11)\n",
    "\n",
    "print(\"size: {}\".format(hash_map.size()))\n",
    "\n",
    "\n",
    "print(\"one: {}\".format(hash_map.get(\"one\")))\n",
    "print(\"neo: {}\".format(hash_map.get(\"neo\")))\n",
    "print(\"three: {}\".format(hash_map.get(\"three\")))\n",
    "print(\"size: {}\".format(hash_map.size()))\n",
    "hash_map                          # call to the helper function to see the hashmap\n",
    "\n",
    "\n",
    "hash_map.delete(\"one\")\n",
    "hash_map                          # call to the helper function to see the hashmap\n",
    "\n",
    "print(hash_map.get(\"one\"))\n",
    "print(hash_map.size())\n",
    "hash_map"
   ]
  },
  {
   "cell_type": "code",
   "execution_count": 1,
   "id": "9d1d0942-c4ed-4a21-8a2b-cd28de4f5d6e",
   "metadata": {},
   "outputs": [],
   "source": [
    "def calculate_hash_value(string):\n",
    "    \n",
    "    \"\"\"TODO: Helper function to calulate a\n",
    "    hash value from a string.\"\"\"\n",
    "    if len(string) <= 1:\n",
    "        return -1\n",
    "    \n",
    "    hash_code = 0\n",
    "    first_index = string[0]\n",
    "    second_index = string[1]\n",
    "    hash_code += (ord(first_index)*100)+(ord(second_index))\n",
    "    return hash_code"
   ]
  },
  {
   "cell_type": "code",
   "execution_count": 2,
   "id": "7f19d5aa-9125-4647-a6e3-bc8ec76d0947",
   "metadata": {},
   "outputs": [
    {
     "data": {
      "text/plain": [
       "8568"
      ]
     },
     "execution_count": 2,
     "metadata": {},
     "output_type": "execute_result"
    }
   ],
   "source": [
    "calculate_hash_value('UDACITY')"
   ]
  },
  {
   "cell_type": "code",
   "execution_count": null,
   "id": "f8112aab-64a0-4329-9f8a-cdb9a0db8764",
   "metadata": {},
   "outputs": [],
   "source": [
    "\"\"\"Write a HashTable class that stores strings\n",
    "in a hash table, where keys are calculated\n",
    "using the first two letters of the string.\"\"\"\n",
    "\n",
    "class HashTable(object):\n",
    "    def __init__(self):\n",
    "        self.table = [None]*10000\n",
    "\n",
    "    def store(self, string):\n",
    "        \"\"\"TODO: Input a string that's stored in \n",
    "        the table.\"\"\"\n",
    "        table_index = self.calculate_hash_value(string)\n",
    "        if self.table[table_index] is not None:\n",
    "            self.table[table_index].append(string)\n",
    "        else:\n",
    "            self.table[table_index] = [string]\n",
    "\n",
    "    def lookup(self, string):\n",
    "        \"\"\"TODO: Return the hash value if the\n",
    "        string is already in the table.\n",
    "        Return -1 otherwise.\"\"\"\n",
    "        table_index = self.calculate_hash_value(string)\n",
    "        if self.table[table_index] is not None:\n",
    "            if string in self.table[table_index]:\n",
    "                return table_index\n",
    "        return -1\n",
    "\n",
    "    def calculate_hash_value(self, string):\n",
    "        \"\"\"TODO: Helper function to calulate a\n",
    "        hash value from a string.\"\"\"\n",
    "        if len(string) <= 1:\n",
    "            return -1\n",
    "        hash_code = 0\n",
    "        return hash_code += (ord(string[0])*100)+(ord(string[1]))"
   ]
  },
  {
   "cell_type": "code",
   "execution_count": null,
   "id": "9f5c53d8-a20b-4e81-a8cd-6b121b00b968",
   "metadata": {},
   "outputs": [],
   "source": []
  },
  {
   "cell_type": "code",
   "execution_count": null,
   "id": "15c9bf4b-6e48-40fe-aef5-1d66839d1747",
   "metadata": {},
   "outputs": [],
   "source": []
  },
  {
   "cell_type": "code",
   "execution_count": 3,
   "id": "0674064c-c4c0-4308-878c-4ea4f1d42661",
   "metadata": {},
   "outputs": [
    {
     "name": "stdout",
     "output_type": "stream",
     "text": [
      "1\n",
      "2\n",
      "-1\n",
      "-1\n"
     ]
    }
   ],
   "source": [
    "class Node:\n",
    "    def __init__(self, key, value):\n",
    "        self.key = key\n",
    "        self.value = value\n",
    "        self.prev = None\n",
    "        self.next = None\n",
    "\n",
    "class LRUCache:\n",
    "    def __init__(self, capacity):\n",
    "        self.capacity = capacity\n",
    "        self.cache = {}\n",
    "        self.head = Node(None, None)\n",
    "        self.tail = Node(None, None)\n",
    "        self.head.next = self.tail\n",
    "        self.tail.prev = self.head\n",
    "\n",
    "    def _remove_node(self, node):\n",
    "        node.prev.next = node.next\n",
    "        node.next.prev = node.prev\n",
    "\n",
    "    def _add_to_head(self, node):\n",
    "        node.next = self.head.next\n",
    "        node.prev = self.head\n",
    "        self.head.next.prev = node\n",
    "        self.head.next = node\n",
    "\n",
    "    def get(self, key):\n",
    "        if key in self.cache:\n",
    "            node = self.cache[key]\n",
    "            # Move the accessed node to the head\n",
    "            self._remove_node(node)\n",
    "            self._add_to_head(node)\n",
    "            return node.value\n",
    "        return -1\n",
    "\n",
    "    def set(self, key, value):\n",
    "        if key in self.cache:\n",
    "            # Update the value and move the node to the head\n",
    "            node = self.cache[key]\n",
    "            node.value = value\n",
    "            self._remove_node(node)\n",
    "            self._add_to_head(node)\n",
    "        else:\n",
    "            if len(self.cache) >= self.capacity:\n",
    "                # Remove the least recently used entry (tail)\n",
    "                last_node = self.tail.prev\n",
    "                self._remove_node(last_node)\n",
    "                del self.cache[last_node.key]\n",
    "\n",
    "            # Add the new key-value pair to the head\n",
    "            new_node = Node(key, value)\n",
    "            self._add_to_head(new_node)\n",
    "            self.cache[key] = new_node\n",
    "\n",
    "# Example test cases\n",
    "our_cache = LRUCache(5)\n",
    "\n",
    "our_cache.set(1, 1)\n",
    "our_cache.set(2, 2)\n",
    "our_cache.set(3, 3)\n",
    "our_cache.set(4, 4)\n",
    "\n",
    "print(our_cache.get(1))  # returns 1\n",
    "print(our_cache.get(2))  # returns 2\n",
    "print(our_cache.get(9))  # returns -1 because 9 is not present in the cache\n",
    "\n",
    "our_cache.set(5, 5)\n",
    "our_cache.set(6, 6)\n",
    "\n",
    "print(our_cache.get(3))  # returns -1 because the cache reached its capacity and 3 was the least recently used entry\n"
   ]
  },
  {
   "cell_type": "code",
   "execution_count": null,
   "id": "cc2e9bc3-150d-4724-af15-55a317e0a6eb",
   "metadata": {},
   "outputs": [],
   "source": []
  },
  {
   "cell_type": "code",
   "execution_count": null,
   "id": "ecc1c769-c505-48dc-bca2-5198218992dd",
   "metadata": {},
   "outputs": [],
   "source": []
  },
  {
   "cell_type": "code",
   "execution_count": null,
   "id": "fffb1fc4-a4d4-4b75-8e63-6c93daa78b81",
   "metadata": {},
   "outputs": [],
   "source": []
  },
  {
   "cell_type": "code",
   "execution_count": null,
   "id": "e0632e23-921d-4c9e-be53-825d3dac7f11",
   "metadata": {},
   "outputs": [],
   "source": []
  },
  {
   "cell_type": "code",
   "execution_count": null,
   "id": "02586a9c-69ee-406e-9086-2e996af518c9",
   "metadata": {},
   "outputs": [],
   "source": []
  },
  {
   "cell_type": "code",
   "execution_count": null,
   "id": "bf7dd17c-dbf4-4971-b3c8-1157065733a8",
   "metadata": {},
   "outputs": [],
   "source": []
  },
  {
   "cell_type": "code",
   "execution_count": null,
   "id": "433e4e67-9706-4534-8ea4-576176505fd5",
   "metadata": {},
   "outputs": [],
   "source": []
  },
  {
   "cell_type": "code",
   "execution_count": null,
   "id": "f0242a02-6919-4ae3-9a2a-4ee44bceebd9",
   "metadata": {},
   "outputs": [],
   "source": []
  },
  {
   "cell_type": "code",
   "execution_count": null,
   "id": "40e5bed5-f86a-4065-8d37-4607dbf2bafb",
   "metadata": {},
   "outputs": [],
   "source": []
  },
  {
   "cell_type": "code",
   "execution_count": null,
   "id": "0d9655f7-0263-459c-a788-df3f6853ac99",
   "metadata": {},
   "outputs": [],
   "source": []
  },
  {
   "cell_type": "code",
   "execution_count": null,
   "id": "f67a7251-ec8b-47f7-b4cf-ad60e2533669",
   "metadata": {},
   "outputs": [],
   "source": []
  },
  {
   "cell_type": "code",
   "execution_count": null,
   "id": "f9ac1ea5-3fb9-4b1e-afab-d30207b176d4",
   "metadata": {},
   "outputs": [],
   "source": []
  },
  {
   "cell_type": "code",
   "execution_count": null,
   "id": "21d66379-7d42-483c-91c5-b11f18e3c521",
   "metadata": {},
   "outputs": [],
   "source": []
  },
  {
   "cell_type": "code",
   "execution_count": null,
   "id": "804c5d41-7764-4696-93f8-a17c77c9d363",
   "metadata": {},
   "outputs": [],
   "source": []
  },
  {
   "cell_type": "code",
   "execution_count": null,
   "id": "64dc123e-04cf-4863-a794-c123a09d7141",
   "metadata": {},
   "outputs": [],
   "source": []
  },
  {
   "cell_type": "code",
   "execution_count": null,
   "id": "2afec782-c93e-4432-bd45-a4f264fb1796",
   "metadata": {},
   "outputs": [],
   "source": []
  },
  {
   "cell_type": "code",
   "execution_count": null,
   "id": "432b62ed-4612-4cfb-a419-573abcde83d2",
   "metadata": {},
   "outputs": [],
   "source": []
  },
  {
   "cell_type": "code",
   "execution_count": null,
   "id": "3d743755-a9a5-48a4-b5ee-479aa10742cd",
   "metadata": {},
   "outputs": [],
   "source": []
  },
  {
   "cell_type": "code",
   "execution_count": null,
   "id": "a2c20c46-b54d-4b6d-824c-f4f713b96748",
   "metadata": {},
   "outputs": [],
   "source": []
  },
  {
   "cell_type": "code",
   "execution_count": null,
   "id": "350859d9-1703-4312-96db-cc3cec40f11d",
   "metadata": {},
   "outputs": [],
   "source": []
  },
  {
   "cell_type": "code",
   "execution_count": null,
   "id": "ce847a13-7cd4-4d96-92e4-f86ce8f1de02",
   "metadata": {},
   "outputs": [],
   "source": []
  },
  {
   "cell_type": "code",
   "execution_count": null,
   "id": "fd7b1476-7c6b-4a3b-8d2a-5ee657d98b52",
   "metadata": {},
   "outputs": [],
   "source": []
  },
  {
   "cell_type": "code",
   "execution_count": null,
   "id": "b6f03936-7264-480a-89df-8c9e47315a00",
   "metadata": {},
   "outputs": [],
   "source": []
  },
  {
   "cell_type": "code",
   "execution_count": null,
   "id": "391f8959-61f9-46d7-bfc3-998ec7bff301",
   "metadata": {},
   "outputs": [],
   "source": []
  },
  {
   "cell_type": "code",
   "execution_count": null,
   "id": "50f99f02-9b3f-4823-af0b-65038fa0a4b9",
   "metadata": {},
   "outputs": [],
   "source": []
  },
  {
   "cell_type": "code",
   "execution_count": null,
   "id": "9ca13a78-bfb8-4968-85fb-3d896e5f0761",
   "metadata": {},
   "outputs": [],
   "source": []
  },
  {
   "cell_type": "code",
   "execution_count": null,
   "id": "06838914-ea9a-4830-a37c-aaf7a36fbb0b",
   "metadata": {},
   "outputs": [],
   "source": []
  },
  {
   "cell_type": "code",
   "execution_count": null,
   "id": "0af11374-240c-43aa-90ec-dac983b94cd6",
   "metadata": {},
   "outputs": [],
   "source": []
  },
  {
   "cell_type": "code",
   "execution_count": null,
   "id": "b7601cdc-f200-4ffe-9d6d-e6b1bfe905fe",
   "metadata": {},
   "outputs": [],
   "source": []
  },
  {
   "cell_type": "code",
   "execution_count": null,
   "id": "3b1839ad-b25d-4892-8ef0-62ec30bfced3",
   "metadata": {},
   "outputs": [],
   "source": []
  },
  {
   "cell_type": "code",
   "execution_count": null,
   "id": "8181a6c5-181b-4e50-9eb1-d793801604cf",
   "metadata": {},
   "outputs": [],
   "source": []
  },
  {
   "cell_type": "code",
   "execution_count": null,
   "id": "f3d88192-c554-4d12-81d3-34fc8d79c89d",
   "metadata": {},
   "outputs": [],
   "source": []
  },
  {
   "cell_type": "code",
   "execution_count": null,
   "id": "3bd1a0ed-e5b2-45ae-8d92-6d0508b6ae19",
   "metadata": {},
   "outputs": [],
   "source": []
  },
  {
   "cell_type": "code",
   "execution_count": null,
   "id": "40caeb4f-9999-41e0-85fd-283217eea2aa",
   "metadata": {},
   "outputs": [],
   "source": []
  },
  {
   "cell_type": "code",
   "execution_count": null,
   "id": "b57a7e10-698b-47bb-9dc4-2ea5af506907",
   "metadata": {},
   "outputs": [],
   "source": []
  },
  {
   "cell_type": "code",
   "execution_count": null,
   "id": "712940d7-c874-45eb-89c3-82e42203311b",
   "metadata": {},
   "outputs": [],
   "source": []
  },
  {
   "cell_type": "code",
   "execution_count": null,
   "id": "346d9428-0aad-47ad-9274-0fabd977028a",
   "metadata": {},
   "outputs": [],
   "source": []
  },
  {
   "cell_type": "code",
   "execution_count": null,
   "id": "ff4d6408-c665-422d-a92f-07745d975137",
   "metadata": {},
   "outputs": [],
   "source": []
  },
  {
   "cell_type": "code",
   "execution_count": null,
   "id": "cbd3fd8f-60b4-44bc-8250-f597634864e3",
   "metadata": {},
   "outputs": [],
   "source": []
  },
  {
   "cell_type": "code",
   "execution_count": null,
   "id": "8c43090c-caba-4bde-9e61-4b64fb1b5dbd",
   "metadata": {},
   "outputs": [],
   "source": []
  },
  {
   "cell_type": "code",
   "execution_count": null,
   "id": "06c4acfb-2872-4337-8b39-564472702a12",
   "metadata": {},
   "outputs": [],
   "source": []
  },
  {
   "cell_type": "code",
   "execution_count": null,
   "id": "20c745a5-aa17-4860-b008-6bafc53d0c8a",
   "metadata": {},
   "outputs": [],
   "source": []
  },
  {
   "cell_type": "code",
   "execution_count": null,
   "id": "3e378637-0802-4952-a0de-b694e9d0bf83",
   "metadata": {},
   "outputs": [],
   "source": []
  },
  {
   "cell_type": "code",
   "execution_count": null,
   "id": "84f5e748-0f4c-4cf5-8ba4-18d352be5836",
   "metadata": {},
   "outputs": [],
   "source": []
  },
  {
   "cell_type": "code",
   "execution_count": null,
   "id": "875ca919-b212-414a-873e-cfc7eb8416e5",
   "metadata": {},
   "outputs": [],
   "source": []
  },
  {
   "cell_type": "code",
   "execution_count": null,
   "id": "eedb4c36-aba6-499b-b37e-e2d0238af7ab",
   "metadata": {},
   "outputs": [],
   "source": []
  },
  {
   "cell_type": "code",
   "execution_count": null,
   "id": "579e2766-7644-40c7-b19a-0f9a4537c431",
   "metadata": {},
   "outputs": [],
   "source": []
  },
  {
   "cell_type": "code",
   "execution_count": null,
   "id": "87080f60-444e-4307-a2ae-19bf093b8beb",
   "metadata": {},
   "outputs": [],
   "source": []
  },
  {
   "cell_type": "code",
   "execution_count": null,
   "id": "23705e96-c170-489c-b6b4-64386cb41ac0",
   "metadata": {},
   "outputs": [],
   "source": []
  },
  {
   "cell_type": "code",
   "execution_count": null,
   "id": "a249eb8e-ba55-4065-9ef7-5c774087c90c",
   "metadata": {},
   "outputs": [],
   "source": []
  },
  {
   "cell_type": "code",
   "execution_count": null,
   "id": "c512091a-db6c-41f6-8a32-a8f353c04f07",
   "metadata": {},
   "outputs": [],
   "source": []
  },
  {
   "cell_type": "code",
   "execution_count": null,
   "id": "42c62e43-6da0-42c6-8a0c-c63528012255",
   "metadata": {},
   "outputs": [],
   "source": []
  },
  {
   "cell_type": "code",
   "execution_count": null,
   "id": "65bcb78a-9573-420d-9abc-116732caf056",
   "metadata": {},
   "outputs": [],
   "source": []
  }
 ],
 "metadata": {
  "kernelspec": {
   "display_name": "Python 3 (ipykernel)",
   "language": "python",
   "name": "python3"
  },
  "language_info": {
   "codemirror_mode": {
    "name": "ipython",
    "version": 3
   },
   "file_extension": ".py",
   "mimetype": "text/x-python",
   "name": "python",
   "nbconvert_exporter": "python",
   "pygments_lexer": "ipython3",
   "version": "3.11.5"
  }
 },
 "nbformat": 4,
 "nbformat_minor": 5
}
