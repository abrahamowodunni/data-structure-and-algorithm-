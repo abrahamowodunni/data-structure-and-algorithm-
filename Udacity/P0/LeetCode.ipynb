{
 "cells": [
  {
   "cell_type": "markdown",
   "id": "58f0ca6b-6b3e-4cc4-9554-e71c7bf3530e",
   "metadata": {},
   "source": [
    "#### 217. Contains Duplicate"
   ]
  },
  {
   "cell_type": "code",
   "execution_count": 1,
   "id": "2c33a737-e4b0-41b7-a9e1-54d474146bda",
   "metadata": {},
   "outputs": [],
   "source": [
    "### My idea was to use a set because sets can't have a duplicate.\n",
    "def containsDuplicate(nums):\n",
    "    check = set()\n",
    "    for i in nums:\n",
    "        check.add(i)\n",
    "    return len(nums) - len(check) != 0"
   ]
  },
  {
   "cell_type": "code",
   "execution_count": 2,
   "id": "b251352d-f363-4ab7-bce9-929e0664b227",
   "metadata": {},
   "outputs": [],
   "source": [
    "t_arry1 = [1,3,4,2,5]\n",
    "t_arry2 = [1,2,2,4]"
   ]
  },
  {
   "cell_type": "code",
   "execution_count": 3,
   "id": "e55807ff-93a3-4ab8-a143-3ed94acc1435",
   "metadata": {},
   "outputs": [
    {
     "data": {
      "text/plain": [
       "(False, True)"
      ]
     },
     "execution_count": 3,
     "metadata": {},
     "output_type": "execute_result"
    }
   ],
   "source": [
    "containsDuplicate(t_arry1), containsDuplicate(t_arry2)"
   ]
  },
  {
   "cell_type": "code",
   "execution_count": 4,
   "id": "d903c967-897f-4298-bfa9-add8da189430",
   "metadata": {},
   "outputs": [],
   "source": [
    "def containsDuplicate(nums):\n",
    "    check = []\n",
    "    for num in nums:\n",
    "        if num in check:\n",
    "            return True\n",
    "        check.append(num)\n",
    "    return False"
   ]
  },
  {
   "cell_type": "code",
   "execution_count": 5,
   "id": "1db6c5c6-99a4-472e-946f-e69115ac41f5",
   "metadata": {},
   "outputs": [
    {
     "data": {
      "text/plain": [
       "(False, True)"
      ]
     },
     "execution_count": 5,
     "metadata": {},
     "output_type": "execute_result"
    }
   ],
   "source": [
    "t_arry1 = [1,3,4,2,5]\n",
    "t_arry2 = [1,2,2,4]\n",
    "containsDuplicate(t_arry1), containsDuplicate(t_arry2)"
   ]
  },
  {
   "cell_type": "markdown",
   "id": "2a07a57f-62cc-4baa-961b-223de742aba5",
   "metadata": {},
   "source": [
    "#### 242. Valid Anagram"
   ]
  },
  {
   "cell_type": "code",
   "execution_count": 15,
   "id": "bce54e0e-fdd4-45ae-aa1d-ff59eddb8b6c",
   "metadata": {},
   "outputs": [],
   "source": [
    "def isAnagram(s, t):\n",
    "    return sorted(s) == sorted(t)"
   ]
  },
  {
   "cell_type": "code",
   "execution_count": 17,
   "id": "2c31e00b-e854-4c07-bb1f-04319bf41c5e",
   "metadata": {},
   "outputs": [
    {
     "data": {
      "text/plain": [
       "True"
      ]
     },
     "execution_count": 17,
     "metadata": {},
     "output_type": "execute_result"
    }
   ],
   "source": [
    "test_1 = 'abraham'\n",
    "test_2 = 'abarhma'\n",
    "isAnagram(test_1,test_2)"
   ]
  },
  {
   "cell_type": "code",
   "execution_count": 1,
   "id": "95c9e5db-9ac0-4d95-b5ff-1e24e4f0122e",
   "metadata": {},
   "outputs": [],
   "source": [
    "def isAnagram(s, t):\n",
    "    if len(s) != len(t):\n",
    "        return False\n",
    "\n",
    "    s_store = {}\n",
    "    t_store = {}\n",
    "\n",
    "    for char in s:\n",
    "        s_store[char] = s_store.get(char,0) + 1\n",
    "    for char in t:\n",
    "        t_store[char] = t_store.get(char,0) + 1\n",
    "\n",
    "    return s_store == t_store"
   ]
  },
  {
   "cell_type": "code",
   "execution_count": 3,
   "id": "e0ae87b1-cf25-4fd4-939b-c95b6a7d0a0f",
   "metadata": {},
   "outputs": [
    {
     "data": {
      "text/plain": [
       "False"
      ]
     },
     "execution_count": 3,
     "metadata": {},
     "output_type": "execute_result"
    }
   ],
   "source": [
    "test_1 = 'abraham'\n",
    "test_2 = 'abarhmr'\n",
    "isAnagram(test_1,test_2)"
   ]
  },
  {
   "cell_type": "markdown",
   "id": "250d394b-49a7-41b6-b2f5-af90636136ce",
   "metadata": {},
   "source": [
    "##### 1. Two Sum"
   ]
  },
  {
   "cell_type": "code",
   "execution_count": 6,
   "id": "20c29694-77ff-46be-ae7b-909cdf9e925f",
   "metadata": {},
   "outputs": [
    {
     "data": {
      "text/plain": [
       "[0, 1]"
      ]
     },
     "execution_count": 6,
     "metadata": {},
     "output_type": "execute_result"
    }
   ],
   "source": [
    "def twoSum(nums, target):\n",
    "    result = []\n",
    "    for i in range(len(nums)):\n",
    "        n = target - nums[i]\n",
    "        for j in range(len(nums)):\n",
    "            if nums[j] == n and j != i:\n",
    "                result.append(i)\n",
    "                result.append(j)\n",
    "                return result  \n",
    "    return -1\n",
    "    \n",
    "test_1 = [3,3]\n",
    "test_2 = [7,4,2,8]\n",
    "\n",
    "twoSum(test_1,6)"
   ]
  },
  {
   "cell_type": "code",
   "execution_count": 4,
   "id": "1946248e-9792-4c18-bdd7-c195dca71aca",
   "metadata": {},
   "outputs": [
    {
     "data": {
      "text/plain": [
       "[0, 3]"
      ]
     },
     "execution_count": 4,
     "metadata": {},
     "output_type": "execute_result"
    }
   ],
   "source": [
    "def twoSum(nums, target):\n",
    "    store = {}\n",
    "    for i,num in enumerate(nums):\n",
    "        compliment = target - num\n",
    "        if compliment in store:\n",
    "            return [store[compliment],i]\n",
    "        store[num] = i\n",
    "\n",
    "    return []\n",
    "test_1 = [1,2,3,6]\n",
    "test_2 = [7,4,2,8]\n",
    "\n",
    "twoSum(test_2,15)                         "
   ]
  },
  {
   "cell_type": "markdown",
   "id": "e345b69a-2c47-4e1e-a18a-62efbbdcb88a",
   "metadata": {},
   "source": [
    "##### Note:\n",
    "- Don't forget you can use enumerate"
   ]
  },
  {
   "cell_type": "markdown",
   "id": "c51870ac-8b4d-4b5d-ba14-b492ea86c8c1",
   "metadata": {},
   "source": [
    "##### 49. Group Anagrams"
   ]
  },
  {
   "cell_type": "code",
   "execution_count": 7,
   "id": "85708c4c-7aa0-4dbb-9993-c2fc5a58b525",
   "metadata": {},
   "outputs": [
    {
     "data": {
      "text/plain": [
       "[['eat', 'tea', 'ate'], ['tan', 'nat'], ['bat']]"
      ]
     },
     "execution_count": 7,
     "metadata": {},
     "output_type": "execute_result"
    }
   ],
   "source": [
    "def groupAnagrams(strs):\n",
    "    anagram_group = {}\n",
    "    for words in strs:\n",
    "        sorted_word = ''.join(sorted(words))\n",
    "        if sorted_word in anagram_group:\n",
    "            anagram_group[sorted_word].append(words)\n",
    "        else:\n",
    "            anagram_group[sorted_word] = [words]\n",
    "    return list(anagram_group.values())\n",
    "strs = [\"eat\",\"tea\",\"tan\",\"ate\",\"nat\",\"bat\"]\n",
    "groupAnagrams(strs)"
   ]
  },
  {
   "cell_type": "code",
   "execution_count": 5,
   "id": "f48dcdf5-7141-493a-970e-5a4f99821070",
   "metadata": {},
   "outputs": [
    {
     "data": {
      "text/plain": [
       "[['eat', 'tea', 'ate'], ['tan', 'nat'], ['bat']]"
      ]
     },
     "execution_count": 5,
     "metadata": {},
     "output_type": "execute_result"
    }
   ],
   "source": [
    "def groupAnagrams(strs):\n",
    "    anagram_grp = {}\n",
    "    for words in strs:\n",
    "        sorted_words = ''.join(sorted(words))\n",
    "        if sorted_words in anagram_grp:\n",
    "            anagram_grp[sorted_words].append(words)\n",
    "        else:\n",
    "            anagram_grp[sorted_words] = [words]\n",
    "    return list(anagram_grp.values())\n",
    "\n",
    "strs = [\"eat\",\"tea\",\"tan\",\"ate\",\"nat\",\"bat\"]\n",
    "groupAnagrams(strs)"
   ]
  },
  {
   "cell_type": "markdown",
   "id": "2ac522ef-4f5a-4d83-b442-6a656ffdf036",
   "metadata": {},
   "source": [
    "##### 347. Top K Frequent Elements"
   ]
  },
  {
   "cell_type": "code",
   "execution_count": 14,
   "id": "eef0205d-78b9-45fe-96ef-e96d0ad1b42c",
   "metadata": {},
   "outputs": [
    {
     "data": {
      "text/plain": [
       "[1, 2]"
      ]
     },
     "execution_count": 14,
     "metadata": {},
     "output_type": "execute_result"
    }
   ],
   "source": [
    "def topKFrequent(nums, k):\n",
    "    num_count = {}\n",
    "    freq = [[] for i in range(len(nums)+ 1)]\n",
    "\n",
    "    for num in nums:\n",
    "        num_count[num] = num_count.get(num,0) + 1\n",
    "    for num, c in num_count.items():\n",
    "        freq[c].append(num) \n",
    "    result = []\n",
    "    for i in range(len(freq)-1,0,-1):\n",
    "        for n in freq[i]:\n",
    "            result.append(n)\n",
    "            if len(result) == k:\n",
    "                return result\n",
    "nums = [1,1,1,2,2,3]\n",
    "topKFrequent(nums,2)"
   ]
  },
  {
   "cell_type": "code",
   "execution_count": 15,
   "id": "bb29bf1e-6b28-4cfb-b09c-0e010d621077",
   "metadata": {},
   "outputs": [],
   "source": [
    "freq = {\n",
    "    1:5,\n",
    "    3:2,\n",
    "    6:1\n",
    "}"
   ]
  },
  {
   "cell_type": "code",
   "execution_count": 29,
   "id": "0c81d70a-5d2d-48aa-82d5-eedb997f4600",
   "metadata": {},
   "outputs": [
    {
     "name": "stdout",
     "output_type": "stream",
     "text": [
      "5\n",
      "2\n",
      "1\n"
     ]
    }
   ],
   "source": [
    "for f,c in freq.items():\n",
    "    print(c)"
   ]
  },
  {
   "cell_type": "code",
   "execution_count": 31,
   "id": "471a9176-25d1-452a-a6bb-172b7cb4e2f9",
   "metadata": {},
   "outputs": [
    {
     "name": "stdout",
     "output_type": "stream",
     "text": [
      "num_count: {1: 3, 2: 2, 3: 6, 4: 1, 7: 3}\n",
      "freq: [[], [4], [2], [1, 7], [], [], [3], [], [], [], [], [], [], [], [], []]\n",
      "result: [3]\n",
      "result: [3, 1]\n",
      "result: [3, 1, 7]\n",
      "[3, 1, 7]\n"
     ]
    }
   ],
   "source": [
    "def topKFrequent(nums, k):\n",
    "    num_count = {}\n",
    "    freq = [[] for i in range(len(nums) + 1)]\n",
    "\n",
    "    for num in nums:\n",
    "        num_count[num] = num_count.get(num, 0) + 1\n",
    "    print(\"num_count:\", num_count)  # Print the frequency count of each number\n",
    "    for num, c in num_count.items():\n",
    "        freq[c].append(num) \n",
    "    print(\"freq:\", freq)  # Print the frequency list\n",
    "    result = []\n",
    "    for i in range(len(freq) - 1, 0, -1):\n",
    "        for n in freq[i]:\n",
    "            result.append(n)\n",
    "            print(\"result:\", result)  # Print the current result list\n",
    "            if len(result) == k:\n",
    "                return result\n",
    "\n",
    "nums = [1, 1, 1, 2, 2, 3,3,3,3,3,3,4,7,7,7]\n",
    "print(topKFrequent(nums, 3))"
   ]
  },
  {
   "cell_type": "markdown",
   "id": "3e7d1c7d-f98c-4232-876e-7cc303c52c31",
   "metadata": {},
   "source": [
    "##### !!! Try by yourself now "
   ]
  },
  {
   "cell_type": "code",
   "execution_count": 3,
   "id": "f0d1980a-07ba-47ae-b6c9-423663edd787",
   "metadata": {},
   "outputs": [
    {
     "data": {
      "text/plain": [
       "[3, 1, 7]"
      ]
     },
     "execution_count": 3,
     "metadata": {},
     "output_type": "execute_result"
    }
   ],
   "source": [
    "def topKFrequent(nums,k):\n",
    "    count = {}\n",
    "    freq = [[] for _ in range(len(nums) + 1)]\n",
    "\n",
    "    for num in nums:\n",
    "        count[num] = count.get(num,0) + 1\n",
    "    for num,freq_ in count.items():\n",
    "        freq[freq_].append(num)\n",
    "    result = []\n",
    "    for i in range(len(freq)-1,0,-1):\n",
    "        for n in freq[i]:\n",
    "            result.append(n)\n",
    "            if len(result) == k:\n",
    "                return result\n",
    "nums = [1, 1, 1, 2, 2, 3,3,3,3,3,3,4,7,7,7]\n",
    "topKFrequent(nums, 3)"
   ]
  },
  {
   "cell_type": "code",
   "execution_count": null,
   "id": "d1f753f3-610b-4344-98ad-a5cb602d93f9",
   "metadata": {},
   "outputs": [],
   "source": [
    "def topKFrequent(nums, k):\n",
    "    \"\"\"\n",
    "    :type nums: List[int]\n",
    "    :type k: int\n",
    "    :rtype: List[int]\n",
    "    \"\"\"\n",
    "    d = {}\n",
    "    for i in range(len(nums)):\n",
    "        d[nums[i]] = d.get(nums[i],0) + 1\n",
    "    \n",
    "    #d3 = dict(sorted(d))\n",
    "    d2 = sorted(d.items(), key = lambda x :x[1],reverse = True)\n",
    "\n",
    "    res =[x[0] for x in d2[:k]]\n",
    "    return res"
   ]
  },
  {
   "cell_type": "markdown",
   "id": "4142f629-8891-40da-83f4-ddec850d6f9c",
   "metadata": {},
   "source": [
    "##### 238. Product of Array Except Self"
   ]
  },
  {
   "cell_type": "code",
   "execution_count": 7,
   "id": "a425a8d4-d10b-4fcd-a860-c5ffb6210116",
   "metadata": {},
   "outputs": [
    {
     "data": {
      "text/plain": [
       "[6, 6, 4, 12]"
      ]
     },
     "execution_count": 7,
     "metadata": {},
     "output_type": "execute_result"
    }
   ],
   "source": [
    "def productExceptSelf(nums):\n",
    "    result = [1] * len(nums)\n",
    "    prefix = 1\n",
    "    for i in range(len(nums)):\n",
    "        result[i] = prefix\n",
    "        prefix *= nums[i]\n",
    "    surfix = 1\n",
    "    for i in range(len(nums)-1,-1,-1):\n",
    "        result[i] *= surfix\n",
    "        surfix *= nums[i]\n",
    "    return result\n",
    "\n",
    "productExceptSelf([2,2,3,1])"
   ]
  },
  {
   "cell_type": "markdown",
   "id": "30291bd6-1b18-4378-80a9-4fb515037c74",
   "metadata": {},
   "source": [
    "##### 36. Valid Sudoku"
   ]
  },
  {
   "cell_type": "code",
   "execution_count": 11,
   "id": "076f41aa-e62d-475e-982f-025df7e3fe1c",
   "metadata": {},
   "outputs": [
    {
     "data": {
      "text/plain": [
       "True"
      ]
     },
     "execution_count": 11,
     "metadata": {},
     "output_type": "execute_result"
    }
   ],
   "source": [
    "from collections import defaultdict\n",
    "\n",
    "def isValidSudoku(board):\n",
    "    rows = defaultdict(set)\n",
    "    cols = defaultdict(set)\n",
    "    boxes = defaultdict(set)\n",
    "\n",
    "    for i in range(9):\n",
    "        for j in range(9):\n",
    "            num = board[i][j]\n",
    "            if num != '.':\n",
    "                if num in rows[i] or num in cols[j] or num in boxes[(i // 3, j // 3)]:\n",
    "                    return False\n",
    "                rows[i].add(num)\n",
    "                cols[j].add(num)\n",
    "                boxes[(i // 3, j // 3)].add(num)\n",
    "\n",
    "    return True\n",
    "board = [[\"5\",\"3\",\".\",\".\",\"7\",\".\",\".\",\".\",\".\"]\n",
    ",[\"6\",\".\",\".\",\"1\",\"9\",\"5\",\".\",\".\",\".\"]\n",
    ",[\".\",\"9\",\"8\",\".\",\".\",\".\",\".\",\"6\",\".\"]\n",
    ",[\"8\",\".\",\".\",\".\",\"6\",\".\",\".\",\".\",\"3\"]\n",
    ",[\"4\",\".\",\".\",\"8\",\".\",\"3\",\".\",\".\",\"1\"]\n",
    ",[\"7\",\".\",\".\",\".\",\"2\",\".\",\".\",\".\",\"6\"]\n",
    ",[\".\",\"7\",\".\",\".\",\".\",\".\",\"2\",\"8\",\".\"]\n",
    ",[\".\",\".\",\".\",\"4\",\"1\",\"9\",\".\",\".\",\"5\"]\n",
    ",[\".\",\".\",\".\",\".\",\"8\",\".\",\".\",\"7\",\"9\"]]\n",
    "isValidSudoku(board)"
   ]
  },
  {
   "cell_type": "code",
   "execution_count": null,
   "id": "33c2f7e5-6e37-4685-b4e2-d6e11bb9d94f",
   "metadata": {},
   "outputs": [],
   "source": [
    "def encoder(strs):\n",
    "    res = ''\n",
    "    for char in strs:\n",
    "        res += str(len(char)) + '*' + char\n",
    "    return res\n",
    "        \n",
    "\n",
    "def decoder(strs):\n",
    "    res,i = [],0\n",
    "    while i < len(strs):\n",
    "        j = i\n",
    "        while strs[j] != '*':\n",
    "            j += 1\n",
    "        length = int(strs[i:j])\n",
    "        res.append(strs[j+1:j+1+length])\n",
    "        i = j+1+length"
   ]
  },
  {
   "cell_type": "markdown",
   "id": "528c83ce-909e-4302-9e1f-c5a3c148ff51",
   "metadata": {},
   "source": [
    "##### 659 Encode and Decode Strings"
   ]
  },
  {
   "cell_type": "code",
   "execution_count": 2,
   "id": "8ff68bc1-301f-4df6-bd21-d26bc7d01c2e",
   "metadata": {},
   "outputs": [
    {
     "data": {
      "text/plain": [
       "['3fs', 'rtge4', 'mrg5']"
      ]
     },
     "execution_count": 2,
     "metadata": {},
     "output_type": "execute_result"
    }
   ],
   "source": [
    "def encode(strs):\n",
    "    res = ''\n",
    "    for char in strs:\n",
    "        res += str(len(char)) + '#' + char\n",
    "    return res\n",
    "\n",
    "def decode(strs):\n",
    "    res,i = [],0\n",
    "    while i < len(strs):\n",
    "        j = i\n",
    "        while strs[j] != '#':\n",
    "            j += 1\n",
    "        length = int(strs[i:j])\n",
    "        res.append(strs[j+1 : j+1 + length])\n",
    "        i = j+1 + length\n",
    "    return res\n",
    "\n",
    "\n",
    "strs = ['3fs','rtge4','mrg5']\n",
    "decode(encode(strs))"
   ]
  },
  {
   "cell_type": "code",
   "execution_count": 3,
   "id": "03219262-50dd-4f69-b6d0-ff51914d47bc",
   "metadata": {},
   "outputs": [
    {
     "data": {
      "text/plain": [
       "['3fs', 'rtge4', 'mrg5']"
      ]
     },
     "execution_count": 3,
     "metadata": {},
     "output_type": "execute_result"
    }
   ],
   "source": [
    "def encoder(strs):\n",
    "    res = ''\n",
    "    for s in strs:\n",
    "        res += str(len(s)) + '!' + s\n",
    "    return res\n",
    "\n",
    "def decoder(strs):\n",
    "    res,i = [],0\n",
    "    while i < len(strs):\n",
    "        j = i\n",
    "        while strs[j] != '!':\n",
    "            j += 1\n",
    "        length = int(strs[i:j])\n",
    "        res.append(strs[j+1:j+1+length])\n",
    "        i = j + 1 + length\n",
    "    return res\n",
    "\n",
    "strs = ['3fs','rtge4','mrg5']\n",
    "decoder(encoder(strs))"
   ]
  },
  {
   "cell_type": "markdown",
   "id": "bbf7a253-5198-4a85-9ccd-d10c65d5f72c",
   "metadata": {},
   "source": [
    "##### 128. Longest Consecutive Sequence"
   ]
  },
  {
   "cell_type": "code",
   "execution_count": 11,
   "id": "bb8e381e-e459-49cd-9e93-a5ed8c4c402e",
   "metadata": {},
   "outputs": [
    {
     "data": {
      "text/plain": [
       "{0, 1, 2, 3, 4, 5, 6, 7, 8}"
      ]
     },
     "execution_count": 11,
     "metadata": {},
     "output_type": "execute_result"
    }
   ],
   "source": [
    "def longestConsecutive(nums):\n",
    "    num_add_1 = {}\n",
    "    for num in nums:\n",
    "        if num not in num_add_1:\n",
    "            num_add_1[num] = num_add_1.get(num,num) + 1\n",
    "    final_set = set()\n",
    "    for value,key in num_add_1.items():\n",
    "        if key in num_add_1:\n",
    "            final_set.add(value)\n",
    "            final_set.add(key)\n",
    "    return final_set\n",
    "    \n",
    "nums = [0,3,7,2,5,8,4,6,0,1]\n",
    "longestConsecutive(nums)"
   ]
  },
  {
   "cell_type": "code",
   "execution_count": 5,
   "id": "b671f26d-15bc-4808-a23a-f45ab82c538b",
   "metadata": {},
   "outputs": [
    {
     "data": {
      "text/plain": [
       "2"
      ]
     },
     "execution_count": 5,
     "metadata": {},
     "output_type": "execute_result"
    }
   ],
   "source": [
    "def longestConsecutive(nums):\n",
    "    numSet = set(nums)\n",
    "    longest = 0\n",
    "    for num in nums:\n",
    "        if (num-1) not in numSet:\n",
    "            length = 0\n",
    "            while (num+length) in numSet:\n",
    "                length += 1\n",
    "            longest = max(longest,length)\n",
    "    return longest\n",
    "\n",
    "nums = [0,3,6,0,1]\n",
    "longestConsecutive(nums)"
   ]
  },
  {
   "cell_type": "markdown",
   "id": "f44f53e8-fb24-46b3-868f-3b5a3980ee83",
   "metadata": {},
   "source": [
    "##### 125. Valid Palindrome"
   ]
  },
  {
   "cell_type": "code",
   "execution_count": 22,
   "id": "5aa52d69-f6f4-49fc-9171-2afed95b233f",
   "metadata": {},
   "outputs": [
    {
     "data": {
      "text/plain": [
       "True"
      ]
     },
     "execution_count": 22,
     "metadata": {},
     "output_type": "execute_result"
    }
   ],
   "source": [
    "def isPalindrome(s):\n",
    "    clean_s = [char.lower() for char in s if char.isalnum()]\n",
    "    return clean_s == clean_s[::-1]\n",
    "\n",
    "s = \"race a car\"\n",
    "isPalindrome(s)"
   ]
  },
  {
   "cell_type": "code",
   "execution_count": 2,
   "id": "5c9a3a71-c55c-4ef3-8699-26324d56cb7f",
   "metadata": {},
   "outputs": [
    {
     "data": {
      "text/plain": [
       "True"
      ]
     },
     "execution_count": 2,
     "metadata": {},
     "output_type": "execute_result"
    }
   ],
   "source": [
    "def isPalindrome(s):\n",
    "    l,r = 0, len(s)-1\n",
    "    while l < r:\n",
    "        while l < r and not check_ord(s[l]):\n",
    "            l += 1\n",
    "        while r > l and not check_ord(s[r]):\n",
    "            r -= 1\n",
    "        if s[l] != s[r]:\n",
    "            return False\n",
    "        l,r = l + 1,r - 1\n",
    "    return True\n",
    "        \n",
    "def check_ord(s):\n",
    "    return (ord('A') <= ord(s) <= ord('Z') or\n",
    "            ord('a') <= ord(s) <= ord('z') or\n",
    "            ord('0') <= ord(s) <= ord('9'))\n",
    "\n",
    "s = \"raca a car\"\n",
    "isPalindrome(s)"
   ]
  },
  {
   "cell_type": "markdown",
   "id": "3caae7fc-3b10-417f-aeec-ef0d5d4ed1ba",
   "metadata": {},
   "source": [
    "##### 167. Two Sum II - Input Array Is Sorted"
   ]
  },
  {
   "cell_type": "code",
   "execution_count": 3,
   "id": "bcb3991c-339f-487e-adb2-d658a1294b4e",
   "metadata": {},
   "outputs": [
    {
     "data": {
      "text/plain": [
       "[1, 2]"
      ]
     },
     "execution_count": 3,
     "metadata": {},
     "output_type": "execute_result"
    }
   ],
   "source": [
    "def twoSum(numbers, target):\n",
    "    left,right = 0,len(numbers) -1\n",
    "    while left < right:\n",
    "        current_sum = numbers[left] + numbers[right]\n",
    "        if current_sum == target:\n",
    "            return [left+1,right+1]\n",
    "        elif current_sum < target:\n",
    "            left += 1\n",
    "        else:\n",
    "            right -= 1\n",
    "    return []\n",
    "            \n",
    "numbers = [2,7,11,15]\n",
    "twoSum(numbers,9)"
   ]
  },
  {
   "cell_type": "code",
   "execution_count": null,
   "id": "1980ffa5-b29b-41e2-868f-878a50959e39",
   "metadata": {},
   "outputs": [],
   "source": []
  },
  {
   "cell_type": "markdown",
   "id": "6718265b-6302-4512-bb2d-73d7893a77b9",
   "metadata": {},
   "source": [
    "##### 15. 3Sum"
   ]
  },
  {
   "cell_type": "code",
   "execution_count": 3,
   "id": "573ddcb8-4a28-48f5-88af-ba1e795a4a34",
   "metadata": {},
   "outputs": [
    {
     "data": {
      "text/plain": [
       "[[-1, -1, 2], [-1, 0, 1]]"
      ]
     },
     "execution_count": 3,
     "metadata": {},
     "output_type": "execute_result"
    }
   ],
   "source": [
    "def threeSum(nums):\n",
    "    res = []\n",
    "    nums.sort()\n",
    "\n",
    "    for i,a in enumerate(nums):\n",
    "        if i > 0 and a == nums[i-1]:\n",
    "            continue\n",
    "\n",
    "        left,right = i+1,len(nums) - 1\n",
    "        while left < right:\n",
    "            threesum = a + nums[left] + nums[right]\n",
    "            if threesum == 0:\n",
    "                res.append([a,nums[left],nums[right]])\n",
    "                left += 1\n",
    "                while nums[left] == nums[left - 1] and left < right:\n",
    "                    left += 1\n",
    "            elif threesum > 0:\n",
    "                right -= 1\n",
    "            else:\n",
    "                left += 1\n",
    "    return res\n",
    "\n",
    "nums = [-1,0,1,2,-1,-4]\n",
    "threeSum(nums)"
   ]
  },
  {
   "cell_type": "markdown",
   "id": "116e171a-cde9-4f56-9422-5b6688cba636",
   "metadata": {},
   "source": [
    "#### 11. Container With Most Water"
   ]
  },
  {
   "cell_type": "code",
   "execution_count": 4,
   "id": "42adefa6-20ce-4460-b53c-048a1b7ed154",
   "metadata": {},
   "outputs": [
    {
     "data": {
      "text/plain": [
       "49"
      ]
     },
     "execution_count": 4,
     "metadata": {},
     "output_type": "execute_result"
    }
   ],
   "source": [
    "def maxArea(heights):\n",
    "    left,right = 0,len(heights)-1\n",
    "    max_area = 0\n",
    "    while left < right:\n",
    "        current_area = min(heights[left],heights[right])*(right-left)\n",
    "        max_area = max(max_area,current_area)\n",
    "        if heights[left] < heights[right]:\n",
    "            left += 1\n",
    "        else:\n",
    "            right -= 1\n",
    "    return max_area\n",
    "\n",
    "maxArea([1,8,6,2,5,4,8,3,7])"
   ]
  },
  {
   "cell_type": "markdown",
   "id": "e0e2fbad-58e3-4c2e-91e3-8eca5bb31b05",
   "metadata": {},
   "source": [
    "#### 42. Trapping Rain Water"
   ]
  },
  {
   "cell_type": "code",
   "execution_count": 4,
   "id": "9574415f-fe4b-47b5-a9e3-8f19aead59bc",
   "metadata": {},
   "outputs": [
    {
     "data": {
      "text/plain": [
       "9"
      ]
     },
     "execution_count": 4,
     "metadata": {},
     "output_type": "execute_result"
    }
   ],
   "source": [
    "def trap(height):\n",
    "    left, right = 0, len(height)-1\n",
    "    container = 0\n",
    "    leftMax,rightMax = height[left],height[right]\n",
    "\n",
    "    while left < right:\n",
    "        if leftMax < rightMax:\n",
    "            left += 1\n",
    "            leftMax = max(leftMax,height[left])\n",
    "            container += leftMax - height[left]\n",
    "        else:\n",
    "            right -= 1\n",
    "            rightMax = max(rightMax,height[right])\n",
    "            container += rightMax - height[right]\n",
    "    return container\n",
    "height = [4,2,0,3,2,5]\n",
    "trap(height)"
   ]
  },
  {
   "cell_type": "markdown",
   "id": "c7dea851-7fd4-4536-ae94-a0bb45a4f46d",
   "metadata": {},
   "source": [
    "###### Try again!!!"
   ]
  },
  {
   "cell_type": "code",
   "execution_count": 6,
   "id": "24b72659-15bf-48d8-86b2-58aa3f8753e2",
   "metadata": {},
   "outputs": [
    {
     "data": {
      "text/plain": [
       "9"
      ]
     },
     "execution_count": 6,
     "metadata": {},
     "output_type": "execute_result"
    }
   ],
   "source": [
    "def function(h):\n",
    "    l,r = 0,len(h)-1\n",
    "    l_max, r_max = h[l],h[r]\n",
    "    container = 0\n",
    "\n",
    "    while l<r:\n",
    "        if l_max < r_max:\n",
    "            l += 1\n",
    "            l_max = max(l_max,h[l])\n",
    "            container += l_max - h[l]\n",
    "        else:\n",
    "            r -= 1\n",
    "            r_max = max(r_max,h[r])\n",
    "            container += r_max - h[r]\n",
    "    return container\n",
    "\n",
    "height = [4,2,0,3,2,5]\n",
    "function(height)"
   ]
  },
  {
   "cell_type": "markdown",
   "id": "1a03d978-8456-4396-bc5f-1ac861965a52",
   "metadata": {},
   "source": [
    "##### 20. Valid Parentheses"
   ]
  },
  {
   "cell_type": "code",
   "execution_count": 11,
   "id": "99b306ec-9a12-4ed4-80d5-af0d082247f3",
   "metadata": {},
   "outputs": [
    {
     "data": {
      "text/plain": [
       "False"
      ]
     },
     "execution_count": 11,
     "metadata": {},
     "output_type": "execute_result"
    }
   ],
   "source": [
    "def isValid(s):\n",
    "    stack = []\n",
    "    parentheses = {')':'(' , \n",
    "                   '}':'{', \n",
    "                   '[':']'}\n",
    "\n",
    "    for char in s:\n",
    "        if char in parentheses:\n",
    "            top_par = stack.pop() if stack else \"#\"\n",
    "            if parentheses[char] != top_par:\n",
    "                return False\n",
    "        else:\n",
    "            stack.append(char)\n",
    "    return not stack\n",
    "\n",
    "isValid('(){}[][]{]')"
   ]
  },
  {
   "cell_type": "code",
   "execution_count": 20,
   "id": "b7205139-9a09-439d-8713-cf4904f1a678",
   "metadata": {},
   "outputs": [
    {
     "data": {
      "text/plain": [
       "True"
      ]
     },
     "execution_count": 20,
     "metadata": {},
     "output_type": "execute_result"
    }
   ],
   "source": [
    "def function(s):\n",
    "    stack = []\n",
    "    mapping = {')':'(' , \n",
    "               '}':'{', \n",
    "               ']':'['}\n",
    "    for c in s:\n",
    "        if c in mapping:\n",
    "            if stack and mapping[c] == stack[-1]:\n",
    "                stack.pop()\n",
    "            else:\n",
    "                return False\n",
    "        else:\n",
    "            stack.append(c)\n",
    "    return len(stack) == 0\n",
    "function('()(){}[]')"
   ]
  },
  {
   "cell_type": "code",
   "execution_count": null,
   "id": "d05ae639-775f-42d5-bcbb-7fee48476a1d",
   "metadata": {},
   "outputs": [],
   "source": [
    "class MinStack(object):\n",
    "\n",
    "    def __init__(self):\n",
    "        self.stack = []\n",
    "        self.minStack = []\n",
    "\n",
    "    def push(self, val):\n",
    "        \"\"\"\n",
    "        :type val: int\n",
    "        :rtype: None\n",
    "        \"\"\"\n",
    "        self.stack.append(val)\n",
    "        val = min(val,self.minStack[-1] if self.minStack else val)\n",
    "        self.minStack.append(val)\n",
    "        \n",
    "\n",
    "    def pop(self):\n",
    "        \"\"\"\n",
    "        :rtype: None\n",
    "        \"\"\"\n",
    "        self.stack.pop()\n",
    "        self.minStack.pop()\n",
    "\n",
    "    def top(self):\n",
    "        \"\"\"\n",
    "        :rtype: int\n",
    "        \"\"\"\n",
    "        return self.stack[-1]\n",
    "\n",
    "    def getMin(self):\n",
    "        \"\"\"\n",
    "        :rtype: int\n",
    "        \"\"\"\n",
    "        return self.minStack[-1]\n",
    "        \n",
    "\n",
    "\n",
    "# Your MinStack object will be instantiated and called as such:\n",
    "# obj = MinStack()\n",
    "# obj.push(val)\n",
    "# obj.pop()\n",
    "# param_3 = obj.top()\n",
    "# param_4 = obj.getMin()"
   ]
  },
  {
   "cell_type": "markdown",
   "id": "211716ba-edee-48da-b910-c64c410f6614",
   "metadata": {},
   "source": [
    "##### 150. Evaluate Reverse Polish Notation"
   ]
  },
  {
   "cell_type": "code",
   "execution_count": 16,
   "id": "d6cfe6ed-0135-41c2-a15d-ca4a32615e32",
   "metadata": {},
   "outputs": [
    {
     "data": {
      "text/plain": [
       "22"
      ]
     },
     "execution_count": 16,
     "metadata": {},
     "output_type": "execute_result"
    }
   ],
   "source": [
    "def evalRPN(tokens):\n",
    "    stack = []\n",
    "    operators = {'+','-','*','/'}\n",
    "\n",
    "    for token in tokens:\n",
    "        if token in operators:\n",
    "            num2 = stack.pop()\n",
    "            num1 = stack.pop()\n",
    "            if token == '+':\n",
    "                result = num1 + num2\n",
    "            elif token == '-':\n",
    "                result = num1 - num2\n",
    "            elif token == '*':\n",
    "                result = num1 * num2\n",
    "            else:\n",
    "                result = int(num1 / num2)\n",
    "            stack.append(result)\n",
    "        else:\n",
    "            stack.append(int(token))\n",
    "    return stack[0]\n",
    "\n",
    "tokens = [\"10\",\"6\",\"9\",\"3\",\"+\",\"-11\",\"*\",\"/\",\"*\",\"17\",\"+\",\"5\",\"+\"]\n",
    "evalRPN(tokens)"
   ]
  },
  {
   "cell_type": "code",
   "execution_count": 17,
   "id": "6ae8362c-a6f1-49ab-a766-628de89c06f8",
   "metadata": {},
   "outputs": [
    {
     "data": {
      "text/plain": [
       "2"
      ]
     },
     "execution_count": 17,
     "metadata": {},
     "output_type": "execute_result"
    }
   ],
   "source": [
    "11//4"
   ]
  },
  {
   "cell_type": "code",
   "execution_count": null,
   "id": "01194a95-171f-41f2-a837-e36b8f0328f1",
   "metadata": {},
   "outputs": [],
   "source": []
  },
  {
   "cell_type": "code",
   "execution_count": null,
   "id": "277e69cf-a129-486b-86b1-6e58a0412c66",
   "metadata": {},
   "outputs": [],
   "source": []
  },
  {
   "cell_type": "code",
   "execution_count": null,
   "id": "7ed756a2-8742-4232-8d7b-ebd340127674",
   "metadata": {},
   "outputs": [],
   "source": []
  },
  {
   "cell_type": "code",
   "execution_count": null,
   "id": "0e4c5878-a65a-4a67-acfe-3e5fa9057c2f",
   "metadata": {},
   "outputs": [],
   "source": []
  },
  {
   "cell_type": "code",
   "execution_count": null,
   "id": "1a876812-db9e-47d9-9f67-e89167622a2d",
   "metadata": {},
   "outputs": [],
   "source": []
  },
  {
   "cell_type": "code",
   "execution_count": null,
   "id": "e1a29954-b5c1-4635-b4cc-a138619193ac",
   "metadata": {},
   "outputs": [],
   "source": []
  },
  {
   "cell_type": "code",
   "execution_count": null,
   "id": "fbb04be6-ceea-404c-aa24-f793605b4599",
   "metadata": {},
   "outputs": [],
   "source": []
  },
  {
   "cell_type": "code",
   "execution_count": null,
   "id": "9c7a0a5a-921a-42ac-8114-839d14cf7534",
   "metadata": {},
   "outputs": [],
   "source": []
  },
  {
   "cell_type": "code",
   "execution_count": null,
   "id": "e7b2e7af-c613-45b6-a340-0d3fed25f277",
   "metadata": {},
   "outputs": [],
   "source": []
  },
  {
   "cell_type": "code",
   "execution_count": null,
   "id": "c401fdd0-10bf-479b-89da-63b845290c49",
   "metadata": {},
   "outputs": [],
   "source": []
  },
  {
   "cell_type": "code",
   "execution_count": null,
   "id": "8ca04d6f-7d98-47ed-8155-e7540ca1e391",
   "metadata": {},
   "outputs": [],
   "source": []
  }
 ],
 "metadata": {
  "kernelspec": {
   "display_name": "Python 3 (ipykernel)",
   "language": "python",
   "name": "python3"
  },
  "language_info": {
   "codemirror_mode": {
    "name": "ipython",
    "version": 3
   },
   "file_extension": ".py",
   "mimetype": "text/x-python",
   "name": "python",
   "nbconvert_exporter": "python",
   "pygments_lexer": "ipython3",
   "version": "3.11.5"
  }
 },
 "nbformat": 4,
 "nbformat_minor": 5
}
