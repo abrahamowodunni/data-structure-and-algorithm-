{
 "cells": [
  {
   "cell_type": "code",
   "execution_count": null,
   "id": "e475a225-903f-4484-ba9e-ecc9814abc80",
   "metadata": {},
   "outputs": [],
   "source": [
    "def is_palindrome(s):\n",
    "    # Convert the string to lowercase and filter out non-alphanumeric characters\n",
    "    filtered_s = ''.join(char.lower() for char in s if char.isalnum())\n",
    "    \n",
    "    # Check if the filtered string is equal to its reverse\n",
    "    return filtered_s == filtered_s[::-1]"
   ]
  },
  {
   "cell_type": "code",
   "execution_count": 11,
   "id": "00fd76a3-e7a1-4260-a56f-b9213843562d",
   "metadata": {},
   "outputs": [
    {
     "data": {
      "text/plain": [
       "False"
      ]
     },
     "execution_count": 11,
     "metadata": {},
     "output_type": "execute_result"
    }
   ],
   "source": [
    "def function(string):\n",
    "    lower_cased = ''.join(char.lower() for char in string if char.isalnum())\n",
    "    return lower_cased == lower_cased[::-1]\n",
    "\n",
    "function(\"A man, a plan, a canal: Panma\")"
   ]
  },
  {
   "cell_type": "code",
   "execution_count": null,
   "id": "2d90e3a6-f479-4afd-a54b-039f5ab11f84",
   "metadata": {},
   "outputs": [],
   "source": [
    "def is_palindrome(s):\n",
    "    left, right = 0, len(s) - 1\n",
    "    \n",
    "    while left < right:\n",
    "        # Skip non-alphanumeric characters on the left\n",
    "        if not s[left].isalnum():\n",
    "            left += 1\n",
    "            continue\n",
    "        \n",
    "        # Skip non-alphanumeric characters on the right\n",
    "        if not s[right].isalnum():\n",
    "            right -= 1\n",
    "            continue\n",
    "        \n",
    "        # Compare the current characters\n",
    "        if s[left].lower() != s[right].lower():\n",
    "            return False\n",
    "        \n",
    "        # Move pointers closer to the center\n",
    "        left += 1\n",
    "        right -= 1\n",
    "    \n",
    "    return True\n",
    "\n",
    "# Example usage:\n",
    "print(is_palindrome(\"A man, a plan, a canal: Panama\"))  # Output: True\n",
    "print(is_palindrome(\"race a car\"))  # Output: False\n",
    "print(is_palindrome(\" \"))  # Output: True\n"
   ]
  },
  {
   "cell_type": "code",
   "execution_count": 17,
   "id": "e613a4ae-38f4-4f4a-ab44-1b9ddb358334",
   "metadata": {},
   "outputs": [
    {
     "data": {
      "text/plain": [
       "False"
      ]
     },
     "execution_count": 17,
     "metadata": {},
     "output_type": "execute_result"
    }
   ],
   "source": [
    "def function(s):\n",
    "    left, right = 0, len(s) - 1\n",
    "\n",
    "    while left < right: \n",
    "        if not s[left].isalnum():\n",
    "            left += 1\n",
    "            continue\n",
    "        if not s[right].isalnum():\n",
    "            right -= 1\n",
    "            continue\n",
    "        if s[left].lower() != s[right].lower():\n",
    "            return False\n",
    "        left += 1\n",
    "        right -= 1\n",
    "    return True\n",
    "\n",
    "function(\"A man, a plan, a canal: anama\")"
   ]
  },
  {
   "cell_type": "code",
   "execution_count": null,
   "id": "54ca9a03-a13f-43bf-be33-b56d6973d19f",
   "metadata": {},
   "outputs": [],
   "source": [
    "def is_palindrome(x: int) -> bool:\n",
    "    # Negative numbers and numbers ending with 0 (but not 0 itself) are not palindromes\n",
    "    if x < 0 or (x % 10 == 0 and x != 0):\n",
    "        return False\n",
    "    \n",
    "    original = x\n",
    "    reversed_half = 0\n",
    "    \n",
    "    # Reverse the second half of the number\n",
    "    while x > reversed_half:\n",
    "        reversed_half = reversed_half * 10 + x % 10\n",
    "        x //= 10\n",
    "    \n",
    "    # For even-length numbers, x should be equal to reversed_half\n",
    "    # For odd-length numbers, reversed_half // 10 should be equal to x\n",
    "    return x == reversed_half or x == reversed_half // 10\n",
    "\n",
    "# Example usage:\n",
    "print(is_palindrome(121))  # Output: true\n",
    "print(is_palindrome(-121)) # Output: false\n",
    "print(is_palindrome(10))   # Output: false\n"
   ]
  },
  {
   "cell_type": "code",
   "execution_count": 20,
   "id": "d44bde41-9a08-434a-93a0-c739baee34ad",
   "metadata": {},
   "outputs": [
    {
     "ename": "SyntaxError",
     "evalue": "'literal' is an illegal expression for augmented assignment (3458149522.py, line 1)",
     "output_type": "error",
     "traceback": [
      "\u001b[1;36m  Cell \u001b[1;32mIn[20], line 1\u001b[1;36m\u001b[0m\n\u001b[1;33m    121 //= 10\u001b[0m\n\u001b[1;37m    ^\u001b[0m\n\u001b[1;31mSyntaxError\u001b[0m\u001b[1;31m:\u001b[0m 'literal' is an illegal expression for augmented assignment\n"
     ]
    }
   ],
   "source": [
    "def isPalindrome(x):\n",
    "    if x < 0:\n",
    "        return False\n",
    "\n",
    "    reversed_num = 0\n",
    "    temp = x\n",
    "\n",
    "    while temp != 0:\n",
    "        digit = temp % 10\n",
    "        reversed_num = reversed_num * 10 + digit\n",
    "        temp //= 10\n",
    "\n",
    "    return reversed_num == x"
   ]
  },
  {
   "cell_type": "code",
   "execution_count": null,
   "id": "eeac0b7e-8545-449a-81fa-5b177becd721",
   "metadata": {},
   "outputs": [],
   "source": []
  },
  {
   "cell_type": "code",
   "execution_count": 28,
   "id": "68728291-5581-43bb-8f0c-24396857164b",
   "metadata": {},
   "outputs": [
    {
     "data": {
      "text/plain": [
       "False"
      ]
     },
     "execution_count": 28,
     "metadata": {},
     "output_type": "execute_result"
    }
   ],
   "source": [
    "def containDUp(arr):\n",
    "    check = set()\n",
    "    for i in arr:\n",
    "        if i in check:\n",
    "            return True\n",
    "        check.add(i)\n",
    "    return False\n",
    "containDUp([])"
   ]
  },
  {
   "cell_type": "code",
   "execution_count": 36,
   "id": "16204338-cd49-451d-8654-38bc82128192",
   "metadata": {},
   "outputs": [
    {
     "data": {
      "text/plain": [
       "True"
      ]
     },
     "execution_count": 36,
     "metadata": {},
     "output_type": "execute_result"
    }
   ],
   "source": [
    "def anagram(s,t):\n",
    "    if len(s) != len(t):\n",
    "        return False\n",
    "    s_set, t_set = {}, {}\n",
    "    for char in s:\n",
    "        s_set[char] = s_set.get(char,0) + 1\n",
    "    for char in t:\n",
    "        t_set[char] = t_set.get(char,0) + 1\n",
    "    return s_set == t_set\n",
    "anagram('cat','act')"
   ]
  },
  {
   "cell_type": "code",
   "execution_count": 45,
   "id": "7d6ebc43-0c8e-47d8-a952-452b524938dd",
   "metadata": {},
   "outputs": [
    {
     "data": {
      "text/plain": [
       "[0, 1]"
      ]
     },
     "execution_count": 45,
     "metadata": {},
     "output_type": "execute_result"
    }
   ],
   "source": [
    "def sumTwo(numbers, target):\n",
    "    index_num = {}\n",
    "    for i, num in enumerate(numbers):\n",
    "        comp = target - num\n",
    "        if comp in index_num:\n",
    "            return [index_num[comp],i]\n",
    "        index_num[num] = i\n",
    "\n",
    "sumTwo([1,5,2,8,9],6)"
   ]
  },
  {
   "cell_type": "code",
   "execution_count": 54,
   "id": "a166d7fa-1a74-4e3a-b072-ad1ebff89bc7",
   "metadata": {},
   "outputs": [
    {
     "data": {
      "text/plain": [
       "[['eat', 'tea', 'ate'], ['tan', 'nat'], ['bat']]"
      ]
     },
     "execution_count": 54,
     "metadata": {},
     "output_type": "execute_result"
    }
   ],
   "source": [
    "def grpAnagram(str):\n",
    "    grp_anagram = {}\n",
    "    for words in str: \n",
    "        sorted_words = ''.join(sorted(words))\n",
    "        if sorted_words in grp_anagram:\n",
    "            grp_anagram[sorted_words].append(words)\n",
    "        else:\n",
    "            grp_anagram[sorted_words] = [words]\n",
    "    return list(grp_anagram.values())\n",
    "\n",
    "grpAnagram([\"eat\",\"tea\",\"tan\",\"ate\",\"nat\",\"bat\"])"
   ]
  },
  {
   "cell_type": "code",
   "execution_count": 65,
   "id": "1ca3fc2e-787d-436f-b205-729e46b9f3d9",
   "metadata": {},
   "outputs": [
    {
     "data": {
      "text/plain": [
       "[6, 1, 3, 2, 5]"
      ]
     },
     "execution_count": 65,
     "metadata": {},
     "output_type": "execute_result"
    }
   ],
   "source": [
    "def topKFrequent(nums, k):\n",
    "    count = {}\n",
    "    freq = [[] for _ in range(len(nums) + 1)]\n",
    "\n",
    "    for num in nums:\n",
    "        count[num] = count.get(num,0) + 1\n",
    "    for num, freq_ in count.items():\n",
    "        freq[freq_].append(num)\n",
    "\n",
    "    results = []\n",
    "    for i in range(len(freq)-1,0,-1):\n",
    "        for n in freq[i]:\n",
    "            results.append(n)\n",
    "            if len(results) == k:\n",
    "                return results\n",
    "topKFrequent([1,1,1,2,2,3,6,6,6,6,6,3,3,5,6,7,8,9], k = 5)"
   ]
  },
  {
   "cell_type": "code",
   "execution_count": null,
   "id": "e5f14a54-979f-47e3-a9fb-343932e37c51",
   "metadata": {},
   "outputs": [],
   "source": []
  },
  {
   "cell_type": "code",
   "execution_count": 73,
   "id": "67e9d7d9-7e64-4adf-8cfe-e9fbc86662c6",
   "metadata": {},
   "outputs": [
    {
     "data": {
      "text/plain": [
       "True"
      ]
     },
     "execution_count": 73,
     "metadata": {},
     "output_type": "execute_result"
    }
   ],
   "source": [
    "def palindrome_is(str):\n",
    "    left, right = 0, len(str)-1\n",
    "\n",
    "    while left < right:\n",
    "        if not str[left].isalnum():\n",
    "            left += 1\n",
    "            continue\n",
    "        if not str[right].isalnum():\n",
    "            right -= 1\n",
    "            continue\n",
    "        if str[left].lower() != str[right].lower():\n",
    "            return False\n",
    "        left += 1\n",
    "        right -= 1\n",
    "    return True\n",
    "palindrome_is(\"A man, a plan, a canal: Panama\")"
   ]
  },
  {
   "cell_type": "code",
   "execution_count": 77,
   "id": "80b748a9-2000-488a-89d7-aac4ea1334e2",
   "metadata": {},
   "outputs": [
    {
     "data": {
      "text/plain": [
       "True"
      ]
     },
     "execution_count": 77,
     "metadata": {},
     "output_type": "execute_result"
    }
   ],
   "source": [
    "def anagram(s,t):\n",
    "    if len(s) != len(t):\n",
    "        return False\n",
    "    s_set, t_set = {},{}\n",
    "    for char in s:\n",
    "        s_set[char] = s_set.get(char,0) + 1\n",
    "    for char in t: \n",
    "        t_set[char] = t_set.get(char,0) + 1\n",
    "    return s_set == t_set\n",
    "\n",
    "anagram(s = \"racecar\", t = \"carrace\")"
   ]
  },
  {
   "cell_type": "code",
   "execution_count": 81,
   "id": "f7b63078-201b-4cc0-992c-aacb8a44cf01",
   "metadata": {},
   "outputs": [
    {
     "data": {
      "text/plain": [
       "[['act', 'cat'], ['pots', 'tops', 'stop'], ['hat']]"
      ]
     },
     "execution_count": 81,
     "metadata": {},
     "output_type": "execute_result"
    }
   ],
   "source": [
    "def grpAnagram(str):\n",
    "    grp_anagram = {}\n",
    "    \n",
    "    for word in str:\n",
    "        sorted_word = ''.join(sorted(word))\n",
    "        if sorted_word in grp_anagram:\n",
    "            grp_anagram[sorted_word].append(word)\n",
    "        else:\n",
    "            grp_anagram[sorted_word] = [word]\n",
    "    return list(grp_anagram.values())\n",
    "\n",
    "grpAnagram(str = [\"act\",\"pots\",\"tops\",\"cat\",\"stop\",\"hat\"])"
   ]
  },
  {
   "cell_type": "code",
   "execution_count": 85,
   "id": "e33af0e4-57f2-48c7-aedb-45023542464e",
   "metadata": {},
   "outputs": [
    {
     "data": {
      "text/plain": [
       "[1, 3]"
      ]
     },
     "execution_count": 85,
     "metadata": {},
     "output_type": "execute_result"
    }
   ],
   "source": [
    "def twoSum(nums, target):\n",
    "    count = {}\n",
    "    for i,num in enumerate(nums): \n",
    "        comp = target - num\n",
    "        if comp in count:\n",
    "            return [count[comp],i]\n",
    "        count[num] = i \n",
    "twoSum(nums = [3,4,5,6], target = 10)"
   ]
  },
  {
   "cell_type": "code",
   "execution_count": 88,
   "id": "b4647d01-0243-497a-8570-64a07c2f9434",
   "metadata": {},
   "outputs": [
    {
     "data": {
      "text/plain": [
       "['o', 'l', 'l', 'e', 'h']"
      ]
     },
     "execution_count": 88,
     "metadata": {},
     "output_type": "execute_result"
    }
   ],
   "source": [
    "def reverseString(s):\n",
    "    left,right = 0, len(s)-1\n",
    "    while left < right:\n",
    "        s[left], s[right] = s[right], s[left]\n",
    "\n",
    "        left += 1\n",
    "        right -=1\n",
    "    return s\n",
    "\n",
    "reverseString(s = [\"h\",\"e\",\"l\",\"l\",\"o\"])"
   ]
  },
  {
   "cell_type": "code",
   "execution_count": null,
   "id": "c54222bd-2496-4c54-8720-11548e775767",
   "metadata": {},
   "outputs": [],
   "source": [
    "def fibonacci(n):\n",
    "    if n <= 0:\n",
    "        return 0\n",
    "    elif n == 1:\n",
    "        return 1\n",
    "    else:\n",
    "        return fibonacci(n - 1) + fibonacci(n - 2)"
   ]
  },
  {
   "cell_type": "code",
   "execution_count": null,
   "id": "ff0e2895-053d-48a4-b598-4992b0367ba2",
   "metadata": {},
   "outputs": [],
   "source": []
  },
  {
   "cell_type": "code",
   "execution_count": null,
   "id": "cc544b9c-97d2-40d4-a959-e1bd39c71c15",
   "metadata": {},
   "outputs": [],
   "source": []
  },
  {
   "cell_type": "code",
   "execution_count": null,
   "id": "70c38383-cbfc-4f9c-a1b7-1e91495af82e",
   "metadata": {},
   "outputs": [],
   "source": []
  },
  {
   "cell_type": "code",
   "execution_count": null,
   "id": "6bb5763b-d26b-4bb2-b2b9-08261de9c395",
   "metadata": {},
   "outputs": [],
   "source": []
  },
  {
   "cell_type": "code",
   "execution_count": null,
   "id": "b0431012-af0d-4514-ac5e-0e31526b5ff9",
   "metadata": {},
   "outputs": [],
   "source": []
  },
  {
   "cell_type": "code",
   "execution_count": null,
   "id": "9f43fff7-6f21-456f-8c65-bc5efd311511",
   "metadata": {},
   "outputs": [],
   "source": []
  },
  {
   "cell_type": "code",
   "execution_count": null,
   "id": "f8cda44b-b1f2-4728-bf86-c34d9ae20497",
   "metadata": {},
   "outputs": [],
   "source": []
  },
  {
   "cell_type": "code",
   "execution_count": null,
   "id": "2535c06c-4ff8-4f53-95b7-8c3001cee6d0",
   "metadata": {},
   "outputs": [],
   "source": []
  },
  {
   "cell_type": "code",
   "execution_count": null,
   "id": "3552ddd6-3170-44db-8868-061b6aa99270",
   "metadata": {},
   "outputs": [],
   "source": []
  },
  {
   "cell_type": "code",
   "execution_count": null,
   "id": "d1cf7393-7bdd-4e69-a73c-506df98294f2",
   "metadata": {},
   "outputs": [],
   "source": []
  },
  {
   "cell_type": "code",
   "execution_count": null,
   "id": "5ddc50bb-623b-471a-b0b2-ea9ea18e4b38",
   "metadata": {},
   "outputs": [],
   "source": []
  },
  {
   "cell_type": "code",
   "execution_count": null,
   "id": "5d0231f1-530c-4f46-ad33-6a1c5ca0411f",
   "metadata": {},
   "outputs": [],
   "source": []
  },
  {
   "cell_type": "code",
   "execution_count": null,
   "id": "96493057-6645-45cb-a85b-b29d12264192",
   "metadata": {},
   "outputs": [],
   "source": []
  },
  {
   "cell_type": "code",
   "execution_count": null,
   "id": "f0f5d54d-576d-436a-8e5a-a82d76669bf5",
   "metadata": {},
   "outputs": [],
   "source": []
  },
  {
   "cell_type": "code",
   "execution_count": null,
   "id": "101cc268-516d-488c-90d2-6b261f42e508",
   "metadata": {},
   "outputs": [],
   "source": []
  },
  {
   "cell_type": "code",
   "execution_count": null,
   "id": "da9761a0-19ba-4e45-ba21-abbb47e366ff",
   "metadata": {},
   "outputs": [],
   "source": []
  },
  {
   "cell_type": "code",
   "execution_count": null,
   "id": "62bfbd12-6ba7-4698-a9c1-a7daf423326b",
   "metadata": {},
   "outputs": [],
   "source": []
  },
  {
   "cell_type": "code",
   "execution_count": null,
   "id": "8a7d5aef-9e82-4896-886e-7c9aadf30b73",
   "metadata": {},
   "outputs": [],
   "source": []
  },
  {
   "cell_type": "code",
   "execution_count": null,
   "id": "83218f64-f318-4255-ad71-9c63ab08e5a8",
   "metadata": {},
   "outputs": [],
   "source": []
  },
  {
   "cell_type": "code",
   "execution_count": null,
   "id": "b84308c7-f3c5-4672-af2d-02e7026ffced",
   "metadata": {},
   "outputs": [],
   "source": []
  },
  {
   "cell_type": "code",
   "execution_count": null,
   "id": "f713dc03-5ae1-4312-842c-3396c80afb68",
   "metadata": {},
   "outputs": [],
   "source": []
  },
  {
   "cell_type": "code",
   "execution_count": null,
   "id": "2ac8f61f-9e9b-4c83-a5f6-f16bcf637055",
   "metadata": {},
   "outputs": [],
   "source": []
  },
  {
   "cell_type": "code",
   "execution_count": null,
   "id": "2392de27-f578-4379-85db-b2c245db7664",
   "metadata": {},
   "outputs": [],
   "source": []
  },
  {
   "cell_type": "code",
   "execution_count": null,
   "id": "5cfac09e-8c76-4f15-875f-73dd149ffa7b",
   "metadata": {},
   "outputs": [],
   "source": []
  },
  {
   "cell_type": "code",
   "execution_count": null,
   "id": "65ae9f57-ed27-4624-88d3-70b9f117c832",
   "metadata": {},
   "outputs": [],
   "source": []
  },
  {
   "cell_type": "code",
   "execution_count": null,
   "id": "bafe2688-a7f8-492e-aa17-2a677dc0e157",
   "metadata": {},
   "outputs": [],
   "source": []
  },
  {
   "cell_type": "code",
   "execution_count": null,
   "id": "20e04a21-73b4-4403-949f-0efef14bf27c",
   "metadata": {},
   "outputs": [],
   "source": []
  },
  {
   "cell_type": "code",
   "execution_count": null,
   "id": "d9756cb1-1bde-4d39-9ead-a895f49dd295",
   "metadata": {},
   "outputs": [],
   "source": []
  },
  {
   "cell_type": "code",
   "execution_count": null,
   "id": "b3ef7e7f-35db-47af-be88-3595bcb990ef",
   "metadata": {},
   "outputs": [],
   "source": []
  },
  {
   "cell_type": "code",
   "execution_count": null,
   "id": "f7c6a68f-488d-4d1c-8931-6296198239b1",
   "metadata": {},
   "outputs": [],
   "source": []
  },
  {
   "cell_type": "code",
   "execution_count": null,
   "id": "d4d3340e-d7c5-488a-8fbc-a853445876f0",
   "metadata": {},
   "outputs": [],
   "source": []
  },
  {
   "cell_type": "code",
   "execution_count": null,
   "id": "6bb4788b-0516-4171-bd00-59c4bb17ad1d",
   "metadata": {},
   "outputs": [],
   "source": []
  },
  {
   "cell_type": "code",
   "execution_count": null,
   "id": "9728ae42-1964-4d67-af1b-89d87ad60a83",
   "metadata": {},
   "outputs": [],
   "source": []
  },
  {
   "cell_type": "code",
   "execution_count": null,
   "id": "06059aa8-3ac7-471b-8add-58d6c3ccbbf9",
   "metadata": {},
   "outputs": [],
   "source": []
  },
  {
   "cell_type": "code",
   "execution_count": null,
   "id": "6e255e67-fa0e-478a-a125-499765fb79fa",
   "metadata": {},
   "outputs": [],
   "source": []
  },
  {
   "cell_type": "code",
   "execution_count": null,
   "id": "93d7bd2a-8d6a-456c-a6f5-426b8e324861",
   "metadata": {},
   "outputs": [],
   "source": []
  },
  {
   "cell_type": "code",
   "execution_count": null,
   "id": "ca107d5b-67cd-41ae-8e96-1c6baf78ec9e",
   "metadata": {},
   "outputs": [],
   "source": []
  },
  {
   "cell_type": "code",
   "execution_count": null,
   "id": "8bc9c74e-d341-4f69-b5ab-3eaebde46978",
   "metadata": {},
   "outputs": [],
   "source": []
  },
  {
   "cell_type": "code",
   "execution_count": null,
   "id": "d05a2db0-4309-401e-b13f-bdcc2e1bde43",
   "metadata": {},
   "outputs": [],
   "source": []
  },
  {
   "cell_type": "code",
   "execution_count": null,
   "id": "d55784af-3b4f-4a8f-b72a-3a4b4436152b",
   "metadata": {},
   "outputs": [],
   "source": []
  },
  {
   "cell_type": "code",
   "execution_count": null,
   "id": "a529ff13-b10b-4980-bb64-b8205d47ebe6",
   "metadata": {},
   "outputs": [],
   "source": []
  },
  {
   "cell_type": "code",
   "execution_count": null,
   "id": "888ab0ae-932b-49e1-9940-8143be377469",
   "metadata": {},
   "outputs": [],
   "source": []
  },
  {
   "cell_type": "code",
   "execution_count": null,
   "id": "f7f5e1e0-2860-433d-a063-e0e46c169484",
   "metadata": {},
   "outputs": [],
   "source": []
  },
  {
   "cell_type": "code",
   "execution_count": null,
   "id": "ec6cd32e-93fd-4cbc-a9e2-162def37d1b4",
   "metadata": {},
   "outputs": [],
   "source": [
    "\n"
   ]
  }
 ],
 "metadata": {
  "kernelspec": {
   "display_name": "Python 3 (ipykernel)",
   "language": "python",
   "name": "python3"
  },
  "language_info": {
   "codemirror_mode": {
    "name": "ipython",
    "version": 3
   },
   "file_extension": ".py",
   "mimetype": "text/x-python",
   "name": "python",
   "nbconvert_exporter": "python",
   "pygments_lexer": "ipython3",
   "version": "3.11.5"
  }
 },
 "nbformat": 4,
 "nbformat_minor": 5
}
