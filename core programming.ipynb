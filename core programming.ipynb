{
 "cells": [
  {
   "cell_type": "code",
   "execution_count": 2,
   "id": "2cd52f07-6039-4d62-9643-c151973df4e7",
   "metadata": {},
   "outputs": [],
   "source": [
    "tem = 96.9\n",
    "ori = tem"
   ]
  },
  {
   "cell_type": "code",
   "execution_count": 3,
   "id": "0b7dfa93-394f-438b-9885-861c64db232b",
   "metadata": {},
   "outputs": [
    {
     "data": {
      "text/plain": [
       "96.9"
      ]
     },
     "execution_count": 3,
     "metadata": {},
     "output_type": "execute_result"
    }
   ],
   "source": [
    "ori = 89.4\n",
    "tem"
   ]
  },
  {
   "cell_type": "code",
   "execution_count": 4,
   "id": "43d3d48b-05d0-4933-a553-e138541befd9",
   "metadata": {},
   "outputs": [],
   "source": [
    "ori = tem"
   ]
  },
  {
   "cell_type": "code",
   "execution_count": 5,
   "id": "29ef04ab-20c0-4359-9a90-fd7162d1c3ca",
   "metadata": {},
   "outputs": [
    {
     "data": {
      "text/plain": [
       "96.9"
      ]
     },
     "execution_count": 5,
     "metadata": {},
     "output_type": "execute_result"
    }
   ],
   "source": [
    "tem = 75\n",
    "ori"
   ]
  },
  {
   "cell_type": "code",
   "execution_count": 6,
   "id": "ecf4db90-58da-42b6-95a8-56db3fd69ef7",
   "metadata": {},
   "outputs": [
    {
     "data": {
      "text/plain": [
       "96.9"
      ]
     },
     "execution_count": 6,
     "metadata": {},
     "output_type": "execute_result"
    }
   ],
   "source": [
    "ori "
   ]
  },
  {
   "cell_type": "code",
   "execution_count": 7,
   "id": "919719cb-2a53-4670-b961-3a92361dd590",
   "metadata": {},
   "outputs": [
    {
     "data": {
      "text/plain": [
       "75"
      ]
     },
     "execution_count": 7,
     "metadata": {},
     "output_type": "execute_result"
    }
   ],
   "source": [
    "tem"
   ]
  },
  {
   "cell_type": "code",
   "execution_count": 8,
   "id": "6859a464-4c1c-4ba7-bb6a-d13526637426",
   "metadata": {},
   "outputs": [
    {
     "data": {
      "text/plain": [
       "75"
      ]
     },
     "execution_count": 8,
     "metadata": {},
     "output_type": "execute_result"
    }
   ],
   "source": [
    "ori = tem\n",
    "ori"
   ]
  },
  {
   "cell_type": "code",
   "execution_count": null,
   "id": "f902a080-7d72-4eb9-bedd-a2efda103682",
   "metadata": {},
   "outputs": [],
   "source": []
  },
  {
   "cell_type": "code",
   "execution_count": 9,
   "id": "63bff9c8-c93e-4105-b4f0-f9db06fa1b24",
   "metadata": {},
   "outputs": [],
   "source": [
    "tem = 76"
   ]
  },
  {
   "cell_type": "code",
   "execution_count": 10,
   "id": "42f17d3b-7de5-4cda-b25c-5d69105d72ec",
   "metadata": {},
   "outputs": [
    {
     "data": {
      "text/plain": [
       "75"
      ]
     },
     "execution_count": 10,
     "metadata": {},
     "output_type": "execute_result"
    }
   ],
   "source": [
    "ori"
   ]
  },
  {
   "cell_type": "markdown",
   "id": "4bb495a9-43c8-45f6-a78e-e736c4255f8a",
   "metadata": {},
   "source": [
    "Seems like I alway have to re-assign it every time. "
   ]
  },
  {
   "cell_type": "code",
   "execution_count": 13,
   "id": "8e6a9135-7a83-496a-aa86-45a5ceb877b9",
   "metadata": {},
   "outputs": [],
   "source": [
    "a = 10\n",
    "b = a"
   ]
  },
  {
   "cell_type": "code",
   "execution_count": 14,
   "id": "0f6b7cf4-d294-411d-bbd9-ab5cc2d9c86f",
   "metadata": {},
   "outputs": [
    {
     "data": {
      "text/plain": [
       "(10, 10)"
      ]
     },
     "execution_count": 14,
     "metadata": {},
     "output_type": "execute_result"
    }
   ],
   "source": [
    "a, b"
   ]
  },
  {
   "cell_type": "code",
   "execution_count": 15,
   "id": "1943e596-affe-4d33-8f5b-71c01e7b8098",
   "metadata": {},
   "outputs": [
    {
     "data": {
      "text/plain": [
       "(2, 10)"
      ]
     },
     "execution_count": 15,
     "metadata": {},
     "output_type": "execute_result"
    }
   ],
   "source": [
    "a = 2\n",
    "a,b"
   ]
  },
  {
   "cell_type": "code",
   "execution_count": 16,
   "id": "4879b697-3965-4756-bee5-16936aaebe54",
   "metadata": {},
   "outputs": [
    {
     "data": {
      "text/plain": [
       "(2, 2)"
      ]
     },
     "execution_count": 16,
     "metadata": {},
     "output_type": "execute_result"
    }
   ],
   "source": [
    "b = a\n",
    "a,b"
   ]
  },
  {
   "cell_type": "markdown",
   "id": "b30293c1-82a9-4d35-b3cc-25b437bf6c5f",
   "metadata": {},
   "source": [
    "So clearly i have to always reassign it every time "
   ]
  },
  {
   "cell_type": "code",
   "execution_count": 17,
   "id": "1596895d-724e-40ce-bc5c-c8150c42f20e",
   "metadata": {},
   "outputs": [],
   "source": [
    "z = [1,2,3]\n",
    "\n",
    "y= z"
   ]
  },
  {
   "cell_type": "code",
   "execution_count": 18,
   "id": "206aae1d-8acc-4ba2-878d-f25810c6d98c",
   "metadata": {},
   "outputs": [
    {
     "data": {
      "text/plain": [
       "([1, 2, 3], [1, 2, 3])"
      ]
     },
     "execution_count": 18,
     "metadata": {},
     "output_type": "execute_result"
    }
   ],
   "source": [
    "y,z"
   ]
  },
  {
   "cell_type": "code",
   "execution_count": 19,
   "id": "bb212766-2d64-4b50-b510-e4c5f6d1d93c",
   "metadata": {},
   "outputs": [],
   "source": [
    "z.append(4)"
   ]
  },
  {
   "cell_type": "code",
   "execution_count": 20,
   "id": "84a58c6d-db6b-4867-b00f-9fc074492910",
   "metadata": {},
   "outputs": [
    {
     "data": {
      "text/plain": [
       "[1, 2, 3, 4]"
      ]
     },
     "execution_count": 20,
     "metadata": {},
     "output_type": "execute_result"
    }
   ],
   "source": [
    "y"
   ]
  },
  {
   "cell_type": "markdown",
   "id": "375dbcfa-36e2-44aa-b9b3-d402f826c1e5",
   "metadata": {},
   "source": [
    "For a list I can see that it is different.\n",
    "- i get it now list are mutable and obj are not mutable"
   ]
  },
  {
   "cell_type": "code",
   "execution_count": 41,
   "id": "a6b65e7a-10cb-4545-a101-e5cf53fe11d7",
   "metadata": {},
   "outputs": [],
   "source": [
    "### Random\n",
    "class RandomForest():\n",
    "    '''\n",
    "    This is just to test\n",
    "    '''\n",
    "    def __init__(self, x=None):\n",
    "        self.x = x\n",
    "\n",
    "    def fit(self, z= None, w = None):\n",
    "        if self.x > 2:\n",
    "            return z * w\n",
    "        else:\n",
    "            return 'Need number greater than 2'"
   ]
  },
  {
   "cell_type": "code",
   "execution_count": 42,
   "id": "eefe7d4e-ca7e-4184-be3f-15d12cde926c",
   "metadata": {},
   "outputs": [],
   "source": [
    "rf = RandomForest(3)"
   ]
  },
  {
   "cell_type": "code",
   "execution_count": 43,
   "id": "fac7d5e7-025f-49aa-afc2-9f130411015f",
   "metadata": {},
   "outputs": [
    {
     "data": {
      "text/plain": [
       "6"
      ]
     },
     "execution_count": 43,
     "metadata": {},
     "output_type": "execute_result"
    }
   ],
   "source": [
    "rf.fit(2,3)"
   ]
  },
  {
   "cell_type": "code",
   "execution_count": 55,
   "id": "441abc03-3882-41ef-b3fb-a9daa741436c",
   "metadata": {},
   "outputs": [],
   "source": [
    "class Robot():\n",
    "    '''\n",
    "    This is just a play was of using classes\n",
    "    '''\n",
    "    #constructor\n",
    "    def __init__(self, name, energy = 100):\n",
    "        self.name = name\n",
    "        self.energy = energy\n",
    "\n",
    "    # methods\n",
    "    def walk(self, distance):\n",
    "        self.energy -= (distance * 1.05)\n",
    "        return f'{self.name}: energy level is at {self.energy}'\n",
    "\n",
    "    def talk(self):\n",
    "        self.energy -= 2\n",
    "        return f'My name is {self.name} and my energy level is at {self.energy}'\n"
   ]
  },
  {
   "cell_type": "code",
   "execution_count": 45,
   "id": "e8bb03b1-343c-412f-adcc-16358a3a273e",
   "metadata": {},
   "outputs": [],
   "source": [
    "r = Robot('Abe RobotV1')\n"
   ]
  },
  {
   "cell_type": "code",
   "execution_count": 52,
   "id": "0fbde078-30d0-449e-b885-51118a84b644",
   "metadata": {},
   "outputs": [
    {
     "data": {
      "text/plain": [
       "'My name is Abe RobotV1 and my energy level is at 92'"
      ]
     },
     "execution_count": 52,
     "metadata": {},
     "output_type": "execute_result"
    }
   ],
   "source": [
    "r.talk()"
   ]
  },
  {
   "cell_type": "code",
   "execution_count": 53,
   "id": "a4d63f36-8308-4f83-9052-8384d37493df",
   "metadata": {},
   "outputs": [
    {
     "data": {
      "text/plain": [
       "'Abe RobotV1: energy level is at 39.5'"
      ]
     },
     "execution_count": 53,
     "metadata": {},
     "output_type": "execute_result"
    }
   ],
   "source": [
    "r.walk(50)"
   ]
  },
  {
   "cell_type": "code",
   "execution_count": 56,
   "id": "73b6fb61-199c-4c8a-ae8e-d510f87243d0",
   "metadata": {},
   "outputs": [
    {
     "data": {
      "text/plain": [
       "'\\n    This is just a play was of using classes\\n    '"
      ]
     },
     "execution_count": 56,
     "metadata": {},
     "output_type": "execute_result"
    }
   ],
   "source": [
    "Robot.__doc__"
   ]
  },
  {
   "cell_type": "code",
   "execution_count": 58,
   "id": "54fbce98-9a0c-4f70-9bae-de26db644494",
   "metadata": {},
   "outputs": [
    {
     "name": "stdout",
     "output_type": "stream",
     "text": [
      "Help on class Robot in module __main__:\n",
      "\n",
      "class Robot(builtins.object)\n",
      " |  Robot(name, energy=100)\n",
      " |  \n",
      " |  This is just a play was of using classes\n",
      " |  \n",
      " |  Methods defined here:\n",
      " |  \n",
      " |  __init__(self, name, energy=100)\n",
      " |      Initialize self.  See help(type(self)) for accurate signature.\n",
      " |  \n",
      " |  talk(self)\n",
      " |  \n",
      " |  walk(self, distance)\n",
      " |      # methods\n",
      " |  \n",
      " |  ----------------------------------------------------------------------\n",
      " |  Data descriptors defined here:\n",
      " |  \n",
      " |  __dict__\n",
      " |      dictionary for instance variables (if defined)\n",
      " |  \n",
      " |  __weakref__\n",
      " |      list of weak references to the object (if defined)\n",
      "\n"
     ]
    }
   ],
   "source": [
    "help(Robot)"
   ]
  },
  {
   "cell_type": "code",
   "execution_count": 60,
   "id": "e558b9d8-dbfa-48d2-9647-c4b698834c1f",
   "metadata": {},
   "outputs": [
    {
     "name": "stdout",
     "output_type": "stream",
     "text": [
      "Help on class list in module builtins:\n",
      "\n",
      "class list(object)\n",
      " |  list(iterable=(), /)\n",
      " |  \n",
      " |  Built-in mutable sequence.\n",
      " |  \n",
      " |  If no argument is given, the constructor creates a new empty list.\n",
      " |  The argument must be an iterable if specified.\n",
      " |  \n",
      " |  Methods defined here:\n",
      " |  \n",
      " |  __add__(self, value, /)\n",
      " |      Return self+value.\n",
      " |  \n",
      " |  __contains__(self, key, /)\n",
      " |      Return key in self.\n",
      " |  \n",
      " |  __delitem__(self, key, /)\n",
      " |      Delete self[key].\n",
      " |  \n",
      " |  __eq__(self, value, /)\n",
      " |      Return self==value.\n",
      " |  \n",
      " |  __ge__(self, value, /)\n",
      " |      Return self>=value.\n",
      " |  \n",
      " |  __getattribute__(self, name, /)\n",
      " |      Return getattr(self, name).\n",
      " |  \n",
      " |  __getitem__(...)\n",
      " |      x.__getitem__(y) <==> x[y]\n",
      " |  \n",
      " |  __gt__(self, value, /)\n",
      " |      Return self>value.\n",
      " |  \n",
      " |  __iadd__(self, value, /)\n",
      " |      Implement self+=value.\n",
      " |  \n",
      " |  __imul__(self, value, /)\n",
      " |      Implement self*=value.\n",
      " |  \n",
      " |  __init__(self, /, *args, **kwargs)\n",
      " |      Initialize self.  See help(type(self)) for accurate signature.\n",
      " |  \n",
      " |  __iter__(self, /)\n",
      " |      Implement iter(self).\n",
      " |  \n",
      " |  __le__(self, value, /)\n",
      " |      Return self<=value.\n",
      " |  \n",
      " |  __len__(self, /)\n",
      " |      Return len(self).\n",
      " |  \n",
      " |  __lt__(self, value, /)\n",
      " |      Return self<value.\n",
      " |  \n",
      " |  __mul__(self, value, /)\n",
      " |      Return self*value.\n",
      " |  \n",
      " |  __ne__(self, value, /)\n",
      " |      Return self!=value.\n",
      " |  \n",
      " |  __repr__(self, /)\n",
      " |      Return repr(self).\n",
      " |  \n",
      " |  __reversed__(self, /)\n",
      " |      Return a reverse iterator over the list.\n",
      " |  \n",
      " |  __rmul__(self, value, /)\n",
      " |      Return value*self.\n",
      " |  \n",
      " |  __setitem__(self, key, value, /)\n",
      " |      Set self[key] to value.\n",
      " |  \n",
      " |  __sizeof__(self, /)\n",
      " |      Return the size of the list in memory, in bytes.\n",
      " |  \n",
      " |  append(self, object, /)\n",
      " |      Append object to the end of the list.\n",
      " |  \n",
      " |  clear(self, /)\n",
      " |      Remove all items from list.\n",
      " |  \n",
      " |  copy(self, /)\n",
      " |      Return a shallow copy of the list.\n",
      " |  \n",
      " |  count(self, value, /)\n",
      " |      Return number of occurrences of value.\n",
      " |  \n",
      " |  extend(self, iterable, /)\n",
      " |      Extend list by appending elements from the iterable.\n",
      " |  \n",
      " |  index(self, value, start=0, stop=9223372036854775807, /)\n",
      " |      Return first index of value.\n",
      " |      \n",
      " |      Raises ValueError if the value is not present.\n",
      " |  \n",
      " |  insert(self, index, object, /)\n",
      " |      Insert object before index.\n",
      " |  \n",
      " |  pop(self, index=-1, /)\n",
      " |      Remove and return item at index (default last).\n",
      " |      \n",
      " |      Raises IndexError if list is empty or index is out of range.\n",
      " |  \n",
      " |  remove(self, value, /)\n",
      " |      Remove first occurrence of value.\n",
      " |      \n",
      " |      Raises ValueError if the value is not present.\n",
      " |  \n",
      " |  reverse(self, /)\n",
      " |      Reverse *IN PLACE*.\n",
      " |  \n",
      " |  sort(self, /, *, key=None, reverse=False)\n",
      " |      Sort the list in ascending order and return None.\n",
      " |      \n",
      " |      The sort is in-place (i.e. the list itself is modified) and stable (i.e. the\n",
      " |      order of two equal elements is maintained).\n",
      " |      \n",
      " |      If a key function is given, apply it once to each list item and sort them,\n",
      " |      ascending or descending, according to their function values.\n",
      " |      \n",
      " |      The reverse flag can be set to sort in descending order.\n",
      " |  \n",
      " |  ----------------------------------------------------------------------\n",
      " |  Class methods defined here:\n",
      " |  \n",
      " |  __class_getitem__(...) from builtins.type\n",
      " |      See PEP 585\n",
      " |  \n",
      " |  ----------------------------------------------------------------------\n",
      " |  Static methods defined here:\n",
      " |  \n",
      " |  __new__(*args, **kwargs) from builtins.type\n",
      " |      Create and return a new object.  See help(type) for accurate signature.\n",
      " |  \n",
      " |  ----------------------------------------------------------------------\n",
      " |  Data and other attributes defined here:\n",
      " |  \n",
      " |  __hash__ = None\n",
      "\n"
     ]
    }
   ],
   "source": [
    "help(list)"
   ]
  },
  {
   "cell_type": "code",
   "execution_count": 61,
   "id": "b06109e1-b1d8-4bb6-81a1-e4bd63ce047d",
   "metadata": {},
   "outputs": [
    {
     "data": {
      "text/plain": [
       "'Built-in mutable sequence.\\n\\nIf no argument is given, the constructor creates a new empty list.\\nThe argument must be an iterable if specified.'"
      ]
     },
     "execution_count": 61,
     "metadata": {},
     "output_type": "execute_result"
    }
   ],
   "source": [
    "list.__doc__"
   ]
  },
  {
   "cell_type": "code",
   "execution_count": 62,
   "id": "212d2009-64c5-4399-a91a-3d361f0e61dc",
   "metadata": {},
   "outputs": [
    {
     "data": {
      "text/plain": [
       "int"
      ]
     },
     "execution_count": 62,
     "metadata": {},
     "output_type": "execute_result"
    }
   ],
   "source": [
    "type(0b1011 )"
   ]
  },
  {
   "cell_type": "code",
   "execution_count": 70,
   "id": "70b2c1c6-0735-4616-8b01-c47ddd946ff0",
   "metadata": {},
   "outputs": [
    {
     "data": {
      "text/plain": [
       "94"
      ]
     },
     "execution_count": 70,
     "metadata": {},
     "output_type": "execute_result"
    }
   ],
   "source": [
    "h = 0b101111\n",
    "h*2"
   ]
  },
  {
   "cell_type": "code",
   "execution_count": 71,
   "id": "9277882e-27a0-45f6-aa9b-99b5f8ed2d3a",
   "metadata": {},
   "outputs": [
    {
     "data": {
      "text/plain": [
       "24000000000.0"
      ]
     },
     "execution_count": 71,
     "metadata": {},
     "output_type": "execute_result"
    }
   ],
   "source": [
    "h = 2.4e10\n",
    "h"
   ]
  },
  {
   "cell_type": "code",
   "execution_count": 79,
   "id": "9d1eaf3f-15e3-4291-97b8-34afc455fa24",
   "metadata": {},
   "outputs": [],
   "source": [
    "t = 4.0e7"
   ]
  },
  {
   "cell_type": "code",
   "execution_count": 80,
   "id": "956aa1ae-4866-4351-975b-aa6ed5b2b5d3",
   "metadata": {},
   "outputs": [
    {
     "data": {
      "text/plain": [
       "80000000.0"
      ]
     },
     "execution_count": 80,
     "metadata": {},
     "output_type": "execute_result"
    }
   ],
   "source": [
    "t *2"
   ]
  },
  {
   "cell_type": "code",
   "execution_count": 82,
   "id": "f5e47302-9a2c-43f0-97df-d239d20a02fa",
   "metadata": {},
   "outputs": [
    {
     "data": {
      "text/plain": [
       "3.14"
      ]
     },
     "execution_count": 82,
     "metadata": {},
     "output_type": "execute_result"
    }
   ],
   "source": [
    "float('3.14')"
   ]
  },
  {
   "cell_type": "code",
   "execution_count": 6,
   "id": "95ba9df1-faa4-4ec3-871d-d9f5bf4b18f2",
   "metadata": {},
   "outputs": [],
   "source": [
    "class Interview():\n",
    "    '''\n",
    "    '''\n",
    "    #constructor\n",
    "    def __init__(self, interviewer, interviewee):\n",
    "        self.interviewer = interviewer\n",
    "        self.interviewee = interviewee\n",
    "        self.email = f'{self.interviewee}.test.com'\n",
    "\n",
    "    #methods\n",
    "    def question(self, question):\n",
    "        return question\n",
    "\n"
   ]
  },
  {
   "cell_type": "code",
   "execution_count": 7,
   "id": "0ddb19e2-0bca-4bd3-8e6f-ecfe036634c5",
   "metadata": {},
   "outputs": [],
   "source": [
    "test = Interview('Brain', 'Abe')"
   ]
  },
  {
   "cell_type": "code",
   "execution_count": 8,
   "id": "79060281-f250-4c05-bb5f-3ace1a2a67a8",
   "metadata": {},
   "outputs": [
    {
     "data": {
      "text/plain": [
       "'Abe.test.com'"
      ]
     },
     "execution_count": 8,
     "metadata": {},
     "output_type": "execute_result"
    }
   ],
   "source": [
    "test.email"
   ]
  },
  {
   "cell_type": "code",
   "execution_count": 10,
   "id": "fa4adeb9-da2e-4934-beed-6dea6f1c1584",
   "metadata": {},
   "outputs": [
    {
     "data": {
      "text/plain": [
       "'What are you doing for fun'"
      ]
     },
     "execution_count": 10,
     "metadata": {},
     "output_type": "execute_result"
    }
   ],
   "source": [
    "test.question('What are you doing for fun')"
   ]
  },
  {
   "cell_type": "code",
   "execution_count": 30,
   "id": "f47ac928-bbf4-414b-b09e-abaf5c76dccb",
   "metadata": {},
   "outputs": [],
   "source": [
    "class ListPlay():\n",
    "    ''''''\n",
    "    #constructor (the building block for my code)\n",
    "    def __init__(self, data = None):\n",
    "        self.data = data if data is not None else [] \n",
    "\n",
    "    #methods, so the function:\n",
    "    def addto(self, number):\n",
    "        self.data.append(number)\n",
    "        return self.data\n",
    "\n",
    "    def listto(self, listOfNumbers):\n",
    "        '''this has to be a list of numbers'''\n",
    "        self.data.append(listOfNumbers)\n",
    "        return self.data"
   ]
  },
  {
   "cell_type": "code",
   "execution_count": 31,
   "id": "d1edd3dc-a08a-462f-aa47-e0316e98935c",
   "metadata": {},
   "outputs": [],
   "source": [
    "data = [6,6,2,5,2,45,5,7,8,3,2,5,5,'rgbjri']"
   ]
  },
  {
   "cell_type": "code",
   "execution_count": 32,
   "id": "9e0d0fb1-84c0-43d4-aab1-3c564b8e1cb4",
   "metadata": {},
   "outputs": [],
   "source": [
    "testlist = ListPlay(data)"
   ]
  },
  {
   "cell_type": "code",
   "execution_count": 24,
   "id": "3a8dff7e-c95a-4216-bdc3-816c8474e1ec",
   "metadata": {},
   "outputs": [
    {
     "data": {
      "text/plain": [
       "[6, 6, 2, 5, 2, 45, 5, 7, 8, 3, 2, 5, 5, 'rgbjri']"
      ]
     },
     "execution_count": 24,
     "metadata": {},
     "output_type": "execute_result"
    }
   ],
   "source": [
    "testlist.data"
   ]
  },
  {
   "cell_type": "code",
   "execution_count": 25,
   "id": "9b365601-9ec8-442a-882c-73626a760602",
   "metadata": {},
   "outputs": [
    {
     "data": {
      "text/plain": [
       "[6, 6, 2, 5, 2, 45, 5, 7, 8, 3, 2, 5, 5, 'rgbjri', 7]"
      ]
     },
     "execution_count": 25,
     "metadata": {},
     "output_type": "execute_result"
    }
   ],
   "source": [
    "testlist.addto(7)"
   ]
  },
  {
   "cell_type": "code",
   "execution_count": 33,
   "id": "efe80845-71f4-4b2d-ad9a-a389e4c35778",
   "metadata": {},
   "outputs": [
    {
     "data": {
      "text/plain": [
       "[6, 6, 2, 5, 2, 45, 5, 7, 8, 3, 2, 5, 5, 'rgbjri', [38, 2, 3, 43, 45, 524, 24]]"
      ]
     },
     "execution_count": 33,
     "metadata": {},
     "output_type": "execute_result"
    }
   ],
   "source": [
    "testlist.listto([38,2,3,43,45,524,24])"
   ]
  },
  {
   "cell_type": "code",
   "execution_count": 35,
   "id": "d5988282-35f8-4524-bc34-0fb9a31a4a8c",
   "metadata": {},
   "outputs": [
    {
     "data": {
      "text/plain": [
       "[6,\n",
       " 6,\n",
       " 2,\n",
       " 5,\n",
       " 2,\n",
       " 45,\n",
       " 5,\n",
       " 7,\n",
       " 8,\n",
       " 3,\n",
       " 2,\n",
       " 5,\n",
       " 5,\n",
       " 'rgbjri',\n",
       " [38, 2, 3, 43, 45, 524, 24],\n",
       " 'efjwhfn',\n",
       " ['efjwhfn']]"
      ]
     },
     "execution_count": 35,
     "metadata": {},
     "output_type": "execute_result"
    }
   ],
   "source": [
    "testlist.listto(['efjwhfn'])"
   ]
  },
  {
   "cell_type": "code",
   "execution_count": 67,
   "id": "f41db65f-fb45-482c-8d87-ecd8f8e1a0f2",
   "metadata": {},
   "outputs": [],
   "source": [
    "class TestNewList():\n",
    "    def __init__(self, data = None):\n",
    "        self.data = [data]\n",
    "\n",
    "    def addto(self, number):\n",
    "        self.data.append(number)\n",
    "        return self.data\n",
    "\n",
    "    def addfromlist(self, numlist):\n",
    "        for i in numlist:\n",
    "            self.data.append(i)\n",
    "        return self.data\n",
    "        \n",
    "test = TestNewList('Abe')"
   ]
  },
  {
   "cell_type": "code",
   "execution_count": 68,
   "id": "21df88fb-7861-4283-932c-84261ce61e1b",
   "metadata": {},
   "outputs": [
    {
     "data": {
      "text/plain": [
       "['Abe']"
      ]
     },
     "execution_count": 68,
     "metadata": {},
     "output_type": "execute_result"
    }
   ],
   "source": [
    "test.data"
   ]
  },
  {
   "cell_type": "code",
   "execution_count": 69,
   "id": "abe40961-a90f-46fb-a414-2b4c3f08ef1d",
   "metadata": {},
   "outputs": [
    {
     "data": {
      "text/plain": [
       "['Abe', [3, 4, 7, 5, 6]]"
      ]
     },
     "execution_count": 69,
     "metadata": {},
     "output_type": "execute_result"
    }
   ],
   "source": [
    "test.addto([3,4,7,5,6])"
   ]
  },
  {
   "cell_type": "code",
   "execution_count": 70,
   "id": "f4fb08e5-a6c5-47d1-a434-c79007aaeb26",
   "metadata": {},
   "outputs": [
    {
     "data": {
      "text/plain": [
       "['Abe', [3, 4, 7, 5, 6], 6, 4, 3, 5]"
      ]
     },
     "execution_count": 70,
     "metadata": {},
     "output_type": "execute_result"
    }
   ],
   "source": [
    "test.addfromlist([6,4,3,5])"
   ]
  },
  {
   "cell_type": "code",
   "execution_count": 71,
   "id": "83ea9a9c-170a-4fa8-be1f-4b8ca1cd0cf3",
   "metadata": {},
   "outputs": [
    {
     "data": {
      "text/plain": [
       "['Abe', [3, 4, 7, 5, 6], 6, 4, 3, 5]"
      ]
     },
     "execution_count": 71,
     "metadata": {},
     "output_type": "execute_result"
    }
   ],
   "source": [
    "test.data"
   ]
  },
  {
   "cell_type": "code",
   "execution_count": 72,
   "id": "58a7c2a3-cb4e-471a-a0a6-e569f3c9addb",
   "metadata": {},
   "outputs": [],
   "source": [
    "not_turple = (17)"
   ]
  },
  {
   "cell_type": "code",
   "execution_count": 74,
   "id": "b4552dba-de0f-4221-8010-ad434f199b8e",
   "metadata": {},
   "outputs": [
    {
     "data": {
      "text/plain": [
       "int"
      ]
     },
     "execution_count": 74,
     "metadata": {},
     "output_type": "execute_result"
    }
   ],
   "source": [
    "type(not_turple)"
   ]
  },
  {
   "cell_type": "code",
   "execution_count": 75,
   "id": "95eb5f9e-5793-4f25-9f49-64bc9e40626a",
   "metadata": {},
   "outputs": [
    {
     "data": {
      "text/plain": [
       "tuple"
      ]
     },
     "execution_count": 75,
     "metadata": {},
     "output_type": "execute_result"
    }
   ],
   "source": [
    "tur = (17,)\n",
    "type(tur)"
   ]
  },
  {
   "cell_type": "code",
   "execution_count": 76,
   "id": "931a334f-8e02-43f4-9f65-1dd6bec704b9",
   "metadata": {},
   "outputs": [
    {
     "data": {
      "text/plain": [
       "tuple"
      ]
     },
     "execution_count": 76,
     "metadata": {},
     "output_type": "execute_result"
    }
   ],
   "source": [
    "tur = (17,'Abe', False)\n",
    "type(tur)"
   ]
  },
  {
   "cell_type": "code",
   "execution_count": 77,
   "id": "74117de8-fa79-4a0e-81d7-7082ac86ed79",
   "metadata": {},
   "outputs": [
    {
     "data": {
      "text/plain": [
       "(17, 'Abe', False)"
      ]
     },
     "execution_count": 77,
     "metadata": {},
     "output_type": "execute_result"
    }
   ],
   "source": [
    "tur"
   ]
  },
  {
   "cell_type": "code",
   "execution_count": 78,
   "id": "a1fa764a-c9d9-4d3d-932e-bfd1d2fb5791",
   "metadata": {},
   "outputs": [
    {
     "ename": "NameError",
     "evalue": "name 'turple' is not defined",
     "output_type": "error",
     "traceback": [
      "\u001b[1;31m---------------------------------------------------------------------------\u001b[0m",
      "\u001b[1;31mNameError\u001b[0m                                 Traceback (most recent call last)",
      "Cell \u001b[1;32mIn[78], line 1\u001b[0m\n\u001b[1;32m----> 1\u001b[0m turple()\n",
      "\u001b[1;31mNameError\u001b[0m: name 'turple' is not defined"
     ]
    }
   ],
   "source": [
    "tuple()"
   ]
  },
  {
   "attachments": {
    "bd936b1e-094a-4b4b-bb03-511e319ca67e.png": {
     "image/png": "[encoded data removed]"
    }
   },
   "cell_type": "markdown",
   "id": "211ff099-dd36-41c4-9d24-bdcee3fbcd23",
   "metadata": {},
   "source": [
    "![image.png](attachment:bd936b1e-094a-4b4b-bb03-511e319ca67e.png)"
   ]
  },
  {
   "cell_type": "code",
   "execution_count": 79,
   "id": "e83a1abc-4e3a-45ab-93e1-2ad2df3656da",
   "metadata": {},
   "outputs": [
    {
     "data": {
      "text/plain": [
       "{2, 3, 4, 5}"
      ]
     },
     "execution_count": 79,
     "metadata": {},
     "output_type": "execute_result"
    }
   ],
   "source": [
    "s = {2,3,4,5}\n",
    "s"
   ]
  },
  {
   "cell_type": "code",
   "execution_count": 80,
   "id": "5070fb6b-cc7a-4356-908e-8dc94b0eac2a",
   "metadata": {},
   "outputs": [
    {
     "data": {
      "text/plain": [
       "set"
      ]
     },
     "execution_count": 80,
     "metadata": {},
     "output_type": "execute_result"
    }
   ],
   "source": [
    "type(s)"
   ]
  },
  {
   "cell_type": "code",
   "execution_count": 81,
   "id": "3d4b4aff-75f9-43bf-ab70-4649e1056947",
   "metadata": {},
   "outputs": [
    {
     "data": {
      "text/plain": [
       "{2, 3, 4, 5, 'dog'}"
      ]
     },
     "execution_count": 81,
     "metadata": {},
     "output_type": "execute_result"
    }
   ],
   "source": [
    "s.add('dog')\n",
    "s"
   ]
  },
  {
   "cell_type": "code",
   "execution_count": 82,
   "id": "b4322fb4-0f1e-4bdd-9c37-9fefa402573b",
   "metadata": {},
   "outputs": [
    {
     "ename": "TypeError",
     "evalue": "unhashable type: 'list'",
     "output_type": "error",
     "traceback": [
      "\u001b[1;31m---------------------------------------------------------------------------\u001b[0m",
      "\u001b[1;31mTypeError\u001b[0m                                 Traceback (most recent call last)",
      "Cell \u001b[1;32mIn[82], line 1\u001b[0m\n\u001b[1;32m----> 1\u001b[0m s\u001b[38;5;241m.\u001b[39madd([\u001b[38;5;241m2.4\u001b[39m,\u001b[38;5;241m5\u001b[39m,\u001b[38;5;241m2\u001b[39m])\n\u001b[0;32m      2\u001b[0m s\n",
      "\u001b[1;31mTypeError\u001b[0m: unhashable type: 'list'"
     ]
    }
   ],
   "source": [
    "s.add([2.4,5,2])\n",
    "s"
   ]
  },
  {
   "cell_type": "markdown",
   "id": "dfaa6d6c-8c45-475f-a4ad-b18cb6741f49",
   "metadata": {},
   "source": [
    "Only instances of immutable types can be added to a set."
   ]
  },
  {
   "cell_type": "code",
   "execution_count": 85,
   "id": "22f5e28e-9191-4d10-9c68-bfc7a63aab43",
   "metadata": {},
   "outputs": [
    {
     "data": {
      "text/plain": [
       "{2, 3, 4, 5, False, 'dog'}"
      ]
     },
     "execution_count": 85,
     "metadata": {},
     "output_type": "execute_result"
    }
   ],
   "source": [
    "s.add(False)\n",
    "s"
   ]
  },
  {
   "cell_type": "code",
   "execution_count": 89,
   "id": "2d7e7a20-4b3f-496a-adfb-1055f5738950",
   "metadata": {},
   "outputs": [],
   "source": [
    "test_dic = {\n",
    "    'names': ['Abe', 'Seun', 'Oyin'],\n",
    "    'Grade': [90,90,90]\n",
    "}"
   ]
  },
  {
   "cell_type": "code",
   "execution_count": 96,
   "id": "fdb74a09-de75-4c2d-885c-7704eb393a63",
   "metadata": {},
   "outputs": [
    {
     "data": {
      "text/plain": [
       "'Seun'"
      ]
     },
     "execution_count": 96,
     "metadata": {},
     "output_type": "execute_result"
    }
   ],
   "source": [
    "test_dic['names'][1]"
   ]
  },
  {
   "cell_type": "code",
   "execution_count": 97,
   "id": "e22b8f5f-c18c-495d-a88e-323b186b9b03",
   "metadata": {},
   "outputs": [
    {
     "data": {
      "text/plain": [
       "{'names': ['Abe', 'Seun', 'Oyin'], 'Grade': [90, 90, 90]}"
      ]
     },
     "execution_count": 97,
     "metadata": {},
     "output_type": "execute_result"
    }
   ],
   "source": [
    "new_test = dict(test_dic)\n",
    "\n",
    "new_test"
   ]
  },
  {
   "cell_type": "code",
   "execution_count": 98,
   "id": "4607e30d-4687-4dba-bffb-85ca58b18215",
   "metadata": {},
   "outputs": [],
   "source": [
    "h = test_dic"
   ]
  },
  {
   "cell_type": "code",
   "execution_count": 99,
   "id": "a5ff7005-2e34-4aeb-8088-58a27c430180",
   "metadata": {},
   "outputs": [
    {
     "data": {
      "text/plain": [
       "{'names': ['Abe', 'Seun', 'Oyin'], 'Grade': [90, 90, 90]}"
      ]
     },
     "execution_count": 99,
     "metadata": {},
     "output_type": "execute_result"
    }
   ],
   "source": [
    "h"
   ]
  },
  {
   "cell_type": "code",
   "execution_count": 101,
   "id": "27441ea0-cc77-48d8-8076-ac475e8f8803",
   "metadata": {},
   "outputs": [],
   "source": [
    "k = h"
   ]
  },
  {
   "cell_type": "code",
   "execution_count": 126,
   "id": "ac50e10b-bb0a-4d33-bc1d-6953e9b3c334",
   "metadata": {},
   "outputs": [
    {
     "data": {
      "text/plain": [
       "{'NG': 'Nigeria', 'GH': 'Ghana', 'TG': 'Togo'}"
      ]
     },
     "execution_count": 126,
     "metadata": {},
     "output_type": "execute_result"
    }
   ],
   "source": [
    "h = [('NG', 'Nigeria'),('GH', 'Ghana'),('TG','Togo')]\n",
    "#h\n",
    "dict(h)"
   ]
  },
  {
   "cell_type": "code",
   "execution_count": 109,
   "id": "6b87156f-2d79-42a2-a2d8-0cf3869b6c88",
   "metadata": {},
   "outputs": [
    {
     "ename": "AttributeError",
     "evalue": "type object 'TestNewList' has no attribute 'some_attribute'",
     "output_type": "error",
     "traceback": [
      "\u001b[1;31m---------------------------------------------------------------------------\u001b[0m",
      "\u001b[1;31mAttributeError\u001b[0m                            Traceback (most recent call last)",
      "Cell \u001b[1;32mIn[109], line 1\u001b[0m\n\u001b[1;32m----> 1\u001b[0m TestNewList\u001b[38;5;241m.\u001b[39msome_attribute()\n",
      "\u001b[1;31mAttributeError\u001b[0m: type object 'TestNewList' has no attribute 'some_attribute'"
     ]
    }
   ],
   "source": [
    "TestNewList.some_attribute"
   ]
  },
  {
   "cell_type": "code",
   "execution_count": 116,
   "id": "f9871bde-0a08-47ae-b1ae-8f439b168a7e",
   "metadata": {},
   "outputs": [
    {
     "data": {
      "text/plain": [
       "True"
      ]
     },
     "execution_count": 116,
     "metadata": {},
     "output_type": "execute_result"
    }
   ],
   "source": [
    "x = 5\n",
    "result = (x > 0) | (3/x < 0)\n",
    "result"
   ]
  },
  {
   "cell_type": "code",
   "execution_count": 123,
   "id": "83586ab4-a922-4ade-a725-ec7ae75394ef",
   "metadata": {},
   "outputs": [
    {
     "name": "stdout",
     "output_type": "stream",
     "text": [
      "True Baby\n"
     ]
    }
   ],
   "source": [
    "if 'Ab' in 'Abraham':\n",
    "    print(\"True Baby\")\n",
    "else:\n",
    "    False"
   ]
  },
  {
   "cell_type": "code",
   "execution_count": 127,
   "id": "e17420be-1215-4ff8-9043-4995aef62dac",
   "metadata": {},
   "outputs": [],
   "source": [
    "new_h = dict(h)\n",
    "\n",
    "k = new_h"
   ]
  },
  {
   "cell_type": "code",
   "execution_count": 130,
   "id": "7f231a6a-d805-490b-9408-f2e1701fa70c",
   "metadata": {},
   "outputs": [
    {
     "data": {
      "text/plain": [
       "True"
      ]
     },
     "execution_count": 130,
     "metadata": {},
     "output_type": "execute_result"
    }
   ],
   "source": [
    "k == new_h"
   ]
  },
  {
   "cell_type": "code",
   "execution_count": 131,
   "id": "8a667005-327f-4d39-aba7-3ee84768f4ce",
   "metadata": {},
   "outputs": [],
   "source": [
    "new_k = k.pop('GH')"
   ]
  },
  {
   "cell_type": "code",
   "execution_count": 132,
   "id": "76fc0b2a-59f9-40fb-ad5b-b11b88ca71d8",
   "metadata": {},
   "outputs": [
    {
     "data": {
      "text/plain": [
       "False"
      ]
     },
     "execution_count": 132,
     "metadata": {},
     "output_type": "execute_result"
    }
   ],
   "source": [
    "new_k == new_h"
   ]
  },
  {
   "cell_type": "code",
   "execution_count": 134,
   "id": "269a870b-6afc-4abb-a5a4-e5b084c4d117",
   "metadata": {},
   "outputs": [
    {
     "data": {
      "text/plain": [
       "'Ghana'"
      ]
     },
     "execution_count": 134,
     "metadata": {},
     "output_type": "execute_result"
    }
   ],
   "source": [
    "new_k"
   ]
  },
  {
   "cell_type": "code",
   "execution_count": 135,
   "id": "8ea25ba0-a354-49e1-b914-95c04bbe1cd5",
   "metadata": {},
   "outputs": [
    {
     "data": {
      "text/plain": [
       "[1, 2, 3]"
      ]
     },
     "execution_count": 135,
     "metadata": {},
     "output_type": "execute_result"
    }
   ],
   "source": [
    "alpha = [1,2,3]\n",
    "beta = alpha\n",
    "\n",
    "beta"
   ]
  },
  {
   "cell_type": "code",
   "execution_count": 136,
   "id": "59a20a91-2416-4ec2-aad9-e033fcacdb51",
   "metadata": {},
   "outputs": [
    {
     "data": {
      "text/plain": [
       "[1, 2, 3, 6, 7]"
      ]
     },
     "execution_count": 136,
     "metadata": {},
     "output_type": "execute_result"
    }
   ],
   "source": [
    "beta = beta + [6,7]\n",
    "beta"
   ]
  },
  {
   "cell_type": "code",
   "execution_count": 137,
   "id": "60bf4980-9633-49ce-b438-feb5b116e4c0",
   "metadata": {},
   "outputs": [
    {
     "data": {
      "text/plain": [
       "[1, 2, 3]"
      ]
     },
     "execution_count": 137,
     "metadata": {},
     "output_type": "execute_result"
    }
   ],
   "source": [
    "alpha"
   ]
  },
  {
   "cell_type": "code",
   "execution_count": 138,
   "id": "41528058-4c6d-4123-9ae0-c28d8e5f76a5",
   "metadata": {},
   "outputs": [
    {
     "data": {
      "text/plain": [
       "[1, 2, 3]"
      ]
     },
     "execution_count": 138,
     "metadata": {},
     "output_type": "execute_result"
    }
   ],
   "source": [
    "beta = alpha\n",
    "beta"
   ]
  },
  {
   "cell_type": "code",
   "execution_count": 139,
   "id": "04a13637-0b18-4499-9582-235d8793a862",
   "metadata": {},
   "outputs": [
    {
     "data": {
      "text/plain": [
       "[1, 2, 3, 4, 5]"
      ]
     },
     "execution_count": 139,
     "metadata": {},
     "output_type": "execute_result"
    }
   ],
   "source": [
    "beta += [4,5]\n",
    "alpha "
   ]
  },
  {
   "cell_type": "code",
   "execution_count": null,
   "id": "e13b6a3d-4902-4532-aa4d-8ed084364dd8",
   "metadata": {},
   "outputs": [],
   "source": []
  },
  {
   "cell_type": "code",
   "execution_count": null,
   "id": "59da605b-4a6f-4aa2-8780-727f1c6765ce",
   "metadata": {},
   "outputs": [],
   "source": []
  },
  {
   "cell_type": "code",
   "execution_count": null,
   "id": "42e624be-c635-4214-ae8c-94ce9b8ff0d1",
   "metadata": {},
   "outputs": [],
   "source": []
  },
  {
   "cell_type": "code",
   "execution_count": null,
   "id": "72bb1e70-bdac-4385-9197-efb2942d7d5f",
   "metadata": {},
   "outputs": [],
   "source": []
  },
  {
   "cell_type": "code",
   "execution_count": null,
   "id": "4ff5593a-2480-4b24-a481-4542f7c58ccc",
   "metadata": {},
   "outputs": [],
   "source": []
  },
  {
   "cell_type": "code",
   "execution_count": null,
   "id": "d07a213e-da6c-4e0b-b0fc-71582d68c067",
   "metadata": {},
   "outputs": [],
   "source": []
  }
 ],
 "metadata": {
  "kernelspec": {
   "display_name": "Python 3 (ipykernel)",
   "language": "python",
   "name": "python3"
  },
  "language_info": {
   "codemirror_mode": {
    "name": "ipython",
    "version": 3
   },
   "file_extension": ".py",
   "mimetype": "text/x-python",
   "name": "python",
   "nbconvert_exporter": "python",
   "pygments_lexer": "ipython3",
   "version": "3.11.5"
  }
 },
 "nbformat": 4,
 "nbformat_minor": 5
}
