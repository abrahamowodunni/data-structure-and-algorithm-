{
 "cells": [
  {
   "cell_type": "markdown",
   "id": "2452d59c-bf6b-4741-b20d-715073a3c532",
   "metadata": {},
   "source": [
    "### Back to arrays and LinkList"
   ]
  },
  {
   "cell_type": "code",
   "execution_count": 1,
   "id": "28f65f5a-e0e6-4839-82ed-4eecc8d8b544",
   "metadata": {},
   "outputs": [],
   "source": [
    "arr = [1,2,4,3,4,5]"
   ]
  },
  {
   "cell_type": "code",
   "execution_count": 2,
   "id": "44e2fdd2-f432-40dd-ae9b-1ce54fe23151",
   "metadata": {},
   "outputs": [
    {
     "name": "stdout",
     "output_type": "stream",
     "text": [
      "1\n",
      "2\n",
      "4\n",
      "3\n",
      "4\n",
      "5\n"
     ]
    }
   ],
   "source": [
    "for index in arr:\n",
    "    print(index)"
   ]
  },
  {
   "cell_type": "code",
   "execution_count": 7,
   "id": "3cca5a3f-c5f8-4c69-a158-7e57a41e192c",
   "metadata": {},
   "outputs": [
    {
     "name": "stdout",
     "output_type": "stream",
     "text": [
      "1\n",
      "2\n",
      "4\n",
      "3\n",
      "4\n",
      "5\n"
     ]
    }
   ],
   "source": [
    "count = 0\n",
    "while count < len(arr):\n",
    "    print(arr[count])\n",
    "    count += 1"
   ]
  },
  {
   "cell_type": "code",
   "execution_count": 20,
   "id": "7224f132-3a76-4538-8b6a-08f3881f608b",
   "metadata": {},
   "outputs": [
    {
     "data": {
      "text/plain": [
       "[4, 4, 5]"
      ]
     },
     "execution_count": 20,
     "metadata": {},
     "output_type": "execute_result"
    }
   ],
   "source": [
    "def check(arr,num_greater_than):\n",
    "    if len(arr) == 0:\n",
    "        return None\n",
    "    result = []\n",
    "    for i in range(len(arr)):\n",
    "        if arr[i] > num_greater_than:\n",
    "            result.append(arr[i])\n",
    "    return result\n",
    "\n",
    "check(arr,3)"
   ]
  },
  {
   "cell_type": "code",
   "execution_count": 25,
   "id": "ea85497b-4d04-41fd-a64f-8b9165f3acc9",
   "metadata": {},
   "outputs": [
    {
     "name": "stdout",
     "output_type": "stream",
     "text": [
      "1\n",
      "2\n",
      "3\n",
      "4\n",
      "5\n"
     ]
    }
   ],
   "source": [
    "for index in range(1,5+1):\n",
    "    print(index)"
   ]
  },
  {
   "cell_type": "code",
   "execution_count": 21,
   "id": "2993ca8d-4054-42e3-86d4-6eadc2c72f59",
   "metadata": {},
   "outputs": [
    {
     "name": "stdout",
     "output_type": "stream",
     "text": [
      "[3]\n",
      "[3, 2]\n",
      "[3, 2, 5]\n",
      "[3, 2, 5, 1]\n",
      "[3, 2, 5, 1, 5]\n",
      "[3, 2, 5, 1, 5, 1]\n",
      "[2]\n",
      "[2, 5]\n",
      "[2, 5, 1]\n",
      "[2, 5, 1, 5]\n",
      "[2, 5, 1, 5, 1]\n",
      "[5]\n",
      "[5, 1]\n",
      "[5, 1, 5]\n",
      "[5, 1, 5, 1]\n",
      "[1]\n",
      "[1, 5]\n",
      "[1, 5, 1]\n",
      "[5]\n",
      "[5, 1]\n",
      "[1]\n"
     ]
    }
   ],
   "source": [
    "arr_ = [3,2,5,1,5,1]\n",
    "\n",
    "for start in range(len(arr_)):\n",
    "    for end in range(start, len(arr_)):\n",
    "        subarray = arr_[start:end+1]\n",
    "        print(subarray)"
   ]
  },
  {
   "cell_type": "code",
   "execution_count": 32,
   "id": "4bc73465-a11b-4137-b10d-1b53bd7bd502",
   "metadata": {},
   "outputs": [],
   "source": [
    "def max_subarray(arr):\n",
    "    max_sum = float('-inf')\n",
    "    current_sum = 0\n",
    "\n",
    "    for num in arr:\n",
    "        current_sum = max(num,current_sum+num)\n",
    "        max_sum = max(current_sum,max_sum)\n",
    "    return max_sum\n",
    "\n",
    "arr_1 = [-2,4,2,-6,3,-1,6,8]"
   ]
  },
  {
   "cell_type": "code",
   "execution_count": 33,
   "id": "48e75f69-56ac-41cb-8acb-8d16046f5528",
   "metadata": {},
   "outputs": [
    {
     "data": {
      "text/plain": [
       "16"
      ]
     },
     "execution_count": 33,
     "metadata": {},
     "output_type": "execute_result"
    }
   ],
   "source": [
    "max_subarray(arr_1)"
   ]
  },
  {
   "cell_type": "code",
   "execution_count": 34,
   "id": "11c9a5da-4128-47f8-a47a-710efd6e61e6",
   "metadata": {},
   "outputs": [
    {
     "name": "stdout",
     "output_type": "stream",
     "text": [
      "Window: [2, 3, 4], Window Sum: 9\n",
      "Window: [3, 4, 5], Window Sum: 12\n",
      "Window: [4, 5, 6], Window Sum: 15\n",
      "Window: [5, 6, 7], Window Sum: 18\n",
      "Window: [6, 7, 8], Window Sum: 21\n",
      "Maximum Sum of a Subarray of Size 3: 21\n"
     ]
    }
   ],
   "source": [
    "arr = [1, 2, 3, 4, 5, 6, 7, 8]\n",
    "window_size = 3\n",
    "\n",
    "# Initialize the initial window sum\n",
    "window_sum = sum(arr[:window_size])\n",
    "\n",
    "# Initialize the maximum sum with the initial window sum\n",
    "max_sum = window_sum\n",
    "\n",
    "# Start the sliding window\n",
    "for end in range(window_size, len(arr)):\n",
    "    # Update the window sum by adding the new element and subtracting the old element\n",
    "    window_sum = window_sum + arr[end] - arr[end - window_size]\n",
    "    \n",
    "    # Update the maximum sum if the current window sum is greater\n",
    "    max_sum = max(max_sum, window_sum)\n",
    "\n",
    "    # Visualization of the window\n",
    "    print(f\"Window: {arr[end-window_size+1:end+1]}, Window Sum: {window_sum}\")\n",
    "\n",
    "print(f\"Maximum Sum of a Subarray of Size {window_size}: {max_sum}\")\n"
   ]
  },
  {
   "cell_type": "code",
   "execution_count": 44,
   "id": "7a1e0e67-e6d9-49bf-9243-dbcf346ff147",
   "metadata": {},
   "outputs": [],
   "source": [
    "arr_2 = [1, 2, 3, 4, 5, 6, 7, 8]\n",
    "window_size = 3\n",
    "\n",
    "# Initialize the initial window sum\n",
    "window_sum = sum(arr_2[:window_size])"
   ]
  },
  {
   "cell_type": "code",
   "execution_count": 45,
   "id": "d6bb413e-e47e-4456-80c4-de8254877131",
   "metadata": {},
   "outputs": [
    {
     "data": {
      "text/plain": [
       "[1, 2, 3]"
      ]
     },
     "execution_count": 45,
     "metadata": {},
     "output_type": "execute_result"
    }
   ],
   "source": [
    "arr_2[:window_size]"
   ]
  },
  {
   "cell_type": "code",
   "execution_count": 46,
   "id": "800f35e8-9dd5-467e-a18f-630c09b70232",
   "metadata": {},
   "outputs": [
    {
     "data": {
      "text/plain": [
       "6"
      ]
     },
     "execution_count": 46,
     "metadata": {},
     "output_type": "execute_result"
    }
   ],
   "source": [
    "window_sum"
   ]
  },
  {
   "cell_type": "code",
   "execution_count": 51,
   "id": "3714bdd5-6d0c-4eda-9d35-da3010cc83b5",
   "metadata": {},
   "outputs": [
    {
     "data": {
      "text/plain": [
       "'cba'"
      ]
     },
     "execution_count": 51,
     "metadata": {},
     "output_type": "execute_result"
    }
   ],
   "source": [
    "def string_reverser(string):\n",
    "    result = ''\n",
    "    for char in string[::-1]:\n",
    "        result += char\n",
    "\n",
    "    return result\n",
    "\n",
    "string_reverser('abc')"
   ]
  },
  {
   "cell_type": "code",
   "execution_count": 48,
   "id": "4eda5064-2fe7-427e-948f-061228d8dc6d",
   "metadata": {},
   "outputs": [
    {
     "data": {
      "text/plain": [
       "'Abe'"
      ]
     },
     "execution_count": 48,
     "metadata": {},
     "output_type": "execute_result"
    }
   ],
   "source": [
    "''+'A'+'b'+'e'"
   ]
  },
  {
   "cell_type": "code",
   "execution_count": 53,
   "id": "212162f8-d2ae-4382-b3fa-c99a99ebc71f",
   "metadata": {},
   "outputs": [
    {
     "data": {
      "text/plain": [
       "'cba'"
      ]
     },
     "execution_count": 53,
     "metadata": {},
     "output_type": "execute_result"
    }
   ],
   "source": [
    "def string_reverser(string):\n",
    "    start = -1\n",
    "    end = len(string)-1\n",
    "    result = ''\n",
    "\n",
    "    while end > start:\n",
    "        result += string[end]\n",
    "        end -=1 \n",
    "\n",
    "    return result\n",
    "string_reverser('abc')"
   ]
  },
  {
   "cell_type": "code",
   "execution_count": null,
   "id": "1e2397aa-c5e3-4fe0-a949-5af1822f1883",
   "metadata": {},
   "outputs": [],
   "source": [
    "def anagram_checker(str1, str2):\n",
    "    str1, str2 = str1.lower().replace(' ',''),str2.lower().replace(' ','')\n",
    "    \n",
    "    "
   ]
  },
  {
   "cell_type": "code",
   "execution_count": 59,
   "id": "d36a4362-8edc-4543-8e3a-6d97b7f849c7",
   "metadata": {},
   "outputs": [
    {
     "data": {
      "text/plain": [
       "'abc'"
      ]
     },
     "execution_count": 59,
     "metadata": {},
     "output_type": "execute_result"
    }
   ],
   "source": [
    "a = ''.join('abc')\n",
    "a"
   ]
  },
  {
   "cell_type": "code",
   "execution_count": 60,
   "id": "d69d681c-9dc9-44e2-8153-6dea1f1a1a9d",
   "metadata": {},
   "outputs": [
    {
     "data": {
      "text/plain": [
       "'5abc6abcjabcd'"
      ]
     },
     "execution_count": 60,
     "metadata": {},
     "output_type": "execute_result"
    }
   ],
   "source": [
    "a = a.join('56jd')\n",
    "a"
   ]
  },
  {
   "cell_type": "code",
   "execution_count": 58,
   "id": "d807104f-b2ba-4358-adaa-7a302179802c",
   "metadata": {},
   "outputs": [
    {
     "data": {
      "text/plain": [
       "'abc'"
      ]
     },
     "execution_count": 58,
     "metadata": {},
     "output_type": "execute_result"
    }
   ],
   "source": [
    "a"
   ]
  },
  {
   "cell_type": "code",
   "execution_count": 3,
   "id": "54dd7d60-daaa-428e-99d5-727767f3744e",
   "metadata": {},
   "outputs": [
    {
     "data": {
      "text/plain": [
       "'eba si ni '"
      ]
     },
     "execution_count": 3,
     "metadata": {},
     "output_type": "execute_result"
    }
   ],
   "source": [
    "def word_flipper(our_string):\n",
    "\n",
    "    def helper(words):\n",
    "        reversed = ''\n",
    "        for char in words[::-1]:\n",
    "            reversed += char\n",
    "        return reversed\n",
    "        \n",
    "    if len(our_string) == 0:\n",
    "        return ''\n",
    "    flipped = ''\n",
    "    word = our_string.split()\n",
    "    for words in word:\n",
    "        flipped += helper(words) + ' '\n",
    "    return flipped\n",
    "\n",
    "word_flipper('abe is in')"
   ]
  },
  {
   "cell_type": "code",
   "execution_count": 67,
   "id": "e11bc1b5-f8aa-430c-b156-81f1dba2c20c",
   "metadata": {},
   "outputs": [
    {
     "name": "stdout",
     "output_type": "stream",
     "text": [
      "abr owod\n"
     ]
    }
   ],
   "source": [
    "str = 'abr owod'\n",
    "\n",
    "result = ''\n",
    "for words in str:\n",
    "    for char in words[::-1]:\n",
    "        result += char\n",
    "print(result)"
   ]
  },
  {
   "cell_type": "code",
   "execution_count": 68,
   "id": "1d91b1d4-9e32-4ea9-8431-47a3940d30f1",
   "metadata": {},
   "outputs": [
    {
     "data": {
      "text/plain": [
       "['abr', 'owod']"
      ]
     },
     "execution_count": 68,
     "metadata": {},
     "output_type": "execute_result"
    }
   ],
   "source": [
    "words = str.split()\n",
    "words"
   ]
  },
  {
   "cell_type": "code",
   "execution_count": 10,
   "id": "add64ab6-cab0-4f74-8d97-ccab36fc7698",
   "metadata": {},
   "outputs": [
    {
     "data": {
      "text/plain": [
       "7"
      ]
     },
     "execution_count": 10,
     "metadata": {},
     "output_type": "execute_result"
    }
   ],
   "source": [
    "def hamming_distance(str1, str2):\n",
    "    if len(str1) != len(str2):\n",
    "        return None\n",
    "    index = 0\n",
    "    count = 0\n",
    "    while index < len(str1):\n",
    "        if str1[index] != str2[index]:\n",
    "            count += 1\n",
    "        index += 1\n",
    "    return count\n",
    "\n",
    "hamming_distance('abraham','rngkmeu')\n",
    "            "
   ]
  },
  {
   "cell_type": "code",
   "execution_count": 1,
   "id": "4aa770cf-dab7-449f-b2e0-a87f89dbf404",
   "metadata": {},
   "outputs": [
    {
     "data": {
      "text/plain": [
       "7"
      ]
     },
     "execution_count": 1,
     "metadata": {},
     "output_type": "execute_result"
    }
   ],
   "source": [
    "def hamming_distance(str1, str2):\n",
    "    if len(str1) != len(str2):\n",
    "        return None\n",
    "    count = 0\n",
    "    for index in range(len(str1)):\n",
    "        if str1[index] != str2[index]:\n",
    "            count += 1\n",
    "    return count\n",
    "hamming_distance('abraham','rngkmeu')"
   ]
  },
  {
   "cell_type": "code",
   "execution_count": 2,
   "id": "03b43726-3002-48da-b81f-66b6c456e6a9",
   "metadata": {},
   "outputs": [],
   "source": [
    "class Node:\n",
    "    def __init__(self,value):\n",
    "        self.value = value\n",
    "        self.next = None "
   ]
  },
  {
   "cell_type": "code",
   "execution_count": 7,
   "id": "9ff71bd1-c8ed-4220-b2f5-98cd07febf30",
   "metadata": {},
   "outputs": [],
   "source": [
    "def create_linked_list(input_list):\n",
    "    if len(input_list) == 0:\n",
    "        return None \n",
    "    head = Node(input_list[0])\n",
    "    current = head\n",
    "    for values in input_list[1:]:\n",
    "        current.next = Node(values)\n",
    "        current = current.next\n",
    "\n",
    "    return head\n",
    "\n",
    "#create_linked_list([1,2,3,4])"
   ]
  },
  {
   "cell_type": "code",
   "execution_count": 8,
   "id": "da35fcbd-6f44-457d-97e3-7e672bec7342",
   "metadata": {},
   "outputs": [
    {
     "name": "stdout",
     "output_type": "stream",
     "text": [
      "1\n",
      "2\n",
      "3\n",
      "4\n"
     ]
    }
   ],
   "source": [
    "current = create_linked_list([1,2,3,4])\n",
    "\n",
    "while current:\n",
    "    print(current.value)\n",
    "    current = current.next "
   ]
  },
  {
   "cell_type": "code",
   "execution_count": 1,
   "id": "e5d86448-67fa-4d82-a986-d98c4982a07d",
   "metadata": {},
   "outputs": [],
   "source": [
    "class Node:\n",
    "    def __init__(self,value):\n",
    "        self.value = value\n",
    "        self.next = None\n",
    "\n",
    "class LinkList:\n",
    "    def __init__(self):\n",
    "        self.head = None\n",
    "\n",
    "    def append(self,value):\n",
    "        if not self.head:\n",
    "            self.head = Node(value)\n",
    "            return \n",
    "        current = self.head\n",
    "        while current.next:\n",
    "            current = current.next \n",
    "            \n",
    "        current.next = Node(value)\n",
    "\n",
    "linklist = LinkList()"
   ]
  },
  {
   "cell_type": "code",
   "execution_count": 2,
   "id": "e815b753-0adb-4b1e-ab82-b183753a137a",
   "metadata": {},
   "outputs": [],
   "source": [
    "linklist.append(4)\n",
    "linklist.append(5)\n",
    "linklist.append(2)\n",
    "linklist.append(1)"
   ]
  },
  {
   "cell_type": "code",
   "execution_count": 3,
   "id": "b4579947-621d-4636-8cb7-a1dfddc5a44b",
   "metadata": {},
   "outputs": [
    {
     "name": "stdout",
     "output_type": "stream",
     "text": [
      "4\n",
      "5\n",
      "2\n",
      "1\n"
     ]
    }
   ],
   "source": [
    "current = linklist.head\n",
    "\n",
    "while current:\n",
    "    print(current.value)\n",
    "    current = current.next "
   ]
  },
  {
   "cell_type": "code",
   "execution_count": 12,
   "id": "4be9ce06-38bd-46b7-ab07-cea09fdf3667",
   "metadata": {},
   "outputs": [],
   "source": [
    "class Node:\n",
    "    def __init__(self,value):\n",
    "        self.value = value\n",
    "        self.next = None\n",
    "\n",
    "class SortedLinkList:\n",
    "    def __init__(self):\n",
    "        self.head = None\n",
    "\n",
    "    def append(self,value):\n",
    "        new_node = Node(value)\n",
    "        if not self.head or value < self.head.value:\n",
    "            new_node.next = self.head\n",
    "            self.head = new_node\n",
    "            return \n",
    "        current = self.head \n",
    "        while current.next and current.next.value < value:\n",
    "            current = current.next\n",
    "            \n",
    "        new_node.next = current.next\n",
    "        current.next = new_node\n",
    "\n",
    "sortedLL = SortedLinkList()"
   ]
  },
  {
   "cell_type": "code",
   "execution_count": 13,
   "id": "4a789fe9-432f-40a0-806b-6ecdd8bdb7a9",
   "metadata": {},
   "outputs": [],
   "source": [
    "sortedLL.append(4)\n",
    "sortedLL.append(3)\n",
    "sortedLL.append(2)\n",
    "sortedLL.append(1)\n",
    "sortedLL.append(8)\n",
    "sortedLL.append(10)\n",
    "sortedLL.append(7)"
   ]
  },
  {
   "cell_type": "code",
   "execution_count": 14,
   "id": "1b6936d7-0c70-40dd-bbb6-e15dab7e94c1",
   "metadata": {},
   "outputs": [
    {
     "name": "stdout",
     "output_type": "stream",
     "text": [
      "1\n",
      "2\n",
      "3\n",
      "4\n",
      "7\n",
      "8\n",
      "10\n"
     ]
    }
   ],
   "source": [
    "current = sortedLL.head\n",
    "\n",
    "while current:\n",
    "    print(current.value)\n",
    "    current = current.next "
   ]
  },
  {
   "cell_type": "code",
   "execution_count": 6,
   "id": "90c2e463-ec67-4e27-8ca6-9d8fa9eaf3d4",
   "metadata": {},
   "outputs": [],
   "source": [
    "class Node:\n",
    "    def __init__(self,value):\n",
    "        self.value = value\n",
    "        self.next = None\n",
    "\n",
    "class SortedLiskList:\n",
    "    def __init__(self):\n",
    "        self.head = None\n",
    "\n",
    "    def append(self,value):\n",
    "        new_node = Node(value)\n",
    "        if not self.head or new_node.value < self.head.value:\n",
    "            new_node.next = self.head\n",
    "            self.head = new_node\n",
    "            return \n",
    "        current = self.head\n",
    "        while current.next and new_node.value > current.next.value:\n",
    "            current = current.next\n",
    "\n",
    "        new_node.next = current.next\n",
    "        current.next = new_node\n",
    "\n",
    "sortedLL = SortedLiskList()"
   ]
  },
  {
   "cell_type": "code",
   "execution_count": 7,
   "id": "e00472bf-e703-43be-9ded-f8a0a28e0aec",
   "metadata": {},
   "outputs": [],
   "source": [
    "sortedLL.append(4)\n",
    "sortedLL.append(3)\n",
    "sortedLL.append(2)\n",
    "sortedLL.append(1)\n",
    "sortedLL.append(8)\n",
    "sortedLL.append(10)\n",
    "sortedLL.append(7)"
   ]
  },
  {
   "cell_type": "code",
   "execution_count": 8,
   "id": "adb68d2d-8b8f-424b-bb67-9e8dea846993",
   "metadata": {},
   "outputs": [
    {
     "name": "stdout",
     "output_type": "stream",
     "text": [
      "1\n",
      "2\n",
      "3\n",
      "4\n",
      "7\n",
      "8\n",
      "10\n"
     ]
    }
   ],
   "source": [
    "current = sortedLL.head\n",
    "\n",
    "while current:\n",
    "    print(current.value)\n",
    "    current = current.next"
   ]
  },
  {
   "cell_type": "code",
   "execution_count": 9,
   "id": "7049b22b-7398-4608-90ec-bb8936d6202d",
   "metadata": {},
   "outputs": [],
   "source": [
    "arr_1 = [1,2,3]\n",
    "arr_2 = [1,4,9]\n",
    "arr_3 = [9,9,9]"
   ]
  },
  {
   "cell_type": "code",
   "execution_count": 16,
   "id": "a9fc6738-b4eb-44e9-8a53-b220dc365a2f",
   "metadata": {},
   "outputs": [],
   "source": [
    "def add_one(arr):\n",
    "    plus_one = 1\n",
    "    n = len(arr)\n",
    "    for i in range(n-1,-1,-1):\n",
    "        last_digit = arr[i] + plus_one\n",
    "        plus_one = last_digit // 10\n",
    "        arr[i] = last_digit % 10\n",
    "\n",
    "        if plus_one == 0:\n",
    "            break\n",
    "    arr = [plus_one] + arr\n",
    "    if arr[0] != 1:\n",
    "        return arr[1:]\n",
    "    return arr"
   ]
  },
  {
   "cell_type": "code",
   "execution_count": 19,
   "id": "d6153309-997c-4e0a-8012-9ffe9ef3325b",
   "metadata": {},
   "outputs": [
    {
     "data": {
      "text/plain": [
       "[1, 0, 0, 0]"
      ]
     },
     "execution_count": 19,
     "metadata": {},
     "output_type": "execute_result"
    }
   ],
   "source": [
    "add_one(arr_3)"
   ]
  },
  {
   "cell_type": "code",
   "execution_count": 16,
   "id": "0f461bb5-5192-438d-bfa7-97e962b2bb85",
   "metadata": {},
   "outputs": [],
   "source": [
    "def duplicate_number(arr):\n",
    "    n = len(arr) - 1\n",
    "    expected = 0\n",
    "    current = sum(arr)\n",
    "    for i in range(n):\n",
    "        expected += i\n",
    "    \n",
    "    return current - expected\n",
    "\n",
    "arr = [0, 2, 3, 1, 4, 5, 3]"
   ]
  },
  {
   "cell_type": "code",
   "execution_count": 18,
   "id": "64bfc7f0-31e0-4b15-bf71-d6aa3a0b0e28",
   "metadata": {},
   "outputs": [
    {
     "data": {
      "text/plain": [
       "5"
      ]
     },
     "execution_count": 18,
     "metadata": {},
     "output_type": "execute_result"
    }
   ],
   "source": [
    "duplicate_number([0, 1, 5, 5, 3, 2, 4])"
   ]
  },
  {
   "cell_type": "code",
   "execution_count": 26,
   "id": "9896788a-0b31-4db0-bece-98c90150a919",
   "metadata": {},
   "outputs": [],
   "source": [
    "def max_sum_subarray(arr):\n",
    "    if len(arr) == 0:\n",
    "        return None\n",
    "    current_sum = 0\n",
    "    max_sum = 0\n",
    "    for start in range(len(arr)):\n",
    "        for end in range(start, len(arr)):\n",
    "            subarray = arr[start:end+1]\n",
    "            current_sum = max(arr[start],sum(subarray))\n",
    "            max_sum = max(max_sum,current_sum)\n",
    "    return max_sum\n"
   ]
  },
  {
   "cell_type": "code",
   "execution_count": 27,
   "id": "b803fe0b-9b50-416c-b9ef-ed277f8d38ff",
   "metadata": {},
   "outputs": [
    {
     "data": {
      "text/plain": [
       "8"
      ]
     },
     "execution_count": 27,
     "metadata": {},
     "output_type": "execute_result"
    }
   ],
   "source": [
    "max_sum_subarray([1, 2, 3, -4, 6])"
   ]
  },
  {
   "cell_type": "code",
   "execution_count": 32,
   "id": "40c66929-4a64-4d19-9b4d-69fcec621743",
   "metadata": {},
   "outputs": [],
   "source": [
    "## better way\n",
    "def max_subarray(array):\n",
    "    current_sum = max_sum = array[0]\n",
    "\n",
    "    for num in array[1:]:\n",
    "        current_sum = max(num, current_sum + num)\n",
    "        max_sum = max(current_sum,max_sum)\n",
    "    return max_sum"
   ]
  },
  {
   "cell_type": "code",
   "execution_count": 33,
   "id": "d881194d-11fd-4735-a3c1-71b0912b3e37",
   "metadata": {},
   "outputs": [
    {
     "data": {
      "text/plain": [
       "8"
      ]
     },
     "execution_count": 33,
     "metadata": {},
     "output_type": "execute_result"
    }
   ],
   "source": [
    "max_subarray([1, 2, 3, -4, 6])"
   ]
  },
  {
   "cell_type": "code",
   "execution_count": 30,
   "id": "b941fede-68b0-4310-8581-5cc7ab7ffb06",
   "metadata": {},
   "outputs": [
    {
     "data": {
      "text/plain": [
       "8"
      ]
     },
     "execution_count": 30,
     "metadata": {},
     "output_type": "execute_result"
    }
   ],
   "source": [
    "sum([1, 2, 3, -4, 6])"
   ]
  },
  {
   "cell_type": "code",
   "execution_count": 1,
   "id": "693efc77-0fb1-4a75-9998-e41d152022d6",
   "metadata": {},
   "outputs": [],
   "source": [
    "class Node:\n",
    "    def __init__(self,value):\n",
    "        self.value = value\n",
    "        self.next = None\n",
    "\n",
    "class LinkList:\n",
    "    def __init__(self):\n",
    "        self.head = None\n",
    "\n",
    "    def append(self,value):\n",
    "        if not self.head:\n",
    "            self.head = Node(value)\n",
    "            return \n",
    "        current = self.head\n",
    "        while current.next:\n",
    "            current = current.next \n",
    "            \n",
    "        current.next = Node(value)\n",
    "\n",
    "linklist = LinkList()\n",
    "linklist.append(1)\n",
    "linklist.append(2)\n",
    "linklist.append(3)\n",
    "linklist.append(4)\n",
    "linklist.append(5)\n",
    "linklist.append(6)\n",
    "linklist.append(7)"
   ]
  },
  {
   "cell_type": "code",
   "execution_count": 2,
   "id": "4661886f-0050-48c0-935a-525eca80c256",
   "metadata": {},
   "outputs": [],
   "source": [
    "def even_after_odd(head):\n",
    "    if not head:\n",
    "        return None\n",
    "    \n",
    "    current = head\n",
    "    odd_head,even_head = None,None\n",
    "    odd_tail,even_tail = None,None\n",
    "    \n",
    "    while current:\n",
    "        if current.value % 2 == 1:\n",
    "            if odd_head is None:\n",
    "                odd_head = current\n",
    "                odd_tail = odd_head\n",
    "            else:\n",
    "                odd_tail.next = current\n",
    "                odd_tail = odd_tail.next\n",
    "        else:\n",
    "            if even_head is None:\n",
    "                even_head = current\n",
    "                even_tail = even_head\n",
    "            else:\n",
    "                even_tail.next = current\n",
    "                even_tail = even_tail.next \n",
    "        current = current.next\n",
    "        \n",
    "    if odd_tail:\n",
    "        odd_tail.next = even_head\n",
    "    if even_tail:\n",
    "        even_tail.next = None\n",
    "    return odd_head\n",
    "\n",
    "head = linklist.head"
   ]
  },
  {
   "cell_type": "code",
   "execution_count": 4,
   "id": "cd41b6e1-1825-4d0e-9ba5-0a94999e3b6d",
   "metadata": {},
   "outputs": [
    {
     "name": "stdout",
     "output_type": "stream",
     "text": [
      "1\n",
      "3\n",
      "5\n",
      "7\n",
      "2\n",
      "4\n",
      "6\n"
     ]
    }
   ],
   "source": [
    "current = even_after_odd(head)\n",
    "\n",
    "while current:\n",
    "    print(current.value)\n",
    "    current = current.next "
   ]
  },
  {
   "cell_type": "code",
   "execution_count": 11,
   "id": "33e757e1-00d7-4624-a2cf-613a615ee533",
   "metadata": {},
   "outputs": [],
   "source": [
    "def skip_i_delete_j(head, i, j):\n",
    "    if not head or i < 0 or j < 0:\n",
    "        return None\n",
    "    if i == 0:\n",
    "        return None\n",
    "    if j == 0:\n",
    "        return head\n",
    "\n",
    "    current = head\n",
    "    temp = None\n",
    "\n",
    "    while current:\n",
    "        for _ in range(i-1):\n",
    "            if current is None:\n",
    "                return head \n",
    "            current = current.next\n",
    "        temp = current\n",
    "        current = current.next\n",
    "\n",
    "        for _ in range(j):\n",
    "            if current is None:\n",
    "                break\n",
    "            next_node = current.next\n",
    "            current = next_node\n",
    "\n",
    "        temp.next = current\n",
    "    return head "
   ]
  },
  {
   "cell_type": "code",
   "execution_count": 12,
   "id": "d3870564-23de-4870-bd98-4a8fb142819d",
   "metadata": {},
   "outputs": [],
   "source": [
    "head = linklist.head"
   ]
  },
  {
   "cell_type": "code",
   "execution_count": 13,
   "id": "10b8bb74-c2ec-4ef0-97c9-f025a9775164",
   "metadata": {},
   "outputs": [],
   "source": [
    "current = skip_i_delete_j(head,2,3)"
   ]
  },
  {
   "cell_type": "code",
   "execution_count": 14,
   "id": "c77ffdf7-7f42-4ba0-b148-8f08316793ac",
   "metadata": {},
   "outputs": [
    {
     "name": "stdout",
     "output_type": "stream",
     "text": [
      "1\n",
      "2\n",
      "6\n",
      "7\n"
     ]
    }
   ],
   "source": [
    "while current:\n",
    "    print(current.value)\n",
    "    current = current.next "
   ]
  },
  {
   "cell_type": "code",
   "execution_count": 15,
   "id": "63658f31-522b-4970-a870-97b8e4031fa8",
   "metadata": {},
   "outputs": [],
   "source": [
    "def binary_search(array, target):\n",
    "\n",
    "    low,high = 0, len(array) - 1\n",
    "    mid = (low + high) // 2\n",
    "    while low < high:\n",
    "        mid = (low + high) // 2\n",
    "        if array[mid] == target:\n",
    "            return mid\n",
    "        elif target > array[mid]:\n",
    "            low = mid + 1\n",
    "        else:\n",
    "            high = mid - 1\n",
    "    return -1 "
   ]
  },
  {
   "cell_type": "code",
   "execution_count": 17,
   "id": "04327ee4-0d82-4118-a592-601775057b2b",
   "metadata": {},
   "outputs": [
    {
     "data": {
      "text/plain": [
       "-1"
      ]
     },
     "execution_count": 17,
     "metadata": {},
     "output_type": "execute_result"
    }
   ],
   "source": [
    "binary_search([1,2,3,4,5,6,7,8,9], 10)"
   ]
  },
  {
   "cell_type": "code",
   "execution_count": 31,
   "id": "f98c5380-5d9d-4d8d-a333-11939299bf23",
   "metadata": {},
   "outputs": [],
   "source": [
    "def recursive_search(arr,target):\n",
    "    return helper(arr,target,0,len(arr)-1)\n",
    "\n",
    "def helper(arr,target,low,high):\n",
    "    if low <= high:\n",
    "        mid = (low + high) // 2\n",
    "        if arr[mid] == target:\n",
    "            return mid\n",
    "        elif target > arr[mid]:\n",
    "            return helper(arr,target,mid + 1,high)\n",
    "        else:\n",
    "            return helper(arr,target,low,mid-1)\n",
    "    return -1"
   ]
  },
  {
   "cell_type": "code",
   "execution_count": 33,
   "id": "0e5f154a-c613-42eb-9530-12e164f00b3a",
   "metadata": {},
   "outputs": [
    {
     "data": {
      "text/plain": [
       "-1"
      ]
     },
     "execution_count": 33,
     "metadata": {},
     "output_type": "execute_result"
    }
   ],
   "source": [
    "recursive_search([1,2,3,4,5,6,7,8,9], 10)"
   ]
  },
  {
   "cell_type": "code",
   "execution_count": 48,
   "id": "2baa225d-1dba-4987-ab34-69a652c09174",
   "metadata": {},
   "outputs": [],
   "source": [
    "def first_index(arr,target):\n",
    "    index = recursive_search(arr,target)\n",
    "    while arr[index-1] == target:\n",
    "        index -= 1\n",
    "    return index"
   ]
  },
  {
   "cell_type": "code",
   "execution_count": 49,
   "id": "b930d68b-fa0b-467a-9d7e-0ec3f64c1c3e",
   "metadata": {},
   "outputs": [
    {
     "data": {
      "text/plain": [
       "0"
      ]
     },
     "execution_count": 49,
     "metadata": {},
     "output_type": "execute_result"
    }
   ],
   "source": [
    "first_index([5,5,5,5,5,6,7,8,9,10], 5)"
   ]
  },
  {
   "cell_type": "markdown",
   "id": "81476ec1-d240-4f5f-acb6-6d3ba6f92d75",
   "metadata": {},
   "source": [
    "### Tree"
   ]
  },
  {
   "cell_type": "code",
   "execution_count": 50,
   "id": "87789e3f-e537-4ae7-8cc5-8377597b8be7",
   "metadata": {},
   "outputs": [],
   "source": [
    "class Node:\n",
    "    def __init__(self):\n",
    "        self.value = None\n",
    "        self.left = None\n",
    "        self.right = None"
   ]
  },
  {
   "cell_type": "code",
   "execution_count": 52,
   "id": "e8816b6a-3f7b-4008-95a9-f6619099331a",
   "metadata": {},
   "outputs": [
    {
     "name": "stdout",
     "output_type": "stream",
     "text": [
      "\n",
      "value: None\n",
      "left: None\n",
      "right: None\n"
     ]
    }
   ],
   "source": [
    "node0 = Node()\n",
    "print(f\"\"\"\n",
    "value: {node0.value}\n",
    "left: {node0.left}\n",
    "right: {node0.right}\"\"\"\n",
    ")"
   ]
  },
  {
   "cell_type": "code",
   "execution_count": 56,
   "id": "de8c7d2d-7f65-43a6-b90c-52ee4817308b",
   "metadata": {},
   "outputs": [
    {
     "name": "stdout",
     "output_type": "stream",
     "text": [
      "\n",
      "value: Car\n",
      "left: Benz\n",
      "right: Toyota\n"
     ]
    }
   ],
   "source": [
    "node0 = Node()\n",
    "\n",
    "node0.value = 'Car'\n",
    "node0.left = 'Benz'\n",
    "node0.right = 'Toyota'\n",
    "print(f\"\"\"\n",
    "value: {node0.value}\n",
    "left: {node0.left}\n",
    "right: {node0.right}\"\"\"\n",
    ")"
   ]
  },
  {
   "cell_type": "code",
   "execution_count": 1,
   "id": "8ad61ec9-a945-4302-9755-0cf3705f19c1",
   "metadata": {},
   "outputs": [],
   "source": [
    "class Node:\n",
    "    def __init__(self,value = None):\n",
    "        self.value = value\n",
    "        self.left = None\n",
    "        self.right = None\n",
    "\n",
    "    def get_value(self):\n",
    "        return self.value\n",
    "    def set_value(self,value):\n",
    "        self.value = value\n",
    "\n",
    "    def set_left_child(self,value):\n",
    "        self.left = value\n",
    "    def set_right_child(self,value):\n",
    "        self.right = value\n",
    "\n",
    "    def get_left_child(self):\n",
    "        return self.left\n",
    "    def get_right_child(self):\n",
    "        return self.right\n",
    "\n",
    "    def has_left_child(self):\n",
    "        return self.left != None\n",
    "    def has_right_child(self):\n",
    "        return self.right != None\n",
    "        "
   ]
  },
  {
   "cell_type": "markdown",
   "id": "d3e5980a-aa5f-4ba7-a509-6ea5d553ef5d",
   "metadata": {},
   "source": [
    "### Binary tree"
   ]
  },
  {
   "cell_type": "code",
   "execution_count": 2,
   "id": "b21f0033-8b1e-48f1-a9a2-b22f6e614ce0",
   "metadata": {},
   "outputs": [],
   "source": [
    "class Tree:\n",
    "    def __init__(self,value):\n",
    "        self.root = Node(value)\n",
    "    def get_root(self):\n",
    "        return self.root"
   ]
  },
  {
   "cell_type": "code",
   "execution_count": 3,
   "id": "87bf9335-2e62-470e-ad15-12d76ee99726",
   "metadata": {},
   "outputs": [],
   "source": [
    "tree = Tree('Car')\n",
    "\n",
    "tree.get_root().set_left_child(Node('Benz'))\n",
    "tree.get_root().set_right_child(Node('Toyota'))\n",
    "\n",
    "tree.get_root().get_right_child().set_left_child(Node('Corolla'))\n",
    "tree.get_root().get_right_child().set_right_child(Node('Camry'))"
   ]
  },
  {
   "cell_type": "code",
   "execution_count": 8,
   "id": "14e7f8f8-e057-47ee-b5bc-289851baa75a",
   "metadata": {},
   "outputs": [
    {
     "data": {
      "text/plain": [
       "'Camry'"
      ]
     },
     "execution_count": 8,
     "metadata": {},
     "output_type": "execute_result"
    }
   ],
   "source": [
    "tree.get_root().get_right_child().get_right_child().value"
   ]
  },
  {
   "cell_type": "code",
   "execution_count": 14,
   "id": "8b201049-9a78-44f4-a064-cf04f40defee",
   "metadata": {},
   "outputs": [],
   "source": [
    "class Stack:\n",
    "    def __init__(self):\n",
    "        self.items = []\n",
    "\n",
    "    def push(self,value):\n",
    "        self.items.append(value)\n",
    "\n",
    "    def pop(self):\n",
    "        self.items.pop()\n",
    "\n",
    "    def top(self):\n",
    "        if len(self.items) == 0:\n",
    "            return None\n",
    "        return self.items[-1]\n",
    "\n",
    "    def is_empty(self):\n",
    "        return len(self.items) == 0"
   ]
  },
  {
   "cell_type": "code",
   "execution_count": 15,
   "id": "d1b9f21c-108e-4457-b660-6dccdfb66450",
   "metadata": {},
   "outputs": [],
   "source": [
    "def pre_order_with_stack_buggy(tree):\n",
    "    visit_order = []\n",
    "    stack = Stack()\n",
    "    node = tree.get_root()\n",
    "    stack.push(node)\n",
    "    visit_order.append(node.get_value())\n",
    "    \n",
    "    count = 0\n",
    "    limit = 7\n",
    "    while node and count < limit:\n",
    "        count += 1\n",
    "        if node.has_left_child():\n",
    "            node = node.get_left_child()\n",
    "            stack.push(node)\n",
    "            visit_order.append(node.get_value())\n",
    "            \n",
    "        elif node.has_right_child():\n",
    "            node = node.node.get_right_child()\n",
    "            stack.push(node)\n",
    "            visit_order.append(node.get_value())\n",
    "            \n",
    "\n",
    "        else:\n",
    "            stack.pop()\n",
    "            if not stack.is_empty():\n",
    "                node = stack.top()\n",
    "            else:\n",
    "                node = None\n",
    "    return visit_order"
   ]
  },
  {
   "cell_type": "code",
   "execution_count": 16,
   "id": "e8524e51-13f6-43d3-b8d9-b5abce64708d",
   "metadata": {},
   "outputs": [
    {
     "data": {
      "text/plain": [
       "['Car', 'Benz', 'Benz', 'Benz', 'Benz']"
      ]
     },
     "execution_count": 16,
     "metadata": {},
     "output_type": "execute_result"
    }
   ],
   "source": [
    "pre_order_with_stack_buggy(tree)"
   ]
  },
  {
   "cell_type": "code",
   "execution_count": 17,
   "id": "dd78f8a4-753f-4c11-a012-35a8a5029e76",
   "metadata": {},
   "outputs": [],
   "source": [
    "class State:\n",
    "    def __init__(self,node):\n",
    "        self.node = node\n",
    "        self.visited_left = False\n",
    "        self.visited_right = False\n",
    "        \n",
    "    def get_node(self):\n",
    "        return self.node\n",
    "        \n",
    "    def get_visited_left(self):\n",
    "        return self.visited_left\n",
    "    def get_visited_right(self):\n",
    "        return self.visited_right\n",
    "\n",
    "    def set_visited_left(self):\n",
    "        self.visited_left = True\n",
    "    def set_visited_right(self):\n",
    "        self.visited_right = True\n",
    "        \n",
    "        "
   ]
  },
  {
   "cell_type": "code",
   "execution_count": 27,
   "id": "30f24b57-335b-4c55-90b4-cf5976fd097a",
   "metadata": {},
   "outputs": [],
   "source": [
    "def pre_order_with_stack(tree):\n",
    "    visited_order = []\n",
    "    node = tree.get_root()\n",
    "    stack = Stack()\n",
    "    state = State(node)\n",
    "    stack.push(state)\n",
    "    visited_order.append(node.get_value())\n",
    "\n",
    "    count = 0\n",
    "\n",
    "    while node:\n",
    "        count += 1\n",
    "        if node.has_left_child() and not state.get_visited_left():\n",
    "            state.set_visited_left()\n",
    "            node = node.get_left_child()\n",
    "            visited_order.append(node.get_value())\n",
    "            state = State(node)\n",
    "            stack.push(state)\n",
    "        elif node.has_right_child() and not state.get_visited_right():\n",
    "            state.set_visited_right()\n",
    "            node = node.get_right_child()\n",
    "            visited_order.append(node.get_value())\n",
    "            state = State(node)\n",
    "            stack.push(state)\n",
    "\n",
    "        else:\n",
    "            stack.pop()\n",
    "            if not stack.is_empty():\n",
    "                state = stack.top()\n",
    "                node = state.get_node()\n",
    "            else:\n",
    "                node = None\n",
    "    return visited_order"
   ]
  },
  {
   "cell_type": "code",
   "execution_count": 28,
   "id": "9cc37cf3-9a12-4dfe-a470-2e0424572b69",
   "metadata": {},
   "outputs": [
    {
     "data": {
      "text/plain": [
       "['Car', 'Benz', 'Toyota', 'Corolla', 'Camry']"
      ]
     },
     "execution_count": 28,
     "metadata": {},
     "output_type": "execute_result"
    }
   ],
   "source": [
    "pre_order_with_stack(tree)"
   ]
  },
  {
   "cell_type": "code",
   "execution_count": 5,
   "id": "fdffeb51-82e0-461d-9d7d-1c21006b6446",
   "metadata": {},
   "outputs": [],
   "source": [
    "class Node:\n",
    "    def __init__(self,value = None):\n",
    "        self.value = value\n",
    "        self.left = None\n",
    "        self.right = None\n",
    "\n",
    "    def get_value(self):\n",
    "        return self.value\n",
    "    def set_value(self,value):\n",
    "        self.value = value\n",
    "\n",
    "    def set_left_child(self,value):\n",
    "        self.left = value\n",
    "    def set_right_child(self,value):\n",
    "        self.right = value\n",
    "\n",
    "    def get_left_child(self):\n",
    "        return self.left\n",
    "    def get_right_child(self):\n",
    "        return self.right\n",
    "\n",
    "    def has_left_child(self):\n",
    "        return self.left != None\n",
    "    def has_right_child(self):\n",
    "        return self.right != None\n",
    "\n",
    "class Tree:\n",
    "    def __init__(self,value):\n",
    "        self.root = Node(value)\n",
    "    def get_root(self):\n",
    "        return self.root\n",
    "\n",
    "tree = Tree('Car')\n",
    "\n",
    "tree.get_root().set_left_child(Node('Benz'))\n",
    "tree.get_root().set_right_child(Node('Toyota'))\n",
    "\n",
    "tree.get_root().get_right_child().set_left_child(Node('Corolla'))\n",
    "tree.get_root().get_right_child().set_right_child(Node('Camry'))"
   ]
  },
  {
   "cell_type": "code",
   "execution_count": 17,
   "id": "a6a5161a-850a-4750-869d-46ca6e1a64fa",
   "metadata": {},
   "outputs": [],
   "source": [
    "class Stack:\n",
    "    def __init__(self):\n",
    "        self.items = []\n",
    "\n",
    "    def push(self,value):\n",
    "        self.items.append(value)\n",
    "    def pop(self):\n",
    "        self.items.pop()\n",
    "\n",
    "    def is_empty(self):\n",
    "        return len(self.items) == 0\n",
    "    def top(self):\n",
    "        if self.is_empty():\n",
    "            return None\n",
    "        return self.items[-1]\n",
    "\n",
    "class State:\n",
    "    def __init__(self,node):\n",
    "        self.node = node\n",
    "        self.visited_left = False\n",
    "        self.visited_right = False\n",
    "    def get_node(self):\n",
    "        return self.node\n",
    "\n",
    "    def set_visited_left(self):\n",
    "        self.visited_left = True\n",
    "    def set_visited_right(self):\n",
    "        self.visited_right = True\n",
    "\n",
    "    def get_visited_left(self):\n",
    "        return self.visited_left\n",
    "    def get_visited_right(self):\n",
    "        return self.visited_right\n"
   ]
  },
  {
   "cell_type": "code",
   "execution_count": 18,
   "id": "0380d8ad-a750-40c3-bbc9-396c163f180b",
   "metadata": {},
   "outputs": [],
   "source": [
    "def depth_first_search(tree):\n",
    "    visited_order = []\n",
    "    node = tree.get_root()\n",
    "    state = State(node)\n",
    "    visited_order.append(node.get_value())\n",
    "    stack = Stack()\n",
    "    stack.push(state)\n",
    "\n",
    "    while node:\n",
    "        if node.has_left_child() and not state.get_visited_left():\n",
    "            state.set_visited_left()\n",
    "            node = node.get_left_child()\n",
    "            visited_order.append(node.get_value())\n",
    "            state = State(node)\n",
    "            stack.push(state)\n",
    "\n",
    "        elif node.has_right_child() and not state.get_visited_right():\n",
    "            state.set_visited_right()\n",
    "            node = node.get_right_child()\n",
    "            visited_order.append(node.get_value())\n",
    "            state = State(node)\n",
    "            stack.push(state)\n",
    "\n",
    "        else:\n",
    "            stack.pop()\n",
    "            if not stack.is_empty():\n",
    "                state = stack.top()\n",
    "                node = state.get_node()\n",
    "            else:\n",
    "                node = None\n",
    "\n",
    "    return visited_order"
   ]
  },
  {
   "cell_type": "code",
   "execution_count": 19,
   "id": "9187ccc6-4118-4da5-aba2-78458ec45aae",
   "metadata": {},
   "outputs": [
    {
     "data": {
      "text/plain": [
       "['Car', 'Benz', 'Toyota', 'Corolla', 'Camry']"
      ]
     },
     "execution_count": 19,
     "metadata": {},
     "output_type": "execute_result"
    }
   ],
   "source": [
    "depth_first_search(tree)"
   ]
  },
  {
   "cell_type": "code",
   "execution_count": 20,
   "id": "e9e160a6-44cf-4a0e-adb1-b4db7f69bd54",
   "metadata": {},
   "outputs": [],
   "source": [
    "def recursive_DFS(tree):\n",
    "    visited_order = []\n",
    "    root = tree.get_root()\n",
    "\n",
    "    def helper(node):\n",
    "        if node:\n",
    "            visited_order.append(node.get_value())\n",
    "            helper(node.get_left_child())\n",
    "            helper(node.get_right_child())\n",
    "    helper(root)\n",
    "    return visited_order"
   ]
  },
  {
   "cell_type": "code",
   "execution_count": 21,
   "id": "cec1eca0-a5df-47ca-8e20-b5411bd0b050",
   "metadata": {},
   "outputs": [
    {
     "data": {
      "text/plain": [
       "['Car', 'Benz', 'Toyota', 'Corolla', 'Camry']"
      ]
     },
     "execution_count": 21,
     "metadata": {},
     "output_type": "execute_result"
    }
   ],
   "source": [
    "recursive_DFS(tree)"
   ]
  },
  {
   "cell_type": "code",
   "execution_count": 24,
   "id": "dd1f3bd3-a75e-4ad1-b5ef-ebbe34c69485",
   "metadata": {},
   "outputs": [],
   "source": [
    "def recursive_in_DFS(tree):\n",
    "    visited_order = []\n",
    "    root = tree.get_root()\n",
    "\n",
    "    def traverse(node):\n",
    "        if node:\n",
    "            traverse(node.get_left_child())\n",
    "            visited_order.append(node.get_value())\n",
    "            traverse(node.get_right_child())\n",
    "\n",
    "    traverse(root)\n",
    "    return visited_order"
   ]
  },
  {
   "cell_type": "code",
   "execution_count": 25,
   "id": "2057e24b-a4e2-4b27-9781-d9a789c9c3fa",
   "metadata": {},
   "outputs": [
    {
     "data": {
      "text/plain": [
       "['Benz', 'Car', 'Corolla', 'Toyota', 'Camry']"
      ]
     },
     "execution_count": 25,
     "metadata": {},
     "output_type": "execute_result"
    }
   ],
   "source": [
    "recursive_in_DFS(tree)"
   ]
  },
  {
   "cell_type": "code",
   "execution_count": 28,
   "id": "286841f7-e6f1-4bea-ba0e-7c934c359140",
   "metadata": {},
   "outputs": [],
   "source": [
    "def recursive_post_DFS(tree):\n",
    "    visited_order = []\n",
    "    root = tree.get_root()\n",
    "\n",
    "    def traverse(node):\n",
    "        if node:\n",
    "            traverse(node.get_left_child())\n",
    "            traverse(node.get_right_child())\n",
    "            visited_order.append(node.get_value())\n",
    "    traverse(root)\n",
    "    return visited_order"
   ]
  },
  {
   "cell_type": "code",
   "execution_count": 29,
   "id": "49482f3a-3735-4e25-8aef-c60de69a6e5d",
   "metadata": {},
   "outputs": [
    {
     "data": {
      "text/plain": [
       "['Benz', 'Corolla', 'Camry', 'Toyota', 'Car']"
      ]
     },
     "execution_count": 29,
     "metadata": {},
     "output_type": "execute_result"
    }
   ],
   "source": [
    "recursive_post_DFS(tree)"
   ]
  },
  {
   "cell_type": "code",
   "execution_count": 6,
   "id": "9beab7a2-1ef9-4dfc-b6ab-2ef6393b46f8",
   "metadata": {},
   "outputs": [],
   "source": [
    "# this code makes the tree that we'll traverse\n",
    "class Node(object):\n",
    "        \n",
    "    def __init__(self,value = None):\n",
    "        self.value = value\n",
    "        self.left = None\n",
    "        self.right = None\n",
    "        \n",
    "    def set_value(self,value):\n",
    "        self.value = value\n",
    "        \n",
    "    def get_value(self):\n",
    "        return self.value\n",
    "        \n",
    "    def set_left_child(self,left):\n",
    "        self.left = left\n",
    "        \n",
    "    def set_right_child(self, right):\n",
    "        self.right = right\n",
    "        \n",
    "    def get_left_child(self):\n",
    "        return self.left\n",
    "    \n",
    "    def get_right_child(self):\n",
    "        return self.right\n",
    "\n",
    "    def has_left_child(self):\n",
    "        return self.left != None\n",
    "    \n",
    "    def has_right_child(self):\n",
    "        return self.right != None\n",
    "    \n",
    "    # define __repr_ to decide what a print statement displays for a Node object\n",
    "    def __repr__(self):\n",
    "        return f\"Node({self.get_value()})\"\n",
    "    \n",
    "    def __str__(self):\n",
    "        return f\"Node({self.get_value()})\"\n",
    "\n",
    "from collections import deque\n",
    "class Queue():\n",
    "    def __init__(self):\n",
    "        self.q = deque()\n",
    "        \n",
    "    def enq(self,value):\n",
    "        self.q.appendleft(value)\n",
    "        \n",
    "    def deq(self):\n",
    "        if len(self.q) > 0:\n",
    "            return self.q.pop()\n",
    "        else:\n",
    "            return None\n",
    "    \n",
    "    def __len__(self):\n",
    "        return len(self.q)\n",
    "    \n",
    "    def __repr__(self):\n",
    "        if len(self.q) > 0:\n",
    "            s = \"<enqueue here>\\n_________________\\n\" \n",
    "            s += \"\\n_________________\\n\".join([str(item) for item in self.q])\n",
    "            s += \"\\n_________________\\n<dequeue here>\"\n",
    "            return s\n",
    "        else:\n",
    "            return \"<queue is empty>\"\n"
   ]
  },
  {
   "cell_type": "code",
   "execution_count": 13,
   "id": "a4ee1732-6361-4f5f-88de-fab9d8e50735",
   "metadata": {},
   "outputs": [],
   "source": [
    "from collections import deque\n",
    "class Queue():\n",
    "    def __init__(self):\n",
    "        self.q = deque()\n",
    "        \n",
    "    def enq(self,value):\n",
    "        self.q.appendleft(value)\n",
    "        \n",
    "    def deq(self):\n",
    "        if len(self.q) > 0:\n",
    "            return self.q.pop()\n",
    "        else:\n",
    "            return None\n",
    "    \n",
    "    def __len__(self):\n",
    "        return len(self.q)\n",
    "    \n",
    "    def __repr__(self):\n",
    "        if len(self.q) > 0:\n",
    "            s = \"<enqueue here>\\n_________________\\n\" \n",
    "            s += \"\\n_________________\\n\".join([str(item) for item in self.q])\n",
    "            s += \"\\n_________________\\n<dequeue here>\"\n",
    "            return s\n",
    "        else:\n",
    "            return \"<queue is empty>\""
   ]
  },
  {
   "cell_type": "code",
   "execution_count": 22,
   "id": "08d79b59-9520-41d2-9321-d72015d6df62",
   "metadata": {},
   "outputs": [],
   "source": [
    "class Tree:\n",
    "    def __init__(self):\n",
    "        self.root = None\n",
    "    def set_root(self,value):\n",
    "        self.root = Node(value)\n",
    "\n",
    "    def get_root(self):\n",
    "        return self.root \n",
    "\n",
    "    def compare(self,node,new_node):\n",
    "        if new_node.get_value() == node.get_value():\n",
    "            return 0\n",
    "        elif new_node.get_value() < node.get_value():\n",
    "            return -1\n",
    "        else:\n",
    "            return 1\n",
    "\n",
    "    def insert_with_loop(self,new_value):\n",
    "        if self.root is None:\n",
    "            self.root = Node(new_value)\n",
    "            return\n",
    "\n",
    "        \n",
    "        new_node = Node(new_value)    \n",
    "        node = self.get_root()\n",
    "        while True:\n",
    "            comparison = self.compare(node,new_node)\n",
    "            if comparison == 0:\n",
    "                node.set_value(new_node.get_value())\n",
    "                break\n",
    "            elif comparison == -1:\n",
    "                if node.has_left_child():\n",
    "                    node = node.get_left_child()\n",
    "                else:\n",
    "                    node.set_left_child(new_node)\n",
    "                    break\n",
    "            else:\n",
    "                if node.has_right_child():\n",
    "                    node = node.get_right_child()\n",
    "                else:\n",
    "                    node.set_right_child(new_node)\n",
    "                    break\n",
    "\n",
    "    def recursive_insert(self,new_value):\n",
    "        if self.root is None:\n",
    "            self.root = Node(new_value)\n",
    "            return\n",
    "        new_node = Node(new_value)\n",
    "        node = self.get_root()\n",
    "        self.helper(node,new_node)\n",
    "\n",
    "        def helper(self,node,new_node):\n",
    "            comparison = self.compare(node,new_node)\n",
    "            if comparison == 0:\n",
    "                node.set_value(new_node.get_value())\n",
    "            elif comparison == -1:\n",
    "                if node.has_left_child():\n",
    "                    self.helper(node.get_left_child(), new_node)\n",
    "                else:\n",
    "                    node.set_left_child(new_node)\n",
    "            else:\n",
    "                if node.has_right_child():\n",
    "                    self.helper(node.get_right_child(), new_node)\n",
    "                else:\n",
    "                    node.set_right_child(new_node)\n",
    "\n",
    "    def search(self,value):\n",
    "        if self.root is None:\n",
    "            return False\n",
    "\n",
    "        node = self.get_root()\n",
    "        s_node = Node(value)\n",
    "        while True:\n",
    "            comparison =  self.compare(node,s_node)\n",
    "            if comparison == 0:\n",
    "                return True\n",
    "            elif comparison == -1:\n",
    "                if node.has_left_child():\n",
    "                    node = node.get_left_child()\n",
    "                else:\n",
    "                    return False\n",
    "            else: \n",
    "                if node.has_right_child():\n",
    "                    node = node.get_right_child()\n",
    "                else:\n",
    "                    return False\n",
    "                       \n",
    "\n",
    "    \n",
    "    def __repr__(self):\n",
    "        level = 0\n",
    "        q = Queue()\n",
    "        visit_order = list()\n",
    "        node = self.get_root()\n",
    "        q.enq( (node,level) )\n",
    "        while(len(q) > 0):\n",
    "            node, level = q.deq()\n",
    "            if node == None:\n",
    "                visit_order.append( (\"<empty>\", level))\n",
    "                continue\n",
    "            visit_order.append( (node, level) )\n",
    "            if node.has_left_child():\n",
    "                q.enq( (node.get_left_child(), level +1 ))\n",
    "            else:\n",
    "                q.enq( (None, level +1) )\n",
    "\n",
    "            if node.has_right_child():\n",
    "                q.enq( (node.get_right_child(), level +1 ))\n",
    "            else:\n",
    "                q.enq( (None, level +1) )\n",
    "\n",
    "        s = \"Tree\\n\"\n",
    "        previous_level = -1\n",
    "        for i in range(len(visit_order)):\n",
    "            node, level = visit_order[i]\n",
    "            if level == previous_level:\n",
    "                s += \" | \" + str(node) \n",
    "            else:\n",
    "                s += \"\\n\" + str(node)\n",
    "                previous_level = level\n",
    "\n",
    "                \n",
    "        return s"
   ]
  },
  {
   "cell_type": "code",
   "execution_count": 23,
   "id": "194f6538-7e25-4140-830c-d6c6976af78c",
   "metadata": {},
   "outputs": [],
   "source": [
    "tree = Tree()\n",
    "tree.insert_with_loop(5)\n",
    "tree.insert_with_loop(6)\n",
    "tree.insert_with_loop(4)\n",
    "tree.insert_with_loop(2)\n",
    "tree.insert_with_loop(5)"
   ]
  },
  {
   "cell_type": "code",
   "execution_count": 24,
   "id": "56053b88-a28a-45e4-9105-b467f5eb8246",
   "metadata": {},
   "outputs": [
    {
     "data": {
      "text/plain": [
       "Tree\n",
       "\n",
       "Node(5)\n",
       "Node(4) | Node(6)\n",
       "Node(2) | <empty> | <empty> | <empty>\n",
       "<empty> | <empty>"
      ]
     },
     "execution_count": 24,
     "metadata": {},
     "output_type": "execute_result"
    }
   ],
   "source": [
    "tree"
   ]
  },
  {
   "cell_type": "code",
   "execution_count": 27,
   "id": "bfb7aa60-56d6-4103-8142-1be8d471abdf",
   "metadata": {},
   "outputs": [
    {
     "data": {
      "text/plain": [
       "False"
      ]
     },
     "execution_count": 27,
     "metadata": {},
     "output_type": "execute_result"
    }
   ],
   "source": [
    "tree.search(10)"
   ]
  },
  {
   "cell_type": "code",
   "execution_count": 1,
   "id": "d1a1677c-c304-4359-bfe5-747fd90570b4",
   "metadata": {},
   "outputs": [],
   "source": [
    "# this code makes the tree that we'll traverse\n",
    "class Node(object):\n",
    "        \n",
    "    def __init__(self,value = None):\n",
    "        self.value = value\n",
    "        self.left = None\n",
    "        self.right = None\n",
    "        \n",
    "    def set_value(self,value):\n",
    "        self.value = value\n",
    "        \n",
    "    def get_value(self):\n",
    "        return self.value\n",
    "        \n",
    "    def set_left_child(self,left):\n",
    "        self.left = left\n",
    "        \n",
    "    def set_right_child(self, right):\n",
    "        self.right = right\n",
    "        \n",
    "    def get_left_child(self):\n",
    "        return self.left\n",
    "    \n",
    "    def get_right_child(self):\n",
    "        return self.right\n",
    "\n",
    "    def has_left_child(self):\n",
    "        return self.left != None\n",
    "    \n",
    "    def has_right_child(self):\n",
    "        return self.right != None\n",
    "    \n",
    "    # define __repr_ to decide what a print statement displays for a Node object\n",
    "    def __repr__(self):\n",
    "        return f\"Node({self.get_value()})\"\n",
    "    \n",
    "    def __str__(self):\n",
    "        return f\"Node({self.get_value()})\"\n",
    "\n",
    "from collections import deque\n",
    "class Queue():\n",
    "    def __init__(self):\n",
    "        self.q = deque()\n",
    "        \n",
    "    def enq(self,value):\n",
    "        self.q.appendleft(value)\n",
    "        \n",
    "    def deq(self):\n",
    "        if len(self.q) > 0:\n",
    "            return self.q.pop()\n",
    "        else:\n",
    "            return None\n",
    "    \n",
    "    def __len__(self):\n",
    "        return len(self.q)\n",
    "    \n",
    "    def __repr__(self):\n",
    "        if len(self.q) > 0:\n",
    "            s = \"<enqueue here>\\n_________________\\n\" \n",
    "            s += \"\\n_________________\\n\".join([str(item) for item in self.q])\n",
    "            s += \"\\n_________________\\n<dequeue here>\"\n",
    "            return s\n",
    "        else:\n",
    "            return \"<queue is empty>\"\n",
    "\n",
    "from collections import deque\n",
    "class Queue():\n",
    "    def __init__(self):\n",
    "        self.q = deque()\n",
    "        \n",
    "    def enq(self,value):\n",
    "        self.q.appendleft(value)\n",
    "        \n",
    "    def deq(self):\n",
    "        if len(self.q) > 0:\n",
    "            return self.q.pop()\n",
    "        else:\n",
    "            return None\n",
    "    \n",
    "    def __len__(self):\n",
    "        return len(self.q)\n",
    "    \n",
    "    def __repr__(self):\n",
    "        if len(self.q) > 0:\n",
    "            s = \"<enqueue here>\\n_________________\\n\" \n",
    "            s += \"\\n_________________\\n\".join([str(item) for item in self.q])\n",
    "            s += \"\\n_________________\\n<dequeue here>\"\n",
    "            return s\n",
    "        else:\n",
    "            return \"<queue is empty>\"\n"
   ]
  },
  {
   "cell_type": "code",
   "execution_count": 12,
   "id": "cda9f7cf-f901-4b9a-b3ad-b05697cfc375",
   "metadata": {},
   "outputs": [],
   "source": [
    "class Tree:\n",
    "    def __init__(self):\n",
    "        self.root = None\n",
    "\n",
    "    def set_root(self,value):\n",
    "        self.root = Node(value)\n",
    "\n",
    "    def get_root(self):\n",
    "        return self.root\n",
    "\n",
    "    def compare(self,node,new_node):\n",
    "        if node.get_value() == new_node.get_value():\n",
    "            return 0\n",
    "        elif node.get_value() > new_node.get_value():\n",
    "            return -1\n",
    "        else:\n",
    "            return 1\n",
    "\n",
    "    def search(self,s_value):\n",
    "        node = self.root\n",
    "        s_node = Node(s_value)\n",
    "        while True:\n",
    "            comparison = self.compare(node,s_node)\n",
    "            if comparison == 0:\n",
    "                return True\n",
    "            elif comparison == -1:\n",
    "                if node.has_left_child():\n",
    "                    node = node.get_left_child()\n",
    "                else:\n",
    "                    return False\n",
    "            else:\n",
    "                if node.has_right_child():\n",
    "                   node = node.get_right_child()\n",
    "                else:\n",
    "                    return False\n",
    "\n",
    "    def recursive_insert(self,new_value):\n",
    "        if self.root is None:\n",
    "            self.root = Node(new_value)\n",
    "            return\n",
    "        node = self.root\n",
    "        new_node = Node(new_value)\n",
    "        self.traverse_insert(node,new_node)\n",
    "\n",
    "    def traverse_insert(self,node,new_node):\n",
    "        comparison = self.compare(node,new_node)\n",
    "        # base case\n",
    "        if comparison == 0:\n",
    "            node.set_value(new_node.get_value())\n",
    "        # recursive case \n",
    "        elif comparison == -1:\n",
    "            if node.has_left_child():\n",
    "                self.traverse_insert(node.get_left_child(),new_node)\n",
    "            else:\n",
    "                node.set_left_child(new_node)\n",
    "        else:\n",
    "            if node.has_right_child():\n",
    "                self.traverse_insert(node.get_right_child(),new_node)\n",
    "            else:\n",
    "                node.set_right_child(new_node)\n",
    "                        \n",
    "            \n",
    "\n",
    "    def insert_with_loop(self, new_value):\n",
    "        if self.root is None:\n",
    "            self.root = Node(new_value)\n",
    "            return\n",
    "        node = self.root\n",
    "        new_node = Node(new_value)\n",
    "        if not node:\n",
    "            return None\n",
    "        while True:\n",
    "            comparison = self.compare(node,new_node)\n",
    "            if comparison == 0:\n",
    "                node.set_value(new_node.get_value())\n",
    "                break\n",
    "            elif comparison == -1:\n",
    "                if node.has_left_child():\n",
    "                    node = node.get_left_child()\n",
    "                else:\n",
    "                    node.set_left_child(new_node)\n",
    "                    break\n",
    "            else:\n",
    "                if node.has_right_child():\n",
    "                    node = node.get_right_child()\n",
    "                else:\n",
    "                    node.set_right_child(new_node)\n",
    "                    break\n",
    "\n",
    "        \n",
    "\n",
    "    def __repr__(self):\n",
    "        level = 0\n",
    "        q = Queue()\n",
    "        visit_order = list()\n",
    "        node = self.get_root()\n",
    "        q.enq( (node,level) )\n",
    "        while(len(q) > 0):\n",
    "            node, level = q.deq()\n",
    "            if node == None:\n",
    "                visit_order.append( (\"<empty>\", level))\n",
    "                continue\n",
    "            visit_order.append( (node, level) )\n",
    "            if node.has_left_child():\n",
    "                q.enq( (node.get_left_child(), level +1 ))\n",
    "            else:\n",
    "                q.enq( (None, level +1) )\n",
    "\n",
    "            if node.has_right_child():\n",
    "                q.enq( (node.get_right_child(), level +1 ))\n",
    "            else:\n",
    "                q.enq( (None, level +1) )\n",
    "\n",
    "        s = \"Tree\\n\"\n",
    "        previous_level = -1\n",
    "        for i in range(len(visit_order)):\n",
    "            node, level = visit_order[i]\n",
    "            if level == previous_level:\n",
    "                s += \" | \" + str(node) \n",
    "            else:\n",
    "                s += \"\\n\" + str(node)\n",
    "                previous_level = level\n",
    "\n",
    "                \n",
    "        return s"
   ]
  },
  {
   "cell_type": "code",
   "execution_count": 13,
   "id": "8891aea3-c92a-4d0b-9580-124285dd88bf",
   "metadata": {},
   "outputs": [
    {
     "data": {
      "text/plain": [
       "Tree\n",
       "\n",
       "Node(5)\n",
       "Node(4) | Node(6)\n",
       "Node(2) | <empty> | <empty> | <empty>\n",
       "<empty> | <empty>"
      ]
     },
     "execution_count": 13,
     "metadata": {},
     "output_type": "execute_result"
    }
   ],
   "source": [
    "tree = Tree()\n",
    "tree.insert_with_loop(5)\n",
    "tree.insert_with_loop(6)\n",
    "tree.insert_with_loop(4)\n",
    "tree.insert_with_loop(2)\n",
    "tree.insert_with_loop(5)\n",
    "tree"
   ]
  },
  {
   "cell_type": "code",
   "execution_count": 16,
   "id": "7c273cb6-63dd-47f5-9751-08b612138286",
   "metadata": {},
   "outputs": [
    {
     "data": {
      "text/plain": [
       "False"
      ]
     },
     "execution_count": 16,
     "metadata": {},
     "output_type": "execute_result"
    }
   ],
   "source": [
    "tree.search(10)"
   ]
  },
  {
   "cell_type": "code",
   "execution_count": null,
   "id": "897e4d5c-bb85-4952-8a19-a810e9e1843a",
   "metadata": {},
   "outputs": [],
   "source": []
  },
  {
   "cell_type": "code",
   "execution_count": null,
   "id": "6c9a4f63-d187-43b6-a0fa-4ea763fa4918",
   "metadata": {},
   "outputs": [],
   "source": []
  },
  {
   "cell_type": "code",
   "execution_count": null,
   "id": "a39c1fe1-ee31-434e-a48d-6d6ff1a1270a",
   "metadata": {},
   "outputs": [],
   "source": []
  },
  {
   "cell_type": "code",
   "execution_count": null,
   "id": "b2844428-ec52-417f-9610-c06744f1800a",
   "metadata": {},
   "outputs": [],
   "source": []
  },
  {
   "cell_type": "code",
   "execution_count": null,
   "id": "44f530fc-6a2c-4254-a79b-ad4c4f407c99",
   "metadata": {},
   "outputs": [],
   "source": []
  },
  {
   "cell_type": "code",
   "execution_count": null,
   "id": "cf810a3a-2f5e-4e39-8853-cbe665153554",
   "metadata": {},
   "outputs": [],
   "source": []
  },
  {
   "cell_type": "code",
   "execution_count": null,
   "id": "f8b0100e-ea04-400e-901d-2fb43e035c43",
   "metadata": {},
   "outputs": [],
   "source": []
  },
  {
   "cell_type": "code",
   "execution_count": null,
   "id": "4489fd62-c509-4632-aa9b-f44aa8bfbebf",
   "metadata": {},
   "outputs": [],
   "source": []
  },
  {
   "cell_type": "code",
   "execution_count": null,
   "id": "1e4958fe-b392-49c2-a5b8-95c938178d60",
   "metadata": {},
   "outputs": [],
   "source": []
  },
  {
   "cell_type": "code",
   "execution_count": null,
   "id": "a25e9039-a43f-4db4-9b47-1d65dcf83bf4",
   "metadata": {},
   "outputs": [],
   "source": []
  },
  {
   "cell_type": "code",
   "execution_count": null,
   "id": "0f614a2e-a6ee-4109-8bf4-32703ab4a024",
   "metadata": {},
   "outputs": [],
   "source": []
  },
  {
   "cell_type": "code",
   "execution_count": null,
   "id": "c6e4499f-6d1a-4a13-b423-d812d2937628",
   "metadata": {},
   "outputs": [],
   "source": []
  },
  {
   "cell_type": "code",
   "execution_count": null,
   "id": "30a9f5af-3720-4e4d-bc60-adfd27819668",
   "metadata": {},
   "outputs": [],
   "source": []
  },
  {
   "cell_type": "code",
   "execution_count": null,
   "id": "a8a6aa67-f56b-4cf5-9755-6b5cba850dd6",
   "metadata": {},
   "outputs": [],
   "source": []
  },
  {
   "cell_type": "code",
   "execution_count": null,
   "id": "1ce5b864-70c7-4b83-b9ed-668b342fad33",
   "metadata": {},
   "outputs": [],
   "source": []
  },
  {
   "cell_type": "code",
   "execution_count": null,
   "id": "b95ab766-390c-4347-b86e-f252cc41c8bf",
   "metadata": {},
   "outputs": [],
   "source": []
  },
  {
   "cell_type": "code",
   "execution_count": null,
   "id": "2cc86bb6-f7fc-42ec-911c-58ce807e3b37",
   "metadata": {},
   "outputs": [],
   "source": []
  },
  {
   "cell_type": "code",
   "execution_count": null,
   "id": "09087783-85bf-4de8-86e9-bff4529bed42",
   "metadata": {},
   "outputs": [],
   "source": []
  },
  {
   "cell_type": "code",
   "execution_count": null,
   "id": "f80082ed-bd71-4e73-81e3-d357abb0a604",
   "metadata": {},
   "outputs": [],
   "source": []
  },
  {
   "cell_type": "code",
   "execution_count": null,
   "id": "7fbf97b1-28dc-4ab6-ba89-16b7d050eba3",
   "metadata": {},
   "outputs": [],
   "source": []
  },
  {
   "cell_type": "code",
   "execution_count": null,
   "id": "28cead99-f422-4ff0-94e0-a6ea30c8a9ab",
   "metadata": {},
   "outputs": [],
   "source": []
  }
 ],
 "metadata": {
  "kernelspec": {
   "display_name": "Python 3 (ipykernel)",
   "language": "python",
   "name": "python3"
  },
  "language_info": {
   "codemirror_mode": {
    "name": "ipython",
    "version": 3
   },
   "file_extension": ".py",
   "mimetype": "text/x-python",
   "name": "python",
   "nbconvert_exporter": "python",
   "pygments_lexer": "ipython3",
   "version": "3.11.5"
  }
 },
 "nbformat": 4,
 "nbformat_minor": 5
}
