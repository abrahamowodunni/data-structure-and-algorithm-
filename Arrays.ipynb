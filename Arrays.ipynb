{
 "cells": [
  {
   "cell_type": "markdown",
   "id": "d247b956-448c-4c35-8ffa-06bc5ea6de14",
   "metadata": {},
   "source": [
    "### Array implementation\n",
    "\n",
    "Create a 1-D int array and insert numbers to the max size provided until the end of array. Access the numbers inserted and then display the same as output"
   ]
  },
  {
   "cell_type": "code",
   "execution_count": 6,
   "id": "7f6b19cc-2f24-4b0b-99a0-9f5d62ca917b",
   "metadata": {},
   "outputs": [
    {
     "name": "stdout",
     "output_type": "stream",
     "text": [
      "How many elements to store inside the array"
     ]
    },
    {
     "name": "stdin",
     "output_type": "stream",
     "text": [
      " 3\n"
     ]
    },
    {
     "name": "stdout",
     "output_type": "stream",
     "text": [
      "\n",
      "Enter 3 Element:"
     ]
    },
    {
     "name": "stdin",
     "output_type": "stream",
     "text": [
      " 1\n",
      " 2\n",
      " 3\n"
     ]
    },
    {
     "name": "stdout",
     "output_type": "stream",
     "text": [
      "\n",
      "The array elements are\n",
      "1 2 3 "
     ]
    }
   ],
   "source": [
    "print('How many elements to store inside the array', end='')\n",
    "num = int(input())\n",
    "arr = []\n",
    "print('\\nEnter',num,'Element:', end='')\n",
    "#num = int(num)\n",
    "for i in range(num):\n",
    "    element = input()\n",
    "    arr.append(element)\n",
    "print('\\nThe array elements are')\n",
    "for i in range(num):\n",
    "    print(arr[i],end=' ')"
   ]
  },
  {
   "cell_type": "markdown",
   "id": "d787f4f3-14ae-4b8b-8727-d1a5c8d68b5a",
   "metadata": {},
   "source": [
    "Create a 2-D int array and insert numbers to the max size provided until the end of array. Access the numbers inserted and then display the same as output"
   ]
  },
  {
   "cell_type": "code",
   "execution_count": 9,
   "id": "bc4dbbb7-ad06-4498-95cc-0c746ad4f87f",
   "metadata": {},
   "outputs": [
    {
     "name": "stdin",
     "output_type": "stream",
     "text": [
      "input number of rows:  2\n",
      "input number of columns:  3\n"
     ]
    },
    {
     "name": "stdout",
     "output_type": "stream",
     "text": [
      "[[0, 0, 0], [0, 1, 2]]\n"
     ]
    }
   ],
   "source": [
    "r_num = int(input(\"input number of rows: \"))\n",
    "c_num = int(input(\"input number of columns: \"))\n",
    "_2darr = [[0 for col in range(c_num)] for row in range(r_num)]\n",
    "\n",
    "for row in range(r_num):\n",
    "    for col in range(c_num):\n",
    "        _2darr[row][col] = row*col\n",
    "print(_2darr)"
   ]
  },
  {
   "cell_type": "markdown",
   "id": "7b61160c-413d-4111-b6df-cea68ed931c8",
   "metadata": {},
   "source": [
    "Implement search, sort and delete operation on array of integers"
   ]
  },
  {
   "cell_type": "code",
   "execution_count": 11,
   "id": "68d765e5-0c18-4a5b-ad6e-7779abbb5d73",
   "metadata": {},
   "outputs": [
    {
     "name": "stdin",
     "output_type": "stream",
     "text": [
      " 3\n",
      " 1\n",
      " 3\n",
      " 4\n"
     ]
    },
    {
     "data": {
      "text/plain": [
       "['1', '3', '4']"
      ]
     },
     "execution_count": 11,
     "metadata": {},
     "output_type": "execute_result"
    }
   ],
   "source": [
    "num = int(input())\n",
    "arr = []\n",
    "\n",
    "for i in range(num):\n",
    "    element = input()\n",
    "    arr.append(element)\n",
    "arr"
   ]
  },
  {
   "cell_type": "code",
   "execution_count": 13,
   "id": "81cddbb5-55c5-4474-b8e3-d28b503063f9",
   "metadata": {},
   "outputs": [
    {
     "name": "stdin",
     "output_type": "stream",
     "text": [
      " 2\n",
      " 2\n"
     ]
    },
    {
     "name": "stdout",
     "output_type": "stream",
     "text": [
      "[0, 0]\n",
      "[0, 0]\n"
     ]
    }
   ],
   "source": [
    "r_num = int(input())\n",
    "c_num = int(input())\n",
    "\n",
    "_2d = [[0 for _ in range(c_num)] for _ in range(r_num)]\n",
    "\n",
    "# Display the 2D array\n",
    "for row in _2d:\n",
    "    print(row)"
   ]
  },
  {
   "cell_type": "code",
   "execution_count": null,
   "id": "6d8bfce1-0236-4ec7-9cca-dcbd7aaffcd5",
   "metadata": {},
   "outputs": [],
   "source": []
  },
  {
   "cell_type": "code",
   "execution_count": null,
   "id": "8ea38f43-3b64-4d7a-84d8-6ffd2bcd5a16",
   "metadata": {},
   "outputs": [],
   "source": []
  },
  {
   "cell_type": "code",
   "execution_count": null,
   "id": "8b50b8d3-68f1-42f8-a3e9-8d8559c8b995",
   "metadata": {},
   "outputs": [],
   "source": []
  },
  {
   "cell_type": "code",
   "execution_count": null,
   "id": "35d0d901-62c1-4a21-8400-1d22fa10424b",
   "metadata": {},
   "outputs": [],
   "source": []
  },
  {
   "cell_type": "code",
   "execution_count": null,
   "id": "eed9063a-873f-47e4-b43f-eb07a8bd42de",
   "metadata": {},
   "outputs": [],
   "source": []
  },
  {
   "cell_type": "code",
   "execution_count": null,
   "id": "7e944010-af2a-43e9-8ebd-e1ce96d5eae6",
   "metadata": {},
   "outputs": [],
   "source": []
  },
  {
   "cell_type": "code",
   "execution_count": null,
   "id": "d700ad42-ed56-4aa8-a775-c81a59c352f5",
   "metadata": {},
   "outputs": [],
   "source": []
  },
  {
   "cell_type": "code",
   "execution_count": null,
   "id": "8f6db67b-a834-4d1a-a9c2-83a9fa84f5eb",
   "metadata": {},
   "outputs": [],
   "source": []
  },
  {
   "cell_type": "code",
   "execution_count": null,
   "id": "327b729b-bb66-42e0-b15e-cddd850e6929",
   "metadata": {},
   "outputs": [],
   "source": []
  },
  {
   "cell_type": "code",
   "execution_count": null,
   "id": "8cd45675-1edd-43e4-b1b3-e4be2a22780c",
   "metadata": {},
   "outputs": [],
   "source": []
  },
  {
   "cell_type": "code",
   "execution_count": null,
   "id": "de7001f6-6a20-40f5-a792-205dc1064aed",
   "metadata": {},
   "outputs": [],
   "source": []
  },
  {
   "cell_type": "code",
   "execution_count": null,
   "id": "f3b3e8b8-84b0-4d52-b446-918d192d5f19",
   "metadata": {},
   "outputs": [],
   "source": []
  },
  {
   "cell_type": "code",
   "execution_count": null,
   "id": "d80f3a3f-d6ff-4a41-ab4a-2a4849dbaeb8",
   "metadata": {},
   "outputs": [],
   "source": []
  },
  {
   "cell_type": "code",
   "execution_count": null,
   "id": "800b0da5-0fcd-4d7c-ae48-dd7ad3282b7f",
   "metadata": {},
   "outputs": [],
   "source": []
  }
 ],
 "metadata": {
  "kernelspec": {
   "display_name": "Python 3 (ipykernel)",
   "language": "python",
   "name": "python3"
  },
  "language_info": {
   "codemirror_mode": {
    "name": "ipython",
    "version": 3
   },
   "file_extension": ".py",
   "mimetype": "text/x-python",
   "name": "python",
   "nbconvert_exporter": "python",
   "pygments_lexer": "ipython3",
   "version": "3.11.5"
  }
 },
 "nbformat": 4,
 "nbformat_minor": 5
}
