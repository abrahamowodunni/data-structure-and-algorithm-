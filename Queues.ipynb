{
 "cells": [
  {
   "cell_type": "markdown",
   "id": "df4b7931-2aa1-4de0-9cb0-4528d123d820",
   "metadata": {},
   "source": [
    "Implimenting Queues with array"
   ]
  },
  {
   "cell_type": "code",
   "execution_count": 1,
   "id": "8aa98af6-82f9-45f2-a741-a7c8a8b0c6fb",
   "metadata": {},
   "outputs": [],
   "source": [
    "class Queue:\n",
    "    def __init__(self, initial_size):\n",
    "        self.arr = [None for _ in range(initial_size)]\n",
    "        self.next_index = 0\n",
    "        self.front_index = -1\n",
    "        self.queue_size = 0\n",
    "        "
   ]
  },
  {
   "cell_type": "markdown",
   "id": "bb3f7ddd-7588-4bbc-aee6-07f8dabb0700",
   "metadata": {},
   "source": [
    "### Enqueue"
   ]
  },
  {
   "cell_type": "code",
   "execution_count": 6,
   "id": "7a75b2d3-0cb5-4ab0-8af4-8e0f8fa7e12d",
   "metadata": {},
   "outputs": [],
   "source": [
    "class Queue:\n",
    "    def __init__(self, initial_size):\n",
    "        self.arr = [None for _ in range(initial_size)]\n",
    "        self.next_index = 0\n",
    "        self.front_index = -1\n",
    "        self.queue_size = 0\n",
    "        \n",
    "    def enqueue(self,value):\n",
    "        if self.queue_size == len(self.arr):\n",
    "            self._handle_queue_capacity_full()\n",
    "        self.arr[self.next_index] = value\n",
    "        self.queue_size += 1\n",
    "        self.next_index = (self.next_index + 1) % len(self.arr)\n",
    "        if self.front_index == -1:\n",
    "            self.front_index = 0\n",
    "\n",
    "    def dequeue(self):\n",
    "        if is_empty():\n",
    "            return None\n",
    "\n",
    "        value = self.arr[front_index]\n",
    "        self.next_index = (self.next_index + 1) % len(self.arr)\n",
    "        self.queue_size -= 1\n",
    "        return value\n",
    "\n",
    "    def _handle_queue_capacity_full(self):\n",
    "        old_arr = self.arr\n",
    "        self.arr = [None for _ in (len(old_arr)*2)]\n",
    "\n",
    "        index = 0\n",
    "        for i in range(self.front_index, len(old_arr)):\n",
    "            self.arr[index] = old_arr[i]\n",
    "            index += 1\n",
    "\n",
    "        for i in range(0,self.front_index):\n",
    "            self.arr[index] = old_arr[i]\n",
    "            index +=1\n",
    "        self.front_index = 0\n",
    "        self.next_index = index\n",
    "\n",
    "    def is_empty(self):\n",
    "        return self.queue_size == 0\n",
    "\n",
    "    def size(self):\n",
    "        return self.queue_size\n",
    "\n",
    "    def front(self):\n",
    "        if self.arr[self.front_index] is None:\n",
    "            return None\n",
    "        return self.arr[self.front_index]\n",
    "        "
   ]
  },
  {
   "cell_type": "markdown",
   "id": "698fd544-4400-486c-b336-bde66d309f64",
   "metadata": {},
   "source": [
    "### Using LinkedList"
   ]
  },
  {
   "cell_type": "code",
   "execution_count": 23,
   "id": "781cab4c-13d1-41b7-a07c-f67237a6df19",
   "metadata": {},
   "outputs": [],
   "source": [
    "class Node:\n",
    "    def __init__(self,value):\n",
    "        self.value =value\n",
    "        self.next = None\n",
    "\n",
    "class Queue:\n",
    "    def __init__(self):\n",
    "        self.head = None\n",
    "        self.tail = None\n",
    "        self.num_element = 0\n",
    "        \n",
    "    def enqueue(self,value):\n",
    "        \n",
    "        if self.head is None:\n",
    "            self.head = Node(value)\n",
    "            self.tail = self.head\n",
    "        else:\n",
    "            current = self.head\n",
    "            while current.next:\n",
    "                current = current.next\n",
    "\n",
    "            current.next = Node(value)\n",
    "            self.tail = current.next\n",
    "        self.num_element += 1\n",
    "\n",
    "queue = Queue()"
   ]
  },
  {
   "cell_type": "code",
   "execution_count": 24,
   "id": "8a9a1eb3-c30a-48e0-aef8-024457188c5e",
   "metadata": {},
   "outputs": [],
   "source": [
    "queue.enqueue(1)\n",
    "queue.enqueue(2)\n",
    "queue.enqueue(3)"
   ]
  },
  {
   "cell_type": "code",
   "execution_count": 25,
   "id": "15a735b7-757b-4eec-afb6-b3ed0e8504f5",
   "metadata": {},
   "outputs": [
    {
     "name": "stdout",
     "output_type": "stream",
     "text": [
      "1\n",
      "2\n",
      "3\n"
     ]
    }
   ],
   "source": [
    "current = queue.head\n",
    "\n",
    "while current:\n",
    "    print(current.value)\n",
    "    current = current.next "
   ]
  },
  {
   "cell_type": "code",
   "execution_count": 26,
   "id": "a5d9d2cd-b7a6-480a-8c15-5213f7f1c869",
   "metadata": {},
   "outputs": [
    {
     "data": {
      "text/plain": [
       "3"
      ]
     },
     "execution_count": 26,
     "metadata": {},
     "output_type": "execute_result"
    }
   ],
   "source": [
    "queue.tail.value"
   ]
  },
  {
   "cell_type": "code",
   "execution_count": 27,
   "id": "778d843c-af48-40fc-858c-23f77c74f512",
   "metadata": {},
   "outputs": [
    {
     "data": {
      "text/plain": [
       "3"
      ]
     },
     "execution_count": 27,
     "metadata": {},
     "output_type": "execute_result"
    }
   ],
   "source": [
    "queue.num_element"
   ]
  },
  {
   "cell_type": "markdown",
   "id": "7dcaa846-e3cc-4503-9bd6-55b98287b680",
   "metadata": {},
   "source": [
    "### A better way"
   ]
  },
  {
   "cell_type": "code",
   "execution_count": 1,
   "id": "9fe49418-5e34-4732-b6aa-af3124c43bc6",
   "metadata": {},
   "outputs": [],
   "source": [
    "class Node:\n",
    "    def __init__(self,value):\n",
    "        self.value =value\n",
    "        self.next = None\n",
    "\n",
    "class Queue:\n",
    "    def __init__(self):\n",
    "        self.head = None\n",
    "        self.tail = None\n",
    "        self.num_element = 0\n",
    "        \n",
    "    def enqueue(self,value):\n",
    "        new_node = Node(value)\n",
    "        if self.head is None:\n",
    "            self.head = new_node\n",
    "            self.tail = new_node\n",
    "        else:\n",
    "            self.tail.next = new_node\n",
    "            self.tail = new_node\n",
    "        self.num_element += 1\n",
    "\n",
    "queue = Queue()\n",
    "queue.enqueue(1)\n",
    "queue.enqueue(2)\n",
    "queue.enqueue(3)"
   ]
  },
  {
   "cell_type": "code",
   "execution_count": 2,
   "id": "54aa22a0-5a80-4623-b8c1-c2c98c45f6b5",
   "metadata": {},
   "outputs": [
    {
     "name": "stdout",
     "output_type": "stream",
     "text": [
      "1\n",
      "2\n",
      "3\n"
     ]
    }
   ],
   "source": [
    "current = queue.head\n",
    "\n",
    "while current:\n",
    "    print(current.value)\n",
    "    current = current.next "
   ]
  },
  {
   "cell_type": "code",
   "execution_count": 3,
   "id": "df18c032-74bf-43bc-9bce-b110844374e6",
   "metadata": {},
   "outputs": [
    {
     "data": {
      "text/plain": [
       "3"
      ]
     },
     "execution_count": 3,
     "metadata": {},
     "output_type": "execute_result"
    }
   ],
   "source": [
    "queue.tail.value"
   ]
  },
  {
   "cell_type": "code",
   "execution_count": 4,
   "id": "5d99a038-7a88-405e-8f93-6ca5be7206d8",
   "metadata": {},
   "outputs": [
    {
     "data": {
      "text/plain": [
       "3"
      ]
     },
     "execution_count": 4,
     "metadata": {},
     "output_type": "execute_result"
    }
   ],
   "source": [
    "queue.num_element"
   ]
  },
  {
   "cell_type": "markdown",
   "id": "c310fbc1-a4d6-4a00-9723-9a8c1788e342",
   "metadata": {},
   "source": [
    "### More methods"
   ]
  },
  {
   "cell_type": "code",
   "execution_count": 5,
   "id": "c6d6f38c-a25e-4a17-9a2a-7ee9fb8b4aed",
   "metadata": {},
   "outputs": [],
   "source": [
    "class Node:\n",
    "    def __init__(self,value):\n",
    "        self.value =value\n",
    "        self.next = None\n",
    "\n",
    "class Queue:\n",
    "    def __init__(self):\n",
    "        self.head = None\n",
    "        self.tail = None\n",
    "        self.num_element = 0\n",
    "        \n",
    "    def enqueue(self,value):\n",
    "        new_node = Node(value)\n",
    "        if self.head is None:\n",
    "            self.head = new_node\n",
    "            self.tail = new_node\n",
    "        else:\n",
    "            self.tail.next = new_node\n",
    "            self.tail = new_node\n",
    "        self.num_element += 1\n",
    "\n",
    "    def dequeue(self):\n",
    "        if self.head is None:\n",
    "            return None\n",
    "        current = self.head\n",
    "        self.head = current.next\n",
    "        self.num_element -= 1\n",
    "        return current.value\n",
    "\n",
    "    def size(self):\n",
    "        return self.num_element\n",
    "\n",
    "    def is_empty(self):\n",
    "        return self.num_element == 0\n"
   ]
  },
  {
   "cell_type": "markdown",
   "id": "8d1f10f8-0e83-4ee6-a593-09235927c0d7",
   "metadata": {},
   "source": [
    "### Build a Queue From Stacks"
   ]
  },
  {
   "cell_type": "code",
   "execution_count": null,
   "id": "3a4d5931-564c-4482-b2c2-0ef5bde42b53",
   "metadata": {},
   "outputs": [],
   "source": [
    "# Here is our Stack Class\n",
    "\n",
    "class Stack:\n",
    "    def __init__(self):\n",
    "        self.items = []\n",
    "    \n",
    "    def size(self):\n",
    "        return len(self.items)\n",
    "    \n",
    "    def push(self, item):\n",
    "        self.items.append(item)\n",
    "\n",
    "    def pop(self):\n",
    "        if self.size()==0:\n",
    "            return None\n",
    "        else:\n",
    "            return self.items.pop()\n",
    "\n",
    "class Queue:\n",
    "    def __init__(self):\n",
    "        # Code here\n",
    "        self.stack1 = Stack()\n",
    "        self.stack2 = Stack()\n",
    "        \n",
    "    def size(self):\n",
    "         # Code here\n",
    "        return self.stack1.size() + self.stack2.size()\n",
    "        \n",
    "    def enqueue(self,item):\n",
    "        # Code here\n",
    "        self.stack1.push(item)\n",
    "        \n",
    "    def dequeue(self):\n",
    "        # Code here\n",
    "        if self.stack2 is None:\n",
    "            while self.stack1 > 0:\n",
    "                self.stack2.push(self.stack1.pop())\n",
    "        if self.stack2.size() == 0:\n",
    "            return None\n",
    "                "
   ]
  },
  {
   "cell_type": "markdown",
   "id": "d8b5aa3f-c263-4f8c-bd25-6c31ee4c8b15",
   "metadata": {},
   "source": [
    "### Reversing a queue"
   ]
  },
  {
   "cell_type": "code",
   "execution_count": 1,
   "id": "1369c690-bd8f-4d76-9541-9f07d3b6f270",
   "metadata": {},
   "outputs": [],
   "source": [
    "class LinkedListNode:\n",
    "\n",
    "    def __init__(self, data):\n",
    "        self.data = data\n",
    "        self.next = None\n",
    "\n",
    "\n",
    "class Stack:\n",
    "\n",
    "    def __init__(self):\n",
    "        self.num_elements = 0\n",
    "        self.head = None\n",
    "\n",
    "    def push(self, data):\n",
    "        new_node = LinkedListNode(data)\n",
    "        if self.head is None:\n",
    "            self.head = new_node\n",
    "        else:\n",
    "            new_node.next = self.head\n",
    "            self.head = new_node\n",
    "        self.num_elements += 1\n",
    "\n",
    "    def pop(self):\n",
    "        if self.is_empty():\n",
    "            return None\n",
    "        temp = self.head.data\n",
    "        self.head = self.head.next\n",
    "        self.num_elements -= 1\n",
    "        return temp\n",
    "\n",
    "    def top(self):\n",
    "        if self.head is None:\n",
    "            return None\n",
    "        return self.head.data\n",
    "\n",
    "    def size(self):\n",
    "        return self.num_elements\n",
    "\n",
    "    def is_empty(self):\n",
    "        return self.num_elements == 0\n",
    "\n",
    "\n",
    "        \n",
    "class Queue:\n",
    "\n",
    "    def __init__(self):\n",
    "        self.head = None\n",
    "        self.tail = None\n",
    "        self.num_elements = 0\n",
    "\n",
    "    def enqueue(self, data):\n",
    "        new_node = LinkedListNode(data)\n",
    "        if self.head is None:\n",
    "            self.head = new_node\n",
    "            self.tail = new_node\n",
    "        else:\n",
    "            self.tail.next = new_node\n",
    "            self.tail = new_node\n",
    "        self.num_elements += 1\n",
    "\n",
    "    def dequeue(self):\n",
    "        if self.is_empty():\n",
    "            return None\n",
    "        temp = self.head.data\n",
    "        self.head = self.head.next\n",
    "        self.num_elements -= 1\n",
    "        return temp\n",
    "\n",
    "    def front(self):\n",
    "        if self.head is None:\n",
    "            return None\n",
    "        return self.head.data\n",
    "\n",
    "    def size(self):\n",
    "        return self.num_elements\n",
    "\n",
    "    def is_empty(self):\n",
    "        return self.num_elements == 0\n",
    "\n"
   ]
  },
  {
   "cell_type": "code",
   "execution_count": 5,
   "id": "513dbece-7865-4969-9129-e1581a7b6945",
   "metadata": {},
   "outputs": [],
   "source": [
    "def reverse_queue(queue):\n",
    "    \"\"\"\n",
    "    Reverese the input queue\n",
    "\n",
    "    Args:\n",
    "       queue(queue),str2(string): Queue to be reversed\n",
    "    Returns:\n",
    "       queue: Reveresed queue\n",
    "    \"\"\"\n",
    "    \n",
    "    # TODO: Write reversed queue function\n",
    "    if queue.head is None:\n",
    "        return None\n",
    "    current = queue.head\n",
    "    prev = None\n",
    "    while current:\n",
    "        next_node = current.next\n",
    "        current.next = prev\n",
    "        prev = current\n",
    "        current = next_node\n",
    "        \n",
    "    queue.head = prev\n",
    "    \n",
    "    return queue.head"
   ]
  },
  {
   "cell_type": "code",
   "execution_count": 2,
   "id": "e7db8c9f-df60-4fa1-b8c3-0a6e6bdecc8a",
   "metadata": {},
   "outputs": [],
   "source": [
    "queue = Queue()\n",
    "queue.enqueue(1)\n",
    "queue.enqueue(2)\n",
    "queue.enqueue(3)"
   ]
  },
  {
   "cell_type": "code",
   "execution_count": 7,
   "id": "c63299d5-6666-4102-b3cc-dc65cc68557a",
   "metadata": {},
   "outputs": [],
   "source": [
    "result = reverse_queue(queue)"
   ]
  },
  {
   "cell_type": "code",
   "execution_count": 15,
   "id": "efdf5d65-01a7-4c84-922f-7c23e1f31b1d",
   "metadata": {},
   "outputs": [
    {
     "data": {
      "text/plain": [
       "3"
      ]
     },
     "execution_count": 15,
     "metadata": {},
     "output_type": "execute_result"
    }
   ],
   "source": [
    "result.data"
   ]
  },
  {
   "cell_type": "markdown",
   "id": "95f17d84-4e44-43b4-b36f-d4c64f15bb54",
   "metadata": {},
   "source": [
    "A better way"
   ]
  },
  {
   "cell_type": "code",
   "execution_count": 4,
   "id": "0389cbdc-f992-489c-85e2-6f2d7aad57c0",
   "metadata": {},
   "outputs": [],
   "source": [
    "def reverse_queue(queue):\n",
    "    \"\"\"\n",
    "    Reverese the input queue\n",
    "\n",
    "    Args:\n",
    "       queue(queue),str2(string): Queue to be reversed\n",
    "    Returns:\n",
    "       queue: Reveresed queue\n",
    "    \"\"\"\n",
    "    \n",
    "    # TODO: Write reversed queue function\n",
    "    if queue.is_empty():\n",
    "        return None\n",
    "        \n",
    "    stack = Stack()\n",
    "\n",
    "    while not queue.is_empty():\n",
    "        stack.push(queue.dequeue())\n",
    "    while not stack.is_empty():\n",
    "        queue.enqueue(stack.pop())\n",
    "\n",
    "    return queue"
   ]
  },
  {
   "cell_type": "code",
   "execution_count": 4,
   "id": "80381b6f-2232-4b08-b6e0-5e2db847bfa1",
   "metadata": {},
   "outputs": [
    {
     "data": {
      "text/plain": [
       "1"
      ]
     },
     "execution_count": 4,
     "metadata": {},
     "output_type": "execute_result"
    }
   ],
   "source": [
    "current = reverse_queue(queue)\n",
    "\n",
    "current.tail.data"
   ]
  },
  {
   "cell_type": "code",
   "execution_count": null,
   "id": "e66106cb-064a-4582-a73c-570a6ff7f936",
   "metadata": {},
   "outputs": [],
   "source": []
  },
  {
   "cell_type": "code",
   "execution_count": 2,
   "id": "9013c8e4-c50a-4834-84c0-f1c036baf88c",
   "metadata": {},
   "outputs": [],
   "source": [
    "queue = Queue()\n",
    "\n",
    "queue.enqueue(1)\n",
    "queue.enqueue(2)\n",
    "queue.enqueue(3)"
   ]
  },
  {
   "cell_type": "code",
   "execution_count": 3,
   "id": "d71a0893-b009-40d3-8b02-5e3b8ad75919",
   "metadata": {},
   "outputs": [
    {
     "data": {
      "text/plain": [
       "(1, 3)"
      ]
     },
     "execution_count": 3,
     "metadata": {},
     "output_type": "execute_result"
    }
   ],
   "source": [
    "queue.head.data, queue.tail.data"
   ]
  },
  {
   "cell_type": "code",
   "execution_count": 5,
   "id": "97c4f622-823d-4afc-ab10-274a8842fd0a",
   "metadata": {},
   "outputs": [
    {
     "data": {
      "text/plain": [
       "(3, 1)"
      ]
     },
     "execution_count": 5,
     "metadata": {},
     "output_type": "execute_result"
    }
   ],
   "source": [
    "current = reverse_queue(queue)\n",
    "\n",
    "current.head.data, current.tail.data"
   ]
  },
  {
   "cell_type": "code",
   "execution_count": null,
   "id": "1e685bf3-88a6-48c6-a56f-c36325dd45ad",
   "metadata": {},
   "outputs": [],
   "source": []
  },
  {
   "cell_type": "code",
   "execution_count": null,
   "id": "441823b9-3ba9-4f31-bf9e-67f53ece8f85",
   "metadata": {},
   "outputs": [],
   "source": []
  },
  {
   "cell_type": "code",
   "execution_count": null,
   "id": "c7aa42e8-fe42-4538-8d8b-e0b5f5ab4f43",
   "metadata": {},
   "outputs": [],
   "source": []
  },
  {
   "cell_type": "code",
   "execution_count": null,
   "id": "8d91da29-4071-4088-be25-753740121b34",
   "metadata": {},
   "outputs": [],
   "source": []
  },
  {
   "cell_type": "code",
   "execution_count": null,
   "id": "b4561ebe-aaef-4dfa-bc94-cc765155ca72",
   "metadata": {},
   "outputs": [],
   "source": []
  },
  {
   "cell_type": "code",
   "execution_count": null,
   "id": "82eb756e-270b-4aab-b3d5-6445500d0f35",
   "metadata": {},
   "outputs": [],
   "source": []
  },
  {
   "cell_type": "code",
   "execution_count": null,
   "id": "eb58b863-813e-4f53-af1e-991b4205c71c",
   "metadata": {},
   "outputs": [],
   "source": []
  },
  {
   "cell_type": "code",
   "execution_count": null,
   "id": "a735dd83-a343-47ad-9129-2690d829a7fa",
   "metadata": {},
   "outputs": [],
   "source": []
  },
  {
   "cell_type": "code",
   "execution_count": null,
   "id": "98743433-92bf-45f9-99bb-413ed41b6dbb",
   "metadata": {},
   "outputs": [],
   "source": []
  },
  {
   "cell_type": "code",
   "execution_count": null,
   "id": "0c0dbff2-6b8d-4b84-b09a-72dec99a7708",
   "metadata": {},
   "outputs": [],
   "source": []
  },
  {
   "cell_type": "code",
   "execution_count": null,
   "id": "a1d00dba-a64f-461a-9f42-30c51f9f1178",
   "metadata": {},
   "outputs": [],
   "source": []
  }
 ],
 "metadata": {
  "kernelspec": {
   "display_name": "Python 3 (ipykernel)",
   "language": "python",
   "name": "python3"
  },
  "language_info": {
   "codemirror_mode": {
    "name": "ipython",
    "version": 3
   },
   "file_extension": ".py",
   "mimetype": "text/x-python",
   "name": "python",
   "nbconvert_exporter": "python",
   "pygments_lexer": "ipython3",
   "version": "3.11.5"
  }
 },
 "nbformat": 4,
 "nbformat_minor": 5
}
